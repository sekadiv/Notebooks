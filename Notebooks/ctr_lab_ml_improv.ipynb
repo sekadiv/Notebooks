{
 "cells": [
  {
   "cell_type": "code",
   "execution_count": 1,
   "metadata": {},
   "outputs": [
    {
     "data": {
      "application/vnd.jupyter.widget-view+json": {
       "model_id": "f30eb4f18be14685b0c339da467352dc",
       "version_major": 2,
       "version_minor": 0
      },
      "text/plain": [
       "VBox()"
      ]
     },
     "metadata": {},
     "output_type": "display_data"
    },
    {
     "name": "stdout",
     "output_type": "stream",
     "text": [
      "Starting Spark application\n"
     ]
    },
    {
     "data": {
      "text/html": [
       "<table>\n",
       "<tr><th>ID</th><th>YARN Application ID</th><th>Kind</th><th>State</th><th>Spark UI</th><th>Driver log</th><th>Current session?</th></tr><tr><td>0</td><td>application_1589623986229_0001</td><td>pyspark</td><td>idle</td><td><a target=\"_blank\" href=\"http://ip-172-31-92-100.ec2.internal:20888/proxy/application_1589623986229_0001/\">Link</a></td><td><a target=\"_blank\" href=\"http://ip-172-31-80-168.ec2.internal:8042/node/containerlogs/container_1589623986229_0001_01_000001/livy\">Link</a></td><td>✔</td></tr></table>"
      ],
      "text/plain": [
       "<IPython.core.display.HTML object>"
      ]
     },
     "metadata": {},
     "output_type": "display_data"
    },
    {
     "data": {
      "application/vnd.jupyter.widget-view+json": {
       "model_id": "",
       "version_major": 2,
       "version_minor": 0
      },
      "text/plain": [
       "FloatProgress(value=0.0, bar_style='info', description='Progress:', layout=Layout(height='25px', width='50%'),…"
      ]
     },
     "metadata": {},
     "output_type": "display_data"
    },
    {
     "name": "stdout",
     "output_type": "stream",
     "text": [
      "SparkSession available as 'spark'.\n"
     ]
    },
    {
     "data": {
      "application/vnd.jupyter.widget-view+json": {
       "model_id": "",
       "version_major": 2,
       "version_minor": 0
      },
      "text/plain": [
       "FloatProgress(value=0.0, bar_style='info', description='Progress:', layout=Layout(height='25px', width='50%'),…"
      ]
     },
     "metadata": {},
     "output_type": "display_data"
    },
    {
     "name": "stdout",
     "output_type": "stream",
     "text": [
      "root\n",
      " |-- click: boolean (nullable = true)\n",
      " |-- C1: integer (nullable = true)\n",
      " |-- banner_pos: integer (nullable = true)\n",
      " |-- site_id: string (nullable = true)\n",
      " |-- site_domain: string (nullable = true)\n",
      " |-- site_category: string (nullable = true)\n",
      " |-- app_id: string (nullable = true)\n",
      " |-- app_domain: string (nullable = true)\n",
      " |-- app_category: string (nullable = true)\n",
      " |-- device_id: string (nullable = true)\n",
      " |-- device_ip: string (nullable = true)\n",
      " |-- device_model: string (nullable = true)\n",
      " |-- device_type: integer (nullable = true)\n",
      " |-- device_conn_type: integer (nullable = true)\n",
      " |-- C14: integer (nullable = true)\n",
      " |-- C15: integer (nullable = true)\n",
      " |-- C16: integer (nullable = true)\n",
      " |-- C17: integer (nullable = true)\n",
      " |-- C18: integer (nullable = true)\n",
      " |-- C19: integer (nullable = true)\n",
      " |-- C20: integer (nullable = true)\n",
      " |-- C21: integer (nullable = true)\n",
      " |-- month: integer (nullable = true)\n",
      " |-- dayofweek: integer (nullable = true)\n",
      " |-- day: integer (nullable = true)\n",
      " |-- hour: integer (nullable = true)\n",
      " |-- y: integer (nullable = true)"
     ]
    }
   ],
   "source": [
    "#import the larger data set and draw a stratified sample from it. \n",
    "\n",
    "df = sqlContext.read.csv('s3a://.../10M.csv', header=True, inferSchema=True)\n",
    "\n",
    "from pyspark.sql.types import IntegerType\n",
    "from math import floor\n",
    "from pyspark.sql.functions import rand\n",
    "from pyspark.sql.functions import col\n",
    "\n",
    "def stratifiedSample(df, N, labelCol=\"y\"):\n",
    "    ctx = df.groupby(labelCol).count()\n",
    "    ctx = ctx.withColumn('frac', col(\"count\") / df.count())\n",
    "    frac = ctx.select(\"y\", \"frac\").rdd.collectAsMap()\n",
    "    pos = int(floor(frac[1] * N))\n",
    "    neg = int(floor(frac[0] * N))\n",
    "    posDF = df.filter(col(labelCol) == 1).orderBy(rand()).limit(pos)\n",
    "    negDF = df.filter(col(labelCol) == 0).orderBy(rand()).limit(neg)\n",
    "    return posDF.unionAll(negDF).orderBy(rand())\n",
    "\n",
    "df = df.withColumn(\"y\", df[\"click\"].cast(IntegerType()))\n",
    "xdf = stratifiedSample(df, 1_000_000)\n",
    "\n",
    "xdf.printSchema()"
   ]
  },
  {
   "cell_type": "code",
   "execution_count": 2,
   "metadata": {},
   "outputs": [
    {
     "data": {
      "application/vnd.jupyter.widget-view+json": {
       "model_id": "7a166ace34d34f93a9b52cdd22fa266c",
       "version_major": 2,
       "version_minor": 0
      },
      "text/plain": [
       "VBox()"
      ]
     },
     "metadata": {},
     "output_type": "display_data"
    },
    {
     "data": {
      "application/vnd.jupyter.widget-view+json": {
       "model_id": "",
       "version_major": 2,
       "version_minor": 0
      },
      "text/plain": [
       "FloatProgress(value=0.0, bar_style='info', description='Progress:', layout=Layout(height='25px', width='50%'),…"
      ]
     },
     "metadata": {},
     "output_type": "display_data"
    },
    {
     "name": "stdout",
     "output_type": "stream",
     "text": [
      "+----+----------+-----------+-------------+----------+------------+------------+-----------+----------------+-----+---+---+----+---+----+------+---+\n",
      "|  C1|banner_pos|site_domain|site_category|app_domain|app_category|device_model|device_type|device_conn_type|  C14|C15|C16| C17|C18| C19|   C20|C21|\n",
      "+----+----------+-----------+-------------+----------+------------+------------+-----------+----------------+-----+---+---+----+---+----+------+---+\n",
      "|1005|         0|   d262cf1e|     f66779e6|  7801e8d9|    07d7df22|    c1a17447|          1|               0|22202|320| 50|2558|  0| 417|100004|163|\n",
      "|1005|         0|   f3845767|     28905ebd|  7801e8d9|    07d7df22|    be87996b|          1|               2|15699|320| 50|1722|  0|  35|100084| 79|\n",
      "|1005|         1|   9cf7de2f|     f028772b|  7801e8d9|    07d7df22|    1ccc7835|          1|               0|16615|320| 50|1863|  3|  39|    -1| 23|\n",
      "|1005|         0|   c4e18dd6|     50e219e0|  5c5a694b|    0f2161f8|    d4897fef|          1|               0| 4687|320| 50| 423|  2|  39|100148| 32|\n",
      "|1005|         0|   c4e18dd6|     50e219e0|  6f7ca2ba|    0f2161f8|    1f0bc64f|          1|               0|23804|320| 50|2726|  3| 803|100034|229|\n",
      "|1005|         0|   f3845767|     28905ebd|  7801e8d9|    07d7df22|    2203a096|          1|               0|22106|320| 50|2545|  0|  35|100084|221|\n",
      "|1010|         1|   c4e18dd6|     50e219e0|  7801e8d9|    0f2161f8|    84ebbcd4|          4|               2|15705|320| 50|1722|  0|  35|    -1| 79|\n",
      "|1005|         1|   7e091613|     f028772b|  7801e8d9|    07d7df22|    d4897fef|          1|               0|22815|320| 50|2647|  2|  35|100148| 23|\n",
      "|1005|         0|   964a3bd1|     f028772b|  7801e8d9|    07d7df22|    d1cbe61f|          1|               0|22798|320| 50|2645|  3|  35|    -1| 23|\n",
      "|1005|         0|   f3845767|     28905ebd|  7801e8d9|    07d7df22|    8a4875bd|          1|               0|15699|320| 50|1722|  0|  35|    -1| 79|\n",
      "|1005|         0|   c4e18dd6|     50e219e0|  ae637522|    0f2161f8|    f8d834d0|          1|               3|21189|320| 50|2424|  1| 161|100189| 71|\n",
      "|1005|         0|   98572c79|     f028772b|  7801e8d9|    07d7df22|    d780319b|          1|               0|21833|320| 50|2522|  0|  35|    -1|221|\n",
      "|1005|         0|   f3845767|     28905ebd|  7801e8d9|    07d7df22|    7dc3b26e|          1|               0|15702|320| 50|1722|  0|  35|    -1| 79|\n",
      "|1005|         0|   f3845767|     28905ebd|  7801e8d9|    07d7df22|    f07e20f8|          1|               2|20108|320| 50|2299|  2|1327|100084| 52|\n",
      "|1005|         1|   7e091613|     f028772b|  7801e8d9|    07d7df22|    d4897fef|          1|               0|22142|320| 50|2550|  0| 547|100148| 51|\n",
      "|1005|         0|   c4e18dd6|     50e219e0|  5c5a694b|    0f2161f8|    4ceb2e0b|          1|               0| 4687|320| 50| 423|  2|  39|100148| 32|\n",
      "|1002|         0|   6ea6d031|     50e219e0|  7801e8d9|    07d7df22|    182d1bcd|          0|               0|21789|320| 50|2512|  2| 291|    -1| 52|\n",
      "|1005|         0|   ce307e01|     3e814130|  7801e8d9|    07d7df22|    fbc27727|          1|               0|19251|320| 50|2201|  3|  35|100103| 43|\n",
      "|1005|         1|   58a89a43|     f028772b|  7801e8d9|    07d7df22|    8a4875bd|          1|               0|22681|320| 50|2528|  0|  39|    -1|221|\n",
      "|1005|         1|   58a89a43|     f028772b|  7801e8d9|    07d7df22|    8a4875bd|          1|               0|16208|320| 50|1800|  3| 167|100079| 23|\n",
      "+----+----------+-----------+-------------+----------+------------+------------+-----------+----------------+-----+---+---+----+---+----+------+---+\n",
      "only showing top 20 rows"
     ]
    }
   ],
   "source": [
    "# Create the list of categorical columns to display them, \n",
    "\n",
    "cCols = ['C1', 'banner_pos', 'site_domain', 'site_category', 'app_domain',\n",
    "           'app_category', 'device_model', 'device_type', 'device_conn_type']\n",
    "cCols += ['C{}'.format(i) for i in range(14, 22)]\n",
    "xdf.select(*cCols).show()"
   ]
  },
  {
   "cell_type": "code",
   "execution_count": 3,
   "metadata": {},
   "outputs": [
    {
     "data": {
      "application/vnd.jupyter.widget-view+json": {
       "model_id": "5ac1783435084241a64722bccf448f6d",
       "version_major": 2,
       "version_minor": 0
      },
      "text/plain": [
       "VBox()"
      ]
     },
     "metadata": {},
     "output_type": "display_data"
    },
    {
     "data": {
      "application/vnd.jupyter.widget-view+json": {
       "model_id": "",
       "version_major": 2,
       "version_minor": 0
      },
      "text/plain": [
       "FloatProgress(value=0.0, bar_style='info', description='Progress:', layout=Layout(height='25px', width='50%'),…"
      ]
     },
     "metadata": {},
     "output_type": "display_data"
    }
   ],
   "source": [
    "# The catagorical columns which are represented as strings need to be string indexed. \n",
    "# Running these columns through the string indexer. \n",
    "\n",
    "from pyspark.ml.feature import StringIndexer, OneHotEncoderEstimator, VectorAssembler\n",
    "\n",
    "stringCols = ['site_domain', 'site_category', 'app_domain', 'app_category', 'device_model']\n",
    "for c in stringCols:\n",
    "    outCol = c + '_ix'\n",
    "    si = StringIndexer(inputCol=c, outputCol=outCol)\n",
    "    xdf = si.fit(xdf).transform(xdf)"
   ]
  },
  {
   "cell_type": "code",
   "execution_count": 4,
   "metadata": {},
   "outputs": [
    {
     "data": {
      "application/vnd.jupyter.widget-view+json": {
       "model_id": "a5f6a86d21394a97b1ff5ada270aeedf",
       "version_major": 2,
       "version_minor": 0
      },
      "text/plain": [
       "VBox()"
      ]
     },
     "metadata": {},
     "output_type": "display_data"
    },
    {
     "data": {
      "application/vnd.jupyter.widget-view+json": {
       "model_id": "",
       "version_major": 2,
       "version_minor": 0
      },
      "text/plain": [
       "FloatProgress(value=0.0, bar_style='info', description='Progress:', layout=Layout(height='25px', width='50%'),…"
      ]
     },
     "metadata": {},
     "output_type": "display_data"
    }
   ],
   "source": [
    "# The column C20 has negative values, the logistoc regression estimator cannot have negative catagorical values. \n",
    "# Handle columns C20 to make all its calues positve. \n",
    "\n",
    "from pyspark.sql.functions import udf\n",
    "from pyspark.sql.types import IntegerType\n",
    "\n",
    "posMapper = udf(lambda x: 0 if x < 0 else x)\n",
    "xdf = xdf.withColumn('C20_1', posMapper(xdf['C20']))\n",
    "xdf = xdf.withColumn(\"C20_1int\", xdf['C20_1'].cast(IntegerType()))\n",
    "\n",
    "categoricalCols = [c+'_ix' for c in ['site_domain', 'site_category', 'app_domain', 'app_category', 'device_model']]\n",
    "categoricalCols += ['C1', 'C14', 'C15', 'C16', 'C17', 'C19', 'C20_1int', 'C21']"
   ]
  },
  {
   "cell_type": "code",
   "execution_count": 5,
   "metadata": {},
   "outputs": [
    {
     "data": {
      "application/vnd.jupyter.widget-view+json": {
       "model_id": "1245751e45fb4d558c2b4ea1826b203a",
       "version_major": 2,
       "version_minor": 0
      },
      "text/plain": [
       "VBox()"
      ]
     },
     "metadata": {},
     "output_type": "display_data"
    },
    {
     "data": {
      "application/vnd.jupyter.widget-view+json": {
       "model_id": "",
       "version_major": 2,
       "version_minor": 0
      },
      "text/plain": [
       "FloatProgress(value=0.0, bar_style='info', description='Progress:', layout=Layout(height='25px', width='50%'),…"
      ]
     },
     "metadata": {},
     "output_type": "display_data"
    }
   ],
   "source": [
    "# Run all the catagorical columns through the one hot encoder\n",
    "# Including those which you got from the output of the string indexer. \n",
    "\n",
    "ohe = OneHotEncoderEstimator(inputCols=categoricalCols, outputCols=[c+'Enc' for c in categoricalCols])\n",
    "enc_model = ohe.fit(xdf)\n",
    "xdf = enc_model.transform(xdf)"
   ]
  },
  {
   "cell_type": "code",
   "execution_count": 6,
   "metadata": {},
   "outputs": [
    {
     "data": {
      "application/vnd.jupyter.widget-view+json": {
       "model_id": "686c16d442eb4267bf11ebdd55d5a2a7",
       "version_major": 2,
       "version_minor": 0
      },
      "text/plain": [
       "VBox()"
      ]
     },
     "metadata": {},
     "output_type": "display_data"
    },
    {
     "data": {
      "application/vnd.jupyter.widget-view+json": {
       "model_id": "",
       "version_major": 2,
       "version_minor": 0
      },
      "text/plain": [
       "FloatProgress(value=0.0, bar_style='info', description='Progress:', layout=Layout(height='25px', width='50%'),…"
      ]
     },
     "metadata": {},
     "output_type": "display_data"
    },
    {
     "name": "stdout",
     "output_type": "stream",
     "text": [
      "+-----+\n",
      "|month|\n",
      "+-----+\n",
      "|   10|\n",
      "+-----+"
     ]
    }
   ],
   "source": [
    "# Combine all the training columns in one list. \n",
    "# Drop the month column as there is no change in the column at all, so it does not effect the predictability of the model.\n",
    "\n",
    "trainCols = [c+'Enc' for c in categoricalCols]\n",
    "trainCols += ['hour', 'day', 'dayofweek']\n",
    "xdf.select('month').distinct().show()"
   ]
  },
  {
   "cell_type": "code",
   "execution_count": 7,
   "metadata": {},
   "outputs": [
    {
     "data": {
      "application/vnd.jupyter.widget-view+json": {
       "model_id": "06e2c79f5d8f491d968829777d594db3",
       "version_major": 2,
       "version_minor": 0
      },
      "text/plain": [
       "VBox()"
      ]
     },
     "metadata": {},
     "output_type": "display_data"
    },
    {
     "data": {
      "application/vnd.jupyter.widget-view+json": {
       "model_id": "",
       "version_major": 2,
       "version_minor": 0
      },
      "text/plain": [
       "FloatProgress(value=0.0, bar_style='info', description='Progress:', layout=Layout(height='25px', width='50%'),…"
      ]
     },
     "metadata": {},
     "output_type": "display_data"
    }
   ],
   "source": [
    "# Combine the all the feature columns into a single vector, called features. \n",
    "\n",
    "assembler = VectorAssembler(inputCols=trainCols, outputCol='features')\n",
    "xdf = assembler.transform(xdf)"
   ]
  },
  {
   "cell_type": "code",
   "execution_count": 8,
   "metadata": {},
   "outputs": [
    {
     "data": {
      "application/vnd.jupyter.widget-view+json": {
       "model_id": "29d64e9999c24e46998640954404a5d8",
       "version_major": 2,
       "version_minor": 0
      },
      "text/plain": [
       "VBox()"
      ]
     },
     "metadata": {},
     "output_type": "display_data"
    },
    {
     "data": {
      "application/vnd.jupyter.widget-view+json": {
       "model_id": "",
       "version_major": 2,
       "version_minor": 0
      },
      "text/plain": [
       "FloatProgress(value=0.0, bar_style='info', description='Progress:', layout=Layout(height='25px', width='50%'),…"
      ]
     },
     "metadata": {},
     "output_type": "display_data"
    }
   ],
   "source": [
    "# Create a logistic regression with with venilla settings and run it over the data frame. \n",
    "\n",
    "from pyspark.ml.classification import LogisticRegression\n",
    "\n",
    "lr = LogisticRegression(featuresCol='features', labelCol='y')\n",
    "model = lr.fit(xdf)\n",
    "result = model.evaluate(xdf)"
   ]
  },
  {
   "cell_type": "code",
   "execution_count": 9,
   "metadata": {},
   "outputs": [
    {
     "data": {
      "application/vnd.jupyter.widget-view+json": {
       "model_id": "4846a30917df42ebbc990a825f000204",
       "version_major": 2,
       "version_minor": 0
      },
      "text/plain": [
       "VBox()"
      ]
     },
     "metadata": {},
     "output_type": "display_data"
    },
    {
     "data": {
      "application/vnd.jupyter.widget-view+json": {
       "model_id": "",
       "version_major": 2,
       "version_minor": 0
      },
      "text/plain": [
       "FloatProgress(value=0.0, bar_style='info', description='Progress:', layout=Layout(height='25px', width='50%'),…"
      ]
     },
     "metadata": {},
     "output_type": "display_data"
    },
    {
     "name": "stdout",
     "output_type": "stream",
     "text": [
      "0.7467668629930857"
     ]
    }
   ],
   "source": [
    "result.areaUnderROC"
   ]
  },
  {
   "cell_type": "code",
   "execution_count": null,
   "metadata": {},
   "outputs": [],
   "source": [
    "result.recallByLabel"
   ]
  },
  {
   "cell_type": "code",
   "execution_count": null,
   "metadata": {},
   "outputs": [],
   "source": [
    "# draw a new sample from the dataset\n",
    "\n",
    "test = stratifiedSample(xdf, 100)"
   ]
  },
  {
   "cell_type": "code",
   "execution_count": null,
   "metadata": {},
   "outputs": [],
   "source": [
    "# Use the model to evaluate the dataframe\n",
    "# NOTE: the new sample is drawn from the same precessed data frame.\n",
    "# For the evaluate method to work the same feature vector needs to be present in the data frame\n",
    "# TIP: Draw a larger than needed dataset for preprocessing. Then splitit into train and test datasets before training. \n",
    "# This will ensure all the required prepocessing is done on the test dataset as well. \n",
    "\n",
    "test_results = model.evaluate(test)"
   ]
  },
  {
   "cell_type": "code",
   "execution_count": null,
   "metadata": {},
   "outputs": [],
   "source": [
    "# Get the transformed dataset with all the added columns, such as prediction, probability\n",
    "\n",
    "test_results.predictions.show()"
   ]
  }
 ],
 "metadata": {
  "kernelspec": {
   "display_name": "PySpark",
   "language": "",
   "name": "pysparkkernel"
  },
  "language_info": {
   "codemirror_mode": {
    "name": "python",
    "version": 3
   },
   "mimetype": "text/x-python",
   "name": "pyspark",
   "pygments_lexer": "python3"
  }
 },
 "nbformat": 4,
 "nbformat_minor": 4
}
