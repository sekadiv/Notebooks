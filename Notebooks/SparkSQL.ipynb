{
 "cells": [
  {
   "cell_type": "code",
   "execution_count": 1,
   "metadata": {},
   "outputs": [],
   "source": [
    "import os\n",
    "import sys\n",
    "os.environ[\"PYSPARK_PYTHON\"] = \"/home/ec2-user/spark-2.4.4-bin-hadoop2.7/python\"\n",
    "os.environ[\"JAVA_HOME\"] = \"/usr/java/jdk1.8.0_161/jre\"\n",
    "os.environ[\"SPARK_HOME\"] = \"/home/ec2-user/spark-2.4.4-bin-hadoop2.7\"\n",
    "os.environ[\"PYLIB\"] = os.environ[\"SPARK_HOME\"] + \"/python/lib\"\n",
    "sys.path.insert(0, os.environ[\"PYLIB\"] + \"/py4j-0.10.7-src.zip\")\n",
    "sys.path.insert(0, os.environ[\"PYLIB\"] + \"/pyspark.zip\")"
   ]
  },
  {
   "cell_type": "markdown",
   "metadata": {},
   "source": [
    "## Create a new spark session"
   ]
  },
  {
   "cell_type": "code",
   "execution_count": 2,
   "metadata": {},
   "outputs": [],
   "source": [
    "from pyspark.sql import SparkSession"
   ]
  },
  {
   "cell_type": "code",
   "execution_count": 3,
   "metadata": {},
   "outputs": [],
   "source": [
    "spark = SparkSession.builder.appName(\"SparkSQL\").getOrCreate()"
   ]
  },
  {
   "cell_type": "markdown",
   "metadata": {},
   "source": [
    "## Read data"
   ]
  },
  {
   "cell_type": "code",
   "execution_count": 5,
   "metadata": {},
   "outputs": [],
   "source": [
    "data = spark.read.csv('investments.csv',inferSchema=True, header=True)"
   ]
  },
  {
   "cell_type": "code",
   "execution_count": 6,
   "metadata": {},
   "outputs": [
    {
     "name": "stdout",
     "output_type": "stream",
     "text": [
      "+--------------------+------------------+--------------------+--------------------+--------------------+-------------------+---------+------------+----------+--------------------+-----------------+--------------+-------------------+-------------+---------------+------------+-------------------+-------------------+-------+-------+-------------------+-----------+----------------+--------------+-----+-----+--------------+---------------+-------------+----------------+--------------------+-------+-------+-------+-------+-------+-------+-------+-------+\n",
      "|           permalink|              name|        homepage_url|       category_list|             market | funding_total_usd |   status|country_code|state_code|              region|             city|funding_rounds|         founded_at|founded_month|founded_quarter|founded_year|   first_funding_at|    last_funding_at|   seed|venture|equity_crowdfunding|undisclosed|convertible_note|debt_financing|angel|grant|private_equity|post_ipo_equity|post_ipo_debt|secondary_market|product_crowdfunding|round_A|round_B|round_C|round_D|round_E|round_F|round_G|round_H|\n",
      "+--------------------+------------------+--------------------+--------------------+--------------------+-------------------+---------+------------+----------+--------------------+-----------------+--------------+-------------------+-------------+---------------+------------+-------------------+-------------------+-------+-------+-------------------+-----------+----------------+--------------+-----+-----+--------------+---------------+-------------+----------------+--------------------+-------+-------+-------+-------+-------+-------+-------+-------+\n",
      "|/organization/way...|          #waywire|http://www.waywir...||Entertainment|Po...|               News |         17,50,000 | acquired|         USA|        NY|       New York City|         New York|             1|2012-06-01 00:00:00|      2012-06|        2012-Q2|        2012|2012-06-30 00:00:00|2012-06-30 00:00:00|1750000|      0|                  0|          0|               0|             0|    0|    0|             0|              0|            0|               0|                   0|      0|      0|      0|      0|      0|      0|      0|      0|\n",
      "|/organization/tv-...|&TV Communications|http://enjoyandtv...|             |Games||              Games |         40,00,000 |operating|         USA|        CA|         Los Angeles|      Los Angeles|             2|               null|         null|           null|        null|2010-06-04 00:00:00|2010-09-23 00:00:00|      0|4000000|                  0|          0|               0|             0|    0|    0|             0|              0|            0|               0|                   0|      0|      0|      0|      0|      0|      0|      0|      0|\n",
      "|/organization/roc...| 'Rock' Your Paper|http://www.rockyo...||Publishing|Educa...|         Publishing |            40,000 |operating|         EST|      null|             Tallinn|          Tallinn|             1|2012-10-26 00:00:00|      2012-10|        2012-Q4|        2012|2012-08-09 00:00:00|2012-08-09 00:00:00|  40000|      0|                  0|          0|               0|             0|    0|    0|             0|              0|            0|               0|                   0|      0|      0|      0|      0|      0|      0|      0|      0|\n",
      "|/organization/in-...| (In)Touch Network|http://www.InTouc...||Electronics|Guid...|        Electronics |         15,00,000 |operating|         GBR|      null|              London|           London|             1|2011-04-01 00:00:00|      2011-04|        2011-Q2|        2011|2011-04-01 00:00:00|2011-04-01 00:00:00|1500000|      0|                  0|          0|               0|             0|    0|    0|             0|              0|            0|               0|                   0|      0|      0|      0|      0|      0|      0|      0|      0|\n",
      "|/organization/r-r...|-R- Ranch and Mine|                null||Tourism|Entertai...|            Tourism |            60,000 |operating|         USA|        TX|              Dallas|       Fort Worth|             2|2014-01-01 00:00:00|      2014-01|        2014-Q1|        2014|2014-08-17 00:00:00|2014-09-26 00:00:00|      0|      0|              60000|          0|               0|             0|    0|    0|             0|              0|            0|               0|                   0|      0|      0|      0|      0|      0|      0|      0|      0|\n",
      "|/organization/clu...|     .Club Domains|    http://nic.club/|          |Software||           Software |         70,00,000 |     null|         USA|        FL|      Ft. Lauderdale|     Oakland Park|             1|2011-10-10 00:00:00|      2011-10|        2011-Q4|        2011|2013-05-31 00:00:00|2013-05-31 00:00:00|      0|7000000|                  0|          0|               0|             0|    0|    0|             0|              0|            0|               0|                   0|      0|7000000|      0|      0|      0|      0|      0|      0|\n",
      "|/organization/fox...|     .Fox Networks|http://www.dotfox...|       |Advertising||        Advertising |         49,12,393 |   closed|         ARG|      null|        Buenos Aires|     Buenos Aires|             1|               null|         null|           null|        null|2007-01-16 00:00:00|2007-01-16 00:00:00|      0|      0|                  0|    4912393|               0|             0|    0|    0|             0|              0|            0|               0|                   0|      0|      0|      0|      0|      0|      0|      0|      0|\n",
      "|/organization/0-6...|           0-6.com|  http://www.0-6.com|       |Curated Web||        Curated Web |         20,00,000 |operating|        null|      null|                null|             null|             1|2007-01-01 00:00:00|      2007-01|        2007-Q1|        2007|2008-03-19 00:00:00|2008-03-19 00:00:00|      0|2000000|                  0|          0|               0|             0|    0|    0|             0|              0|            0|               0|                   0|2000000|      0|      0|      0|      0|      0|      0|      0|\n",
      "|/organization/004...|  004 Technologies|http://004gmbh.de...|          |Software||           Software |               -   |operating|         USA|        IL|Springfield, Illi...|        Champaign|             1|2010-01-01 00:00:00|      2010-01|        2010-Q1|        2010|2014-07-24 00:00:00|2014-07-24 00:00:00|      0|      0|                  0|          0|               0|             0|    0|    0|             0|              0|            0|               0|                   0|      0|      0|      0|      0|      0|      0|      0|      0|\n",
      "|/organization/01g...|01Games Technology|http://www.01game...|             |Games||              Games |            41,250 |operating|         HKG|      null|           Hong Kong|        Hong Kong|             1|               null|         null|           null|        null|2014-07-01 00:00:00|2014-07-01 00:00:00|  41250|      0|                  0|          0|               0|             0|    0|    0|             0|              0|            0|               0|                   0|      0|      0|      0|      0|      0|      0|      0|      0|\n",
      "|/organization/1-2...|       1,2,3 Listo|http://www.123lis...|        |E-Commerce||         E-Commerce |            40,000 |operating|         CHL|      null|            Santiago|       Las Condes|             1|2012-01-01 00:00:00|      2012-01|        2012-Q1|        2012|2013-02-18 00:00:00|2013-02-18 00:00:00|  40000|      0|                  0|          0|               0|             0|    0|    0|             0|              0|            0|               0|                   0|      0|      0|      0|      0|      0|      0|      0|      0|\n",
      "|/organization/1-4...|           1-4 All|                null||Entertainment|Ga...|           Software |               -   |operating|         USA|        NC|          NC - Other|Connellys Springs|             1|               null|         null|           null|        null|2013-04-21 00:00:00|2013-04-21 00:00:00|      0|      0|                  0|          0|               0|             0|    0|    0|             0|              0|            0|               0|                   0|      0|      0|      0|      0|      0|      0|      0|      0|\n",
      "|/organization/1-8...|     1-800-DENTIST|http://www.1800de...||Health and Welln...| Health and Welln...|               -   |operating|         USA|        CA|         Los Angeles|      Los Angeles|             1|1986-01-01 00:00:00|      1986-01|        1986-Q1|        1986|2010-08-19 00:00:00|2010-08-19 00:00:00|      0|      0|                  0|          0|               0|             0|    0|    0|             0|              0|            0|               0|                   0|      0|      0|      0|      0|      0|      0|      0|      0|\n",
      "|/organization/1-8...|     1-800-DOCTORS|http://1800doctor...||Health and Welln...| Health and Welln...|         17,50,000 |operating|         USA|        NJ|              Newark|           Iselin|             1|1984-01-01 00:00:00|      1984-01|        1984-Q1|        1984|2011-03-02 00:00:00|2011-03-02 00:00:00|      0|      0|                  0|          0|         1750000|             0|    0|    0|             0|              0|            0|               0|                   0|      0|      0|      0|      0|      0|      0|      0|      0|\n",
      "|/organization/1-6...|  1.618 Technology|                null|       |Real Estate||        Real Estate |               -   |operating|         USA|        FL|             Orlando|          Orlando|             1|2013-12-07 00:00:00|      2013-12|        2013-Q4|        2013|2014-01-22 00:00:00|2014-01-22 00:00:00|      0|      0|                  0|          0|               0|             0|    0|    0|             0|              0|            0|               0|                   0|      0|      0|      0|      0|      0|      0|      0|      0|\n",
      "|/organization/10-...|   10 Minutes With|http://10minutesw...|         |Education||          Education |         44,00,000 |operating|         GBR|      null|              London|           London|             2|2013-01-01 00:00:00|      2013-01|        2013-Q1|        2013|2013-01-01 00:00:00|2014-10-09 00:00:00| 400000|4000000|                  0|          0|               0|             0|    0|    0|             0|              0|            0|               0|                   0|4000000|      0|      0|      0|      0|      0|      0|      0|\n",
      "|/organization/10-...|       10-20 Media|http://www.10-20m...|        |E-Commerce||         E-Commerce |         20,50,000 |operating|         USA|        MD|           Baltimore|         Woodbine|             4|2001-01-01 00:00:00|      2001-01|        2001-Q1|        2001|2009-06-18 00:00:00|2011-12-28 00:00:00|      0|      0|                  0|          0|               0|       2050000|    0|    0|             0|              0|            0|               0|                   0|      0|      0|      0|      0|      0|      0|      0|      0|\n",
      "|/organization/100...|        1000 Corks|http://1000corks.com|            |Search||             Search |            40,000 |operating|         USA|        OR|    Portland, Oregon|      Lake Oswego|             1|2008-01-01 00:00:00|      2008-01|        2008-Q1|        2008|2011-08-23 00:00:00|2011-08-23 00:00:00|  40000|      0|                  0|          0|               0|             0|    0|    0|             0|              0|            0|               0|                   0|      0|      0|      0|      0|      0|      0|      0|      0|\n",
      "|/organization/100...|      1000 Markets|http://www.1000ma...||Marketplaces|Art...|       Marketplaces |          5,00,000 | acquired|        null|      null|                null|             null|             1|2009-01-01 00:00:00|      2009-01|        2009-Q1|        2009|2009-05-15 00:00:00|2009-05-15 00:00:00| 500000|      0|                  0|          0|               0|             0|    0|    0|             0|              0|            0|               0|                   0|      0|      0|      0|      0|      0|      0|      0|      0|\n",
      "|/organization/100...| 1000jobboersen.de|http://www.1000jo...|       |Curated Web||        Curated Web |               -   |operating|         DEU|      null|              Berlin|           Berlin|             1|               null|         null|           null|        null|2011-09-16 00:00:00|2011-09-16 00:00:00|      0|      0|                  0|          0|               0|             0|    0|    0|             0|              0|            0|               0|                   0|      0|      0|      0|      0|      0|      0|      0|      0|\n",
      "+--------------------+------------------+--------------------+--------------------+--------------------+-------------------+---------+------------+----------+--------------------+-----------------+--------------+-------------------+-------------+---------------+------------+-------------------+-------------------+-------+-------+-------------------+-----------+----------------+--------------+-----+-----+--------------+---------------+-------------+----------------+--------------------+-------+-------+-------+-------+-------+-------+-------+-------+\n",
      "only showing top 20 rows\n",
      "\n"
     ]
    }
   ],
   "source": [
    "data.show()"
   ]
  },
  {
   "cell_type": "code",
   "execution_count": 7,
   "metadata": {},
   "outputs": [
    {
     "data": {
      "text/plain": [
       "['permalink',\n",
       " 'name',\n",
       " 'homepage_url',\n",
       " 'category_list',\n",
       " ' market ',\n",
       " ' funding_total_usd ',\n",
       " 'status',\n",
       " 'country_code',\n",
       " 'state_code',\n",
       " 'region',\n",
       " 'city',\n",
       " 'funding_rounds',\n",
       " 'founded_at',\n",
       " 'founded_month',\n",
       " 'founded_quarter',\n",
       " 'founded_year',\n",
       " 'first_funding_at',\n",
       " 'last_funding_at',\n",
       " 'seed',\n",
       " 'venture',\n",
       " 'equity_crowdfunding',\n",
       " 'undisclosed',\n",
       " 'convertible_note',\n",
       " 'debt_financing',\n",
       " 'angel',\n",
       " 'grant',\n",
       " 'private_equity',\n",
       " 'post_ipo_equity',\n",
       " 'post_ipo_debt',\n",
       " 'secondary_market',\n",
       " 'product_crowdfunding',\n",
       " 'round_A',\n",
       " 'round_B',\n",
       " 'round_C',\n",
       " 'round_D',\n",
       " 'round_E',\n",
       " 'round_F',\n",
       " 'round_G',\n",
       " 'round_H']"
      ]
     },
     "execution_count": 7,
     "metadata": {},
     "output_type": "execute_result"
    }
   ],
   "source": [
    "data.columns"
   ]
  },
  {
   "cell_type": "code",
   "execution_count": 8,
   "metadata": {},
   "outputs": [
    {
     "name": "stdout",
     "output_type": "stream",
     "text": [
      "root\n",
      " |-- permalink: string (nullable = true)\n",
      " |-- name: string (nullable = true)\n",
      " |-- homepage_url: string (nullable = true)\n",
      " |-- category_list: string (nullable = true)\n",
      " |--  market : string (nullable = true)\n",
      " |--  funding_total_usd : string (nullable = true)\n",
      " |-- status: string (nullable = true)\n",
      " |-- country_code: string (nullable = true)\n",
      " |-- state_code: string (nullable = true)\n",
      " |-- region: string (nullable = true)\n",
      " |-- city: string (nullable = true)\n",
      " |-- funding_rounds: integer (nullable = true)\n",
      " |-- founded_at: timestamp (nullable = true)\n",
      " |-- founded_month: string (nullable = true)\n",
      " |-- founded_quarter: string (nullable = true)\n",
      " |-- founded_year: integer (nullable = true)\n",
      " |-- first_funding_at: timestamp (nullable = true)\n",
      " |-- last_funding_at: timestamp (nullable = true)\n",
      " |-- seed: integer (nullable = true)\n",
      " |-- venture: long (nullable = true)\n",
      " |-- equity_crowdfunding: integer (nullable = true)\n",
      " |-- undisclosed: integer (nullable = true)\n",
      " |-- convertible_note: integer (nullable = true)\n",
      " |-- debt_financing: long (nullable = true)\n",
      " |-- angel: integer (nullable = true)\n",
      " |-- grant: integer (nullable = true)\n",
      " |-- private_equity: long (nullable = true)\n",
      " |-- post_ipo_equity: long (nullable = true)\n",
      " |-- post_ipo_debt: long (nullable = true)\n",
      " |-- secondary_market: integer (nullable = true)\n",
      " |-- product_crowdfunding: integer (nullable = true)\n",
      " |-- round_A: integer (nullable = true)\n",
      " |-- round_B: integer (nullable = true)\n",
      " |-- round_C: integer (nullable = true)\n",
      " |-- round_D: integer (nullable = true)\n",
      " |-- round_E: integer (nullable = true)\n",
      " |-- round_F: integer (nullable = true)\n",
      " |-- round_G: integer (nullable = true)\n",
      " |-- round_H: integer (nullable = true)\n",
      "\n"
     ]
    }
   ],
   "source": [
    "data.printSchema()"
   ]
  },
  {
   "cell_type": "code",
   "execution_count": null,
   "metadata": {},
   "outputs": [],
   "source": []
  },
  {
   "cell_type": "markdown",
   "metadata": {},
   "source": [
    "## Create a temprary table"
   ]
  },
  {
   "cell_type": "markdown",
   "metadata": {},
   "source": [
    "This is an essential step to use a SQL query"
   ]
  },
  {
   "cell_type": "code",
   "execution_count": 9,
   "metadata": {},
   "outputs": [],
   "source": [
    "data.createOrReplaceTempView('investment')"
   ]
  },
  {
   "cell_type": "code",
   "execution_count": 10,
   "metadata": {},
   "outputs": [
    {
     "name": "stdout",
     "output_type": "stream",
     "text": [
      "+--------------------+------------------+--------------------+--------------------+-------------+-------------------+---------+------------+----------+--------------------+------------+--------------+-------------------+-------------+---------------+------------+-------------------+-------------------+-------+-------+-------------------+-----------+----------------+--------------+-----+-----+--------------+---------------+-------------+----------------+--------------------+-------+-------+-------+-------+-------+-------+-------+-------+\n",
      "|           permalink|              name|        homepage_url|       category_list|      market | funding_total_usd |   status|country_code|state_code|              region|        city|funding_rounds|         founded_at|founded_month|founded_quarter|founded_year|   first_funding_at|    last_funding_at|   seed|venture|equity_crowdfunding|undisclosed|convertible_note|debt_financing|angel|grant|private_equity|post_ipo_equity|post_ipo_debt|secondary_market|product_crowdfunding|round_A|round_B|round_C|round_D|round_E|round_F|round_G|round_H|\n",
      "+--------------------+------------------+--------------------+--------------------+-------------+-------------------+---------+------------+----------+--------------------+------------+--------------+-------------------+-------------+---------------+------------+-------------------+-------------------+-------+-------+-------------------+-----------+----------------+--------------+-----+-----+--------------+---------------+-------------+----------------+--------------------+-------+-------+-------+-------+-------+-------+-------+-------+\n",
      "|/organization/way...|          #waywire|http://www.waywir...||Entertainment|Po...|        News |         17,50,000 | acquired|         USA|        NY|       New York City|    New York|             1|2012-06-01 00:00:00|      2012-06|        2012-Q2|        2012|2012-06-30 00:00:00|2012-06-30 00:00:00|1750000|      0|                  0|          0|               0|             0|    0|    0|             0|              0|            0|               0|                   0|      0|      0|      0|      0|      0|      0|      0|      0|\n",
      "|/organization/tv-...|&TV Communications|http://enjoyandtv...|             |Games||       Games |         40,00,000 |operating|         USA|        CA|         Los Angeles| Los Angeles|             2|               null|         null|           null|        null|2010-06-04 00:00:00|2010-09-23 00:00:00|      0|4000000|                  0|          0|               0|             0|    0|    0|             0|              0|            0|               0|                   0|      0|      0|      0|      0|      0|      0|      0|      0|\n",
      "|/organization/roc...| 'Rock' Your Paper|http://www.rockyo...||Publishing|Educa...|  Publishing |            40,000 |operating|         EST|      null|             Tallinn|     Tallinn|             1|2012-10-26 00:00:00|      2012-10|        2012-Q4|        2012|2012-08-09 00:00:00|2012-08-09 00:00:00|  40000|      0|                  0|          0|               0|             0|    0|    0|             0|              0|            0|               0|                   0|      0|      0|      0|      0|      0|      0|      0|      0|\n",
      "|/organization/in-...| (In)Touch Network|http://www.InTouc...||Electronics|Guid...| Electronics |         15,00,000 |operating|         GBR|      null|              London|      London|             1|2011-04-01 00:00:00|      2011-04|        2011-Q2|        2011|2011-04-01 00:00:00|2011-04-01 00:00:00|1500000|      0|                  0|          0|               0|             0|    0|    0|             0|              0|            0|               0|                   0|      0|      0|      0|      0|      0|      0|      0|      0|\n",
      "|/organization/r-r...|-R- Ranch and Mine|                null||Tourism|Entertai...|     Tourism |            60,000 |operating|         USA|        TX|              Dallas|  Fort Worth|             2|2014-01-01 00:00:00|      2014-01|        2014-Q1|        2014|2014-08-17 00:00:00|2014-09-26 00:00:00|      0|      0|              60000|          0|               0|             0|    0|    0|             0|              0|            0|               0|                   0|      0|      0|      0|      0|      0|      0|      0|      0|\n",
      "|/organization/clu...|     .Club Domains|    http://nic.club/|          |Software||    Software |         70,00,000 |     null|         USA|        FL|      Ft. Lauderdale|Oakland Park|             1|2011-10-10 00:00:00|      2011-10|        2011-Q4|        2011|2013-05-31 00:00:00|2013-05-31 00:00:00|      0|7000000|                  0|          0|               0|             0|    0|    0|             0|              0|            0|               0|                   0|      0|7000000|      0|      0|      0|      0|      0|      0|\n",
      "|/organization/fox...|     .Fox Networks|http://www.dotfox...|       |Advertising|| Advertising |         49,12,393 |   closed|         ARG|      null|        Buenos Aires|Buenos Aires|             1|               null|         null|           null|        null|2007-01-16 00:00:00|2007-01-16 00:00:00|      0|      0|                  0|    4912393|               0|             0|    0|    0|             0|              0|            0|               0|                   0|      0|      0|      0|      0|      0|      0|      0|      0|\n",
      "|/organization/0-6...|           0-6.com|  http://www.0-6.com|       |Curated Web|| Curated Web |         20,00,000 |operating|        null|      null|                null|        null|             1|2007-01-01 00:00:00|      2007-01|        2007-Q1|        2007|2008-03-19 00:00:00|2008-03-19 00:00:00|      0|2000000|                  0|          0|               0|             0|    0|    0|             0|              0|            0|               0|                   0|2000000|      0|      0|      0|      0|      0|      0|      0|\n",
      "|/organization/004...|  004 Technologies|http://004gmbh.de...|          |Software||    Software |               -   |operating|         USA|        IL|Springfield, Illi...|   Champaign|             1|2010-01-01 00:00:00|      2010-01|        2010-Q1|        2010|2014-07-24 00:00:00|2014-07-24 00:00:00|      0|      0|                  0|          0|               0|             0|    0|    0|             0|              0|            0|               0|                   0|      0|      0|      0|      0|      0|      0|      0|      0|\n",
      "|/organization/01g...|01Games Technology|http://www.01game...|             |Games||       Games |            41,250 |operating|         HKG|      null|           Hong Kong|   Hong Kong|             1|               null|         null|           null|        null|2014-07-01 00:00:00|2014-07-01 00:00:00|  41250|      0|                  0|          0|               0|             0|    0|    0|             0|              0|            0|               0|                   0|      0|      0|      0|      0|      0|      0|      0|      0|\n",
      "+--------------------+------------------+--------------------+--------------------+-------------+-------------------+---------+------------+----------+--------------------+------------+--------------+-------------------+-------------+---------------+------------+-------------------+-------------------+-------+-------+-------------------+-----------+----------------+--------------+-----+-----+--------------+---------------+-------------+----------------+--------------------+-------+-------+-------+-------+-------+-------+-------+-------+\n",
      "\n"
     ]
    }
   ],
   "source": [
    "spark.sql(\"select * from investment limit 10\").show()"
   ]
  },
  {
   "cell_type": "code",
   "execution_count": 11,
   "metadata": {},
   "outputs": [
    {
     "name": "stdout",
     "output_type": "stream",
     "text": [
      "+--------------------+------------------+--------------------+--------------------+--------------------+-------------------+---------+------------+----------+--------------------+-----------------+--------------+-------------------+-------------+---------------+------------+-------------------+-------------------+-------+--------+-------------------+-----------+----------------+--------------+-----+-----+--------------+---------------+-------------+----------------+--------------------+-------+-------+-------+-------+-------+-------+-------+-------+\n",
      "|           permalink|              name|        homepage_url|       category_list|             market | funding_total_usd |   status|country_code|state_code|              region|             city|funding_rounds|         founded_at|founded_month|founded_quarter|founded_year|   first_funding_at|    last_funding_at|   seed| venture|equity_crowdfunding|undisclosed|convertible_note|debt_financing|angel|grant|private_equity|post_ipo_equity|post_ipo_debt|secondary_market|product_crowdfunding|round_A|round_B|round_C|round_D|round_E|round_F|round_G|round_H|\n",
      "+--------------------+------------------+--------------------+--------------------+--------------------+-------------------+---------+------------+----------+--------------------+-----------------+--------------+-------------------+-------------+---------------+------------+-------------------+-------------------+-------+--------+-------------------+-----------+----------------+--------------+-----+-----+--------------+---------------+-------------+----------------+--------------------+-------+-------+-------+-------+-------+-------+-------+-------+\n",
      "|/organization/way...|          #waywire|http://www.waywir...||Entertainment|Po...|               News |         17,50,000 | acquired|         USA|        NY|       New York City|         New York|             1|2012-06-01 00:00:00|      2012-06|        2012-Q2|        2012|2012-06-30 00:00:00|2012-06-30 00:00:00|1750000|       0|                  0|          0|               0|             0|    0|    0|             0|              0|            0|               0|                   0|      0|      0|      0|      0|      0|      0|      0|      0|\n",
      "|/organization/tv-...|&TV Communications|http://enjoyandtv...|             |Games||              Games |         40,00,000 |operating|         USA|        CA|         Los Angeles|      Los Angeles|             2|               null|         null|           null|        null|2010-06-04 00:00:00|2010-09-23 00:00:00|      0| 4000000|                  0|          0|               0|             0|    0|    0|             0|              0|            0|               0|                   0|      0|      0|      0|      0|      0|      0|      0|      0|\n",
      "|/organization/r-r...|-R- Ranch and Mine|                null||Tourism|Entertai...|            Tourism |            60,000 |operating|         USA|        TX|              Dallas|       Fort Worth|             2|2014-01-01 00:00:00|      2014-01|        2014-Q1|        2014|2014-08-17 00:00:00|2014-09-26 00:00:00|      0|       0|              60000|          0|               0|             0|    0|    0|             0|              0|            0|               0|                   0|      0|      0|      0|      0|      0|      0|      0|      0|\n",
      "|/organization/clu...|     .Club Domains|    http://nic.club/|          |Software||           Software |         70,00,000 |     null|         USA|        FL|      Ft. Lauderdale|     Oakland Park|             1|2011-10-10 00:00:00|      2011-10|        2011-Q4|        2011|2013-05-31 00:00:00|2013-05-31 00:00:00|      0| 7000000|                  0|          0|               0|             0|    0|    0|             0|              0|            0|               0|                   0|      0|7000000|      0|      0|      0|      0|      0|      0|\n",
      "|/organization/004...|  004 Technologies|http://004gmbh.de...|          |Software||           Software |               -   |operating|         USA|        IL|Springfield, Illi...|        Champaign|             1|2010-01-01 00:00:00|      2010-01|        2010-Q1|        2010|2014-07-24 00:00:00|2014-07-24 00:00:00|      0|       0|                  0|          0|               0|             0|    0|    0|             0|              0|            0|               0|                   0|      0|      0|      0|      0|      0|      0|      0|      0|\n",
      "|/organization/1-4...|           1-4 All|                null||Entertainment|Ga...|           Software |               -   |operating|         USA|        NC|          NC - Other|Connellys Springs|             1|               null|         null|           null|        null|2013-04-21 00:00:00|2013-04-21 00:00:00|      0|       0|                  0|          0|               0|             0|    0|    0|             0|              0|            0|               0|                   0|      0|      0|      0|      0|      0|      0|      0|      0|\n",
      "|/organization/1-8...|     1-800-DENTIST|http://www.1800de...||Health and Welln...| Health and Welln...|               -   |operating|         USA|        CA|         Los Angeles|      Los Angeles|             1|1986-01-01 00:00:00|      1986-01|        1986-Q1|        1986|2010-08-19 00:00:00|2010-08-19 00:00:00|      0|       0|                  0|          0|               0|             0|    0|    0|             0|              0|            0|               0|                   0|      0|      0|      0|      0|      0|      0|      0|      0|\n",
      "|/organization/1-8...|     1-800-DOCTORS|http://1800doctor...||Health and Welln...| Health and Welln...|         17,50,000 |operating|         USA|        NJ|              Newark|           Iselin|             1|1984-01-01 00:00:00|      1984-01|        1984-Q1|        1984|2011-03-02 00:00:00|2011-03-02 00:00:00|      0|       0|                  0|          0|         1750000|             0|    0|    0|             0|              0|            0|               0|                   0|      0|      0|      0|      0|      0|      0|      0|      0|\n",
      "|/organization/1-6...|  1.618 Technology|                null|       |Real Estate||        Real Estate |               -   |operating|         USA|        FL|             Orlando|          Orlando|             1|2013-12-07 00:00:00|      2013-12|        2013-Q4|        2013|2014-01-22 00:00:00|2014-01-22 00:00:00|      0|       0|                  0|          0|               0|             0|    0|    0|             0|              0|            0|               0|                   0|      0|      0|      0|      0|      0|      0|      0|      0|\n",
      "|/organization/10-...|       10-20 Media|http://www.10-20m...|        |E-Commerce||         E-Commerce |         20,50,000 |operating|         USA|        MD|           Baltimore|         Woodbine|             4|2001-01-01 00:00:00|      2001-01|        2001-Q1|        2001|2009-06-18 00:00:00|2011-12-28 00:00:00|      0|       0|                  0|          0|               0|       2050000|    0|    0|             0|              0|            0|               0|                   0|      0|      0|      0|      0|      0|      0|      0|      0|\n",
      "|/organization/100...|        1000 Corks|http://1000corks.com|            |Search||             Search |            40,000 |operating|         USA|        OR|    Portland, Oregon|      Lake Oswego|             1|2008-01-01 00:00:00|      2008-01|        2008-Q1|        2008|2011-08-23 00:00:00|2011-08-23 00:00:00|  40000|       0|                  0|          0|               0|             0|    0|    0|             0|              0|            0|               0|                   0|      0|      0|      0|      0|      0|      0|      0|      0|\n",
      "|/organization/100...|      1000memories|http://1000memori...|       |Curated Web||        Curated Web |         25,35,000 | acquired|         USA|        CA|         SF Bay Area|    San Francisco|             2|2010-07-01 00:00:00|      2010-07|        2010-Q3|        2010|2010-01-01 00:00:00|2011-02-16 00:00:00|  15000| 2520000|                  0|          0|               0|             0|    0|    0|             0|              0|            0|               0|                   0|2520000|      0|      0|      0|      0|      0|      0|      0|\n",
      "|/organization/100...|   1000museums.com|http://www.1000mu...|       |Curated Web||        Curated Web |         49,62,651 |operating|         USA|        WA|             Seattle|         Bellevue|             6|2008-01-01 00:00:00|      2008-01|        2008-Q1|        2008|2009-10-14 00:00:00|2014-09-19 00:00:00|      0| 3814772|                  0|          0|               0|       1147879|    0|    0|             0|              0|            0|               0|                   0|      0|      0|      0|      0|      0|      0|      0|      0|\n",
      "|/organization/100...|         100health|http://www.redoxe...||Health Care Info...| Health Care Info...|          4,20,000 |operating|         USA|        WI|             Madison|          Madison|             1|2014-07-04 00:00:00|      2014-07|        2014-Q3|        2014|2014-11-26 00:00:00|2014-11-26 00:00:00| 420000|       0|                  0|          0|               0|             0|    0|    0|             0|              0|            0|               0|                   0|      0|      0|      0|      0|      0|      0|      0|      0|\n",
      "|/organization/100...|           100Plus|http://www.100plu...|         |Analytics||          Analytics |         12,50,000 | acquired|         USA|        CA|         SF Bay Area|    San Francisco|             2|2011-09-16 00:00:00|      2011-09|        2011-Q3|        2011|2011-11-02 00:00:00|2011-11-30 00:00:00| 750000|  500000|                  0|          0|               0|             0|    0|    0|             0|              0|            0|               0|                   0|      0|      0|      0|      0|      0|      0|      0|      0|\n",
      "|/organization/101...|          1010data|http://www.1010da...|          |Software||           Software |       3,50,00,000 |operating|         USA|        NY|       New York City|         New York|             1|2000-01-01 00:00:00|      2000-01|        2000-Q1|        2000|2010-03-08 00:00:00|2010-03-08 00:00:00|      0|35000000|                  0|          0|               0|             0|    0|    0|             0|              0|            0|               0|                   0|      0|      0|      0|      0|      0|      0|      0|      0|\n",
      "|/organization/10b...|      10BestThings|http://10bestthin...|       |Curated Web||        Curated Web |            50,000 |   closed|         USA|        OH|           Cleveland|        Cleveland|             1|2009-04-01 00:00:00|      2009-04|        2009-Q2|        2009|2009-04-01 00:00:00|2009-04-01 00:00:00|  50000|       0|                  0|          0|               0|             0|    0|    0|             0|              0|            0|               0|                   0|      0|      0|      0|      0|      0|      0|      0|      0|\n",
      "| /organization/10six|             10Six|http://10sixenerg...||Electronics|Batt...|        Electronics |               -   |operating|         USA|        NY|       New York City|         New York|             1|               null|         null|           null|        null|2014-02-01 00:00:00|2014-02-01 00:00:00|      0|       0|                  0|          0|               0|             0|    0|    0|             0|              0|            0|               0|                   0|      0|      0|      0|      0|      0|      0|      0|      0|\n",
      "|/organization/10x...|  10X Technologies|http://10xtechnol...|     |Biotechnology||      Biotechnology |         30,00,000 |operating|         USA|        CA|         SF Bay Area|          Oakland|             1|2012-01-01 00:00:00|      2012-01|        2012-Q1|        2012|2012-11-07 00:00:00|2012-11-07 00:00:00|      0|       0|                  0|          0|               0|       3000000|    0|    0|             0|              0|            0|               0|                   0|      0|      0|      0|      0|      0|      0|      0|      0|\n",
      "|/organization/10x...|        10X10 Room|http://10x10room.com|          |Software||           Software |            77,500 |operating|         USA|        MA|              Boston|        Lexington|             1|2010-01-01 00:00:00|      2010-01|        2010-Q1|        2010|2011-10-12 00:00:00|2011-10-12 00:00:00|      0|       0|                  0|          0|               0|         77500|    0|    0|             0|              0|            0|               0|                   0|      0|      0|      0|      0|      0|      0|      0|      0|\n",
      "+--------------------+------------------+--------------------+--------------------+--------------------+-------------------+---------+------------+----------+--------------------+-----------------+--------------+-------------------+-------------+---------------+------------+-------------------+-------------------+-------+--------+-------------------+-----------+----------------+--------------+-----+-----+--------------+---------------+-------------+----------------+--------------------+-------+-------+-------+-------+-------+-------+-------+-------+\n",
      "only showing top 20 rows\n",
      "\n"
     ]
    }
   ],
   "source": [
    "spark.sql(\"select * from investment where country_code == 'USA'\").show()"
   ]
  },
  {
   "cell_type": "code",
   "execution_count": 12,
   "metadata": {},
   "outputs": [],
   "source": [
    "usstrartsup = spark.sql(\"select * from investment where country_code == 'USA'\")"
   ]
  },
  {
   "cell_type": "code",
   "execution_count": 13,
   "metadata": {},
   "outputs": [
    {
     "name": "stdout",
     "output_type": "stream",
     "text": [
      "+--------------------+------------------+--------------------+--------------------+--------------------+-------------------+---------+------------+----------+--------------------+-----------------+--------------+-------------------+-------------+---------------+------------+-------------------+-------------------+-------+--------+-------------------+-----------+----------------+--------------+-----+-----+--------------+---------------+-------------+----------------+--------------------+-------+-------+-------+-------+-------+-------+-------+-------+\n",
      "|           permalink|              name|        homepage_url|       category_list|             market | funding_total_usd |   status|country_code|state_code|              region|             city|funding_rounds|         founded_at|founded_month|founded_quarter|founded_year|   first_funding_at|    last_funding_at|   seed| venture|equity_crowdfunding|undisclosed|convertible_note|debt_financing|angel|grant|private_equity|post_ipo_equity|post_ipo_debt|secondary_market|product_crowdfunding|round_A|round_B|round_C|round_D|round_E|round_F|round_G|round_H|\n",
      "+--------------------+------------------+--------------------+--------------------+--------------------+-------------------+---------+------------+----------+--------------------+-----------------+--------------+-------------------+-------------+---------------+------------+-------------------+-------------------+-------+--------+-------------------+-----------+----------------+--------------+-----+-----+--------------+---------------+-------------+----------------+--------------------+-------+-------+-------+-------+-------+-------+-------+-------+\n",
      "|/organization/way...|          #waywire|http://www.waywir...||Entertainment|Po...|               News |         17,50,000 | acquired|         USA|        NY|       New York City|         New York|             1|2012-06-01 00:00:00|      2012-06|        2012-Q2|        2012|2012-06-30 00:00:00|2012-06-30 00:00:00|1750000|       0|                  0|          0|               0|             0|    0|    0|             0|              0|            0|               0|                   0|      0|      0|      0|      0|      0|      0|      0|      0|\n",
      "|/organization/tv-...|&TV Communications|http://enjoyandtv...|             |Games||              Games |         40,00,000 |operating|         USA|        CA|         Los Angeles|      Los Angeles|             2|               null|         null|           null|        null|2010-06-04 00:00:00|2010-09-23 00:00:00|      0| 4000000|                  0|          0|               0|             0|    0|    0|             0|              0|            0|               0|                   0|      0|      0|      0|      0|      0|      0|      0|      0|\n",
      "|/organization/r-r...|-R- Ranch and Mine|                null||Tourism|Entertai...|            Tourism |            60,000 |operating|         USA|        TX|              Dallas|       Fort Worth|             2|2014-01-01 00:00:00|      2014-01|        2014-Q1|        2014|2014-08-17 00:00:00|2014-09-26 00:00:00|      0|       0|              60000|          0|               0|             0|    0|    0|             0|              0|            0|               0|                   0|      0|      0|      0|      0|      0|      0|      0|      0|\n",
      "|/organization/clu...|     .Club Domains|    http://nic.club/|          |Software||           Software |         70,00,000 |     null|         USA|        FL|      Ft. Lauderdale|     Oakland Park|             1|2011-10-10 00:00:00|      2011-10|        2011-Q4|        2011|2013-05-31 00:00:00|2013-05-31 00:00:00|      0| 7000000|                  0|          0|               0|             0|    0|    0|             0|              0|            0|               0|                   0|      0|7000000|      0|      0|      0|      0|      0|      0|\n",
      "|/organization/004...|  004 Technologies|http://004gmbh.de...|          |Software||           Software |               -   |operating|         USA|        IL|Springfield, Illi...|        Champaign|             1|2010-01-01 00:00:00|      2010-01|        2010-Q1|        2010|2014-07-24 00:00:00|2014-07-24 00:00:00|      0|       0|                  0|          0|               0|             0|    0|    0|             0|              0|            0|               0|                   0|      0|      0|      0|      0|      0|      0|      0|      0|\n",
      "|/organization/1-4...|           1-4 All|                null||Entertainment|Ga...|           Software |               -   |operating|         USA|        NC|          NC - Other|Connellys Springs|             1|               null|         null|           null|        null|2013-04-21 00:00:00|2013-04-21 00:00:00|      0|       0|                  0|          0|               0|             0|    0|    0|             0|              0|            0|               0|                   0|      0|      0|      0|      0|      0|      0|      0|      0|\n",
      "|/organization/1-8...|     1-800-DENTIST|http://www.1800de...||Health and Welln...| Health and Welln...|               -   |operating|         USA|        CA|         Los Angeles|      Los Angeles|             1|1986-01-01 00:00:00|      1986-01|        1986-Q1|        1986|2010-08-19 00:00:00|2010-08-19 00:00:00|      0|       0|                  0|          0|               0|             0|    0|    0|             0|              0|            0|               0|                   0|      0|      0|      0|      0|      0|      0|      0|      0|\n",
      "|/organization/1-8...|     1-800-DOCTORS|http://1800doctor...||Health and Welln...| Health and Welln...|         17,50,000 |operating|         USA|        NJ|              Newark|           Iselin|             1|1984-01-01 00:00:00|      1984-01|        1984-Q1|        1984|2011-03-02 00:00:00|2011-03-02 00:00:00|      0|       0|                  0|          0|         1750000|             0|    0|    0|             0|              0|            0|               0|                   0|      0|      0|      0|      0|      0|      0|      0|      0|\n",
      "|/organization/1-6...|  1.618 Technology|                null|       |Real Estate||        Real Estate |               -   |operating|         USA|        FL|             Orlando|          Orlando|             1|2013-12-07 00:00:00|      2013-12|        2013-Q4|        2013|2014-01-22 00:00:00|2014-01-22 00:00:00|      0|       0|                  0|          0|               0|             0|    0|    0|             0|              0|            0|               0|                   0|      0|      0|      0|      0|      0|      0|      0|      0|\n",
      "|/organization/10-...|       10-20 Media|http://www.10-20m...|        |E-Commerce||         E-Commerce |         20,50,000 |operating|         USA|        MD|           Baltimore|         Woodbine|             4|2001-01-01 00:00:00|      2001-01|        2001-Q1|        2001|2009-06-18 00:00:00|2011-12-28 00:00:00|      0|       0|                  0|          0|               0|       2050000|    0|    0|             0|              0|            0|               0|                   0|      0|      0|      0|      0|      0|      0|      0|      0|\n",
      "|/organization/100...|        1000 Corks|http://1000corks.com|            |Search||             Search |            40,000 |operating|         USA|        OR|    Portland, Oregon|      Lake Oswego|             1|2008-01-01 00:00:00|      2008-01|        2008-Q1|        2008|2011-08-23 00:00:00|2011-08-23 00:00:00|  40000|       0|                  0|          0|               0|             0|    0|    0|             0|              0|            0|               0|                   0|      0|      0|      0|      0|      0|      0|      0|      0|\n",
      "|/organization/100...|      1000memories|http://1000memori...|       |Curated Web||        Curated Web |         25,35,000 | acquired|         USA|        CA|         SF Bay Area|    San Francisco|             2|2010-07-01 00:00:00|      2010-07|        2010-Q3|        2010|2010-01-01 00:00:00|2011-02-16 00:00:00|  15000| 2520000|                  0|          0|               0|             0|    0|    0|             0|              0|            0|               0|                   0|2520000|      0|      0|      0|      0|      0|      0|      0|\n",
      "|/organization/100...|   1000museums.com|http://www.1000mu...|       |Curated Web||        Curated Web |         49,62,651 |operating|         USA|        WA|             Seattle|         Bellevue|             6|2008-01-01 00:00:00|      2008-01|        2008-Q1|        2008|2009-10-14 00:00:00|2014-09-19 00:00:00|      0| 3814772|                  0|          0|               0|       1147879|    0|    0|             0|              0|            0|               0|                   0|      0|      0|      0|      0|      0|      0|      0|      0|\n",
      "|/organization/100...|         100health|http://www.redoxe...||Health Care Info...| Health Care Info...|          4,20,000 |operating|         USA|        WI|             Madison|          Madison|             1|2014-07-04 00:00:00|      2014-07|        2014-Q3|        2014|2014-11-26 00:00:00|2014-11-26 00:00:00| 420000|       0|                  0|          0|               0|             0|    0|    0|             0|              0|            0|               0|                   0|      0|      0|      0|      0|      0|      0|      0|      0|\n",
      "|/organization/100...|           100Plus|http://www.100plu...|         |Analytics||          Analytics |         12,50,000 | acquired|         USA|        CA|         SF Bay Area|    San Francisco|             2|2011-09-16 00:00:00|      2011-09|        2011-Q3|        2011|2011-11-02 00:00:00|2011-11-30 00:00:00| 750000|  500000|                  0|          0|               0|             0|    0|    0|             0|              0|            0|               0|                   0|      0|      0|      0|      0|      0|      0|      0|      0|\n",
      "|/organization/101...|          1010data|http://www.1010da...|          |Software||           Software |       3,50,00,000 |operating|         USA|        NY|       New York City|         New York|             1|2000-01-01 00:00:00|      2000-01|        2000-Q1|        2000|2010-03-08 00:00:00|2010-03-08 00:00:00|      0|35000000|                  0|          0|               0|             0|    0|    0|             0|              0|            0|               0|                   0|      0|      0|      0|      0|      0|      0|      0|      0|\n",
      "|/organization/10b...|      10BestThings|http://10bestthin...|       |Curated Web||        Curated Web |            50,000 |   closed|         USA|        OH|           Cleveland|        Cleveland|             1|2009-04-01 00:00:00|      2009-04|        2009-Q2|        2009|2009-04-01 00:00:00|2009-04-01 00:00:00|  50000|       0|                  0|          0|               0|             0|    0|    0|             0|              0|            0|               0|                   0|      0|      0|      0|      0|      0|      0|      0|      0|\n",
      "| /organization/10six|             10Six|http://10sixenerg...||Electronics|Batt...|        Electronics |               -   |operating|         USA|        NY|       New York City|         New York|             1|               null|         null|           null|        null|2014-02-01 00:00:00|2014-02-01 00:00:00|      0|       0|                  0|          0|               0|             0|    0|    0|             0|              0|            0|               0|                   0|      0|      0|      0|      0|      0|      0|      0|      0|\n",
      "|/organization/10x...|  10X Technologies|http://10xtechnol...|     |Biotechnology||      Biotechnology |         30,00,000 |operating|         USA|        CA|         SF Bay Area|          Oakland|             1|2012-01-01 00:00:00|      2012-01|        2012-Q1|        2012|2012-11-07 00:00:00|2012-11-07 00:00:00|      0|       0|                  0|          0|               0|       3000000|    0|    0|             0|              0|            0|               0|                   0|      0|      0|      0|      0|      0|      0|      0|      0|\n",
      "|/organization/10x...|        10X10 Room|http://10x10room.com|          |Software||           Software |            77,500 |operating|         USA|        MA|              Boston|        Lexington|             1|2010-01-01 00:00:00|      2010-01|        2010-Q1|        2010|2011-10-12 00:00:00|2011-10-12 00:00:00|      0|       0|                  0|          0|               0|         77500|    0|    0|             0|              0|            0|               0|                   0|      0|      0|      0|      0|      0|      0|      0|      0|\n",
      "+--------------------+------------------+--------------------+--------------------+--------------------+-------------------+---------+------------+----------+--------------------+-----------------+--------------+-------------------+-------------+---------------+------------+-------------------+-------------------+-------+--------+-------------------+-----------+----------------+--------------+-----+-----+--------------+---------------+-------------+----------------+--------------------+-------+-------+-------+-------+-------+-------+-------+-------+\n",
      "only showing top 20 rows\n",
      "\n"
     ]
    }
   ],
   "source": [
    "usstrartsup.show()"
   ]
  },
  {
   "cell_type": "code",
   "execution_count": 16,
   "metadata": {},
   "outputs": [],
   "source": [
    "usstrartsup.createOrReplaceTempView('usstartup_table')"
   ]
  },
  {
   "cell_type": "code",
   "execution_count": 17,
   "metadata": {},
   "outputs": [
    {
     "name": "stdout",
     "output_type": "stream",
     "text": [
      "+--------------------+------------------+--------------------+--------------------+--------------------+-------------------+---------+------------+----------+--------------------+-----------------+--------------+-------------------+-------------+---------------+------------+-------------------+-------------------+-------+-------+-------------------+-----------+----------------+--------------+-----+-----+--------------+---------------+-------------+----------------+--------------------+-------+-------+-------+-------+-------+-------+-------+-------+\n",
      "|           permalink|              name|        homepage_url|       category_list|             market | funding_total_usd |   status|country_code|state_code|              region|             city|funding_rounds|         founded_at|founded_month|founded_quarter|founded_year|   first_funding_at|    last_funding_at|   seed|venture|equity_crowdfunding|undisclosed|convertible_note|debt_financing|angel|grant|private_equity|post_ipo_equity|post_ipo_debt|secondary_market|product_crowdfunding|round_A|round_B|round_C|round_D|round_E|round_F|round_G|round_H|\n",
      "+--------------------+------------------+--------------------+--------------------+--------------------+-------------------+---------+------------+----------+--------------------+-----------------+--------------+-------------------+-------------+---------------+------------+-------------------+-------------------+-------+-------+-------------------+-----------+----------------+--------------+-----+-----+--------------+---------------+-------------+----------------+--------------------+-------+-------+-------+-------+-------+-------+-------+-------+\n",
      "|/organization/way...|          #waywire|http://www.waywir...||Entertainment|Po...|               News |         17,50,000 | acquired|         USA|        NY|       New York City|         New York|             1|2012-06-01 00:00:00|      2012-06|        2012-Q2|        2012|2012-06-30 00:00:00|2012-06-30 00:00:00|1750000|      0|                  0|          0|               0|             0|    0|    0|             0|              0|            0|               0|                   0|      0|      0|      0|      0|      0|      0|      0|      0|\n",
      "|/organization/tv-...|&TV Communications|http://enjoyandtv...|             |Games||              Games |         40,00,000 |operating|         USA|        CA|         Los Angeles|      Los Angeles|             2|               null|         null|           null|        null|2010-06-04 00:00:00|2010-09-23 00:00:00|      0|4000000|                  0|          0|               0|             0|    0|    0|             0|              0|            0|               0|                   0|      0|      0|      0|      0|      0|      0|      0|      0|\n",
      "|/organization/r-r...|-R- Ranch and Mine|                null||Tourism|Entertai...|            Tourism |            60,000 |operating|         USA|        TX|              Dallas|       Fort Worth|             2|2014-01-01 00:00:00|      2014-01|        2014-Q1|        2014|2014-08-17 00:00:00|2014-09-26 00:00:00|      0|      0|              60000|          0|               0|             0|    0|    0|             0|              0|            0|               0|                   0|      0|      0|      0|      0|      0|      0|      0|      0|\n",
      "|/organization/clu...|     .Club Domains|    http://nic.club/|          |Software||           Software |         70,00,000 |     null|         USA|        FL|      Ft. Lauderdale|     Oakland Park|             1|2011-10-10 00:00:00|      2011-10|        2011-Q4|        2011|2013-05-31 00:00:00|2013-05-31 00:00:00|      0|7000000|                  0|          0|               0|             0|    0|    0|             0|              0|            0|               0|                   0|      0|7000000|      0|      0|      0|      0|      0|      0|\n",
      "|/organization/004...|  004 Technologies|http://004gmbh.de...|          |Software||           Software |               -   |operating|         USA|        IL|Springfield, Illi...|        Champaign|             1|2010-01-01 00:00:00|      2010-01|        2010-Q1|        2010|2014-07-24 00:00:00|2014-07-24 00:00:00|      0|      0|                  0|          0|               0|             0|    0|    0|             0|              0|            0|               0|                   0|      0|      0|      0|      0|      0|      0|      0|      0|\n",
      "|/organization/1-4...|           1-4 All|                null||Entertainment|Ga...|           Software |               -   |operating|         USA|        NC|          NC - Other|Connellys Springs|             1|               null|         null|           null|        null|2013-04-21 00:00:00|2013-04-21 00:00:00|      0|      0|                  0|          0|               0|             0|    0|    0|             0|              0|            0|               0|                   0|      0|      0|      0|      0|      0|      0|      0|      0|\n",
      "|/organization/1-8...|     1-800-DENTIST|http://www.1800de...||Health and Welln...| Health and Welln...|               -   |operating|         USA|        CA|         Los Angeles|      Los Angeles|             1|1986-01-01 00:00:00|      1986-01|        1986-Q1|        1986|2010-08-19 00:00:00|2010-08-19 00:00:00|      0|      0|                  0|          0|               0|             0|    0|    0|             0|              0|            0|               0|                   0|      0|      0|      0|      0|      0|      0|      0|      0|\n",
      "|/organization/1-8...|     1-800-DOCTORS|http://1800doctor...||Health and Welln...| Health and Welln...|         17,50,000 |operating|         USA|        NJ|              Newark|           Iselin|             1|1984-01-01 00:00:00|      1984-01|        1984-Q1|        1984|2011-03-02 00:00:00|2011-03-02 00:00:00|      0|      0|                  0|          0|         1750000|             0|    0|    0|             0|              0|            0|               0|                   0|      0|      0|      0|      0|      0|      0|      0|      0|\n",
      "|/organization/1-6...|  1.618 Technology|                null|       |Real Estate||        Real Estate |               -   |operating|         USA|        FL|             Orlando|          Orlando|             1|2013-12-07 00:00:00|      2013-12|        2013-Q4|        2013|2014-01-22 00:00:00|2014-01-22 00:00:00|      0|      0|                  0|          0|               0|             0|    0|    0|             0|              0|            0|               0|                   0|      0|      0|      0|      0|      0|      0|      0|      0|\n",
      "|/organization/10-...|       10-20 Media|http://www.10-20m...|        |E-Commerce||         E-Commerce |         20,50,000 |operating|         USA|        MD|           Baltimore|         Woodbine|             4|2001-01-01 00:00:00|      2001-01|        2001-Q1|        2001|2009-06-18 00:00:00|2011-12-28 00:00:00|      0|      0|                  0|          0|               0|       2050000|    0|    0|             0|              0|            0|               0|                   0|      0|      0|      0|      0|      0|      0|      0|      0|\n",
      "+--------------------+------------------+--------------------+--------------------+--------------------+-------------------+---------+------------+----------+--------------------+-----------------+--------------+-------------------+-------------+---------------+------------+-------------------+-------------------+-------+-------+-------------------+-----------+----------------+--------------+-----+-----+--------------+---------------+-------------+----------------+--------------------+-------+-------+-------+-------+-------+-------+-------+-------+\n",
      "\n"
     ]
    }
   ],
   "source": [
    "spark.sql(\"select * from usstartup_table limit 10\").show()"
   ]
  },
  {
   "cell_type": "markdown",
   "metadata": {},
   "source": [
    "### Find most seeded startup in USA"
   ]
  },
  {
   "cell_type": "code",
   "execution_count": 19,
   "metadata": {},
   "outputs": [],
   "source": [
    "most_seed = spark.sql(\"select * from usstartup_table order by seed desc\")"
   ]
  },
  {
   "cell_type": "code",
   "execution_count": 20,
   "metadata": {},
   "outputs": [
    {
     "name": "stdout",
     "output_type": "stream",
     "text": [
      "+--------------------+---------+\n",
      "|                name|     seed|\n",
      "+--------------------+---------+\n",
      "|Space Exploration...|100000000|\n",
      "|Wikimedia Foundation| 64000000|\n",
      "|        PharmaNation| 25000000|\n",
      "|            HeyAnita| 22300000|\n",
      "|         RetailMeNot| 21000000|\n",
      "|        ChoiceStream| 15000000|\n",
      "|NorthStar Systems...| 11500000|\n",
      "|Silverback Enterp...| 11500000|\n",
      "|          NuScriptRx| 10479384|\n",
      "|              Kensho| 10000000|\n",
      "|          Ice Energy| 10000000|\n",
      "|    Pepex Biomedical| 10000000|\n",
      "|              Koding|  9250000|\n",
      "|   Raise Marketplace|  9000000|\n",
      "|          Apportable|  8700000|\n",
      "|  Riverside Research|  8700000|\n",
      "|          YouScience|  8500000|\n",
      "|             eBureau|  8000000|\n",
      "|              KidZui|  8000000|\n",
      "|       Urban Compass|  8000000|\n",
      "+--------------------+---------+\n",
      "only showing top 20 rows\n",
      "\n"
     ]
    }
   ],
   "source": [
    "most_seed.select('name','seed').show()"
   ]
  },
  {
   "cell_type": "code",
   "execution_count": 21,
   "metadata": {},
   "outputs": [
    {
     "data": {
      "text/plain": [
       "[Row(permalink='/organization/space-exploration-technologies', name='Space Exploration Technologies', homepage_url='http://www.spacex.com', category_list='|Public Transportation|',  market =' Public Transportation ',  funding_total_usd =' 24,54,60,000 ', status='operating', country_code='USA', state_code='CA', region='Los Angeles', city='Hawthorne', funding_rounds=6, founded_at=datetime.datetime(2002, 1, 1, 0, 0), founded_month='2002-01', founded_quarter='2002-Q1', founded_year=2002, first_funding_at=datetime.datetime(2006, 3, 1, 0, 0), last_funding_at=datetime.datetime(2012, 12, 21, 0, 0), seed=100000000, venture=145460000, equity_crowdfunding=0, undisclosed=0, convertible_note=0, debt_financing=0, angel=0, grant=0, private_equity=0, post_ipo_equity=0, post_ipo_debt=0, secondary_market=0, product_crowdfunding=0, round_A=20000000, round_B=30435000, round_C=50000000, round_D=0, round_E=0, round_F=0, round_G=0, round_H=0)]"
      ]
     },
     "execution_count": 21,
     "metadata": {},
     "output_type": "execute_result"
    }
   ],
   "source": [
    "most_seed.head(1)"
   ]
  },
  {
   "cell_type": "code",
   "execution_count": 23,
   "metadata": {},
   "outputs": [],
   "source": [
    "most_seed_startup = most_seed.head(1)[0].asDict()"
   ]
  },
  {
   "cell_type": "code",
   "execution_count": 24,
   "metadata": {},
   "outputs": [
    {
     "data": {
      "text/plain": [
       "{'permalink': '/organization/space-exploration-technologies',\n",
       " 'name': 'Space Exploration Technologies',\n",
       " 'homepage_url': 'http://www.spacex.com',\n",
       " 'category_list': '|Public Transportation|',\n",
       " ' market ': ' Public Transportation ',\n",
       " ' funding_total_usd ': ' 24,54,60,000 ',\n",
       " 'status': 'operating',\n",
       " 'country_code': 'USA',\n",
       " 'state_code': 'CA',\n",
       " 'region': 'Los Angeles',\n",
       " 'city': 'Hawthorne',\n",
       " 'funding_rounds': 6,\n",
       " 'founded_at': datetime.datetime(2002, 1, 1, 0, 0),\n",
       " 'founded_month': '2002-01',\n",
       " 'founded_quarter': '2002-Q1',\n",
       " 'founded_year': 2002,\n",
       " 'first_funding_at': datetime.datetime(2006, 3, 1, 0, 0),\n",
       " 'last_funding_at': datetime.datetime(2012, 12, 21, 0, 0),\n",
       " 'seed': 100000000,\n",
       " 'venture': 145460000,\n",
       " 'equity_crowdfunding': 0,\n",
       " 'undisclosed': 0,\n",
       " 'convertible_note': 0,\n",
       " 'debt_financing': 0,\n",
       " 'angel': 0,\n",
       " 'grant': 0,\n",
       " 'private_equity': 0,\n",
       " 'post_ipo_equity': 0,\n",
       " 'post_ipo_debt': 0,\n",
       " 'secondary_market': 0,\n",
       " 'product_crowdfunding': 0,\n",
       " 'round_A': 20000000,\n",
       " 'round_B': 30435000,\n",
       " 'round_C': 50000000,\n",
       " 'round_D': 0,\n",
       " 'round_E': 0,\n",
       " 'round_F': 0,\n",
       " 'round_G': 0,\n",
       " 'round_H': 0}"
      ]
     },
     "execution_count": 24,
     "metadata": {},
     "output_type": "execute_result"
    }
   ],
   "source": [
    "most_seed_startup"
   ]
  },
  {
   "cell_type": "markdown",
   "metadata": {},
   "source": [
    "Only row objects can be converted to dict. by converting a row to dictionary indexing becomes easier. "
   ]
  },
  {
   "cell_type": "code",
   "execution_count": 25,
   "metadata": {},
   "outputs": [
    {
     "data": {
      "text/plain": [
       "145460000"
      ]
     },
     "execution_count": 25,
     "metadata": {},
     "output_type": "execute_result"
    }
   ],
   "source": [
    "most_seed_startup['venture']"
   ]
  },
  {
   "cell_type": "code",
   "execution_count": 26,
   "metadata": {},
   "outputs": [
    {
     "data": {
      "text/plain": [
       "datetime.datetime(2006, 3, 1, 0, 0)"
      ]
     },
     "execution_count": 26,
     "metadata": {},
     "output_type": "execute_result"
    }
   ],
   "source": [
    "most_seed_startup['first_funding_at']"
   ]
  },
  {
   "cell_type": "code",
   "execution_count": null,
   "metadata": {},
   "outputs": [],
   "source": []
  }
 ],
 "metadata": {
  "kernelspec": {
   "display_name": "Python 3",
   "language": "python",
   "name": "python3"
  },
  "language_info": {
   "codemirror_mode": {
    "name": "ipython",
    "version": 3
   },
   "file_extension": ".py",
   "mimetype": "text/x-python",
   "name": "python",
   "nbconvert_exporter": "python",
   "pygments_lexer": "ipython3",
   "version": "3.7.6"
  }
 },
 "nbformat": 4,
 "nbformat_minor": 4
}
