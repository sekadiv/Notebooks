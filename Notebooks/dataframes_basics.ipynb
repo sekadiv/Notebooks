{
 "cells": [
  {
   "cell_type": "code",
   "execution_count": 1,
   "metadata": {},
   "outputs": [],
   "source": [
    "import os\n",
    "import sys\n",
    "os.environ[\"PYSPARK_PYTHON\"] = \"/home/ec2-user/spark-2.4.4-bin-hadoop2.7/python\"\n",
    "os.environ[\"JAVA_HOME\"] = \"/usr/java/jdk1.8.0_161/jre\"\n",
    "os.environ[\"SPARK_HOME\"] = \"/home/ec2-user/spark-2.4.4-bin-hadoop2.7\"\n",
    "os.environ[\"PYLIB\"] = os.environ[\"SPARK_HOME\"] + \"/python/lib\"\n",
    "sys.path.insert(0, os.environ[\"PYLIB\"] + \"/py4j-0.10.7-src.zip\")\n",
    "sys.path.insert(0, os.environ[\"PYLIB\"] + \"/pyspark.zip\")"
   ]
  },
  {
   "cell_type": "markdown",
   "metadata": {},
   "source": [
    "# Spark DataFrame Basics\n",
    "\n",
    "\n",
    "Import SparkSession"
   ]
  },
  {
   "cell_type": "code",
   "execution_count": 2,
   "metadata": {},
   "outputs": [],
   "source": [
    "from pyspark.sql import SparkSession"
   ]
  },
  {
   "cell_type": "markdown",
   "metadata": {},
   "source": [
    "Then start the SparkSession"
   ]
  },
  {
   "cell_type": "code",
   "execution_count": 3,
   "metadata": {},
   "outputs": [],
   "source": [
    "spark = SparkSession.builder.appName(\"Basics\").getOrCreate()"
   ]
  },
  {
   "cell_type": "code",
   "execution_count": 4,
   "metadata": {},
   "outputs": [
    {
     "data": {
      "text/html": [
       "\n",
       "            <div>\n",
       "                <p><b>SparkSession - in-memory</b></p>\n",
       "                \n",
       "        <div>\n",
       "            <p><b>SparkContext</b></p>\n",
       "\n",
       "            <p><a href=\"http://ip-172-31-45-87.ec2.internal:4040\">Spark UI</a></p>\n",
       "\n",
       "            <dl>\n",
       "              <dt>Version</dt>\n",
       "                <dd><code>v2.4.4</code></dd>\n",
       "              <dt>Master</dt>\n",
       "                <dd><code>local[*]</code></dd>\n",
       "              <dt>AppName</dt>\n",
       "                <dd><code>Basics</code></dd>\n",
       "            </dl>\n",
       "        </div>\n",
       "        \n",
       "            </div>\n",
       "        "
      ],
      "text/plain": [
       "<pyspark.sql.session.SparkSession at 0x7f1a792955d0>"
      ]
     },
     "execution_count": 4,
     "metadata": {},
     "output_type": "execute_result"
    }
   ],
   "source": [
    "spark"
   ]
  },
  {
   "cell_type": "markdown",
   "metadata": {
    "collapsed": true
   },
   "source": [
    "## Creating a DataFrame\n",
    "\n",
    "#### Reading data\n",
    "You will first need to get the data from a file.\n",
    "\n",
    ".read method (runs on a sparksession)\n",
    "\n",
    "can read from a verity of file types .csv .json etc"
   ]
  },
  {
   "cell_type": "code",
   "execution_count": 15,
   "metadata": {},
   "outputs": [],
   "source": [
    "df = spark.read.csv('employee_data.csv', inferSchema=True, header=True)"
   ]
  },
  {
   "cell_type": "code",
   "execution_count": 16,
   "metadata": {},
   "outputs": [
    {
     "data": {
      "text/plain": [
       "DataFrame[name: string, salary: double, age: double]"
      ]
     },
     "execution_count": 16,
     "metadata": {},
     "output_type": "execute_result"
    }
   ],
   "source": [
    "df"
   ]
  },
  {
   "cell_type": "markdown",
   "metadata": {},
   "source": [
    "#### Showing the data\n",
    "\n",
    ".show method  (call on a dataframe, is an action)"
   ]
  },
  {
   "cell_type": "code",
   "execution_count": 17,
   "metadata": {},
   "outputs": [
    {
     "name": "stdout",
     "output_type": "stream",
     "text": [
      "+-------+--------+----+\n",
      "|   name|  salary| age|\n",
      "+-------+--------+----+\n",
      "|Michael| 40000.0|29.0|\n",
      "|   Andy| 50000.0|30.0|\n",
      "| Justin| 30000.0|19.0|\n",
      "|Michael| 45000.0|45.0|\n",
      "|  Sandy| 57000.0|37.0|\n",
      "|  David| 31000.0|30.0|\n",
      "|   Bill|210000.0|35.0|\n",
      "|   Elon|150000.0|37.0|\n",
      "| Donald|910000.0|49.0|\n",
      "|  Kumar|720000.0|41.0|\n",
      "| Russel| 30800.0|40.0|\n",
      "|  Peter| 29000.0|39.0|\n",
      "|   John| 18000.0|32.0|\n",
      "|  Kevin| 99000.0|55.0|\n",
      "|  Rocky| 88000.0|60.0|\n",
      "+-------+--------+----+\n",
      "\n"
     ]
    }
   ],
   "source": [
    "df.show()"
   ]
  },
  {
   "cell_type": "markdown",
   "metadata": {},
   "source": [
    "#### Schema of data\n",
    "\n",
    ".printSchema call on a dataframe\n",
    "\n",
    "show the columns names and the data type of that column"
   ]
  },
  {
   "cell_type": "code",
   "execution_count": 18,
   "metadata": {},
   "outputs": [
    {
     "name": "stdout",
     "output_type": "stream",
     "text": [
      "root\n",
      " |-- name: string (nullable = true)\n",
      " |-- salary: double (nullable = true)\n",
      " |-- age: double (nullable = true)\n",
      "\n"
     ]
    }
   ],
   "source": [
    "df.printSchema()"
   ]
  },
  {
   "cell_type": "markdown",
   "metadata": {},
   "source": [
    "#### Column names \n",
    "\n",
    ".columns call on a dataFrame\n",
    "\n",
    "to get the column names in the data frames. "
   ]
  },
  {
   "cell_type": "code",
   "execution_count": 19,
   "metadata": {},
   "outputs": [
    {
     "data": {
      "text/plain": [
       "['name', 'salary', 'age']"
      ]
     },
     "execution_count": 19,
     "metadata": {},
     "output_type": "execute_result"
    }
   ],
   "source": [
    "df.columns"
   ]
  },
  {
   "cell_type": "code",
   "execution_count": null,
   "metadata": {},
   "outputs": [],
   "source": []
  },
  {
   "cell_type": "markdown",
   "metadata": {},
   "source": [
    ".describe methods calculates the statisticals figures of columns which are neumericals. If used with .show() we will get the actual stats"
   ]
  },
  {
   "cell_type": "code",
   "execution_count": 21,
   "metadata": {},
   "outputs": [
    {
     "name": "stdout",
     "output_type": "stream",
     "text": [
      "+-------+-----+------------------+------------------+\n",
      "|summary| name|            salary|               age|\n",
      "+-------+-----+------------------+------------------+\n",
      "|  count|   15|                15|                15|\n",
      "|   mean| null|167186.66666666666| 38.53333333333333|\n",
      "| stddev| null|  270544.809773239|10.588853078771539|\n",
      "|    min| Andy|           18000.0|              19.0|\n",
      "|    max|Sandy|          910000.0|              60.0|\n",
      "+-------+-----+------------------+------------------+\n",
      "\n"
     ]
    }
   ],
   "source": [
    "df.describe().show()"
   ]
  },
  {
   "cell_type": "markdown",
   "metadata": {},
   "source": [
    "### Grabbing the data"
   ]
  },
  {
   "cell_type": "markdown",
   "metadata": {},
   "source": [
    "#### Columns\n",
    "\n",
    "In this section we will look at commands whcih can help us extract data from datqframes."
   ]
  },
  {
   "cell_type": "markdown",
   "metadata": {},
   "source": [
    "If we call a columns in this syntax we get a column object as output\n"
   ]
  },
  {
   "cell_type": "code",
   "execution_count": 22,
   "metadata": {},
   "outputs": [
    {
     "name": "stdout",
     "output_type": "stream",
     "text": [
      "+----+\n",
      "| age|\n",
      "+----+\n",
      "|29.0|\n",
      "|30.0|\n",
      "|19.0|\n",
      "|45.0|\n",
      "|37.0|\n",
      "|30.0|\n",
      "|35.0|\n",
      "|37.0|\n",
      "|49.0|\n",
      "|41.0|\n",
      "|40.0|\n",
      "|39.0|\n",
      "|32.0|\n",
      "|55.0|\n",
      "|60.0|\n",
      "+----+\n",
      "\n"
     ]
    }
   ],
   "source": [
    "df.select('age').show()"
   ]
  },
  {
   "cell_type": "code",
   "execution_count": null,
   "metadata": {},
   "outputs": [],
   "source": []
  },
  {
   "cell_type": "code",
   "execution_count": null,
   "metadata": {},
   "outputs": [],
   "source": []
  },
  {
   "cell_type": "markdown",
   "metadata": {},
   "source": [
    "#### Multiple Columns:"
   ]
  },
  {
   "cell_type": "code",
   "execution_count": 24,
   "metadata": {},
   "outputs": [
    {
     "name": "stdout",
     "output_type": "stream",
     "text": [
      "+-------+--------+\n",
      "|   name|  salary|\n",
      "+-------+--------+\n",
      "|Michael| 40000.0|\n",
      "|   Andy| 50000.0|\n",
      "| Justin| 30000.0|\n",
      "|Michael| 45000.0|\n",
      "|  Sandy| 57000.0|\n",
      "|  David| 31000.0|\n",
      "|   Bill|210000.0|\n",
      "|   Elon|150000.0|\n",
      "| Donald|910000.0|\n",
      "|  Kumar|720000.0|\n",
      "| Russel| 30800.0|\n",
      "|  Peter| 29000.0|\n",
      "|   John| 18000.0|\n",
      "|  Kevin| 99000.0|\n",
      "|  Rocky| 88000.0|\n",
      "+-------+--------+\n",
      "\n"
     ]
    }
   ],
   "source": [
    "df.select(['name','salary']).show()"
   ]
  },
  {
   "cell_type": "code",
   "execution_count": null,
   "metadata": {},
   "outputs": [],
   "source": []
  },
  {
   "cell_type": "markdown",
   "metadata": {},
   "source": [
    "\n",
    "#### Calling Rows"
   ]
  },
  {
   "cell_type": "code",
   "execution_count": 26,
   "metadata": {},
   "outputs": [
    {
     "data": {
      "text/plain": [
       "[Row(name='Michael', salary=40000.0, age=29.0),\n",
       " Row(name='Andy', salary=50000.0, age=30.0)]"
      ]
     },
     "execution_count": 26,
     "metadata": {},
     "output_type": "execute_result"
    }
   ],
   "source": [
    "df.head(2)"
   ]
  },
  {
   "cell_type": "code",
   "execution_count": 27,
   "metadata": {},
   "outputs": [],
   "source": [
    "row_list = df.head(5)"
   ]
  },
  {
   "cell_type": "code",
   "execution_count": 28,
   "metadata": {},
   "outputs": [
    {
     "data": {
      "text/plain": [
       "[Row(name='Michael', salary=40000.0, age=29.0),\n",
       " Row(name='Andy', salary=50000.0, age=30.0),\n",
       " Row(name='Justin', salary=30000.0, age=19.0),\n",
       " Row(name='Michael', salary=45000.0, age=45.0),\n",
       " Row(name='Sandy', salary=57000.0, age=37.0)]"
      ]
     },
     "execution_count": 28,
     "metadata": {},
     "output_type": "execute_result"
    }
   ],
   "source": [
    "row_list"
   ]
  },
  {
   "cell_type": "code",
   "execution_count": 29,
   "metadata": {},
   "outputs": [
    {
     "data": {
      "text/plain": [
       "Row(name='Michael', salary=40000.0, age=29.0)"
      ]
     },
     "execution_count": 29,
     "metadata": {},
     "output_type": "execute_result"
    }
   ],
   "source": [
    "row_list[0]"
   ]
  },
  {
   "cell_type": "markdown",
   "metadata": {},
   "source": [
    "Gives a list of rows. Ther number of rows to be displayed is given as argument to .head()"
   ]
  },
  {
   "cell_type": "markdown",
   "metadata": {},
   "source": [
    "### Creating new columns"
   ]
  },
  {
   "cell_type": "code",
   "execution_count": 30,
   "metadata": {},
   "outputs": [
    {
     "name": "stdout",
     "output_type": "stream",
     "text": [
      "+-------+--------+----+------------------+\n",
      "|   name|  salary| age|    monthly_salary|\n",
      "+-------+--------+----+------------------+\n",
      "|Michael| 40000.0|29.0|3333.3333333333335|\n",
      "|   Andy| 50000.0|30.0| 4166.666666666667|\n",
      "| Justin| 30000.0|19.0|            2500.0|\n",
      "|Michael| 45000.0|45.0|            3750.0|\n",
      "|  Sandy| 57000.0|37.0|            4750.0|\n",
      "|  David| 31000.0|30.0|2583.3333333333335|\n",
      "|   Bill|210000.0|35.0|           17500.0|\n",
      "|   Elon|150000.0|37.0|           12500.0|\n",
      "| Donald|910000.0|49.0| 75833.33333333333|\n",
      "|  Kumar|720000.0|41.0|           60000.0|\n",
      "| Russel| 30800.0|40.0|2566.6666666666665|\n",
      "|  Peter| 29000.0|39.0|2416.6666666666665|\n",
      "|   John| 18000.0|32.0|            1500.0|\n",
      "|  Kevin| 99000.0|55.0|            8250.0|\n",
      "|  Rocky| 88000.0|60.0| 7333.333333333333|\n",
      "+-------+--------+----+------------------+\n",
      "\n"
     ]
    }
   ],
   "source": [
    "df.withColumn('monthly_salary', df['salary']/12).show()"
   ]
  },
  {
   "cell_type": "code",
   "execution_count": 31,
   "metadata": {},
   "outputs": [],
   "source": [
    "df2 = df.withColumn('monthly_salary', df['salary']/12)"
   ]
  },
  {
   "cell_type": "code",
   "execution_count": 32,
   "metadata": {},
   "outputs": [
    {
     "name": "stdout",
     "output_type": "stream",
     "text": [
      "+-------+--------+----+------------------+\n",
      "|   name|  salary| age|    monthly_salary|\n",
      "+-------+--------+----+------------------+\n",
      "|Michael| 40000.0|29.0|3333.3333333333335|\n",
      "|   Andy| 50000.0|30.0| 4166.666666666667|\n",
      "| Justin| 30000.0|19.0|            2500.0|\n",
      "|Michael| 45000.0|45.0|            3750.0|\n",
      "|  Sandy| 57000.0|37.0|            4750.0|\n",
      "|  David| 31000.0|30.0|2583.3333333333335|\n",
      "|   Bill|210000.0|35.0|           17500.0|\n",
      "|   Elon|150000.0|37.0|           12500.0|\n",
      "| Donald|910000.0|49.0| 75833.33333333333|\n",
      "|  Kumar|720000.0|41.0|           60000.0|\n",
      "| Russel| 30800.0|40.0|2566.6666666666665|\n",
      "|  Peter| 29000.0|39.0|2416.6666666666665|\n",
      "|   John| 18000.0|32.0|            1500.0|\n",
      "|  Kevin| 99000.0|55.0|            8250.0|\n",
      "|  Rocky| 88000.0|60.0| 7333.333333333333|\n",
      "+-------+--------+----+------------------+\n",
      "\n"
     ]
    }
   ],
   "source": [
    "df2.show()"
   ]
  },
  {
   "cell_type": "markdown",
   "metadata": {},
   "source": [
    "This added column is temporary as dataframes are immutable. to create a new dataframe with this new column assign the same to a new varialbe."
   ]
  },
  {
   "cell_type": "code",
   "execution_count": null,
   "metadata": {},
   "outputs": [],
   "source": []
  },
  {
   "cell_type": "code",
   "execution_count": null,
   "metadata": {},
   "outputs": [],
   "source": []
  },
  {
   "cell_type": "markdown",
   "metadata": {},
   "source": [
    "Renaming the column name:"
   ]
  },
  {
   "cell_type": "code",
   "execution_count": 33,
   "metadata": {},
   "outputs": [
    {
     "name": "stdout",
     "output_type": "stream",
     "text": [
      "+-------+-------------+----+------------------+\n",
      "|   name|yearly_salary| age|    monthly_salary|\n",
      "+-------+-------------+----+------------------+\n",
      "|Michael|      40000.0|29.0|3333.3333333333335|\n",
      "|   Andy|      50000.0|30.0| 4166.666666666667|\n",
      "| Justin|      30000.0|19.0|            2500.0|\n",
      "|Michael|      45000.0|45.0|            3750.0|\n",
      "|  Sandy|      57000.0|37.0|            4750.0|\n",
      "|  David|      31000.0|30.0|2583.3333333333335|\n",
      "|   Bill|     210000.0|35.0|           17500.0|\n",
      "|   Elon|     150000.0|37.0|           12500.0|\n",
      "| Donald|     910000.0|49.0| 75833.33333333333|\n",
      "|  Kumar|     720000.0|41.0|           60000.0|\n",
      "| Russel|      30800.0|40.0|2566.6666666666665|\n",
      "|  Peter|      29000.0|39.0|2416.6666666666665|\n",
      "|   John|      18000.0|32.0|            1500.0|\n",
      "|  Kevin|      99000.0|55.0|            8250.0|\n",
      "|  Rocky|      88000.0|60.0| 7333.333333333333|\n",
      "+-------+-------------+----+------------------+\n",
      "\n"
     ]
    }
   ],
   "source": [
    "df2.withColumnRenamed('salary','yearly_salary').show()"
   ]
  },
  {
   "cell_type": "code",
   "execution_count": 34,
   "metadata": {},
   "outputs": [],
   "source": [
    "df3 = df2.withColumnRenamed('salary','yearly_salary')"
   ]
  },
  {
   "cell_type": "code",
   "execution_count": 35,
   "metadata": {},
   "outputs": [
    {
     "name": "stdout",
     "output_type": "stream",
     "text": [
      "+-------+-------------+----+------------------+\n",
      "|   name|yearly_salary| age|    monthly_salary|\n",
      "+-------+-------------+----+------------------+\n",
      "|Michael|      40000.0|29.0|3333.3333333333335|\n",
      "|   Andy|      50000.0|30.0| 4166.666666666667|\n",
      "| Justin|      30000.0|19.0|            2500.0|\n",
      "|Michael|      45000.0|45.0|            3750.0|\n",
      "|  Sandy|      57000.0|37.0|            4750.0|\n",
      "|  David|      31000.0|30.0|2583.3333333333335|\n",
      "|   Bill|     210000.0|35.0|           17500.0|\n",
      "|   Elon|     150000.0|37.0|           12500.0|\n",
      "| Donald|     910000.0|49.0| 75833.33333333333|\n",
      "|  Kumar|     720000.0|41.0|           60000.0|\n",
      "| Russel|      30800.0|40.0|2566.6666666666665|\n",
      "|  Peter|      29000.0|39.0|2416.6666666666665|\n",
      "|   John|      18000.0|32.0|            1500.0|\n",
      "|  Kevin|      99000.0|55.0|            8250.0|\n",
      "|  Rocky|      88000.0|60.0| 7333.333333333333|\n",
      "+-------+-------------+----+------------------+\n",
      "\n"
     ]
    }
   ],
   "source": [
    "df3.show()"
   ]
  },
  {
   "cell_type": "markdown",
   "metadata": {},
   "source": [
    "All these operation of renaming and cearing new columns are also temporary"
   ]
  }
 ],
 "metadata": {
  "anaconda-cloud": {},
  "kernelspec": {
   "display_name": "Python 3",
   "language": "python",
   "name": "python3"
  },
  "language_info": {
   "codemirror_mode": {
    "name": "ipython",
    "version": 3
   },
   "file_extension": ".py",
   "mimetype": "text/x-python",
   "name": "python",
   "nbconvert_exporter": "python",
   "pygments_lexer": "ipython3",
   "version": "3.7.6"
  },
  "nbpresent": {
   "slides": {},
   "themes": {
    "default": "0535adbc-b74f-46cc-9cd6-4eabe2477c8e",
    "theme": {
     "0535adbc-b74f-46cc-9cd6-4eabe2477c8e": {
      "backgrounds": {
       "backgroundColor": {
        "background-color": "backgroundColor",
        "id": "backgroundColor"
       }
      },
      "id": "0535adbc-b74f-46cc-9cd6-4eabe2477c8e",
      "palette": {
       "backgroundColor": {
        "id": "backgroundColor",
        "rgb": [
         43,
         43,
         43
        ]
       },
       "headingColor": {
        "id": "headingColor",
        "rgb": [
         238,
         238,
         238
        ]
       },
       "linkColor": {
        "id": "linkColor",
        "rgb": [
         19,
         218,
         236
        ]
       },
       "mainColor": {
        "id": "mainColor",
        "rgb": [
         238,
         238,
         238
        ]
       }
      },
      "rules": {
       "a": {
        "color": "linkColor"
       },
       "h1": {
        "color": "headingColor",
        "font-family": "Oswald",
        "font-size": 7
       },
       "h2": {
        "color": "headingColor",
        "font-family": "Oswald",
        "font-size": 5
       },
       "h3": {
        "color": "headingColor",
        "font-family": "Oswald",
        "font-size": 3.75
       },
       "h4": {
        "color": "headingColor",
        "font-family": "Oswald",
        "font-size": 3
       },
       "h5": {
        "color": "headingColor",
        "font-family": "Oswald"
       },
       "h6": {
        "color": "headingColor",
        "font-family": "Oswald"
       },
       "h7": {
        "color": "headingColor",
        "font-family": "Oswald"
       },
       "li": {
        "color": "mainColor",
        "font-family": "Lato",
        "font-size": 5
       },
       "p": {
        "color": "mainColor",
        "font-family": "Lato",
        "font-size": 5
       }
      },
      "text-base": {
       "color": "mainColor",
       "font-family": "Lato",
       "font-size": 5
      }
     },
     "cc59980f-cb69-400a-b63a-1fb85ca73c8a": {
      "backgrounds": {
       "dc7afa04-bf90-40b1-82a5-726e3cff5267": {
        "background-color": "31af15d2-7e15-44c5-ab5e-e04b16a89eff",
        "id": "dc7afa04-bf90-40b1-82a5-726e3cff5267"
       }
      },
      "id": "cc59980f-cb69-400a-b63a-1fb85ca73c8a",
      "palette": {
       "19cc588f-0593-49c9-9f4b-e4d7cc113b1c": {
        "id": "19cc588f-0593-49c9-9f4b-e4d7cc113b1c",
        "rgb": [
         252,
         252,
         252
        ]
       },
       "31af15d2-7e15-44c5-ab5e-e04b16a89eff": {
        "id": "31af15d2-7e15-44c5-ab5e-e04b16a89eff",
        "rgb": [
         68,
         68,
         68
        ]
       },
       "50f92c45-a630-455b-aec3-788680ec7410": {
        "id": "50f92c45-a630-455b-aec3-788680ec7410",
        "rgb": [
         197,
         226,
         245
        ]
       },
       "c5cc3653-2ee1-402a-aba2-7caae1da4f6c": {
        "id": "c5cc3653-2ee1-402a-aba2-7caae1da4f6c",
        "rgb": [
         43,
         126,
         184
        ]
       },
       "efa7f048-9acb-414c-8b04-a26811511a21": {
        "id": "efa7f048-9acb-414c-8b04-a26811511a21",
        "rgb": [
         25.118061674008803,
         73.60176211453744,
         107.4819383259912
        ]
       }
      },
      "rules": {
       "a": {
        "color": "19cc588f-0593-49c9-9f4b-e4d7cc113b1c"
       },
       "blockquote": {
        "color": "50f92c45-a630-455b-aec3-788680ec7410",
        "font-size": 3
       },
       "code": {
        "font-family": "Anonymous Pro"
       },
       "h1": {
        "color": "19cc588f-0593-49c9-9f4b-e4d7cc113b1c",
        "font-family": "Merriweather",
        "font-size": 8
       },
       "h2": {
        "color": "19cc588f-0593-49c9-9f4b-e4d7cc113b1c",
        "font-family": "Merriweather",
        "font-size": 6
       },
       "h3": {
        "color": "50f92c45-a630-455b-aec3-788680ec7410",
        "font-family": "Lato",
        "font-size": 5.5
       },
       "h4": {
        "color": "c5cc3653-2ee1-402a-aba2-7caae1da4f6c",
        "font-family": "Lato",
        "font-size": 5
       },
       "h5": {
        "font-family": "Lato"
       },
       "h6": {
        "font-family": "Lato"
       },
       "h7": {
        "font-family": "Lato"
       },
       "li": {
        "color": "50f92c45-a630-455b-aec3-788680ec7410",
        "font-size": 3.25
       },
       "pre": {
        "font-family": "Anonymous Pro",
        "font-size": 4
       }
      },
      "text-base": {
       "color": "19cc588f-0593-49c9-9f4b-e4d7cc113b1c",
       "font-family": "Lato",
       "font-size": 4
      }
     }
    }
   }
  }
 },
 "nbformat": 4,
 "nbformat_minor": 1
}
