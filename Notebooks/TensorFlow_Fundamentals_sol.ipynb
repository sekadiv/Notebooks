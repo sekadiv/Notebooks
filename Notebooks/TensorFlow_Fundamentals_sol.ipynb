{
  "nbformat": 4,
  "nbformat_minor": 0,
  "metadata": {
    "kernelspec": {
      "display_name": "pytorch",
      "language": "python",
      "name": "pytorch"
    },
    "language_info": {
      "codemirror_mode": {
        "name": "ipython",
        "version": 3
      },
      "file_extension": ".py",
      "mimetype": "text/x-python",
      "name": "python",
      "nbconvert_exporter": "python",
      "pygments_lexer": "ipython3",
      "version": "3.7.7"
    },
    "colab": {
      "name": "TensorFlow_Fundamentals.ipynb",
      "provenance": [],
      "collapsed_sections": []
    }
  },
  "cells": [
    {
      "cell_type": "markdown",
      "metadata": {
        "id": "wV3uGq0V_olj"
      },
      "source": [
        "# Topics covered:\n",
        "## 1. How to create tensors?\n",
        "## 2. Two ways of declaring tensors\n",
        "## 3. Mathematical operations\n",
        "## 4. Linear algebra\n",
        "## 5. Shape related operations\n",
        "## 6. Automatic differentiation"
      ]
    },
    {
      "cell_type": "code",
      "metadata": {
        "id": "tj7ywgI79Dkd"
      },
      "source": [
        "import tensorflow as tf\n",
        "import numpy as np"
      ],
      "execution_count": 1,
      "outputs": []
    },
    {
      "cell_type": "code",
      "metadata": {
        "id": "fH7WBxztAmEJ",
        "colab": {
          "base_uri": "https://localhost:8080/"
        },
        "outputId": "2d6fc031-c267-47d8-936a-b3b7e009dadc"
      },
      "source": [
        "# check the current version of TensorFlow\n",
        "print(\"Using TensorFlow version:\", tf.__version__)"
      ],
      "execution_count": 2,
      "outputs": [
        {
          "output_type": "stream",
          "text": [
            "Using TensorFlow version: 2.5.0\n"
          ],
          "name": "stdout"
        }
      ]
    },
    {
      "cell_type": "markdown",
      "metadata": {
        "id": "APYMpAAD9Dkx"
      },
      "source": [
        "### 1. Tensors of different ranks"
      ]
    },
    {
      "cell_type": "code",
      "metadata": {
        "id": "gVmHbryk9Dkz",
        "colab": {
          "base_uri": "https://localhost:8080/"
        },
        "outputId": "2b703771-87b3-4ca5-b6ce-65a3c3201f30"
      },
      "source": [
        "\"\"\"A vector is a 1-dimensional tensor\"\"\"\n",
        "\n",
        "# Vector in TensorFlow\n",
        "vector_tf = tf.constant([0, 1, 2, 3, 4])\n",
        "\n",
        "# Vector in Numpy\n",
        "vector_np = np.array([0, 1, 2, 3, 4])\n",
        "\n",
        "print(\"Shapes:\", vector_tf.shape, vector_np.shape)\n",
        "\n",
        "\"\"\" A matrix is a 2-dimensional tensor\"\"\"\n",
        "\n",
        "# Matrix in TensorFlow\n",
        "matrix_tf = tf.constant([[0, 1], [2, 3], [4, 5]])\n",
        "\n",
        "# Matrix in Numpy\n",
        "matrix_np = np.array([[0, 1], [2, 3], [4, 5]])\n",
        "\n",
        "print(\"Shapes:\", matrix_tf.shape, matrix_np.shape)\n",
        "\n",
        "\"\"\"3-dimensional tensor\"\"\"\n",
        "\n",
        "# 3-d tensor in TensorFlow\n",
        "t3_tf = tf.constant([[[0., 1.], [2, 3], [4, 5]]]*5)\n",
        "\n",
        "# 3-d matrix in Numpy\n",
        "t3_np = np.array([[[0, 1], [2, 3], [4, 5]]]*5)\n",
        "\n",
        "print(\"Shapes:\", t3_tf.shape, t3_np.shape)"
      ],
      "execution_count": 3,
      "outputs": [
        {
          "output_type": "stream",
          "text": [
            "Shapes: (5,) (5,)\n",
            "Shapes: (3, 2) (3, 2)\n",
            "Shapes: (5, 3, 2) (5, 3, 2)\n"
          ],
          "name": "stdout"
        }
      ]
    },
    {
      "cell_type": "code",
      "metadata": {
        "id": "iAKLzobOBv5_",
        "colab": {
          "base_uri": "https://localhost:8080/"
        },
        "outputId": "ba9140b9-c482-4bb9-8b3c-b44c990ffa90"
      },
      "source": [
        "print(t3_tf)"
      ],
      "execution_count": 4,
      "outputs": [
        {
          "output_type": "stream",
          "text": [
            "tf.Tensor(\n",
            "[[[0. 1.]\n",
            "  [2. 3.]\n",
            "  [4. 5.]]\n",
            "\n",
            " [[0. 1.]\n",
            "  [2. 3.]\n",
            "  [4. 5.]]\n",
            "\n",
            " [[0. 1.]\n",
            "  [2. 3.]\n",
            "  [4. 5.]]\n",
            "\n",
            " [[0. 1.]\n",
            "  [2. 3.]\n",
            "  [4. 5.]]\n",
            "\n",
            " [[0. 1.]\n",
            "  [2. 3.]\n",
            "  [4. 5.]]], shape=(5, 3, 2), dtype=float32)\n"
          ],
          "name": "stdout"
        }
      ]
    },
    {
      "cell_type": "markdown",
      "metadata": {
        "id": "HMqDVVjEe1Yh"
      },
      "source": [
        "## Question: \n",
        "Declare a tensor of shape (2,2,2,2) with random numbers from normal distribution whose mean is 1 and the standard deviation is also 1."
      ]
    },
    {
      "cell_type": "code",
      "metadata": {
        "id": "HOnvoMFsZeIq",
        "colab": {
          "base_uri": "https://localhost:8080/"
        },
        "outputId": "165a1cf7-c178-41db-a358-80eb039e3f90"
      },
      "source": [
        "# approach 1 - initialize the nd array in Numpy and then use that to initialize the tensor\n",
        "arr = np.random.randn(2,2,2,2) # returns random numbers from standard normal distribution - mean = 0, std = 1\n",
        "print(arr.shape)\n",
        "print(arr)\n",
        "\n",
        "arr = arr + 1 # adding 1 makes the random numbers from normal distribution which has mean = 1\n",
        "\n",
        "# to change the standard deviation as well multiply with the new standard deviation, std = 2.5\n",
        "# arr = 2.5 * arr + 1 \n",
        "\n",
        "\n",
        "arr_tf = tf.constant(arr)\n",
        "print(arr_tf)\n",
        "\n",
        "print(type(arr_tf.numpy()))"
      ],
      "execution_count": 5,
      "outputs": [
        {
          "output_type": "stream",
          "text": [
            "(2, 2, 2, 2)\n",
            "[[[[ 0.59208137  0.17848317]\n",
            "   [-0.00833444 -1.02114513]]\n",
            "\n",
            "  [[ 0.89396842  0.9394795 ]\n",
            "   [-1.77097389 -2.45305689]]]\n",
            "\n",
            "\n",
            " [[[-0.46979266 -1.95700146]\n",
            "   [-0.75118619 -0.1017465 ]]\n",
            "\n",
            "  [[ 1.46624713 -1.42824981]\n",
            "   [-0.59766506 -0.44628555]]]]\n",
            "tf.Tensor(\n",
            "[[[[ 1.59208137  1.17848317]\n",
            "   [ 0.99166556 -0.02114513]]\n",
            "\n",
            "  [[ 1.89396842  1.9394795 ]\n",
            "   [-0.77097389 -1.45305689]]]\n",
            "\n",
            "\n",
            " [[[ 0.53020734 -0.95700146]\n",
            "   [ 0.24881381  0.8982535 ]]\n",
            "\n",
            "  [[ 2.46624713 -0.42824981]\n",
            "   [ 0.40233494  0.55371445]]]], shape=(2, 2, 2, 2), dtype=float64)\n",
            "<class 'numpy.ndarray'>\n"
          ],
          "name": "stdout"
        }
      ]
    },
    {
      "cell_type": "code",
      "metadata": {
        "id": "E_w5Oj5NcIoE",
        "colab": {
          "base_uri": "https://localhost:8080/"
        },
        "outputId": "aadcee12-ac91-4292-a475-90ffe97d5f1f"
      },
      "source": [
        "# approch 2 - using random number generating functions from TensorFlow\n",
        "arr_tf = tf.random.normal((2,2,2,2), mean=1, stddev=1, name=\"my_tensor\")\n",
        "print(arr_tf.shape)\n",
        "print(arr_tf.numpy())"
      ],
      "execution_count": 6,
      "outputs": [
        {
          "output_type": "stream",
          "text": [
            "(2, 2, 2, 2)\n",
            "[[[[ 1.3999135  -1.4110079 ]\n",
            "   [ 0.06814235  0.88065344]]\n",
            "\n",
            "  [[ 0.70922995  0.74357194]\n",
            "   [ 0.5580388   0.5631658 ]]]\n",
            "\n",
            "\n",
            " [[[-0.6944715   1.8720722 ]\n",
            "   [ 0.85158575  0.65632   ]]\n",
            "\n",
            "  [[-0.05664313  0.5950848 ]\n",
            "   [ 1.4050989   1.7151444 ]]]]\n"
          ],
          "name": "stdout"
        }
      ]
    },
    {
      "cell_type": "markdown",
      "metadata": {
        "id": "uZOY4Cka9DlI"
      },
      "source": [
        "### 2. Two ways of declaring tensors"
      ]
    },
    {
      "cell_type": "code",
      "metadata": {
        "id": "DojUSo7p9DlK"
      },
      "source": [
        "\"\"\"Two types of tensors: tf.constant & tf.Variable\"\"\"\n",
        "const_tensor = tf.constant([[1, 2, 3], [4, 5, 6]])\n",
        "var_tensor = tf.Variable([[1, 2, 3], [4, 5, 6]])"
      ],
      "execution_count": 7,
      "outputs": []
    },
    {
      "cell_type": "code",
      "metadata": {
        "id": "ZnAtZypD9DlW",
        "colab": {
          "base_uri": "https://localhost:8080/"
        },
        "outputId": "a55f4753-a060-4ce7-f3fa-639385302f7f"
      },
      "source": [
        "\"\"\"Declaring tensors with specific datatypes\"\"\"\n",
        "int32_tensor = tf.Variable([[1, 2, 3], [4, 5, 6]], dtype=tf.int32) # specify int32 datatype\n",
        "float32_tensor = tf.Variable([[1, 2, 3], [4, 5, 6]], dtype=tf.float32) # specify float32 datatype\n",
        "bool_tensor = tf.Variable([True, False, False], dtype=tf.bool) # specify bool datatype.\n",
        "\n",
        "print(\"Int32 tensor:\", int32_tensor)\n",
        "print(\"Float32 tensor:\", float32_tensor)\n",
        "print(\"Boolean tensor:\", bool_tensor)"
      ],
      "execution_count": 8,
      "outputs": [
        {
          "output_type": "stream",
          "text": [
            "Int32 tensor: <tf.Variable 'Variable:0' shape=(2, 3) dtype=int32, numpy=\n",
            "array([[1, 2, 3],\n",
            "       [4, 5, 6]], dtype=int32)>\n",
            "Float32 tensor: <tf.Variable 'Variable:0' shape=(2, 3) dtype=float32, numpy=\n",
            "array([[1., 2., 3.],\n",
            "       [4., 5., 6.]], dtype=float32)>\n",
            "Boolean tensor: <tf.Variable 'Variable:0' shape=(3,) dtype=bool, numpy=array([ True, False, False])>\n"
          ],
          "name": "stdout"
        }
      ]
    },
    {
      "cell_type": "code",
      "metadata": {
        "id": "he-Gct-lDdrG",
        "colab": {
          "base_uri": "https://localhost:8080/"
        },
        "outputId": "24771472-f3e5-49b8-ee21-9463029f62db"
      },
      "source": [
        "int32_tensor.numpy()"
      ],
      "execution_count": 9,
      "outputs": [
        {
          "output_type": "execute_result",
          "data": {
            "text/plain": [
              "array([[1, 2, 3],\n",
              "       [4, 5, 6]], dtype=int32)"
            ]
          },
          "metadata": {
            "tags": []
          },
          "execution_count": 9
        }
      ]
    },
    {
      "cell_type": "markdown",
      "metadata": {
        "id": "VohfnXsg9Dlh"
      },
      "source": [
        "#### Note that tf.Variable infers the datatype if it is not specified. Hence the bool tensor could have been declared as\n",
        "#### bool_tensor = tf.Variable([True, False, False])\n",
        "#### and the result would have been same."
      ]
    },
    {
      "cell_type": "markdown",
      "metadata": {
        "id": "kG9b2sQvgd3U"
      },
      "source": [
        "## Question: \n",
        "Sample random numbers from the standard normal distribution and change all negative numbers to zero. The minimum value in the resulting matrix has to be zero."
      ]
    },
    {
      "cell_type": "code",
      "metadata": {
        "id": "sPjeqmx1hWg9",
        "colab": {
          "base_uri": "https://localhost:8080/"
        },
        "outputId": "d2187cbb-c1bc-429b-9719-f311252e8043"
      },
      "source": [
        "# let's create a 2d tensor of shape (5,4)\n",
        "\n",
        "random_tensor = tf.random.normal((5,4))\n",
        "\n",
        "bool_index = tf.less(random_tensor, 0.)\n",
        "\n",
        "print(random_tensor, bool_index)\n",
        "\n",
        "zeros_tensor = tf.zeros((5,4), dtype=tf.float32)\n",
        "\n",
        "print(zeros_tensor)\n",
        "\n",
        "output_tensor = tf.where(bool_index, zeros_tensor, random_tensor)\n",
        "\n",
        "print(output_tensor)"
      ],
      "execution_count": 10,
      "outputs": [
        {
          "output_type": "stream",
          "text": [
            "tf.Tensor(\n",
            "[[-0.9780385  -0.24049708  0.4727161  -0.07422414]\n",
            " [-0.88984656 -1.8122746   0.22336154  2.048795  ]\n",
            " [-0.7222003   0.94579077  1.4778256   0.91212827]\n",
            " [-0.48425296 -1.2321981   0.15606642 -0.4130552 ]\n",
            " [-0.90006876 -1.1009411  -0.5351326   1.1051592 ]], shape=(5, 4), dtype=float32) tf.Tensor(\n",
            "[[ True  True False  True]\n",
            " [ True  True False False]\n",
            " [ True False False False]\n",
            " [ True  True False  True]\n",
            " [ True  True  True False]], shape=(5, 4), dtype=bool)\n",
            "tf.Tensor(\n",
            "[[0. 0. 0. 0.]\n",
            " [0. 0. 0. 0.]\n",
            " [0. 0. 0. 0.]\n",
            " [0. 0. 0. 0.]\n",
            " [0. 0. 0. 0.]], shape=(5, 4), dtype=float32)\n",
            "tf.Tensor(\n",
            "[[0.         0.         0.4727161  0.        ]\n",
            " [0.         0.         0.22336154 2.048795  ]\n",
            " [0.         0.94579077 1.4778256  0.91212827]\n",
            " [0.         0.         0.15606642 0.        ]\n",
            " [0.         0.         0.         1.1051592 ]], shape=(5, 4), dtype=float32)\n"
          ],
          "name": "stdout"
        }
      ]
    },
    {
      "cell_type": "markdown",
      "metadata": {
        "id": "Zas4Grvj9Dlk"
      },
      "source": [
        "### 3. Common mathematical operations on tensors"
      ]
    },
    {
      "cell_type": "code",
      "metadata": {
        "id": "Zfp_4p929Dlm",
        "colab": {
          "base_uri": "https://localhost:8080/"
        },
        "outputId": "a5490259-14a2-4851-9cf1-bc193bd771d6"
      },
      "source": [
        "\"\"\"Let us define two tensors\"\"\"\n",
        "\n",
        "x = tf.Variable([list(range(5))]*5) # 2D tensor of shape (5, 5)\n",
        "y = tf.Variable([list(range(5, 10))]*5) # 2D tensor of shape (5, 5)\n",
        "\n",
        "print(\"x:\", x)\n",
        "print(\"y:\", y)"
      ],
      "execution_count": 11,
      "outputs": [
        {
          "output_type": "stream",
          "text": [
            "x: <tf.Variable 'Variable:0' shape=(5, 5) dtype=int32, numpy=\n",
            "array([[0, 1, 2, 3, 4],\n",
            "       [0, 1, 2, 3, 4],\n",
            "       [0, 1, 2, 3, 4],\n",
            "       [0, 1, 2, 3, 4],\n",
            "       [0, 1, 2, 3, 4]], dtype=int32)>\n",
            "y: <tf.Variable 'Variable:0' shape=(5, 5) dtype=int32, numpy=\n",
            "array([[5, 6, 7, 8, 9],\n",
            "       [5, 6, 7, 8, 9],\n",
            "       [5, 6, 7, 8, 9],\n",
            "       [5, 6, 7, 8, 9],\n",
            "       [5, 6, 7, 8, 9]], dtype=int32)>\n"
          ],
          "name": "stdout"
        }
      ]
    },
    {
      "cell_type": "code",
      "metadata": {
        "id": "XVBPNaJH9Dlx",
        "colab": {
          "base_uri": "https://localhost:8080/"
        },
        "outputId": "6d0268e9-0d82-4623-b43a-83c6e5ee5b6c"
      },
      "source": [
        "\"\"\"Simple mathematical operations two tensors\"\"\"\n",
        "z = x + y # element-wise addition\n",
        "print(\"z:\", z)\n",
        "\n",
        "w = x * y # element-wise multiplications\n",
        "print(\"w:\", w)\n",
        "\n",
        "v = y / x # element-wise division does not raise exception for division by 0 as TensorFlow supports Inf and NaN types\n",
        "print(\"v:\", v)"
      ],
      "execution_count": 12,
      "outputs": [
        {
          "output_type": "stream",
          "text": [
            "z: tf.Tensor(\n",
            "[[ 5  7  9 11 13]\n",
            " [ 5  7  9 11 13]\n",
            " [ 5  7  9 11 13]\n",
            " [ 5  7  9 11 13]\n",
            " [ 5  7  9 11 13]], shape=(5, 5), dtype=int32)\n",
            "w: tf.Tensor(\n",
            "[[ 0  6 14 24 36]\n",
            " [ 0  6 14 24 36]\n",
            " [ 0  6 14 24 36]\n",
            " [ 0  6 14 24 36]\n",
            " [ 0  6 14 24 36]], shape=(5, 5), dtype=int32)\n",
            "v: tf.Tensor(\n",
            "[[       inf 6.         3.5        2.66666667 2.25      ]\n",
            " [       inf 6.         3.5        2.66666667 2.25      ]\n",
            " [       inf 6.         3.5        2.66666667 2.25      ]\n",
            " [       inf 6.         3.5        2.66666667 2.25      ]\n",
            " [       inf 6.         3.5        2.66666667 2.25      ]], shape=(5, 5), dtype=float64)\n"
          ],
          "name": "stdout"
        }
      ]
    },
    {
      "cell_type": "markdown",
      "metadata": {
        "id": "vBTBlviJ9Dl9"
      },
      "source": [
        "#### Alternatively, use TensorFlow functions for the mathematical operations\n",
        "#### z = tf.add(x, y)\n",
        "#### w = tf.multiply(x, y)\n",
        "#### v = tf.divide(y, x)"
      ]
    },
    {
      "cell_type": "markdown",
      "metadata": {
        "id": "m5XjMPUP9DmB"
      },
      "source": [
        "#### Note that element-wise operations does not work if tensors have different shapes or cannot be broadcasted"
      ]
    },
    {
      "cell_type": "code",
      "metadata": {
        "id": "noU1PurS9DmD",
        "colab": {
          "base_uri": "https://localhost:8080/"
        },
        "outputId": "fbd27a93-05a1-4270-b378-334b9032a2e8"
      },
      "source": [
        "# transpose of tensors\n",
        "y = tf.Variable([[0, 1, 2], [3, 4, 5], [6, 7, 8], [9, 10, 11], [12, 13, 14]]) # shape is (5, 3)\n",
        "z = tf.transpose(y) # shape is (3, 5)\n",
        "print(\"Before transpose:\", y)\n",
        "print(\"After transpose:\", z)"
      ],
      "execution_count": 13,
      "outputs": [
        {
          "output_type": "stream",
          "text": [
            "Before transpose: <tf.Variable 'Variable:0' shape=(5, 3) dtype=int32, numpy=\n",
            "array([[ 0,  1,  2],\n",
            "       [ 3,  4,  5],\n",
            "       [ 6,  7,  8],\n",
            "       [ 9, 10, 11],\n",
            "       [12, 13, 14]], dtype=int32)>\n",
            "After transpose: tf.Tensor(\n",
            "[[ 0  3  6  9 12]\n",
            " [ 1  4  7 10 13]\n",
            " [ 2  5  8 11 14]], shape=(3, 5), dtype=int32)\n"
          ],
          "name": "stdout"
        }
      ]
    },
    {
      "cell_type": "code",
      "metadata": {
        "id": "KZXHMphqFmw5",
        "colab": {
          "base_uri": "https://localhost:8080/",
          "height": 222
        },
        "outputId": "cac26760-6d91-4c21-8535-8ceaccc679d3"
      },
      "source": [
        "y + z"
      ],
      "execution_count": 14,
      "outputs": [
        {
          "output_type": "error",
          "ename": "InvalidArgumentError",
          "evalue": "ignored",
          "traceback": [
            "\u001b[0;31m---------------------------------------------------------------------------\u001b[0m",
            "\u001b[0;31mInvalidArgumentError\u001b[0m                      Traceback (most recent call last)",
            "\u001b[0;32m<ipython-input-14-ff96b8185f8d>\u001b[0m in \u001b[0;36m<module>\u001b[0;34m()\u001b[0m\n\u001b[0;32m----> 1\u001b[0;31m \u001b[0my\u001b[0m \u001b[0;34m+\u001b[0m \u001b[0mz\u001b[0m\u001b[0;34m\u001b[0m\u001b[0;34m\u001b[0m\u001b[0m\n\u001b[0m",
            "\u001b[0;32m/usr/local/lib/python3.7/dist-packages/tensorflow/python/ops/variables.py\u001b[0m in \u001b[0;36m_run_op\u001b[0;34m(a, *args, **kwargs)\u001b[0m\n\u001b[1;32m   1072\u001b[0m     \u001b[0;32mdef\u001b[0m \u001b[0m_run_op\u001b[0m\u001b[0;34m(\u001b[0m\u001b[0ma\u001b[0m\u001b[0;34m,\u001b[0m \u001b[0;34m*\u001b[0m\u001b[0margs\u001b[0m\u001b[0;34m,\u001b[0m \u001b[0;34m**\u001b[0m\u001b[0mkwargs\u001b[0m\u001b[0;34m)\u001b[0m\u001b[0;34m:\u001b[0m\u001b[0;34m\u001b[0m\u001b[0;34m\u001b[0m\u001b[0m\n\u001b[1;32m   1073\u001b[0m       \u001b[0;31m# pylint: disable=protected-access\u001b[0m\u001b[0;34m\u001b[0m\u001b[0;34m\u001b[0m\u001b[0;34m\u001b[0m\u001b[0m\n\u001b[0;32m-> 1074\u001b[0;31m       \u001b[0;32mreturn\u001b[0m \u001b[0mtensor_oper\u001b[0m\u001b[0;34m(\u001b[0m\u001b[0ma\u001b[0m\u001b[0;34m.\u001b[0m\u001b[0mvalue\u001b[0m\u001b[0;34m(\u001b[0m\u001b[0;34m)\u001b[0m\u001b[0;34m,\u001b[0m \u001b[0;34m*\u001b[0m\u001b[0margs\u001b[0m\u001b[0;34m,\u001b[0m \u001b[0;34m**\u001b[0m\u001b[0mkwargs\u001b[0m\u001b[0;34m)\u001b[0m\u001b[0;34m\u001b[0m\u001b[0;34m\u001b[0m\u001b[0m\n\u001b[0m\u001b[1;32m   1075\u001b[0m \u001b[0;34m\u001b[0m\u001b[0m\n\u001b[1;32m   1076\u001b[0m     \u001b[0mfunctools\u001b[0m\u001b[0;34m.\u001b[0m\u001b[0mupdate_wrapper\u001b[0m\u001b[0;34m(\u001b[0m\u001b[0m_run_op\u001b[0m\u001b[0;34m,\u001b[0m \u001b[0mtensor_oper\u001b[0m\u001b[0;34m)\u001b[0m\u001b[0;34m\u001b[0m\u001b[0;34m\u001b[0m\u001b[0m\n",
            "\u001b[0;32m/usr/local/lib/python3.7/dist-packages/tensorflow/python/ops/math_ops.py\u001b[0m in \u001b[0;36mbinary_op_wrapper\u001b[0;34m(x, y)\u001b[0m\n\u001b[1;32m   1232\u001b[0m         \u001b[0;31m#   r_binary_op_wrapper use different force_same_dtype values.\u001b[0m\u001b[0;34m\u001b[0m\u001b[0;34m\u001b[0m\u001b[0;34m\u001b[0m\u001b[0m\n\u001b[1;32m   1233\u001b[0m         \u001b[0mx\u001b[0m\u001b[0;34m,\u001b[0m \u001b[0my\u001b[0m \u001b[0;34m=\u001b[0m \u001b[0mmaybe_promote_tensors\u001b[0m\u001b[0;34m(\u001b[0m\u001b[0mx\u001b[0m\u001b[0;34m,\u001b[0m \u001b[0my\u001b[0m\u001b[0;34m,\u001b[0m \u001b[0mforce_same_dtype\u001b[0m\u001b[0;34m=\u001b[0m\u001b[0;32mFalse\u001b[0m\u001b[0;34m)\u001b[0m\u001b[0;34m\u001b[0m\u001b[0;34m\u001b[0m\u001b[0m\n\u001b[0;32m-> 1234\u001b[0;31m         \u001b[0;32mreturn\u001b[0m \u001b[0mfunc\u001b[0m\u001b[0;34m(\u001b[0m\u001b[0mx\u001b[0m\u001b[0;34m,\u001b[0m \u001b[0my\u001b[0m\u001b[0;34m,\u001b[0m \u001b[0mname\u001b[0m\u001b[0;34m=\u001b[0m\u001b[0mname\u001b[0m\u001b[0;34m)\u001b[0m\u001b[0;34m\u001b[0m\u001b[0;34m\u001b[0m\u001b[0m\n\u001b[0m\u001b[1;32m   1235\u001b[0m       \u001b[0;32mexcept\u001b[0m \u001b[0;34m(\u001b[0m\u001b[0mTypeError\u001b[0m\u001b[0;34m,\u001b[0m \u001b[0mValueError\u001b[0m\u001b[0;34m)\u001b[0m \u001b[0;32mas\u001b[0m \u001b[0me\u001b[0m\u001b[0;34m:\u001b[0m\u001b[0;34m\u001b[0m\u001b[0;34m\u001b[0m\u001b[0m\n\u001b[1;32m   1236\u001b[0m         \u001b[0;31m# Even if dispatching the op failed, the RHS may be a tensor aware\u001b[0m\u001b[0;34m\u001b[0m\u001b[0;34m\u001b[0m\u001b[0;34m\u001b[0m\u001b[0m\n",
            "\u001b[0;32m/usr/local/lib/python3.7/dist-packages/tensorflow/python/util/dispatch.py\u001b[0m in \u001b[0;36mwrapper\u001b[0;34m(*args, **kwargs)\u001b[0m\n\u001b[1;32m    204\u001b[0m     \u001b[0;34m\"\"\"Call target, and fall back on dispatchers if there is a TypeError.\"\"\"\u001b[0m\u001b[0;34m\u001b[0m\u001b[0;34m\u001b[0m\u001b[0m\n\u001b[1;32m    205\u001b[0m     \u001b[0;32mtry\u001b[0m\u001b[0;34m:\u001b[0m\u001b[0;34m\u001b[0m\u001b[0;34m\u001b[0m\u001b[0m\n\u001b[0;32m--> 206\u001b[0;31m       \u001b[0;32mreturn\u001b[0m \u001b[0mtarget\u001b[0m\u001b[0;34m(\u001b[0m\u001b[0;34m*\u001b[0m\u001b[0margs\u001b[0m\u001b[0;34m,\u001b[0m \u001b[0;34m**\u001b[0m\u001b[0mkwargs\u001b[0m\u001b[0;34m)\u001b[0m\u001b[0;34m\u001b[0m\u001b[0;34m\u001b[0m\u001b[0m\n\u001b[0m\u001b[1;32m    207\u001b[0m     \u001b[0;32mexcept\u001b[0m \u001b[0;34m(\u001b[0m\u001b[0mTypeError\u001b[0m\u001b[0;34m,\u001b[0m \u001b[0mValueError\u001b[0m\u001b[0;34m)\u001b[0m\u001b[0;34m:\u001b[0m\u001b[0;34m\u001b[0m\u001b[0;34m\u001b[0m\u001b[0m\n\u001b[1;32m    208\u001b[0m       \u001b[0;31m# Note: convert_to_eager_tensor currently raises a ValueError, not a\u001b[0m\u001b[0;34m\u001b[0m\u001b[0;34m\u001b[0m\u001b[0;34m\u001b[0m\u001b[0m\n",
            "\u001b[0;32m/usr/local/lib/python3.7/dist-packages/tensorflow/python/ops/math_ops.py\u001b[0m in \u001b[0;36m_add_dispatch\u001b[0;34m(x, y, name)\u001b[0m\n\u001b[1;32m   1563\u001b[0m     \u001b[0;32mreturn\u001b[0m \u001b[0mgen_math_ops\u001b[0m\u001b[0;34m.\u001b[0m\u001b[0madd\u001b[0m\u001b[0;34m(\u001b[0m\u001b[0mx\u001b[0m\u001b[0;34m,\u001b[0m \u001b[0my\u001b[0m\u001b[0;34m,\u001b[0m \u001b[0mname\u001b[0m\u001b[0;34m=\u001b[0m\u001b[0mname\u001b[0m\u001b[0;34m)\u001b[0m\u001b[0;34m\u001b[0m\u001b[0;34m\u001b[0m\u001b[0m\n\u001b[1;32m   1564\u001b[0m   \u001b[0;32melse\u001b[0m\u001b[0;34m:\u001b[0m\u001b[0;34m\u001b[0m\u001b[0;34m\u001b[0m\u001b[0m\n\u001b[0;32m-> 1565\u001b[0;31m     \u001b[0;32mreturn\u001b[0m \u001b[0mgen_math_ops\u001b[0m\u001b[0;34m.\u001b[0m\u001b[0madd_v2\u001b[0m\u001b[0;34m(\u001b[0m\u001b[0mx\u001b[0m\u001b[0;34m,\u001b[0m \u001b[0my\u001b[0m\u001b[0;34m,\u001b[0m \u001b[0mname\u001b[0m\u001b[0;34m=\u001b[0m\u001b[0mname\u001b[0m\u001b[0;34m)\u001b[0m\u001b[0;34m\u001b[0m\u001b[0;34m\u001b[0m\u001b[0m\n\u001b[0m\u001b[1;32m   1566\u001b[0m \u001b[0;34m\u001b[0m\u001b[0m\n\u001b[1;32m   1567\u001b[0m \u001b[0;34m\u001b[0m\u001b[0m\n",
            "\u001b[0;32m/usr/local/lib/python3.7/dist-packages/tensorflow/python/ops/gen_math_ops.py\u001b[0m in \u001b[0;36madd_v2\u001b[0;34m(x, y, name)\u001b[0m\n\u001b[1;32m    521\u001b[0m       \u001b[0;32mreturn\u001b[0m \u001b[0m_result\u001b[0m\u001b[0;34m\u001b[0m\u001b[0;34m\u001b[0m\u001b[0m\n\u001b[1;32m    522\u001b[0m     \u001b[0;32mexcept\u001b[0m \u001b[0m_core\u001b[0m\u001b[0;34m.\u001b[0m\u001b[0m_NotOkStatusException\u001b[0m \u001b[0;32mas\u001b[0m \u001b[0me\u001b[0m\u001b[0;34m:\u001b[0m\u001b[0;34m\u001b[0m\u001b[0;34m\u001b[0m\u001b[0m\n\u001b[0;32m--> 523\u001b[0;31m       \u001b[0m_ops\u001b[0m\u001b[0;34m.\u001b[0m\u001b[0mraise_from_not_ok_status\u001b[0m\u001b[0;34m(\u001b[0m\u001b[0me\u001b[0m\u001b[0;34m,\u001b[0m \u001b[0mname\u001b[0m\u001b[0;34m)\u001b[0m\u001b[0;34m\u001b[0m\u001b[0;34m\u001b[0m\u001b[0m\n\u001b[0m\u001b[1;32m    524\u001b[0m     \u001b[0;32mexcept\u001b[0m \u001b[0m_core\u001b[0m\u001b[0;34m.\u001b[0m\u001b[0m_FallbackException\u001b[0m\u001b[0;34m:\u001b[0m\u001b[0;34m\u001b[0m\u001b[0;34m\u001b[0m\u001b[0m\n\u001b[1;32m    525\u001b[0m       \u001b[0;32mpass\u001b[0m\u001b[0;34m\u001b[0m\u001b[0;34m\u001b[0m\u001b[0m\n",
            "\u001b[0;32m/usr/local/lib/python3.7/dist-packages/tensorflow/python/framework/ops.py\u001b[0m in \u001b[0;36mraise_from_not_ok_status\u001b[0;34m(e, name)\u001b[0m\n\u001b[1;32m   6895\u001b[0m   \u001b[0mmessage\u001b[0m \u001b[0;34m=\u001b[0m \u001b[0me\u001b[0m\u001b[0;34m.\u001b[0m\u001b[0mmessage\u001b[0m \u001b[0;34m+\u001b[0m \u001b[0;34m(\u001b[0m\u001b[0;34m\" name: \"\u001b[0m \u001b[0;34m+\u001b[0m \u001b[0mname\u001b[0m \u001b[0;32mif\u001b[0m \u001b[0mname\u001b[0m \u001b[0;32mis\u001b[0m \u001b[0;32mnot\u001b[0m \u001b[0;32mNone\u001b[0m \u001b[0;32melse\u001b[0m \u001b[0;34m\"\"\u001b[0m\u001b[0;34m)\u001b[0m\u001b[0;34m\u001b[0m\u001b[0;34m\u001b[0m\u001b[0m\n\u001b[1;32m   6896\u001b[0m   \u001b[0;31m# pylint: disable=protected-access\u001b[0m\u001b[0;34m\u001b[0m\u001b[0;34m\u001b[0m\u001b[0;34m\u001b[0m\u001b[0m\n\u001b[0;32m-> 6897\u001b[0;31m   \u001b[0msix\u001b[0m\u001b[0;34m.\u001b[0m\u001b[0mraise_from\u001b[0m\u001b[0;34m(\u001b[0m\u001b[0mcore\u001b[0m\u001b[0;34m.\u001b[0m\u001b[0m_status_to_exception\u001b[0m\u001b[0;34m(\u001b[0m\u001b[0me\u001b[0m\u001b[0;34m.\u001b[0m\u001b[0mcode\u001b[0m\u001b[0;34m,\u001b[0m \u001b[0mmessage\u001b[0m\u001b[0;34m)\u001b[0m\u001b[0;34m,\u001b[0m \u001b[0;32mNone\u001b[0m\u001b[0;34m)\u001b[0m\u001b[0;34m\u001b[0m\u001b[0;34m\u001b[0m\u001b[0m\n\u001b[0m\u001b[1;32m   6898\u001b[0m   \u001b[0;31m# pylint: enable=protected-access\u001b[0m\u001b[0;34m\u001b[0m\u001b[0;34m\u001b[0m\u001b[0;34m\u001b[0m\u001b[0m\n\u001b[1;32m   6899\u001b[0m \u001b[0;34m\u001b[0m\u001b[0m\n",
            "\u001b[0;32m/usr/local/lib/python3.7/dist-packages/six.py\u001b[0m in \u001b[0;36mraise_from\u001b[0;34m(value, from_value)\u001b[0m\n",
            "\u001b[0;31mInvalidArgumentError\u001b[0m: Incompatible shapes: [5,3] vs. [3,5] [Op:AddV2]"
          ]
        }
      ]
    },
    {
      "cell_type": "markdown",
      "metadata": {
        "id": "a49N0Ahvjxty"
      },
      "source": [
        "## Question: \n",
        "OR two boolean tensors of shape 3 by 3. \n",
        "\n",
        "[Link to the library](https://www.tensorflow.org/api_docs/python/tf/math/logical_or)"
      ]
    },
    {
      "cell_type": "code",
      "metadata": {
        "id": "wFqZE8BTjx_f"
      },
      "source": [
        "x = tf.random.uniform((4,4), minval=0, maxval=1)\n",
        "print(\"Numeric value of x:\", x)\n",
        "x = x < 0.25\n",
        "print(x)\n",
        "\n",
        "# x = tf.Variable([[True, False, True, False], [True, False, True, False], [True, False, True, False], [True, False, True, False]])\n",
        "# print(x)\n",
        "\n",
        "y = tf.random.uniform((4,4), minval=0, maxval=1)\n",
        "print(y)\n",
        "y = y > 0.05\n",
        "print(y)\n",
        "\n",
        "# z = x AND y\n",
        "z = tf.logical_and(x, y)\n",
        "print(z)"
      ],
      "execution_count": null,
      "outputs": []
    },
    {
      "cell_type": "markdown",
      "metadata": {
        "id": "TPriJwcfmOai"
      },
      "source": [
        "## Question: \n",
        "Find the dot product of two vectors. You can initialize the vectors using random numbers sampled from a distrbution of your choice."
      ]
    },
    {
      "cell_type": "code",
      "metadata": {
        "id": "zSalOXNkn_3d",
        "colab": {
          "base_uri": "https://localhost:8080/"
        },
        "outputId": "aa99fcfe-954d-444c-8416-e569fbd2a8f9"
      },
      "source": [
        "# x = (x1, x2, x3, x4)\n",
        "# y = (y1, y2, y3, y4)\n",
        "\n",
        "# z = x (dot) y = x1*y1 + x2*y2 + x3*y3 + x4*y4\n",
        "\n",
        "x = tf.random.uniform((10, ))\n",
        "y = tf.random.uniform((10, ))\n",
        "\n",
        "# dot product\n",
        "xy = x * y\n",
        "print(\"Shape of xy after element-wise multiplication:\", xy.shape)\n",
        "xy = tf.reduce_sum(xy, keepdims=True)\n",
        "print(\"Shape of xy after reduce_sum:\", xy.shape)\n",
        "print(xy)"
      ],
      "execution_count": 15,
      "outputs": [
        {
          "output_type": "stream",
          "text": [
            "Shape of xy after element-wise multiplication: (10,)\n",
            "Shape of xy after reduce_sum: (1,)\n",
            "tf.Tensor([2.9930434], shape=(1,), dtype=float32)\n"
          ],
          "name": "stdout"
        }
      ]
    },
    {
      "cell_type": "markdown",
      "metadata": {
        "id": "G4yPc7969DmN"
      },
      "source": [
        "###     \n",
        "### 4. Linear algebra on tensors"
      ]
    },
    {
      "cell_type": "code",
      "metadata": {
        "id": "Nk4_2eaW9DmO",
        "colab": {
          "base_uri": "https://localhost:8080/"
        },
        "outputId": "86eabc94-7597-47f4-95e6-7f2a9ae88906"
      },
      "source": [
        "# Matrix multiplication\n",
        "x = tf.Variable([[0, 1, 2, 3, 4], [5, 6, 7, 8, 9], [10, 11, 12, 13, 14], [15, 16, 17, 18, 19], [20, 21, 22, 23, 24]])\n",
        "y = tf.Variable([[0, 1, 2], [3, 4, 5], [6, 7, 8], [9, 10, 11], [12, 13, 14]])\n",
        "\n",
        "z = tf.linalg.matmul(x, y) # matrix multiplication between a (5, 5) and a (5, 3) tensor\n",
        "print(\"z:\", z)"
      ],
      "execution_count": 16,
      "outputs": [
        {
          "output_type": "stream",
          "text": [
            "z: tf.Tensor(\n",
            "[[ 90 100 110]\n",
            " [240 275 310]\n",
            " [390 450 510]\n",
            " [540 625 710]\n",
            " [690 800 910]], shape=(5, 3), dtype=int32)\n"
          ],
          "name": "stdout"
        }
      ]
    },
    {
      "cell_type": "markdown",
      "metadata": {
        "id": "bjCb05rS9DmY"
      },
      "source": [
        "#### Note that tf.linalg.matmul raises exception if tensor shapes are incompatible for matrix multiplication"
      ]
    },
    {
      "cell_type": "code",
      "metadata": {
        "id": "8UV4D5o99Dma",
        "colab": {
          "base_uri": "https://localhost:8080/"
        },
        "outputId": "7f9d53e7-a6d4-473e-ab60-c9dcdc03b8c3"
      },
      "source": [
        "# Matrix inverse\n",
        "try:\n",
        "    x = tf.Variable([[2, 3], [2, 2]])\n",
        "    xinv = tf.linalg.inv(x)            # x * xinv = I\n",
        "    print(\"Inverse of x:\", xinv)\n",
        "except Exception as e:\n",
        "    print(\"Exception raised while performing tensor inverse:\\n\", str(e))"
      ],
      "execution_count": 17,
      "outputs": [
        {
          "output_type": "stream",
          "text": [
            "Exception raised while performing tensor inverse:\n",
            " Value for attr 'T' of int32 is not in the list of allowed values: double, float, half, complex64, complex128\n",
            "\t; NodeDef: {{node MatrixInverse}}; Op<name=MatrixInverse; signature=input:T -> output:T; attr=adjoint:bool,default=false; attr=T:type,allowed=[DT_DOUBLE, DT_FLOAT, DT_HALF, DT_COMPLEX64, DT_COMPLEX128]> [Op:MatrixInverse]\n"
          ],
          "name": "stdout"
        }
      ]
    },
    {
      "cell_type": "markdown",
      "metadata": {
        "id": "ASTXSFfB9Dmi"
      },
      "source": [
        "#### The above exception occured because matrix inverse is allowed only for float datatypes (float16, float 32 etc.). The try-except block \n",
        "#### is purposefully used to demonstrate this behaviour."
      ]
    },
    {
      "cell_type": "code",
      "metadata": {
        "id": "usp9kOPy9Dmk",
        "colab": {
          "base_uri": "https://localhost:8080/"
        },
        "outputId": "f611ecc4-6ac4-495b-c5f4-0f1788d294cb"
      },
      "source": [
        "# Let us try after changing the datatype using tf.cast function\n",
        "x = tf.cast(x, tf.float32)\n",
        "xinv = tf.linalg.inv(x)\n",
        "print(\"Inverse of x:\", xinv)"
      ],
      "execution_count": 18,
      "outputs": [
        {
          "output_type": "stream",
          "text": [
            "Inverse of x: tf.Tensor(\n",
            "[[-1.   1.5]\n",
            " [ 1.  -1. ]], shape=(2, 2), dtype=float32)\n"
          ],
          "name": "stdout"
        }
      ]
    },
    {
      "cell_type": "markdown",
      "metadata": {
        "id": "8qNRhN0e9Dmt"
      },
      "source": [
        "#### Note that if the matrix is not invertible tf.linalg.inv will raise an exception"
      ]
    },
    {
      "cell_type": "code",
      "metadata": {
        "id": "5YLuuHG79Dmu",
        "colab": {
          "base_uri": "https://localhost:8080/"
        },
        "outputId": "32d40dcf-a678-4676-faab-d60f29da8d72"
      },
      "source": [
        "# Eigen value decomposition\n",
        "x = tf.Variable([[3, 2, 4], [2, 0, 2], [4, 2, 3]], dtype=tf.float32) # raises exception if datatype is not floatX\n",
        "eigen_values, eigen_vectors = tf.linalg.eigh(x)\n",
        "print(\"Eigen values:\", eigen_values)\n",
        "print(\"Eigen vectors:\", eigen_vectors)"
      ],
      "execution_count": 19,
      "outputs": [
        {
          "output_type": "stream",
          "text": [
            "Eigen values: tf.Tensor([-1.0000001  -0.99999976  8.        ], shape=(3,), dtype=float32)\n",
            "Eigen vectors: tf.Tensor(\n",
            "[[-0.745356    0.          0.6666667 ]\n",
            " [ 0.29814237 -0.8944272   0.3333333 ]\n",
            " [ 0.5962848   0.4472136   0.6666667 ]], shape=(3, 3), dtype=float32)\n"
          ],
          "name": "stdout"
        }
      ]
    },
    {
      "cell_type": "markdown",
      "metadata": {
        "id": "6tKt3wOzoRZF"
      },
      "source": [
        "## Question: \n",
        "Solve the following system of linear equations using tensorflow. \n",
        "\n",
        "x + y + z + w = 13\n",
        "\n",
        "2x + 3y − w = −1\n",
        "\n",
        "−3x + 4y + z + 2w = 10\n",
        "\n",
        "x + 2y − z + w = 1\n",
        "\n",
        "Ans: x=2,y=0,z=6,w=5\n",
        "\n"
      ]
    },
    {
      "cell_type": "code",
      "metadata": {
        "id": "HzUXsnqooQ0U",
        "colab": {
          "base_uri": "https://localhost:8080/"
        },
        "outputId": "2a9bea14-71e2-499a-b2b0-b969e7680c96"
      },
      "source": [
        "coeff = tf.Variable([[1, 1, 1, 1], [2, 3, 0, -1], [-3, 4, 1, 2], [1, 2, -1, 1]], dtype=tf.float32) # W\n",
        "print(\"Coeff:\", coeff)\n",
        "\n",
        "y = tf.Variable([[13], [-1], [10], [1]], dtype=tf.float32)\n",
        "print(\"y:\", y)\n",
        "\n",
        "# x = inverse of coeff X y\n",
        "\n",
        "inv_coeff = tf.linalg.inv(coeff)\n",
        "\n",
        "print(\"Inverve of coeff:\", inv_coeff)\n",
        "\n",
        "x_solution = tf.matmul(inv_coeff, y)\n",
        "\n",
        "print(x_solution)"
      ],
      "execution_count": 20,
      "outputs": [
        {
          "output_type": "stream",
          "text": [
            "Coeff: <tf.Variable 'Variable:0' shape=(4, 4) dtype=float32, numpy=\n",
            "array([[ 1.,  1.,  1.,  1.],\n",
            "       [ 2.,  3.,  0., -1.],\n",
            "       [-3.,  4.,  1.,  2.],\n",
            "       [ 1.,  2., -1.,  1.]], dtype=float32)>\n",
            "y: <tf.Variable 'Variable:0' shape=(4, 1) dtype=float32, numpy=\n",
            "array([[13.],\n",
            "       [-1.],\n",
            "       [10.],\n",
            "       [ 1.]], dtype=float32)>\n",
            "Inverve of coeff: tf.Tensor(\n",
            "[[ 2.77777791e-01  5.55555224e-02 -1.66666672e-01  1.11111104e-01]\n",
            " [-7.40740746e-02  1.85185164e-01  1.11111112e-01  3.70370336e-02]\n",
            " [ 4.62962985e-01  9.25926045e-02  5.55555634e-02 -4.81481493e-01]\n",
            " [ 3.33333313e-01 -3.33333343e-01 -9.78801751e-09  3.33333343e-01]], shape=(4, 4), dtype=float32)\n",
            "tf.Tensor(\n",
            "[[ 2.0000000e+00]\n",
            " [-2.6077032e-08]\n",
            " [ 6.0000005e+00]\n",
            " [ 5.0000000e+00]], shape=(4, 1), dtype=float32)\n"
          ],
          "name": "stdout"
        }
      ]
    },
    {
      "cell_type": "markdown",
      "metadata": {
        "id": "zY2K1HrG9Dm6"
      },
      "source": [
        "### 5. Reshaping and Broadcasting"
      ]
    },
    {
      "cell_type": "markdown",
      "metadata": {
        "id": "-8DqitCM9Dm8"
      },
      "source": [
        "#### 5.1. Reshaping"
      ]
    },
    {
      "cell_type": "code",
      "metadata": {
        "id": "V4w_-62t9Dm-",
        "colab": {
          "base_uri": "https://localhost:8080/"
        },
        "outputId": "451023ac-c9b7-4ba0-9159-ccae6dc974c2"
      },
      "source": [
        "# Reshaping changes the dimensions or axes and assigns the cell values in proper locations in the new tensor\n",
        "x = tf.Variable([[-3, 2, 4], [2, 0, -2], [5, 2, 3]], dtype=tf.float32)\n",
        "print(\"Initial tensor:\", x)\n",
        "x_reshaped = tf.reshape(x, shape=(9, 1)) # a (3, 3) tensor can be reshaped to (9, 1) amd (1, 9) tensors only\n",
        "print(\"Reshaped tensor:\", x_reshaped)"
      ],
      "execution_count": 21,
      "outputs": [
        {
          "output_type": "stream",
          "text": [
            "Initial tensor: <tf.Variable 'Variable:0' shape=(3, 3) dtype=float32, numpy=\n",
            "array([[-3.,  2.,  4.],\n",
            "       [ 2.,  0., -2.],\n",
            "       [ 5.,  2.,  3.]], dtype=float32)>\n",
            "Reshaped tensor: tf.Tensor(\n",
            "[[-3.]\n",
            " [ 2.]\n",
            " [ 4.]\n",
            " [ 2.]\n",
            " [ 0.]\n",
            " [-2.]\n",
            " [ 5.]\n",
            " [ 2.]\n",
            " [ 3.]], shape=(9, 1), dtype=float32)\n"
          ],
          "name": "stdout"
        }
      ]
    },
    {
      "cell_type": "code",
      "metadata": {
        "id": "gmNExRTM9DnH",
        "colab": {
          "base_uri": "https://localhost:8080/"
        },
        "outputId": "90ad7144-b5e2-438f-d409-4cc9b86c206d"
      },
      "source": [
        "# tf.reshape raises exception if the new shape is incompatible\n",
        "try:\n",
        "    x_reshape = tf.reshape(x, shape=(3, 4))\n",
        "except Exception as e:\n",
        "    print(\"Exception raised while reshaping:\\n\", str(e))"
      ],
      "execution_count": 22,
      "outputs": [
        {
          "output_type": "stream",
          "text": [
            "Exception raised while reshaping:\n",
            " Input to reshape is a tensor with 9 values, but the requested shape has 12 [Op:Reshape]\n"
          ],
          "name": "stdout"
        }
      ]
    },
    {
      "cell_type": "markdown",
      "metadata": {
        "id": "sxFN2uRe9DnQ"
      },
      "source": [
        "#### 5.2. Broadcasting"
      ]
    },
    {
      "cell_type": "markdown",
      "metadata": {
        "id": "an6USxre9DnS"
      },
      "source": [
        "##### Mathematical operations on tensors requires shape compatibility otherwise exception is raised. However, broadcasting can resolve shape incompatibilities in few situations. Let us see an example."
      ]
    },
    {
      "cell_type": "code",
      "metadata": {
        "id": "6TmTYx0U9DnT",
        "colab": {
          "base_uri": "https://localhost:8080/"
        },
        "outputId": "311a9a5f-a5f3-46d8-b32b-bac71a65fa3b"
      },
      "source": [
        "x = tf.Variable([[3, 2, 4], [2, 0, 2], [4, 2, 3]], dtype=tf.float32)\n",
        "k = tf.Variable([2.1])\n",
        "\n",
        "print(\"Shape of x:\", x.shape)\n",
        "print(\"Shape of k:\", k.shape)\n",
        "\n",
        "# element-wise multiplication by broadcasting which repeats the only element in k along both the axes\n",
        "# to resolve the shape imcompatibility\n",
        "y = x * k\n",
        "print(\"Shape of y:\", y)"
      ],
      "execution_count": 23,
      "outputs": [
        {
          "output_type": "stream",
          "text": [
            "Shape of x: (3, 3)\n",
            "Shape of k: (1,)\n",
            "Shape of y: tf.Tensor(\n",
            "[[6.2999997 4.2       8.4      ]\n",
            " [4.2       0.        4.2      ]\n",
            " [8.4       4.2       6.2999997]], shape=(3, 3), dtype=float32)\n"
          ],
          "name": "stdout"
        }
      ]
    },
    {
      "cell_type": "code",
      "metadata": {
        "id": "GqGTr6_Z9Dnc",
        "colab": {
          "base_uri": "https://localhost:8080/"
        },
        "outputId": "75221913-19b0-428e-9fe7-0b335c5a1144"
      },
      "source": [
        "# Let us see another example\n",
        "k = tf.Variable([2.1, 3.0, -1.4])\n",
        "\n",
        "# in this case broadcasting repeats [2.1, 3.0, -1.4] three times along the row to make the shapes compatible\n",
        "y = x * k\n",
        "print(\"y:\", y)"
      ],
      "execution_count": 24,
      "outputs": [
        {
          "output_type": "stream",
          "text": [
            "y: tf.Tensor(\n",
            "[[ 6.2999997  6.        -5.6      ]\n",
            " [ 4.2        0.        -2.8      ]\n",
            " [ 8.4        6.        -4.2      ]], shape=(3, 3), dtype=float32)\n"
          ],
          "name": "stdout"
        }
      ]
    },
    {
      "cell_type": "code",
      "metadata": {
        "id": "Vo1EztuT9Dnn",
        "colab": {
          "base_uri": "https://localhost:8080/"
        },
        "outputId": "147c7464-9647-44bd-8ecd-c8bbddf81ff8"
      },
      "source": [
        "# Broadcasting of rank 2 tensor for multiplying with rank 3 tensor\n",
        "\n",
        "# Rank 2 tensor to be broadcasted\n",
        "k = tf.Variable([[2.1, 3.0, -1.4], [1.1, 3.2, -1.1], [0.67, 2.1, -0.03]])\n",
        "\n",
        "# Rank 3 tensor\n",
        "x = tf.Variable([[[3, 2, 4],\n",
        "                  [2, 0, 2],\n",
        "                  [4, 2, 3]],\n",
        "                 [[0, -2, 1],\n",
        "                  [4, 0, 2],\n",
        "                  [6, -2, 3]]\n",
        "                 ], dtype=tf.float32)\n",
        "\n",
        "# Here shape of x is (2, 3, 3) and that of k is (3, 3). Hence broadcasting will add a new axes and repeat k along it.\n",
        "y = x * k\n",
        "print(\"y:\", y)"
      ],
      "execution_count": 25,
      "outputs": [
        {
          "output_type": "stream",
          "text": [
            "y: tf.Tensor(\n",
            "[[[ 6.2999997  6.        -5.6      ]\n",
            "  [ 2.2        0.        -2.2      ]\n",
            "  [ 2.68       4.2       -0.09     ]]\n",
            "\n",
            " [[ 0.        -6.        -1.4      ]\n",
            "  [ 4.4        0.        -2.2      ]\n",
            "  [ 4.02      -4.2       -0.09     ]]], shape=(2, 3, 3), dtype=float32)\n"
          ],
          "name": "stdout"
        }
      ]
    },
    {
      "cell_type": "code",
      "metadata": {
        "id": "0Bn2apUB9Dnz",
        "colab": {
          "base_uri": "https://localhost:8080/"
        },
        "outputId": "948100ae-173d-415e-ad31-40cf30bdf89e"
      },
      "source": [
        "# Alternatively, we can add the new dimension before multiplying\n",
        "print(\"Old shape:\", k.shape)\n",
        "k = tf.expand_dims(k, axis=0) # insert a new axis along the first dimension to create a rank 3 tensor # (3,3,1)\n",
        "print(\"New shape:\", k.shape)\n",
        "\n",
        "y = x * k\n",
        "print(\"y:\", y)"
      ],
      "execution_count": 26,
      "outputs": [
        {
          "output_type": "stream",
          "text": [
            "Old shape: (3, 3)\n",
            "New shape: (1, 3, 3)\n",
            "y: tf.Tensor(\n",
            "[[[ 6.2999997  6.        -5.6      ]\n",
            "  [ 2.2        0.        -2.2      ]\n",
            "  [ 2.68       4.2       -0.09     ]]\n",
            "\n",
            " [[ 0.        -6.        -1.4      ]\n",
            "  [ 4.4        0.        -2.2      ]\n",
            "  [ 4.02      -4.2       -0.09     ]]], shape=(2, 3, 3), dtype=float32)\n"
          ],
          "name": "stdout"
        }
      ]
    },
    {
      "cell_type": "markdown",
      "metadata": {
        "id": "K5dZZ_Qzo__M"
      },
      "source": [
        "## Question: \n",
        "Convert the tensor 'p' given in the cell below into a cube tensor of rank three. "
      ]
    },
    {
      "cell_type": "code",
      "metadata": {
        "id": "DPvRXCkvpApC",
        "colab": {
          "base_uri": "https://localhost:8080/"
        },
        "outputId": "13438749-8b75-4db0-f784-1f6b4d28d09a"
      },
      "source": [
        "p = tf.Variable(np.random.randn(1,27))\n",
        "\n",
        "print(\"Before reshaping:\", p)\n",
        "\n",
        "reshaped_p = tf.reshape(p, (3,3,3))\n",
        "\n",
        "print(\"After reshaping:\", reshaped_p)"
      ],
      "execution_count": 27,
      "outputs": [
        {
          "output_type": "stream",
          "text": [
            "Before reshaping: <tf.Variable 'Variable:0' shape=(1, 27) dtype=float64, numpy=\n",
            "array([[-0.84526715, -0.98071905, -0.31546252,  1.00356548, -1.1940714 ,\n",
            "         0.39275259, -0.23323048, -1.93020462, -0.07216607,  0.17965442,\n",
            "         0.23397519, -0.31100969, -1.81292206, -0.83108904, -0.63600832,\n",
            "         0.72207968, -0.12898067, -0.28640937, -0.34396474, -0.66130344,\n",
            "        -0.08743754, -0.37454943,  0.51520261, -1.44959395, -1.53930831,\n",
            "         1.18989605, -1.57662734]])>\n",
            "After reshaping: tf.Tensor(\n",
            "[[[-0.84526715 -0.98071905 -0.31546252]\n",
            "  [ 1.00356548 -1.1940714   0.39275259]\n",
            "  [-0.23323048 -1.93020462 -0.07216607]]\n",
            "\n",
            " [[ 0.17965442  0.23397519 -0.31100969]\n",
            "  [-1.81292206 -0.83108904 -0.63600832]\n",
            "  [ 0.72207968 -0.12898067 -0.28640937]]\n",
            "\n",
            " [[-0.34396474 -0.66130344 -0.08743754]\n",
            "  [-0.37454943  0.51520261 -1.44959395]\n",
            "  [-1.53930831  1.18989605 -1.57662734]]], shape=(3, 3, 3), dtype=float64)\n"
          ],
          "name": "stdout"
        }
      ]
    },
    {
      "cell_type": "code",
      "metadata": {
        "id": "XVO5xw1qleoi",
        "colab": {
          "base_uri": "https://localhost:8080/"
        },
        "outputId": "9fa2c334-30ef-474e-ad2e-487382fabea5"
      },
      "source": [
        "reshaped_p[:, :, 0]"
      ],
      "execution_count": 28,
      "outputs": [
        {
          "output_type": "execute_result",
          "data": {
            "text/plain": [
              "<tf.Tensor: shape=(3, 3), dtype=float64, numpy=\n",
              "array([[-0.84526715,  1.00356548, -0.23323048],\n",
              "       [ 0.17965442, -1.81292206,  0.72207968],\n",
              "       [-0.34396474, -0.37454943, -1.53930831]])>"
            ]
          },
          "metadata": {
            "tags": []
          },
          "execution_count": 28
        }
      ]
    },
    {
      "cell_type": "markdown",
      "metadata": {
        "id": "kTS7x13G9Dn7"
      },
      "source": [
        "### 6. Automatic Differentiation"
      ]
    },
    {
      "cell_type": "markdown",
      "metadata": {
        "id": "zy8bcZug9Dn9"
      },
      "source": [
        "#### Gradients or partial derivatives are useful for training linear models and neural networks using gradient-based optimization\n",
        "#### TensorFlow's tf.GradientTape records computations and computes gradients in reverse-mode differentiation.\n",
        "#### Let us see how it works."
      ]
    },
    {
      "cell_type": "markdown",
      "metadata": {
        "id": "E00VcTQN9Dn-"
      },
      "source": [
        "####  \n",
        "#### 6.1 How to use tf.GradientTape?"
      ]
    },
    {
      "cell_type": "code",
      "metadata": {
        "id": "f8zWxrBO9DoA",
        "colab": {
          "base_uri": "https://localhost:8080/"
        },
        "outputId": "b6bd4738-6be7-43f5-8312-466239ba8d17"
      },
      "source": [
        "# declare tensor for with respect to which gradient is required\n",
        "x = tf.Variable(3.0)\n",
        "\n",
        "# using tf.GradientTape context to perform computations and record them in tape\n",
        "with tf.GradientTape() as tape:\n",
        "    y = 3.0 * tf.math.log(x)  # y = 3logx\n",
        "\n",
        "# compute gradients\n",
        "dy_dx = tape.gradient(y, x) # for y = log(x), dy/dx = 3/x\n",
        "print(\"Gradient dy_dx:\", dy_dx) # alternately doing dy_dx.numpy() returns the result as a numpy array which in this case is a single value"
      ],
      "execution_count": 29,
      "outputs": [
        {
          "output_type": "stream",
          "text": [
            "Gradient dy_dx: tf.Tensor(1.0, shape=(), dtype=float32)\n"
          ],
          "name": "stdout"
        }
      ]
    },
    {
      "cell_type": "code",
      "metadata": {
        "id": "7Elo0THg9DoI",
        "colab": {
          "base_uri": "https://localhost:8080/"
        },
        "outputId": "feae0edd-d5db-4462-c280-6698138267c3"
      },
      "source": [
        "# for multi-variate functions, gradients are partial derivatives\n",
        "x = tf.Variable(3.0)\n",
        "y = tf.Variable(4.0)\n",
        "\n",
        "with tf.GradientTape() as tape:\n",
        "    r = x**2 + y**2\n",
        "\n",
        "dr_dx, dr_dy = tape.gradient(r, [x, y]) # the first argument is the target function and the second one is a list of variables\n",
        "print(\"dr_dx:\", dr_dx.numpy()) # ∂r/∂x = 2x\n",
        "print(\"dr_dy:\", dr_dy.numpy()) # ∂r/∂y = 2y"
      ],
      "execution_count": 30,
      "outputs": [
        {
          "output_type": "stream",
          "text": [
            "dr_dx: 6.0\n",
            "dr_dy: 8.0\n"
          ],
          "name": "stdout"
        }
      ]
    },
    {
      "cell_type": "code",
      "metadata": {
        "id": "MQgEyIT79DoQ",
        "colab": {
          "base_uri": "https://localhost:8080/"
        },
        "outputId": "9d54609e-ad61-4084-ed10-114369b9406c"
      },
      "source": [
        "# tf.GradientTape supports the Chain Rule of Differentiation as well\n",
        "x = tf.Variable(3.0)\n",
        "\n",
        "with tf.GradientTape() as tape:\n",
        "    y = x ** 2 # y is a function of x\n",
        "    z = 3*tf.math.log(tf.math.sqrt(y))\n",
        "    r = z ** 2 # r is a function of y\n",
        "\n",
        "dr_dx = tape.gradient(r, x) # Chain rule is applied to compute dr_dx as r is a function of x through y\n",
        "print(\"dr_dx:\", dr_dx.numpy()) # dr/dx = dr/dy × dy/dx = 2y × 2x = 2(x²) × 2x = 4x³"
      ],
      "execution_count": 31,
      "outputs": [
        {
          "output_type": "stream",
          "text": [
            "dr_dx: 6.591674\n"
          ],
          "name": "stdout"
        }
      ]
    },
    {
      "cell_type": "markdown",
      "metadata": {
        "id": "z7I5bvD69DoZ"
      },
      "source": [
        "#### Note that the intermediate variable 'y' is released outside the context of tf.GradientTape. To compute gradient dr/dy, tf.GradientTape \n",
        "#### needs to be persistent"
      ]
    },
    {
      "cell_type": "code",
      "metadata": {
        "id": "W1AKwufZ9Dod",
        "colab": {
          "base_uri": "https://localhost:8080/"
        },
        "outputId": "77c5c386-1bae-47a4-94a5-c071c429dd5b"
      },
      "source": [
        "# Persistent tf.GradientTape\n",
        "x = tf.Variable(3.0)\n",
        "\n",
        "with tf.GradientTape(persistent=True) as tape:\n",
        "    y = x ** 2\n",
        "    r = y ** 2\n",
        "\n",
        "dr_dx = tape.gradient(r, x)\n",
        "dr_dy = tape.gradient(r, y)\n",
        "\n",
        "print(\"dr_dx:\", dr_dx.numpy())\n",
        "print(\"dr_dy:\", dr_dy.numpy())"
      ],
      "execution_count": 32,
      "outputs": [
        {
          "output_type": "stream",
          "text": [
            "dr_dx: 108.0\n",
            "dr_dy: 18.0\n"
          ],
          "name": "stdout"
        }
      ]
    },
    {
      "cell_type": "markdown",
      "metadata": {
        "id": "wn26EzYT9Dom"
      },
      "source": [
        "####  \n",
        "#### 6.2 How to use tf.GradientTape for model training?"
      ]
    },
    {
      "cell_type": "code",
      "metadata": {
        "id": "2rTeP2dh9Dor"
      },
      "source": [
        "# Let us see this in action in the context of Logistic Regression\n",
        "\n",
        "# Points to note:\n",
        "# 1. For logistic regression, the probabilty P(y=1|X) = 1/[1+exp{-(WX+b)}]; where W & b are weights and bias of the model\n",
        "# 2. The loss function is L = -ylog[P(y=1|X)] - (1-y)log[1-P(y=1|X)] otherwise known as binary log loss.\n",
        "# 3. For training the model using Stochastic Gradient Descent, we need to compute ∂L/∂W and ∂L/∂b. \n",
        "\n",
        "# Let us see how we can compute the gradients using tf.GradientTape"
      ],
      "execution_count": 33,
      "outputs": []
    },
    {
      "cell_type": "code",
      "metadata": {
        "id": "i_qnWPka9Doz"
      },
      "source": [
        "# declare weights and bias of the model\n",
        "num_features = 10 # the model has 10 features\n",
        "W = tf.Variable(tf.random.normal(shape=(10, ))) # wrapping the random numbers with tf.Variable to enable gradients on W\n",
        "b = tf.Variable(tf.random.normal(shape=(1, )))  # wrapping the random numbers with tf.Variable to enable gradients on b\n",
        "\n",
        "# let us initialize a training samples\n",
        "num_samples = 100\n",
        "\n",
        "# generate training samples randomly and wrap them up in tf.constant to disable gradient computation on samples\n",
        "X = tf.constant(tf.random.uniform(shape=(100, 10)))\n",
        "y = tf.constant(tf.cast(tf.greater(tf.random.uniform(shape=(100,)), 0.80), dtype=tf.float32)) # target must be 0 and 1"
      ],
      "execution_count": 34,
      "outputs": []
    },
    {
      "cell_type": "code",
      "metadata": {
        "id": "nCgO3mxn9Do8",
        "colab": {
          "base_uri": "https://localhost:8080/"
        },
        "outputId": "212d52ed-74d1-471b-b226-d296a96e1b9d"
      },
      "source": [
        "# compute gradients\n",
        "with tf.GradientTape() as tape:\n",
        "    log_odds = tf.reduce_sum(W * X, axis=1) + b\n",
        "    # tf.reduce_sum(W * X, axis=1) results in a (1, ) vector to which b is added\n",
        "    \n",
        "    probas = tf.sigmoid(log_odds) # using sigmoid function available in TensorFlow\n",
        "    \n",
        "    loss = tf.reduce_mean(-y*tf.math.log(probas) -(1.-y)*tf.math.log(1.-probas))\n",
        "\n",
        "[dloss_dW, dloss_db]  = tape.gradient(loss, [W, b])\n",
        "\n",
        "print(\"dloss_dW:\", dloss_dW.numpy())\n",
        "print(\"dloss_db:\", dloss_db.numpy())"
      ],
      "execution_count": 35,
      "outputs": [
        {
          "output_type": "stream",
          "text": [
            "dloss_dW: [0.04598666 0.0153583  0.04931645 0.02773663 0.02965606 0.02301822\n",
            " 0.01377665 0.04606053 0.06599537 0.03965475]\n",
            "dloss_db: [0.07909795]\n"
          ],
          "name": "stdout"
        }
      ]
    },
    {
      "cell_type": "markdown",
      "metadata": {
        "id": "AgAizW9v9DpE"
      },
      "source": [
        "####  \n",
        "#### 6.3 How to disable gradient computation for selected variables?"
      ]
    },
    {
      "cell_type": "code",
      "metadata": {
        "id": "UpaB-VGZ9DpF",
        "colab": {
          "base_uri": "https://localhost:8080/"
        },
        "outputId": "c285c3e5-01c2-4d8d-f1a0-02dde928e1e6"
      },
      "source": [
        "# let us use an earlier example to show how to disable gradient computation\n",
        "# for multi-variate functions, gradients are partial derivatives\n",
        "x = tf.Variable(3.0, trainable=True)  # by default, trainable=True so we did npt mention it earlier \n",
        "y = tf.Variable(4.0, trainable=False) # trainable=False signals tf.GradientTape to stop tracking the variable\n",
        "\n",
        "with tf.GradientTape() as tape:\n",
        "    r = x**2 + y**2\n",
        "\n",
        "try:\n",
        "    dr_dx, dr_dy = tape.gradient(r, [x, y])\n",
        "    print(\"dr_dx:\", dr_dx.numpy())\n",
        "    print(\"dr_dy:\", dr_dy.numpy()) # dr_dy is None hence this line would raise an exception\n",
        "except Exception as e:\n",
        "    print(\"Error occurred during gradient computation:\\n\", str(e))"
      ],
      "execution_count": 36,
      "outputs": [
        {
          "output_type": "stream",
          "text": [
            "dr_dx: 6.0\n",
            "Error occurred during gradient computation:\n",
            " 'NoneType' object has no attribute 'numpy'\n"
          ],
          "name": "stdout"
        }
      ]
    },
    {
      "cell_type": "markdown",
      "metadata": {
        "id": "vV-pGy4vrizp"
      },
      "source": [
        "## Question: \n",
        "Find the minima of the function y=x^2 - 4 "
      ]
    },
    {
      "cell_type": "code",
      "metadata": {
        "id": "nuA4m8qIrjoa"
      },
      "source": [
        "# Finding the minima of the above function using Gradient Descent\n",
        "# Step 0: initialize x (with a random number)\n",
        "# Step 1: Run a loop till the stopping criteria is met (stopping criteria: number of iterations, tolerance or minimum threshold on reduction in the value of y compared to the last iteration)\n",
        "# Step 1.1: Compute dy/dx\n",
        "# Step 1.2: Update x : x - lr * (dy/dx)\n",
        "# Step 1.3: Calculating y after updating x\n",
        "# Step 1.4: Check if (y-y_previous)*100/y_previous < tolerance"
      ],
      "execution_count": 37,
      "outputs": []
    },
    {
      "cell_type": "code",
      "metadata": {
        "id": "H7mT73put5Pb"
      },
      "source": [
        "# define hyper parameters of the Gradient Descent algorithm\n",
        "lr = tf.constant(0.1)\n",
        "tolerance = 0.01"
      ],
      "execution_count": 38,
      "outputs": []
    },
    {
      "cell_type": "code",
      "metadata": {
        "id": "mECSfgCvuKhV",
        "colab": {
          "base_uri": "https://localhost:8080/"
        },
        "outputId": "348d9168-02a8-449c-be8b-9d7113b778dc"
      },
      "source": [
        "# initialize x\n",
        "x = tf.Variable(tf.random.normal((1,)))\n",
        "print(\"Initial value of x:\", x)"
      ],
      "execution_count": 39,
      "outputs": [
        {
          "output_type": "stream",
          "text": [
            "Initial value of x: <tf.Variable 'Variable:0' shape=(1,) dtype=float32, numpy=array([-0.82620114], dtype=float32)>\n"
          ],
          "name": "stdout"
        }
      ]
    },
    {
      "cell_type": "code",
      "metadata": {
        "id": "efxOAQEfvKjg",
        "colab": {
          "base_uri": "https://localhost:8080/"
        },
        "outputId": "ba8f5153-4d10-441a-9d9c-8daa77442269"
      },
      "source": [
        "# initial value of y\n",
        "yprev = x ** 2 - 4.\n",
        "print(\"Initial value of y using initial value of x:\", yprev)"
      ],
      "execution_count": 40,
      "outputs": [
        {
          "output_type": "stream",
          "text": [
            "Initial value of y using initial value of x: tf.Tensor([-3.3173916], shape=(1,), dtype=float32)\n"
          ],
          "name": "stdout"
        }
      ]
    },
    {
      "cell_type": "code",
      "metadata": {
        "id": "hXBRmY7ixHvn"
      },
      "source": [
        "import time"
      ],
      "execution_count": 41,
      "outputs": []
    },
    {
      "cell_type": "code",
      "metadata": {
        "id": "jjITsEUXueO1",
        "colab": {
          "base_uri": "https://localhost:8080/"
        },
        "outputId": "d464fb48-a970-45cd-8674-24fbcabfe0ae"
      },
      "source": [
        "num_iters = []\n",
        "x_values = []\n",
        "y_values = []\n",
        "\n",
        "# loop of Gradient Descent\n",
        "i = 0\n",
        "while True:\n",
        "  i += 1\n",
        "  num_iters.append(i)\n",
        "  print(\"x, yprev:\", x.numpy()[0], yprev.numpy()[0])\n",
        "\n",
        "  with tf.GradientTape() as tape:\n",
        "    y = x ** 2 - 4.\n",
        "  \n",
        "  dy_dx = tape.gradient(y, x)\n",
        "  x.assign(x - lr * dy_dx) # x = x - lr * dy_dx output of this is tf.Tensor which can't be used by GradientTape\n",
        "\n",
        "  ynew = x ** 2 - 4.\n",
        "\n",
        "  print(\"x, ynew:\", x.numpy()[0], ynew.numpy()[0])\n",
        "\n",
        "  x_values.append(x.numpy()[0])\n",
        "  y_values.append(y.numpy()[0])\n",
        "\n",
        "  delta = tf.abs((ynew-yprev)*100./yprev).numpy()[0]\n",
        "\n",
        "  print(\"delta:\", delta)\n",
        "  \n",
        "  if delta <= tolerance:\n",
        "    print(\"Exiting loop\")\n",
        "    break\n",
        "  else:\n",
        "    yprev = ynew\n",
        "    time.sleep(1)"
      ],
      "execution_count": 42,
      "outputs": [
        {
          "output_type": "stream",
          "text": [
            "x, yprev: -0.82620114 -3.3173916\n",
            "x, ynew: -0.6609609 -3.5631306\n",
            "delta: 7.4075966\n",
            "x, yprev: -0.6609609 -3.5631306\n",
            "x, ynew: -0.5287687 -3.7204037\n",
            "delta: 4.413901\n",
            "x, yprev: -0.5287687 -3.7204037\n",
            "x, ynew: -0.42301497 -3.8210583\n",
            "delta: 2.7054753\n",
            "x, yprev: -0.42301497 -3.8210583\n",
            "x, ynew: -0.338412 -3.8854773\n",
            "delta: 1.685895\n",
            "x, yprev: -0.338412 -3.8854773\n",
            "x, ynew: -0.2707296 -3.9267054\n",
            "delta: 1.0610808\n",
            "x, yprev: -0.2707296 -3.9267054\n",
            "x, ynew: -0.21658368 -3.9530916\n",
            "delta: 0.6719695\n",
            "x, yprev: -0.21658368 -3.9530916\n",
            "x, ynew: -0.17326695 -3.9699786\n",
            "delta: 0.42718336\n",
            "x, yprev: -0.17326695 -3.9699786\n",
            "x, ynew: -0.13861355 -3.9807863\n",
            "delta: 0.27223706\n",
            "x, yprev: -0.13861355 -3.9807863\n",
            "x, ynew: -0.11089084 -3.9877033\n",
            "delta: 0.17375964\n",
            "x, yprev: -0.11089084 -3.9877033\n",
            "x, ynew: -0.08871268 -3.99213\n",
            "delta: 0.1110092\n",
            "x, yprev: -0.08871268 -3.99213\n",
            "x, ynew: -0.07097014 -3.9949632\n",
            "delta: 0.07096783\n",
            "x, yprev: -0.07097014 -3.9949632\n",
            "x, ynew: -0.056776114 -3.9967766\n",
            "delta: 0.04539245\n",
            "x, yprev: -0.056776114 -3.9967766\n",
            "x, ynew: -0.045420893 -3.997937\n",
            "delta: 0.029032977\n",
            "x, yprev: -0.045420893 -3.997937\n",
            "x, ynew: -0.036336713 -3.9986796\n",
            "delta: 0.018576428\n",
            "x, yprev: -0.036336713 -3.9986796\n",
            "x, ynew: -0.02906937 -3.999155\n",
            "delta: 0.011889091\n",
            "x, yprev: -0.02906937 -3.999155\n",
            "x, ynew: -0.023255495 -3.9994593\n",
            "delta: 0.0076071597\n",
            "Exiting loop\n"
          ],
          "name": "stdout"
        }
      ]
    },
    {
      "cell_type": "code",
      "metadata": {
        "id": "b9-oX92BxUBZ"
      },
      "source": [
        "from matplotlib import pyplot as plt"
      ],
      "execution_count": 43,
      "outputs": []
    },
    {
      "cell_type": "code",
      "metadata": {
        "id": "-Mbl15I42F0k",
        "colab": {
          "base_uri": "https://localhost:8080/",
          "height": 282
        },
        "outputId": "b68e8462-385d-468d-d56f-a9f5491a5916"
      },
      "source": [
        "plt.plot(num_iters, y_values)"
      ],
      "execution_count": 44,
      "outputs": [
        {
          "output_type": "execute_result",
          "data": {
            "text/plain": [
              "[<matplotlib.lines.Line2D at 0x7f3f94927550>]"
            ]
          },
          "metadata": {
            "tags": []
          },
          "execution_count": 44
        },
        {
          "output_type": "display_data",
          "data": {
            "image/png": "[encoded data removed]",
            "text/plain": [
              "<Figure size 432x288 with 1 Axes>"
            ]
          },
          "metadata": {
            "tags": [],
            "needs_background": "light"
          }
        }
      ]
    },
    {
      "cell_type": "code",
      "metadata": {
        "id": "1fvA6-lx2LiR",
        "colab": {
          "base_uri": "https://localhost:8080/",
          "height": 284
        },
        "outputId": "85e71e4e-874a-4e05-e646-a8f5a05dcd88"
      },
      "source": [
        "plt.plot(num_iters, x_values)"
      ],
      "execution_count": 45,
      "outputs": [
        {
          "output_type": "execute_result",
          "data": {
            "text/plain": [
              "[<matplotlib.lines.Line2D at 0x7f3f943ff950>]"
            ]
          },
          "metadata": {
            "tags": []
          },
          "execution_count": 45
        },
        {
          "output_type": "display_data",
          "data": {
            "image/png": "[encoded data removed]",
            "text/plain": [
              "<Figure size 432x288 with 1 Axes>"
            ]
          },
          "metadata": {
            "tags": [],
            "needs_background": "light"
          }
        }
      ]
    }
  ]
}