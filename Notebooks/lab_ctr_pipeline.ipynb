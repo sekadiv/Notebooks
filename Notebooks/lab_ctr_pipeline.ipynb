{
 "cells": [
  {
   "cell_type": "code",
   "execution_count": 1,
   "metadata": {},
   "outputs": [
    {
     "data": {
      "application/vnd.jupyter.widget-view+json": {
       "model_id": "758a5bfeae6f4bfc9fa7c7970e5dd8bf",
       "version_major": 2,
       "version_minor": 0
      },
      "text/plain": [
       "VBox()"
      ]
     },
     "metadata": {},
     "output_type": "display_data"
    },
    {
     "name": "stdout",
     "output_type": "stream",
     "text": [
      "Starting Spark application\n"
     ]
    },
    {
     "data": {
      "text/html": [
       "<table>\n",
       "<tr><th>ID</th><th>YARN Application ID</th><th>Kind</th><th>State</th><th>Spark UI</th><th>Driver log</th><th>Current session?</th></tr><tr><td>1</td><td>application_1589506821050_0002</td><td>pyspark</td><td>idle</td><td><a target=\"_blank\" href=\"http://ip-172-31-90-55.ec2.internal:20888/proxy/application_1589506821050_0002/\">Link</a></td><td><a target=\"_blank\" href=\"http://ip-172-31-81-100.ec2.internal:8042/node/containerlogs/container_1589506821050_0002_01_000001/livy\">Link</a></td><td>✔</td></tr></table>"
      ],
      "text/plain": [
       "<IPython.core.display.HTML object>"
      ]
     },
     "metadata": {},
     "output_type": "display_data"
    },
    {
     "data": {
      "application/vnd.jupyter.widget-view+json": {
       "model_id": "",
       "version_major": 2,
       "version_minor": 0
      },
      "text/plain": [
       "FloatProgress(value=0.0, bar_style='info', description='Progress:', layout=Layout(height='25px', width='50%'),…"
      ]
     },
     "metadata": {},
     "output_type": "display_data"
    },
    {
     "name": "stdout",
     "output_type": "stream",
     "text": [
      "SparkSession available as 'spark'.\n"
     ]
    },
    {
     "data": {
      "application/vnd.jupyter.widget-view+json": {
       "model_id": "",
       "version_major": 2,
       "version_minor": 0
      },
      "text/plain": [
       "FloatProgress(value=0.0, bar_style='info', description='Progress:', layout=Layout(height='25px', width='50%'),…"
      ]
     },
     "metadata": {},
     "output_type": "display_data"
    },
    {
     "name": "stdout",
     "output_type": "stream",
     "text": [
      "root\n",
      " |-- click: boolean (nullable = true)\n",
      " |-- C1: integer (nullable = true)\n",
      " |-- banner_pos: integer (nullable = true)\n",
      " |-- site_id: string (nullable = true)\n",
      " |-- site_domain: string (nullable = true)\n",
      " |-- site_category: string (nullable = true)\n",
      " |-- app_id: string (nullable = true)\n",
      " |-- app_domain: string (nullable = true)\n",
      " |-- app_category: string (nullable = true)\n",
      " |-- device_id: string (nullable = true)\n",
      " |-- device_ip: string (nullable = true)\n",
      " |-- device_model: string (nullable = true)\n",
      " |-- device_type: integer (nullable = true)\n",
      " |-- device_conn_type: integer (nullable = true)\n",
      " |-- C14: integer (nullable = true)\n",
      " |-- C15: integer (nullable = true)\n",
      " |-- C16: integer (nullable = true)\n",
      " |-- C17: integer (nullable = true)\n",
      " |-- C18: integer (nullable = true)\n",
      " |-- C19: integer (nullable = true)\n",
      " |-- C20: integer (nullable = true)\n",
      " |-- C21: integer (nullable = true)\n",
      " |-- month: integer (nullable = true)\n",
      " |-- dayofweek: integer (nullable = true)\n",
      " |-- day: integer (nullable = true)\n",
      " |-- hour: integer (nullable = true)"
     ]
    }
   ],
   "source": [
    "#Reading the data from the S3 bucket. \n",
    "#Note: to initialise spark session 'spark' was not called. Directly running a spark command will create a spark session by itself.  \n",
    "\n",
    "df = spark.read.csv('s3a://.../10M.csv', header=True, inferSchema=True)\n",
    "df.printSchema()"
   ]
  },
  {
   "cell_type": "code",
   "execution_count": 2,
   "metadata": {},
   "outputs": [
    {
     "data": {
      "application/vnd.jupyter.widget-view+json": {
       "model_id": "9dfdcd0a6dd844438b24f33bf007f038",
       "version_major": 2,
       "version_minor": 0
      },
      "text/plain": [
       "VBox()"
      ]
     },
     "metadata": {},
     "output_type": "display_data"
    },
    {
     "data": {
      "application/vnd.jupyter.widget-view+json": {
       "model_id": "",
       "version_major": 2,
       "version_minor": 0
      },
      "text/plain": [
       "FloatProgress(value=0.0, bar_style='info', description='Progress:', layout=Layout(height='25px', width='50%'),…"
      ]
     },
     "metadata": {},
     "output_type": "display_data"
    }
   ],
   "source": [
    "# cast the click column to interger data type. \n",
    "\n",
    "from pyspark.sql.types import IntegerType\n",
    "\n",
    "df = df.withColumn(\"y\", df[\"click\"].cast(IntegerType()))"
   ]
  },
  {
   "cell_type": "markdown",
   "metadata": {},
   "source": [
    "## Stratified Sampling"
   ]
  },
  {
   "cell_type": "code",
   "execution_count": 3,
   "metadata": {},
   "outputs": [
    {
     "data": {
      "application/vnd.jupyter.widget-view+json": {
       "model_id": "b4d25a87a4c24ca1aa2550fd095fbe49",
       "version_major": 2,
       "version_minor": 0
      },
      "text/plain": [
       "VBox()"
      ]
     },
     "metadata": {},
     "output_type": "display_data"
    },
    {
     "data": {
      "application/vnd.jupyter.widget-view+json": {
       "model_id": "",
       "version_major": 2,
       "version_minor": 0
      },
      "text/plain": [
       "FloatProgress(value=0.0, bar_style='info', description='Progress:', layout=Layout(height='25px', width='50%'),…"
      ]
     },
     "metadata": {},
     "output_type": "display_data"
    }
   ],
   "source": [
    "#A user defined function for sampling the data. \n",
    "\n",
    "from math import floor\n",
    "from pyspark.sql.functions import rand\n",
    "from pyspark.sql.functions import col\n",
    "\n",
    "def stratifiedSample(df, N, labelCol=\"y\"):\n",
    "    ctx = df.groupby(labelCol).count()\n",
    "    ctx = ctx.withColumn('frac', col(\"count\") / df.count())\n",
    "    frac = ctx.select(\"y\", \"frac\").rdd.collectAsMap()\n",
    "    pos = int(floor(frac[1] * N))\n",
    "    neg = int(floor(frac[0] * N))\n",
    "    posDF = df.filter(col(labelCol) == 1).orderBy(rand()).limit(pos)\n",
    "    negDF = df.filter(col(labelCol) == 0).orderBy(rand()).limit(neg)\n",
    "    return posDF.unionAll(negDF)"
   ]
  },
  {
   "cell_type": "code",
   "execution_count": 4,
   "metadata": {},
   "outputs": [
    {
     "data": {
      "application/vnd.jupyter.widget-view+json": {
       "model_id": "2d96eeed79f34339b105b3dde8dd881d",
       "version_major": 2,
       "version_minor": 0
      },
      "text/plain": [
       "VBox()"
      ]
     },
     "metadata": {},
     "output_type": "display_data"
    },
    {
     "data": {
      "application/vnd.jupyter.widget-view+json": {
       "model_id": "",
       "version_major": 2,
       "version_minor": 0
      },
      "text/plain": [
       "FloatProgress(value=0.0, bar_style='info', description='Progress:', layout=Layout(height='25px', width='50%'),…"
      ]
     },
     "metadata": {},
     "output_type": "display_data"
    }
   ],
   "source": [
    "# use the function created to sample the 5M rows from the complete dataset. \n",
    "\n",
    "xdf = stratifiedSample(df, 5_000_000)"
   ]
  },
  {
   "cell_type": "code",
   "execution_count": 5,
   "metadata": {},
   "outputs": [
    {
     "data": {
      "application/vnd.jupyter.widget-view+json": {
       "model_id": "247e58a6180f4bc584a6e5dc9ec061f4",
       "version_major": 2,
       "version_minor": 0
      },
      "text/plain": [
       "VBox()"
      ]
     },
     "metadata": {},
     "output_type": "display_data"
    },
    {
     "data": {
      "application/vnd.jupyter.widget-view+json": {
       "model_id": "",
       "version_major": 2,
       "version_minor": 0
      },
      "text/plain": [
       "FloatProgress(value=0.0, bar_style='info', description='Progress:', layout=Layout(height='25px', width='50%'),…"
      ]
     },
     "metadata": {},
     "output_type": "display_data"
    },
    {
     "name": "stdout",
     "output_type": "stream",
     "text": [
      "+---+-------+\n",
      "|  y|  count|\n",
      "+---+-------+\n",
      "|  1| 849028|\n",
      "|  0|4150971|\n",
      "+---+-------+"
     ]
    }
   ],
   "source": [
    "#Check the distribution of calss labels in the data set\n",
    "\n",
    "xdf.groupby(\"y\").count().show()"
   ]
  },
  {
   "cell_type": "code",
   "execution_count": 6,
   "metadata": {},
   "outputs": [
    {
     "data": {
      "application/vnd.jupyter.widget-view+json": {
       "model_id": "3a8bc4acca3748ed9c1bd6ef41a0cac2",
       "version_major": 2,
       "version_minor": 0
      },
      "text/plain": [
       "VBox()"
      ]
     },
     "metadata": {},
     "output_type": "display_data"
    },
    {
     "data": {
      "application/vnd.jupyter.widget-view+json": {
       "model_id": "",
       "version_major": 2,
       "version_minor": 0
      },
      "text/plain": [
       "FloatProgress(value=0.0, bar_style='info', description='Progress:', layout=Layout(height='25px', width='50%'),…"
      ]
     },
     "metadata": {},
     "output_type": "display_data"
    },
    {
     "name": "stdout",
     "output_type": "stream",
     "text": [
      "+---+-------+------------------+\n",
      "|  y|  count|              frac|\n",
      "+---+-------+------------------+\n",
      "|  1| 849028|0.1698056339611268|\n",
      "|  0|4150971|0.8301943660388732|\n",
      "+---+-------+------------------+"
     ]
    }
   ],
   "source": [
    "# calculate the factions in the dataset\n",
    "\n",
    "xdf.groupby(\"y\").count().withColumn(\"frac\", col(\"count\") / xdf.count()).show()"
   ]
  },
  {
   "cell_type": "markdown",
   "metadata": {},
   "source": [
    "## Feature Extraction / Transformation\n",
    "\n",
    "### One-Hot-Encoding"
   ]
  },
  {
   "cell_type": "code",
   "execution_count": 7,
   "metadata": {},
   "outputs": [
    {
     "data": {
      "application/vnd.jupyter.widget-view+json": {
       "model_id": "08260f482b114b2f8c549d0921924922",
       "version_major": 2,
       "version_minor": 0
      },
      "text/plain": [
       "VBox()"
      ]
     },
     "metadata": {},
     "output_type": "display_data"
    },
    {
     "data": {
      "application/vnd.jupyter.widget-view+json": {
       "model_id": "",
       "version_major": 2,
       "version_minor": 0
      },
      "text/plain": [
       "FloatProgress(value=0.0, bar_style='info', description='Progress:', layout=Layout(height='25px', width='50%'),…"
      ]
     },
     "metadata": {},
     "output_type": "display_data"
    },
    {
     "name": "stdout",
     "output_type": "stream",
     "text": [
      "+----------+\n",
      "|banner_pos|\n",
      "+----------+\n",
      "|         0|\n",
      "|         1|\n",
      "|         0|\n",
      "|         0|\n",
      "|         0|\n",
      "|         0|\n",
      "|         0|\n",
      "|         0|\n",
      "|         0|\n",
      "|         0|\n",
      "|         0|\n",
      "|         0|\n",
      "|         0|\n",
      "|         0|\n",
      "|         0|\n",
      "|         0|\n",
      "|         0|\n",
      "|         1|\n",
      "|         0|\n",
      "|         0|\n",
      "+----------+\n",
      "only showing top 20 rows"
     ]
    }
   ],
   "source": [
    "# explore the banner position variable\n",
    "\n",
    "xdf.select(\"banner_pos\").show()"
   ]
  },
  {
   "cell_type": "code",
   "execution_count": 8,
   "metadata": {},
   "outputs": [
    {
     "data": {
      "application/vnd.jupyter.widget-view+json": {
       "model_id": "9ea8e0cbf7e449d888597052334ba508",
       "version_major": 2,
       "version_minor": 0
      },
      "text/plain": [
       "VBox()"
      ]
     },
     "metadata": {},
     "output_type": "display_data"
    },
    {
     "data": {
      "application/vnd.jupyter.widget-view+json": {
       "model_id": "",
       "version_major": 2,
       "version_minor": 0
      },
      "text/plain": [
       "FloatProgress(value=0.0, bar_style='info', description='Progress:', layout=Layout(height='25px', width='50%'),…"
      ]
     },
     "metadata": {},
     "output_type": "display_data"
    },
    {
     "name": "stdout",
     "output_type": "stream",
     "text": [
      "+----------+\n",
      "|banner_pos|\n",
      "+----------+\n",
      "|         1|\n",
      "|         3|\n",
      "|         4|\n",
      "|         5|\n",
      "|         2|\n",
      "|         7|\n",
      "|         0|\n",
      "+----------+"
     ]
    }
   ],
   "source": [
    "# get unique values from the banner_pos column\n",
    "\n",
    "xdf.select(\"banner_pos\").distinct().show()"
   ]
  },
  {
   "cell_type": "code",
   "execution_count": 9,
   "metadata": {},
   "outputs": [
    {
     "data": {
      "application/vnd.jupyter.widget-view+json": {
       "model_id": "b577a7fab03f4779be23d561c91da359",
       "version_major": 2,
       "version_minor": 0
      },
      "text/plain": [
       "VBox()"
      ]
     },
     "metadata": {},
     "output_type": "display_data"
    },
    {
     "data": {
      "application/vnd.jupyter.widget-view+json": {
       "model_id": "",
       "version_major": 2,
       "version_minor": 0
      },
      "text/plain": [
       "FloatProgress(value=0.0, bar_style='info', description='Progress:', layout=Layout(height='25px', width='50%'),…"
      ]
     },
     "metadata": {},
     "output_type": "display_data"
    },
    {
     "name": "stdout",
     "output_type": "stream",
     "text": [
      "+-------------+\n",
      "|banner_posEnc|\n",
      "+-------------+\n",
      "|(7,[0],[1.0])|\n",
      "|(7,[1],[1.0])|\n",
      "|(7,[0],[1.0])|\n",
      "|(7,[0],[1.0])|\n",
      "|(7,[0],[1.0])|\n",
      "|(7,[0],[1.0])|\n",
      "|(7,[0],[1.0])|\n",
      "|(7,[0],[1.0])|\n",
      "|(7,[0],[1.0])|\n",
      "|(7,[0],[1.0])|\n",
      "|(7,[0],[1.0])|\n",
      "|(7,[0],[1.0])|\n",
      "|(7,[0],[1.0])|\n",
      "|(7,[0],[1.0])|\n",
      "|(7,[0],[1.0])|\n",
      "|(7,[0],[1.0])|\n",
      "|(7,[0],[1.0])|\n",
      "|(7,[1],[1.0])|\n",
      "|(7,[0],[1.0])|\n",
      "|(7,[0],[1.0])|\n",
      "+-------------+\n",
      "only showing top 20 rows"
     ]
    }
   ],
   "source": [
    "# onehot encoding \n",
    "#import the onehot encoder\n",
    "from pyspark.ml.feature import OneHotEncoderEstimator\n",
    "#create the encoder object\n",
    "ohe = OneHotEncoderEstimator(inputCols=['banner_pos'], outputCols=['banner_posEnc'])\n",
    "#fit the obejct to the dataframe\n",
    "oh_encoder = ohe.fit(xdf)\n",
    "#tranform the dataframe, by adding the \n",
    "encoded = oh_encoder.transform(xdf)\n",
    "\n",
    "encoded.select(\"banner_posEnc\").show()"
   ]
  },
  {
   "cell_type": "markdown",
   "metadata": {},
   "source": [
    "## String Indexing + One-Hot Encoding"
   ]
  },
  {
   "cell_type": "code",
   "execution_count": 10,
   "metadata": {},
   "outputs": [
    {
     "data": {
      "application/vnd.jupyter.widget-view+json": {
       "model_id": "f87653e3f04246cfac21f686bbb76923",
       "version_major": 2,
       "version_minor": 0
      },
      "text/plain": [
       "VBox()"
      ]
     },
     "metadata": {},
     "output_type": "display_data"
    },
    {
     "data": {
      "application/vnd.jupyter.widget-view+json": {
       "model_id": "",
       "version_major": 2,
       "version_minor": 0
      },
      "text/plain": [
       "FloatProgress(value=0.0, bar_style='info', description='Progress:', layout=Layout(height='25px', width='50%'),…"
      ]
     },
     "metadata": {},
     "output_type": "display_data"
    },
    {
     "name": "stdout",
     "output_type": "stream",
     "text": [
      "24"
     ]
    }
   ],
   "source": [
    "#exploring the site catagore column\n",
    "encoded.select(\"site_category\").distinct().count()"
   ]
  },
  {
   "cell_type": "code",
   "execution_count": 11,
   "metadata": {},
   "outputs": [
    {
     "data": {
      "application/vnd.jupyter.widget-view+json": {
       "model_id": "f25e6f0ea4e64a538e0062569f66cfab",
       "version_major": 2,
       "version_minor": 0
      },
      "text/plain": [
       "VBox()"
      ]
     },
     "metadata": {},
     "output_type": "display_data"
    },
    {
     "data": {
      "application/vnd.jupyter.widget-view+json": {
       "model_id": "",
       "version_major": 2,
       "version_minor": 0
      },
      "text/plain": [
       "FloatProgress(value=0.0, bar_style='info', description='Progress:', layout=Layout(height='25px', width='50%'),…"
      ]
     },
     "metadata": {},
     "output_type": "display_data"
    },
    {
     "name": "stdout",
     "output_type": "stream",
     "text": [
      "+-------------+\n",
      "|site_category|\n",
      "+-------------+\n",
      "|     50e219e0|\n",
      "|     f028772b|\n",
      "|     50e219e0|\n",
      "|     50e219e0|\n",
      "|     28905ebd|\n",
      "+-------------+"
     ]
    }
   ],
   "source": [
    "encoded.select(\"site_category\").limit(5).show()"
   ]
  },
  {
   "cell_type": "code",
   "execution_count": 12,
   "metadata": {},
   "outputs": [
    {
     "data": {
      "application/vnd.jupyter.widget-view+json": {
       "model_id": "c402cf77de8140f996b79c4e8b648ee0",
       "version_major": 2,
       "version_minor": 0
      },
      "text/plain": [
       "VBox()"
      ]
     },
     "metadata": {},
     "output_type": "display_data"
    },
    {
     "data": {
      "application/vnd.jupyter.widget-view+json": {
       "model_id": "",
       "version_major": 2,
       "version_minor": 0
      },
      "text/plain": [
       "FloatProgress(value=0.0, bar_style='info', description='Progress:', layout=Layout(height='25px', width='50%'),…"
      ]
     },
     "metadata": {},
     "output_type": "display_data"
    },
    {
     "name": "stdout",
     "output_type": "stream",
     "text": [
      "+-------------------+\n",
      "|site_category_ixEnc|\n",
      "+-------------------+\n",
      "|     (23,[0],[1.0])|\n",
      "|     (23,[1],[1.0])|\n",
      "|     (23,[0],[1.0])|\n",
      "|     (23,[0],[1.0])|\n",
      "|     (23,[2],[1.0])|\n",
      "|     (23,[0],[1.0])|\n",
      "|     (23,[1],[1.0])|\n",
      "|     (23,[2],[1.0])|\n",
      "|     (23,[2],[1.0])|\n",
      "|     (23,[0],[1.0])|\n",
      "|     (23,[1],[1.0])|\n",
      "|     (23,[0],[1.0])|\n",
      "|     (23,[0],[1.0])|\n",
      "|     (23,[3],[1.0])|\n",
      "|     (23,[1],[1.0])|\n",
      "|     (23,[3],[1.0])|\n",
      "|     (23,[0],[1.0])|\n",
      "|     (23,[1],[1.0])|\n",
      "|     (23,[0],[1.0])|\n",
      "|     (23,[0],[1.0])|\n",
      "+-------------------+\n",
      "only showing top 20 rows"
     ]
    }
   ],
   "source": [
    "# import the string indexer\n",
    "from pyspark.ml.feature import StringIndexer\n",
    "#similar to the one hot encoder, create a string indexer object and fit it to the dataframe, use the fitted object to transform the dataset.\n",
    "si = StringIndexer(inputCol='site_category', outputCol='site_category_ix')\n",
    "encoded = si.fit(encoded).transform(encoded)\n",
    "#use the output of the sting indexer as an input to the onehot encoder. \n",
    "ohe = OneHotEncoderEstimator(inputCols=['site_category_ix'], outputCols=['site_category_ixEnc'])\n",
    "oh_encoder = ohe.fit(encoded)\n",
    "encoded = oh_encoder.transform(encoded)\n",
    "\n",
    "encoded.select(\"site_category_ixEnc\").show()"
   ]
  },
  {
   "cell_type": "markdown",
   "metadata": {},
   "source": [
    "### Collecting Encoded Features - VectorAssembler"
   ]
  },
  {
   "cell_type": "code",
   "execution_count": 13,
   "metadata": {},
   "outputs": [
    {
     "data": {
      "application/vnd.jupyter.widget-view+json": {
       "model_id": "0a44ac3303914b56bfba4150e508e9d6",
       "version_major": 2,
       "version_minor": 0
      },
      "text/plain": [
       "VBox()"
      ]
     },
     "metadata": {},
     "output_type": "display_data"
    },
    {
     "data": {
      "application/vnd.jupyter.widget-view+json": {
       "model_id": "",
       "version_major": 2,
       "version_minor": 0
      },
      "text/plain": [
       "FloatProgress(value=0.0, bar_style='info', description='Progress:', layout=Layout(height='25px', width='50%'),…"
      ]
     },
     "metadata": {},
     "output_type": "display_data"
    },
    {
     "name": "stdout",
     "output_type": "stream",
     "text": [
      "+--------------------+\n",
      "|            features|\n",
      "+--------------------+\n",
      "|(34,[0,23,30,31,3...|\n",
      "|(34,[1,24,30,31,3...|\n",
      "|(34,[0,23,30,31,3...|\n",
      "|(34,[0,23,30,31,3...|\n",
      "|(34,[2,23,30,32,3...|\n",
      "|(34,[0,23,30,31,3...|\n",
      "|(34,[1,23,30,31,3...|\n",
      "|(34,[2,23,30,31,3...|\n",
      "|(34,[2,23,30,32,3...|\n",
      "|(34,[0,23,30,31,3...|\n",
      "|(34,[1,23,30,31,3...|\n",
      "|(34,[0,23,30,31,3...|\n",
      "|(34,[0,23,30,31,3...|\n",
      "|(34,[3,23,30,31,3...|\n",
      "|(34,[1,23,30,31,3...|\n",
      "|(34,[3,23,30,31,3...|\n",
      "|(34,[0,23,30,31,3...|\n",
      "|(34,[1,24,30,31,3...|\n",
      "|(34,[0,23,30,31,3...|\n",
      "|(34,[0,23,30,31,3...|\n",
      "+--------------------+\n",
      "only showing top 20 rows"
     ]
    }
   ],
   "source": [
    "#import the vector assembler \n",
    "from pyspark.ml.feature import VectorAssembler\n",
    "\n",
    "#create the assembler object\n",
    "assembler = VectorAssembler(inputCols=[\"site_category_ixEnc\", \"banner_posEnc\",\n",
    "                                       \"month\", \"dayofweek\", \"day\", \"hour\"],\n",
    "                            outputCol=\"features\")\n",
    "#transform the data frame using the assembler object. \n",
    "encoded = assembler.transform(encoded)\n",
    "encoded.select(\"features\").show()"
   ]
  },
  {
   "cell_type": "markdown",
   "metadata": {},
   "source": [
    "## Putting it all together - pipelines"
   ]
  },
  {
   "cell_type": "code",
   "execution_count": 14,
   "metadata": {},
   "outputs": [
    {
     "data": {
      "application/vnd.jupyter.widget-view+json": {
       "model_id": "5d867c5c3ca447e6b873a186fe633ade",
       "version_major": 2,
       "version_minor": 0
      },
      "text/plain": [
       "VBox()"
      ]
     },
     "metadata": {},
     "output_type": "display_data"
    },
    {
     "data": {
      "application/vnd.jupyter.widget-view+json": {
       "model_id": "",
       "version_major": 2,
       "version_minor": 0
      },
      "text/plain": [
       "FloatProgress(value=0.0, bar_style='info', description='Progress:', layout=Layout(height='25px', width='50%'),…"
      ]
     },
     "metadata": {},
     "output_type": "display_data"
    },
    {
     "name": "stdout",
     "output_type": "stream",
     "text": [
      "+--------------------+\n",
      "|            features|\n",
      "+--------------------+\n",
      "|(34,[0,23,30,31,3...|\n",
      "|(34,[1,24,30,31,3...|\n",
      "|(34,[0,23,30,31,3...|\n",
      "|(34,[0,23,30,31,3...|\n",
      "|(34,[2,23,30,32,3...|\n",
      "|(34,[0,23,30,31,3...|\n",
      "|(34,[1,23,30,31,3...|\n",
      "|(34,[2,23,30,31,3...|\n",
      "|(34,[2,23,30,32,3...|\n",
      "|(34,[0,23,30,31,3...|\n",
      "|(34,[1,23,30,31,3...|\n",
      "|(34,[0,23,30,31,3...|\n",
      "|(34,[0,23,30,31,3...|\n",
      "|(34,[3,23,30,31,3...|\n",
      "|(34,[1,23,30,31,3...|\n",
      "|(34,[3,23,30,31,3...|\n",
      "|(34,[0,23,30,31,3...|\n",
      "|(34,[1,24,30,31,3...|\n",
      "|(34,[0,23,30,31,3...|\n",
      "|(34,[0,23,30,31,3...|\n",
      "+--------------------+\n",
      "only showing top 20 rows"
     ]
    }
   ],
   "source": [
    "# import pipline API\n",
    "from pyspark.ml import Pipeline\n",
    "#create the bjects of all the setps you want to pipeline\n",
    "si = StringIndexer(inputCol='site_category', outputCol='site_category_ix')\n",
    "ohe = OneHotEncoderEstimator(inputCols=['site_category_ix', 'banner_pos'],\n",
    "                             outputCols=['site_category_ixEnc', 'banner_posEnc'])\n",
    "assembler = VectorAssembler(inputCols=[\"site_category_ixEnc\", \"banner_posEnc\",\n",
    "                                       \"month\", \"dayofweek\", \"day\", \"hour\"],\n",
    "                            outputCol=\"features\")\n",
    "#create the pipeline object\n",
    "pipeline = Pipeline(stages=[si, ohe, assembler])\n",
    "#use the object to transform the dataframe \n",
    "encoded = pipeline.fit(xdf).transform(xdf)\n",
    "\n",
    "encoded.select(\"features\").show()"
   ]
  },
  {
   "cell_type": "code",
   "execution_count": null,
   "metadata": {},
   "outputs": [],
   "source": []
  }
 ],
 "metadata": {
  "kernelspec": {
   "display_name": "PySpark",
   "language": "",
   "name": "pysparkkernel"
  },
  "language_info": {
   "codemirror_mode": {
    "name": "python",
    "version": 3
   },
   "mimetype": "text/x-python",
   "name": "pyspark",
   "pygments_lexer": "python3"
  }
 },
 "nbformat": 4,
 "nbformat_minor": 4
}
