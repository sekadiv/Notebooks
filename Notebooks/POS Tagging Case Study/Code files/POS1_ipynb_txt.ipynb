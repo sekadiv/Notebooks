{
  "cells": [
    {
      "cell_type": "markdown",
      "metadata": {
        "id": "OKcXwoZHurtB"
      },
      "source": [
        "## Importing libraries"
      ]
    },
    {
      "cell_type": "code",
      "execution_count": 2,
      "metadata": {
        "id": "r5zWwc1_urtR"
      },
      "outputs": [],
      "source": [
        "import pandas as pd\n",
        "import numpy as np\n",
        "import os"
      ]
    },
    {
      "cell_type": "markdown",
      "metadata": {
        "id": "Bd28EuN3urtT"
      },
      "source": [
        "### How do we identify product features?\n",
        "<img src = \"./images/keywords.png\">"
      ]
    },
    {
      "cell_type": "code",
      "execution_count": 3,
      "metadata": {
        "id": "5zP8A4ysurtU"
      },
      "outputs": [],
      "source": [
        "sent1 = \"I loved the screen on this phone.\"\n",
        "sent2 = \"The battery life on this phone is great.\"\n",
        "sent3 = \"The speakers are pathetic.\""
      ]
    },
    {
      "cell_type": "markdown",
      "metadata": {
        "id": "CT_yMlbiurtV"
      },
      "source": [
        "### Lets do a POS parse and see if we can figure out some patterns."
      ]
    },
    {
      "cell_type": "code",
      "execution_count": 13,
      "metadata": {},
      "outputs": [
        {
          "name": "stdout",
          "output_type": "stream",
          "text": [
            "Collecting spacy\n",
            "  Downloading spacy-3.2.0-cp38-cp38-macosx_10_9_x86_64.whl (6.2 MB)\n",
            "\u001b[K     |████████████████████████████████| 6.2 MB 5.0 MB/s \n",
            "\u001b[?25hRequirement already satisfied, skipping upgrade: cymem<2.1.0,>=2.0.2 in /Users/divyasekaran/opt/anaconda3/lib/python3.8/site-packages (from spacy) (2.0.6)\n",
            "Requirement already satisfied, skipping upgrade: tqdm<5.0.0,>=4.38.0 in /Users/divyasekaran/opt/anaconda3/lib/python3.8/site-packages (from spacy) (4.50.2)\n",
            "Requirement already satisfied, skipping upgrade: pathy>=0.3.5 in /Users/divyasekaran/opt/anaconda3/lib/python3.8/site-packages (from spacy) (0.6.1)\n",
            "Requirement already satisfied, skipping upgrade: catalogue<2.1.0,>=2.0.6 in /Users/divyasekaran/opt/anaconda3/lib/python3.8/site-packages (from spacy) (2.0.6)\n",
            "Requirement already satisfied, skipping upgrade: preshed<3.1.0,>=3.0.2 in /Users/divyasekaran/opt/anaconda3/lib/python3.8/site-packages (from spacy) (3.0.6)\n",
            "Requirement already satisfied, skipping upgrade: setuptools in /Users/divyasekaran/opt/anaconda3/lib/python3.8/site-packages (from spacy) (50.3.1.post20201107)\n",
            "Requirement already satisfied, skipping upgrade: packaging>=20.0 in /Users/divyasekaran/opt/anaconda3/lib/python3.8/site-packages (from spacy) (20.4)\n",
            "Collecting langcodes<4.0.0,>=3.2.0\n",
            "  Downloading langcodes-3.2.1.tar.gz (173 kB)\n",
            "\u001b[K     |████████████████████████████████| 173 kB 14.0 MB/s \n",
            "\u001b[?25hRequirement already satisfied, skipping upgrade: pydantic!=1.8,!=1.8.1,<1.9.0,>=1.7.4 in /Users/divyasekaran/opt/anaconda3/lib/python3.8/site-packages (from spacy) (1.8.2)\n",
            "Requirement already satisfied, skipping upgrade: wasabi<1.1.0,>=0.8.1 in /Users/divyasekaran/opt/anaconda3/lib/python3.8/site-packages (from spacy) (0.8.2)\n",
            "Requirement already satisfied, skipping upgrade: typer<0.5.0,>=0.3.0 in /Users/divyasekaran/opt/anaconda3/lib/python3.8/site-packages (from spacy) (0.4.0)\n",
            "Requirement already satisfied, skipping upgrade: blis<0.8.0,>=0.4.0 in /Users/divyasekaran/opt/anaconda3/lib/python3.8/site-packages (from spacy) (0.7.5)\n",
            "Requirement already satisfied, skipping upgrade: murmurhash<1.1.0,>=0.28.0 in /Users/divyasekaran/opt/anaconda3/lib/python3.8/site-packages (from spacy) (1.0.6)\n",
            "Requirement already satisfied, skipping upgrade: srsly<3.0.0,>=2.4.1 in /Users/divyasekaran/opt/anaconda3/lib/python3.8/site-packages (from spacy) (2.4.2)\n",
            "Requirement already satisfied, skipping upgrade: numpy>=1.15.0 in /Users/divyasekaran/opt/anaconda3/lib/python3.8/site-packages (from spacy) (1.19.2)\n",
            "Requirement already satisfied, skipping upgrade: thinc<8.1.0,>=8.0.12 in /Users/divyasekaran/opt/anaconda3/lib/python3.8/site-packages (from spacy) (8.0.12)\n",
            "Collecting spacy-loggers<2.0.0,>=1.0.0\n",
            "  Downloading spacy_loggers-1.0.1-py3-none-any.whl (7.0 kB)\n",
            "Requirement already satisfied, skipping upgrade: jinja2 in /Users/divyasekaran/opt/anaconda3/lib/python3.8/site-packages (from spacy) (2.11.2)\n",
            "Requirement already satisfied, skipping upgrade: spacy-legacy<3.1.0,>=3.0.8 in /Users/divyasekaran/opt/anaconda3/lib/python3.8/site-packages (from spacy) (3.0.8)\n",
            "Requirement already satisfied, skipping upgrade: requests<3.0.0,>=2.13.0 in /Users/divyasekaran/opt/anaconda3/lib/python3.8/site-packages (from spacy) (2.24.0)\n",
            "Requirement already satisfied, skipping upgrade: smart-open<6.0.0,>=5.0.0 in /Users/divyasekaran/opt/anaconda3/lib/python3.8/site-packages (from pathy>=0.3.5->spacy) (5.2.1)\n",
            "Requirement already satisfied, skipping upgrade: six in /Users/divyasekaran/opt/anaconda3/lib/python3.8/site-packages (from packaging>=20.0->spacy) (1.15.0)\n",
            "Requirement already satisfied, skipping upgrade: pyparsing>=2.0.2 in /Users/divyasekaran/opt/anaconda3/lib/python3.8/site-packages (from packaging>=20.0->spacy) (2.4.7)\n",
            "Requirement already satisfied, skipping upgrade: typing-extensions>=3.7.4.3 in /Users/divyasekaran/opt/anaconda3/lib/python3.8/site-packages (from pydantic!=1.8,!=1.8.1,<1.9.0,>=1.7.4->spacy) (3.7.4.3)\n",
            "Requirement already satisfied, skipping upgrade: click<9.0.0,>=7.1.1 in /Users/divyasekaran/opt/anaconda3/lib/python3.8/site-packages (from typer<0.5.0,>=0.3.0->spacy) (7.1.2)\n",
            "Requirement already satisfied, skipping upgrade: MarkupSafe>=0.23 in /Users/divyasekaran/opt/anaconda3/lib/python3.8/site-packages (from jinja2->spacy) (1.1.1)\n",
            "Requirement already satisfied, skipping upgrade: idna<3,>=2.5 in /Users/divyasekaran/opt/anaconda3/lib/python3.8/site-packages (from requests<3.0.0,>=2.13.0->spacy) (2.10)\n",
            "Requirement already satisfied, skipping upgrade: chardet<4,>=3.0.2 in /Users/divyasekaran/opt/anaconda3/lib/python3.8/site-packages (from requests<3.0.0,>=2.13.0->spacy) (3.0.4)\n",
            "Requirement already satisfied, skipping upgrade: certifi>=2017.4.17 in /Users/divyasekaran/opt/anaconda3/lib/python3.8/site-packages (from requests<3.0.0,>=2.13.0->spacy) (2020.6.20)\n",
            "Requirement already satisfied, skipping upgrade: urllib3!=1.25.0,!=1.25.1,<1.26,>=1.21.1 in /Users/divyasekaran/opt/anaconda3/lib/python3.8/site-packages (from requests<3.0.0,>=2.13.0->spacy) (1.25.11)\n",
            "Building wheels for collected packages: langcodes\n",
            "  Building wheel for langcodes (setup.py) ... \u001b[?25ldone\n",
            "\u001b[?25h  Created wheel for langcodes: filename=langcodes-3.2.1-py3-none-any.whl size=169378 sha256=47054fe454ae67cfe5609f8ab02021f8755a13ad8dae0fea26d7f814ceebe466\n",
            "  Stored in directory: /Users/divyasekaran/Library/Caches/pip/wheels/aa/5b/45/2e2ebdd7b888ba82dac447122f8ea0f4a2404910516d486679\n",
            "Successfully built langcodes\n",
            "Installing collected packages: langcodes, spacy-loggers, spacy\n",
            "  Attempting uninstall: spacy\n",
            "    Found existing installation: spacy 3.1.4\n",
            "    Uninstalling spacy-3.1.4:\n",
            "      Successfully uninstalled spacy-3.1.4\n",
            "Successfully installed langcodes-3.2.1 spacy-3.2.0 spacy-loggers-1.0.1\n"
          ]
        }
      ],
      "source": [
        "!  pip install -U spacy\n"
      ]
    },
    {
      "cell_type": "code",
      "execution_count": 16,
      "metadata": {
        "id": "XYXVM2CrurtW"
      },
      "outputs": [
        {
          "name": "stderr",
          "output_type": "stream",
          "text": [
            "/Users/divyasekaran/opt/anaconda3/lib/python3.8/site-packages/spacy/util.py:762: UserWarning: [W095] Model 'en_core_web_sm' (3.0.0) was trained with spaCy v3.0 and may not be 100% compatible with the current version (3.1.4). If you see errors or degraded performance, download a newer compatible model or retrain your custom model with the current spaCy version. For more details and available updates, run: python -m spacy validate\n",
            "  pass\n"
          ]
        }
      ],
      "source": [
        "import spacy \n",
        "nlp = spacy.load(\"en_core_web_sm\")"
      ]
    },
    {
      "cell_type": "code",
      "execution_count": 17,
      "metadata": {
        "id": "kD53XzhEurtX",
        "outputId": "c4e2e3eb-0c29-4ec0-be3b-feef37646d59"
      },
      "outputs": [
        {
          "name": "stdout",
          "output_type": "stream",
          "text": [
            "I PRON\n",
            "loved VERB\n",
            "the DET\n",
            "screen NOUN\n",
            "on ADP\n",
            "this DET\n",
            "phone NOUN\n",
            ". PUNCT\n"
          ]
        }
      ],
      "source": [
        "doc1 = nlp(sent1)\n",
        "for tok in doc1:\n",
        "    print(tok.text,tok.pos_)"
      ]
    },
    {
      "cell_type": "code",
      "execution_count": 18,
      "metadata": {
        "id": "RAHWa3uturtZ",
        "outputId": "1e9d3adf-857f-4343-8a71-296fc7340a6d"
      },
      "outputs": [
        {
          "name": "stdout",
          "output_type": "stream",
          "text": [
            "The DET\n",
            "battery NOUN\n",
            "life NOUN\n",
            "on ADP\n",
            "this DET\n",
            "phone NOUN\n",
            "is AUX\n",
            "great ADJ\n",
            ". PUNCT\n"
          ]
        }
      ],
      "source": [
        "doc2 = nlp(sent2)\n",
        "for tok in doc2:\n",
        "    print(tok.text,tok.pos_)"
      ]
    },
    {
      "cell_type": "code",
      "execution_count": null,
      "metadata": {
        "id": "5z-Q-Rakurta",
        "outputId": "93b1956a-2d1a-453b-bc85-896a1a1018bc"
      },
      "outputs": [
        {
          "name": "stdout",
          "output_type": "stream",
          "text": [
            "The DET\n",
            "speakers NOUN\n",
            "are AUX\n",
            "pathetic ADJ\n",
            ". PUNCT\n"
          ]
        }
      ],
      "source": [
        "doc3 = nlp(sent3)\n",
        "for tok in doc3:\n",
        "    print(tok.text,tok.pos_)"
      ]
    },
    {
      "cell_type": "markdown",
      "metadata": {
        "id": "EWh298c3urte"
      },
      "source": [
        "#### **Product features such as `screen`, `battery`, `speaker` have a POS tag of NOUN**"
      ]
    },
    {
      "cell_type": "markdown",
      "metadata": {
        "id": "XrtRHVfUurtf"
      },
      "source": [
        "## Summary\n",
        "- Product features such as `screen`, `battery` and `speaker` have a POS tag of Noun\n",
        "- If we can find the frequency count of all the nouns in our data, then by looking at top-n nouns we can find out what product features people are talking about\n",
        "- Check hypothesis on a real world dataset"
      ]
    },
    {
      "cell_type": "code",
      "execution_count": null,
      "metadata": {
        "id": "tmqDwHWBurtg"
      },
      "outputs": [],
      "source": []
    }
  ],
  "metadata": {
    "colab": {
      "name": "POS1_ipynb_txt.ipynb",
      "provenance": []
    },
    "interpreter": {
      "hash": "3d20eef2740016f15402455d94578bf8364fbed09da096fe38cda6080b95ab40"
    },
    "kernelspec": {
      "display_name": "Python 3.8.5 64-bit ('base': conda)",
      "name": "python3"
    },
    "language_info": {
      "codemirror_mode": {
        "name": "ipython",
        "version": 3
      },
      "file_extension": ".py",
      "mimetype": "text/x-python",
      "name": "python",
      "nbconvert_exporter": "python",
      "pygments_lexer": "ipython3",
      "version": "3.8.5"
    }
  },
  "nbformat": 4,
  "nbformat_minor": 0
}
