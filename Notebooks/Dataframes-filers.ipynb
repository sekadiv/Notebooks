{
 "cells": [
  {
   "cell_type": "code",
   "execution_count": 1,
   "metadata": {},
   "outputs": [],
   "source": [
    "import os\n",
    "import sys\n",
    "os.environ[\"PYSPARK_PYTHON\"] = \"/home/ec2-user/spark-2.4.4-bin-hadoop2.7/python\"\n",
    "os.environ[\"JAVA_HOME\"] = \"/usr/java/jdk1.8.0_161/jre\"\n",
    "os.environ[\"SPARK_HOME\"] = \"/home/ec2-user/spark-2.4.4-bin-hadoop2.7\"\n",
    "os.environ[\"PYLIB\"] = os.environ[\"SPARK_HOME\"] + \"/python/lib\"\n",
    "sys.path.insert(0, os.environ[\"PYLIB\"] + \"/py4j-0.10.7-src.zip\")\n",
    "sys.path.insert(0, os.environ[\"PYLIB\"] + \"/pyspark.zip\")"
   ]
  },
  {
   "cell_type": "markdown",
   "metadata": {},
   "source": [
    "# Filter and Collect Operations"
   ]
  },
  {
   "cell_type": "markdown",
   "metadata": {},
   "source": [
    "Lets create a spark session"
   ]
  },
  {
   "cell_type": "code",
   "execution_count": 2,
   "metadata": {},
   "outputs": [],
   "source": [
    "from pyspark.sql import SparkSession"
   ]
  },
  {
   "cell_type": "code",
   "execution_count": 3,
   "metadata": {},
   "outputs": [],
   "source": [
    "spark = SparkSession.builder.appName(\"DataframeFilers\").getOrCreate()"
   ]
  },
  {
   "cell_type": "markdown",
   "metadata": {},
   "source": [
    "Read data from the csv file\n",
    "\n",
    "Dataset contains historical stock data from National Stock Exchange for Tata Steel"
   ]
  },
  {
   "cell_type": "code",
   "execution_count": 4,
   "metadata": {},
   "outputs": [],
   "source": [
    "df = spark.read.csv('tatasteel_stock.csv', inferSchema=True, header=True)"
   ]
  },
  {
   "cell_type": "code",
   "execution_count": 5,
   "metadata": {},
   "outputs": [
    {
     "name": "stdout",
     "output_type": "stream",
     "text": [
      "+---------+------+-----------+----------+----------+----------+---------+----------+-----------+-------------+---------------------+--------------+-------------+\n",
      "|   Symbol|Series|       Date|Prev Close|Open Price|High Price|Low Price|Last Price|Close Price|Average Price|Total Traded Quantity|      Turnover|No. of Trades|\n",
      "+---------+------+-----------+----------+----------+----------+---------+----------+-----------+-------------+---------------------+--------------+-------------+\n",
      "|TATASTEEL|    E1|26-Mar-2019|     59.25|      59.2|      64.3|     59.2|      64.0|      63.75|        62.26|            1480106.0|  9.21574969E7|       6826.0|\n",
      "|TATASTEEL|    EQ|26-Mar-2019|    515.15|     516.0|    520.95|   514.15|    519.55|     519.35|       517.48|            3329825.0|1.7231104723E9|      41880.0|\n",
      "|TATASTEEL|    E1|27-Mar-2019|     63.75|     63.95|      67.2|    58.85|      60.0|       60.8|        62.94|            1891627.0| 1.190616721E8|       8117.0|\n",
      "|TATASTEEL|    EQ|27-Mar-2019|    519.35|     520.0|     523.0|   513.05|     514.0|      515.8|       517.31|            5239158.0|2.7102444038E9|      75257.0|\n",
      "|TATASTEEL|    E1|28-Mar-2019|      60.8|      61.0|      63.5|     57.6|      58.1|       58.4|        59.55|            1080005.0|   6.4314137E7|       4916.0|\n",
      "+---------+------+-----------+----------+----------+----------+---------+----------+-----------+-------------+---------------------+--------------+-------------+\n",
      "only showing top 5 rows\n",
      "\n"
     ]
    }
   ],
   "source": [
    "df.show(5)"
   ]
  },
  {
   "cell_type": "code",
   "execution_count": 6,
   "metadata": {},
   "outputs": [
    {
     "data": {
      "text/plain": [
       "['Symbol',\n",
       " 'Series',\n",
       " 'Date',\n",
       " 'Prev Close',\n",
       " 'Open Price',\n",
       " 'High Price',\n",
       " 'Low Price',\n",
       " 'Last Price',\n",
       " 'Close Price',\n",
       " 'Average Price',\n",
       " 'Total Traded Quantity',\n",
       " 'Turnover',\n",
       " 'No. of Trades']"
      ]
     },
     "execution_count": 6,
     "metadata": {},
     "output_type": "execute_result"
    }
   ],
   "source": [
    "df.columns"
   ]
  },
  {
   "cell_type": "code",
   "execution_count": 7,
   "metadata": {},
   "outputs": [
    {
     "name": "stdout",
     "output_type": "stream",
     "text": [
      "root\n",
      " |-- Symbol: string (nullable = true)\n",
      " |-- Series: string (nullable = true)\n",
      " |-- Date: string (nullable = true)\n",
      " |-- Prev Close: double (nullable = true)\n",
      " |-- Open Price: double (nullable = true)\n",
      " |-- High Price: double (nullable = true)\n",
      " |-- Low Price: double (nullable = true)\n",
      " |-- Last Price: double (nullable = true)\n",
      " |-- Close Price: double (nullable = true)\n",
      " |-- Average Price: double (nullable = true)\n",
      " |-- Total Traded Quantity: double (nullable = true)\n",
      " |-- Turnover: double (nullable = true)\n",
      " |-- No. of Trades: double (nullable = true)\n",
      "\n"
     ]
    }
   ],
   "source": [
    "df.printSchema()"
   ]
  },
  {
   "cell_type": "markdown",
   "metadata": {},
   "source": [
    "### Data Dict \n",
    "\n",
    "The data is historic stock price data of tata steel. one row in the dataset is one day. \n",
    "\n",
    "Symbol = Name of the equity\n",
    "\n",
    "Series = e1/et e1 is for part payment and eq is for equity\n",
    "\n",
    "Date = The date on which the recod was made \n",
    "\n",
    "Prev Close = Closing price on the day earlier\n",
    "\n",
    "Open Price = Opeing price on the 'date'\n",
    "\n",
    "High Price = Highest price on the 'date'\n",
    "\n",
    "Low Price = Lowest price on the 'date'\n",
    "\n",
    "Last Price = most recent price on which the last trade of the 'date' happened\n",
    "\n",
    "Close Price = closing price of the date\n",
    "\n",
    "Average Price = average of closing prices over a specific period \n",
    "\n",
    "Total Traded Quantity = Number of equities traded in that day\n",
    "\n",
    "Turnover = Monetary value of the traded equity \n",
    "\n",
    "No. of Trades = Total number of transactions "
   ]
  },
  {
   "cell_type": "markdown",
   "metadata": {},
   "source": [
    "## Filtering Data\n",
    "\n",
    "A large part of working with DataFrames is the ability to quickly filter out data based on conditions. Spark DataFrames quickly and easily grab that data using the DataFrame methods."
   ]
  },
  {
   "cell_type": "markdown",
   "metadata": {},
   "source": [
    "Using normal python comparison operators is another way to do this, except you need to make sure you are calling the column object within the dataframe, using the format: df[\"column name\"]\n",
    "\n"
   ]
  },
  {
   "cell_type": "code",
   "execution_count": 8,
   "metadata": {
    "scrolled": true
   },
   "outputs": [
    {
     "name": "stdout",
     "output_type": "stream",
     "text": [
      "+---------+------+-----------+----------+----------+----------+---------+----------+-----------+-------------+---------------------+---------------+-------------+\n",
      "|   Symbol|Series|       Date|Prev Close|Open Price|High Price|Low Price|Last Price|Close Price|Average Price|Total Traded Quantity|       Turnover|No. of Trades|\n",
      "+---------+------+-----------+----------+----------+----------+---------+----------+-----------+-------------+---------------------+---------------+-------------+\n",
      "|TATASTEEL|    EQ|26-Mar-2019|    515.15|     516.0|    520.95|   514.15|    519.55|     519.35|       517.48|            3329825.0| 1.7231104723E9|      41880.0|\n",
      "|TATASTEEL|    EQ|27-Mar-2019|    519.35|     520.0|     523.0|   513.05|     514.0|      515.8|       517.31|            5239158.0| 2.7102444038E9|      75257.0|\n",
      "|TATASTEEL|    EQ|28-Mar-2019|     515.8|     514.4|    516.45|    504.8|     505.0|      506.3|       508.59|            8965093.0| 4.5595291653E9|      81956.0|\n",
      "|TATASTEEL|    EQ|29-Mar-2019|     506.3|     510.0|     525.0|   508.05|    520.65|      521.0|        519.0|          1.1965611E7|6.21011123975E9|     124103.0|\n",
      "|TATASTEEL|    EQ|01-Apr-2019|     521.0|     530.0|     544.0|    528.1|     534.1|     535.15|       537.14|          1.3523554E7|7.26401451205E9|     155633.0|\n",
      "|TATASTEEL|    EQ|02-Apr-2019|    535.15|     538.0|     538.0|   526.05|    532.75|     530.65|       530.72|            5086818.0| 2.6996641116E9|      63489.0|\n",
      "|TATASTEEL|    EQ|03-Apr-2019|    530.65|     536.9|     547.6|   533.45|     534.5|     535.45|       541.17|           1.148968E7| 6.2178713384E9|     130492.0|\n",
      "|TATASTEEL|    EQ|04-Apr-2019|    535.45|    532.75|     537.4|    526.5|     530.2|     530.65|       531.34|            5259917.0| 2.7948187316E9|      70618.0|\n",
      "|TATASTEEL|    EQ|05-Apr-2019|    530.65|     531.2|     551.0|    531.2|     550.5|      549.3|       543.09|          1.0037713E7|5.45139930315E9|     143614.0|\n",
      "|TATASTEEL|    EQ|08-Apr-2019|     549.3|     553.2|     557.0|    545.8|     548.0|     549.05|       551.18|          1.0600901E7|5.84304849495E9|     153043.0|\n",
      "|TATASTEEL|    EQ|09-Apr-2019|    549.05|     551.0|     555.0|   540.25|     553.6|     553.05|       547.63|            6618936.0|3.62473684795E9|     107560.0|\n",
      "|TATASTEEL|    EQ|10-Apr-2019|    553.05|    551.65|     559.4|    541.7|     544.1|      544.4|       552.42|            7889153.0|4.35813799305E9|     107377.0|\n",
      "|TATASTEEL|    EQ|11-Apr-2019|     544.4|     541.0|     546.4|    533.5|    537.95|      535.7|       538.89|            6082398.0|3.27775608165E9|      65258.0|\n",
      "|TATASTEEL|    EQ|12-Apr-2019|     535.7|     537.0|     542.7|    532.2|     534.0|     533.65|       535.66|            6274016.0| 3.3607499191E9|      78725.0|\n",
      "|TATASTEEL|    EQ|15-Apr-2019|    533.65|     536.9|     555.0|   536.05|     554.0|     553.15|       548.81|          1.0390317E7| 5.7023067946E9|     122338.0|\n",
      "|TATASTEEL|    EQ|16-Apr-2019|    553.15|    553.55|     556.9|   549.15|    553.25|     553.25|       553.45|            6323654.0| 3.4998386484E9|      93908.0|\n",
      "|TATASTEEL|    EQ|18-Apr-2019|    553.25|     553.5|     554.5|    536.7|     542.6|      543.1|       544.02|            6660522.0|3.62343338565E9|      93931.0|\n",
      "|TATASTEEL|    EQ|22-Apr-2019|     543.1|     540.0|    545.75|    533.1|     534.8|      534.2|       538.15|            3697686.0|1.98990342045E9|      49616.0|\n",
      "|TATASTEEL|    EQ|23-Apr-2019|     534.2|    534.95|     538.5|    521.5|    522.95|     523.35|       528.68|            5119376.0|2.70652766115E9|      62141.0|\n",
      "|TATASTEEL|    EQ|24-Apr-2019|    523.35|     526.9|    527.85|    512.7|     524.1|     525.25|       519.91|            8376835.0|4.35516835345E9|      98572.0|\n",
      "+---------+------+-----------+----------+----------+----------+---------+----------+-----------+-------------+---------------------+---------------+-------------+\n",
      "only showing top 20 rows\n",
      "\n"
     ]
    }
   ],
   "source": [
    "df.filter(df['High Price'] > 500).show()"
   ]
  },
  {
   "cell_type": "markdown",
   "metadata": {},
   "source": [
    "Logical operators \n",
    "\n",
    "& and\n",
    "\n",
    "| or\n",
    "\n",
    "~ not\n"
   ]
  },
  {
   "cell_type": "code",
   "execution_count": 9,
   "metadata": {},
   "outputs": [
    {
     "name": "stdout",
     "output_type": "stream",
     "text": [
      "+---------+------+-----------+----------+----------+----------+---------+----------+-----------+-------------+---------------------+---------------+-------------+\n",
      "|   Symbol|Series|       Date|Prev Close|Open Price|High Price|Low Price|Last Price|Close Price|Average Price|Total Traded Quantity|       Turnover|No. of Trades|\n",
      "+---------+------+-----------+----------+----------+----------+---------+----------+-----------+-------------+---------------------+---------------+-------------+\n",
      "|TATASTEEL|    EQ|26-Mar-2019|    515.15|     516.0|    520.95|   514.15|    519.55|     519.35|       517.48|            3329825.0| 1.7231104723E9|      41880.0|\n",
      "|TATASTEEL|    EQ|27-Mar-2019|    519.35|     520.0|     523.0|   513.05|     514.0|      515.8|       517.31|            5239158.0| 2.7102444038E9|      75257.0|\n",
      "|TATASTEEL|    EQ|28-Mar-2019|     515.8|     514.4|    516.45|    504.8|     505.0|      506.3|       508.59|            8965093.0| 4.5595291653E9|      81956.0|\n",
      "|TATASTEEL|    EQ|29-Mar-2019|     506.3|     510.0|     525.0|   508.05|    520.65|      521.0|        519.0|          1.1965611E7|6.21011123975E9|     124103.0|\n",
      "|TATASTEEL|    EQ|01-Apr-2019|     521.0|     530.0|     544.0|    528.1|     534.1|     535.15|       537.14|          1.3523554E7|7.26401451205E9|     155633.0|\n",
      "|TATASTEEL|    EQ|02-Apr-2019|    535.15|     538.0|     538.0|   526.05|    532.75|     530.65|       530.72|            5086818.0| 2.6996641116E9|      63489.0|\n",
      "|TATASTEEL|    EQ|03-Apr-2019|    530.65|     536.9|     547.6|   533.45|     534.5|     535.45|       541.17|           1.148968E7| 6.2178713384E9|     130492.0|\n",
      "|TATASTEEL|    EQ|04-Apr-2019|    535.45|    532.75|     537.4|    526.5|     530.2|     530.65|       531.34|            5259917.0| 2.7948187316E9|      70618.0|\n",
      "|TATASTEEL|    EQ|05-Apr-2019|    530.65|     531.2|     551.0|    531.2|     550.5|      549.3|       543.09|          1.0037713E7|5.45139930315E9|     143614.0|\n",
      "|TATASTEEL|    EQ|08-Apr-2019|     549.3|     553.2|     557.0|    545.8|     548.0|     549.05|       551.18|          1.0600901E7|5.84304849495E9|     153043.0|\n",
      "|TATASTEEL|    EQ|09-Apr-2019|    549.05|     551.0|     555.0|   540.25|     553.6|     553.05|       547.63|            6618936.0|3.62473684795E9|     107560.0|\n",
      "|TATASTEEL|    EQ|10-Apr-2019|    553.05|    551.65|     559.4|    541.7|     544.1|      544.4|       552.42|            7889153.0|4.35813799305E9|     107377.0|\n",
      "|TATASTEEL|    EQ|11-Apr-2019|     544.4|     541.0|     546.4|    533.5|    537.95|      535.7|       538.89|            6082398.0|3.27775608165E9|      65258.0|\n",
      "|TATASTEEL|    EQ|12-Apr-2019|     535.7|     537.0|     542.7|    532.2|     534.0|     533.65|       535.66|            6274016.0| 3.3607499191E9|      78725.0|\n",
      "|TATASTEEL|    EQ|15-Apr-2019|    533.65|     536.9|     555.0|   536.05|     554.0|     553.15|       548.81|          1.0390317E7| 5.7023067946E9|     122338.0|\n",
      "|TATASTEEL|    EQ|16-Apr-2019|    553.15|    553.55|     556.9|   549.15|    553.25|     553.25|       553.45|            6323654.0| 3.4998386484E9|      93908.0|\n",
      "|TATASTEEL|    EQ|18-Apr-2019|    553.25|     553.5|     554.5|    536.7|     542.6|      543.1|       544.02|            6660522.0|3.62343338565E9|      93931.0|\n",
      "|TATASTEEL|    EQ|22-Apr-2019|     543.1|     540.0|    545.75|    533.1|     534.8|      534.2|       538.15|            3697686.0|1.98990342045E9|      49616.0|\n",
      "|TATASTEEL|    EQ|23-Apr-2019|     534.2|    534.95|     538.5|    521.5|    522.95|     523.35|       528.68|            5119376.0|2.70652766115E9|      62141.0|\n",
      "|TATASTEEL|    EQ|24-Apr-2019|    523.35|     526.9|    527.85|    512.7|     524.1|     525.25|       519.91|            8376835.0|4.35516835345E9|      98572.0|\n",
      "+---------+------+-----------+----------+----------+----------+---------+----------+-----------+-------------+---------------------+---------------+-------------+\n",
      "only showing top 20 rows\n",
      "\n"
     ]
    }
   ],
   "source": [
    "df.filter((df['High Price'] > 500) & (df['Prev Close'] > 490)).show()"
   ]
  },
  {
   "cell_type": "code",
   "execution_count": 10,
   "metadata": {},
   "outputs": [
    {
     "name": "stdout",
     "output_type": "stream",
     "text": [
      "+---------+------+-----------+----------+----------+----------+---------+----------+-----------+-------------+---------------------+---------------+-------------+\n",
      "|   Symbol|Series|       Date|Prev Close|Open Price|High Price|Low Price|Last Price|Close Price|Average Price|Total Traded Quantity|       Turnover|No. of Trades|\n",
      "+---------+------+-----------+----------+----------+----------+---------+----------+-----------+-------------+---------------------+---------------+-------------+\n",
      "|TATASTEEL|    EQ|27-May-2019|    484.15|     484.5|     514.3|   483.55|    512.25|     512.55|       505.45|          1.8207705E7| 9.2031204486E9|     254636.0|\n",
      "|TATASTEEL|    EQ|03-Jun-2019|     488.3|    488.95|    501.85|    485.1|     497.5|     497.65|        495.9|            8505392.0|4.21781532185E9|      99101.0|\n",
      "+---------+------+-----------+----------+----------+----------+---------+----------+-----------+-------------+---------------------+---------------+-------------+\n",
      "\n"
     ]
    }
   ],
   "source": [
    "df.filter((df['High Price'] > 500) & ~(df['Prev Close'] > 490)).show()"
   ]
  },
  {
   "cell_type": "code",
   "execution_count": 11,
   "metadata": {
    "scrolled": false
   },
   "outputs": [
    {
     "name": "stdout",
     "output_type": "stream",
     "text": [
      "+---------+------+-----------+----------+----------+----------+---------+----------+-----------+-------------+---------------------+--------------+-------------+\n",
      "|   Symbol|Series|       Date|Prev Close|Open Price|High Price|Low Price|Last Price|Close Price|Average Price|Total Traded Quantity|      Turnover|No. of Trades|\n",
      "+---------+------+-----------+----------+----------+----------+---------+----------+-----------+-------------+---------------------+--------------+-------------+\n",
      "|TATASTEEL|    EQ|26-Mar-2019|    515.15|     516.0|    520.95|   514.15|    519.55|     519.35|       517.48|            3329825.0|1.7231104723E9|      41880.0|\n",
      "+---------+------+-----------+----------+----------+----------+---------+----------+-----------+-------------+---------------------+--------------+-------------+\n",
      "\n"
     ]
    }
   ],
   "source": [
    "df.filter(df['Open Price'] == 516).show()"
   ]
  },
  {
   "cell_type": "markdown",
   "metadata": {},
   "source": [
    "#### Collecting the data "
   ]
  },
  {
   "cell_type": "code",
   "execution_count": 12,
   "metadata": {},
   "outputs": [
    {
     "data": {
      "text/plain": [
       "[Row(Symbol='TATASTEEL', Series='EQ', Date='27-May-2019', Prev Close=484.15, Open Price=484.5, High Price=514.3, Low Price=483.55, Last Price=512.25, Close Price=512.55, Average Price=505.45, Total Traded Quantity=18207705.0, Turnover=9203120448.6, No. of Trades=254636.0),\n",
       " Row(Symbol='TATASTEEL', Series='EQ', Date='03-Jun-2019', Prev Close=488.3, Open Price=488.95, High Price=501.85, Low Price=485.1, Last Price=497.5, Close Price=497.65, Average Price=495.9, Total Traded Quantity=8505392.0, Turnover=4217815321.85, No. of Trades=99101.0)]"
      ]
     },
     "execution_count": 12,
     "metadata": {},
     "output_type": "execute_result"
    }
   ],
   "source": [
    "df.filter((df['High Price'] > 500) & ~(df['Prev Close'] > 490)).collect()"
   ]
  },
  {
   "cell_type": "code",
   "execution_count": null,
   "metadata": {},
   "outputs": [],
   "source": []
  },
  {
   "cell_type": "markdown",
   "metadata": {},
   "source": [
    "collect retuns nested row objects. "
   ]
  },
  {
   "cell_type": "code",
   "execution_count": 13,
   "metadata": {},
   "outputs": [],
   "source": [
    "row_result = df.filter((df['High Price'] > 500) & ~(df['Prev Close'] > 490)).collect()"
   ]
  },
  {
   "cell_type": "code",
   "execution_count": 14,
   "metadata": {},
   "outputs": [
    {
     "data": {
      "text/plain": [
       "[Row(Symbol='TATASTEEL', Series='EQ', Date='27-May-2019', Prev Close=484.15, Open Price=484.5, High Price=514.3, Low Price=483.55, Last Price=512.25, Close Price=512.55, Average Price=505.45, Total Traded Quantity=18207705.0, Turnover=9203120448.6, No. of Trades=254636.0),\n",
       " Row(Symbol='TATASTEEL', Series='EQ', Date='03-Jun-2019', Prev Close=488.3, Open Price=488.95, High Price=501.85, Low Price=485.1, Last Price=497.5, Close Price=497.65, Average Price=495.9, Total Traded Quantity=8505392.0, Turnover=4217815321.85, No. of Trades=99101.0)]"
      ]
     },
     "execution_count": 14,
     "metadata": {},
     "output_type": "execute_result"
    }
   ],
   "source": [
    "row_result"
   ]
  },
  {
   "cell_type": "code",
   "execution_count": 15,
   "metadata": {},
   "outputs": [
    {
     "data": {
      "text/plain": [
       "list"
      ]
     },
     "execution_count": 15,
     "metadata": {},
     "output_type": "execute_result"
    }
   ],
   "source": [
    "type(row_result)"
   ]
  },
  {
   "cell_type": "code",
   "execution_count": 17,
   "metadata": {},
   "outputs": [],
   "source": [
    "row1 = row_result[0]"
   ]
  },
  {
   "cell_type": "code",
   "execution_count": 20,
   "metadata": {},
   "outputs": [
    {
     "data": {
      "text/plain": [
       "Row(Symbol='TATASTEEL', Series='EQ', Date='27-May-2019', Prev Close=484.15, Open Price=484.5, High Price=514.3, Low Price=483.55, Last Price=512.25, Close Price=512.55, Average Price=505.45, Total Traded Quantity=18207705.0, Turnover=9203120448.6, No. of Trades=254636.0)"
      ]
     },
     "execution_count": 20,
     "metadata": {},
     "output_type": "execute_result"
    }
   ],
   "source": [
    "row1"
   ]
  },
  {
   "cell_type": "markdown",
   "metadata": {},
   "source": [
    "Rows can be called to turn into dictionaries, to access individual values "
   ]
  },
  {
   "cell_type": "code",
   "execution_count": 18,
   "metadata": {},
   "outputs": [],
   "source": [
    "newdict = row1.asDict()"
   ]
  },
  {
   "cell_type": "code",
   "execution_count": 19,
   "metadata": {},
   "outputs": [
    {
     "data": {
      "text/plain": [
       "{'Symbol': 'TATASTEEL',\n",
       " 'Series': 'EQ',\n",
       " 'Date': '27-May-2019',\n",
       " 'Prev Close': 484.15,\n",
       " 'Open Price': 484.5,\n",
       " 'High Price': 514.3,\n",
       " 'Low Price': 483.55,\n",
       " 'Last Price': 512.25,\n",
       " 'Close Price': 512.55,\n",
       " 'Average Price': 505.45,\n",
       " 'Total Traded Quantity': 18207705.0,\n",
       " 'Turnover': 9203120448.6,\n",
       " 'No. of Trades': 254636.0}"
      ]
     },
     "execution_count": 19,
     "metadata": {},
     "output_type": "execute_result"
    }
   ],
   "source": [
    "newdict"
   ]
  },
  {
   "cell_type": "code",
   "execution_count": 21,
   "metadata": {},
   "outputs": [
    {
     "data": {
      "text/plain": [
       "'27-May-2019'"
      ]
     },
     "execution_count": 21,
     "metadata": {},
     "output_type": "execute_result"
    }
   ],
   "source": [
    "newdict['Date']"
   ]
  },
  {
   "cell_type": "code",
   "execution_count": 22,
   "metadata": {},
   "outputs": [
    {
     "data": {
      "text/plain": [
       "514.3"
      ]
     },
     "execution_count": 22,
     "metadata": {},
     "output_type": "execute_result"
    }
   ],
   "source": [
    "newdict['High Price']"
   ]
  },
  {
   "cell_type": "code",
   "execution_count": 23,
   "metadata": {},
   "outputs": [
    {
     "name": "stdout",
     "output_type": "stream",
     "text": [
      "TATASTEEL\n",
      "EQ\n",
      "27-May-2019\n",
      "484.15\n",
      "484.5\n",
      "514.3\n",
      "483.55\n",
      "512.25\n",
      "512.55\n",
      "505.45\n",
      "18207705.0\n",
      "9203120448.6\n",
      "254636.0\n"
     ]
    }
   ],
   "source": [
    "for item in row1:\n",
    "    print(item)"
   ]
  },
  {
   "cell_type": "code",
   "execution_count": null,
   "metadata": {},
   "outputs": [],
   "source": []
  }
 ],
 "metadata": {
  "anaconda-cloud": {},
  "kernelspec": {
   "display_name": "Python 3",
   "language": "python",
   "name": "python3"
  },
  "language_info": {
   "codemirror_mode": {
    "name": "ipython",
    "version": 3
   },
   "file_extension": ".py",
   "mimetype": "text/x-python",
   "name": "python",
   "nbconvert_exporter": "python",
   "pygments_lexer": "ipython3",
   "version": "3.7.6"
  }
 },
 "nbformat": 4,
 "nbformat_minor": 1
}
