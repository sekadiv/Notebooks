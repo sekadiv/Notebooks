{
 "cells": [
  {
   "cell_type": "code",
   "execution_count": 1,
   "metadata": {},
   "outputs": [
    {
     "data": {
      "application/vnd.jupyter.widget-view+json": {
       "model_id": "89fbeac60e954aeaa4e06feec71ac6ab",
       "version_major": 2,
       "version_minor": 0
      },
      "text/plain": [
       "VBox()"
      ]
     },
     "metadata": {},
     "output_type": "display_data"
    },
    {
     "name": "stdout",
     "output_type": "stream",
     "text": [
      "Starting Spark application\n"
     ]
    },
    {
     "data": {
      "text/html": [
       "<table>\n",
       "<tr><th>ID</th><th>YARN Application ID</th><th>Kind</th><th>State</th><th>Spark UI</th><th>Driver log</th><th>Current session?</th></tr><tr><td>0</td><td>application_1589447455338_0001</td><td>pyspark</td><td>idle</td><td><a target=\"_blank\" href=\"http://ip-172-31-87-55.ec2.internal:20888/proxy/application_1589447455338_0001/\">Link</a></td><td><a target=\"_blank\" href=\"http://ip-172-31-80-106.ec2.internal:8042/node/containerlogs/container_1589447455338_0001_01_000001/livy\">Link</a></td><td>✔</td></tr></table>"
      ],
      "text/plain": [
       "<IPython.core.display.HTML object>"
      ]
     },
     "metadata": {},
     "output_type": "display_data"
    },
    {
     "data": {
      "application/vnd.jupyter.widget-view+json": {
       "model_id": "",
       "version_major": 2,
       "version_minor": 0
      },
      "text/plain": [
       "FloatProgress(value=0.0, bar_style='info', description='Progress:', layout=Layout(height='25px', width='50%'),…"
      ]
     },
     "metadata": {},
     "output_type": "display_data"
    },
    {
     "name": "stdout",
     "output_type": "stream",
     "text": [
      "SparkSession available as 'spark'.\n"
     ]
    },
    {
     "data": {
      "application/vnd.jupyter.widget-view+json": {
       "model_id": "",
       "version_major": 2,
       "version_minor": 0
      },
      "text/plain": [
       "FloatProgress(value=0.0, bar_style='info', description='Progress:', layout=Layout(height='25px', width='50%'),…"
      ]
     },
     "metadata": {},
     "output_type": "display_data"
    },
    {
     "name": "stdout",
     "output_type": "stream",
     "text": [
      "<pyspark.sql.session.SparkSession object at 0x7f5e8906eb50>"
     ]
    }
   ],
   "source": [
    "# calling a \"spark\" to create a spark session\n",
    "\n",
    "spark"
   ]
  },
  {
   "cell_type": "code",
   "execution_count": 2,
   "metadata": {},
   "outputs": [
    {
     "data": {
      "application/vnd.jupyter.widget-view+json": {
       "model_id": "2ce0dbc79d994252a8f18873f472a193",
       "version_major": 2,
       "version_minor": 0
      },
      "text/plain": [
       "VBox()"
      ]
     },
     "metadata": {},
     "output_type": "display_data"
    },
    {
     "data": {
      "application/vnd.jupyter.widget-view+json": {
       "model_id": "",
       "version_major": 2,
       "version_minor": 0
      },
      "text/plain": [
       "FloatProgress(value=0.0, bar_style='info', description='Progress:', layout=Layout(height='25px', width='50%'),…"
      ]
     },
     "metadata": {},
     "output_type": "display_data"
    },
    {
     "name": "stdout",
     "output_type": "stream",
     "text": [
      "root\n",
      " |-- click: boolean (nullable = true)\n",
      " |-- C1: integer (nullable = true)\n",
      " |-- banner_pos: integer (nullable = true)\n",
      " |-- site_id: string (nullable = true)\n",
      " |-- site_domain: string (nullable = true)\n",
      " |-- site_category: string (nullable = true)\n",
      " |-- app_id: string (nullable = true)\n",
      " |-- app_domain: string (nullable = true)\n",
      " |-- app_category: string (nullable = true)\n",
      " |-- device_id: string (nullable = true)\n",
      " |-- device_ip: string (nullable = true)\n",
      " |-- device_model: string (nullable = true)\n",
      " |-- device_type: integer (nullable = true)\n",
      " |-- device_conn_type: integer (nullable = true)\n",
      " |-- C14: integer (nullable = true)\n",
      " |-- C15: integer (nullable = true)\n",
      " |-- C16: integer (nullable = true)\n",
      " |-- C17: integer (nullable = true)\n",
      " |-- C18: integer (nullable = true)\n",
      " |-- C19: integer (nullable = true)\n",
      " |-- C20: integer (nullable = true)\n",
      " |-- C21: integer (nullable = true)\n",
      " |-- month: integer (nullable = true)\n",
      " |-- dayofweek: integer (nullable = true)\n",
      " |-- day: integer (nullable = true)\n",
      " |-- hour: integer (nullable = true)"
     ]
    }
   ],
   "source": [
    "# read data from the S3 bucket\n",
    "\n",
    "df = sqlContext.read.csv('s3://.../10M.csv', header=True, inferSchema=True)\n",
    "df.printSchema()"
   ]
  },
  {
   "cell_type": "code",
   "execution_count": 4,
   "metadata": {},
   "outputs": [
    {
     "data": {
      "application/vnd.jupyter.widget-view+json": {
       "model_id": "d9d309c92bb049b5a4f5712c311f706a",
       "version_major": 2,
       "version_minor": 0
      },
      "text/plain": [
       "VBox()"
      ]
     },
     "metadata": {},
     "output_type": "display_data"
    },
    {
     "data": {
      "application/vnd.jupyter.widget-view+json": {
       "model_id": "",
       "version_major": 2,
       "version_minor": 0
      },
      "text/plain": [
       "FloatProgress(value=0.0, bar_style='info', description='Progress:', layout=Layout(height='25px', width='50%'),…"
      ]
     },
     "metadata": {},
     "output_type": "display_data"
    },
    {
     "name": "stdout",
     "output_type": "stream",
     "text": [
      "+-----+-------+\n",
      "|click|  count|\n",
      "+-----+-------+\n",
      "| true|1698056|\n",
      "|false|8301943|\n",
      "+-----+-------+"
     ]
    }
   ],
   "source": [
    "# find the distribution of trues and false in the data set.\n",
    "\n",
    "df.groupby('click').count().show()"
   ]
  },
  {
   "cell_type": "code",
   "execution_count": 14,
   "metadata": {},
   "outputs": [
    {
     "data": {
      "application/vnd.jupyter.widget-view+json": {
       "model_id": "a4ee14d7b2e94bb0be75a9ed5754e9d5",
       "version_major": 2,
       "version_minor": 0
      },
      "text/plain": [
       "VBox()"
      ]
     },
     "metadata": {},
     "output_type": "display_data"
    },
    {
     "data": {
      "application/vnd.jupyter.widget-view+json": {
       "model_id": "",
       "version_major": 2,
       "version_minor": 0
      },
      "text/plain": [
       "FloatProgress(value=0.0, bar_style='info', description='Progress:', layout=Layout(height='25px', width='50%'),…"
      ]
     },
     "metadata": {},
     "output_type": "display_data"
    },
    {
     "name": "stdout",
     "output_type": "stream",
     "text": [
      "+----+-------+\n",
      "|  C1|  count|\n",
      "+----+-------+\n",
      "|1005|9187598|\n",
      "|1008|   1401|\n",
      "|1007|   8761|\n",
      "|1001|   2408|\n",
      "|1012|  27853|\n",
      "|1010| 224006|\n",
      "|1002| 547972|\n",
      "+----+-------+"
     ]
    }
   ],
   "source": [
    "# find the distribution of categories of C1 in the data set\n",
    "\n",
    "df.groupBy('C1').count().show()"
   ]
  },
  {
   "cell_type": "code",
   "execution_count": 17,
   "metadata": {},
   "outputs": [
    {
     "data": {
      "application/vnd.jupyter.widget-view+json": {
       "model_id": "7de5db9282244032bcb7b79d123db300",
       "version_major": 2,
       "version_minor": 0
      },
      "text/plain": [
       "VBox()"
      ]
     },
     "metadata": {},
     "output_type": "display_data"
    },
    {
     "data": {
      "application/vnd.jupyter.widget-view+json": {
       "model_id": "",
       "version_major": 2,
       "version_minor": 0
      },
      "text/plain": [
       "FloatProgress(value=0.0, bar_style='info', description='Progress:', layout=Layout(height='25px', width='50%'),…"
      ]
     },
     "metadata": {},
     "output_type": "display_data"
    }
   ],
   "source": [
    "# change the label column from ture and false to 1 and 0.\n",
    "\n",
    "from pyspark.sql.types import IntegerType\n",
    "\n",
    "df = df.withColumn(\"y\", df[\"click\"].cast(IntegerType()))"
   ]
  },
  {
   "cell_type": "code",
   "execution_count": 20,
   "metadata": {},
   "outputs": [
    {
     "data": {
      "application/vnd.jupyter.widget-view+json": {
       "model_id": "fa176fefb99e40aeb3e4f5455cc178ce",
       "version_major": 2,
       "version_minor": 0
      },
      "text/plain": [
       "VBox()"
      ]
     },
     "metadata": {},
     "output_type": "display_data"
    },
    {
     "data": {
      "application/vnd.jupyter.widget-view+json": {
       "model_id": "",
       "version_major": 2,
       "version_minor": 0
      },
      "text/plain": [
       "FloatProgress(value=0.0, bar_style='info', description='Progress:', layout=Layout(height='25px', width='50%'),…"
      ]
     },
     "metadata": {},
     "output_type": "display_data"
    },
    {
     "name": "stdout",
     "output_type": "stream",
     "text": [
      "+----+-------------------+\n",
      "|  C1|             avg(y)|\n",
      "+----+-------------------+\n",
      "|1005|0.16934720043258314|\n",
      "|1008|0.13561741613133477|\n",
      "|1007|0.03983563520146102|\n",
      "|1001|0.03322259136212625|\n",
      "|1012|0.17157936308476646|\n",
      "|1010|0.09612242529217968|\n",
      "|1002|0.21028811691108304|\n",
      "+----+-------------------+"
     ]
    }
   ],
   "source": [
    "# Find the percentage of 'true' labels present in each category of C1.\n",
    "\n",
    "df.groupby('C1').agg({'y': 'mean'}).show()"
   ]
  },
  {
   "cell_type": "code",
   "execution_count": 21,
   "metadata": {},
   "outputs": [
    {
     "data": {
      "application/vnd.jupyter.widget-view+json": {
       "model_id": "0db37b1e7321491b88d6274fcb823cea",
       "version_major": 2,
       "version_minor": 0
      },
      "text/plain": [
       "VBox()"
      ]
     },
     "metadata": {},
     "output_type": "display_data"
    },
    {
     "data": {
      "application/vnd.jupyter.widget-view+json": {
       "model_id": "",
       "version_major": 2,
       "version_minor": 0
      },
      "text/plain": [
       "FloatProgress(value=0.0, bar_style='info', description='Progress:', layout=Layout(height='25px', width='50%'),…"
      ]
     },
     "metadata": {},
     "output_type": "display_data"
    },
    {
     "name": "stdout",
     "output_type": "stream",
     "text": [
      "+----------+-------------------+\n",
      "|banner_pos|             avg(y)|\n",
      "+----------+-------------------+\n",
      "|         1|0.18350657967091222|\n",
      "|         3|              0.196|\n",
      "|         4|0.18425196850393702|\n",
      "|         5| 0.1357142857142857|\n",
      "|         2|0.12418300653594772|\n",
      "|         7| 0.3234772875664583|\n",
      "|         0| 0.1643034863530087|\n",
      "+----------+-------------------+"
     ]
    }
   ],
   "source": [
    "#same analysis as earlier on banner possition column\n",
    "\n",
    "df.groupby('banner_pos').agg({'y': 'mean'}).show()"
   ]
  },
  {
   "cell_type": "code",
   "execution_count": 22,
   "metadata": {},
   "outputs": [
    {
     "data": {
      "application/vnd.jupyter.widget-view+json": {
       "model_id": "a76a8dd2df4041c798c49c07c96fc142",
       "version_major": 2,
       "version_minor": 0
      },
      "text/plain": [
       "VBox()"
      ]
     },
     "metadata": {},
     "output_type": "display_data"
    },
    {
     "data": {
      "application/vnd.jupyter.widget-view+json": {
       "model_id": "",
       "version_major": 2,
       "version_minor": 0
      },
      "text/plain": [
       "FloatProgress(value=0.0, bar_style='info', description='Progress:', layout=Layout(height='25px', width='50%'),…"
      ]
     },
     "metadata": {},
     "output_type": "display_data"
    },
    {
     "name": "stdout",
     "output_type": "stream",
     "text": [
      "+-----------+-------------+--------+-----+\n",
      "|site_domain|site_category| site_id|count|\n",
      "+-----------+-------------+--------+-----+\n",
      "|   427daef9|     72722551|f1002718|  457|\n",
      "|   e25be161|     50e219e0|c7538b68|   34|\n",
      "|   96f1432c|     3e814130|41fb5282|   30|\n",
      "|   589c925d|     50e219e0|ec6898f1|  408|\n",
      "|   c64eedbf|     f028772b|baad47dc|   51|\n",
      "|   f9b15896|     50e219e0|cf201836|    1|\n",
      "|   c4e18dd6|     50e219e0|089cd95b|  161|\n",
      "|   08facbad|     50e219e0|61cb2df5|   29|\n",
      "|   005b495a|     50e219e0|7480e371|   14|\n",
      "|   d0cf3b22|     50e219e0|e918ce66|   11|\n",
      "|   8f170f4a|     50e219e0|9fe5a9e2|  167|\n",
      "|   c4e18dd6|     50e219e0|2dc42bde|   76|\n",
      "|   08facbad|     50e219e0|45352db9|    9|\n",
      "|   c4e18dd6|     50e219e0|2e8272a8|    2|\n",
      "|   c4e18dd6|     50e219e0|94bb55de|  449|\n",
      "|   21987087|     3e814130|9b85fa4e|    7|\n",
      "|   c4e18dd6|     50e219e0|c2ee3944|    2|\n",
      "|   95122fca|     50e219e0|63bd7850|  110|\n",
      "|   caeb852a|     50e219e0|ffcb6b9a|  325|\n",
      "|   3f9a5a46|     50e219e0|79269cff|   27|\n",
      "+-----------+-------------+--------+-----+\n",
      "only showing top 20 rows"
     ]
    }
   ],
   "source": [
    "# Explore the differnet combinations by combining multiple fetures and display the number of true classes in each.  \n",
    "\n",
    "df.groupby('site_domain', 'site_category', 'site_id').count().show()"
   ]
  },
  {
   "cell_type": "code",
   "execution_count": null,
   "metadata": {},
   "outputs": [],
   "source": []
  }
 ],
 "metadata": {
  "kernelspec": {
   "display_name": "PySpark",
   "language": "",
   "name": "pysparkkernel"
  },
  "language_info": {
   "codemirror_mode": {
    "name": "python",
    "version": 3
   },
   "mimetype": "text/x-python",
   "name": "pyspark",
   "pygments_lexer": "python3"
  }
 },
 "nbformat": 4,
 "nbformat_minor": 4
}
