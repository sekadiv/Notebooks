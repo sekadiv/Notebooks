{
 "cells": [
  {
   "cell_type": "code",
   "execution_count": 1,
   "metadata": {},
   "outputs": [],
   "source": [
    "import pyspark\n",
    "from pyspark import SparkContext\n",
    "from pyspark.sql import SQLContext\n",
    "\n",
    "\n",
    "sc = SparkContext('local', 'Spark SQL1') \n",
    "sqlc = SQLContext(sc)"
   ]
  },
  {
   "cell_type": "code",
   "execution_count": 2,
   "metadata": {},
   "outputs": [],
   "source": [
    "app = sqlc.read.csv('application_record.csv', header=True, inferSchema=True)"
   ]
  },
  {
   "cell_type": "code",
   "execution_count": 3,
   "metadata": {},
   "outputs": [
    {
     "name": "stdout",
     "output_type": "stream",
     "text": [
      "root\n",
      " |-- ID: integer (nullable = true)\n",
      " |-- CODE_GENDER: string (nullable = true)\n",
      " |-- FLAG_OWN_CAR: string (nullable = true)\n",
      " |-- FLAG_OWN_REALTY: string (nullable = true)\n",
      " |-- CNT_CHILDREN: integer (nullable = true)\n",
      " |-- AMT_INCOME_TOTAL: double (nullable = true)\n",
      " |-- NAME_INCOME_TYPE: string (nullable = true)\n",
      " |-- NAME_EDUCATION_TYPE: string (nullable = true)\n",
      " |-- NAME_FAMILY_STATUS: string (nullable = true)\n",
      " |-- NAME_HOUSING_TYPE: string (nullable = true)\n",
      " |-- DAYS_BIRTH: integer (nullable = true)\n",
      " |-- DAYS_EMPLOYED: integer (nullable = true)\n",
      " |-- FLAG_MOBIL: integer (nullable = true)\n",
      " |-- FLAG_WORK_PHONE: integer (nullable = true)\n",
      " |-- FLAG_PHONE: integer (nullable = true)\n",
      " |-- FLAG_EMAIL: integer (nullable = true)\n",
      " |-- OCCUPATION_TYPE: string (nullable = true)\n",
      " |-- CNT_FAM_MEMBERS: double (nullable = true)\n",
      "\n"
     ]
    }
   ],
   "source": [
    "##getting the schema of the Application data\n",
    "app.printSchema()"
   ]
  },
  {
   "cell_type": "code",
   "execution_count": 4,
   "metadata": {},
   "outputs": [
    {
     "data": {
      "text/html": [
       "<div>\n",
       "<style scoped>\n",
       "    .dataframe tbody tr th:only-of-type {\n",
       "        vertical-align: middle;\n",
       "    }\n",
       "\n",
       "    .dataframe tbody tr th {\n",
       "        vertical-align: top;\n",
       "    }\n",
       "\n",
       "    .dataframe thead th {\n",
       "        text-align: right;\n",
       "    }\n",
       "</style>\n",
       "<table border=\"1\" class=\"dataframe\">\n",
       "  <thead>\n",
       "    <tr style=\"text-align: right;\">\n",
       "      <th></th>\n",
       "      <th>ID</th>\n",
       "      <th>CODE_GENDER</th>\n",
       "      <th>FLAG_OWN_CAR</th>\n",
       "      <th>FLAG_OWN_REALTY</th>\n",
       "      <th>CNT_CHILDREN</th>\n",
       "      <th>AMT_INCOME_TOTAL</th>\n",
       "      <th>NAME_INCOME_TYPE</th>\n",
       "      <th>NAME_EDUCATION_TYPE</th>\n",
       "      <th>NAME_FAMILY_STATUS</th>\n",
       "      <th>NAME_HOUSING_TYPE</th>\n",
       "      <th>DAYS_BIRTH</th>\n",
       "      <th>DAYS_EMPLOYED</th>\n",
       "      <th>FLAG_MOBIL</th>\n",
       "      <th>FLAG_WORK_PHONE</th>\n",
       "      <th>FLAG_PHONE</th>\n",
       "      <th>FLAG_EMAIL</th>\n",
       "      <th>OCCUPATION_TYPE</th>\n",
       "      <th>CNT_FAM_MEMBERS</th>\n",
       "    </tr>\n",
       "  </thead>\n",
       "  <tbody>\n",
       "    <tr>\n",
       "      <th>0</th>\n",
       "      <td>5008804</td>\n",
       "      <td>M</td>\n",
       "      <td>Y</td>\n",
       "      <td>Y</td>\n",
       "      <td>0</td>\n",
       "      <td>427500.0</td>\n",
       "      <td>Working</td>\n",
       "      <td>Higher education</td>\n",
       "      <td>Civil marriage</td>\n",
       "      <td>Rented apartment</td>\n",
       "      <td>-12005</td>\n",
       "      <td>-4542</td>\n",
       "      <td>1</td>\n",
       "      <td>1</td>\n",
       "      <td>0</td>\n",
       "      <td>0</td>\n",
       "      <td>None</td>\n",
       "      <td>2.0</td>\n",
       "    </tr>\n",
       "    <tr>\n",
       "      <th>1</th>\n",
       "      <td>5008805</td>\n",
       "      <td>M</td>\n",
       "      <td>Y</td>\n",
       "      <td>Y</td>\n",
       "      <td>0</td>\n",
       "      <td>427500.0</td>\n",
       "      <td>Working</td>\n",
       "      <td>Higher education</td>\n",
       "      <td>Civil marriage</td>\n",
       "      <td>Rented apartment</td>\n",
       "      <td>-12005</td>\n",
       "      <td>-4542</td>\n",
       "      <td>1</td>\n",
       "      <td>1</td>\n",
       "      <td>0</td>\n",
       "      <td>0</td>\n",
       "      <td>None</td>\n",
       "      <td>2.0</td>\n",
       "    </tr>\n",
       "    <tr>\n",
       "      <th>2</th>\n",
       "      <td>5008806</td>\n",
       "      <td>M</td>\n",
       "      <td>Y</td>\n",
       "      <td>Y</td>\n",
       "      <td>0</td>\n",
       "      <td>112500.0</td>\n",
       "      <td>Working</td>\n",
       "      <td>Secondary / secondary special</td>\n",
       "      <td>Married</td>\n",
       "      <td>House / apartment</td>\n",
       "      <td>-21474</td>\n",
       "      <td>-1134</td>\n",
       "      <td>1</td>\n",
       "      <td>0</td>\n",
       "      <td>0</td>\n",
       "      <td>0</td>\n",
       "      <td>Security staff</td>\n",
       "      <td>2.0</td>\n",
       "    </tr>\n",
       "  </tbody>\n",
       "</table>\n",
       "</div>"
      ],
      "text/plain": [
       "        ID CODE_GENDER FLAG_OWN_CAR FLAG_OWN_REALTY  CNT_CHILDREN  \\\n",
       "0  5008804           M            Y               Y             0   \n",
       "1  5008805           M            Y               Y             0   \n",
       "2  5008806           M            Y               Y             0   \n",
       "\n",
       "   AMT_INCOME_TOTAL NAME_INCOME_TYPE            NAME_EDUCATION_TYPE  \\\n",
       "0          427500.0          Working               Higher education   \n",
       "1          427500.0          Working               Higher education   \n",
       "2          112500.0          Working  Secondary / secondary special   \n",
       "\n",
       "  NAME_FAMILY_STATUS  NAME_HOUSING_TYPE  DAYS_BIRTH  DAYS_EMPLOYED  \\\n",
       "0     Civil marriage   Rented apartment      -12005          -4542   \n",
       "1     Civil marriage   Rented apartment      -12005          -4542   \n",
       "2            Married  House / apartment      -21474          -1134   \n",
       "\n",
       "   FLAG_MOBIL  FLAG_WORK_PHONE  FLAG_PHONE  FLAG_EMAIL OCCUPATION_TYPE  \\\n",
       "0           1                1           0           0            None   \n",
       "1           1                1           0           0            None   \n",
       "2           1                0           0           0  Security staff   \n",
       "\n",
       "   CNT_FAM_MEMBERS  \n",
       "0              2.0  \n",
       "1              2.0  \n",
       "2              2.0  "
      ]
     },
     "execution_count": 4,
     "metadata": {},
     "output_type": "execute_result"
    }
   ],
   "source": [
    "app.toPandas().head(3)"
   ]
  },
  {
   "cell_type": "code",
   "execution_count": 5,
   "metadata": {},
   "outputs": [
    {
     "data": {
      "text/plain": [
       "['ID',\n",
       " 'CODE_GENDER',\n",
       " 'FLAG_OWN_CAR',\n",
       " 'FLAG_OWN_REALTY',\n",
       " 'CNT_CHILDREN',\n",
       " 'AMT_INCOME_TOTAL',\n",
       " 'NAME_INCOME_TYPE',\n",
       " 'NAME_EDUCATION_TYPE',\n",
       " 'NAME_FAMILY_STATUS',\n",
       " 'NAME_HOUSING_TYPE',\n",
       " 'DAYS_BIRTH',\n",
       " 'DAYS_EMPLOYED',\n",
       " 'FLAG_MOBIL',\n",
       " 'FLAG_WORK_PHONE',\n",
       " 'FLAG_PHONE',\n",
       " 'FLAG_EMAIL',\n",
       " 'OCCUPATION_TYPE',\n",
       " 'CNT_FAM_MEMBERS']"
      ]
     },
     "execution_count": 5,
     "metadata": {},
     "output_type": "execute_result"
    }
   ],
   "source": [
    "##Categorical and Continous Data Identification\n",
    "app.columns"
   ]
  },
  {
   "cell_type": "code",
   "execution_count": 6,
   "metadata": {},
   "outputs": [],
   "source": [
    "##Categorical 'CODE_GENDER','FLAG_OWN_CAR','FLAG_OWN_REALTY',\n",
    "#'NAME_INCOME_TYPE','NAME_EDUCATION_TYPE','NAME_FAMILY_STATUS','NAME_HOUSING_TYPE',FLAG_MOBIL','FLAG_WORK_PHONE',\n",
    " #'FLAG_PHONE','FLAG_EMAIL','OCCUPATION_TYPE'\n",
    "#Contiounous : 'CNT_CHILDREN','AMT_INCOME_TOTAL','DAYS_BIRTH','DAYS_EMPLOYED'"
   ]
  },
  {
   "cell_type": "code",
   "execution_count": 7,
   "metadata": {},
   "outputs": [],
   "source": [
    "#Renaming the column of App Data\n",
    "new_names = ['id', 'gender','own_car','own_reality','chldno','income','income_type','edu_type','fam_status','house_type',\n",
    "            'days_birth','days_employed','mobile','work','phone','email','occu_type','fam_size']\n",
    "app_df=app.toDF(*new_names)"
   ]
  },
  {
   "cell_type": "code",
   "execution_count": 8,
   "metadata": {},
   "outputs": [
    {
     "data": {
      "text/plain": [
       "['id',\n",
       " 'gender',\n",
       " 'own_car',\n",
       " 'own_reality',\n",
       " 'chldno',\n",
       " 'income',\n",
       " 'income_type',\n",
       " 'edu_type',\n",
       " 'fam_status',\n",
       " 'house_type',\n",
       " 'days_birth',\n",
       " 'days_employed',\n",
       " 'mobile',\n",
       " 'work',\n",
       " 'phone',\n",
       " 'email',\n",
       " 'occu_type',\n",
       " 'fam_size']"
      ]
     },
     "execution_count": 8,
     "metadata": {},
     "output_type": "execute_result"
    }
   ],
   "source": [
    "app_df.columns"
   ]
  },
  {
   "cell_type": "code",
   "execution_count": 16,
   "metadata": {},
   "outputs": [
    {
     "data": {
      "text/html": [
       "<div>\n",
       "<style scoped>\n",
       "    .dataframe tbody tr th:only-of-type {\n",
       "        vertical-align: middle;\n",
       "    }\n",
       "\n",
       "    .dataframe tbody tr th {\n",
       "        vertical-align: top;\n",
       "    }\n",
       "\n",
       "    .dataframe thead th {\n",
       "        text-align: right;\n",
       "    }\n",
       "</style>\n",
       "<table border=\"1\" class=\"dataframe\">\n",
       "  <thead>\n",
       "    <tr style=\"text-align: right;\">\n",
       "      <th></th>\n",
       "      <th>id</th>\n",
       "      <th>gender</th>\n",
       "      <th>own_car</th>\n",
       "      <th>own_reality</th>\n",
       "      <th>chldno</th>\n",
       "      <th>income</th>\n",
       "      <th>income_type</th>\n",
       "      <th>edu_type</th>\n",
       "      <th>fam_status</th>\n",
       "      <th>house_type</th>\n",
       "      <th>days_birth</th>\n",
       "      <th>days_employed</th>\n",
       "      <th>mobile</th>\n",
       "      <th>work</th>\n",
       "      <th>phone</th>\n",
       "      <th>email</th>\n",
       "      <th>occu_type</th>\n",
       "      <th>fam_size</th>\n",
       "    </tr>\n",
       "  </thead>\n",
       "  <tbody>\n",
       "    <tr>\n",
       "      <th>0</th>\n",
       "      <td>5008804</td>\n",
       "      <td>M</td>\n",
       "      <td>Y</td>\n",
       "      <td>Y</td>\n",
       "      <td>0</td>\n",
       "      <td>427500.0</td>\n",
       "      <td>Working</td>\n",
       "      <td>Higher education</td>\n",
       "      <td>Civil marriage</td>\n",
       "      <td>Rented apartment</td>\n",
       "      <td>-12005</td>\n",
       "      <td>-4542</td>\n",
       "      <td>1</td>\n",
       "      <td>1</td>\n",
       "      <td>0</td>\n",
       "      <td>0</td>\n",
       "      <td>None</td>\n",
       "      <td>2.0</td>\n",
       "    </tr>\n",
       "    <tr>\n",
       "      <th>1</th>\n",
       "      <td>5008805</td>\n",
       "      <td>M</td>\n",
       "      <td>Y</td>\n",
       "      <td>Y</td>\n",
       "      <td>0</td>\n",
       "      <td>427500.0</td>\n",
       "      <td>Working</td>\n",
       "      <td>Higher education</td>\n",
       "      <td>Civil marriage</td>\n",
       "      <td>Rented apartment</td>\n",
       "      <td>-12005</td>\n",
       "      <td>-4542</td>\n",
       "      <td>1</td>\n",
       "      <td>1</td>\n",
       "      <td>0</td>\n",
       "      <td>0</td>\n",
       "      <td>None</td>\n",
       "      <td>2.0</td>\n",
       "    </tr>\n",
       "  </tbody>\n",
       "</table>\n",
       "</div>"
      ],
      "text/plain": [
       "        id gender own_car own_reality  chldno    income income_type  \\\n",
       "0  5008804      M       Y           Y       0  427500.0     Working   \n",
       "1  5008805      M       Y           Y       0  427500.0     Working   \n",
       "\n",
       "           edu_type      fam_status        house_type  days_birth  \\\n",
       "0  Higher education  Civil marriage  Rented apartment      -12005   \n",
       "1  Higher education  Civil marriage  Rented apartment      -12005   \n",
       "\n",
       "   days_employed  mobile  work  phone  email occu_type  fam_size  \n",
       "0          -4542       1     1      0      0      None       2.0  \n",
       "1          -4542       1     1      0      0      None       2.0  "
      ]
     },
     "execution_count": 16,
     "metadata": {},
     "output_type": "execute_result"
    }
   ],
   "source": [
    "app_df.toPandas().head(2)"
   ]
  },
  {
   "cell_type": "code",
   "execution_count": 17,
   "metadata": {},
   "outputs": [
    {
     "name": "stdout",
     "output_type": "stream",
     "text": [
      "438557 18\n"
     ]
    }
   ],
   "source": [
    "print(app_df.count(),len(app_df.columns))"
   ]
  },
  {
   "cell_type": "code",
   "execution_count": 18,
   "metadata": {},
   "outputs": [],
   "source": [
    "#total 438557 records"
   ]
  },
  {
   "cell_type": "code",
   "execution_count": 19,
   "metadata": {},
   "outputs": [
    {
     "data": {
      "text/html": [
       "<div>\n",
       "<style scoped>\n",
       "    .dataframe tbody tr th:only-of-type {\n",
       "        vertical-align: middle;\n",
       "    }\n",
       "\n",
       "    .dataframe tbody tr th {\n",
       "        vertical-align: top;\n",
       "    }\n",
       "\n",
       "    .dataframe thead th {\n",
       "        text-align: right;\n",
       "    }\n",
       "</style>\n",
       "<table border=\"1\" class=\"dataframe\">\n",
       "  <thead>\n",
       "    <tr style=\"text-align: right;\">\n",
       "      <th></th>\n",
       "      <th>0</th>\n",
       "    </tr>\n",
       "  </thead>\n",
       "  <tbody>\n",
       "    <tr>\n",
       "      <th>id</th>\n",
       "      <td>0</td>\n",
       "    </tr>\n",
       "    <tr>\n",
       "      <th>gender</th>\n",
       "      <td>0</td>\n",
       "    </tr>\n",
       "    <tr>\n",
       "      <th>own_car</th>\n",
       "      <td>0</td>\n",
       "    </tr>\n",
       "    <tr>\n",
       "      <th>own_reality</th>\n",
       "      <td>0</td>\n",
       "    </tr>\n",
       "    <tr>\n",
       "      <th>chldno</th>\n",
       "      <td>0</td>\n",
       "    </tr>\n",
       "    <tr>\n",
       "      <th>income</th>\n",
       "      <td>0</td>\n",
       "    </tr>\n",
       "    <tr>\n",
       "      <th>income_type</th>\n",
       "      <td>0</td>\n",
       "    </tr>\n",
       "    <tr>\n",
       "      <th>edu_type</th>\n",
       "      <td>0</td>\n",
       "    </tr>\n",
       "    <tr>\n",
       "      <th>fam_status</th>\n",
       "      <td>0</td>\n",
       "    </tr>\n",
       "    <tr>\n",
       "      <th>house_type</th>\n",
       "      <td>0</td>\n",
       "    </tr>\n",
       "    <tr>\n",
       "      <th>days_birth</th>\n",
       "      <td>0</td>\n",
       "    </tr>\n",
       "    <tr>\n",
       "      <th>days_employed</th>\n",
       "      <td>0</td>\n",
       "    </tr>\n",
       "    <tr>\n",
       "      <th>mobile</th>\n",
       "      <td>0</td>\n",
       "    </tr>\n",
       "    <tr>\n",
       "      <th>work</th>\n",
       "      <td>0</td>\n",
       "    </tr>\n",
       "    <tr>\n",
       "      <th>phone</th>\n",
       "      <td>0</td>\n",
       "    </tr>\n",
       "    <tr>\n",
       "      <th>email</th>\n",
       "      <td>0</td>\n",
       "    </tr>\n",
       "    <tr>\n",
       "      <th>occu_type</th>\n",
       "      <td>134203</td>\n",
       "    </tr>\n",
       "    <tr>\n",
       "      <th>fam_size</th>\n",
       "      <td>0</td>\n",
       "    </tr>\n",
       "  </tbody>\n",
       "</table>\n",
       "</div>"
      ],
      "text/plain": [
       "                    0\n",
       "id                  0\n",
       "gender              0\n",
       "own_car             0\n",
       "own_reality         0\n",
       "chldno              0\n",
       "income              0\n",
       "income_type         0\n",
       "edu_type            0\n",
       "fam_status          0\n",
       "house_type          0\n",
       "days_birth          0\n",
       "days_employed       0\n",
       "mobile              0\n",
       "work                0\n",
       "phone               0\n",
       "email               0\n",
       "occu_type      134203\n",
       "fam_size            0"
      ]
     },
     "execution_count": 19,
     "metadata": {},
     "output_type": "execute_result"
    }
   ],
   "source": [
    "##Missing values in App data\n",
    "##Checking missing values in merged dataframe\n",
    "from pyspark.sql.functions import isnan, when, count, col\n",
    "\n",
    "app_df.select([count(when(isnan(c) | col(c).isNull(), c)).alias(c) for c in app_df.columns]).toPandas().transpose()"
   ]
  },
  {
   "cell_type": "code",
   "execution_count": 20,
   "metadata": {},
   "outputs": [
    {
     "data": {
      "text/html": [
       "<div>\n",
       "<style scoped>\n",
       "    .dataframe tbody tr th:only-of-type {\n",
       "        vertical-align: middle;\n",
       "    }\n",
       "\n",
       "    .dataframe tbody tr th {\n",
       "        vertical-align: top;\n",
       "    }\n",
       "\n",
       "    .dataframe thead th {\n",
       "        text-align: right;\n",
       "    }\n",
       "</style>\n",
       "<table border=\"1\" class=\"dataframe\">\n",
       "  <thead>\n",
       "    <tr style=\"text-align: right;\">\n",
       "      <th></th>\n",
       "      <th>id</th>\n",
       "      <th>gender</th>\n",
       "      <th>own_car</th>\n",
       "      <th>own_reality</th>\n",
       "      <th>chldno</th>\n",
       "      <th>income</th>\n",
       "      <th>income_type</th>\n",
       "      <th>edu_type</th>\n",
       "      <th>fam_status</th>\n",
       "      <th>house_type</th>\n",
       "      <th>days_birth</th>\n",
       "      <th>days_employed</th>\n",
       "      <th>mobile</th>\n",
       "      <th>work</th>\n",
       "      <th>phone</th>\n",
       "      <th>email</th>\n",
       "      <th>occu_type</th>\n",
       "      <th>fam_size</th>\n",
       "    </tr>\n",
       "  </thead>\n",
       "  <tbody>\n",
       "    <tr>\n",
       "      <th>0</th>\n",
       "      <td>5008804</td>\n",
       "      <td>M</td>\n",
       "      <td>Y</td>\n",
       "      <td>Y</td>\n",
       "      <td>0</td>\n",
       "      <td>427500.0</td>\n",
       "      <td>Working</td>\n",
       "      <td>Higher education</td>\n",
       "      <td>Civil marriage</td>\n",
       "      <td>Rented apartment</td>\n",
       "      <td>-12005</td>\n",
       "      <td>-4542</td>\n",
       "      <td>1</td>\n",
       "      <td>1</td>\n",
       "      <td>0</td>\n",
       "      <td>0</td>\n",
       "      <td>None</td>\n",
       "      <td>2.0</td>\n",
       "    </tr>\n",
       "    <tr>\n",
       "      <th>1</th>\n",
       "      <td>5008805</td>\n",
       "      <td>M</td>\n",
       "      <td>Y</td>\n",
       "      <td>Y</td>\n",
       "      <td>0</td>\n",
       "      <td>427500.0</td>\n",
       "      <td>Working</td>\n",
       "      <td>Higher education</td>\n",
       "      <td>Civil marriage</td>\n",
       "      <td>Rented apartment</td>\n",
       "      <td>-12005</td>\n",
       "      <td>-4542</td>\n",
       "      <td>1</td>\n",
       "      <td>1</td>\n",
       "      <td>0</td>\n",
       "      <td>0</td>\n",
       "      <td>None</td>\n",
       "      <td>2.0</td>\n",
       "    </tr>\n",
       "    <tr>\n",
       "      <th>2</th>\n",
       "      <td>5008812</td>\n",
       "      <td>F</td>\n",
       "      <td>N</td>\n",
       "      <td>Y</td>\n",
       "      <td>0</td>\n",
       "      <td>283500.0</td>\n",
       "      <td>Pensioner</td>\n",
       "      <td>Higher education</td>\n",
       "      <td>Separated</td>\n",
       "      <td>House / apartment</td>\n",
       "      <td>-22464</td>\n",
       "      <td>365243</td>\n",
       "      <td>1</td>\n",
       "      <td>0</td>\n",
       "      <td>0</td>\n",
       "      <td>0</td>\n",
       "      <td>None</td>\n",
       "      <td>1.0</td>\n",
       "    </tr>\n",
       "    <tr>\n",
       "      <th>3</th>\n",
       "      <td>5008813</td>\n",
       "      <td>F</td>\n",
       "      <td>N</td>\n",
       "      <td>Y</td>\n",
       "      <td>0</td>\n",
       "      <td>283500.0</td>\n",
       "      <td>Pensioner</td>\n",
       "      <td>Higher education</td>\n",
       "      <td>Separated</td>\n",
       "      <td>House / apartment</td>\n",
       "      <td>-22464</td>\n",
       "      <td>365243</td>\n",
       "      <td>1</td>\n",
       "      <td>0</td>\n",
       "      <td>0</td>\n",
       "      <td>0</td>\n",
       "      <td>None</td>\n",
       "      <td>1.0</td>\n",
       "    </tr>\n",
       "    <tr>\n",
       "      <th>4</th>\n",
       "      <td>5008814</td>\n",
       "      <td>F</td>\n",
       "      <td>N</td>\n",
       "      <td>Y</td>\n",
       "      <td>0</td>\n",
       "      <td>283500.0</td>\n",
       "      <td>Pensioner</td>\n",
       "      <td>Higher education</td>\n",
       "      <td>Separated</td>\n",
       "      <td>House / apartment</td>\n",
       "      <td>-22464</td>\n",
       "      <td>365243</td>\n",
       "      <td>1</td>\n",
       "      <td>0</td>\n",
       "      <td>0</td>\n",
       "      <td>0</td>\n",
       "      <td>None</td>\n",
       "      <td>1.0</td>\n",
       "    </tr>\n",
       "    <tr>\n",
       "      <th>5</th>\n",
       "      <td>5008834</td>\n",
       "      <td>F</td>\n",
       "      <td>N</td>\n",
       "      <td>Y</td>\n",
       "      <td>1</td>\n",
       "      <td>112500.0</td>\n",
       "      <td>Working</td>\n",
       "      <td>Secondary / secondary special</td>\n",
       "      <td>Single / not married</td>\n",
       "      <td>House / apartment</td>\n",
       "      <td>-10968</td>\n",
       "      <td>-1620</td>\n",
       "      <td>1</td>\n",
       "      <td>0</td>\n",
       "      <td>0</td>\n",
       "      <td>0</td>\n",
       "      <td>None</td>\n",
       "      <td>2.0</td>\n",
       "    </tr>\n",
       "  </tbody>\n",
       "</table>\n",
       "</div>"
      ],
      "text/plain": [
       "        id gender own_car own_reality  chldno    income income_type  \\\n",
       "0  5008804      M       Y           Y       0  427500.0     Working   \n",
       "1  5008805      M       Y           Y       0  427500.0     Working   \n",
       "2  5008812      F       N           Y       0  283500.0   Pensioner   \n",
       "3  5008813      F       N           Y       0  283500.0   Pensioner   \n",
       "4  5008814      F       N           Y       0  283500.0   Pensioner   \n",
       "5  5008834      F       N           Y       1  112500.0     Working   \n",
       "\n",
       "                        edu_type            fam_status         house_type  \\\n",
       "0               Higher education        Civil marriage   Rented apartment   \n",
       "1               Higher education        Civil marriage   Rented apartment   \n",
       "2               Higher education             Separated  House / apartment   \n",
       "3               Higher education             Separated  House / apartment   \n",
       "4               Higher education             Separated  House / apartment   \n",
       "5  Secondary / secondary special  Single / not married  House / apartment   \n",
       "\n",
       "   days_birth  days_employed  mobile  work  phone  email occu_type  fam_size  \n",
       "0      -12005          -4542       1     1      0      0      None       2.0  \n",
       "1      -12005          -4542       1     1      0      0      None       2.0  \n",
       "2      -22464         365243       1     0      0      0      None       1.0  \n",
       "3      -22464         365243       1     0      0      0      None       1.0  \n",
       "4      -22464         365243       1     0      0      0      None       1.0  \n",
       "5      -10968          -1620       1     0      0      0      None       2.0  "
      ]
     },
     "execution_count": 20,
     "metadata": {},
     "output_type": "execute_result"
    }
   ],
   "source": [
    "##occupation_type is missing a lot we need to treat them seperately\n",
    "# Registering a table\n",
    "app_df.registerTempTable(\"app_df\")\n",
    "sqlc.sql(\"select * from app_df where occu_type IS NULL\").toPandas().head(6)"
   ]
  },
  {
   "cell_type": "code",
   "execution_count": 21,
   "metadata": {},
   "outputs": [
    {
     "data": {
      "text/html": [
       "<div>\n",
       "<style scoped>\n",
       "    .dataframe tbody tr th:only-of-type {\n",
       "        vertical-align: middle;\n",
       "    }\n",
       "\n",
       "    .dataframe tbody tr th {\n",
       "        vertical-align: top;\n",
       "    }\n",
       "\n",
       "    .dataframe thead th {\n",
       "        text-align: right;\n",
       "    }\n",
       "</style>\n",
       "<table border=\"1\" class=\"dataframe\">\n",
       "  <thead>\n",
       "    <tr style=\"text-align: right;\">\n",
       "      <th></th>\n",
       "      <th>0</th>\n",
       "      <th>1</th>\n",
       "      <th>2</th>\n",
       "      <th>3</th>\n",
       "      <th>4</th>\n",
       "    </tr>\n",
       "  </thead>\n",
       "  <tbody>\n",
       "    <tr>\n",
       "      <th>summary</th>\n",
       "      <td>count</td>\n",
       "      <td>mean</td>\n",
       "      <td>stddev</td>\n",
       "      <td>min</td>\n",
       "      <td>max</td>\n",
       "    </tr>\n",
       "    <tr>\n",
       "      <th>id</th>\n",
       "      <td>438557</td>\n",
       "      <td>6022176.269841776</td>\n",
       "      <td>571637.0232571138</td>\n",
       "      <td>5008804</td>\n",
       "      <td>7999952</td>\n",
       "    </tr>\n",
       "    <tr>\n",
       "      <th>gender</th>\n",
       "      <td>438557</td>\n",
       "      <td>None</td>\n",
       "      <td>None</td>\n",
       "      <td>F</td>\n",
       "      <td>M</td>\n",
       "    </tr>\n",
       "    <tr>\n",
       "      <th>own_car</th>\n",
       "      <td>438557</td>\n",
       "      <td>None</td>\n",
       "      <td>None</td>\n",
       "      <td>N</td>\n",
       "      <td>Y</td>\n",
       "    </tr>\n",
       "    <tr>\n",
       "      <th>own_reality</th>\n",
       "      <td>438557</td>\n",
       "      <td>None</td>\n",
       "      <td>None</td>\n",
       "      <td>N</td>\n",
       "      <td>Y</td>\n",
       "    </tr>\n",
       "    <tr>\n",
       "      <th>chldno</th>\n",
       "      <td>438557</td>\n",
       "      <td>0.42739028222101116</td>\n",
       "      <td>0.7248822135521471</td>\n",
       "      <td>0</td>\n",
       "      <td>19</td>\n",
       "    </tr>\n",
       "    <tr>\n",
       "      <th>income</th>\n",
       "      <td>438557</td>\n",
       "      <td>187524.28600950394</td>\n",
       "      <td>110086.85306622818</td>\n",
       "      <td>26100.0</td>\n",
       "      <td>6750000.0</td>\n",
       "    </tr>\n",
       "    <tr>\n",
       "      <th>income_type</th>\n",
       "      <td>438557</td>\n",
       "      <td>None</td>\n",
       "      <td>None</td>\n",
       "      <td>Commercial associate</td>\n",
       "      <td>Working</td>\n",
       "    </tr>\n",
       "    <tr>\n",
       "      <th>edu_type</th>\n",
       "      <td>438557</td>\n",
       "      <td>None</td>\n",
       "      <td>None</td>\n",
       "      <td>Academic degree</td>\n",
       "      <td>Secondary / secondary special</td>\n",
       "    </tr>\n",
       "    <tr>\n",
       "      <th>fam_status</th>\n",
       "      <td>438557</td>\n",
       "      <td>None</td>\n",
       "      <td>None</td>\n",
       "      <td>Civil marriage</td>\n",
       "      <td>Widow</td>\n",
       "    </tr>\n",
       "    <tr>\n",
       "      <th>house_type</th>\n",
       "      <td>438557</td>\n",
       "      <td>None</td>\n",
       "      <td>None</td>\n",
       "      <td>Co-op apartment</td>\n",
       "      <td>With parents</td>\n",
       "    </tr>\n",
       "    <tr>\n",
       "      <th>days_birth</th>\n",
       "      <td>438557</td>\n",
       "      <td>-15997.904648654565</td>\n",
       "      <td>4185.030006794125</td>\n",
       "      <td>-25201</td>\n",
       "      <td>-7489</td>\n",
       "    </tr>\n",
       "    <tr>\n",
       "      <th>days_employed</th>\n",
       "      <td>438557</td>\n",
       "      <td>60563.67532840657</td>\n",
       "      <td>138767.799646669</td>\n",
       "      <td>-17531</td>\n",
       "      <td>365243</td>\n",
       "    </tr>\n",
       "    <tr>\n",
       "      <th>mobile</th>\n",
       "      <td>438557</td>\n",
       "      <td>1.0</td>\n",
       "      <td>0.0</td>\n",
       "      <td>1</td>\n",
       "      <td>1</td>\n",
       "    </tr>\n",
       "    <tr>\n",
       "      <th>work</th>\n",
       "      <td>438557</td>\n",
       "      <td>0.2061328402009317</td>\n",
       "      <td>0.40452745955009367</td>\n",
       "      <td>0</td>\n",
       "      <td>1</td>\n",
       "    </tr>\n",
       "    <tr>\n",
       "      <th>phone</th>\n",
       "      <td>438557</td>\n",
       "      <td>0.28777103090362255</td>\n",
       "      <td>0.452724344414616</td>\n",
       "      <td>0</td>\n",
       "      <td>1</td>\n",
       "    </tr>\n",
       "    <tr>\n",
       "      <th>email</th>\n",
       "      <td>438557</td>\n",
       "      <td>0.10820714297115312</td>\n",
       "      <td>0.3106422012826669</td>\n",
       "      <td>0</td>\n",
       "      <td>1</td>\n",
       "    </tr>\n",
       "    <tr>\n",
       "      <th>occu_type</th>\n",
       "      <td>304354</td>\n",
       "      <td>None</td>\n",
       "      <td>None</td>\n",
       "      <td>Accountants</td>\n",
       "      <td>Waiters/barmen staff</td>\n",
       "    </tr>\n",
       "    <tr>\n",
       "      <th>fam_size</th>\n",
       "      <td>438557</td>\n",
       "      <td>2.194465029631268</td>\n",
       "      <td>0.897207330056308</td>\n",
       "      <td>1.0</td>\n",
       "      <td>20.0</td>\n",
       "    </tr>\n",
       "  </tbody>\n",
       "</table>\n",
       "</div>"
      ],
      "text/plain": [
       "                    0                    1                    2  \\\n",
       "summary         count                 mean               stddev   \n",
       "id             438557    6022176.269841776    571637.0232571138   \n",
       "gender         438557                 None                 None   \n",
       "own_car        438557                 None                 None   \n",
       "own_reality    438557                 None                 None   \n",
       "chldno         438557  0.42739028222101116   0.7248822135521471   \n",
       "income         438557   187524.28600950394   110086.85306622818   \n",
       "income_type    438557                 None                 None   \n",
       "edu_type       438557                 None                 None   \n",
       "fam_status     438557                 None                 None   \n",
       "house_type     438557                 None                 None   \n",
       "days_birth     438557  -15997.904648654565    4185.030006794125   \n",
       "days_employed  438557    60563.67532840657     138767.799646669   \n",
       "mobile         438557                  1.0                  0.0   \n",
       "work           438557   0.2061328402009317  0.40452745955009367   \n",
       "phone          438557  0.28777103090362255    0.452724344414616   \n",
       "email          438557  0.10820714297115312   0.3106422012826669   \n",
       "occu_type      304354                 None                 None   \n",
       "fam_size       438557    2.194465029631268    0.897207330056308   \n",
       "\n",
       "                                  3                              4  \n",
       "summary                         min                            max  \n",
       "id                          5008804                        7999952  \n",
       "gender                            F                              M  \n",
       "own_car                           N                              Y  \n",
       "own_reality                       N                              Y  \n",
       "chldno                            0                             19  \n",
       "income                      26100.0                      6750000.0  \n",
       "income_type    Commercial associate                        Working  \n",
       "edu_type            Academic degree  Secondary / secondary special  \n",
       "fam_status           Civil marriage                          Widow  \n",
       "house_type          Co-op apartment                   With parents  \n",
       "days_birth                   -25201                          -7489  \n",
       "days_employed                -17531                         365243  \n",
       "mobile                            1                              1  \n",
       "work                              0                              1  \n",
       "phone                             0                              1  \n",
       "email                             0                              1  \n",
       "occu_type               Accountants           Waiters/barmen staff  \n",
       "fam_size                        1.0                           20.0  "
      ]
     },
     "execution_count": 21,
     "metadata": {},
     "output_type": "execute_result"
    }
   ],
   "source": [
    "##Checking the dataframe summary\n",
    "app_df.describe().toPandas().transpose()"
   ]
  },
  {
   "cell_type": "markdown",
   "metadata": {},
   "source": [
    "#### Outliers is in Chldno columns where the max is 19 and Mean 0.4\n",
    "#### Income having outlier mean and Max\n",
    "#### fam_size has some outliers mean is 2 and max is 20\n",
    "#### days_employed and days_birth are in - we have to calculate those in years and make them absolute\n"
   ]
  },
  {
   "cell_type": "code",
   "execution_count": 22,
   "metadata": {},
   "outputs": [
    {
     "data": {
      "text/plain": [
       "438510"
      ]
     },
     "execution_count": 22,
     "metadata": {},
     "output_type": "execute_result"
    }
   ],
   "source": [
    "##Checking duplicate records\n",
    "app_df.select(\"id\").distinct().count()"
   ]
  },
  {
   "cell_type": "code",
   "execution_count": 23,
   "metadata": {},
   "outputs": [
    {
     "name": "stdout",
     "output_type": "stream",
     "text": [
      "Duplicate records in App data 47\n"
     ]
    }
   ],
   "source": [
    "print(\"Duplicate records in App data\",app_df.count()-app_df.select(\"id\").distinct().count())"
   ]
  },
  {
   "cell_type": "code",
   "execution_count": 24,
   "metadata": {},
   "outputs": [],
   "source": [
    "##Duplicates can be removed\n",
    "app_dis=app_df.dropDuplicates(['id'])"
   ]
  },
  {
   "cell_type": "code",
   "execution_count": 25,
   "metadata": {},
   "outputs": [
    {
     "data": {
      "text/plain": [
       "438510"
      ]
     },
     "execution_count": 25,
     "metadata": {},
     "output_type": "execute_result"
    }
   ],
   "source": [
    "app_dis.count()"
   ]
  },
  {
   "cell_type": "code",
   "execution_count": 26,
   "metadata": {},
   "outputs": [],
   "source": [
    "##Transforming Days of Birth and days_employed to years to get more insights\n",
    "def convert_daystoyears(x):\n",
    " years=0\n",
    " if x!=0:\n",
    "  years =abs((int) (x/ 365))\n",
    " return years "
   ]
  },
  {
   "cell_type": "code",
   "execution_count": 27,
   "metadata": {},
   "outputs": [
    {
     "data": {
      "text/plain": [
       "<function __main__.<lambda>(z)>"
      ]
     },
     "execution_count": 27,
     "metadata": {},
     "output_type": "execute_result"
    }
   ],
   "source": [
    "##regitering this as UDF\n",
    "from pyspark.sql.functions import udf\n",
    "from pyspark.sql import Row\n",
    "from pyspark.sql.types import IntegerType\n",
    "calculate_years = udf(lambda z: convert_daystoyears(z), IntegerType())\n",
    "sqlc.udf.register(\"calculate_years\", calculate_years)"
   ]
  },
  {
   "cell_type": "code",
   "execution_count": 28,
   "metadata": {},
   "outputs": [],
   "source": [
    "app_agec = app_dis.withColumn( 'age',calculate_years('days_birth')).withColumn( 'employed_years',calculate_years('days_employed'))"
   ]
  },
  {
   "cell_type": "code",
   "execution_count": 29,
   "metadata": {},
   "outputs": [
    {
     "data": {
      "text/plain": [
       "['id',\n",
       " 'gender',\n",
       " 'own_car',\n",
       " 'own_reality',\n",
       " 'chldno',\n",
       " 'income',\n",
       " 'income_type',\n",
       " 'edu_type',\n",
       " 'fam_status',\n",
       " 'house_type',\n",
       " 'days_birth',\n",
       " 'days_employed',\n",
       " 'mobile',\n",
       " 'work',\n",
       " 'phone',\n",
       " 'email',\n",
       " 'occu_type',\n",
       " 'fam_size',\n",
       " 'age',\n",
       " 'employed_years']"
      ]
     },
     "execution_count": 29,
     "metadata": {},
     "output_type": "execute_result"
    }
   ],
   "source": [
    "app_agec.columns"
   ]
  },
  {
   "cell_type": "code",
   "execution_count": 30,
   "metadata": {},
   "outputs": [
    {
     "data": {
      "text/html": [
       "<div>\n",
       "<style scoped>\n",
       "    .dataframe tbody tr th:only-of-type {\n",
       "        vertical-align: middle;\n",
       "    }\n",
       "\n",
       "    .dataframe tbody tr th {\n",
       "        vertical-align: top;\n",
       "    }\n",
       "\n",
       "    .dataframe thead th {\n",
       "        text-align: right;\n",
       "    }\n",
       "</style>\n",
       "<table border=\"1\" class=\"dataframe\">\n",
       "  <thead>\n",
       "    <tr style=\"text-align: right;\">\n",
       "      <th></th>\n",
       "      <th>id</th>\n",
       "      <th>gender</th>\n",
       "      <th>own_car</th>\n",
       "      <th>own_reality</th>\n",
       "      <th>chldno</th>\n",
       "      <th>income</th>\n",
       "      <th>income_type</th>\n",
       "      <th>edu_type</th>\n",
       "      <th>fam_status</th>\n",
       "      <th>house_type</th>\n",
       "      <th>days_birth</th>\n",
       "      <th>days_employed</th>\n",
       "      <th>mobile</th>\n",
       "      <th>work</th>\n",
       "      <th>phone</th>\n",
       "      <th>email</th>\n",
       "      <th>occu_type</th>\n",
       "      <th>fam_size</th>\n",
       "      <th>age</th>\n",
       "      <th>employed_years</th>\n",
       "    </tr>\n",
       "  </thead>\n",
       "  <tbody>\n",
       "    <tr>\n",
       "      <th>0</th>\n",
       "      <td>5009033</td>\n",
       "      <td>F</td>\n",
       "      <td>N</td>\n",
       "      <td>N</td>\n",
       "      <td>0</td>\n",
       "      <td>255150.0</td>\n",
       "      <td>Pensioner</td>\n",
       "      <td>Incomplete higher</td>\n",
       "      <td>Civil marriage</td>\n",
       "      <td>Rented apartment</td>\n",
       "      <td>-18682</td>\n",
       "      <td>365243</td>\n",
       "      <td>1</td>\n",
       "      <td>0</td>\n",
       "      <td>0</td>\n",
       "      <td>0</td>\n",
       "      <td>None</td>\n",
       "      <td>2.0</td>\n",
       "      <td>51</td>\n",
       "      <td>1000</td>\n",
       "    </tr>\n",
       "    <tr>\n",
       "      <th>1</th>\n",
       "      <td>5009304</td>\n",
       "      <td>F</td>\n",
       "      <td>N</td>\n",
       "      <td>N</td>\n",
       "      <td>0</td>\n",
       "      <td>112500.0</td>\n",
       "      <td>Pensioner</td>\n",
       "      <td>Secondary / secondary special</td>\n",
       "      <td>Widow</td>\n",
       "      <td>House / apartment</td>\n",
       "      <td>-22061</td>\n",
       "      <td>365243</td>\n",
       "      <td>1</td>\n",
       "      <td>0</td>\n",
       "      <td>0</td>\n",
       "      <td>0</td>\n",
       "      <td>None</td>\n",
       "      <td>1.0</td>\n",
       "      <td>60</td>\n",
       "      <td>1000</td>\n",
       "    </tr>\n",
       "    <tr>\n",
       "      <th>2</th>\n",
       "      <td>5009355</td>\n",
       "      <td>F</td>\n",
       "      <td>N</td>\n",
       "      <td>N</td>\n",
       "      <td>0</td>\n",
       "      <td>135000.0</td>\n",
       "      <td>Commercial associate</td>\n",
       "      <td>Secondary / secondary special</td>\n",
       "      <td>Married</td>\n",
       "      <td>House / apartment</td>\n",
       "      <td>-19692</td>\n",
       "      <td>-5273</td>\n",
       "      <td>1</td>\n",
       "      <td>1</td>\n",
       "      <td>1</td>\n",
       "      <td>0</td>\n",
       "      <td>Laborers</td>\n",
       "      <td>2.0</td>\n",
       "      <td>53</td>\n",
       "      <td>14</td>\n",
       "    </tr>\n",
       "  </tbody>\n",
       "</table>\n",
       "</div>"
      ],
      "text/plain": [
       "        id gender own_car own_reality  chldno    income           income_type  \\\n",
       "0  5009033      F       N           N       0  255150.0             Pensioner   \n",
       "1  5009304      F       N           N       0  112500.0             Pensioner   \n",
       "2  5009355      F       N           N       0  135000.0  Commercial associate   \n",
       "\n",
       "                        edu_type      fam_status         house_type  \\\n",
       "0              Incomplete higher  Civil marriage   Rented apartment   \n",
       "1  Secondary / secondary special           Widow  House / apartment   \n",
       "2  Secondary / secondary special         Married  House / apartment   \n",
       "\n",
       "   days_birth  days_employed  mobile  work  phone  email occu_type  fam_size  \\\n",
       "0      -18682         365243       1     0      0      0      None       2.0   \n",
       "1      -22061         365243       1     0      0      0      None       1.0   \n",
       "2      -19692          -5273       1     1      1      0  Laborers       2.0   \n",
       "\n",
       "   age  employed_years  \n",
       "0   51            1000  \n",
       "1   60            1000  \n",
       "2   53              14  "
      ]
     },
     "execution_count": 30,
     "metadata": {},
     "output_type": "execute_result"
    }
   ],
   "source": [
    "app_agec.toPandas().head(3)"
   ]
  },
  {
   "cell_type": "code",
   "execution_count": 31,
   "metadata": {},
   "outputs": [],
   "source": [
    "##Dropping the original column\n",
    "columns_todrop=[\"days_birth\",\"days_employed\"]\n",
    "app_g6 = app_agec.drop(*columns_todrop)"
   ]
  },
  {
   "cell_type": "code",
   "execution_count": 32,
   "metadata": {},
   "outputs": [
    {
     "data": {
      "text/plain": [
       "['id',\n",
       " 'gender',\n",
       " 'own_car',\n",
       " 'own_reality',\n",
       " 'chldno',\n",
       " 'income',\n",
       " 'income_type',\n",
       " 'edu_type',\n",
       " 'fam_status',\n",
       " 'house_type',\n",
       " 'mobile',\n",
       " 'work',\n",
       " 'phone',\n",
       " 'email',\n",
       " 'occu_type',\n",
       " 'fam_size',\n",
       " 'age',\n",
       " 'employed_years']"
      ]
     },
     "execution_count": 32,
     "metadata": {},
     "output_type": "execute_result"
    }
   ],
   "source": [
    "app_g6.columns"
   ]
  },
  {
   "cell_type": "code",
   "execution_count": 33,
   "metadata": {},
   "outputs": [
    {
     "name": "stdout",
     "output_type": "stream",
     "text": [
      "root\n",
      " |-- ID: integer (nullable = true)\n",
      " |-- MONTHS_BALANCE: integer (nullable = true)\n",
      " |-- STATUS: string (nullable = true)\n",
      "\n"
     ]
    }
   ],
   "source": [
    "##Credit Report Data\n",
    "credit=sqlc.read.csv('credit_record.csv',header=True,inferSchema=True)\n",
    "credit.printSchema()"
   ]
  },
  {
   "cell_type": "code",
   "execution_count": 34,
   "metadata": {},
   "outputs": [
    {
     "data": {
      "text/html": [
       "<div>\n",
       "<style scoped>\n",
       "    .dataframe tbody tr th:only-of-type {\n",
       "        vertical-align: middle;\n",
       "    }\n",
       "\n",
       "    .dataframe tbody tr th {\n",
       "        vertical-align: top;\n",
       "    }\n",
       "\n",
       "    .dataframe thead th {\n",
       "        text-align: right;\n",
       "    }\n",
       "</style>\n",
       "<table border=\"1\" class=\"dataframe\">\n",
       "  <thead>\n",
       "    <tr style=\"text-align: right;\">\n",
       "      <th></th>\n",
       "      <th>0</th>\n",
       "      <th>1</th>\n",
       "      <th>2</th>\n",
       "      <th>3</th>\n",
       "      <th>4</th>\n",
       "    </tr>\n",
       "  </thead>\n",
       "  <tbody>\n",
       "    <tr>\n",
       "      <th>summary</th>\n",
       "      <td>count</td>\n",
       "      <td>mean</td>\n",
       "      <td>stddev</td>\n",
       "      <td>min</td>\n",
       "      <td>max</td>\n",
       "    </tr>\n",
       "    <tr>\n",
       "      <th>ID</th>\n",
       "      <td>1048575</td>\n",
       "      <td>5068286.424673486</td>\n",
       "      <td>46150.5785053759</td>\n",
       "      <td>5001711</td>\n",
       "      <td>5150487</td>\n",
       "    </tr>\n",
       "    <tr>\n",
       "      <th>MONTHS_BALANCE</th>\n",
       "      <td>1048575</td>\n",
       "      <td>-19.136998307226474</td>\n",
       "      <td>14.023497688326643</td>\n",
       "      <td>-60</td>\n",
       "      <td>0</td>\n",
       "    </tr>\n",
       "    <tr>\n",
       "      <th>STATUS</th>\n",
       "      <td>1048575</td>\n",
       "      <td>0.05824863961501482</td>\n",
       "      <td>0.3949878642052496</td>\n",
       "      <td>0</td>\n",
       "      <td>X</td>\n",
       "    </tr>\n",
       "  </tbody>\n",
       "</table>\n",
       "</div>"
      ],
      "text/plain": [
       "                      0                    1                   2        3  \\\n",
       "summary           count                 mean              stddev      min   \n",
       "ID              1048575    5068286.424673486    46150.5785053759  5001711   \n",
       "MONTHS_BALANCE  1048575  -19.136998307226474  14.023497688326643      -60   \n",
       "STATUS          1048575  0.05824863961501482  0.3949878642052496        0   \n",
       "\n",
       "                      4  \n",
       "summary             max  \n",
       "ID              5150487  \n",
       "MONTHS_BALANCE        0  \n",
       "STATUS                X  "
      ]
     },
     "execution_count": 34,
     "metadata": {},
     "output_type": "execute_result"
    }
   ],
   "source": [
    "##Summary\n",
    "credit.describe().toPandas().transpose()"
   ]
  },
  {
   "cell_type": "code",
   "execution_count": 35,
   "metadata": {},
   "outputs": [],
   "source": [
    "##Months Balance is in -Ve and has some outliers\n",
    "##Status is the outcome column\n"
   ]
  },
  {
   "cell_type": "code",
   "execution_count": 36,
   "metadata": {},
   "outputs": [],
   "source": [
    "##renaming columns\n",
    "rename_cols=[\"id\",\"mon_bal\",\"label\"]\n",
    "credit_df=credit.toDF(*rename_cols)"
   ]
  },
  {
   "cell_type": "code",
   "execution_count": 37,
   "metadata": {},
   "outputs": [
    {
     "data": {
      "text/plain": [
       "['id', 'mon_bal', 'label']"
      ]
     },
     "execution_count": 37,
     "metadata": {},
     "output_type": "execute_result"
    }
   ],
   "source": [
    "credit_df.columns"
   ]
  },
  {
   "cell_type": "code",
   "execution_count": 38,
   "metadata": {},
   "outputs": [
    {
     "data": {
      "text/plain": [
       "45985"
      ]
     },
     "execution_count": 38,
     "metadata": {},
     "output_type": "execute_result"
    }
   ],
   "source": [
    "##Checking duplicates in Credit\n",
    "credit_df.select(\"id\").distinct().count()"
   ]
  },
  {
   "cell_type": "code",
   "execution_count": 39,
   "metadata": {},
   "outputs": [
    {
     "data": {
      "text/plain": [
       "1048575"
      ]
     },
     "execution_count": 39,
     "metadata": {},
     "output_type": "execute_result"
    }
   ],
   "source": [
    "credit_df.count()"
   ]
  },
  {
   "cell_type": "code",
   "execution_count": 40,
   "metadata": {},
   "outputs": [
    {
     "data": {
      "text/html": [
       "<div>\n",
       "<style scoped>\n",
       "    .dataframe tbody tr th:only-of-type {\n",
       "        vertical-align: middle;\n",
       "    }\n",
       "\n",
       "    .dataframe tbody tr th {\n",
       "        vertical-align: top;\n",
       "    }\n",
       "\n",
       "    .dataframe thead th {\n",
       "        text-align: right;\n",
       "    }\n",
       "</style>\n",
       "<table border=\"1\" class=\"dataframe\">\n",
       "  <thead>\n",
       "    <tr style=\"text-align: right;\">\n",
       "      <th></th>\n",
       "      <th>label</th>\n",
       "      <th>count</th>\n",
       "    </tr>\n",
       "  </thead>\n",
       "  <tbody>\n",
       "    <tr>\n",
       "      <th>0</th>\n",
       "      <td>3</td>\n",
       "      <td>320</td>\n",
       "    </tr>\n",
       "    <tr>\n",
       "      <th>1</th>\n",
       "      <td>0</td>\n",
       "      <td>383120</td>\n",
       "    </tr>\n",
       "    <tr>\n",
       "      <th>2</th>\n",
       "      <td>5</td>\n",
       "      <td>1693</td>\n",
       "    </tr>\n",
       "    <tr>\n",
       "      <th>3</th>\n",
       "      <td>C</td>\n",
       "      <td>442031</td>\n",
       "    </tr>\n",
       "    <tr>\n",
       "      <th>4</th>\n",
       "      <td>X</td>\n",
       "      <td>209230</td>\n",
       "    </tr>\n",
       "    <tr>\n",
       "      <th>5</th>\n",
       "      <td>1</td>\n",
       "      <td>11090</td>\n",
       "    </tr>\n",
       "    <tr>\n",
       "      <th>6</th>\n",
       "      <td>4</td>\n",
       "      <td>223</td>\n",
       "    </tr>\n",
       "    <tr>\n",
       "      <th>7</th>\n",
       "      <td>2</td>\n",
       "      <td>868</td>\n",
       "    </tr>\n",
       "  </tbody>\n",
       "</table>\n",
       "</div>"
      ],
      "text/plain": [
       "  label   count\n",
       "0     3     320\n",
       "1     0  383120\n",
       "2     5    1693\n",
       "3     C  442031\n",
       "4     X  209230\n",
       "5     1   11090\n",
       "6     4     223\n",
       "7     2     868"
      ]
     },
     "execution_count": 40,
     "metadata": {},
     "output_type": "execute_result"
    }
   ],
   "source": [
    "##too many duplicates due to the months balance\n",
    "credit_df.groupby('label').count().toPandas()"
   ]
  },
  {
   "cell_type": "code",
   "execution_count": 41,
   "metadata": {},
   "outputs": [],
   "source": [
    "##removing duplicates\n",
    "credit_dis=credit_df.dropDuplicates(['id'])"
   ]
  },
  {
   "cell_type": "code",
   "execution_count": 42,
   "metadata": {},
   "outputs": [
    {
     "data": {
      "text/plain": [
       "45985"
      ]
     },
     "execution_count": 42,
     "metadata": {},
     "output_type": "execute_result"
    }
   ],
   "source": [
    "credit_dis.count()"
   ]
  },
  {
   "cell_type": "code",
   "execution_count": 43,
   "metadata": {},
   "outputs": [
    {
     "data": {
      "text/html": [
       "<div>\n",
       "<style scoped>\n",
       "    .dataframe tbody tr th:only-of-type {\n",
       "        vertical-align: middle;\n",
       "    }\n",
       "\n",
       "    .dataframe tbody tr th {\n",
       "        vertical-align: top;\n",
       "    }\n",
       "\n",
       "    .dataframe thead th {\n",
       "        text-align: right;\n",
       "    }\n",
       "</style>\n",
       "<table border=\"1\" class=\"dataframe\">\n",
       "  <thead>\n",
       "    <tr style=\"text-align: right;\">\n",
       "      <th></th>\n",
       "      <th>label</th>\n",
       "      <th>count</th>\n",
       "    </tr>\n",
       "  </thead>\n",
       "  <tbody>\n",
       "    <tr>\n",
       "      <th>0</th>\n",
       "      <td>3</td>\n",
       "      <td>6</td>\n",
       "    </tr>\n",
       "    <tr>\n",
       "      <th>1</th>\n",
       "      <td>0</td>\n",
       "      <td>10547</td>\n",
       "    </tr>\n",
       "    <tr>\n",
       "      <th>2</th>\n",
       "      <td>5</td>\n",
       "      <td>82</td>\n",
       "    </tr>\n",
       "    <tr>\n",
       "      <th>3</th>\n",
       "      <td>C</td>\n",
       "      <td>22707</td>\n",
       "    </tr>\n",
       "    <tr>\n",
       "      <th>4</th>\n",
       "      <td>X</td>\n",
       "      <td>12266</td>\n",
       "    </tr>\n",
       "    <tr>\n",
       "      <th>5</th>\n",
       "      <td>1</td>\n",
       "      <td>353</td>\n",
       "    </tr>\n",
       "    <tr>\n",
       "      <th>6</th>\n",
       "      <td>4</td>\n",
       "      <td>5</td>\n",
       "    </tr>\n",
       "    <tr>\n",
       "      <th>7</th>\n",
       "      <td>2</td>\n",
       "      <td>19</td>\n",
       "    </tr>\n",
       "  </tbody>\n",
       "</table>\n",
       "</div>"
      ],
      "text/plain": [
       "  label  count\n",
       "0     3      6\n",
       "1     0  10547\n",
       "2     5     82\n",
       "3     C  22707\n",
       "4     X  12266\n",
       "5     1    353\n",
       "6     4      5\n",
       "7     2     19"
      ]
     },
     "execution_count": 43,
     "metadata": {},
     "output_type": "execute_result"
    }
   ],
   "source": [
    "credit_dis.groupby('label').count().toPandas()"
   ]
  },
  {
   "cell_type": "code",
   "execution_count": 44,
   "metadata": {},
   "outputs": [],
   "source": [
    "##Changing months balance to absolute value\n",
    "from pyspark.sql.functions import abs\n",
    "cred=credit_dis.withColumn(\"months_bal\",abs(credit_dis.mon_bal)).drop('mon_bal')"
   ]
  },
  {
   "cell_type": "code",
   "execution_count": 45,
   "metadata": {},
   "outputs": [
    {
     "data": {
      "text/html": [
       "<div>\n",
       "<style scoped>\n",
       "    .dataframe tbody tr th:only-of-type {\n",
       "        vertical-align: middle;\n",
       "    }\n",
       "\n",
       "    .dataframe tbody tr th {\n",
       "        vertical-align: top;\n",
       "    }\n",
       "\n",
       "    .dataframe thead th {\n",
       "        text-align: right;\n",
       "    }\n",
       "</style>\n",
       "<table border=\"1\" class=\"dataframe\">\n",
       "  <thead>\n",
       "    <tr style=\"text-align: right;\">\n",
       "      <th></th>\n",
       "      <th>id</th>\n",
       "      <th>label</th>\n",
       "      <th>months_bal</th>\n",
       "    </tr>\n",
       "  </thead>\n",
       "  <tbody>\n",
       "    <tr>\n",
       "      <th>0</th>\n",
       "      <td>5001812</td>\n",
       "      <td>0</td>\n",
       "      <td>0</td>\n",
       "    </tr>\n",
       "    <tr>\n",
       "      <th>1</th>\n",
       "      <td>5001849</td>\n",
       "      <td>C</td>\n",
       "      <td>0</td>\n",
       "    </tr>\n",
       "    <tr>\n",
       "      <th>2</th>\n",
       "      <td>5001921</td>\n",
       "      <td>C</td>\n",
       "      <td>0</td>\n",
       "    </tr>\n",
       "  </tbody>\n",
       "</table>\n",
       "</div>"
      ],
      "text/plain": [
       "        id label  months_bal\n",
       "0  5001812     0           0\n",
       "1  5001849     C           0\n",
       "2  5001921     C           0"
      ]
     },
     "execution_count": 45,
     "metadata": {},
     "output_type": "execute_result"
    }
   ],
   "source": [
    "cred.toPandas().head(3)"
   ]
  },
  {
   "cell_type": "code",
   "execution_count": 46,
   "metadata": {},
   "outputs": [
    {
     "name": "stdout",
     "output_type": "stream",
     "text": [
      "+---+-----+----------+\n",
      "| id|label|months_bal|\n",
      "+---+-----+----------+\n",
      "+---+-----+----------+\n",
      "\n"
     ]
    }
   ],
   "source": [
    "cred.filter(cred.months_bal < 0).show()"
   ]
  },
  {
   "cell_type": "code",
   "execution_count": 47,
   "metadata": {},
   "outputs": [],
   "source": [
    "##Merging 2 datsets Application and Credit for doing analysis\n",
    "#renaming the id column\n",
    "credit_df1=cred.withColumnRenamed(\"id\",\"id_cred\")"
   ]
  },
  {
   "cell_type": "code",
   "execution_count": 48,
   "metadata": {},
   "outputs": [
    {
     "data": {
      "text/plain": [
       "['id_cred', 'label', 'months_bal']"
      ]
     },
     "execution_count": 48,
     "metadata": {},
     "output_type": "execute_result"
    }
   ],
   "source": [
    "credit_df1.columns"
   ]
  },
  {
   "cell_type": "code",
   "execution_count": 49,
   "metadata": {},
   "outputs": [],
   "source": [
    "merge_df=app_g6.join(credit_df1,app_g6.id == credit_df1.id_cred,\"left\").drop('id_cred')"
   ]
  },
  {
   "cell_type": "code",
   "execution_count": 50,
   "metadata": {},
   "outputs": [
    {
     "name": "stdout",
     "output_type": "stream",
     "text": [
      "root\n",
      " |-- id: integer (nullable = true)\n",
      " |-- gender: string (nullable = true)\n",
      " |-- own_car: string (nullable = true)\n",
      " |-- own_reality: string (nullable = true)\n",
      " |-- chldno: integer (nullable = true)\n",
      " |-- income: double (nullable = true)\n",
      " |-- income_type: string (nullable = true)\n",
      " |-- edu_type: string (nullable = true)\n",
      " |-- fam_status: string (nullable = true)\n",
      " |-- house_type: string (nullable = true)\n",
      " |-- mobile: integer (nullable = true)\n",
      " |-- work: integer (nullable = true)\n",
      " |-- phone: integer (nullable = true)\n",
      " |-- email: integer (nullable = true)\n",
      " |-- occu_type: string (nullable = true)\n",
      " |-- fam_size: double (nullable = true)\n",
      " |-- age: integer (nullable = true)\n",
      " |-- employed_years: integer (nullable = true)\n",
      " |-- label: string (nullable = true)\n",
      " |-- months_bal: integer (nullable = true)\n",
      "\n"
     ]
    }
   ],
   "source": [
    "merge_df.printSchema()"
   ]
  },
  {
   "cell_type": "code",
   "execution_count": 51,
   "metadata": {},
   "outputs": [
    {
     "name": "stdout",
     "output_type": "stream",
     "text": [
      "+-----+------+\n",
      "|label| count|\n",
      "+-----+------+\n",
      "|    3|     6|\n",
      "|    0|  8456|\n",
      "| null|402053|\n",
      "|    5|    76|\n",
      "|    C| 17950|\n",
      "|    X|  9669|\n",
      "|    1|   276|\n",
      "|    4|     5|\n",
      "|    2|    19|\n",
      "+-----+------+\n",
      "\n"
     ]
    }
   ],
   "source": [
    "merge_df.groupby(\"label\").count().show()"
   ]
  },
  {
   "cell_type": "code",
   "execution_count": 52,
   "metadata": {},
   "outputs": [],
   "source": [
    "##Totally 402053 records are misssing we need to drop them as they are not useful\n",
    "clean_df=merge_df.filter(merge_df.label.isNotNull())"
   ]
  },
  {
   "cell_type": "code",
   "execution_count": 53,
   "metadata": {},
   "outputs": [
    {
     "data": {
      "text/html": [
       "<div>\n",
       "<style scoped>\n",
       "    .dataframe tbody tr th:only-of-type {\n",
       "        vertical-align: middle;\n",
       "    }\n",
       "\n",
       "    .dataframe tbody tr th {\n",
       "        vertical-align: top;\n",
       "    }\n",
       "\n",
       "    .dataframe thead th {\n",
       "        text-align: right;\n",
       "    }\n",
       "</style>\n",
       "<table border=\"1\" class=\"dataframe\">\n",
       "  <thead>\n",
       "    <tr style=\"text-align: right;\">\n",
       "      <th></th>\n",
       "      <th>id</th>\n",
       "      <th>gender</th>\n",
       "      <th>own_car</th>\n",
       "      <th>own_reality</th>\n",
       "      <th>chldno</th>\n",
       "      <th>income</th>\n",
       "      <th>income_type</th>\n",
       "      <th>edu_type</th>\n",
       "      <th>fam_status</th>\n",
       "      <th>house_type</th>\n",
       "      <th>mobile</th>\n",
       "      <th>work</th>\n",
       "      <th>phone</th>\n",
       "      <th>email</th>\n",
       "      <th>occu_type</th>\n",
       "      <th>fam_size</th>\n",
       "      <th>age</th>\n",
       "      <th>employed_years</th>\n",
       "      <th>label</th>\n",
       "      <th>months_bal</th>\n",
       "    </tr>\n",
       "  </thead>\n",
       "  <tbody>\n",
       "    <tr>\n",
       "      <th>0</th>\n",
       "      <td>5009033</td>\n",
       "      <td>F</td>\n",
       "      <td>N</td>\n",
       "      <td>N</td>\n",
       "      <td>0</td>\n",
       "      <td>255150.0</td>\n",
       "      <td>Pensioner</td>\n",
       "      <td>Incomplete higher</td>\n",
       "      <td>Civil marriage</td>\n",
       "      <td>Rented apartment</td>\n",
       "      <td>1</td>\n",
       "      <td>0</td>\n",
       "      <td>0</td>\n",
       "      <td>0</td>\n",
       "      <td>None</td>\n",
       "      <td>2.0</td>\n",
       "      <td>51</td>\n",
       "      <td>1000</td>\n",
       "      <td>X</td>\n",
       "      <td>0</td>\n",
       "    </tr>\n",
       "    <tr>\n",
       "      <th>1</th>\n",
       "      <td>5009304</td>\n",
       "      <td>F</td>\n",
       "      <td>N</td>\n",
       "      <td>N</td>\n",
       "      <td>0</td>\n",
       "      <td>112500.0</td>\n",
       "      <td>Pensioner</td>\n",
       "      <td>Secondary / secondary special</td>\n",
       "      <td>Widow</td>\n",
       "      <td>House / apartment</td>\n",
       "      <td>1</td>\n",
       "      <td>0</td>\n",
       "      <td>0</td>\n",
       "      <td>0</td>\n",
       "      <td>None</td>\n",
       "      <td>1.0</td>\n",
       "      <td>60</td>\n",
       "      <td>1000</td>\n",
       "      <td>C</td>\n",
       "      <td>0</td>\n",
       "    </tr>\n",
       "  </tbody>\n",
       "</table>\n",
       "</div>"
      ],
      "text/plain": [
       "        id gender own_car own_reality  chldno    income income_type  \\\n",
       "0  5009033      F       N           N       0  255150.0   Pensioner   \n",
       "1  5009304      F       N           N       0  112500.0   Pensioner   \n",
       "\n",
       "                        edu_type      fam_status         house_type  mobile  \\\n",
       "0              Incomplete higher  Civil marriage   Rented apartment       1   \n",
       "1  Secondary / secondary special           Widow  House / apartment       1   \n",
       "\n",
       "   work  phone  email occu_type  fam_size  age  employed_years label  \\\n",
       "0     0      0      0      None       2.0   51            1000     X   \n",
       "1     0      0      0      None       1.0   60            1000     C   \n",
       "\n",
       "   months_bal  \n",
       "0           0  \n",
       "1           0  "
      ]
     },
     "execution_count": 53,
     "metadata": {},
     "output_type": "execute_result"
    }
   ],
   "source": [
    "clean_df.toPandas().head(2)"
   ]
  },
  {
   "cell_type": "code",
   "execution_count": 54,
   "metadata": {},
   "outputs": [
    {
     "name": "stdout",
     "output_type": "stream",
     "text": [
      "+-----+-----+\n",
      "|label|count|\n",
      "+-----+-----+\n",
      "|    3|    6|\n",
      "|    0| 8456|\n",
      "|    5|   76|\n",
      "|    C|17950|\n",
      "|    X| 9669|\n",
      "|    1|  276|\n",
      "|    4|    5|\n",
      "|    2|   19|\n",
      "+-----+-----+\n",
      "\n"
     ]
    }
   ],
   "source": [
    "clean_df.groupby(\"label\").count().show()"
   ]
  },
  {
   "cell_type": "code",
   "execution_count": 55,
   "metadata": {},
   "outputs": [
    {
     "name": "stdout",
     "output_type": "stream",
     "text": [
      "The total count of dataset 36457\n"
     ]
    }
   ],
   "source": [
    "print(\"The total count of dataset\",clean_df.count())"
   ]
  },
  {
   "cell_type": "code",
   "execution_count": 56,
   "metadata": {},
   "outputs": [],
   "source": [
    "##Tagging the Deliquent customer based on the condition\n",
    "##Non Deliquent Customer when the status 0,1,c and X and Deliquent is 2,3,4,5\n",
    "model_data=clean_df.withColumn(\"outcome\",when(clean_df[\"label\"].isin({\"0\", \"1\",\"C\",\"X\"}),0).otherwise(1)).drop(\"label\")"
   ]
  },
  {
   "cell_type": "code",
   "execution_count": 57,
   "metadata": {},
   "outputs": [
    {
     "name": "stdout",
     "output_type": "stream",
     "text": [
      "root\n",
      " |-- id: integer (nullable = true)\n",
      " |-- gender: string (nullable = true)\n",
      " |-- own_car: string (nullable = true)\n",
      " |-- own_reality: string (nullable = true)\n",
      " |-- chldno: integer (nullable = true)\n",
      " |-- income: double (nullable = true)\n",
      " |-- income_type: string (nullable = true)\n",
      " |-- edu_type: string (nullable = true)\n",
      " |-- fam_status: string (nullable = true)\n",
      " |-- house_type: string (nullable = true)\n",
      " |-- mobile: integer (nullable = true)\n",
      " |-- work: integer (nullable = true)\n",
      " |-- phone: integer (nullable = true)\n",
      " |-- email: integer (nullable = true)\n",
      " |-- occu_type: string (nullable = true)\n",
      " |-- fam_size: double (nullable = true)\n",
      " |-- age: integer (nullable = true)\n",
      " |-- employed_years: integer (nullable = true)\n",
      " |-- months_bal: integer (nullable = true)\n",
      " |-- outcome: integer (nullable = false)\n",
      "\n"
     ]
    }
   ],
   "source": [
    "model_data.printSchema()"
   ]
  },
  {
   "cell_type": "code",
   "execution_count": 58,
   "metadata": {},
   "outputs": [
    {
     "data": {
      "text/html": [
       "<div>\n",
       "<style scoped>\n",
       "    .dataframe tbody tr th:only-of-type {\n",
       "        vertical-align: middle;\n",
       "    }\n",
       "\n",
       "    .dataframe tbody tr th {\n",
       "        vertical-align: top;\n",
       "    }\n",
       "\n",
       "    .dataframe thead th {\n",
       "        text-align: right;\n",
       "    }\n",
       "</style>\n",
       "<table border=\"1\" class=\"dataframe\">\n",
       "  <thead>\n",
       "    <tr style=\"text-align: right;\">\n",
       "      <th></th>\n",
       "      <th>id</th>\n",
       "      <th>gender</th>\n",
       "      <th>own_car</th>\n",
       "      <th>own_reality</th>\n",
       "      <th>chldno</th>\n",
       "      <th>income</th>\n",
       "      <th>income_type</th>\n",
       "      <th>edu_type</th>\n",
       "      <th>fam_status</th>\n",
       "      <th>house_type</th>\n",
       "      <th>mobile</th>\n",
       "      <th>work</th>\n",
       "      <th>phone</th>\n",
       "      <th>email</th>\n",
       "      <th>occu_type</th>\n",
       "      <th>fam_size</th>\n",
       "      <th>age</th>\n",
       "      <th>employed_years</th>\n",
       "      <th>months_bal</th>\n",
       "      <th>outcome</th>\n",
       "    </tr>\n",
       "  </thead>\n",
       "  <tbody>\n",
       "    <tr>\n",
       "      <th>0</th>\n",
       "      <td>5009033</td>\n",
       "      <td>F</td>\n",
       "      <td>N</td>\n",
       "      <td>N</td>\n",
       "      <td>0</td>\n",
       "      <td>255150.0</td>\n",
       "      <td>Pensioner</td>\n",
       "      <td>Incomplete higher</td>\n",
       "      <td>Civil marriage</td>\n",
       "      <td>Rented apartment</td>\n",
       "      <td>1</td>\n",
       "      <td>0</td>\n",
       "      <td>0</td>\n",
       "      <td>0</td>\n",
       "      <td>None</td>\n",
       "      <td>2.0</td>\n",
       "      <td>51</td>\n",
       "      <td>1000</td>\n",
       "      <td>0</td>\n",
       "      <td>0</td>\n",
       "    </tr>\n",
       "    <tr>\n",
       "      <th>1</th>\n",
       "      <td>5009304</td>\n",
       "      <td>F</td>\n",
       "      <td>N</td>\n",
       "      <td>N</td>\n",
       "      <td>0</td>\n",
       "      <td>112500.0</td>\n",
       "      <td>Pensioner</td>\n",
       "      <td>Secondary / secondary special</td>\n",
       "      <td>Widow</td>\n",
       "      <td>House / apartment</td>\n",
       "      <td>1</td>\n",
       "      <td>0</td>\n",
       "      <td>0</td>\n",
       "      <td>0</td>\n",
       "      <td>None</td>\n",
       "      <td>1.0</td>\n",
       "      <td>60</td>\n",
       "      <td>1000</td>\n",
       "      <td>0</td>\n",
       "      <td>0</td>\n",
       "    </tr>\n",
       "    <tr>\n",
       "      <th>2</th>\n",
       "      <td>5009355</td>\n",
       "      <td>F</td>\n",
       "      <td>N</td>\n",
       "      <td>N</td>\n",
       "      <td>0</td>\n",
       "      <td>135000.0</td>\n",
       "      <td>Commercial associate</td>\n",
       "      <td>Secondary / secondary special</td>\n",
       "      <td>Married</td>\n",
       "      <td>House / apartment</td>\n",
       "      <td>1</td>\n",
       "      <td>1</td>\n",
       "      <td>1</td>\n",
       "      <td>0</td>\n",
       "      <td>Laborers</td>\n",
       "      <td>2.0</td>\n",
       "      <td>53</td>\n",
       "      <td>14</td>\n",
       "      <td>0</td>\n",
       "      <td>0</td>\n",
       "    </tr>\n",
       "  </tbody>\n",
       "</table>\n",
       "</div>"
      ],
      "text/plain": [
       "        id gender own_car own_reality  chldno    income           income_type  \\\n",
       "0  5009033      F       N           N       0  255150.0             Pensioner   \n",
       "1  5009304      F       N           N       0  112500.0             Pensioner   \n",
       "2  5009355      F       N           N       0  135000.0  Commercial associate   \n",
       "\n",
       "                        edu_type      fam_status         house_type  mobile  \\\n",
       "0              Incomplete higher  Civil marriage   Rented apartment       1   \n",
       "1  Secondary / secondary special           Widow  House / apartment       1   \n",
       "2  Secondary / secondary special         Married  House / apartment       1   \n",
       "\n",
       "   work  phone  email occu_type  fam_size  age  employed_years  months_bal  \\\n",
       "0     0      0      0      None       2.0   51            1000           0   \n",
       "1     0      0      0      None       1.0   60            1000           0   \n",
       "2     1      1      0  Laborers       2.0   53              14           0   \n",
       "\n",
       "   outcome  \n",
       "0        0  \n",
       "1        0  \n",
       "2        0  "
      ]
     },
     "execution_count": 58,
     "metadata": {},
     "output_type": "execute_result"
    }
   ],
   "source": [
    "model_data.toPandas().head(3)"
   ]
  },
  {
   "cell_type": "code",
   "execution_count": 59,
   "metadata": {},
   "outputs": [
    {
     "name": "stdout",
     "output_type": "stream",
     "text": [
      "+-------+-----+\n",
      "|outcome|count|\n",
      "+-------+-----+\n",
      "|      1|  106|\n",
      "|      0|36351|\n",
      "+-------+-----+\n",
      "\n"
     ]
    }
   ],
   "source": [
    "model_data.groupby('outcome').count().show()"
   ]
  },
  {
   "cell_type": "code",
   "execution_count": 60,
   "metadata": {},
   "outputs": [],
   "source": [
    "##This is too Imbalanced data we need to consider this while fitting the model"
   ]
  },
  {
   "cell_type": "markdown",
   "metadata": {},
   "source": [
    "## Exploratory Data Analysis on the features"
   ]
  },
  {
   "cell_type": "code",
   "execution_count": 61,
   "metadata": {},
   "outputs": [
    {
     "name": "stdout",
     "output_type": "stream",
     "text": [
      "+------+-----+\n",
      "|gender|count|\n",
      "+------+-----+\n",
      "|     F|24430|\n",
      "|     M|12027|\n",
      "+------+-----+\n",
      "\n"
     ]
    }
   ],
   "source": [
    "##Gender data\n",
    "model_data.groupby(\"gender\").count().show()"
   ]
  },
  {
   "cell_type": "code",
   "execution_count": 62,
   "metadata": {},
   "outputs": [
    {
     "name": "stdout",
     "output_type": "stream",
     "text": [
      "+------+-------+-----+\n",
      "|gender|outcome|count|\n",
      "+------+-------+-----+\n",
      "|     M|      1|   45|\n",
      "|     F|      0|24369|\n",
      "|     F|      1|   61|\n",
      "|     M|      0|11982|\n",
      "+------+-------+-----+\n",
      "\n"
     ]
    }
   ],
   "source": [
    "model_data.groupby(\"gender\",\"outcome\").count().show()"
   ]
  },
  {
   "cell_type": "markdown",
   "metadata": {},
   "source": [
    "#### Male applicants are more deliquent than female by 0.001 %"
   ]
  },
  {
   "cell_type": "code",
   "execution_count": 63,
   "metadata": {},
   "outputs": [],
   "source": [
    "import pandas as pd\n",
    "import numpy as np\n",
    "import matplotlib.pyplot as plt\n",
    "import seaborn as sns\n"
   ]
  },
  {
   "cell_type": "code",
   "execution_count": 64,
   "metadata": {},
   "outputs": [],
   "source": [
    "model_pd=model_data.toPandas()"
   ]
  },
  {
   "cell_type": "code",
   "execution_count": 65,
   "metadata": {},
   "outputs": [
    {
     "data": {
      "text/plain": [
       "<AxesSubplot:>"
      ]
     },
     "execution_count": 65,
     "metadata": {},
     "output_type": "execute_result"
    },
    {
     "data": {
      "image/png": "[encoded data removed]",
      "text/plain": [
       "<Figure size 432x288 with 1 Axes>"
      ]
     },
     "metadata": {
      "needs_background": "light"
     },
     "output_type": "display_data"
    }
   ],
   "source": [
    "model_pd[\"gender\"].value_counts().plot(kind=\"bar\")"
   ]
  },
  {
   "cell_type": "code",
   "execution_count": 66,
   "metadata": {},
   "outputs": [
    {
     "data": {
      "text/plain": [
       "24430"
      ]
     },
     "execution_count": 66,
     "metadata": {},
     "output_type": "execute_result"
    }
   ],
   "source": [
    "## 1. What is the proportion of females in the applicant customer base?\n",
    "female_applicants=model_data.filter(model_data[\"gender\"] == 'F').count()\n",
    "female_applicants"
   ]
  },
  {
   "cell_type": "code",
   "execution_count": 67,
   "metadata": {},
   "outputs": [
    {
     "name": "stdout",
     "output_type": "stream",
     "text": [
      "Female Applicants Proportion 67.01045066791013\n"
     ]
    }
   ],
   "source": [
    "print(\"Female Applicants Proportion\",(female_applicants/model_data.count())*100)"
   ]
  },
  {
   "cell_type": "markdown",
   "metadata": {},
   "source": [
    "#### Mostly 67% of the applicants are female"
   ]
  },
  {
   "cell_type": "code",
   "execution_count": 68,
   "metadata": {},
   "outputs": [],
   "source": [
    "model_pd.to_csv('CreditcardApp.csv')"
   ]
  },
  {
   "cell_type": "code",
   "execution_count": 69,
   "metadata": {},
   "outputs": [
    {
     "data": {
      "image/png": "[encoded data removed]",
      "text/plain": [
       "<Figure size 1800x1080 with 10 Axes>"
      ]
     },
     "metadata": {
      "needs_background": "light"
     },
     "output_type": "display_data"
    }
   ],
   "source": [
    "from matplotlib import cm\n",
    "fig = plt.figure(figsize=(25,15)) ## Plot Size \n",
    "st = fig.suptitle(\"Distribution of Features\", fontsize=50,\n",
    "                  verticalalignment='center') # Plot Main Title \n",
    "\n",
    "for col,num in zip(model_data.toPandas().describe().columns, range(1,11)):\n",
    "    ax = fig.add_subplot(3,4,num)\n",
    "    ax.hist(model_data.toPandas()[col])\n",
    "    #plt.style.use('dark_background') \n",
    "    plt.grid(False)\n",
    "    plt.xticks(rotation=45,fontsize=20)\n",
    "    plt.yticks(fontsize=15)\n",
    "    plt.title(col.upper(),fontsize=20)\n",
    "plt.tight_layout()\n",
    "st.set_y(0.95)\n",
    "fig.subplots_adjust(top=0.85,hspace = 0.4)\n",
    "plt.show()"
   ]
  },
  {
   "cell_type": "markdown",
   "metadata": {},
   "source": [
    "#### Mobile is useless feature here and email. Age is well distributed .\n",
    "Employed_years is having few in 1000 which we need to eliminate to get more distributed.\n",
    "Most of the applicants is not having work phone.\n",
    "Most of the applicants is not having lan phone.\n",
    "Income is having outliers which we need to correct.\n",
    "Chldno is having outliers like 17 which seems to be incorrect\n",
    "Family Size till 20 "
   ]
  },
  {
   "cell_type": "code",
   "execution_count": 70,
   "metadata": {},
   "outputs": [],
   "source": [
    "#2.Is homeownership higher among male applicants or female applicants?"
   ]
  },
  {
   "cell_type": "code",
   "execution_count": 71,
   "metadata": {},
   "outputs": [
    {
     "data": {
      "text/html": [
       "<div>\n",
       "<style scoped>\n",
       "    .dataframe tbody tr th:only-of-type {\n",
       "        vertical-align: middle;\n",
       "    }\n",
       "\n",
       "    .dataframe tbody tr th {\n",
       "        vertical-align: top;\n",
       "    }\n",
       "\n",
       "    .dataframe thead th {\n",
       "        text-align: right;\n",
       "    }\n",
       "</style>\n",
       "<table border=\"1\" class=\"dataframe\">\n",
       "  <thead>\n",
       "    <tr style=\"text-align: right;\">\n",
       "      <th></th>\n",
       "      <th>gender</th>\n",
       "      <th>own_reality</th>\n",
       "      <th>count</th>\n",
       "    </tr>\n",
       "  </thead>\n",
       "  <tbody>\n",
       "    <tr>\n",
       "      <th>0</th>\n",
       "      <td>F</td>\n",
       "      <td>N</td>\n",
       "      <td>7600</td>\n",
       "    </tr>\n",
       "    <tr>\n",
       "      <th>1</th>\n",
       "      <td>F</td>\n",
       "      <td>Y</td>\n",
       "      <td>16830</td>\n",
       "    </tr>\n",
       "    <tr>\n",
       "      <th>2</th>\n",
       "      <td>M</td>\n",
       "      <td>Y</td>\n",
       "      <td>7676</td>\n",
       "    </tr>\n",
       "    <tr>\n",
       "      <th>3</th>\n",
       "      <td>M</td>\n",
       "      <td>N</td>\n",
       "      <td>4351</td>\n",
       "    </tr>\n",
       "  </tbody>\n",
       "</table>\n",
       "</div>"
      ],
      "text/plain": [
       "  gender own_reality  count\n",
       "0      F           N   7600\n",
       "1      F           Y  16830\n",
       "2      M           Y   7676\n",
       "3      M           N   4351"
      ]
     },
     "execution_count": 71,
     "metadata": {},
     "output_type": "execute_result"
    }
   ],
   "source": [
    "model_data.groupby(\"gender\",\"own_reality\").count().toPandas()"
   ]
  },
  {
   "cell_type": "code",
   "execution_count": 85,
   "metadata": {},
   "outputs": [
    {
     "data": {
      "text/plain": [
       "16830"
      ]
     },
     "execution_count": 85,
     "metadata": {},
     "output_type": "execute_result"
    }
   ],
   "source": [
    "female_owners=model_data.filter((model_data[\"gender\"] == 'F') & (model_data[\"own_reality\"]== \"Y\")).count()\n",
    "female_owners"
   ]
  },
  {
   "cell_type": "code",
   "execution_count": 86,
   "metadata": {},
   "outputs": [
    {
     "data": {
      "text/plain": [
       "24506"
      ]
     },
     "execution_count": 86,
     "metadata": {},
     "output_type": "execute_result"
    }
   ],
   "source": [
    "total_owners=model_data.filter(model_data[\"own_reality\"]== \"Y\").count()\n",
    "total_owners"
   ]
  },
  {
   "cell_type": "code",
   "execution_count": 87,
   "metadata": {},
   "outputs": [
    {
     "name": "stdout",
     "output_type": "stream",
     "text": [
      "Proportion of female owning reality 68.67705867950707\n"
     ]
    }
   ],
   "source": [
    "print(\"Proportion of female owning reality\",(female_owners/total_owners)*100)"
   ]
  },
  {
   "cell_type": "markdown",
   "metadata": {},
   "source": [
    "#### Female applicants own homes than males by 68.6%"
   ]
  },
  {
   "cell_type": "code",
   "execution_count": 88,
   "metadata": {},
   "outputs": [],
   "source": [
    "## Is there any correlation between the customer's income level and education level?"
   ]
  },
  {
   "cell_type": "code",
   "execution_count": 89,
   "metadata": {},
   "outputs": [],
   "source": [
    "sns.set(rc={'figure.figsize':(11.7,8.27)})"
   ]
  },
  {
   "cell_type": "code",
   "execution_count": 90,
   "metadata": {},
   "outputs": [],
   "source": [
    "sns.set(rc={'figure.figsize':(11.7,8.27)})"
   ]
  },
  {
   "cell_type": "code",
   "execution_count": 91,
   "metadata": {},
   "outputs": [
    {
     "data": {
      "text/html": [
       "<div>\n",
       "<style scoped>\n",
       "    .dataframe tbody tr th:only-of-type {\n",
       "        vertical-align: middle;\n",
       "    }\n",
       "\n",
       "    .dataframe tbody tr th {\n",
       "        vertical-align: top;\n",
       "    }\n",
       "\n",
       "    .dataframe thead th {\n",
       "        text-align: right;\n",
       "    }\n",
       "</style>\n",
       "<table border=\"1\" class=\"dataframe\">\n",
       "  <thead>\n",
       "    <tr style=\"text-align: right;\">\n",
       "      <th></th>\n",
       "      <th>edu_type</th>\n",
       "      <th>income_type</th>\n",
       "      <th>count</th>\n",
       "    </tr>\n",
       "  </thead>\n",
       "  <tbody>\n",
       "    <tr>\n",
       "      <th>0</th>\n",
       "      <td>Higher education</td>\n",
       "      <td>State servant</td>\n",
       "      <td>1231</td>\n",
       "    </tr>\n",
       "    <tr>\n",
       "      <th>1</th>\n",
       "      <td>Lower secondary</td>\n",
       "      <td>Working</td>\n",
       "      <td>162</td>\n",
       "    </tr>\n",
       "    <tr>\n",
       "      <th>2</th>\n",
       "      <td>Incomplete higher</td>\n",
       "      <td>State servant</td>\n",
       "      <td>94</td>\n",
       "    </tr>\n",
       "    <tr>\n",
       "      <th>3</th>\n",
       "      <td>Academic degree</td>\n",
       "      <td>Pensioner</td>\n",
       "      <td>1</td>\n",
       "    </tr>\n",
       "    <tr>\n",
       "      <th>4</th>\n",
       "      <td>Incomplete higher</td>\n",
       "      <td>Working</td>\n",
       "      <td>795</td>\n",
       "    </tr>\n",
       "    <tr>\n",
       "      <th>5</th>\n",
       "      <td>Lower secondary</td>\n",
       "      <td>Pensioner</td>\n",
       "      <td>160</td>\n",
       "    </tr>\n",
       "    <tr>\n",
       "      <th>6</th>\n",
       "      <td>Secondary / secondary special</td>\n",
       "      <td>Pensioner</td>\n",
       "      <td>4920</td>\n",
       "    </tr>\n",
       "    <tr>\n",
       "      <th>7</th>\n",
       "      <td>Higher education</td>\n",
       "      <td>Commercial associate</td>\n",
       "      <td>2977</td>\n",
       "    </tr>\n",
       "    <tr>\n",
       "      <th>8</th>\n",
       "      <td>Secondary / secondary special</td>\n",
       "      <td>Commercial associate</td>\n",
       "      <td>5000</td>\n",
       "    </tr>\n",
       "    <tr>\n",
       "      <th>9</th>\n",
       "      <td>Higher education</td>\n",
       "      <td>Student</td>\n",
       "      <td>9</td>\n",
       "    </tr>\n",
       "    <tr>\n",
       "      <th>10</th>\n",
       "      <td>Academic degree</td>\n",
       "      <td>Commercial associate</td>\n",
       "      <td>14</td>\n",
       "    </tr>\n",
       "    <tr>\n",
       "      <th>11</th>\n",
       "      <td>Secondary / secondary special</td>\n",
       "      <td>Working</td>\n",
       "      <td>13211</td>\n",
       "    </tr>\n",
       "    <tr>\n",
       "      <th>12</th>\n",
       "      <td>Incomplete higher</td>\n",
       "      <td>Commercial associate</td>\n",
       "      <td>463</td>\n",
       "    </tr>\n",
       "    <tr>\n",
       "      <th>13</th>\n",
       "      <td>Academic degree</td>\n",
       "      <td>Working</td>\n",
       "      <td>17</td>\n",
       "    </tr>\n",
       "    <tr>\n",
       "      <th>14</th>\n",
       "      <td>Incomplete higher</td>\n",
       "      <td>Pensioner</td>\n",
       "      <td>58</td>\n",
       "    </tr>\n",
       "    <tr>\n",
       "      <th>15</th>\n",
       "      <td>Higher education</td>\n",
       "      <td>Pensioner</td>\n",
       "      <td>1013</td>\n",
       "    </tr>\n",
       "    <tr>\n",
       "      <th>16</th>\n",
       "      <td>Secondary / secondary special</td>\n",
       "      <td>Student</td>\n",
       "      <td>2</td>\n",
       "    </tr>\n",
       "    <tr>\n",
       "      <th>17</th>\n",
       "      <td>Secondary / secondary special</td>\n",
       "      <td>State servant</td>\n",
       "      <td>1644</td>\n",
       "    </tr>\n",
       "    <tr>\n",
       "      <th>18</th>\n",
       "      <td>Lower secondary</td>\n",
       "      <td>Commercial associate</td>\n",
       "      <td>36</td>\n",
       "    </tr>\n",
       "    <tr>\n",
       "      <th>19</th>\n",
       "      <td>Higher education</td>\n",
       "      <td>Working</td>\n",
       "      <td>4634</td>\n",
       "    </tr>\n",
       "    <tr>\n",
       "      <th>20</th>\n",
       "      <td>Lower secondary</td>\n",
       "      <td>State servant</td>\n",
       "      <td>16</td>\n",
       "    </tr>\n",
       "  </tbody>\n",
       "</table>\n",
       "</div>"
      ],
      "text/plain": [
       "                         edu_type           income_type  count\n",
       "0                Higher education         State servant   1231\n",
       "1                 Lower secondary               Working    162\n",
       "2               Incomplete higher         State servant     94\n",
       "3                 Academic degree             Pensioner      1\n",
       "4               Incomplete higher               Working    795\n",
       "5                 Lower secondary             Pensioner    160\n",
       "6   Secondary / secondary special             Pensioner   4920\n",
       "7                Higher education  Commercial associate   2977\n",
       "8   Secondary / secondary special  Commercial associate   5000\n",
       "9                Higher education               Student      9\n",
       "10                Academic degree  Commercial associate     14\n",
       "11  Secondary / secondary special               Working  13211\n",
       "12              Incomplete higher  Commercial associate    463\n",
       "13                Academic degree               Working     17\n",
       "14              Incomplete higher             Pensioner     58\n",
       "15               Higher education             Pensioner   1013\n",
       "16  Secondary / secondary special               Student      2\n",
       "17  Secondary / secondary special         State servant   1644\n",
       "18                Lower secondary  Commercial associate     36\n",
       "19               Higher education               Working   4634\n",
       "20                Lower secondary         State servant     16"
      ]
     },
     "execution_count": 91,
     "metadata": {},
     "output_type": "execute_result"
    }
   ],
   "source": [
    "model_data.groupby(\"edu_type\",\"income_type\").count().toPandas()"
   ]
  },
  {
   "cell_type": "code",
   "execution_count": 92,
   "metadata": {},
   "outputs": [
    {
     "data": {
      "text/html": [
       "<div>\n",
       "<style scoped>\n",
       "    .dataframe tbody tr th:only-of-type {\n",
       "        vertical-align: middle;\n",
       "    }\n",
       "\n",
       "    .dataframe tbody tr th {\n",
       "        vertical-align: top;\n",
       "    }\n",
       "\n",
       "    .dataframe thead th {\n",
       "        text-align: right;\n",
       "    }\n",
       "</style>\n",
       "<table border=\"1\" class=\"dataframe\">\n",
       "  <thead>\n",
       "    <tr style=\"text-align: right;\">\n",
       "      <th></th>\n",
       "      <th>gender</th>\n",
       "      <th>own_reality</th>\n",
       "      <th>count</th>\n",
       "    </tr>\n",
       "  </thead>\n",
       "  <tbody>\n",
       "    <tr>\n",
       "      <th>0</th>\n",
       "      <td>F</td>\n",
       "      <td>N</td>\n",
       "      <td>7600</td>\n",
       "    </tr>\n",
       "    <tr>\n",
       "      <th>1</th>\n",
       "      <td>F</td>\n",
       "      <td>Y</td>\n",
       "      <td>16830</td>\n",
       "    </tr>\n",
       "    <tr>\n",
       "      <th>2</th>\n",
       "      <td>M</td>\n",
       "      <td>Y</td>\n",
       "      <td>7676</td>\n",
       "    </tr>\n",
       "    <tr>\n",
       "      <th>3</th>\n",
       "      <td>M</td>\n",
       "      <td>N</td>\n",
       "      <td>4351</td>\n",
       "    </tr>\n",
       "  </tbody>\n",
       "</table>\n",
       "</div>"
      ],
      "text/plain": [
       "  gender own_reality  count\n",
       "0      F           N   7600\n",
       "1      F           Y  16830\n",
       "2      M           Y   7676\n",
       "3      M           N   4351"
      ]
     },
     "execution_count": 92,
     "metadata": {},
     "output_type": "execute_result"
    }
   ],
   "source": [
    "model_data.groupby(\"gender\",\"own_reality\").count().toPandas()"
   ]
  },
  {
   "cell_type": "markdown",
   "metadata": {},
   "source": [
    "#### Edu_type and income_type are categorical features so converting using ordinal and string indexing method"
   ]
  },
  {
   "cell_type": "code",
   "execution_count": 93,
   "metadata": {},
   "outputs": [],
   "source": [
    "from sklearn.preprocessing import OrdinalEncoder\n",
    "enc = OrdinalEncoder()\n",
    "enc.fit(model_pd[[\"edu_type\"]])\n",
    "model_pd[[\"eduenc_type\"]] = enc.transform(model_pd[[\"edu_type\"]])"
   ]
  },
  {
   "cell_type": "code",
   "execution_count": 94,
   "metadata": {},
   "outputs": [],
   "source": [
    "model_dl=sqlc.createDataFrame(model_pd)"
   ]
  },
  {
   "cell_type": "code",
   "execution_count": 95,
   "metadata": {},
   "outputs": [
    {
     "data": {
      "text/plain": [
       "Working                 18819\n",
       "Commercial associate     8490\n",
       "Pensioner                6152\n",
       "State servant            2985\n",
       "Student                    11\n",
       "Name: income_type, dtype: int64"
      ]
     },
     "execution_count": 95,
     "metadata": {},
     "output_type": "execute_result"
    }
   ],
   "source": [
    "model_pd[\"income_type\"].value_counts()"
   ]
  },
  {
   "cell_type": "code",
   "execution_count": 96,
   "metadata": {},
   "outputs": [],
   "source": [
    "from pyspark.sql.functions import udf\n",
    "from pyspark.sql.types import IntegerType\n",
    "from pyspark.ml.feature import StringIndexer, OneHotEncoder, VectorAssembler"
   ]
  },
  {
   "cell_type": "code",
   "execution_count": 97,
   "metadata": {},
   "outputs": [],
   "source": [
    "si = StringIndexer(inputCol=\"income_type\", outputCol=\"income_type_ix\")\n",
    "model_dl = si.fit(model_dl).transform(model_dl)"
   ]
  },
  {
   "cell_type": "code",
   "execution_count": 98,
   "metadata": {},
   "outputs": [
    {
     "data": {
      "text/html": [
       "<div>\n",
       "<style scoped>\n",
       "    .dataframe tbody tr th:only-of-type {\n",
       "        vertical-align: middle;\n",
       "    }\n",
       "\n",
       "    .dataframe tbody tr th {\n",
       "        vertical-align: top;\n",
       "    }\n",
       "\n",
       "    .dataframe thead th {\n",
       "        text-align: right;\n",
       "    }\n",
       "</style>\n",
       "<table border=\"1\" class=\"dataframe\">\n",
       "  <thead>\n",
       "    <tr style=\"text-align: right;\">\n",
       "      <th></th>\n",
       "      <th>id</th>\n",
       "      <th>gender</th>\n",
       "      <th>own_car</th>\n",
       "      <th>own_reality</th>\n",
       "      <th>chldno</th>\n",
       "      <th>income</th>\n",
       "      <th>income_type</th>\n",
       "      <th>edu_type</th>\n",
       "      <th>fam_status</th>\n",
       "      <th>house_type</th>\n",
       "      <th>...</th>\n",
       "      <th>phone</th>\n",
       "      <th>email</th>\n",
       "      <th>occu_type</th>\n",
       "      <th>fam_size</th>\n",
       "      <th>age</th>\n",
       "      <th>employed_years</th>\n",
       "      <th>months_bal</th>\n",
       "      <th>outcome</th>\n",
       "      <th>eduenc_type</th>\n",
       "      <th>income_type_ix</th>\n",
       "    </tr>\n",
       "  </thead>\n",
       "  <tbody>\n",
       "    <tr>\n",
       "      <th>0</th>\n",
       "      <td>5009033</td>\n",
       "      <td>F</td>\n",
       "      <td>N</td>\n",
       "      <td>N</td>\n",
       "      <td>0</td>\n",
       "      <td>255150.0</td>\n",
       "      <td>Pensioner</td>\n",
       "      <td>Incomplete higher</td>\n",
       "      <td>Civil marriage</td>\n",
       "      <td>Rented apartment</td>\n",
       "      <td>...</td>\n",
       "      <td>0</td>\n",
       "      <td>0</td>\n",
       "      <td>None</td>\n",
       "      <td>2.0</td>\n",
       "      <td>51</td>\n",
       "      <td>1000</td>\n",
       "      <td>0</td>\n",
       "      <td>0</td>\n",
       "      <td>2.0</td>\n",
       "      <td>2.0</td>\n",
       "    </tr>\n",
       "    <tr>\n",
       "      <th>1</th>\n",
       "      <td>5009304</td>\n",
       "      <td>F</td>\n",
       "      <td>N</td>\n",
       "      <td>N</td>\n",
       "      <td>0</td>\n",
       "      <td>112500.0</td>\n",
       "      <td>Pensioner</td>\n",
       "      <td>Secondary / secondary special</td>\n",
       "      <td>Widow</td>\n",
       "      <td>House / apartment</td>\n",
       "      <td>...</td>\n",
       "      <td>0</td>\n",
       "      <td>0</td>\n",
       "      <td>None</td>\n",
       "      <td>1.0</td>\n",
       "      <td>60</td>\n",
       "      <td>1000</td>\n",
       "      <td>0</td>\n",
       "      <td>0</td>\n",
       "      <td>4.0</td>\n",
       "      <td>2.0</td>\n",
       "    </tr>\n",
       "    <tr>\n",
       "      <th>2</th>\n",
       "      <td>5009355</td>\n",
       "      <td>F</td>\n",
       "      <td>N</td>\n",
       "      <td>N</td>\n",
       "      <td>0</td>\n",
       "      <td>135000.0</td>\n",
       "      <td>Commercial associate</td>\n",
       "      <td>Secondary / secondary special</td>\n",
       "      <td>Married</td>\n",
       "      <td>House / apartment</td>\n",
       "      <td>...</td>\n",
       "      <td>1</td>\n",
       "      <td>0</td>\n",
       "      <td>Laborers</td>\n",
       "      <td>2.0</td>\n",
       "      <td>53</td>\n",
       "      <td>14</td>\n",
       "      <td>0</td>\n",
       "      <td>0</td>\n",
       "      <td>4.0</td>\n",
       "      <td>1.0</td>\n",
       "    </tr>\n",
       "    <tr>\n",
       "      <th>3</th>\n",
       "      <td>5009429</td>\n",
       "      <td>M</td>\n",
       "      <td>N</td>\n",
       "      <td>N</td>\n",
       "      <td>0</td>\n",
       "      <td>198000.0</td>\n",
       "      <td>Working</td>\n",
       "      <td>Secondary / secondary special</td>\n",
       "      <td>Single / not married</td>\n",
       "      <td>With parents</td>\n",
       "      <td>...</td>\n",
       "      <td>0</td>\n",
       "      <td>0</td>\n",
       "      <td>Laborers</td>\n",
       "      <td>1.0</td>\n",
       "      <td>23</td>\n",
       "      <td>3</td>\n",
       "      <td>0</td>\n",
       "      <td>0</td>\n",
       "      <td>4.0</td>\n",
       "      <td>0.0</td>\n",
       "    </tr>\n",
       "  </tbody>\n",
       "</table>\n",
       "<p>4 rows × 22 columns</p>\n",
       "</div>"
      ],
      "text/plain": [
       "        id gender own_car own_reality  chldno    income           income_type  \\\n",
       "0  5009033      F       N           N       0  255150.0             Pensioner   \n",
       "1  5009304      F       N           N       0  112500.0             Pensioner   \n",
       "2  5009355      F       N           N       0  135000.0  Commercial associate   \n",
       "3  5009429      M       N           N       0  198000.0               Working   \n",
       "\n",
       "                        edu_type            fam_status         house_type  \\\n",
       "0              Incomplete higher        Civil marriage   Rented apartment   \n",
       "1  Secondary / secondary special                 Widow  House / apartment   \n",
       "2  Secondary / secondary special               Married  House / apartment   \n",
       "3  Secondary / secondary special  Single / not married       With parents   \n",
       "\n",
       "   ...  phone  email  occu_type  fam_size age  employed_years  months_bal  \\\n",
       "0  ...      0      0       None       2.0  51            1000           0   \n",
       "1  ...      0      0       None       1.0  60            1000           0   \n",
       "2  ...      1      0   Laborers       2.0  53              14           0   \n",
       "3  ...      0      0   Laborers       1.0  23               3           0   \n",
       "\n",
       "   outcome  eduenc_type  income_type_ix  \n",
       "0        0          2.0             2.0  \n",
       "1        0          4.0             2.0  \n",
       "2        0          4.0             1.0  \n",
       "3        0          4.0             0.0  \n",
       "\n",
       "[4 rows x 22 columns]"
      ]
     },
     "execution_count": 98,
     "metadata": {},
     "output_type": "execute_result"
    }
   ],
   "source": [
    "model_dl.toPandas().head(4)"
   ]
  },
  {
   "cell_type": "code",
   "execution_count": 99,
   "metadata": {},
   "outputs": [],
   "source": [
    "model_pd1=model_dl.toPandas()"
   ]
  },
  {
   "cell_type": "code",
   "execution_count": 100,
   "metadata": {},
   "outputs": [],
   "source": [
    "##Correlation heat map"
   ]
  },
  {
   "cell_type": "code",
   "execution_count": 101,
   "metadata": {},
   "outputs": [
    {
     "data": {
      "image/png": "[encoded data removed]",
      "text/plain": [
       "<Figure size 864x720 with 2 Axes>"
      ]
     },
     "metadata": {},
     "output_type": "display_data"
    }
   ],
   "source": [
    "fig, ax = plt.subplots(figsize=(12,10)) \n",
    "dataplot = sns.heatmap(model_pd1.corr(), cmap=\"YlGnBu\", annot=True,ax=ax)\n",
    "plt.show()"
   ]
  },
  {
   "cell_type": "code",
   "execution_count": null,
   "metadata": {},
   "outputs": [],
   "source": [
    "## there are high correlation between employed years and income type\n",
    "#age and income type ,age and employed years\n",
    "#work and phone,employed years and eductype"
   ]
  },
  {
   "cell_type": "code",
   "execution_count": 102,
   "metadata": {},
   "outputs": [
    {
     "data": {
      "text/html": [
       "<div>\n",
       "<style scoped>\n",
       "    .dataframe tbody tr th:only-of-type {\n",
       "        vertical-align: middle;\n",
       "    }\n",
       "\n",
       "    .dataframe tbody tr th {\n",
       "        vertical-align: top;\n",
       "    }\n",
       "\n",
       "    .dataframe thead th {\n",
       "        text-align: right;\n",
       "    }\n",
       "</style>\n",
       "<table border=\"1\" class=\"dataframe\">\n",
       "  <thead>\n",
       "    <tr style=\"text-align: right;\">\n",
       "      <th></th>\n",
       "      <th>id</th>\n",
       "      <th>chldno</th>\n",
       "      <th>income</th>\n",
       "      <th>mobile</th>\n",
       "      <th>work</th>\n",
       "      <th>phone</th>\n",
       "      <th>email</th>\n",
       "      <th>fam_size</th>\n",
       "      <th>age</th>\n",
       "      <th>employed_years</th>\n",
       "      <th>months_bal</th>\n",
       "      <th>outcome</th>\n",
       "      <th>eduenc_type</th>\n",
       "      <th>income_type_ix</th>\n",
       "    </tr>\n",
       "  </thead>\n",
       "  <tbody>\n",
       "    <tr>\n",
       "      <th>id</th>\n",
       "      <td>1.000000</td>\n",
       "      <td>0.028878</td>\n",
       "      <td>-0.017667</td>\n",
       "      <td>NaN</td>\n",
       "      <td>0.079215</td>\n",
       "      <td>0.009879</td>\n",
       "      <td>-0.046979</td>\n",
       "      <td>0.026624</td>\n",
       "      <td>-0.056036</td>\n",
       "      <td>-0.038801</td>\n",
       "      <td>-0.025194</td>\n",
       "      <td>0.013473</td>\n",
       "      <td>-0.009211</td>\n",
       "      <td>-0.022184</td>\n",
       "    </tr>\n",
       "    <tr>\n",
       "      <th>chldno</th>\n",
       "      <td>0.028878</td>\n",
       "      <td>1.000000</td>\n",
       "      <td>0.033691</td>\n",
       "      <td>NaN</td>\n",
       "      <td>0.048091</td>\n",
       "      <td>-0.016291</td>\n",
       "      <td>0.015960</td>\n",
       "      <td>0.889114</td>\n",
       "      <td>-0.339240</td>\n",
       "      <td>-0.231209</td>\n",
       "      <td>0.011469</td>\n",
       "      <td>-0.007283</td>\n",
       "      <td>-0.049823</td>\n",
       "      <td>-0.126058</td>\n",
       "    </tr>\n",
       "    <tr>\n",
       "      <th>income</th>\n",
       "      <td>-0.017667</td>\n",
       "      <td>0.033691</td>\n",
       "      <td>1.000000</td>\n",
       "      <td>NaN</td>\n",
       "      <td>-0.037746</td>\n",
       "      <td>0.017245</td>\n",
       "      <td>0.086681</td>\n",
       "      <td>0.023750</td>\n",
       "      <td>-0.067715</td>\n",
       "      <td>-0.168037</td>\n",
       "      <td>-0.008727</td>\n",
       "      <td>0.009432</td>\n",
       "      <td>-0.226931</td>\n",
       "      <td>-0.012952</td>\n",
       "    </tr>\n",
       "    <tr>\n",
       "      <th>mobile</th>\n",
       "      <td>NaN</td>\n",
       "      <td>NaN</td>\n",
       "      <td>NaN</td>\n",
       "      <td>NaN</td>\n",
       "      <td>NaN</td>\n",
       "      <td>NaN</td>\n",
       "      <td>NaN</td>\n",
       "      <td>NaN</td>\n",
       "      <td>NaN</td>\n",
       "      <td>NaN</td>\n",
       "      <td>NaN</td>\n",
       "      <td>NaN</td>\n",
       "      <td>NaN</td>\n",
       "      <td>NaN</td>\n",
       "    </tr>\n",
       "    <tr>\n",
       "      <th>work</th>\n",
       "      <td>0.079215</td>\n",
       "      <td>0.048091</td>\n",
       "      <td>-0.037746</td>\n",
       "      <td>NaN</td>\n",
       "      <td>1.000000</td>\n",
       "      <td>0.311644</td>\n",
       "      <td>-0.034838</td>\n",
       "      <td>0.064527</td>\n",
       "      <td>-0.179464</td>\n",
       "      <td>-0.242500</td>\n",
       "      <td>-0.014203</td>\n",
       "      <td>-0.004761</td>\n",
       "      <td>-0.021092</td>\n",
       "      <td>-0.183092</td>\n",
       "    </tr>\n",
       "    <tr>\n",
       "      <th>phone</th>\n",
       "      <td>0.009879</td>\n",
       "      <td>-0.016291</td>\n",
       "      <td>0.017245</td>\n",
       "      <td>NaN</td>\n",
       "      <td>0.311644</td>\n",
       "      <td>1.000000</td>\n",
       "      <td>0.010455</td>\n",
       "      <td>-0.004221</td>\n",
       "      <td>0.028494</td>\n",
       "      <td>-0.005842</td>\n",
       "      <td>-0.003714</td>\n",
       "      <td>0.004190</td>\n",
       "      <td>-0.044875</td>\n",
       "      <td>-0.009797</td>\n",
       "    </tr>\n",
       "    <tr>\n",
       "      <th>email</th>\n",
       "      <td>-0.046979</td>\n",
       "      <td>0.015960</td>\n",
       "      <td>0.086681</td>\n",
       "      <td>NaN</td>\n",
       "      <td>-0.034838</td>\n",
       "      <td>0.010455</td>\n",
       "      <td>1.000000</td>\n",
       "      <td>0.014619</td>\n",
       "      <td>-0.105531</td>\n",
       "      <td>-0.086969</td>\n",
       "      <td>-0.017209</td>\n",
       "      <td>0.013351</td>\n",
       "      <td>-0.098457</td>\n",
       "      <td>-0.021901</td>\n",
       "    </tr>\n",
       "    <tr>\n",
       "      <th>fam_size</th>\n",
       "      <td>0.026624</td>\n",
       "      <td>0.889114</td>\n",
       "      <td>0.023750</td>\n",
       "      <td>NaN</td>\n",
       "      <td>0.064527</td>\n",
       "      <td>-0.004221</td>\n",
       "      <td>0.014619</td>\n",
       "      <td>1.000000</td>\n",
       "      <td>-0.303887</td>\n",
       "      <td>-0.222561</td>\n",
       "      <td>0.009034</td>\n",
       "      <td>-0.007843</td>\n",
       "      <td>-0.041344</td>\n",
       "      <td>-0.123481</td>\n",
       "    </tr>\n",
       "    <tr>\n",
       "      <th>age</th>\n",
       "      <td>-0.056036</td>\n",
       "      <td>-0.339240</td>\n",
       "      <td>-0.067715</td>\n",
       "      <td>NaN</td>\n",
       "      <td>-0.179464</td>\n",
       "      <td>0.028494</td>\n",
       "      <td>-0.105531</td>\n",
       "      <td>-0.303887</td>\n",
       "      <td>1.000000</td>\n",
       "      <td>0.624223</td>\n",
       "      <td>0.011334</td>\n",
       "      <td>0.002806</td>\n",
       "      <td>0.169379</td>\n",
       "      <td>0.346300</td>\n",
       "    </tr>\n",
       "    <tr>\n",
       "      <th>employed_years</th>\n",
       "      <td>-0.038801</td>\n",
       "      <td>-0.231209</td>\n",
       "      <td>-0.168037</td>\n",
       "      <td>NaN</td>\n",
       "      <td>-0.242500</td>\n",
       "      <td>-0.005842</td>\n",
       "      <td>-0.086969</td>\n",
       "      <td>-0.222561</td>\n",
       "      <td>0.624223</td>\n",
       "      <td>1.000000</td>\n",
       "      <td>0.007405</td>\n",
       "      <td>-0.002658</td>\n",
       "      <td>0.123062</td>\n",
       "      <td>0.538117</td>\n",
       "    </tr>\n",
       "    <tr>\n",
       "      <th>months_bal</th>\n",
       "      <td>-0.025194</td>\n",
       "      <td>0.011469</td>\n",
       "      <td>-0.008727</td>\n",
       "      <td>NaN</td>\n",
       "      <td>-0.014203</td>\n",
       "      <td>-0.003714</td>\n",
       "      <td>-0.017209</td>\n",
       "      <td>0.009034</td>\n",
       "      <td>0.011334</td>\n",
       "      <td>0.007405</td>\n",
       "      <td>1.000000</td>\n",
       "      <td>-0.015705</td>\n",
       "      <td>-0.000990</td>\n",
       "      <td>0.006844</td>\n",
       "    </tr>\n",
       "    <tr>\n",
       "      <th>outcome</th>\n",
       "      <td>0.013473</td>\n",
       "      <td>-0.007283</td>\n",
       "      <td>0.009432</td>\n",
       "      <td>NaN</td>\n",
       "      <td>-0.004761</td>\n",
       "      <td>0.004190</td>\n",
       "      <td>0.013351</td>\n",
       "      <td>-0.007843</td>\n",
       "      <td>0.002806</td>\n",
       "      <td>-0.002658</td>\n",
       "      <td>-0.015705</td>\n",
       "      <td>1.000000</td>\n",
       "      <td>-0.005812</td>\n",
       "      <td>-0.004434</td>\n",
       "    </tr>\n",
       "    <tr>\n",
       "      <th>eduenc_type</th>\n",
       "      <td>-0.009211</td>\n",
       "      <td>-0.049823</td>\n",
       "      <td>-0.226931</td>\n",
       "      <td>NaN</td>\n",
       "      <td>-0.021092</td>\n",
       "      <td>-0.044875</td>\n",
       "      <td>-0.098457</td>\n",
       "      <td>-0.041344</td>\n",
       "      <td>0.169379</td>\n",
       "      <td>0.123062</td>\n",
       "      <td>-0.000990</td>\n",
       "      <td>-0.005812</td>\n",
       "      <td>1.000000</td>\n",
       "      <td>-0.030719</td>\n",
       "    </tr>\n",
       "    <tr>\n",
       "      <th>income_type_ix</th>\n",
       "      <td>-0.022184</td>\n",
       "      <td>-0.126058</td>\n",
       "      <td>-0.012952</td>\n",
       "      <td>NaN</td>\n",
       "      <td>-0.183092</td>\n",
       "      <td>-0.009797</td>\n",
       "      <td>-0.021901</td>\n",
       "      <td>-0.123481</td>\n",
       "      <td>0.346300</td>\n",
       "      <td>0.538117</td>\n",
       "      <td>0.006844</td>\n",
       "      <td>-0.004434</td>\n",
       "      <td>-0.030719</td>\n",
       "      <td>1.000000</td>\n",
       "    </tr>\n",
       "  </tbody>\n",
       "</table>\n",
       "</div>"
      ],
      "text/plain": [
       "                      id    chldno    income  mobile      work     phone  \\\n",
       "id              1.000000  0.028878 -0.017667     NaN  0.079215  0.009879   \n",
       "chldno          0.028878  1.000000  0.033691     NaN  0.048091 -0.016291   \n",
       "income         -0.017667  0.033691  1.000000     NaN -0.037746  0.017245   \n",
       "mobile               NaN       NaN       NaN     NaN       NaN       NaN   \n",
       "work            0.079215  0.048091 -0.037746     NaN  1.000000  0.311644   \n",
       "phone           0.009879 -0.016291  0.017245     NaN  0.311644  1.000000   \n",
       "email          -0.046979  0.015960  0.086681     NaN -0.034838  0.010455   \n",
       "fam_size        0.026624  0.889114  0.023750     NaN  0.064527 -0.004221   \n",
       "age            -0.056036 -0.339240 -0.067715     NaN -0.179464  0.028494   \n",
       "employed_years -0.038801 -0.231209 -0.168037     NaN -0.242500 -0.005842   \n",
       "months_bal     -0.025194  0.011469 -0.008727     NaN -0.014203 -0.003714   \n",
       "outcome         0.013473 -0.007283  0.009432     NaN -0.004761  0.004190   \n",
       "eduenc_type    -0.009211 -0.049823 -0.226931     NaN -0.021092 -0.044875   \n",
       "income_type_ix -0.022184 -0.126058 -0.012952     NaN -0.183092 -0.009797   \n",
       "\n",
       "                   email  fam_size       age  employed_years  months_bal  \\\n",
       "id             -0.046979  0.026624 -0.056036       -0.038801   -0.025194   \n",
       "chldno          0.015960  0.889114 -0.339240       -0.231209    0.011469   \n",
       "income          0.086681  0.023750 -0.067715       -0.168037   -0.008727   \n",
       "mobile               NaN       NaN       NaN             NaN         NaN   \n",
       "work           -0.034838  0.064527 -0.179464       -0.242500   -0.014203   \n",
       "phone           0.010455 -0.004221  0.028494       -0.005842   -0.003714   \n",
       "email           1.000000  0.014619 -0.105531       -0.086969   -0.017209   \n",
       "fam_size        0.014619  1.000000 -0.303887       -0.222561    0.009034   \n",
       "age            -0.105531 -0.303887  1.000000        0.624223    0.011334   \n",
       "employed_years -0.086969 -0.222561  0.624223        1.000000    0.007405   \n",
       "months_bal     -0.017209  0.009034  0.011334        0.007405    1.000000   \n",
       "outcome         0.013351 -0.007843  0.002806       -0.002658   -0.015705   \n",
       "eduenc_type    -0.098457 -0.041344  0.169379        0.123062   -0.000990   \n",
       "income_type_ix -0.021901 -0.123481  0.346300        0.538117    0.006844   \n",
       "\n",
       "                 outcome  eduenc_type  income_type_ix  \n",
       "id              0.013473    -0.009211       -0.022184  \n",
       "chldno         -0.007283    -0.049823       -0.126058  \n",
       "income          0.009432    -0.226931       -0.012952  \n",
       "mobile               NaN          NaN             NaN  \n",
       "work           -0.004761    -0.021092       -0.183092  \n",
       "phone           0.004190    -0.044875       -0.009797  \n",
       "email           0.013351    -0.098457       -0.021901  \n",
       "fam_size       -0.007843    -0.041344       -0.123481  \n",
       "age             0.002806     0.169379        0.346300  \n",
       "employed_years -0.002658     0.123062        0.538117  \n",
       "months_bal     -0.015705    -0.000990        0.006844  \n",
       "outcome         1.000000    -0.005812       -0.004434  \n",
       "eduenc_type    -0.005812     1.000000       -0.030719  \n",
       "income_type_ix -0.004434    -0.030719        1.000000  "
      ]
     },
     "execution_count": 102,
     "metadata": {},
     "output_type": "execute_result"
    }
   ],
   "source": [
    "model_pd1.corr(method ='pearson')"
   ]
  },
  {
   "cell_type": "markdown",
   "metadata": {},
   "source": [
    "#### Education level is negatively correlated with income type and income"
   ]
  },
  {
   "cell_type": "code",
   "execution_count": 103,
   "metadata": {},
   "outputs": [],
   "source": [
    "# 4. What is the average and median salary of the applicant base?"
   ]
  },
  {
   "cell_type": "code",
   "execution_count": 104,
   "metadata": {},
   "outputs": [
    {
     "data": {
      "text/plain": [
       "count    3.645700e+04\n",
       "mean     1.866857e+05\n",
       "std      1.017892e+05\n",
       "min      2.700000e+04\n",
       "25%      1.215000e+05\n",
       "50%      1.575000e+05\n",
       "75%      2.250000e+05\n",
       "max      1.575000e+06\n",
       "Name: income, dtype: float64"
      ]
     },
     "execution_count": 104,
     "metadata": {},
     "output_type": "execute_result"
    }
   ],
   "source": [
    "model_pd1[\"income\"].describe()"
   ]
  },
  {
   "cell_type": "code",
   "execution_count": 105,
   "metadata": {},
   "outputs": [
    {
     "data": {
      "text/plain": [
       "186685.73666236937"
      ]
     },
     "execution_count": 105,
     "metadata": {},
     "output_type": "execute_result"
    }
   ],
   "source": [
    "model_pd1[\"income\"].mean()"
   ]
  },
  {
   "cell_type": "code",
   "execution_count": 106,
   "metadata": {},
   "outputs": [
    {
     "name": "stdout",
     "output_type": "stream",
     "text": [
      "Median income 157500.0\n"
     ]
    }
   ],
   "source": [
    "print(\"Median income\",model_pd1[\"income\"].median())"
   ]
  },
  {
   "cell_type": "code",
   "execution_count": 107,
   "metadata": {},
   "outputs": [
    {
     "data": {
      "text/plain": [
       "<AxesSubplot:>"
      ]
     },
     "execution_count": 107,
     "metadata": {},
     "output_type": "execute_result"
    },
    {
     "data": {
      "image/png": "[encoded data removed]",
      "text/plain": [
       "<Figure size 842.4x595.44 with 1 Axes>"
      ]
     },
     "metadata": {},
     "output_type": "display_data"
    }
   ],
   "source": [
    "model_pd1[\"income\"].plot(kind=\"box\")"
   ]
  },
  {
   "cell_type": "markdown",
   "metadata": {},
   "source": [
    "#### Median income : 157500.0 and Average is 186685 before the Outlier Treatment"
   ]
  },
  {
   "cell_type": "code",
   "execution_count": 108,
   "metadata": {},
   "outputs": [],
   "source": [
    "### Fixing the outliers in income,employed_years,chlno,family size"
   ]
  },
  {
   "cell_type": "code",
   "execution_count": 109,
   "metadata": {},
   "outputs": [],
   "source": [
    "pd.set_option('display.float_format', lambda x: '%.3f' % x)"
   ]
  },
  {
   "cell_type": "code",
   "execution_count": 110,
   "metadata": {},
   "outputs": [
    {
     "data": {
      "text/plain": [
       "count     36457.000\n",
       "mean     186685.737\n",
       "std      101789.226\n",
       "min       27000.000\n",
       "25%      121500.000\n",
       "50%      157500.000\n",
       "75%      225000.000\n",
       "max     1575000.000\n",
       "Name: income, dtype: float64"
      ]
     },
     "execution_count": 110,
     "metadata": {},
     "output_type": "execute_result"
    }
   ],
   "source": [
    "model_pd1[\"income\"].describe()"
   ]
  },
  {
   "cell_type": "code",
   "execution_count": 111,
   "metadata": {},
   "outputs": [
    {
     "data": {
      "text/plain": [
       "id                7769\n",
       "gender            7769\n",
       "own_car           7769\n",
       "own_reality       7769\n",
       "chldno            7769\n",
       "income            7769\n",
       "income_type       7769\n",
       "edu_type          7769\n",
       "fam_status        7769\n",
       "house_type        7769\n",
       "mobile            7769\n",
       "work              7769\n",
       "phone             7769\n",
       "email             7769\n",
       "occu_type         6045\n",
       "fam_size          7769\n",
       "age               7769\n",
       "employed_years    7769\n",
       "months_bal        7769\n",
       "outcome           7769\n",
       "eduenc_type       7769\n",
       "income_type_ix    7769\n",
       "dtype: int64"
      ]
     },
     "execution_count": 111,
     "metadata": {},
     "output_type": "execute_result"
    }
   ],
   "source": [
    "model_pd1[model_pd1[\"income\"] > 225000].count()"
   ]
  },
  {
   "cell_type": "code",
   "execution_count": 112,
   "metadata": {},
   "outputs": [
    {
     "data": {
      "text/plain": [
       "Index(['id', 'gender', 'own_car', 'own_reality', 'chldno', 'income',\n",
       "       'income_type', 'edu_type', 'fam_status', 'house_type', 'mobile', 'work',\n",
       "       'phone', 'email', 'occu_type', 'fam_size', 'age', 'employed_years',\n",
       "       'months_bal', 'outcome', 'eduenc_type', 'income_type_ix'],\n",
       "      dtype='object')"
      ]
     },
     "execution_count": 112,
     "metadata": {},
     "output_type": "execute_result"
    }
   ],
   "source": [
    "model_pd1.columns"
   ]
  },
  {
   "cell_type": "code",
   "execution_count": 113,
   "metadata": {},
   "outputs": [
    {
     "data": {
      "text/html": [
       "<div>\n",
       "<style scoped>\n",
       "    .dataframe tbody tr th:only-of-type {\n",
       "        vertical-align: middle;\n",
       "    }\n",
       "\n",
       "    .dataframe tbody tr th {\n",
       "        vertical-align: top;\n",
       "    }\n",
       "\n",
       "    .dataframe thead th {\n",
       "        text-align: right;\n",
       "    }\n",
       "</style>\n",
       "<table border=\"1\" class=\"dataframe\">\n",
       "  <thead>\n",
       "    <tr style=\"text-align: right;\">\n",
       "      <th></th>\n",
       "      <th>id</th>\n",
       "      <th>gender</th>\n",
       "      <th>own_car</th>\n",
       "      <th>own_reality</th>\n",
       "      <th>chldno</th>\n",
       "      <th>income</th>\n",
       "      <th>income_type</th>\n",
       "      <th>edu_type</th>\n",
       "      <th>fam_status</th>\n",
       "      <th>house_type</th>\n",
       "      <th>...</th>\n",
       "      <th>phone</th>\n",
       "      <th>email</th>\n",
       "      <th>occu_type</th>\n",
       "      <th>fam_size</th>\n",
       "      <th>age</th>\n",
       "      <th>employed_years</th>\n",
       "      <th>months_bal</th>\n",
       "      <th>outcome</th>\n",
       "      <th>eduenc_type</th>\n",
       "      <th>income_type_ix</th>\n",
       "    </tr>\n",
       "  </thead>\n",
       "  <tbody>\n",
       "    <tr>\n",
       "      <th>0</th>\n",
       "      <td>5009033</td>\n",
       "      <td>F</td>\n",
       "      <td>N</td>\n",
       "      <td>N</td>\n",
       "      <td>0</td>\n",
       "      <td>255150.000</td>\n",
       "      <td>Pensioner</td>\n",
       "      <td>Incomplete higher</td>\n",
       "      <td>Civil marriage</td>\n",
       "      <td>Rented apartment</td>\n",
       "      <td>...</td>\n",
       "      <td>0</td>\n",
       "      <td>0</td>\n",
       "      <td>None</td>\n",
       "      <td>2.000</td>\n",
       "      <td>51</td>\n",
       "      <td>1000</td>\n",
       "      <td>0</td>\n",
       "      <td>0</td>\n",
       "      <td>2.000</td>\n",
       "      <td>2.000</td>\n",
       "    </tr>\n",
       "    <tr>\n",
       "      <th>4</th>\n",
       "      <td>5010070</td>\n",
       "      <td>F</td>\n",
       "      <td>N</td>\n",
       "      <td>Y</td>\n",
       "      <td>0</td>\n",
       "      <td>279000.000</td>\n",
       "      <td>State servant</td>\n",
       "      <td>Higher education</td>\n",
       "      <td>Single / not married</td>\n",
       "      <td>House / apartment</td>\n",
       "      <td>...</td>\n",
       "      <td>0</td>\n",
       "      <td>1</td>\n",
       "      <td>Managers</td>\n",
       "      <td>1.000</td>\n",
       "      <td>30</td>\n",
       "      <td>1</td>\n",
       "      <td>0</td>\n",
       "      <td>0</td>\n",
       "      <td>1.000</td>\n",
       "      <td>3.000</td>\n",
       "    </tr>\n",
       "    <tr>\n",
       "      <th>10</th>\n",
       "      <td>5011029</td>\n",
       "      <td>F</td>\n",
       "      <td>N</td>\n",
       "      <td>Y</td>\n",
       "      <td>0</td>\n",
       "      <td>292500.000</td>\n",
       "      <td>Working</td>\n",
       "      <td>Secondary / secondary special</td>\n",
       "      <td>Civil marriage</td>\n",
       "      <td>House / apartment</td>\n",
       "      <td>...</td>\n",
       "      <td>0</td>\n",
       "      <td>1</td>\n",
       "      <td>Sales staff</td>\n",
       "      <td>2.000</td>\n",
       "      <td>45</td>\n",
       "      <td>2</td>\n",
       "      <td>0</td>\n",
       "      <td>0</td>\n",
       "      <td>4.000</td>\n",
       "      <td>0.000</td>\n",
       "    </tr>\n",
       "    <tr>\n",
       "      <th>13</th>\n",
       "      <td>5021944</td>\n",
       "      <td>F</td>\n",
       "      <td>Y</td>\n",
       "      <td>Y</td>\n",
       "      <td>0</td>\n",
       "      <td>445500.000</td>\n",
       "      <td>Commercial associate</td>\n",
       "      <td>Higher education</td>\n",
       "      <td>Married</td>\n",
       "      <td>House / apartment</td>\n",
       "      <td>...</td>\n",
       "      <td>0</td>\n",
       "      <td>0</td>\n",
       "      <td>Managers</td>\n",
       "      <td>2.000</td>\n",
       "      <td>34</td>\n",
       "      <td>1</td>\n",
       "      <td>0</td>\n",
       "      <td>0</td>\n",
       "      <td>1.000</td>\n",
       "      <td>1.000</td>\n",
       "    </tr>\n",
       "    <tr>\n",
       "      <th>18</th>\n",
       "      <td>5023011</td>\n",
       "      <td>M</td>\n",
       "      <td>Y</td>\n",
       "      <td>N</td>\n",
       "      <td>0</td>\n",
       "      <td>360000.000</td>\n",
       "      <td>Working</td>\n",
       "      <td>Secondary / secondary special</td>\n",
       "      <td>Married</td>\n",
       "      <td>House / apartment</td>\n",
       "      <td>...</td>\n",
       "      <td>0</td>\n",
       "      <td>0</td>\n",
       "      <td>Private service staff</td>\n",
       "      <td>2.000</td>\n",
       "      <td>31</td>\n",
       "      <td>6</td>\n",
       "      <td>9</td>\n",
       "      <td>0</td>\n",
       "      <td>4.000</td>\n",
       "      <td>0.000</td>\n",
       "    </tr>\n",
       "    <tr>\n",
       "      <th>...</th>\n",
       "      <td>...</td>\n",
       "      <td>...</td>\n",
       "      <td>...</td>\n",
       "      <td>...</td>\n",
       "      <td>...</td>\n",
       "      <td>...</td>\n",
       "      <td>...</td>\n",
       "      <td>...</td>\n",
       "      <td>...</td>\n",
       "      <td>...</td>\n",
       "      <td>...</td>\n",
       "      <td>...</td>\n",
       "      <td>...</td>\n",
       "      <td>...</td>\n",
       "      <td>...</td>\n",
       "      <td>...</td>\n",
       "      <td>...</td>\n",
       "      <td>...</td>\n",
       "      <td>...</td>\n",
       "      <td>...</td>\n",
       "      <td>...</td>\n",
       "    </tr>\n",
       "    <tr>\n",
       "      <th>36431</th>\n",
       "      <td>5126671</td>\n",
       "      <td>F</td>\n",
       "      <td>N</td>\n",
       "      <td>Y</td>\n",
       "      <td>0</td>\n",
       "      <td>351000.000</td>\n",
       "      <td>State servant</td>\n",
       "      <td>Secondary / secondary special</td>\n",
       "      <td>Single / not married</td>\n",
       "      <td>House / apartment</td>\n",
       "      <td>...</td>\n",
       "      <td>0</td>\n",
       "      <td>0</td>\n",
       "      <td>Medicine staff</td>\n",
       "      <td>1.000</td>\n",
       "      <td>47</td>\n",
       "      <td>11</td>\n",
       "      <td>39</td>\n",
       "      <td>0</td>\n",
       "      <td>4.000</td>\n",
       "      <td>3.000</td>\n",
       "    </tr>\n",
       "    <tr>\n",
       "      <th>36440</th>\n",
       "      <td>5143281</td>\n",
       "      <td>M</td>\n",
       "      <td>Y</td>\n",
       "      <td>Y</td>\n",
       "      <td>0</td>\n",
       "      <td>405000.000</td>\n",
       "      <td>Working</td>\n",
       "      <td>Secondary / secondary special</td>\n",
       "      <td>Married</td>\n",
       "      <td>House / apartment</td>\n",
       "      <td>...</td>\n",
       "      <td>0</td>\n",
       "      <td>0</td>\n",
       "      <td>Sales staff</td>\n",
       "      <td>2.000</td>\n",
       "      <td>49</td>\n",
       "      <td>1</td>\n",
       "      <td>24</td>\n",
       "      <td>0</td>\n",
       "      <td>4.000</td>\n",
       "      <td>0.000</td>\n",
       "    </tr>\n",
       "    <tr>\n",
       "      <th>36443</th>\n",
       "      <td>5143607</td>\n",
       "      <td>M</td>\n",
       "      <td>Y</td>\n",
       "      <td>Y</td>\n",
       "      <td>0</td>\n",
       "      <td>270000.000</td>\n",
       "      <td>Commercial associate</td>\n",
       "      <td>Secondary / secondary special</td>\n",
       "      <td>Civil marriage</td>\n",
       "      <td>House / apartment</td>\n",
       "      <td>...</td>\n",
       "      <td>0</td>\n",
       "      <td>1</td>\n",
       "      <td>None</td>\n",
       "      <td>2.000</td>\n",
       "      <td>29</td>\n",
       "      <td>2</td>\n",
       "      <td>0</td>\n",
       "      <td>0</td>\n",
       "      <td>4.000</td>\n",
       "      <td>1.000</td>\n",
       "    </tr>\n",
       "    <tr>\n",
       "      <th>36446</th>\n",
       "      <td>5146041</td>\n",
       "      <td>F</td>\n",
       "      <td>N</td>\n",
       "      <td>Y</td>\n",
       "      <td>0</td>\n",
       "      <td>360000.000</td>\n",
       "      <td>Commercial associate</td>\n",
       "      <td>Secondary / secondary special</td>\n",
       "      <td>Single / not married</td>\n",
       "      <td>House / apartment</td>\n",
       "      <td>...</td>\n",
       "      <td>0</td>\n",
       "      <td>0</td>\n",
       "      <td>Accountants</td>\n",
       "      <td>1.000</td>\n",
       "      <td>50</td>\n",
       "      <td>6</td>\n",
       "      <td>26</td>\n",
       "      <td>0</td>\n",
       "      <td>4.000</td>\n",
       "      <td>1.000</td>\n",
       "    </tr>\n",
       "    <tr>\n",
       "      <th>36449</th>\n",
       "      <td>5146485</td>\n",
       "      <td>M</td>\n",
       "      <td>Y</td>\n",
       "      <td>Y</td>\n",
       "      <td>2</td>\n",
       "      <td>472500.000</td>\n",
       "      <td>Commercial associate</td>\n",
       "      <td>Higher education</td>\n",
       "      <td>Married</td>\n",
       "      <td>House / apartment</td>\n",
       "      <td>...</td>\n",
       "      <td>0</td>\n",
       "      <td>0</td>\n",
       "      <td>Managers</td>\n",
       "      <td>4.000</td>\n",
       "      <td>48</td>\n",
       "      <td>5</td>\n",
       "      <td>0</td>\n",
       "      <td>0</td>\n",
       "      <td>1.000</td>\n",
       "      <td>1.000</td>\n",
       "    </tr>\n",
       "  </tbody>\n",
       "</table>\n",
       "<p>7752 rows × 22 columns</p>\n",
       "</div>"
      ],
      "text/plain": [
       "            id gender own_car own_reality  chldno     income  \\\n",
       "0      5009033      F       N           N       0 255150.000   \n",
       "4      5010070      F       N           Y       0 279000.000   \n",
       "10     5011029      F       N           Y       0 292500.000   \n",
       "13     5021944      F       Y           Y       0 445500.000   \n",
       "18     5023011      M       Y           N       0 360000.000   \n",
       "...        ...    ...     ...         ...     ...        ...   \n",
       "36431  5126671      F       N           Y       0 351000.000   \n",
       "36440  5143281      M       Y           Y       0 405000.000   \n",
       "36443  5143607      M       Y           Y       0 270000.000   \n",
       "36446  5146041      F       N           Y       0 360000.000   \n",
       "36449  5146485      M       Y           Y       2 472500.000   \n",
       "\n",
       "                income_type                       edu_type  \\\n",
       "0                 Pensioner              Incomplete higher   \n",
       "4             State servant               Higher education   \n",
       "10                  Working  Secondary / secondary special   \n",
       "13     Commercial associate               Higher education   \n",
       "18                  Working  Secondary / secondary special   \n",
       "...                     ...                            ...   \n",
       "36431         State servant  Secondary / secondary special   \n",
       "36440               Working  Secondary / secondary special   \n",
       "36443  Commercial associate  Secondary / secondary special   \n",
       "36446  Commercial associate  Secondary / secondary special   \n",
       "36449  Commercial associate               Higher education   \n",
       "\n",
       "                 fam_status         house_type  ...  phone  email  \\\n",
       "0            Civil marriage   Rented apartment  ...      0      0   \n",
       "4      Single / not married  House / apartment  ...      0      1   \n",
       "10           Civil marriage  House / apartment  ...      0      1   \n",
       "13                  Married  House / apartment  ...      0      0   \n",
       "18                  Married  House / apartment  ...      0      0   \n",
       "...                     ...                ...  ...    ...    ...   \n",
       "36431  Single / not married  House / apartment  ...      0      0   \n",
       "36440               Married  House / apartment  ...      0      0   \n",
       "36443        Civil marriage  House / apartment  ...      0      1   \n",
       "36446  Single / not married  House / apartment  ...      0      0   \n",
       "36449               Married  House / apartment  ...      0      0   \n",
       "\n",
       "                   occu_type  fam_size age  employed_years  months_bal  \\\n",
       "0                       None     2.000  51            1000           0   \n",
       "4                   Managers     1.000  30               1           0   \n",
       "10               Sales staff     2.000  45               2           0   \n",
       "13                  Managers     2.000  34               1           0   \n",
       "18     Private service staff     2.000  31               6           9   \n",
       "...                      ...       ...  ..             ...         ...   \n",
       "36431         Medicine staff     1.000  47              11          39   \n",
       "36440            Sales staff     2.000  49               1          24   \n",
       "36443                   None     2.000  29               2           0   \n",
       "36446            Accountants     1.000  50               6          26   \n",
       "36449               Managers     4.000  48               5           0   \n",
       "\n",
       "       outcome  eduenc_type  income_type_ix  \n",
       "0            0        2.000           2.000  \n",
       "4            0        1.000           3.000  \n",
       "10           0        4.000           0.000  \n",
       "13           0        1.000           1.000  \n",
       "18           0        4.000           0.000  \n",
       "...        ...          ...             ...  \n",
       "36431        0        4.000           3.000  \n",
       "36440        0        4.000           0.000  \n",
       "36443        0        4.000           1.000  \n",
       "36446        0        4.000           1.000  \n",
       "36449        0        1.000           1.000  \n",
       "\n",
       "[7752 rows x 22 columns]"
      ]
     },
     "execution_count": 113,
     "metadata": {},
     "output_type": "execute_result"
    }
   ],
   "source": [
    "model_pd1[(model_pd1[\"income\"] > 225000) & (model_pd1[\"income\"] < 1000000)]"
   ]
  },
  {
   "cell_type": "code",
   "execution_count": 114,
   "metadata": {},
   "outputs": [
    {
     "data": {
      "text/html": [
       "<div>\n",
       "<style scoped>\n",
       "    .dataframe tbody tr th:only-of-type {\n",
       "        vertical-align: middle;\n",
       "    }\n",
       "\n",
       "    .dataframe tbody tr th {\n",
       "        vertical-align: top;\n",
       "    }\n",
       "\n",
       "    .dataframe thead th {\n",
       "        text-align: right;\n",
       "    }\n",
       "</style>\n",
       "<table border=\"1\" class=\"dataframe\">\n",
       "  <thead>\n",
       "    <tr style=\"text-align: right;\">\n",
       "      <th></th>\n",
       "      <th>id</th>\n",
       "      <th>gender</th>\n",
       "      <th>own_car</th>\n",
       "      <th>own_reality</th>\n",
       "      <th>chldno</th>\n",
       "      <th>income</th>\n",
       "      <th>income_type</th>\n",
       "      <th>edu_type</th>\n",
       "      <th>fam_status</th>\n",
       "      <th>house_type</th>\n",
       "      <th>...</th>\n",
       "      <th>phone</th>\n",
       "      <th>email</th>\n",
       "      <th>occu_type</th>\n",
       "      <th>fam_size</th>\n",
       "      <th>age</th>\n",
       "      <th>employed_years</th>\n",
       "      <th>months_bal</th>\n",
       "      <th>outcome</th>\n",
       "      <th>eduenc_type</th>\n",
       "      <th>income_type_ix</th>\n",
       "    </tr>\n",
       "  </thead>\n",
       "  <tbody>\n",
       "    <tr>\n",
       "      <th>2115</th>\n",
       "      <td>5143237</td>\n",
       "      <td>F</td>\n",
       "      <td>Y</td>\n",
       "      <td>Y</td>\n",
       "      <td>1</td>\n",
       "      <td>1575000.000</td>\n",
       "      <td>Commercial associate</td>\n",
       "      <td>Higher education</td>\n",
       "      <td>Single / not married</td>\n",
       "      <td>House / apartment</td>\n",
       "      <td>...</td>\n",
       "      <td>0</td>\n",
       "      <td>0</td>\n",
       "      <td>Managers</td>\n",
       "      <td>2.000</td>\n",
       "      <td>27</td>\n",
       "      <td>6</td>\n",
       "      <td>0</td>\n",
       "      <td>0</td>\n",
       "      <td>1.000</td>\n",
       "      <td>1.000</td>\n",
       "    </tr>\n",
       "    <tr>\n",
       "      <th>4524</th>\n",
       "      <td>5143236</td>\n",
       "      <td>F</td>\n",
       "      <td>Y</td>\n",
       "      <td>Y</td>\n",
       "      <td>1</td>\n",
       "      <td>1575000.000</td>\n",
       "      <td>Commercial associate</td>\n",
       "      <td>Higher education</td>\n",
       "      <td>Single / not married</td>\n",
       "      <td>House / apartment</td>\n",
       "      <td>...</td>\n",
       "      <td>0</td>\n",
       "      <td>0</td>\n",
       "      <td>Managers</td>\n",
       "      <td>2.000</td>\n",
       "      <td>27</td>\n",
       "      <td>6</td>\n",
       "      <td>0</td>\n",
       "      <td>0</td>\n",
       "      <td>1.000</td>\n",
       "      <td>1.000</td>\n",
       "    </tr>\n",
       "    <tr>\n",
       "      <th>5050</th>\n",
       "      <td>5143234</td>\n",
       "      <td>F</td>\n",
       "      <td>Y</td>\n",
       "      <td>Y</td>\n",
       "      <td>1</td>\n",
       "      <td>1575000.000</td>\n",
       "      <td>Commercial associate</td>\n",
       "      <td>Higher education</td>\n",
       "      <td>Single / not married</td>\n",
       "      <td>House / apartment</td>\n",
       "      <td>...</td>\n",
       "      <td>0</td>\n",
       "      <td>0</td>\n",
       "      <td>Managers</td>\n",
       "      <td>2.000</td>\n",
       "      <td>27</td>\n",
       "      <td>6</td>\n",
       "      <td>0</td>\n",
       "      <td>0</td>\n",
       "      <td>1.000</td>\n",
       "      <td>1.000</td>\n",
       "    </tr>\n",
       "    <tr>\n",
       "      <th>6680</th>\n",
       "      <td>5143231</td>\n",
       "      <td>F</td>\n",
       "      <td>Y</td>\n",
       "      <td>Y</td>\n",
       "      <td>1</td>\n",
       "      <td>1575000.000</td>\n",
       "      <td>Commercial associate</td>\n",
       "      <td>Higher education</td>\n",
       "      <td>Single / not married</td>\n",
       "      <td>House / apartment</td>\n",
       "      <td>...</td>\n",
       "      <td>0</td>\n",
       "      <td>0</td>\n",
       "      <td>Managers</td>\n",
       "      <td>2.000</td>\n",
       "      <td>27</td>\n",
       "      <td>6</td>\n",
       "      <td>7</td>\n",
       "      <td>0</td>\n",
       "      <td>1.000</td>\n",
       "      <td>1.000</td>\n",
       "    </tr>\n",
       "    <tr>\n",
       "      <th>12334</th>\n",
       "      <td>5143232</td>\n",
       "      <td>F</td>\n",
       "      <td>Y</td>\n",
       "      <td>Y</td>\n",
       "      <td>1</td>\n",
       "      <td>1575000.000</td>\n",
       "      <td>Commercial associate</td>\n",
       "      <td>Higher education</td>\n",
       "      <td>Single / not married</td>\n",
       "      <td>House / apartment</td>\n",
       "      <td>...</td>\n",
       "      <td>0</td>\n",
       "      <td>0</td>\n",
       "      <td>Managers</td>\n",
       "      <td>2.000</td>\n",
       "      <td>27</td>\n",
       "      <td>6</td>\n",
       "      <td>11</td>\n",
       "      <td>0</td>\n",
       "      <td>1.000</td>\n",
       "      <td>1.000</td>\n",
       "    </tr>\n",
       "    <tr>\n",
       "      <th>22227</th>\n",
       "      <td>5143233</td>\n",
       "      <td>F</td>\n",
       "      <td>Y</td>\n",
       "      <td>Y</td>\n",
       "      <td>1</td>\n",
       "      <td>1575000.000</td>\n",
       "      <td>Commercial associate</td>\n",
       "      <td>Higher education</td>\n",
       "      <td>Single / not married</td>\n",
       "      <td>House / apartment</td>\n",
       "      <td>...</td>\n",
       "      <td>0</td>\n",
       "      <td>0</td>\n",
       "      <td>Managers</td>\n",
       "      <td>2.000</td>\n",
       "      <td>27</td>\n",
       "      <td>6</td>\n",
       "      <td>0</td>\n",
       "      <td>0</td>\n",
       "      <td>1.000</td>\n",
       "      <td>1.000</td>\n",
       "    </tr>\n",
       "    <tr>\n",
       "      <th>22419</th>\n",
       "      <td>5143235</td>\n",
       "      <td>F</td>\n",
       "      <td>Y</td>\n",
       "      <td>Y</td>\n",
       "      <td>1</td>\n",
       "      <td>1575000.000</td>\n",
       "      <td>Commercial associate</td>\n",
       "      <td>Higher education</td>\n",
       "      <td>Single / not married</td>\n",
       "      <td>House / apartment</td>\n",
       "      <td>...</td>\n",
       "      <td>0</td>\n",
       "      <td>0</td>\n",
       "      <td>Managers</td>\n",
       "      <td>2.000</td>\n",
       "      <td>27</td>\n",
       "      <td>6</td>\n",
       "      <td>0</td>\n",
       "      <td>0</td>\n",
       "      <td>1.000</td>\n",
       "      <td>1.000</td>\n",
       "    </tr>\n",
       "    <tr>\n",
       "      <th>26596</th>\n",
       "      <td>5143238</td>\n",
       "      <td>F</td>\n",
       "      <td>Y</td>\n",
       "      <td>Y</td>\n",
       "      <td>1</td>\n",
       "      <td>1575000.000</td>\n",
       "      <td>Commercial associate</td>\n",
       "      <td>Higher education</td>\n",
       "      <td>Single / not married</td>\n",
       "      <td>House / apartment</td>\n",
       "      <td>...</td>\n",
       "      <td>0</td>\n",
       "      <td>0</td>\n",
       "      <td>Managers</td>\n",
       "      <td>2.000</td>\n",
       "      <td>27</td>\n",
       "      <td>6</td>\n",
       "      <td>26</td>\n",
       "      <td>0</td>\n",
       "      <td>1.000</td>\n",
       "      <td>1.000</td>\n",
       "    </tr>\n",
       "  </tbody>\n",
       "</table>\n",
       "<p>8 rows × 22 columns</p>\n",
       "</div>"
      ],
      "text/plain": [
       "            id gender own_car own_reality  chldno      income  \\\n",
       "2115   5143237      F       Y           Y       1 1575000.000   \n",
       "4524   5143236      F       Y           Y       1 1575000.000   \n",
       "5050   5143234      F       Y           Y       1 1575000.000   \n",
       "6680   5143231      F       Y           Y       1 1575000.000   \n",
       "12334  5143232      F       Y           Y       1 1575000.000   \n",
       "22227  5143233      F       Y           Y       1 1575000.000   \n",
       "22419  5143235      F       Y           Y       1 1575000.000   \n",
       "26596  5143238      F       Y           Y       1 1575000.000   \n",
       "\n",
       "                income_type          edu_type            fam_status  \\\n",
       "2115   Commercial associate  Higher education  Single / not married   \n",
       "4524   Commercial associate  Higher education  Single / not married   \n",
       "5050   Commercial associate  Higher education  Single / not married   \n",
       "6680   Commercial associate  Higher education  Single / not married   \n",
       "12334  Commercial associate  Higher education  Single / not married   \n",
       "22227  Commercial associate  Higher education  Single / not married   \n",
       "22419  Commercial associate  Higher education  Single / not married   \n",
       "26596  Commercial associate  Higher education  Single / not married   \n",
       "\n",
       "              house_type  ...  phone  email  occu_type  fam_size age  \\\n",
       "2115   House / apartment  ...      0      0   Managers     2.000  27   \n",
       "4524   House / apartment  ...      0      0   Managers     2.000  27   \n",
       "5050   House / apartment  ...      0      0   Managers     2.000  27   \n",
       "6680   House / apartment  ...      0      0   Managers     2.000  27   \n",
       "12334  House / apartment  ...      0      0   Managers     2.000  27   \n",
       "22227  House / apartment  ...      0      0   Managers     2.000  27   \n",
       "22419  House / apartment  ...      0      0   Managers     2.000  27   \n",
       "26596  House / apartment  ...      0      0   Managers     2.000  27   \n",
       "\n",
       "       employed_years  months_bal  outcome  eduenc_type  income_type_ix  \n",
       "2115                6           0        0        1.000           1.000  \n",
       "4524                6           0        0        1.000           1.000  \n",
       "5050                6           0        0        1.000           1.000  \n",
       "6680                6           7        0        1.000           1.000  \n",
       "12334               6          11        0        1.000           1.000  \n",
       "22227               6           0        0        1.000           1.000  \n",
       "22419               6           0        0        1.000           1.000  \n",
       "26596               6          26        0        1.000           1.000  \n",
       "\n",
       "[8 rows x 22 columns]"
      ]
     },
     "execution_count": 114,
     "metadata": {},
     "output_type": "execute_result"
    }
   ],
   "source": [
    "model_pd1[model_pd1[\"income\"]== model_pd1[\"income\"].max()]"
   ]
  },
  {
   "cell_type": "code",
   "execution_count": 115,
   "metadata": {},
   "outputs": [],
   "source": [
    "##These seems to be the high outliers with 1575000 as the annual income better we impute them"
   ]
  },
  {
   "cell_type": "code",
   "execution_count": 116,
   "metadata": {},
   "outputs": [],
   "source": [
    "model_pd1=model_pd1[~(model_pd1[\"income\"]== model_pd1[\"income\"].max())]"
   ]
  },
  {
   "cell_type": "code",
   "execution_count": 117,
   "metadata": {},
   "outputs": [
    {
     "data": {
      "text/plain": [
       "(36449, 22)"
      ]
     },
     "execution_count": 117,
     "metadata": {},
     "output_type": "execute_result"
    }
   ],
   "source": [
    "model_pd1.shape"
   ]
  },
  {
   "cell_type": "code",
   "execution_count": 118,
   "metadata": {},
   "outputs": [
    {
     "data": {
      "text/plain": [
       "count     36449.000\n",
       "mean     186381.023\n",
       "std       99700.440\n",
       "min       27000.000\n",
       "25%      121500.000\n",
       "50%      157500.000\n",
       "75%      225000.000\n",
       "max     1350000.000\n",
       "Name: income, dtype: float64"
      ]
     },
     "execution_count": 118,
     "metadata": {},
     "output_type": "execute_result"
    }
   ],
   "source": [
    "model_pd1[\"income\"].describe()"
   ]
  },
  {
   "cell_type": "code",
   "execution_count": 119,
   "metadata": {},
   "outputs": [],
   "source": [
    "model_pd2=model_pd1.copy(deep=False)"
   ]
  },
  {
   "cell_type": "code",
   "execution_count": 120,
   "metadata": {},
   "outputs": [],
   "source": [
    "def outlier_treatment(datacolumn):\n",
    " sorted(datacolumn)\n",
    " Q1,Q3 = np.percentile(datacolumn , [25,75])\n",
    " IQR = Q3 - Q1\n",
    " lower_range = Q1 - (1.5 * IQR)\n",
    " upper_range = Q3 + (1.5 * IQR)\n",
    " return lower_range,upper_range"
   ]
  },
  {
   "cell_type": "code",
   "execution_count": 121,
   "metadata": {},
   "outputs": [],
   "source": [
    "lowerbound,upperbound = outlier_treatment(model_pd2.income)"
   ]
  },
  {
   "cell_type": "code",
   "execution_count": 122,
   "metadata": {},
   "outputs": [
    {
     "data": {
      "text/plain": [
       "(-33750.0, 380250.0)"
      ]
     },
     "execution_count": 122,
     "metadata": {},
     "output_type": "execute_result"
    }
   ],
   "source": [
    "lowerbound,upperbound"
   ]
  },
  {
   "cell_type": "code",
   "execution_count": 123,
   "metadata": {},
   "outputs": [
    {
     "data": {
      "text/html": [
       "<div>\n",
       "<style scoped>\n",
       "    .dataframe tbody tr th:only-of-type {\n",
       "        vertical-align: middle;\n",
       "    }\n",
       "\n",
       "    .dataframe tbody tr th {\n",
       "        vertical-align: top;\n",
       "    }\n",
       "\n",
       "    .dataframe thead th {\n",
       "        text-align: right;\n",
       "    }\n",
       "</style>\n",
       "<table border=\"1\" class=\"dataframe\">\n",
       "  <thead>\n",
       "    <tr style=\"text-align: right;\">\n",
       "      <th></th>\n",
       "      <th>id</th>\n",
       "      <th>gender</th>\n",
       "      <th>own_car</th>\n",
       "      <th>own_reality</th>\n",
       "      <th>chldno</th>\n",
       "      <th>income</th>\n",
       "      <th>income_type</th>\n",
       "      <th>edu_type</th>\n",
       "      <th>fam_status</th>\n",
       "      <th>house_type</th>\n",
       "      <th>...</th>\n",
       "      <th>phone</th>\n",
       "      <th>email</th>\n",
       "      <th>occu_type</th>\n",
       "      <th>fam_size</th>\n",
       "      <th>age</th>\n",
       "      <th>employed_years</th>\n",
       "      <th>months_bal</th>\n",
       "      <th>outcome</th>\n",
       "      <th>eduenc_type</th>\n",
       "      <th>income_type_ix</th>\n",
       "    </tr>\n",
       "  </thead>\n",
       "  <tbody>\n",
       "    <tr>\n",
       "      <th>13</th>\n",
       "      <td>5021944</td>\n",
       "      <td>F</td>\n",
       "      <td>Y</td>\n",
       "      <td>Y</td>\n",
       "      <td>0</td>\n",
       "      <td>445500.000</td>\n",
       "      <td>Commercial associate</td>\n",
       "      <td>Higher education</td>\n",
       "      <td>Married</td>\n",
       "      <td>House / apartment</td>\n",
       "      <td>...</td>\n",
       "      <td>0</td>\n",
       "      <td>0</td>\n",
       "      <td>Managers</td>\n",
       "      <td>2.000</td>\n",
       "      <td>34</td>\n",
       "      <td>1</td>\n",
       "      <td>0</td>\n",
       "      <td>0</td>\n",
       "      <td>1.000</td>\n",
       "      <td>1.000</td>\n",
       "    </tr>\n",
       "    <tr>\n",
       "      <th>57</th>\n",
       "      <td>5048505</td>\n",
       "      <td>F</td>\n",
       "      <td>Y</td>\n",
       "      <td>Y</td>\n",
       "      <td>0</td>\n",
       "      <td>720000.000</td>\n",
       "      <td>State servant</td>\n",
       "      <td>Higher education</td>\n",
       "      <td>Widow</td>\n",
       "      <td>House / apartment</td>\n",
       "      <td>...</td>\n",
       "      <td>1</td>\n",
       "      <td>0</td>\n",
       "      <td>Core staff</td>\n",
       "      <td>1.000</td>\n",
       "      <td>41</td>\n",
       "      <td>14</td>\n",
       "      <td>0</td>\n",
       "      <td>0</td>\n",
       "      <td>1.000</td>\n",
       "      <td>3.000</td>\n",
       "    </tr>\n",
       "    <tr>\n",
       "      <th>60</th>\n",
       "      <td>5051030</td>\n",
       "      <td>M</td>\n",
       "      <td>Y</td>\n",
       "      <td>N</td>\n",
       "      <td>0</td>\n",
       "      <td>540000.000</td>\n",
       "      <td>Commercial associate</td>\n",
       "      <td>Higher education</td>\n",
       "      <td>Married</td>\n",
       "      <td>House / apartment</td>\n",
       "      <td>...</td>\n",
       "      <td>0</td>\n",
       "      <td>0</td>\n",
       "      <td>Laborers</td>\n",
       "      <td>2.000</td>\n",
       "      <td>47</td>\n",
       "      <td>4</td>\n",
       "      <td>0</td>\n",
       "      <td>0</td>\n",
       "      <td>1.000</td>\n",
       "      <td>1.000</td>\n",
       "    </tr>\n",
       "    <tr>\n",
       "      <th>138</th>\n",
       "      <td>5112626</td>\n",
       "      <td>F</td>\n",
       "      <td>N</td>\n",
       "      <td>Y</td>\n",
       "      <td>0</td>\n",
       "      <td>675000.000</td>\n",
       "      <td>Commercial associate</td>\n",
       "      <td>Higher education</td>\n",
       "      <td>Married</td>\n",
       "      <td>House / apartment</td>\n",
       "      <td>...</td>\n",
       "      <td>1</td>\n",
       "      <td>0</td>\n",
       "      <td>Managers</td>\n",
       "      <td>2.000</td>\n",
       "      <td>53</td>\n",
       "      <td>12</td>\n",
       "      <td>0</td>\n",
       "      <td>0</td>\n",
       "      <td>1.000</td>\n",
       "      <td>1.000</td>\n",
       "    </tr>\n",
       "    <tr>\n",
       "      <th>139</th>\n",
       "      <td>5112842</td>\n",
       "      <td>F</td>\n",
       "      <td>Y</td>\n",
       "      <td>Y</td>\n",
       "      <td>0</td>\n",
       "      <td>427500.000</td>\n",
       "      <td>Working</td>\n",
       "      <td>Higher education</td>\n",
       "      <td>Married</td>\n",
       "      <td>House / apartment</td>\n",
       "      <td>...</td>\n",
       "      <td>0</td>\n",
       "      <td>1</td>\n",
       "      <td>Accountants</td>\n",
       "      <td>2.000</td>\n",
       "      <td>54</td>\n",
       "      <td>6</td>\n",
       "      <td>0</td>\n",
       "      <td>0</td>\n",
       "      <td>1.000</td>\n",
       "      <td>0.000</td>\n",
       "    </tr>\n",
       "    <tr>\n",
       "      <th>...</th>\n",
       "      <td>...</td>\n",
       "      <td>...</td>\n",
       "      <td>...</td>\n",
       "      <td>...</td>\n",
       "      <td>...</td>\n",
       "      <td>...</td>\n",
       "      <td>...</td>\n",
       "      <td>...</td>\n",
       "      <td>...</td>\n",
       "      <td>...</td>\n",
       "      <td>...</td>\n",
       "      <td>...</td>\n",
       "      <td>...</td>\n",
       "      <td>...</td>\n",
       "      <td>...</td>\n",
       "      <td>...</td>\n",
       "      <td>...</td>\n",
       "      <td>...</td>\n",
       "      <td>...</td>\n",
       "      <td>...</td>\n",
       "      <td>...</td>\n",
       "    </tr>\n",
       "    <tr>\n",
       "      <th>36368</th>\n",
       "      <td>5089961</td>\n",
       "      <td>M</td>\n",
       "      <td>Y</td>\n",
       "      <td>Y</td>\n",
       "      <td>3</td>\n",
       "      <td>450000.000</td>\n",
       "      <td>Working</td>\n",
       "      <td>Secondary / secondary special</td>\n",
       "      <td>Civil marriage</td>\n",
       "      <td>House / apartment</td>\n",
       "      <td>...</td>\n",
       "      <td>0</td>\n",
       "      <td>1</td>\n",
       "      <td>Managers</td>\n",
       "      <td>5.000</td>\n",
       "      <td>47</td>\n",
       "      <td>8</td>\n",
       "      <td>0</td>\n",
       "      <td>0</td>\n",
       "      <td>4.000</td>\n",
       "      <td>0.000</td>\n",
       "    </tr>\n",
       "    <tr>\n",
       "      <th>36401</th>\n",
       "      <td>5113116</td>\n",
       "      <td>F</td>\n",
       "      <td>N</td>\n",
       "      <td>Y</td>\n",
       "      <td>0</td>\n",
       "      <td>630000.000</td>\n",
       "      <td>State servant</td>\n",
       "      <td>Higher education</td>\n",
       "      <td>Married</td>\n",
       "      <td>House / apartment</td>\n",
       "      <td>...</td>\n",
       "      <td>0</td>\n",
       "      <td>0</td>\n",
       "      <td>Managers</td>\n",
       "      <td>2.000</td>\n",
       "      <td>58</td>\n",
       "      <td>12</td>\n",
       "      <td>0</td>\n",
       "      <td>0</td>\n",
       "      <td>1.000</td>\n",
       "      <td>3.000</td>\n",
       "    </tr>\n",
       "    <tr>\n",
       "      <th>36425</th>\n",
       "      <td>5125440</td>\n",
       "      <td>M</td>\n",
       "      <td>Y</td>\n",
       "      <td>Y</td>\n",
       "      <td>1</td>\n",
       "      <td>810000.000</td>\n",
       "      <td>Commercial associate</td>\n",
       "      <td>Higher education</td>\n",
       "      <td>Married</td>\n",
       "      <td>House / apartment</td>\n",
       "      <td>...</td>\n",
       "      <td>1</td>\n",
       "      <td>1</td>\n",
       "      <td>None</td>\n",
       "      <td>3.000</td>\n",
       "      <td>50</td>\n",
       "      <td>12</td>\n",
       "      <td>0</td>\n",
       "      <td>0</td>\n",
       "      <td>1.000</td>\n",
       "      <td>1.000</td>\n",
       "    </tr>\n",
       "    <tr>\n",
       "      <th>36440</th>\n",
       "      <td>5143281</td>\n",
       "      <td>M</td>\n",
       "      <td>Y</td>\n",
       "      <td>Y</td>\n",
       "      <td>0</td>\n",
       "      <td>405000.000</td>\n",
       "      <td>Working</td>\n",
       "      <td>Secondary / secondary special</td>\n",
       "      <td>Married</td>\n",
       "      <td>House / apartment</td>\n",
       "      <td>...</td>\n",
       "      <td>0</td>\n",
       "      <td>0</td>\n",
       "      <td>Sales staff</td>\n",
       "      <td>2.000</td>\n",
       "      <td>49</td>\n",
       "      <td>1</td>\n",
       "      <td>24</td>\n",
       "      <td>0</td>\n",
       "      <td>4.000</td>\n",
       "      <td>0.000</td>\n",
       "    </tr>\n",
       "    <tr>\n",
       "      <th>36449</th>\n",
       "      <td>5146485</td>\n",
       "      <td>M</td>\n",
       "      <td>Y</td>\n",
       "      <td>Y</td>\n",
       "      <td>2</td>\n",
       "      <td>472500.000</td>\n",
       "      <td>Commercial associate</td>\n",
       "      <td>Higher education</td>\n",
       "      <td>Married</td>\n",
       "      <td>House / apartment</td>\n",
       "      <td>...</td>\n",
       "      <td>0</td>\n",
       "      <td>0</td>\n",
       "      <td>Managers</td>\n",
       "      <td>4.000</td>\n",
       "      <td>48</td>\n",
       "      <td>5</td>\n",
       "      <td>0</td>\n",
       "      <td>0</td>\n",
       "      <td>1.000</td>\n",
       "      <td>1.000</td>\n",
       "    </tr>\n",
       "  </tbody>\n",
       "</table>\n",
       "<p>1521 rows × 22 columns</p>\n",
       "</div>"
      ],
      "text/plain": [
       "            id gender own_car own_reality  chldno     income  \\\n",
       "13     5021944      F       Y           Y       0 445500.000   \n",
       "57     5048505      F       Y           Y       0 720000.000   \n",
       "60     5051030      M       Y           N       0 540000.000   \n",
       "138    5112626      F       N           Y       0 675000.000   \n",
       "139    5112842      F       Y           Y       0 427500.000   \n",
       "...        ...    ...     ...         ...     ...        ...   \n",
       "36368  5089961      M       Y           Y       3 450000.000   \n",
       "36401  5113116      F       N           Y       0 630000.000   \n",
       "36425  5125440      M       Y           Y       1 810000.000   \n",
       "36440  5143281      M       Y           Y       0 405000.000   \n",
       "36449  5146485      M       Y           Y       2 472500.000   \n",
       "\n",
       "                income_type                       edu_type      fam_status  \\\n",
       "13     Commercial associate               Higher education         Married   \n",
       "57            State servant               Higher education           Widow   \n",
       "60     Commercial associate               Higher education         Married   \n",
       "138    Commercial associate               Higher education         Married   \n",
       "139                 Working               Higher education         Married   \n",
       "...                     ...                            ...             ...   \n",
       "36368               Working  Secondary / secondary special  Civil marriage   \n",
       "36401         State servant               Higher education         Married   \n",
       "36425  Commercial associate               Higher education         Married   \n",
       "36440               Working  Secondary / secondary special         Married   \n",
       "36449  Commercial associate               Higher education         Married   \n",
       "\n",
       "              house_type  ...  phone  email    occu_type  fam_size age  \\\n",
       "13     House / apartment  ...      0      0     Managers     2.000  34   \n",
       "57     House / apartment  ...      1      0   Core staff     1.000  41   \n",
       "60     House / apartment  ...      0      0     Laborers     2.000  47   \n",
       "138    House / apartment  ...      1      0     Managers     2.000  53   \n",
       "139    House / apartment  ...      0      1  Accountants     2.000  54   \n",
       "...                  ...  ...    ...    ...          ...       ...  ..   \n",
       "36368  House / apartment  ...      0      1     Managers     5.000  47   \n",
       "36401  House / apartment  ...      0      0     Managers     2.000  58   \n",
       "36425  House / apartment  ...      1      1         None     3.000  50   \n",
       "36440  House / apartment  ...      0      0  Sales staff     2.000  49   \n",
       "36449  House / apartment  ...      0      0     Managers     4.000  48   \n",
       "\n",
       "       employed_years  months_bal  outcome  eduenc_type  income_type_ix  \n",
       "13                  1           0        0        1.000           1.000  \n",
       "57                 14           0        0        1.000           3.000  \n",
       "60                  4           0        0        1.000           1.000  \n",
       "138                12           0        0        1.000           1.000  \n",
       "139                 6           0        0        1.000           0.000  \n",
       "...               ...         ...      ...          ...             ...  \n",
       "36368               8           0        0        4.000           0.000  \n",
       "36401              12           0        0        1.000           3.000  \n",
       "36425              12           0        0        1.000           1.000  \n",
       "36440               1          24        0        4.000           0.000  \n",
       "36449               5           0        0        1.000           1.000  \n",
       "\n",
       "[1521 rows x 22 columns]"
      ]
     },
     "execution_count": 123,
     "metadata": {},
     "output_type": "execute_result"
    }
   ],
   "source": [
    "model_pd2[(model_pd2.income < lowerbound) | (model_pd2.income > upperbound)]"
   ]
  },
  {
   "cell_type": "code",
   "execution_count": 124,
   "metadata": {},
   "outputs": [],
   "source": [
    "model_pd2.drop(model_pd2[ (model_pd2.income > upperbound) | (model_pd2.income < lowerbound) ].index , inplace=True)"
   ]
  },
  {
   "cell_type": "code",
   "execution_count": 125,
   "metadata": {},
   "outputs": [
    {
     "data": {
      "text/plain": [
       "(34928, 22)"
      ]
     },
     "execution_count": 125,
     "metadata": {},
     "output_type": "execute_result"
    }
   ],
   "source": [
    "model_pd2.shape"
   ]
  },
  {
   "cell_type": "code",
   "execution_count": 126,
   "metadata": {},
   "outputs": [
    {
     "data": {
      "text/plain": [
       "count    34928.000\n",
       "mean    172742.037\n",
       "std      71227.006\n",
       "min      27000.000\n",
       "25%     117000.000\n",
       "50%     157500.000\n",
       "75%     225000.000\n",
       "max     378000.000\n",
       "Name: income, dtype: float64"
      ]
     },
     "execution_count": 126,
     "metadata": {},
     "output_type": "execute_result"
    }
   ],
   "source": [
    "model_pd2[\"income\"].describe()"
   ]
  },
  {
   "cell_type": "markdown",
   "metadata": {},
   "source": [
    "#### Median income : 157500 and Average is 172742 after the Outlier Treatment"
   ]
  },
  {
   "cell_type": "code",
   "execution_count": 127,
   "metadata": {},
   "outputs": [
    {
     "data": {
      "text/plain": [
       "<AxesSubplot:>"
      ]
     },
     "execution_count": 127,
     "metadata": {},
     "output_type": "execute_result"
    },
    {
     "data": {
      "image/png": "[encoded data removed]",
      "text/plain": [
       "<Figure size 842.4x595.44 with 1 Axes>"
      ]
     },
     "metadata": {},
     "output_type": "display_data"
    }
   ],
   "source": [
    "model_pd2[\"income\"].plot(kind=\"box\")"
   ]
  },
  {
   "cell_type": "code",
   "execution_count": 128,
   "metadata": {},
   "outputs": [],
   "source": [
    "lowerbound,upperbound = outlier_treatment(model_pd2.chldno)"
   ]
  },
  {
   "cell_type": "code",
   "execution_count": 129,
   "metadata": {},
   "outputs": [
    {
     "data": {
      "text/html": [
       "<div>\n",
       "<style scoped>\n",
       "    .dataframe tbody tr th:only-of-type {\n",
       "        vertical-align: middle;\n",
       "    }\n",
       "\n",
       "    .dataframe tbody tr th {\n",
       "        vertical-align: top;\n",
       "    }\n",
       "\n",
       "    .dataframe thead th {\n",
       "        text-align: right;\n",
       "    }\n",
       "</style>\n",
       "<table border=\"1\" class=\"dataframe\">\n",
       "  <thead>\n",
       "    <tr style=\"text-align: right;\">\n",
       "      <th></th>\n",
       "      <th>id</th>\n",
       "      <th>gender</th>\n",
       "      <th>own_car</th>\n",
       "      <th>own_reality</th>\n",
       "      <th>chldno</th>\n",
       "      <th>income</th>\n",
       "      <th>income_type</th>\n",
       "      <th>edu_type</th>\n",
       "      <th>fam_status</th>\n",
       "      <th>house_type</th>\n",
       "      <th>...</th>\n",
       "      <th>phone</th>\n",
       "      <th>email</th>\n",
       "      <th>occu_type</th>\n",
       "      <th>fam_size</th>\n",
       "      <th>age</th>\n",
       "      <th>employed_years</th>\n",
       "      <th>months_bal</th>\n",
       "      <th>outcome</th>\n",
       "      <th>eduenc_type</th>\n",
       "      <th>income_type_ix</th>\n",
       "    </tr>\n",
       "  </thead>\n",
       "  <tbody>\n",
       "    <tr>\n",
       "      <th>209</th>\n",
       "      <td>5028975</td>\n",
       "      <td>F</td>\n",
       "      <td>Y</td>\n",
       "      <td>Y</td>\n",
       "      <td>3</td>\n",
       "      <td>180000.000</td>\n",
       "      <td>Commercial associate</td>\n",
       "      <td>Secondary / secondary special</td>\n",
       "      <td>Married</td>\n",
       "      <td>House / apartment</td>\n",
       "      <td>...</td>\n",
       "      <td>1</td>\n",
       "      <td>0</td>\n",
       "      <td>High skill tech staff</td>\n",
       "      <td>5.000</td>\n",
       "      <td>31</td>\n",
       "      <td>1</td>\n",
       "      <td>29</td>\n",
       "      <td>0</td>\n",
       "      <td>4.000</td>\n",
       "      <td>1.000</td>\n",
       "    </tr>\n",
       "    <tr>\n",
       "      <th>258</th>\n",
       "      <td>5067126</td>\n",
       "      <td>F</td>\n",
       "      <td>Y</td>\n",
       "      <td>Y</td>\n",
       "      <td>4</td>\n",
       "      <td>112500.000</td>\n",
       "      <td>Working</td>\n",
       "      <td>Secondary / secondary special</td>\n",
       "      <td>Married</td>\n",
       "      <td>House / apartment</td>\n",
       "      <td>...</td>\n",
       "      <td>0</td>\n",
       "      <td>0</td>\n",
       "      <td>Medicine staff</td>\n",
       "      <td>6.000</td>\n",
       "      <td>37</td>\n",
       "      <td>11</td>\n",
       "      <td>0</td>\n",
       "      <td>0</td>\n",
       "      <td>4.000</td>\n",
       "      <td>0.000</td>\n",
       "    </tr>\n",
       "    <tr>\n",
       "      <th>310</th>\n",
       "      <td>5116260</td>\n",
       "      <td>F</td>\n",
       "      <td>N</td>\n",
       "      <td>Y</td>\n",
       "      <td>4</td>\n",
       "      <td>180000.000</td>\n",
       "      <td>Commercial associate</td>\n",
       "      <td>Secondary / secondary special</td>\n",
       "      <td>Married</td>\n",
       "      <td>House / apartment</td>\n",
       "      <td>...</td>\n",
       "      <td>0</td>\n",
       "      <td>0</td>\n",
       "      <td>Core staff</td>\n",
       "      <td>6.000</td>\n",
       "      <td>47</td>\n",
       "      <td>20</td>\n",
       "      <td>3</td>\n",
       "      <td>0</td>\n",
       "      <td>4.000</td>\n",
       "      <td>1.000</td>\n",
       "    </tr>\n",
       "    <tr>\n",
       "      <th>318</th>\n",
       "      <td>5117356</td>\n",
       "      <td>F</td>\n",
       "      <td>N</td>\n",
       "      <td>Y</td>\n",
       "      <td>3</td>\n",
       "      <td>135000.000</td>\n",
       "      <td>Commercial associate</td>\n",
       "      <td>Secondary / secondary special</td>\n",
       "      <td>Married</td>\n",
       "      <td>House / apartment</td>\n",
       "      <td>...</td>\n",
       "      <td>0</td>\n",
       "      <td>0</td>\n",
       "      <td>Sales staff</td>\n",
       "      <td>5.000</td>\n",
       "      <td>33</td>\n",
       "      <td>6</td>\n",
       "      <td>0</td>\n",
       "      <td>0</td>\n",
       "      <td>4.000</td>\n",
       "      <td>1.000</td>\n",
       "    </tr>\n",
       "    <tr>\n",
       "      <th>778</th>\n",
       "      <td>5037208</td>\n",
       "      <td>M</td>\n",
       "      <td>N</td>\n",
       "      <td>Y</td>\n",
       "      <td>3</td>\n",
       "      <td>180000.000</td>\n",
       "      <td>Working</td>\n",
       "      <td>Secondary / secondary special</td>\n",
       "      <td>Married</td>\n",
       "      <td>House / apartment</td>\n",
       "      <td>...</td>\n",
       "      <td>1</td>\n",
       "      <td>0</td>\n",
       "      <td>Drivers</td>\n",
       "      <td>5.000</td>\n",
       "      <td>34</td>\n",
       "      <td>5</td>\n",
       "      <td>0</td>\n",
       "      <td>0</td>\n",
       "      <td>4.000</td>\n",
       "      <td>0.000</td>\n",
       "    </tr>\n",
       "    <tr>\n",
       "      <th>...</th>\n",
       "      <td>...</td>\n",
       "      <td>...</td>\n",
       "      <td>...</td>\n",
       "      <td>...</td>\n",
       "      <td>...</td>\n",
       "      <td>...</td>\n",
       "      <td>...</td>\n",
       "      <td>...</td>\n",
       "      <td>...</td>\n",
       "      <td>...</td>\n",
       "      <td>...</td>\n",
       "      <td>...</td>\n",
       "      <td>...</td>\n",
       "      <td>...</td>\n",
       "      <td>...</td>\n",
       "      <td>...</td>\n",
       "      <td>...</td>\n",
       "      <td>...</td>\n",
       "      <td>...</td>\n",
       "      <td>...</td>\n",
       "      <td>...</td>\n",
       "    </tr>\n",
       "    <tr>\n",
       "      <th>36192</th>\n",
       "      <td>5104944</td>\n",
       "      <td>F</td>\n",
       "      <td>N</td>\n",
       "      <td>Y</td>\n",
       "      <td>3</td>\n",
       "      <td>67500.000</td>\n",
       "      <td>Commercial associate</td>\n",
       "      <td>Secondary / secondary special</td>\n",
       "      <td>Married</td>\n",
       "      <td>House / apartment</td>\n",
       "      <td>...</td>\n",
       "      <td>1</td>\n",
       "      <td>0</td>\n",
       "      <td>Sales staff</td>\n",
       "      <td>5.000</td>\n",
       "      <td>45</td>\n",
       "      <td>1</td>\n",
       "      <td>13</td>\n",
       "      <td>0</td>\n",
       "      <td>4.000</td>\n",
       "      <td>1.000</td>\n",
       "    </tr>\n",
       "    <tr>\n",
       "      <th>36269</th>\n",
       "      <td>5023566</td>\n",
       "      <td>M</td>\n",
       "      <td>Y</td>\n",
       "      <td>Y</td>\n",
       "      <td>3</td>\n",
       "      <td>270000.000</td>\n",
       "      <td>Commercial associate</td>\n",
       "      <td>Secondary / secondary special</td>\n",
       "      <td>Married</td>\n",
       "      <td>House / apartment</td>\n",
       "      <td>...</td>\n",
       "      <td>1</td>\n",
       "      <td>0</td>\n",
       "      <td>Laborers</td>\n",
       "      <td>5.000</td>\n",
       "      <td>33</td>\n",
       "      <td>3</td>\n",
       "      <td>0</td>\n",
       "      <td>0</td>\n",
       "      <td>4.000</td>\n",
       "      <td>1.000</td>\n",
       "    </tr>\n",
       "    <tr>\n",
       "      <th>36343</th>\n",
       "      <td>5066850</td>\n",
       "      <td>M</td>\n",
       "      <td>Y</td>\n",
       "      <td>Y</td>\n",
       "      <td>3</td>\n",
       "      <td>202500.000</td>\n",
       "      <td>Working</td>\n",
       "      <td>Secondary / secondary special</td>\n",
       "      <td>Married</td>\n",
       "      <td>House / apartment</td>\n",
       "      <td>...</td>\n",
       "      <td>1</td>\n",
       "      <td>1</td>\n",
       "      <td>None</td>\n",
       "      <td>5.000</td>\n",
       "      <td>43</td>\n",
       "      <td>13</td>\n",
       "      <td>0</td>\n",
       "      <td>0</td>\n",
       "      <td>4.000</td>\n",
       "      <td>0.000</td>\n",
       "    </tr>\n",
       "    <tr>\n",
       "      <th>36416</th>\n",
       "      <td>5116675</td>\n",
       "      <td>M</td>\n",
       "      <td>Y</td>\n",
       "      <td>Y</td>\n",
       "      <td>3</td>\n",
       "      <td>270000.000</td>\n",
       "      <td>Working</td>\n",
       "      <td>Secondary / secondary special</td>\n",
       "      <td>Married</td>\n",
       "      <td>House / apartment</td>\n",
       "      <td>...</td>\n",
       "      <td>0</td>\n",
       "      <td>0</td>\n",
       "      <td>Laborers</td>\n",
       "      <td>5.000</td>\n",
       "      <td>36</td>\n",
       "      <td>1</td>\n",
       "      <td>0</td>\n",
       "      <td>0</td>\n",
       "      <td>4.000</td>\n",
       "      <td>0.000</td>\n",
       "    </tr>\n",
       "    <tr>\n",
       "      <th>36417</th>\n",
       "      <td>5116677</td>\n",
       "      <td>M</td>\n",
       "      <td>Y</td>\n",
       "      <td>Y</td>\n",
       "      <td>3</td>\n",
       "      <td>270000.000</td>\n",
       "      <td>Working</td>\n",
       "      <td>Secondary / secondary special</td>\n",
       "      <td>Married</td>\n",
       "      <td>House / apartment</td>\n",
       "      <td>...</td>\n",
       "      <td>0</td>\n",
       "      <td>0</td>\n",
       "      <td>Laborers</td>\n",
       "      <td>5.000</td>\n",
       "      <td>36</td>\n",
       "      <td>1</td>\n",
       "      <td>0</td>\n",
       "      <td>0</td>\n",
       "      <td>4.000</td>\n",
       "      <td>0.000</td>\n",
       "    </tr>\n",
       "  </tbody>\n",
       "</table>\n",
       "<p>473 rows × 22 columns</p>\n",
       "</div>"
      ],
      "text/plain": [
       "            id gender own_car own_reality  chldno     income  \\\n",
       "209    5028975      F       Y           Y       3 180000.000   \n",
       "258    5067126      F       Y           Y       4 112500.000   \n",
       "310    5116260      F       N           Y       4 180000.000   \n",
       "318    5117356      F       N           Y       3 135000.000   \n",
       "778    5037208      M       N           Y       3 180000.000   \n",
       "...        ...    ...     ...         ...     ...        ...   \n",
       "36192  5104944      F       N           Y       3  67500.000   \n",
       "36269  5023566      M       Y           Y       3 270000.000   \n",
       "36343  5066850      M       Y           Y       3 202500.000   \n",
       "36416  5116675      M       Y           Y       3 270000.000   \n",
       "36417  5116677      M       Y           Y       3 270000.000   \n",
       "\n",
       "                income_type                       edu_type fam_status  \\\n",
       "209    Commercial associate  Secondary / secondary special    Married   \n",
       "258                 Working  Secondary / secondary special    Married   \n",
       "310    Commercial associate  Secondary / secondary special    Married   \n",
       "318    Commercial associate  Secondary / secondary special    Married   \n",
       "778                 Working  Secondary / secondary special    Married   \n",
       "...                     ...                            ...        ...   \n",
       "36192  Commercial associate  Secondary / secondary special    Married   \n",
       "36269  Commercial associate  Secondary / secondary special    Married   \n",
       "36343               Working  Secondary / secondary special    Married   \n",
       "36416               Working  Secondary / secondary special    Married   \n",
       "36417               Working  Secondary / secondary special    Married   \n",
       "\n",
       "              house_type  ...  phone  email              occu_type  fam_size  \\\n",
       "209    House / apartment  ...      1      0  High skill tech staff     5.000   \n",
       "258    House / apartment  ...      0      0         Medicine staff     6.000   \n",
       "310    House / apartment  ...      0      0             Core staff     6.000   \n",
       "318    House / apartment  ...      0      0            Sales staff     5.000   \n",
       "778    House / apartment  ...      1      0                Drivers     5.000   \n",
       "...                  ...  ...    ...    ...                    ...       ...   \n",
       "36192  House / apartment  ...      1      0            Sales staff     5.000   \n",
       "36269  House / apartment  ...      1      0               Laborers     5.000   \n",
       "36343  House / apartment  ...      1      1                   None     5.000   \n",
       "36416  House / apartment  ...      0      0               Laborers     5.000   \n",
       "36417  House / apartment  ...      0      0               Laborers     5.000   \n",
       "\n",
       "      age  employed_years  months_bal  outcome  eduenc_type  income_type_ix  \n",
       "209    31               1          29        0        4.000           1.000  \n",
       "258    37              11           0        0        4.000           0.000  \n",
       "310    47              20           3        0        4.000           1.000  \n",
       "318    33               6           0        0        4.000           1.000  \n",
       "778    34               5           0        0        4.000           0.000  \n",
       "...    ..             ...         ...      ...          ...             ...  \n",
       "36192  45               1          13        0        4.000           1.000  \n",
       "36269  33               3           0        0        4.000           1.000  \n",
       "36343  43              13           0        0        4.000           0.000  \n",
       "36416  36               1           0        0        4.000           0.000  \n",
       "36417  36               1           0        0        4.000           0.000  \n",
       "\n",
       "[473 rows x 22 columns]"
      ]
     },
     "execution_count": 129,
     "metadata": {},
     "output_type": "execute_result"
    }
   ],
   "source": [
    "model_pd2[(model_pd2.chldno < lowerbound) | (model_pd2.chldno > upperbound)]"
   ]
  },
  {
   "cell_type": "code",
   "execution_count": 130,
   "metadata": {},
   "outputs": [
    {
     "data": {
      "text/plain": [
       "<AxesSubplot:>"
      ]
     },
     "execution_count": 130,
     "metadata": {},
     "output_type": "execute_result"
    },
    {
     "data": {
      "image/png": "[encoded data removed]",
      "text/plain": [
       "<Figure size 842.4x595.44 with 1 Axes>"
      ]
     },
     "metadata": {},
     "output_type": "display_data"
    }
   ],
   "source": [
    "model_pd2[\"chldno\"].plot(kind=\"box\")"
   ]
  },
  {
   "cell_type": "code",
   "execution_count": 131,
   "metadata": {},
   "outputs": [],
   "source": [
    "model_pd2.drop(model_pd2[ (model_pd2.chldno > upperbound) | (model_pd2.chldno < lowerbound) ].index , inplace=True)"
   ]
  },
  {
   "cell_type": "code",
   "execution_count": 132,
   "metadata": {},
   "outputs": [
    {
     "data": {
      "text/plain": [
       "<AxesSubplot:>"
      ]
     },
     "execution_count": 132,
     "metadata": {},
     "output_type": "execute_result"
    },
    {
     "data": {
      "image/png": "[encoded data removed]",
      "text/plain": [
       "<Figure size 842.4x595.44 with 1 Axes>"
      ]
     },
     "metadata": {},
     "output_type": "display_data"
    }
   ],
   "source": [
    "model_pd2[\"chldno\"].plot(kind=\"box\")"
   ]
  },
  {
   "cell_type": "code",
   "execution_count": 133,
   "metadata": {},
   "outputs": [
    {
     "data": {
      "text/plain": [
       "(34455, 22)"
      ]
     },
     "execution_count": 133,
     "metadata": {},
     "output_type": "execute_result"
    }
   ],
   "source": [
    "model_pd2.shape"
   ]
  },
  {
   "cell_type": "code",
   "execution_count": 134,
   "metadata": {},
   "outputs": [
    {
     "data": {
      "text/plain": [
       "count   34455.000\n",
       "mean        2.152\n",
       "std         0.831\n",
       "min         1.000\n",
       "25%         2.000\n",
       "50%         2.000\n",
       "75%         3.000\n",
       "max         4.000\n",
       "Name: fam_size, dtype: float64"
      ]
     },
     "execution_count": 134,
     "metadata": {},
     "output_type": "execute_result"
    }
   ],
   "source": [
    "model_pd2.fam_size.describe()"
   ]
  },
  {
   "cell_type": "code",
   "execution_count": 135,
   "metadata": {},
   "outputs": [
    {
     "data": {
      "text/plain": [
       "count   34455.000\n",
       "mean      180.744\n",
       "std       377.615\n",
       "min         0.000\n",
       "25%         3.000\n",
       "50%         6.000\n",
       "75%        16.000\n",
       "max      1000.000\n",
       "Name: employed_years, dtype: float64"
      ]
     },
     "execution_count": 135,
     "metadata": {},
     "output_type": "execute_result"
    }
   ],
   "source": [
    "### Employed years with 1000 data\n",
    "model_pd2[\"employed_years\"].describe()"
   ]
  },
  {
   "cell_type": "code",
   "execution_count": 136,
   "metadata": {},
   "outputs": [
    {
     "data": {
      "text/html": [
       "<div>\n",
       "<style scoped>\n",
       "    .dataframe tbody tr th:only-of-type {\n",
       "        vertical-align: middle;\n",
       "    }\n",
       "\n",
       "    .dataframe tbody tr th {\n",
       "        vertical-align: top;\n",
       "    }\n",
       "\n",
       "    .dataframe thead th {\n",
       "        text-align: right;\n",
       "    }\n",
       "</style>\n",
       "<table border=\"1\" class=\"dataframe\">\n",
       "  <thead>\n",
       "    <tr style=\"text-align: right;\">\n",
       "      <th></th>\n",
       "      <th>id</th>\n",
       "      <th>gender</th>\n",
       "      <th>own_car</th>\n",
       "      <th>own_reality</th>\n",
       "      <th>chldno</th>\n",
       "      <th>income</th>\n",
       "      <th>income_type</th>\n",
       "      <th>edu_type</th>\n",
       "      <th>fam_status</th>\n",
       "      <th>house_type</th>\n",
       "      <th>...</th>\n",
       "      <th>phone</th>\n",
       "      <th>email</th>\n",
       "      <th>occu_type</th>\n",
       "      <th>fam_size</th>\n",
       "      <th>age</th>\n",
       "      <th>employed_years</th>\n",
       "      <th>months_bal</th>\n",
       "      <th>outcome</th>\n",
       "      <th>eduenc_type</th>\n",
       "      <th>income_type_ix</th>\n",
       "    </tr>\n",
       "  </thead>\n",
       "  <tbody>\n",
       "    <tr>\n",
       "      <th>0</th>\n",
       "      <td>5009033</td>\n",
       "      <td>F</td>\n",
       "      <td>N</td>\n",
       "      <td>N</td>\n",
       "      <td>0</td>\n",
       "      <td>255150.000</td>\n",
       "      <td>Pensioner</td>\n",
       "      <td>Incomplete higher</td>\n",
       "      <td>Civil marriage</td>\n",
       "      <td>Rented apartment</td>\n",
       "      <td>...</td>\n",
       "      <td>0</td>\n",
       "      <td>0</td>\n",
       "      <td>None</td>\n",
       "      <td>2.000</td>\n",
       "      <td>51</td>\n",
       "      <td>1000</td>\n",
       "      <td>0</td>\n",
       "      <td>0</td>\n",
       "      <td>2.000</td>\n",
       "      <td>2.000</td>\n",
       "    </tr>\n",
       "    <tr>\n",
       "      <th>1</th>\n",
       "      <td>5009304</td>\n",
       "      <td>F</td>\n",
       "      <td>N</td>\n",
       "      <td>N</td>\n",
       "      <td>0</td>\n",
       "      <td>112500.000</td>\n",
       "      <td>Pensioner</td>\n",
       "      <td>Secondary / secondary special</td>\n",
       "      <td>Widow</td>\n",
       "      <td>House / apartment</td>\n",
       "      <td>...</td>\n",
       "      <td>0</td>\n",
       "      <td>0</td>\n",
       "      <td>None</td>\n",
       "      <td>1.000</td>\n",
       "      <td>60</td>\n",
       "      <td>1000</td>\n",
       "      <td>0</td>\n",
       "      <td>0</td>\n",
       "      <td>4.000</td>\n",
       "      <td>2.000</td>\n",
       "    </tr>\n",
       "    <tr>\n",
       "      <th>6</th>\n",
       "      <td>5010338</td>\n",
       "      <td>F</td>\n",
       "      <td>N</td>\n",
       "      <td>N</td>\n",
       "      <td>0</td>\n",
       "      <td>216000.000</td>\n",
       "      <td>Pensioner</td>\n",
       "      <td>Secondary / secondary special</td>\n",
       "      <td>Married</td>\n",
       "      <td>House / apartment</td>\n",
       "      <td>...</td>\n",
       "      <td>0</td>\n",
       "      <td>0</td>\n",
       "      <td>None</td>\n",
       "      <td>2.000</td>\n",
       "      <td>62</td>\n",
       "      <td>1000</td>\n",
       "      <td>0</td>\n",
       "      <td>0</td>\n",
       "      <td>4.000</td>\n",
       "      <td>2.000</td>\n",
       "    </tr>\n",
       "    <tr>\n",
       "      <th>8</th>\n",
       "      <td>5010624</td>\n",
       "      <td>F</td>\n",
       "      <td>N</td>\n",
       "      <td>Y</td>\n",
       "      <td>0</td>\n",
       "      <td>103500.000</td>\n",
       "      <td>Pensioner</td>\n",
       "      <td>Incomplete higher</td>\n",
       "      <td>Married</td>\n",
       "      <td>House / apartment</td>\n",
       "      <td>...</td>\n",
       "      <td>1</td>\n",
       "      <td>0</td>\n",
       "      <td>None</td>\n",
       "      <td>2.000</td>\n",
       "      <td>60</td>\n",
       "      <td>1000</td>\n",
       "      <td>0</td>\n",
       "      <td>0</td>\n",
       "      <td>2.000</td>\n",
       "      <td>2.000</td>\n",
       "    </tr>\n",
       "    <tr>\n",
       "      <th>19</th>\n",
       "      <td>5023430</td>\n",
       "      <td>F</td>\n",
       "      <td>N</td>\n",
       "      <td>Y</td>\n",
       "      <td>0</td>\n",
       "      <td>108000.000</td>\n",
       "      <td>Pensioner</td>\n",
       "      <td>Secondary / secondary special</td>\n",
       "      <td>Married</td>\n",
       "      <td>House / apartment</td>\n",
       "      <td>...</td>\n",
       "      <td>1</td>\n",
       "      <td>0</td>\n",
       "      <td>None</td>\n",
       "      <td>2.000</td>\n",
       "      <td>63</td>\n",
       "      <td>1000</td>\n",
       "      <td>0</td>\n",
       "      <td>0</td>\n",
       "      <td>4.000</td>\n",
       "      <td>2.000</td>\n",
       "    </tr>\n",
       "    <tr>\n",
       "      <th>...</th>\n",
       "      <td>...</td>\n",
       "      <td>...</td>\n",
       "      <td>...</td>\n",
       "      <td>...</td>\n",
       "      <td>...</td>\n",
       "      <td>...</td>\n",
       "      <td>...</td>\n",
       "      <td>...</td>\n",
       "      <td>...</td>\n",
       "      <td>...</td>\n",
       "      <td>...</td>\n",
       "      <td>...</td>\n",
       "      <td>...</td>\n",
       "      <td>...</td>\n",
       "      <td>...</td>\n",
       "      <td>...</td>\n",
       "      <td>...</td>\n",
       "      <td>...</td>\n",
       "      <td>...</td>\n",
       "      <td>...</td>\n",
       "      <td>...</td>\n",
       "    </tr>\n",
       "    <tr>\n",
       "      <th>36412</th>\n",
       "      <td>5115767</td>\n",
       "      <td>F</td>\n",
       "      <td>N</td>\n",
       "      <td>Y</td>\n",
       "      <td>0</td>\n",
       "      <td>135000.000</td>\n",
       "      <td>Pensioner</td>\n",
       "      <td>Higher education</td>\n",
       "      <td>Married</td>\n",
       "      <td>House / apartment</td>\n",
       "      <td>...</td>\n",
       "      <td>0</td>\n",
       "      <td>0</td>\n",
       "      <td>None</td>\n",
       "      <td>2.000</td>\n",
       "      <td>56</td>\n",
       "      <td>1000</td>\n",
       "      <td>0</td>\n",
       "      <td>0</td>\n",
       "      <td>1.000</td>\n",
       "      <td>2.000</td>\n",
       "    </tr>\n",
       "    <tr>\n",
       "      <th>36422</th>\n",
       "      <td>5118377</td>\n",
       "      <td>F</td>\n",
       "      <td>N</td>\n",
       "      <td>N</td>\n",
       "      <td>0</td>\n",
       "      <td>90000.000</td>\n",
       "      <td>Pensioner</td>\n",
       "      <td>Secondary / secondary special</td>\n",
       "      <td>Married</td>\n",
       "      <td>House / apartment</td>\n",
       "      <td>...</td>\n",
       "      <td>1</td>\n",
       "      <td>0</td>\n",
       "      <td>None</td>\n",
       "      <td>2.000</td>\n",
       "      <td>56</td>\n",
       "      <td>1000</td>\n",
       "      <td>0</td>\n",
       "      <td>0</td>\n",
       "      <td>4.000</td>\n",
       "      <td>2.000</td>\n",
       "    </tr>\n",
       "    <tr>\n",
       "      <th>36430</th>\n",
       "      <td>5126185</td>\n",
       "      <td>F</td>\n",
       "      <td>N</td>\n",
       "      <td>N</td>\n",
       "      <td>0</td>\n",
       "      <td>94500.000</td>\n",
       "      <td>Pensioner</td>\n",
       "      <td>Secondary / secondary special</td>\n",
       "      <td>Married</td>\n",
       "      <td>House / apartment</td>\n",
       "      <td>...</td>\n",
       "      <td>1</td>\n",
       "      <td>1</td>\n",
       "      <td>None</td>\n",
       "      <td>2.000</td>\n",
       "      <td>58</td>\n",
       "      <td>1000</td>\n",
       "      <td>0</td>\n",
       "      <td>0</td>\n",
       "      <td>4.000</td>\n",
       "      <td>2.000</td>\n",
       "    </tr>\n",
       "    <tr>\n",
       "      <th>36436</th>\n",
       "      <td>5139432</td>\n",
       "      <td>F</td>\n",
       "      <td>N</td>\n",
       "      <td>Y</td>\n",
       "      <td>0</td>\n",
       "      <td>135000.000</td>\n",
       "      <td>Pensioner</td>\n",
       "      <td>Secondary / secondary special</td>\n",
       "      <td>Separated</td>\n",
       "      <td>House / apartment</td>\n",
       "      <td>...</td>\n",
       "      <td>0</td>\n",
       "      <td>0</td>\n",
       "      <td>None</td>\n",
       "      <td>1.000</td>\n",
       "      <td>59</td>\n",
       "      <td>1000</td>\n",
       "      <td>0</td>\n",
       "      <td>0</td>\n",
       "      <td>4.000</td>\n",
       "      <td>2.000</td>\n",
       "    </tr>\n",
       "    <tr>\n",
       "      <th>36450</th>\n",
       "      <td>5148574</td>\n",
       "      <td>F</td>\n",
       "      <td>N</td>\n",
       "      <td>Y</td>\n",
       "      <td>0</td>\n",
       "      <td>81000.000</td>\n",
       "      <td>Pensioner</td>\n",
       "      <td>Secondary / secondary special</td>\n",
       "      <td>Married</td>\n",
       "      <td>House / apartment</td>\n",
       "      <td>...</td>\n",
       "      <td>0</td>\n",
       "      <td>0</td>\n",
       "      <td>None</td>\n",
       "      <td>2.000</td>\n",
       "      <td>57</td>\n",
       "      <td>1000</td>\n",
       "      <td>52</td>\n",
       "      <td>0</td>\n",
       "      <td>4.000</td>\n",
       "      <td>2.000</td>\n",
       "    </tr>\n",
       "  </tbody>\n",
       "</table>\n",
       "<p>6036 rows × 22 columns</p>\n",
       "</div>"
      ],
      "text/plain": [
       "            id gender own_car own_reality  chldno     income income_type  \\\n",
       "0      5009033      F       N           N       0 255150.000   Pensioner   \n",
       "1      5009304      F       N           N       0 112500.000   Pensioner   \n",
       "6      5010338      F       N           N       0 216000.000   Pensioner   \n",
       "8      5010624      F       N           Y       0 103500.000   Pensioner   \n",
       "19     5023430      F       N           Y       0 108000.000   Pensioner   \n",
       "...        ...    ...     ...         ...     ...        ...         ...   \n",
       "36412  5115767      F       N           Y       0 135000.000   Pensioner   \n",
       "36422  5118377      F       N           N       0  90000.000   Pensioner   \n",
       "36430  5126185      F       N           N       0  94500.000   Pensioner   \n",
       "36436  5139432      F       N           Y       0 135000.000   Pensioner   \n",
       "36450  5148574      F       N           Y       0  81000.000   Pensioner   \n",
       "\n",
       "                            edu_type      fam_status         house_type  ...  \\\n",
       "0                  Incomplete higher  Civil marriage   Rented apartment  ...   \n",
       "1      Secondary / secondary special           Widow  House / apartment  ...   \n",
       "6      Secondary / secondary special         Married  House / apartment  ...   \n",
       "8                  Incomplete higher         Married  House / apartment  ...   \n",
       "19     Secondary / secondary special         Married  House / apartment  ...   \n",
       "...                              ...             ...                ...  ...   \n",
       "36412               Higher education         Married  House / apartment  ...   \n",
       "36422  Secondary / secondary special         Married  House / apartment  ...   \n",
       "36430  Secondary / secondary special         Married  House / apartment  ...   \n",
       "36436  Secondary / secondary special       Separated  House / apartment  ...   \n",
       "36450  Secondary / secondary special         Married  House / apartment  ...   \n",
       "\n",
       "       phone  email  occu_type  fam_size age  employed_years  months_bal  \\\n",
       "0          0      0       None     2.000  51            1000           0   \n",
       "1          0      0       None     1.000  60            1000           0   \n",
       "6          0      0       None     2.000  62            1000           0   \n",
       "8          1      0       None     2.000  60            1000           0   \n",
       "19         1      0       None     2.000  63            1000           0   \n",
       "...      ...    ...        ...       ...  ..             ...         ...   \n",
       "36412      0      0       None     2.000  56            1000           0   \n",
       "36422      1      0       None     2.000  56            1000           0   \n",
       "36430      1      1       None     2.000  58            1000           0   \n",
       "36436      0      0       None     1.000  59            1000           0   \n",
       "36450      0      0       None     2.000  57            1000          52   \n",
       "\n",
       "       outcome  eduenc_type  income_type_ix  \n",
       "0            0        2.000           2.000  \n",
       "1            0        4.000           2.000  \n",
       "6            0        4.000           2.000  \n",
       "8            0        2.000           2.000  \n",
       "19           0        4.000           2.000  \n",
       "...        ...          ...             ...  \n",
       "36412        0        1.000           2.000  \n",
       "36422        0        4.000           2.000  \n",
       "36430        0        4.000           2.000  \n",
       "36436        0        4.000           2.000  \n",
       "36450        0        4.000           2.000  \n",
       "\n",
       "[6036 rows x 22 columns]"
      ]
     },
     "execution_count": 136,
     "metadata": {},
     "output_type": "execute_result"
    }
   ],
   "source": [
    "model_pd2[model_pd2.employed_years == 1000]"
   ]
  },
  {
   "cell_type": "code",
   "execution_count": 137,
   "metadata": {},
   "outputs": [
    {
     "data": {
      "text/plain": [
       "Working                 17828\n",
       "Commercial associate     7801\n",
       "Pensioner                6049\n",
       "State servant            2766\n",
       "Student                    11\n",
       "Name: income_type, dtype: int64"
      ]
     },
     "execution_count": 137,
     "metadata": {},
     "output_type": "execute_result"
    }
   ],
   "source": [
    "## All these seems to be pensioner so taking mean of pensioner lets impute this with median \n",
    "\n",
    "model_pd2[\"income_type\"].value_counts()"
   ]
  },
  {
   "cell_type": "code",
   "execution_count": 138,
   "metadata": {},
   "outputs": [
    {
     "data": {
      "text/plain": [
       "(34455, 22)"
      ]
     },
     "execution_count": 138,
     "metadata": {},
     "output_type": "execute_result"
    }
   ],
   "source": [
    "model_pd2.shape"
   ]
  },
  {
   "cell_type": "code",
   "execution_count": 139,
   "metadata": {},
   "outputs": [
    {
     "data": {
      "text/plain": [
       "17.518502394427514"
      ]
     },
     "execution_count": 139,
     "metadata": {},
     "output_type": "execute_result"
    }
   ],
   "source": [
    "(6036/34455)*100"
   ]
  },
  {
   "cell_type": "code",
   "execution_count": 140,
   "metadata": {},
   "outputs": [
    {
     "data": {
      "text/plain": [
       "28419"
      ]
     },
     "execution_count": 140,
     "metadata": {},
     "output_type": "execute_result"
    }
   ],
   "source": [
    "34455-6036"
   ]
  },
  {
   "cell_type": "code",
   "execution_count": 141,
   "metadata": {},
   "outputs": [],
   "source": [
    "#dropping these outliers\n",
    "model_pd2.drop(model_pd2[model_pd2.employed_years == 1000].index,inplace=True)"
   ]
  },
  {
   "cell_type": "code",
   "execution_count": 142,
   "metadata": {},
   "outputs": [
    {
     "data": {
      "text/plain": [
       "(28419, 22)"
      ]
     },
     "execution_count": 142,
     "metadata": {},
     "output_type": "execute_result"
    }
   ],
   "source": [
    "model_pd2.shape"
   ]
  },
  {
   "cell_type": "code",
   "execution_count": 143,
   "metadata": {},
   "outputs": [
    {
     "data": {
      "text/plain": [
       "count   28419.000\n",
       "mean        6.740\n",
       "std         6.528\n",
       "min         0.000\n",
       "25%         2.000\n",
       "50%         5.000\n",
       "75%         9.000\n",
       "max        43.000\n",
       "Name: employed_years, dtype: float64"
      ]
     },
     "execution_count": 143,
     "metadata": {},
     "output_type": "execute_result"
    }
   ],
   "source": [
    "model_pd2[\"employed_years\"].describe()"
   ]
  },
  {
   "cell_type": "code",
   "execution_count": 144,
   "metadata": {},
   "outputs": [],
   "source": [
    "lowerbound,upperbound = outlier_treatment(model_pd2.employed_years)"
   ]
  },
  {
   "cell_type": "code",
   "execution_count": 145,
   "metadata": {},
   "outputs": [
    {
     "data": {
      "text/html": [
       "<div>\n",
       "<style scoped>\n",
       "    .dataframe tbody tr th:only-of-type {\n",
       "        vertical-align: middle;\n",
       "    }\n",
       "\n",
       "    .dataframe tbody tr th {\n",
       "        vertical-align: top;\n",
       "    }\n",
       "\n",
       "    .dataframe thead th {\n",
       "        text-align: right;\n",
       "    }\n",
       "</style>\n",
       "<table border=\"1\" class=\"dataframe\">\n",
       "  <thead>\n",
       "    <tr style=\"text-align: right;\">\n",
       "      <th></th>\n",
       "      <th>id</th>\n",
       "      <th>gender</th>\n",
       "      <th>own_car</th>\n",
       "      <th>own_reality</th>\n",
       "      <th>chldno</th>\n",
       "      <th>income</th>\n",
       "      <th>income_type</th>\n",
       "      <th>edu_type</th>\n",
       "      <th>fam_status</th>\n",
       "      <th>house_type</th>\n",
       "      <th>...</th>\n",
       "      <th>phone</th>\n",
       "      <th>email</th>\n",
       "      <th>occu_type</th>\n",
       "      <th>fam_size</th>\n",
       "      <th>age</th>\n",
       "      <th>employed_years</th>\n",
       "      <th>months_bal</th>\n",
       "      <th>outcome</th>\n",
       "      <th>eduenc_type</th>\n",
       "      <th>income_type_ix</th>\n",
       "    </tr>\n",
       "  </thead>\n",
       "  <tbody>\n",
       "    <tr>\n",
       "      <th>83</th>\n",
       "      <td>5068039</td>\n",
       "      <td>F</td>\n",
       "      <td>N</td>\n",
       "      <td>N</td>\n",
       "      <td>0</td>\n",
       "      <td>112500.000</td>\n",
       "      <td>State servant</td>\n",
       "      <td>Secondary / secondary special</td>\n",
       "      <td>Married</td>\n",
       "      <td>With parents</td>\n",
       "      <td>...</td>\n",
       "      <td>0</td>\n",
       "      <td>0</td>\n",
       "      <td>Medicine staff</td>\n",
       "      <td>2.000</td>\n",
       "      <td>47</td>\n",
       "      <td>25</td>\n",
       "      <td>0</td>\n",
       "      <td>0</td>\n",
       "      <td>4.000</td>\n",
       "      <td>3.000</td>\n",
       "    </tr>\n",
       "    <tr>\n",
       "      <th>96</th>\n",
       "      <td>5074703</td>\n",
       "      <td>F</td>\n",
       "      <td>N</td>\n",
       "      <td>Y</td>\n",
       "      <td>0</td>\n",
       "      <td>157500.000</td>\n",
       "      <td>Working</td>\n",
       "      <td>Higher education</td>\n",
       "      <td>Single / not married</td>\n",
       "      <td>House / apartment</td>\n",
       "      <td>...</td>\n",
       "      <td>0</td>\n",
       "      <td>0</td>\n",
       "      <td>Laborers</td>\n",
       "      <td>1.000</td>\n",
       "      <td>60</td>\n",
       "      <td>29</td>\n",
       "      <td>44</td>\n",
       "      <td>0</td>\n",
       "      <td>1.000</td>\n",
       "      <td>0.000</td>\n",
       "    </tr>\n",
       "    <tr>\n",
       "      <th>137</th>\n",
       "      <td>5112603</td>\n",
       "      <td>F</td>\n",
       "      <td>N</td>\n",
       "      <td>Y</td>\n",
       "      <td>0</td>\n",
       "      <td>103500.000</td>\n",
       "      <td>Working</td>\n",
       "      <td>Secondary / secondary special</td>\n",
       "      <td>Married</td>\n",
       "      <td>House / apartment</td>\n",
       "      <td>...</td>\n",
       "      <td>1</td>\n",
       "      <td>0</td>\n",
       "      <td>Managers</td>\n",
       "      <td>2.000</td>\n",
       "      <td>61</td>\n",
       "      <td>35</td>\n",
       "      <td>0</td>\n",
       "      <td>0</td>\n",
       "      <td>4.000</td>\n",
       "      <td>0.000</td>\n",
       "    </tr>\n",
       "    <tr>\n",
       "      <th>142</th>\n",
       "      <td>5114052</td>\n",
       "      <td>F</td>\n",
       "      <td>N</td>\n",
       "      <td>N</td>\n",
       "      <td>0</td>\n",
       "      <td>90000.000</td>\n",
       "      <td>Working</td>\n",
       "      <td>Secondary / secondary special</td>\n",
       "      <td>Married</td>\n",
       "      <td>House / apartment</td>\n",
       "      <td>...</td>\n",
       "      <td>0</td>\n",
       "      <td>0</td>\n",
       "      <td>None</td>\n",
       "      <td>2.000</td>\n",
       "      <td>51</td>\n",
       "      <td>21</td>\n",
       "      <td>0</td>\n",
       "      <td>0</td>\n",
       "      <td>4.000</td>\n",
       "      <td>0.000</td>\n",
       "    </tr>\n",
       "    <tr>\n",
       "      <th>175</th>\n",
       "      <td>5148461</td>\n",
       "      <td>F</td>\n",
       "      <td>N</td>\n",
       "      <td>N</td>\n",
       "      <td>0</td>\n",
       "      <td>135000.000</td>\n",
       "      <td>Working</td>\n",
       "      <td>Secondary / secondary special</td>\n",
       "      <td>Civil marriage</td>\n",
       "      <td>House / apartment</td>\n",
       "      <td>...</td>\n",
       "      <td>0</td>\n",
       "      <td>0</td>\n",
       "      <td>Laborers</td>\n",
       "      <td>2.000</td>\n",
       "      <td>52</td>\n",
       "      <td>29</td>\n",
       "      <td>26</td>\n",
       "      <td>0</td>\n",
       "      <td>4.000</td>\n",
       "      <td>0.000</td>\n",
       "    </tr>\n",
       "    <tr>\n",
       "      <th>...</th>\n",
       "      <td>...</td>\n",
       "      <td>...</td>\n",
       "      <td>...</td>\n",
       "      <td>...</td>\n",
       "      <td>...</td>\n",
       "      <td>...</td>\n",
       "      <td>...</td>\n",
       "      <td>...</td>\n",
       "      <td>...</td>\n",
       "      <td>...</td>\n",
       "      <td>...</td>\n",
       "      <td>...</td>\n",
       "      <td>...</td>\n",
       "      <td>...</td>\n",
       "      <td>...</td>\n",
       "      <td>...</td>\n",
       "      <td>...</td>\n",
       "      <td>...</td>\n",
       "      <td>...</td>\n",
       "      <td>...</td>\n",
       "      <td>...</td>\n",
       "    </tr>\n",
       "    <tr>\n",
       "      <th>36321</th>\n",
       "      <td>5050487</td>\n",
       "      <td>F</td>\n",
       "      <td>N</td>\n",
       "      <td>N</td>\n",
       "      <td>0</td>\n",
       "      <td>292500.000</td>\n",
       "      <td>Commercial associate</td>\n",
       "      <td>Secondary / secondary special</td>\n",
       "      <td>Civil marriage</td>\n",
       "      <td>House / apartment</td>\n",
       "      <td>...</td>\n",
       "      <td>0</td>\n",
       "      <td>0</td>\n",
       "      <td>Laborers</td>\n",
       "      <td>2.000</td>\n",
       "      <td>51</td>\n",
       "      <td>29</td>\n",
       "      <td>26</td>\n",
       "      <td>0</td>\n",
       "      <td>4.000</td>\n",
       "      <td>1.000</td>\n",
       "    </tr>\n",
       "    <tr>\n",
       "      <th>36329</th>\n",
       "      <td>5058398</td>\n",
       "      <td>F</td>\n",
       "      <td>N</td>\n",
       "      <td>Y</td>\n",
       "      <td>0</td>\n",
       "      <td>54000.000</td>\n",
       "      <td>Working</td>\n",
       "      <td>Secondary / secondary special</td>\n",
       "      <td>Married</td>\n",
       "      <td>House / apartment</td>\n",
       "      <td>...</td>\n",
       "      <td>1</td>\n",
       "      <td>0</td>\n",
       "      <td>None</td>\n",
       "      <td>2.000</td>\n",
       "      <td>51</td>\n",
       "      <td>21</td>\n",
       "      <td>0</td>\n",
       "      <td>0</td>\n",
       "      <td>4.000</td>\n",
       "      <td>0.000</td>\n",
       "    </tr>\n",
       "    <tr>\n",
       "      <th>36357</th>\n",
       "      <td>5086062</td>\n",
       "      <td>F</td>\n",
       "      <td>N</td>\n",
       "      <td>Y</td>\n",
       "      <td>0</td>\n",
       "      <td>135000.000</td>\n",
       "      <td>State servant</td>\n",
       "      <td>Secondary / secondary special</td>\n",
       "      <td>Married</td>\n",
       "      <td>House / apartment</td>\n",
       "      <td>...</td>\n",
       "      <td>1</td>\n",
       "      <td>0</td>\n",
       "      <td>Core staff</td>\n",
       "      <td>2.000</td>\n",
       "      <td>56</td>\n",
       "      <td>25</td>\n",
       "      <td>29</td>\n",
       "      <td>0</td>\n",
       "      <td>4.000</td>\n",
       "      <td>3.000</td>\n",
       "    </tr>\n",
       "    <tr>\n",
       "      <th>36373</th>\n",
       "      <td>5091092</td>\n",
       "      <td>F</td>\n",
       "      <td>N</td>\n",
       "      <td>Y</td>\n",
       "      <td>2</td>\n",
       "      <td>112500.000</td>\n",
       "      <td>Working</td>\n",
       "      <td>Higher education</td>\n",
       "      <td>Married</td>\n",
       "      <td>House / apartment</td>\n",
       "      <td>...</td>\n",
       "      <td>0</td>\n",
       "      <td>0</td>\n",
       "      <td>None</td>\n",
       "      <td>4.000</td>\n",
       "      <td>53</td>\n",
       "      <td>30</td>\n",
       "      <td>0</td>\n",
       "      <td>0</td>\n",
       "      <td>1.000</td>\n",
       "      <td>0.000</td>\n",
       "    </tr>\n",
       "    <tr>\n",
       "      <th>36407</th>\n",
       "      <td>5114550</td>\n",
       "      <td>F</td>\n",
       "      <td>N</td>\n",
       "      <td>Y</td>\n",
       "      <td>1</td>\n",
       "      <td>135000.000</td>\n",
       "      <td>Commercial associate</td>\n",
       "      <td>Secondary / secondary special</td>\n",
       "      <td>Widow</td>\n",
       "      <td>Municipal apartment</td>\n",
       "      <td>...</td>\n",
       "      <td>0</td>\n",
       "      <td>0</td>\n",
       "      <td>Core staff</td>\n",
       "      <td>2.000</td>\n",
       "      <td>46</td>\n",
       "      <td>26</td>\n",
       "      <td>0</td>\n",
       "      <td>0</td>\n",
       "      <td>4.000</td>\n",
       "      <td>1.000</td>\n",
       "    </tr>\n",
       "  </tbody>\n",
       "</table>\n",
       "<p>1687 rows × 22 columns</p>\n",
       "</div>"
      ],
      "text/plain": [
       "            id gender own_car own_reality  chldno     income  \\\n",
       "83     5068039      F       N           N       0 112500.000   \n",
       "96     5074703      F       N           Y       0 157500.000   \n",
       "137    5112603      F       N           Y       0 103500.000   \n",
       "142    5114052      F       N           N       0  90000.000   \n",
       "175    5148461      F       N           N       0 135000.000   \n",
       "...        ...    ...     ...         ...     ...        ...   \n",
       "36321  5050487      F       N           N       0 292500.000   \n",
       "36329  5058398      F       N           Y       0  54000.000   \n",
       "36357  5086062      F       N           Y       0 135000.000   \n",
       "36373  5091092      F       N           Y       2 112500.000   \n",
       "36407  5114550      F       N           Y       1 135000.000   \n",
       "\n",
       "                income_type                       edu_type  \\\n",
       "83            State servant  Secondary / secondary special   \n",
       "96                  Working               Higher education   \n",
       "137                 Working  Secondary / secondary special   \n",
       "142                 Working  Secondary / secondary special   \n",
       "175                 Working  Secondary / secondary special   \n",
       "...                     ...                            ...   \n",
       "36321  Commercial associate  Secondary / secondary special   \n",
       "36329               Working  Secondary / secondary special   \n",
       "36357         State servant  Secondary / secondary special   \n",
       "36373               Working               Higher education   \n",
       "36407  Commercial associate  Secondary / secondary special   \n",
       "\n",
       "                 fam_status           house_type  ...  phone  email  \\\n",
       "83                  Married         With parents  ...      0      0   \n",
       "96     Single / not married    House / apartment  ...      0      0   \n",
       "137                 Married    House / apartment  ...      1      0   \n",
       "142                 Married    House / apartment  ...      0      0   \n",
       "175          Civil marriage    House / apartment  ...      0      0   \n",
       "...                     ...                  ...  ...    ...    ...   \n",
       "36321        Civil marriage    House / apartment  ...      0      0   \n",
       "36329               Married    House / apartment  ...      1      0   \n",
       "36357               Married    House / apartment  ...      1      0   \n",
       "36373               Married    House / apartment  ...      0      0   \n",
       "36407                 Widow  Municipal apartment  ...      0      0   \n",
       "\n",
       "            occu_type  fam_size age  employed_years  months_bal  outcome  \\\n",
       "83     Medicine staff     2.000  47              25           0        0   \n",
       "96           Laborers     1.000  60              29          44        0   \n",
       "137          Managers     2.000  61              35           0        0   \n",
       "142              None     2.000  51              21           0        0   \n",
       "175          Laborers     2.000  52              29          26        0   \n",
       "...               ...       ...  ..             ...         ...      ...   \n",
       "36321        Laborers     2.000  51              29          26        0   \n",
       "36329            None     2.000  51              21           0        0   \n",
       "36357      Core staff     2.000  56              25          29        0   \n",
       "36373            None     4.000  53              30           0        0   \n",
       "36407      Core staff     2.000  46              26           0        0   \n",
       "\n",
       "       eduenc_type  income_type_ix  \n",
       "83           4.000           3.000  \n",
       "96           1.000           0.000  \n",
       "137          4.000           0.000  \n",
       "142          4.000           0.000  \n",
       "175          4.000           0.000  \n",
       "...            ...             ...  \n",
       "36321        4.000           1.000  \n",
       "36329        4.000           0.000  \n",
       "36357        4.000           3.000  \n",
       "36373        1.000           0.000  \n",
       "36407        4.000           1.000  \n",
       "\n",
       "[1687 rows x 22 columns]"
      ]
     },
     "execution_count": 145,
     "metadata": {},
     "output_type": "execute_result"
    }
   ],
   "source": [
    "model_pd2[(model_pd2.employed_years < lowerbound) | (model_pd2.employed_years > upperbound)]"
   ]
  },
  {
   "cell_type": "code",
   "execution_count": 146,
   "metadata": {},
   "outputs": [],
   "source": [
    "model_pd2.drop(model_pd2[ (model_pd2.employed_years > upperbound) | (model_pd2.employed_years < lowerbound) ].index , inplace=True)"
   ]
  },
  {
   "cell_type": "code",
   "execution_count": 147,
   "metadata": {},
   "outputs": [
    {
     "data": {
      "text/plain": [
       "(26732, 22)"
      ]
     },
     "execution_count": 147,
     "metadata": {},
     "output_type": "execute_result"
    }
   ],
   "source": [
    "model_pd2.shape"
   ]
  },
  {
   "cell_type": "code",
   "execution_count": 148,
   "metadata": {},
   "outputs": [
    {
     "data": {
      "text/html": [
       "<div>\n",
       "<style scoped>\n",
       "    .dataframe tbody tr th:only-of-type {\n",
       "        vertical-align: middle;\n",
       "    }\n",
       "\n",
       "    .dataframe tbody tr th {\n",
       "        vertical-align: top;\n",
       "    }\n",
       "\n",
       "    .dataframe thead th {\n",
       "        text-align: right;\n",
       "    }\n",
       "</style>\n",
       "<table border=\"1\" class=\"dataframe\">\n",
       "  <thead>\n",
       "    <tr style=\"text-align: right;\">\n",
       "      <th></th>\n",
       "      <th>id</th>\n",
       "      <th>gender</th>\n",
       "      <th>own_car</th>\n",
       "      <th>own_reality</th>\n",
       "      <th>chldno</th>\n",
       "      <th>income</th>\n",
       "      <th>income_type</th>\n",
       "      <th>edu_type</th>\n",
       "      <th>fam_status</th>\n",
       "      <th>house_type</th>\n",
       "      <th>...</th>\n",
       "      <th>phone</th>\n",
       "      <th>email</th>\n",
       "      <th>occu_type</th>\n",
       "      <th>fam_size</th>\n",
       "      <th>age</th>\n",
       "      <th>employed_years</th>\n",
       "      <th>months_bal</th>\n",
       "      <th>outcome</th>\n",
       "      <th>eduenc_type</th>\n",
       "      <th>income_type_ix</th>\n",
       "    </tr>\n",
       "  </thead>\n",
       "  <tbody>\n",
       "    <tr>\n",
       "      <th>9</th>\n",
       "      <td>5010629</td>\n",
       "      <td>F</td>\n",
       "      <td>N</td>\n",
       "      <td>Y</td>\n",
       "      <td>0</td>\n",
       "      <td>180000.000</td>\n",
       "      <td>Working</td>\n",
       "      <td>Secondary / secondary special</td>\n",
       "      <td>Single / not married</td>\n",
       "      <td>House / apartment</td>\n",
       "      <td>...</td>\n",
       "      <td>0</td>\n",
       "      <td>0</td>\n",
       "      <td>None</td>\n",
       "      <td>1.000</td>\n",
       "      <td>53</td>\n",
       "      <td>5</td>\n",
       "      <td>4</td>\n",
       "      <td>0</td>\n",
       "      <td>4.000</td>\n",
       "      <td>0.000</td>\n",
       "    </tr>\n",
       "    <tr>\n",
       "      <th>15</th>\n",
       "      <td>5022024</td>\n",
       "      <td>M</td>\n",
       "      <td>Y</td>\n",
       "      <td>Y</td>\n",
       "      <td>0</td>\n",
       "      <td>112500.000</td>\n",
       "      <td>Working</td>\n",
       "      <td>Secondary / secondary special</td>\n",
       "      <td>Single / not married</td>\n",
       "      <td>House / apartment</td>\n",
       "      <td>...</td>\n",
       "      <td>0</td>\n",
       "      <td>0</td>\n",
       "      <td>None</td>\n",
       "      <td>1.000</td>\n",
       "      <td>27</td>\n",
       "      <td>4</td>\n",
       "      <td>6</td>\n",
       "      <td>0</td>\n",
       "      <td>4.000</td>\n",
       "      <td>0.000</td>\n",
       "    </tr>\n",
       "    <tr>\n",
       "      <th>46</th>\n",
       "      <td>5044479</td>\n",
       "      <td>F</td>\n",
       "      <td>N</td>\n",
       "      <td>N</td>\n",
       "      <td>0</td>\n",
       "      <td>135000.000</td>\n",
       "      <td>Working</td>\n",
       "      <td>Secondary / secondary special</td>\n",
       "      <td>Married</td>\n",
       "      <td>House / apartment</td>\n",
       "      <td>...</td>\n",
       "      <td>0</td>\n",
       "      <td>0</td>\n",
       "      <td>None</td>\n",
       "      <td>2.000</td>\n",
       "      <td>48</td>\n",
       "      <td>6</td>\n",
       "      <td>3</td>\n",
       "      <td>0</td>\n",
       "      <td>4.000</td>\n",
       "      <td>0.000</td>\n",
       "    </tr>\n",
       "    <tr>\n",
       "      <th>47</th>\n",
       "      <td>5044757</td>\n",
       "      <td>F</td>\n",
       "      <td>N</td>\n",
       "      <td>Y</td>\n",
       "      <td>1</td>\n",
       "      <td>121500.000</td>\n",
       "      <td>Working</td>\n",
       "      <td>Incomplete higher</td>\n",
       "      <td>Single / not married</td>\n",
       "      <td>House / apartment</td>\n",
       "      <td>...</td>\n",
       "      <td>0</td>\n",
       "      <td>0</td>\n",
       "      <td>None</td>\n",
       "      <td>2.000</td>\n",
       "      <td>37</td>\n",
       "      <td>4</td>\n",
       "      <td>17</td>\n",
       "      <td>0</td>\n",
       "      <td>2.000</td>\n",
       "      <td>0.000</td>\n",
       "    </tr>\n",
       "    <tr>\n",
       "      <th>62</th>\n",
       "      <td>5052702</td>\n",
       "      <td>M</td>\n",
       "      <td>Y</td>\n",
       "      <td>Y</td>\n",
       "      <td>1</td>\n",
       "      <td>270000.000</td>\n",
       "      <td>Working</td>\n",
       "      <td>Secondary / secondary special</td>\n",
       "      <td>Married</td>\n",
       "      <td>House / apartment</td>\n",
       "      <td>...</td>\n",
       "      <td>0</td>\n",
       "      <td>0</td>\n",
       "      <td>None</td>\n",
       "      <td>3.000</td>\n",
       "      <td>33</td>\n",
       "      <td>0</td>\n",
       "      <td>0</td>\n",
       "      <td>0</td>\n",
       "      <td>4.000</td>\n",
       "      <td>0.000</td>\n",
       "    </tr>\n",
       "    <tr>\n",
       "      <th>...</th>\n",
       "      <td>...</td>\n",
       "      <td>...</td>\n",
       "      <td>...</td>\n",
       "      <td>...</td>\n",
       "      <td>...</td>\n",
       "      <td>...</td>\n",
       "      <td>...</td>\n",
       "      <td>...</td>\n",
       "      <td>...</td>\n",
       "      <td>...</td>\n",
       "      <td>...</td>\n",
       "      <td>...</td>\n",
       "      <td>...</td>\n",
       "      <td>...</td>\n",
       "      <td>...</td>\n",
       "      <td>...</td>\n",
       "      <td>...</td>\n",
       "      <td>...</td>\n",
       "      <td>...</td>\n",
       "      <td>...</td>\n",
       "      <td>...</td>\n",
       "    </tr>\n",
       "    <tr>\n",
       "      <th>36435</th>\n",
       "      <td>5137154</td>\n",
       "      <td>F</td>\n",
       "      <td>N</td>\n",
       "      <td>N</td>\n",
       "      <td>0</td>\n",
       "      <td>211500.000</td>\n",
       "      <td>Working</td>\n",
       "      <td>Secondary / secondary special</td>\n",
       "      <td>Married</td>\n",
       "      <td>House / apartment</td>\n",
       "      <td>...</td>\n",
       "      <td>1</td>\n",
       "      <td>0</td>\n",
       "      <td>None</td>\n",
       "      <td>2.000</td>\n",
       "      <td>47</td>\n",
       "      <td>4</td>\n",
       "      <td>0</td>\n",
       "      <td>0</td>\n",
       "      <td>4.000</td>\n",
       "      <td>0.000</td>\n",
       "    </tr>\n",
       "    <tr>\n",
       "      <th>36437</th>\n",
       "      <td>5139525</td>\n",
       "      <td>M</td>\n",
       "      <td>N</td>\n",
       "      <td>Y</td>\n",
       "      <td>0</td>\n",
       "      <td>135000.000</td>\n",
       "      <td>Working</td>\n",
       "      <td>Higher education</td>\n",
       "      <td>Married</td>\n",
       "      <td>With parents</td>\n",
       "      <td>...</td>\n",
       "      <td>1</td>\n",
       "      <td>0</td>\n",
       "      <td>None</td>\n",
       "      <td>2.000</td>\n",
       "      <td>40</td>\n",
       "      <td>8</td>\n",
       "      <td>8</td>\n",
       "      <td>0</td>\n",
       "      <td>1.000</td>\n",
       "      <td>0.000</td>\n",
       "    </tr>\n",
       "    <tr>\n",
       "      <th>36438</th>\n",
       "      <td>5142276</td>\n",
       "      <td>M</td>\n",
       "      <td>N</td>\n",
       "      <td>Y</td>\n",
       "      <td>0</td>\n",
       "      <td>189000.000</td>\n",
       "      <td>Commercial associate</td>\n",
       "      <td>Higher education</td>\n",
       "      <td>Single / not married</td>\n",
       "      <td>House / apartment</td>\n",
       "      <td>...</td>\n",
       "      <td>0</td>\n",
       "      <td>0</td>\n",
       "      <td>None</td>\n",
       "      <td>1.000</td>\n",
       "      <td>22</td>\n",
       "      <td>0</td>\n",
       "      <td>26</td>\n",
       "      <td>0</td>\n",
       "      <td>1.000</td>\n",
       "      <td>1.000</td>\n",
       "    </tr>\n",
       "    <tr>\n",
       "      <th>36443</th>\n",
       "      <td>5143607</td>\n",
       "      <td>M</td>\n",
       "      <td>Y</td>\n",
       "      <td>Y</td>\n",
       "      <td>0</td>\n",
       "      <td>270000.000</td>\n",
       "      <td>Commercial associate</td>\n",
       "      <td>Secondary / secondary special</td>\n",
       "      <td>Civil marriage</td>\n",
       "      <td>House / apartment</td>\n",
       "      <td>...</td>\n",
       "      <td>0</td>\n",
       "      <td>1</td>\n",
       "      <td>None</td>\n",
       "      <td>2.000</td>\n",
       "      <td>29</td>\n",
       "      <td>2</td>\n",
       "      <td>0</td>\n",
       "      <td>0</td>\n",
       "      <td>4.000</td>\n",
       "      <td>1.000</td>\n",
       "    </tr>\n",
       "    <tr>\n",
       "      <th>36453</th>\n",
       "      <td>5149601</td>\n",
       "      <td>F</td>\n",
       "      <td>N</td>\n",
       "      <td>Y</td>\n",
       "      <td>0</td>\n",
       "      <td>225000.000</td>\n",
       "      <td>Commercial associate</td>\n",
       "      <td>Secondary / secondary special</td>\n",
       "      <td>Civil marriage</td>\n",
       "      <td>House / apartment</td>\n",
       "      <td>...</td>\n",
       "      <td>0</td>\n",
       "      <td>0</td>\n",
       "      <td>None</td>\n",
       "      <td>2.000</td>\n",
       "      <td>48</td>\n",
       "      <td>0</td>\n",
       "      <td>0</td>\n",
       "      <td>0</td>\n",
       "      <td>4.000</td>\n",
       "      <td>1.000</td>\n",
       "    </tr>\n",
       "  </tbody>\n",
       "</table>\n",
       "<p>4501 rows × 22 columns</p>\n",
       "</div>"
      ],
      "text/plain": [
       "            id gender own_car own_reality  chldno     income  \\\n",
       "9      5010629      F       N           Y       0 180000.000   \n",
       "15     5022024      M       Y           Y       0 112500.000   \n",
       "46     5044479      F       N           N       0 135000.000   \n",
       "47     5044757      F       N           Y       1 121500.000   \n",
       "62     5052702      M       Y           Y       1 270000.000   \n",
       "...        ...    ...     ...         ...     ...        ...   \n",
       "36435  5137154      F       N           N       0 211500.000   \n",
       "36437  5139525      M       N           Y       0 135000.000   \n",
       "36438  5142276      M       N           Y       0 189000.000   \n",
       "36443  5143607      M       Y           Y       0 270000.000   \n",
       "36453  5149601      F       N           Y       0 225000.000   \n",
       "\n",
       "                income_type                       edu_type  \\\n",
       "9                   Working  Secondary / secondary special   \n",
       "15                  Working  Secondary / secondary special   \n",
       "46                  Working  Secondary / secondary special   \n",
       "47                  Working              Incomplete higher   \n",
       "62                  Working  Secondary / secondary special   \n",
       "...                     ...                            ...   \n",
       "36435               Working  Secondary / secondary special   \n",
       "36437               Working               Higher education   \n",
       "36438  Commercial associate               Higher education   \n",
       "36443  Commercial associate  Secondary / secondary special   \n",
       "36453  Commercial associate  Secondary / secondary special   \n",
       "\n",
       "                 fam_status         house_type  ...  phone  email  occu_type  \\\n",
       "9      Single / not married  House / apartment  ...      0      0       None   \n",
       "15     Single / not married  House / apartment  ...      0      0       None   \n",
       "46                  Married  House / apartment  ...      0      0       None   \n",
       "47     Single / not married  House / apartment  ...      0      0       None   \n",
       "62                  Married  House / apartment  ...      0      0       None   \n",
       "...                     ...                ...  ...    ...    ...        ...   \n",
       "36435               Married  House / apartment  ...      1      0       None   \n",
       "36437               Married       With parents  ...      1      0       None   \n",
       "36438  Single / not married  House / apartment  ...      0      0       None   \n",
       "36443        Civil marriage  House / apartment  ...      0      1       None   \n",
       "36453        Civil marriage  House / apartment  ...      0      0       None   \n",
       "\n",
       "       fam_size age  employed_years  months_bal  outcome  eduenc_type  \\\n",
       "9         1.000  53               5           4        0        4.000   \n",
       "15        1.000  27               4           6        0        4.000   \n",
       "46        2.000  48               6           3        0        4.000   \n",
       "47        2.000  37               4          17        0        2.000   \n",
       "62        3.000  33               0           0        0        4.000   \n",
       "...         ...  ..             ...         ...      ...          ...   \n",
       "36435     2.000  47               4           0        0        4.000   \n",
       "36437     2.000  40               8           8        0        1.000   \n",
       "36438     1.000  22               0          26        0        1.000   \n",
       "36443     2.000  29               2           0        0        4.000   \n",
       "36453     2.000  48               0           0        0        4.000   \n",
       "\n",
       "       income_type_ix  \n",
       "9               0.000  \n",
       "15              0.000  \n",
       "46              0.000  \n",
       "47              0.000  \n",
       "62              0.000  \n",
       "...               ...  \n",
       "36435           0.000  \n",
       "36437           0.000  \n",
       "36438           1.000  \n",
       "36443           1.000  \n",
       "36453           1.000  \n",
       "\n",
       "[4501 rows x 22 columns]"
      ]
     },
     "execution_count": 148,
     "metadata": {},
     "output_type": "execute_result"
    }
   ],
   "source": [
    "###Treating Occupation missing values\n",
    "model_pd2[model_pd2[\"occu_type\"].isnull()]"
   ]
  },
  {
   "cell_type": "code",
   "execution_count": 149,
   "metadata": {},
   "outputs": [],
   "source": [
    "cond = (model_pd2[\"occu_type\"].isnull()) & (model_pd2[\"income_type\"] == \"Pensioner\")\n",
    "model_pd2[\"occu_type\"] = model_pd2[\"occu_type\"].fillna(cond.map({True:'Retired', False: 'Others'}))\n"
   ]
  },
  {
   "cell_type": "code",
   "execution_count": 150,
   "metadata": {},
   "outputs": [
    {
     "data": {
      "text/plain": [
       "Laborers                 5658\n",
       "Others                   4498\n",
       "Sales staff              3308\n",
       "Core staff               3096\n",
       "Managers                 2301\n",
       "Drivers                  1980\n",
       "High skill tech staff    1190\n",
       "Accountants              1104\n",
       "Medicine staff            965\n",
       "Cooking staff             594\n",
       "Security staff            548\n",
       "Cleaning staff            513\n",
       "Private service staff     291\n",
       "Low-skill Laborers        173\n",
       "Waiters/barmen staff      168\n",
       "Secretaries               136\n",
       "HR staff                   81\n",
       "Realty agents              74\n",
       "IT staff                   51\n",
       "Retired                     3\n",
       "Name: occu_type, dtype: int64"
      ]
     },
     "execution_count": 150,
     "metadata": {},
     "output_type": "execute_result"
    }
   ],
   "source": [
    "model_pd2[\"occu_type\"].value_counts()"
   ]
  },
  {
   "cell_type": "code",
   "execution_count": 151,
   "metadata": {},
   "outputs": [],
   "source": [
    "## 5. Is the proportion of bad customers higher for people who own cars?"
   ]
  },
  {
   "cell_type": "code",
   "execution_count": 152,
   "metadata": {},
   "outputs": [
    {
     "data": {
      "text/plain": [
       "outcome  own_car\n",
       "0        N          15643\n",
       "         Y          11016\n",
       "1        N             50\n",
       "         Y             23\n",
       "dtype: int64"
      ]
     },
     "execution_count": 152,
     "metadata": {},
     "output_type": "execute_result"
    }
   ],
   "source": [
    "model_pd2.groupby(['outcome', 'own_car']).size()"
   ]
  },
  {
   "cell_type": "code",
   "execution_count": 153,
   "metadata": {},
   "outputs": [
    {
     "data": {
      "text/plain": [
       "<AxesSubplot:xlabel='outcome,own_car'>"
      ]
     },
     "execution_count": 153,
     "metadata": {},
     "output_type": "execute_result"
    },
    {
     "data": {
      "image/png": "[encoded data removed]",
      "text/plain": [
       "<Figure size 842.4x595.44 with 1 Axes>"
      ]
     },
     "metadata": {},
     "output_type": "display_data"
    }
   ],
   "source": [
    "model_pd2.groupby(['outcome', 'own_car']).size().plot(kind=\"bar\")"
   ]
  },
  {
   "cell_type": "markdown",
   "metadata": {},
   "source": [
    "#### The porportion of bad customers not own cars as it is only 23 out of 73 who are owning cars"
   ]
  },
  {
   "cell_type": "code",
   "execution_count": 154,
   "metadata": {},
   "outputs": [
    {
     "data": {
      "text/plain": [
       "outcome  own_reality\n",
       "0        N               9446\n",
       "         Y              17213\n",
       "1        N                 21\n",
       "         Y                 52\n",
       "dtype: int64"
      ]
     },
     "execution_count": 154,
     "metadata": {},
     "output_type": "execute_result"
    }
   ],
   "source": [
    "##6.Is the proportion of bad customers higher for those living on rent than the rest of the population?\n",
    "model_pd2.groupby(['outcome', 'own_reality']).size()"
   ]
  },
  {
   "cell_type": "code",
   "execution_count": 155,
   "metadata": {},
   "outputs": [
    {
     "data": {
      "text/plain": [
       "outcome  house_type         \n",
       "0        Co-op apartment          134\n",
       "         House / apartment      23340\n",
       "         Municipal apartment      846\n",
       "         Office apartment         197\n",
       "         Rented apartment         499\n",
       "         With parents            1643\n",
       "1        Co-op apartment            1\n",
       "         House / apartment         63\n",
       "         Municipal apartment        4\n",
       "         Rented apartment           2\n",
       "         With parents               3\n",
       "dtype: int64"
      ]
     },
     "execution_count": 155,
     "metadata": {},
     "output_type": "execute_result"
    }
   ],
   "source": [
    "model_pd2.groupby(['outcome', 'house_type']).size()"
   ]
  },
  {
   "cell_type": "code",
   "execution_count": 156,
   "metadata": {},
   "outputs": [
    {
     "data": {
      "text/plain": [
       "outcome\n",
       "0    26659\n",
       "1       73\n",
       "dtype: int64"
      ]
     },
     "execution_count": 156,
     "metadata": {},
     "output_type": "execute_result"
    }
   ],
   "source": [
    "model_pd2.groupby(['outcome']).size()"
   ]
  },
  {
   "cell_type": "code",
   "execution_count": 157,
   "metadata": {},
   "outputs": [
    {
     "data": {
      "text/plain": [
       "2.73972602739726"
      ]
     },
     "execution_count": 157,
     "metadata": {},
     "output_type": "execute_result"
    }
   ],
   "source": [
    "(2/73) * 100"
   ]
  },
  {
   "cell_type": "code",
   "execution_count": 158,
   "metadata": {},
   "outputs": [
    {
     "data": {
      "text/plain": [
       "1.8717881390899884"
      ]
     },
     "execution_count": 158,
     "metadata": {},
     "output_type": "execute_result"
    }
   ],
   "source": [
    "499/26659 *100"
   ]
  },
  {
   "cell_type": "markdown",
   "metadata": {},
   "source": [
    "##### The proportion of the bad customers in rent is more than the good customers 2.73 % are in rent than 1.8% of good in rent"
   ]
  },
  {
   "cell_type": "code",
   "execution_count": 159,
   "metadata": {},
   "outputs": [],
   "source": [
    "##7.Is the proportion of bad customers higher for those who are single than married customers?"
   ]
  },
  {
   "cell_type": "code",
   "execution_count": 160,
   "metadata": {},
   "outputs": [
    {
     "data": {
      "text/plain": [
       "outcome  fam_status          \n",
       "0        Civil marriage           2375\n",
       "         Married                 18459\n",
       "         Separated                1498\n",
       "         Single / not married     3698\n",
       "         Widow                     629\n",
       "1        Civil marriage              1\n",
       "         Married                    49\n",
       "         Separated                   2\n",
       "         Single / not married       18\n",
       "         Widow                       3\n",
       "dtype: int64"
      ]
     },
     "execution_count": 160,
     "metadata": {},
     "output_type": "execute_result"
    }
   ],
   "source": [
    "model_pd2.groupby(['outcome', 'fam_status']).size()"
   ]
  },
  {
   "cell_type": "code",
   "execution_count": 161,
   "metadata": {},
   "outputs": [
    {
     "name": "stdout",
     "output_type": "stream",
     "text": [
      "Single good 13.871488052815184\n"
     ]
    }
   ],
   "source": [
    "print(\"Single good\",(3698/26659)*100)"
   ]
  },
  {
   "cell_type": "code",
   "execution_count": 162,
   "metadata": {},
   "outputs": [
    {
     "name": "stdout",
     "output_type": "stream",
     "text": [
      "Single bad 24.65753424657534\n"
     ]
    }
   ],
   "source": [
    "print(\"Single bad\",(18/73)*100)"
   ]
  },
  {
   "cell_type": "code",
   "execution_count": 163,
   "metadata": {},
   "outputs": [
    {
     "name": "stdout",
     "output_type": "stream",
     "text": [
      "Married bad 67.12328767123287\n"
     ]
    }
   ],
   "source": [
    "print(\"Married bad\",(49/73) *100)"
   ]
  },
  {
   "cell_type": "code",
   "execution_count": 164,
   "metadata": {},
   "outputs": [
    {
     "name": "stdout",
     "output_type": "stream",
     "text": [
      "married good 69.24115683258937\n"
     ]
    }
   ],
   "source": [
    "print(\"married good\",(18459/26659)*100)"
   ]
  },
  {
   "cell_type": "code",
   "execution_count": 165,
   "metadata": {},
   "outputs": [],
   "source": [
    "#### The proportion of bad customers are higher for those who are married than single ."
   ]
  },
  {
   "cell_type": "code",
   "execution_count": 166,
   "metadata": {},
   "outputs": [],
   "source": [
    "### Dropping unnecessary columns like id,months_balance,mobile\n",
    "\n",
    "model_pd2.drop([\"id\",\"months_bal\",\"mobile\"],axis=1,inplace=True)"
   ]
  },
  {
   "cell_type": "code",
   "execution_count": 167,
   "metadata": {},
   "outputs": [
    {
     "data": {
      "text/plain": [
       "Index(['gender', 'own_car', 'own_reality', 'chldno', 'income', 'income_type',\n",
       "       'edu_type', 'fam_status', 'house_type', 'work', 'phone', 'email',\n",
       "       'occu_type', 'fam_size', 'age', 'employed_years', 'outcome',\n",
       "       'eduenc_type', 'income_type_ix'],\n",
       "      dtype='object')"
      ]
     },
     "execution_count": 167,
     "metadata": {},
     "output_type": "execute_result"
    }
   ],
   "source": [
    "model_pd2.columns"
   ]
  },
  {
   "cell_type": "code",
   "execution_count": 168,
   "metadata": {},
   "outputs": [],
   "source": [
    "model_pd3=model_pd2.copy(deep=False)"
   ]
  },
  {
   "cell_type": "markdown",
   "metadata": {},
   "source": [
    "#### Binning Necessary Continous Values"
   ]
  },
  {
   "cell_type": "code",
   "execution_count": 169,
   "metadata": {},
   "outputs": [],
   "source": [
    "### Binning the numerical values income,chlno,family size,age,employed years\n",
    "incomelabels=[\"Low\",\"Medium\",\"High\",\"VeryHigh\"]\n",
    "\n",
    "model_pd3[\"income_bins\"]=pd.qcut(x=model_pd3[\"income\"],q=4,labels=incomelabels)"
   ]
  },
  {
   "cell_type": "code",
   "execution_count": 170,
   "metadata": {},
   "outputs": [
    {
     "data": {
      "text/plain": [
       "High        8032\n",
       "Low         6777\n",
       "Medium      6633\n",
       "VeryHigh    5290\n",
       "Name: income_bins, dtype: int64"
      ]
     },
     "execution_count": 170,
     "metadata": {},
     "output_type": "execute_result"
    }
   ],
   "source": [
    "model_pd3[\"income_bins\"].value_counts()"
   ]
  },
  {
   "cell_type": "code",
   "execution_count": 171,
   "metadata": {},
   "outputs": [],
   "source": [
    "childlabels=[\"No\",\"more than 1\"]\n",
    "\n",
    "model_pd3[\"chldno_bins\"]=pd.cut(x=model_pd3[\"chldno\"],bins=[0,1,2],labels=childlabels,include_lowest=True)"
   ]
  },
  {
   "cell_type": "code",
   "execution_count": 172,
   "metadata": {},
   "outputs": [
    {
     "data": {
      "text/plain": [
       "No             23727\n",
       "more than 1     3005\n",
       "Name: chldno_bins, dtype: int64"
      ]
     },
     "execution_count": 172,
     "metadata": {},
     "output_type": "execute_result"
    }
   ],
   "source": [
    "model_pd3[\"chldno_bins\"].value_counts()"
   ]
  },
  {
   "cell_type": "code",
   "execution_count": 173,
   "metadata": {},
   "outputs": [
    {
     "data": {
      "text/plain": [
       "0"
      ]
     },
     "execution_count": 173,
     "metadata": {},
     "output_type": "execute_result"
    }
   ],
   "source": [
    "model_pd3[\"chldno_bins\"].isnull().sum()"
   ]
  },
  {
   "cell_type": "code",
   "execution_count": 174,
   "metadata": {},
   "outputs": [],
   "source": [
    "employedlabels=[\"low\",\"medium\",\"high\",\"very high\"]\n",
    "\n",
    "model_pd3[\"emp_yrs_bins\"]=pd.cut(x=model_pd3[\"employed_years\"],bins=[0,5,10,15,20],labels=employedlabels,include_lowest=True)"
   ]
  },
  {
   "cell_type": "code",
   "execution_count": 175,
   "metadata": {},
   "outputs": [
    {
     "data": {
      "text/plain": [
       "low          15346\n",
       "medium        7499\n",
       "high          2930\n",
       "very high      957\n",
       "Name: emp_yrs_bins, dtype: int64"
      ]
     },
     "execution_count": 175,
     "metadata": {},
     "output_type": "execute_result"
    }
   ],
   "source": [
    "model_pd3[\"emp_yrs_bins\"].value_counts()"
   ]
  },
  {
   "cell_type": "code",
   "execution_count": 176,
   "metadata": {},
   "outputs": [
    {
     "data": {
      "text/plain": [
       "0"
      ]
     },
     "execution_count": 176,
     "metadata": {},
     "output_type": "execute_result"
    }
   ],
   "source": [
    "model_pd3[\"emp_yrs_bins\"].isnull().sum()"
   ]
  },
  {
   "cell_type": "code",
   "execution_count": 177,
   "metadata": {},
   "outputs": [],
   "source": [
    "bins = [0,21,30,35,40,45,60,80]\n",
    "labels=[\"less <21\", \"21-31\", \"31-35\",\"35-40\",\"40-45\",\"45-60\",\">60\"]\n",
    "model_pd3[\"age_bins\"]=pd.cut(x=model_pd3[\"age\"],bins=bins,labels=labels)"
   ]
  },
  {
   "cell_type": "code",
   "execution_count": 178,
   "metadata": {},
   "outputs": [
    {
     "data": {
      "text/plain": [
       "45-60       7122\n",
       "21-31       5679\n",
       "35-40       4882\n",
       "31-35       4739\n",
       "40-45       3995\n",
       ">60          304\n",
       "less <21      11\n",
       "Name: age_bins, dtype: int64"
      ]
     },
     "execution_count": 178,
     "metadata": {},
     "output_type": "execute_result"
    }
   ],
   "source": [
    "model_pd3[\"age_bins\"].value_counts()"
   ]
  },
  {
   "cell_type": "code",
   "execution_count": 179,
   "metadata": {},
   "outputs": [
    {
     "data": {
      "text/plain": [
       "0"
      ]
     },
     "execution_count": 179,
     "metadata": {},
     "output_type": "execute_result"
    }
   ],
   "source": [
    "model_pd3[\"age_bins\"].isnull().sum()"
   ]
  },
  {
   "cell_type": "code",
   "execution_count": 180,
   "metadata": {},
   "outputs": [
    {
     "data": {
      "text/plain": [
       "count   26732.000\n",
       "mean        2.257\n",
       "std         0.863\n",
       "min         1.000\n",
       "25%         2.000\n",
       "50%         2.000\n",
       "75%         3.000\n",
       "max         4.000\n",
       "Name: fam_size, dtype: float64"
      ]
     },
     "execution_count": 180,
     "metadata": {},
     "output_type": "execute_result"
    }
   ],
   "source": [
    "model_pd3[\"fam_size\"].describe()"
   ]
  },
  {
   "cell_type": "code",
   "execution_count": 181,
   "metadata": {},
   "outputs": [],
   "source": [
    "famlabels=[\"low\",\"medium\"]\n",
    "\n",
    "model_pd3[\"fam_size_bins\"]=pd.cut(x=model_pd3[\"fam_size\"],bins=[0,2,5],labels=famlabels,include_lowest=True)"
   ]
  },
  {
   "cell_type": "code",
   "execution_count": 182,
   "metadata": {},
   "outputs": [
    {
     "data": {
      "text/plain": [
       "low       18148\n",
       "medium     8584\n",
       "Name: fam_size_bins, dtype: int64"
      ]
     },
     "execution_count": 182,
     "metadata": {},
     "output_type": "execute_result"
    }
   ],
   "source": [
    "model_pd3[\"fam_size_bins\"].value_counts()"
   ]
  },
  {
   "cell_type": "code",
   "execution_count": 183,
   "metadata": {},
   "outputs": [
    {
     "data": {
      "text/plain": [
       "0"
      ]
     },
     "execution_count": 183,
     "metadata": {},
     "output_type": "execute_result"
    }
   ],
   "source": [
    "model_pd3[\"fam_size_bins\"].isnull().sum()"
   ]
  },
  {
   "cell_type": "code",
   "execution_count": 184,
   "metadata": {},
   "outputs": [
    {
     "data": {
      "text/html": [
       "<div>\n",
       "<style scoped>\n",
       "    .dataframe tbody tr th:only-of-type {\n",
       "        vertical-align: middle;\n",
       "    }\n",
       "\n",
       "    .dataframe tbody tr th {\n",
       "        vertical-align: top;\n",
       "    }\n",
       "\n",
       "    .dataframe thead th {\n",
       "        text-align: right;\n",
       "    }\n",
       "</style>\n",
       "<table border=\"1\" class=\"dataframe\">\n",
       "  <thead>\n",
       "    <tr style=\"text-align: right;\">\n",
       "      <th></th>\n",
       "      <th>gender</th>\n",
       "      <th>own_car</th>\n",
       "      <th>own_reality</th>\n",
       "      <th>chldno</th>\n",
       "      <th>income</th>\n",
       "      <th>income_type</th>\n",
       "      <th>edu_type</th>\n",
       "      <th>fam_status</th>\n",
       "      <th>house_type</th>\n",
       "      <th>work</th>\n",
       "      <th>...</th>\n",
       "      <th>age</th>\n",
       "      <th>employed_years</th>\n",
       "      <th>outcome</th>\n",
       "      <th>eduenc_type</th>\n",
       "      <th>income_type_ix</th>\n",
       "      <th>income_bins</th>\n",
       "      <th>chldno_bins</th>\n",
       "      <th>emp_yrs_bins</th>\n",
       "      <th>age_bins</th>\n",
       "      <th>fam_size_bins</th>\n",
       "    </tr>\n",
       "  </thead>\n",
       "  <tbody>\n",
       "    <tr>\n",
       "      <th>2</th>\n",
       "      <td>F</td>\n",
       "      <td>N</td>\n",
       "      <td>N</td>\n",
       "      <td>0</td>\n",
       "      <td>135000.000</td>\n",
       "      <td>Commercial associate</td>\n",
       "      <td>Secondary / secondary special</td>\n",
       "      <td>Married</td>\n",
       "      <td>House / apartment</td>\n",
       "      <td>1</td>\n",
       "      <td>...</td>\n",
       "      <td>53</td>\n",
       "      <td>14</td>\n",
       "      <td>0</td>\n",
       "      <td>4.000</td>\n",
       "      <td>1.000</td>\n",
       "      <td>Medium</td>\n",
       "      <td>No</td>\n",
       "      <td>high</td>\n",
       "      <td>45-60</td>\n",
       "      <td>low</td>\n",
       "    </tr>\n",
       "    <tr>\n",
       "      <th>3</th>\n",
       "      <td>M</td>\n",
       "      <td>N</td>\n",
       "      <td>N</td>\n",
       "      <td>0</td>\n",
       "      <td>198000.000</td>\n",
       "      <td>Working</td>\n",
       "      <td>Secondary / secondary special</td>\n",
       "      <td>Single / not married</td>\n",
       "      <td>With parents</td>\n",
       "      <td>1</td>\n",
       "      <td>...</td>\n",
       "      <td>23</td>\n",
       "      <td>3</td>\n",
       "      <td>0</td>\n",
       "      <td>4.000</td>\n",
       "      <td>0.000</td>\n",
       "      <td>High</td>\n",
       "      <td>No</td>\n",
       "      <td>low</td>\n",
       "      <td>21-31</td>\n",
       "      <td>low</td>\n",
       "    </tr>\n",
       "    <tr>\n",
       "      <th>4</th>\n",
       "      <td>F</td>\n",
       "      <td>N</td>\n",
       "      <td>Y</td>\n",
       "      <td>0</td>\n",
       "      <td>279000.000</td>\n",
       "      <td>State servant</td>\n",
       "      <td>Higher education</td>\n",
       "      <td>Single / not married</td>\n",
       "      <td>House / apartment</td>\n",
       "      <td>0</td>\n",
       "      <td>...</td>\n",
       "      <td>30</td>\n",
       "      <td>1</td>\n",
       "      <td>0</td>\n",
       "      <td>1.000</td>\n",
       "      <td>3.000</td>\n",
       "      <td>VeryHigh</td>\n",
       "      <td>No</td>\n",
       "      <td>low</td>\n",
       "      <td>21-31</td>\n",
       "      <td>low</td>\n",
       "    </tr>\n",
       "    <tr>\n",
       "      <th>5</th>\n",
       "      <td>M</td>\n",
       "      <td>Y</td>\n",
       "      <td>Y</td>\n",
       "      <td>0</td>\n",
       "      <td>225000.000</td>\n",
       "      <td>Working</td>\n",
       "      <td>Secondary / secondary special</td>\n",
       "      <td>Married</td>\n",
       "      <td>House / apartment</td>\n",
       "      <td>0</td>\n",
       "      <td>...</td>\n",
       "      <td>45</td>\n",
       "      <td>11</td>\n",
       "      <td>0</td>\n",
       "      <td>4.000</td>\n",
       "      <td>0.000</td>\n",
       "      <td>High</td>\n",
       "      <td>No</td>\n",
       "      <td>high</td>\n",
       "      <td>40-45</td>\n",
       "      <td>low</td>\n",
       "    </tr>\n",
       "  </tbody>\n",
       "</table>\n",
       "<p>4 rows × 24 columns</p>\n",
       "</div>"
      ],
      "text/plain": [
       "  gender own_car own_reality  chldno     income           income_type  \\\n",
       "2      F       N           N       0 135000.000  Commercial associate   \n",
       "3      M       N           N       0 198000.000               Working   \n",
       "4      F       N           Y       0 279000.000         State servant   \n",
       "5      M       Y           Y       0 225000.000               Working   \n",
       "\n",
       "                        edu_type            fam_status         house_type  \\\n",
       "2  Secondary / secondary special               Married  House / apartment   \n",
       "3  Secondary / secondary special  Single / not married       With parents   \n",
       "4               Higher education  Single / not married  House / apartment   \n",
       "5  Secondary / secondary special               Married  House / apartment   \n",
       "\n",
       "   work  ...  age  employed_years outcome  eduenc_type  income_type_ix  \\\n",
       "2     1  ...   53              14       0        4.000           1.000   \n",
       "3     1  ...   23               3       0        4.000           0.000   \n",
       "4     0  ...   30               1       0        1.000           3.000   \n",
       "5     0  ...   45              11       0        4.000           0.000   \n",
       "\n",
       "   income_bins  chldno_bins  emp_yrs_bins  age_bins fam_size_bins  \n",
       "2       Medium           No          high     45-60           low  \n",
       "3         High           No           low     21-31           low  \n",
       "4     VeryHigh           No           low     21-31           low  \n",
       "5         High           No          high     40-45           low  \n",
       "\n",
       "[4 rows x 24 columns]"
      ]
     },
     "execution_count": 184,
     "metadata": {},
     "output_type": "execute_result"
    }
   ],
   "source": [
    "model_pd3.head(4)"
   ]
  },
  {
   "cell_type": "code",
   "execution_count": 185,
   "metadata": {},
   "outputs": [],
   "source": [
    "model_pd4=model_pd3.copy(deep=False)"
   ]
  },
  {
   "cell_type": "code",
   "execution_count": 186,
   "metadata": {},
   "outputs": [],
   "source": [
    "model_pd4.drop([\"income\",\"employed_years\",\"fam_size\",\"chldno\",\"income_type_ix\",\"age\"],axis=1,inplace=True)"
   ]
  },
  {
   "cell_type": "code",
   "execution_count": 187,
   "metadata": {},
   "outputs": [
    {
     "data": {
      "text/plain": [
       "Index(['gender', 'own_car', 'own_reality', 'income_type', 'edu_type',\n",
       "       'fam_status', 'house_type', 'work', 'phone', 'email', 'occu_type',\n",
       "       'outcome', 'eduenc_type', 'income_bins', 'chldno_bins', 'emp_yrs_bins',\n",
       "       'age_bins', 'fam_size_bins'],\n",
       "      dtype='object')"
      ]
     },
     "execution_count": 187,
     "metadata": {},
     "output_type": "execute_result"
    }
   ],
   "source": [
    "model_pd4.columns"
   ]
  },
  {
   "cell_type": "code",
   "execution_count": 188,
   "metadata": {},
   "outputs": [],
   "source": [
    "clean_data=sqlc.createDataFrame(model_pd4)"
   ]
  },
  {
   "cell_type": "markdown",
   "metadata": {},
   "source": [
    "### Calculating WOE and IV"
   ]
  },
  {
   "cell_type": "code",
   "execution_count": 189,
   "metadata": {},
   "outputs": [],
   "source": [
    "import math\n",
    "\n",
    "from pyspark.sql import DataFrame\n",
    "from pyspark.sql import functions as F\n",
    "\n",
    "\n",
    "class WOE_IV(object):\n",
    "    def __init__(self, df: DataFrame, cols_to_woe: [str], label_column: str, good_label: str):\n",
    "        self.df = df\n",
    "        self.cols_to_woe = cols_to_woe\n",
    "        self.label_column = label_column\n",
    "        self.good_label = good_label\n",
    "        self.fit_data = {}\n",
    "\n",
    "    def fit(self):\n",
    "        for col_to_woe in self.cols_to_woe:\n",
    "            total_good = self.compute_total_amount_of_good()\n",
    "            total_bad = self.compute_total_amount_of_bad()\n",
    "            \n",
    "            woe_df = self.df.select(col_to_woe)\n",
    "            categories = woe_df.distinct().collect()\n",
    "            for category_row in categories:\n",
    "                category = category_row[col_to_woe]\n",
    "                good_amount = self.compute_good_amount(col_to_woe, category)\n",
    "                bad_amount = self.compute_bad_amount(col_to_woe, category)\n",
    "\n",
    "                good_amount = good_amount if good_amount != 0 else 0.5\n",
    "                bad_amount = bad_amount if bad_amount != 0 else 0.5\n",
    "\n",
    "                good_dist = good_amount / total_good\n",
    "                bad_dist = bad_amount / total_bad\n",
    "\n",
    "                self.build_fit_data(col_to_woe, category, good_dist, bad_dist)\n",
    "\n",
    "    def transform(self, df: DataFrame):\n",
    "        def _encode_woe(col_to_woe_):\n",
    "            return F.coalesce(\n",
    "                *[F.when(F.col(col_to_woe_) == category, F.lit(woe_iv['woe']))\n",
    "                  for category, woe_iv in self.fit_data[col_to_woe_].items()]\n",
    "            )\n",
    "\n",
    "        for col_to_woe, woe_info in self.fit_data.items():\n",
    "            df = df.withColumn(col_to_woe + '_woe', _encode_woe(col_to_woe))\n",
    "        return df\n",
    "\n",
    "    def compute_total_amount_of_good(self):\n",
    "        return self.df.select(self.label_column).filter(F.col(self.label_column) == self.good_label).count()\n",
    "\n",
    "    def compute_total_amount_of_bad(self):\n",
    "        return self.df.select(self.label_column).filter(F.col(self.label_column) != self.good_label).count()\n",
    "\n",
    "    def compute_good_amount(self, col_to_woe: str, category: str):\n",
    "        return self.df.select(col_to_woe, self.label_column)\\\n",
    "                      .filter(\n",
    "                            (F.col(col_to_woe) == category) & (F.col(self.label_column) == self.good_label)\n",
    "                      ).count()\n",
    "\n",
    "    def compute_bad_amount(self, col_to_woe: str, category: str):\n",
    "        return self.df.select(col_to_woe, self.label_column)\\\n",
    "                      .filter(\n",
    "                            (F.col(col_to_woe) == category) & (F.col(self.label_column) != self.good_label)\n",
    "                      ).count()\n",
    "\n",
    "    def build_fit_data(self, col_to_woe, category, good_dist, bad_dist):\n",
    "        woe_info = {\n",
    "            category: {\n",
    "                'woe': math.log(good_dist / bad_dist),\n",
    "                'iv': (good_dist - bad_dist) * math.log(good_dist / bad_dist)\n",
    "            }\n",
    "        }\n",
    "\n",
    "        if col_to_woe not in self.fit_data:\n",
    "            self.fit_data[col_to_woe] = woe_info\n",
    "        else:\n",
    "            self.fit_data[col_to_woe].update(woe_info)\n",
    "\n",
    "    def compute_iv(self):\n",
    "        iv_dict = {}\n",
    "\n",
    "        for woe_col, categories in self.fit_data.items():\n",
    "            iv_dict[woe_col] = 0\n",
    "            for category, woe_iv in categories.items():\n",
    "                iv_dict[woe_col] += woe_iv['iv']\n",
    "        return iv_dict\n",
    "\n"
   ]
  },
  {
   "cell_type": "code",
   "execution_count": 190,
   "metadata": {},
   "outputs": [],
   "source": [
    "cols_to_woe = clean_data.columns\n",
    "woe = WOE_IV(clean_data, cols_to_woe, 'outcome', 0)\n",
    "\n",
    "# woe encoding\n",
    "woe.fit()\n",
    "encoding_df = woe.transform(clean_data)\n",
    "\n",
    "# information value\n",
    "ivs = woe.compute_iv()"
   ]
  },
  {
   "cell_type": "code",
   "execution_count": 191,
   "metadata": {},
   "outputs": [
    {
     "data": {
      "text/html": [
       "<div>\n",
       "<style scoped>\n",
       "    .dataframe tbody tr th:only-of-type {\n",
       "        vertical-align: middle;\n",
       "    }\n",
       "\n",
       "    .dataframe tbody tr th {\n",
       "        vertical-align: top;\n",
       "    }\n",
       "\n",
       "    .dataframe thead th {\n",
       "        text-align: right;\n",
       "    }\n",
       "</style>\n",
       "<table border=\"1\" class=\"dataframe\">\n",
       "  <thead>\n",
       "    <tr style=\"text-align: right;\">\n",
       "      <th></th>\n",
       "      <th>gender</th>\n",
       "      <th>own_car</th>\n",
       "      <th>own_reality</th>\n",
       "      <th>income_type</th>\n",
       "      <th>edu_type</th>\n",
       "      <th>fam_status</th>\n",
       "      <th>house_type</th>\n",
       "      <th>work</th>\n",
       "      <th>phone</th>\n",
       "      <th>email</th>\n",
       "      <th>...</th>\n",
       "      <th>phone_woe</th>\n",
       "      <th>email_woe</th>\n",
       "      <th>occu_type_woe</th>\n",
       "      <th>outcome_woe</th>\n",
       "      <th>eduenc_type_woe</th>\n",
       "      <th>income_bins_woe</th>\n",
       "      <th>chldno_bins_woe</th>\n",
       "      <th>emp_yrs_bins_woe</th>\n",
       "      <th>age_bins_woe</th>\n",
       "      <th>fam_size_bins_woe</th>\n",
       "    </tr>\n",
       "  </thead>\n",
       "  <tbody>\n",
       "    <tr>\n",
       "      <th>0</th>\n",
       "      <td>F</td>\n",
       "      <td>N</td>\n",
       "      <td>N</td>\n",
       "      <td>Commercial associate</td>\n",
       "      <td>Secondary / secondary special</td>\n",
       "      <td>Married</td>\n",
       "      <td>House / apartment</td>\n",
       "      <td>1</td>\n",
       "      <td>1</td>\n",
       "      <td>0</td>\n",
       "      <td>...</td>\n",
       "      <td>0.102</td>\n",
       "      <td>0.026</td>\n",
       "      <td>0.099</td>\n",
       "      <td>4.984</td>\n",
       "      <td>0.072</td>\n",
       "      <td>0.189</td>\n",
       "      <td>-0.078</td>\n",
       "      <td>0.471</td>\n",
       "      <td>-0.329</td>\n",
       "      <td>-0.104</td>\n",
       "    </tr>\n",
       "    <tr>\n",
       "      <th>1</th>\n",
       "      <td>M</td>\n",
       "      <td>N</td>\n",
       "      <td>N</td>\n",
       "      <td>Working</td>\n",
       "      <td>Secondary / secondary special</td>\n",
       "      <td>Single / not married</td>\n",
       "      <td>With parents</td>\n",
       "      <td>1</td>\n",
       "      <td>0</td>\n",
       "      <td>0</td>\n",
       "      <td>...</td>\n",
       "      <td>-0.038</td>\n",
       "      <td>0.026</td>\n",
       "      <td>0.099</td>\n",
       "      <td>4.984</td>\n",
       "      <td>0.072</td>\n",
       "      <td>0.044</td>\n",
       "      <td>-0.078</td>\n",
       "      <td>-0.002</td>\n",
       "      <td>0.103</td>\n",
       "      <td>-0.104</td>\n",
       "    </tr>\n",
       "    <tr>\n",
       "      <th>2</th>\n",
       "      <td>F</td>\n",
       "      <td>N</td>\n",
       "      <td>Y</td>\n",
       "      <td>State servant</td>\n",
       "      <td>Higher education</td>\n",
       "      <td>Single / not married</td>\n",
       "      <td>House / apartment</td>\n",
       "      <td>0</td>\n",
       "      <td>0</td>\n",
       "      <td>1</td>\n",
       "      <td>...</td>\n",
       "      <td>-0.038</td>\n",
       "      <td>-0.205</td>\n",
       "      <td>0.046</td>\n",
       "      <td>4.984</td>\n",
       "      <td>-0.017</td>\n",
       "      <td>0.031</td>\n",
       "      <td>-0.078</td>\n",
       "      <td>-0.002</td>\n",
       "      <td>0.103</td>\n",
       "      <td>-0.104</td>\n",
       "    </tr>\n",
       "    <tr>\n",
       "      <th>3</th>\n",
       "      <td>M</td>\n",
       "      <td>Y</td>\n",
       "      <td>Y</td>\n",
       "      <td>Working</td>\n",
       "      <td>Secondary / secondary special</td>\n",
       "      <td>Married</td>\n",
       "      <td>House / apartment</td>\n",
       "      <td>0</td>\n",
       "      <td>0</td>\n",
       "      <td>0</td>\n",
       "      <td>...</td>\n",
       "      <td>-0.038</td>\n",
       "      <td>0.026</td>\n",
       "      <td>-0.104</td>\n",
       "      <td>4.984</td>\n",
       "      <td>0.072</td>\n",
       "      <td>0.044</td>\n",
       "      <td>-0.078</td>\n",
       "      <td>0.471</td>\n",
       "      <td>0.311</td>\n",
       "      <td>-0.104</td>\n",
       "    </tr>\n",
       "    <tr>\n",
       "      <th>4</th>\n",
       "      <td>F</td>\n",
       "      <td>Y</td>\n",
       "      <td>Y</td>\n",
       "      <td>Commercial associate</td>\n",
       "      <td>Secondary / secondary special</td>\n",
       "      <td>Married</td>\n",
       "      <td>House / apartment</td>\n",
       "      <td>0</td>\n",
       "      <td>0</td>\n",
       "      <td>0</td>\n",
       "      <td>...</td>\n",
       "      <td>-0.038</td>\n",
       "      <td>0.026</td>\n",
       "      <td>0.099</td>\n",
       "      <td>4.984</td>\n",
       "      <td>0.072</td>\n",
       "      <td>0.189</td>\n",
       "      <td>-0.078</td>\n",
       "      <td>0.471</td>\n",
       "      <td>-0.183</td>\n",
       "      <td>0.265</td>\n",
       "    </tr>\n",
       "  </tbody>\n",
       "</table>\n",
       "<p>5 rows × 36 columns</p>\n",
       "</div>"
      ],
      "text/plain": [
       "  gender own_car own_reality           income_type  \\\n",
       "0      F       N           N  Commercial associate   \n",
       "1      M       N           N               Working   \n",
       "2      F       N           Y         State servant   \n",
       "3      M       Y           Y               Working   \n",
       "4      F       Y           Y  Commercial associate   \n",
       "\n",
       "                        edu_type            fam_status         house_type  \\\n",
       "0  Secondary / secondary special               Married  House / apartment   \n",
       "1  Secondary / secondary special  Single / not married       With parents   \n",
       "2               Higher education  Single / not married  House / apartment   \n",
       "3  Secondary / secondary special               Married  House / apartment   \n",
       "4  Secondary / secondary special               Married  House / apartment   \n",
       "\n",
       "   work  phone  email  ... phone_woe  email_woe  occu_type_woe outcome_woe  \\\n",
       "0     1      1      0  ...     0.102      0.026          0.099       4.984   \n",
       "1     1      0      0  ...    -0.038      0.026          0.099       4.984   \n",
       "2     0      0      1  ...    -0.038     -0.205          0.046       4.984   \n",
       "3     0      0      0  ...    -0.038      0.026         -0.104       4.984   \n",
       "4     0      0      0  ...    -0.038      0.026          0.099       4.984   \n",
       "\n",
       "  eduenc_type_woe income_bins_woe chldno_bins_woe emp_yrs_bins_woe  \\\n",
       "0           0.072           0.189          -0.078            0.471   \n",
       "1           0.072           0.044          -0.078           -0.002   \n",
       "2          -0.017           0.031          -0.078           -0.002   \n",
       "3           0.072           0.044          -0.078            0.471   \n",
       "4           0.072           0.189          -0.078            0.471   \n",
       "\n",
       "   age_bins_woe  fam_size_bins_woe  \n",
       "0        -0.329             -0.104  \n",
       "1         0.103             -0.104  \n",
       "2         0.103             -0.104  \n",
       "3         0.311             -0.104  \n",
       "4        -0.183              0.265  \n",
       "\n",
       "[5 rows x 36 columns]"
      ]
     },
     "execution_count": 191,
     "metadata": {},
     "output_type": "execute_result"
    }
   ],
   "source": [
    "encoding_df.toPandas().head(5)"
   ]
  },
  {
   "cell_type": "code",
   "execution_count": 192,
   "metadata": {},
   "outputs": [
    {
     "data": {
      "text/plain": [
       "{'gender': 0.027057549679532604,\n",
       " 'own_car': 0.04179770274616645,\n",
       " 'own_reality': 0.020439800170587212,\n",
       " 'income_type': 0.28510283880505527,\n",
       " 'edu_type': 0.04803952077071605,\n",
       " 'fam_status': 0.2342531359875759,\n",
       " 'house_type': 0.033138498312494866,\n",
       " 'work': 0.015266266506309899,\n",
       " 'phone': 0.003909243056567676,\n",
       " 'email': 0.005282087712231127,\n",
       " 'occu_type': 0.4911977033799512,\n",
       " 'outcome': 15.833297459753336,\n",
       " 'eduenc_type': 0.04803952077071605,\n",
       " 'income_bins': 0.022295173434377397,\n",
       " 'chldno_bins': 0.0776259043532662,\n",
       " 'emp_yrs_bins': 0.029386338095149407,\n",
       " 'age_bins': 0.10851743085436731,\n",
       " 'fam_size_bins': 0.027597538957284104}"
      ]
     },
     "execution_count": 192,
     "metadata": {},
     "output_type": "execute_result"
    }
   ],
   "source": [
    "ivs"
   ]
  },
  {
   "cell_type": "code",
   "execution_count": 193,
   "metadata": {},
   "outputs": [],
   "source": [
    "iv_df=pd.DataFrame.from_dict(ivs,orient='index')"
   ]
  },
  {
   "cell_type": "code",
   "execution_count": 194,
   "metadata": {},
   "outputs": [
    {
     "data": {
      "text/html": [
       "<div>\n",
       "<style scoped>\n",
       "    .dataframe tbody tr th:only-of-type {\n",
       "        vertical-align: middle;\n",
       "    }\n",
       "\n",
       "    .dataframe tbody tr th {\n",
       "        vertical-align: top;\n",
       "    }\n",
       "\n",
       "    .dataframe thead th {\n",
       "        text-align: right;\n",
       "    }\n",
       "</style>\n",
       "<table border=\"1\" class=\"dataframe\">\n",
       "  <thead>\n",
       "    <tr style=\"text-align: right;\">\n",
       "      <th></th>\n",
       "      <th>0</th>\n",
       "    </tr>\n",
       "  </thead>\n",
       "  <tbody>\n",
       "    <tr>\n",
       "      <th>gender</th>\n",
       "      <td>0.027</td>\n",
       "    </tr>\n",
       "    <tr>\n",
       "      <th>own_car</th>\n",
       "      <td>0.042</td>\n",
       "    </tr>\n",
       "    <tr>\n",
       "      <th>own_reality</th>\n",
       "      <td>0.020</td>\n",
       "    </tr>\n",
       "    <tr>\n",
       "      <th>income_type</th>\n",
       "      <td>0.285</td>\n",
       "    </tr>\n",
       "    <tr>\n",
       "      <th>edu_type</th>\n",
       "      <td>0.048</td>\n",
       "    </tr>\n",
       "    <tr>\n",
       "      <th>fam_status</th>\n",
       "      <td>0.234</td>\n",
       "    </tr>\n",
       "    <tr>\n",
       "      <th>house_type</th>\n",
       "      <td>0.033</td>\n",
       "    </tr>\n",
       "    <tr>\n",
       "      <th>work</th>\n",
       "      <td>0.015</td>\n",
       "    </tr>\n",
       "    <tr>\n",
       "      <th>phone</th>\n",
       "      <td>0.004</td>\n",
       "    </tr>\n",
       "    <tr>\n",
       "      <th>email</th>\n",
       "      <td>0.005</td>\n",
       "    </tr>\n",
       "    <tr>\n",
       "      <th>occu_type</th>\n",
       "      <td>0.491</td>\n",
       "    </tr>\n",
       "    <tr>\n",
       "      <th>outcome</th>\n",
       "      <td>15.833</td>\n",
       "    </tr>\n",
       "    <tr>\n",
       "      <th>eduenc_type</th>\n",
       "      <td>0.048</td>\n",
       "    </tr>\n",
       "    <tr>\n",
       "      <th>income_bins</th>\n",
       "      <td>0.022</td>\n",
       "    </tr>\n",
       "    <tr>\n",
       "      <th>chldno_bins</th>\n",
       "      <td>0.078</td>\n",
       "    </tr>\n",
       "    <tr>\n",
       "      <th>emp_yrs_bins</th>\n",
       "      <td>0.029</td>\n",
       "    </tr>\n",
       "    <tr>\n",
       "      <th>age_bins</th>\n",
       "      <td>0.109</td>\n",
       "    </tr>\n",
       "    <tr>\n",
       "      <th>fam_size_bins</th>\n",
       "      <td>0.028</td>\n",
       "    </tr>\n",
       "  </tbody>\n",
       "</table>\n",
       "</div>"
      ],
      "text/plain": [
       "                   0\n",
       "gender         0.027\n",
       "own_car        0.042\n",
       "own_reality    0.020\n",
       "income_type    0.285\n",
       "edu_type       0.048\n",
       "fam_status     0.234\n",
       "house_type     0.033\n",
       "work           0.015\n",
       "phone          0.004\n",
       "email          0.005\n",
       "occu_type      0.491\n",
       "outcome       15.833\n",
       "eduenc_type    0.048\n",
       "income_bins    0.022\n",
       "chldno_bins    0.078\n",
       "emp_yrs_bins   0.029\n",
       "age_bins       0.109\n",
       "fam_size_bins  0.028"
      ]
     },
     "execution_count": 194,
     "metadata": {},
     "output_type": "execute_result"
    }
   ],
   "source": [
    "iv_df"
   ]
  },
  {
   "cell_type": "code",
   "execution_count": 195,
   "metadata": {},
   "outputs": [
    {
     "data": {
      "text/html": [
       "<div>\n",
       "<style scoped>\n",
       "    .dataframe tbody tr th:only-of-type {\n",
       "        vertical-align: middle;\n",
       "    }\n",
       "\n",
       "    .dataframe tbody tr th {\n",
       "        vertical-align: top;\n",
       "    }\n",
       "\n",
       "    .dataframe thead th {\n",
       "        text-align: right;\n",
       "    }\n",
       "</style>\n",
       "<table border=\"1\" class=\"dataframe\">\n",
       "  <thead>\n",
       "    <tr style=\"text-align: right;\">\n",
       "      <th></th>\n",
       "      <th>0</th>\n",
       "    </tr>\n",
       "  </thead>\n",
       "  <tbody>\n",
       "    <tr>\n",
       "      <th>gender</th>\n",
       "      <td>0.027</td>\n",
       "    </tr>\n",
       "    <tr>\n",
       "      <th>own_car</th>\n",
       "      <td>0.042</td>\n",
       "    </tr>\n",
       "    <tr>\n",
       "      <th>own_reality</th>\n",
       "      <td>0.020</td>\n",
       "    </tr>\n",
       "    <tr>\n",
       "      <th>edu_type</th>\n",
       "      <td>0.048</td>\n",
       "    </tr>\n",
       "    <tr>\n",
       "      <th>house_type</th>\n",
       "      <td>0.033</td>\n",
       "    </tr>\n",
       "    <tr>\n",
       "      <th>work</th>\n",
       "      <td>0.015</td>\n",
       "    </tr>\n",
       "    <tr>\n",
       "      <th>phone</th>\n",
       "      <td>0.004</td>\n",
       "    </tr>\n",
       "    <tr>\n",
       "      <th>email</th>\n",
       "      <td>0.005</td>\n",
       "    </tr>\n",
       "    <tr>\n",
       "      <th>eduenc_type</th>\n",
       "      <td>0.048</td>\n",
       "    </tr>\n",
       "    <tr>\n",
       "      <th>income_bins</th>\n",
       "      <td>0.022</td>\n",
       "    </tr>\n",
       "    <tr>\n",
       "      <th>chldno_bins</th>\n",
       "      <td>0.078</td>\n",
       "    </tr>\n",
       "    <tr>\n",
       "      <th>emp_yrs_bins</th>\n",
       "      <td>0.029</td>\n",
       "    </tr>\n",
       "    <tr>\n",
       "      <th>fam_size_bins</th>\n",
       "      <td>0.028</td>\n",
       "    </tr>\n",
       "  </tbody>\n",
       "</table>\n",
       "</div>"
      ],
      "text/plain": [
       "                  0\n",
       "gender        0.027\n",
       "own_car       0.042\n",
       "own_reality   0.020\n",
       "edu_type      0.048\n",
       "house_type    0.033\n",
       "work          0.015\n",
       "phone         0.004\n",
       "email         0.005\n",
       "eduenc_type   0.048\n",
       "income_bins   0.022\n",
       "chldno_bins   0.078\n",
       "emp_yrs_bins  0.029\n",
       "fam_size_bins 0.028"
      ]
     },
     "execution_count": 195,
     "metadata": {},
     "output_type": "execute_result"
    }
   ],
   "source": [
    "###Identifying weak predictor\n",
    "iv_df[iv_df[0] < 0.1]"
   ]
  },
  {
   "cell_type": "code",
   "execution_count": 196,
   "metadata": {},
   "outputs": [
    {
     "data": {
      "text/html": [
       "<div>\n",
       "<style scoped>\n",
       "    .dataframe tbody tr th:only-of-type {\n",
       "        vertical-align: middle;\n",
       "    }\n",
       "\n",
       "    .dataframe tbody tr th {\n",
       "        vertical-align: top;\n",
       "    }\n",
       "\n",
       "    .dataframe thead th {\n",
       "        text-align: right;\n",
       "    }\n",
       "</style>\n",
       "<table border=\"1\" class=\"dataframe\">\n",
       "  <thead>\n",
       "    <tr style=\"text-align: right;\">\n",
       "      <th></th>\n",
       "      <th>0</th>\n",
       "    </tr>\n",
       "  </thead>\n",
       "  <tbody>\n",
       "    <tr>\n",
       "      <th>income_type</th>\n",
       "      <td>0.285</td>\n",
       "    </tr>\n",
       "    <tr>\n",
       "      <th>fam_status</th>\n",
       "      <td>0.234</td>\n",
       "    </tr>\n",
       "    <tr>\n",
       "      <th>occu_type</th>\n",
       "      <td>0.491</td>\n",
       "    </tr>\n",
       "    <tr>\n",
       "      <th>outcome</th>\n",
       "      <td>15.833</td>\n",
       "    </tr>\n",
       "    <tr>\n",
       "      <th>age_bins</th>\n",
       "      <td>0.109</td>\n",
       "    </tr>\n",
       "  </tbody>\n",
       "</table>\n",
       "</div>"
      ],
      "text/plain": [
       "                 0\n",
       "income_type  0.285\n",
       "fam_status   0.234\n",
       "occu_type    0.491\n",
       "outcome     15.833\n",
       "age_bins     0.109"
      ]
     },
     "execution_count": 196,
     "metadata": {},
     "output_type": "execute_result"
    }
   ],
   "source": [
    "###Identifying medium and strong predictor\n",
    "iv_df[iv_df[0] > 0.1]"
   ]
  },
  {
   "cell_type": "code",
   "execution_count": 366,
   "metadata": {},
   "outputs": [
    {
     "data": {
      "text/plain": [
       "['gender',\n",
       " 'own_car',\n",
       " 'own_reality',\n",
       " 'income_type',\n",
       " 'edu_type',\n",
       " 'fam_status',\n",
       " 'house_type',\n",
       " 'work',\n",
       " 'phone',\n",
       " 'email',\n",
       " 'occu_type',\n",
       " 'outcome',\n",
       " 'eduenc_type',\n",
       " 'income_bins',\n",
       " 'chldno_bins',\n",
       " 'emp_yrs_bins',\n",
       " 'age_bins',\n",
       " 'fam_size_bins',\n",
       " 'gender_woe',\n",
       " 'own_car_woe',\n",
       " 'own_reality_woe',\n",
       " 'income_type_woe',\n",
       " 'edu_type_woe',\n",
       " 'fam_status_woe',\n",
       " 'house_type_woe',\n",
       " 'work_woe',\n",
       " 'phone_woe',\n",
       " 'email_woe',\n",
       " 'occu_type_woe',\n",
       " 'outcome_woe',\n",
       " 'eduenc_type_woe',\n",
       " 'income_bins_woe',\n",
       " 'chldno_bins_woe',\n",
       " 'emp_yrs_bins_woe',\n",
       " 'age_bins_woe',\n",
       " 'fam_size_bins_woe']"
      ]
     },
     "execution_count": 366,
     "metadata": {},
     "output_type": "execute_result"
    }
   ],
   "source": [
    "\n",
    "encoding_df.columns"
   ]
  },
  {
   "cell_type": "code",
   "execution_count": 218,
   "metadata": {},
   "outputs": [],
   "source": [
    "##Selected the columns where IV > 0.1 and IV >0.05\n",
    "cleaned_ex1=encoding_df.select(\"income_type_woe\",\"fam_status_woe\",\"occu_type_woe\",\"age_bins_woe\",\n",
    "                               \"income_bins_woe\",\"chldno_bins_woe\",\"outcome\",\"own_car_woe\")"
   ]
  },
  {
   "cell_type": "code",
   "execution_count": 219,
   "metadata": {},
   "outputs": [
    {
     "data": {
      "text/html": [
       "<div>\n",
       "<style scoped>\n",
       "    .dataframe tbody tr th:only-of-type {\n",
       "        vertical-align: middle;\n",
       "    }\n",
       "\n",
       "    .dataframe tbody tr th {\n",
       "        vertical-align: top;\n",
       "    }\n",
       "\n",
       "    .dataframe thead th {\n",
       "        text-align: right;\n",
       "    }\n",
       "</style>\n",
       "<table border=\"1\" class=\"dataframe\">\n",
       "  <thead>\n",
       "    <tr style=\"text-align: right;\">\n",
       "      <th></th>\n",
       "      <th>income_type_woe</th>\n",
       "      <th>fam_status_woe</th>\n",
       "      <th>occu_type_woe</th>\n",
       "      <th>age_bins_woe</th>\n",
       "      <th>income_bins_woe</th>\n",
       "      <th>chldno_bins_woe</th>\n",
       "      <th>outcome</th>\n",
       "      <th>own_car_woe</th>\n",
       "    </tr>\n",
       "  </thead>\n",
       "  <tbody>\n",
       "    <tr>\n",
       "      <th>0</th>\n",
       "      <td>-0.021</td>\n",
       "      <td>0.031</td>\n",
       "      <td>0.099</td>\n",
       "      <td>-0.329</td>\n",
       "      <td>0.189</td>\n",
       "      <td>-0.078</td>\n",
       "      <td>0</td>\n",
       "      <td>-0.155</td>\n",
       "    </tr>\n",
       "    <tr>\n",
       "      <th>1</th>\n",
       "      <td>-0.068</td>\n",
       "      <td>-0.575</td>\n",
       "      <td>0.099</td>\n",
       "      <td>0.103</td>\n",
       "      <td>0.044</td>\n",
       "      <td>-0.078</td>\n",
       "      <td>0</td>\n",
       "      <td>-0.155</td>\n",
       "    </tr>\n",
       "    <tr>\n",
       "      <th>2</th>\n",
       "      <td>1.888</td>\n",
       "      <td>-0.575</td>\n",
       "      <td>0.046</td>\n",
       "      <td>0.103</td>\n",
       "      <td>0.031</td>\n",
       "      <td>-0.078</td>\n",
       "      <td>0</td>\n",
       "      <td>-0.155</td>\n",
       "    </tr>\n",
       "  </tbody>\n",
       "</table>\n",
       "</div>"
      ],
      "text/plain": [
       "   income_type_woe  fam_status_woe  occu_type_woe  age_bins_woe  \\\n",
       "0           -0.021           0.031          0.099        -0.329   \n",
       "1           -0.068          -0.575          0.099         0.103   \n",
       "2            1.888          -0.575          0.046         0.103   \n",
       "\n",
       "   income_bins_woe  chldno_bins_woe  outcome  own_car_woe  \n",
       "0            0.189           -0.078        0       -0.155  \n",
       "1            0.044           -0.078        0       -0.155  \n",
       "2            0.031           -0.078        0       -0.155  "
      ]
     },
     "execution_count": 219,
     "metadata": {},
     "output_type": "execute_result"
    }
   ],
   "source": [
    "cleaned_ex1.toPandas().head(3)"
   ]
  },
  {
   "cell_type": "code",
   "execution_count": 220,
   "metadata": {},
   "outputs": [],
   "source": [
    "cleaned_ex2=cleaned_ex1.withColumnRenamed(\"outcome\",\"label\")"
   ]
  },
  {
   "cell_type": "code",
   "execution_count": 221,
   "metadata": {},
   "outputs": [
    {
     "data": {
      "text/plain": [
       "['income_type_woe',\n",
       " 'fam_status_woe',\n",
       " 'occu_type_woe',\n",
       " 'age_bins_woe',\n",
       " 'income_bins_woe',\n",
       " 'chldno_bins_woe',\n",
       " 'label',\n",
       " 'own_car_woe']"
      ]
     },
     "execution_count": 221,
     "metadata": {},
     "output_type": "execute_result"
    }
   ],
   "source": [
    "cleaned_ex2.columns"
   ]
  },
  {
   "cell_type": "code",
   "execution_count": null,
   "metadata": {},
   "outputs": [],
   "source": [
    "##Model Building this is an iterative process and have taking from model0 to model 2\n",
    "#for fine tuning"
   ]
  },
  {
   "cell_type": "code",
   "execution_count": null,
   "metadata": {},
   "outputs": [],
   "source": [
    "##Fisrt Model we are going to take the following features with standard threshold 0.5 and lets see\n",
    "#'income_type_woe',\n",
    " #'fam_status_woe',\n",
    " #'occu_type_woe',\n",
    " #'age_bins_woe',\n",
    " #'income_bins_woe',\n",
    " #'chldno_bins_woe',\n",
    " #'label',\n",
    " #'edu_type_woe',\n",
    " #'own_car_woe'\n",
    "#gender_woe"
   ]
  },
  {
   "cell_type": "code",
   "execution_count": 222,
   "metadata": {},
   "outputs": [],
   "source": [
    "from pyspark.ml.feature import VectorAssembler\n",
    "from pyspark.ml.classification import LogisticRegression"
   ]
  },
  {
   "cell_type": "code",
   "execution_count": 224,
   "metadata": {},
   "outputs": [],
   "source": [
    "#create a feature vector using the vector assembler. \n",
    "trainCols = cleaned_ex2.columns\n",
    "trainCols.remove(\"label\")\n",
    "assembler = VectorAssembler(inputCols=trainCols, outputCol='features')\n",
    "cleaned_ex2 = assembler.transform(cleaned_ex2)"
   ]
  },
  {
   "cell_type": "code",
   "execution_count": 225,
   "metadata": {},
   "outputs": [],
   "source": [
    "train, test = cleaned_ex2.randomSplit([0.7,0.3])"
   ]
  },
  {
   "cell_type": "code",
   "execution_count": 226,
   "metadata": {},
   "outputs": [
    {
     "name": "stdout",
     "output_type": "stream",
     "text": [
      "The number of ones are 53\n",
      "Percentage of ones are 0.28342245989304815\n"
     ]
    }
   ],
   "source": [
    "dataset_size=float(train.select(\"label\").count())\n",
    "numPositives=train.select(\"label\").where('label == 1').count()\n",
    "per_ones=(float(numPositives)/float(dataset_size))*100\n",
    "numNegatives=float(dataset_size-numPositives)\n",
    "print('The number of ones are {}'.format(numPositives))\n",
    "print('Percentage of ones are {}'.format(per_ones))"
   ]
  },
  {
   "cell_type": "code",
   "execution_count": 227,
   "metadata": {},
   "outputs": [
    {
     "name": "stdout",
     "output_type": "stream",
     "text": [
      "+-----+----------+--------------------+\n",
      "|label|prediction|         probability|\n",
      "+-----+----------+--------------------+\n",
      "|    1|       0.0|[0.93891188386346...|\n",
      "|    0|       1.0|[0.30709677377136...|\n",
      "|    1|       1.0|[0.24930522741297...|\n",
      "|    0|       0.0|[0.99277878646219...|\n",
      "|    0|       0.0|[0.99707015106321...|\n",
      "|    0|       0.0|[0.99874880328847...|\n",
      "|    0|       0.0|[0.99261483862959...|\n",
      "|    0|       0.0|[0.99261483862959...|\n",
      "|    0|       0.0|[0.99921290113304...|\n",
      "|    0|       0.0|[0.89187854127329...|\n",
      "+-----+----------+--------------------+\n",
      "only showing top 10 rows\n",
      "\n"
     ]
    }
   ],
   "source": [
    "##Model0 with standard 0.5 threshold\n",
    "from pyspark.ml.classification import LogisticRegression\n",
    "lr_0 = LogisticRegression(labelCol=\"label\", featuresCol=\"features\",maxIter=10)\n",
    "model_0=lr_0.fit(train)\n",
    "predict_train=model_0.transform(train)\n",
    "predict_0=model_0.transform(test)\n",
    "predict_0.select(\"label\",\"prediction\",\"probability\").show(10)"
   ]
  },
  {
   "cell_type": "code",
   "execution_count": 228,
   "metadata": {},
   "outputs": [],
   "source": [
    "result1=model_0.evaluate(test)"
   ]
  },
  {
   "cell_type": "code",
   "execution_count": 229,
   "metadata": {},
   "outputs": [
    {
     "name": "stdout",
     "output_type": "stream",
     "text": [
      "recall [0.9998751872191712, 0.05]\n"
     ]
    }
   ],
   "source": [
    "print(\"recall\",result1.recallByLabel)"
   ]
  },
  {
   "cell_type": "code",
   "execution_count": 230,
   "metadata": {},
   "outputs": [
    {
     "name": "stdout",
     "output_type": "stream",
     "text": [
      "AUC 0.66393222666001\n"
     ]
    }
   ],
   "source": [
    "print(\"AUC\",result1.areaUnderROC)"
   ]
  },
  {
   "cell_type": "code",
   "execution_count": 231,
   "metadata": {},
   "outputs": [
    {
     "name": "stdout",
     "output_type": "stream",
     "text": [
      "precision [0.9976338729763388, 0.5]\n"
     ]
    }
   ],
   "source": [
    "print(\"precision\",result1.precisionByLabel)"
   ]
  },
  {
   "cell_type": "code",
   "execution_count": 232,
   "metadata": {},
   "outputs": [],
   "source": [
    "##Best threshold suggested by Logit\n",
    "fMeasure = result1.fMeasureByThreshold\n",
    "bestThreshold = fMeasure.orderBy(fMeasure['F-Measure'].desc()).first().threshold"
   ]
  },
  {
   "cell_type": "code",
   "execution_count": 233,
   "metadata": {},
   "outputs": [
    {
     "name": "stdout",
     "output_type": "stream",
     "text": [
      "best threshold 0.05787044085881421\n"
     ]
    }
   ],
   "source": [
    "print(\"best threshold\",bestThreshold)"
   ]
  },
  {
   "cell_type": "markdown",
   "metadata": {},
   "source": [
    "#### Evaluation of Model 0 with standard cutoff"
   ]
  },
  {
   "cell_type": "code",
   "execution_count": 234,
   "metadata": {},
   "outputs": [
    {
     "name": "stdout",
     "output_type": "stream",
     "text": [
      "AUC for Model 0: 0.664\n",
      "+-----+----------+-----+\n",
      "|label|prediction|count|\n",
      "+-----+----------+-----+\n",
      "|    1|       0.0|   19|\n",
      "|    0|       1.0|    1|\n",
      "|    0|       0.0| 8011|\n",
      "|    1|       1.0|    1|\n",
      "+-----+----------+-----+\n",
      "\n",
      "n precision: 0.500\n",
      "n recall: 0.050\n",
      "n accuracy: 0.998\n",
      "n F1 score: 0.091\n"
     ]
    }
   ],
   "source": [
    "# initialize the evaluator\n",
    "from pyspark.mllib.evaluation import BinaryClassificationMetrics\n",
    "from pyspark.ml.evaluation import BinaryClassificationEvaluator\n",
    "evaluator = BinaryClassificationEvaluator()\n",
    "# calculate AUC\n",
    "auc = evaluator.evaluate(predict_0, {evaluator.metricName: 'areaUnderROC'})\n",
    "print('AUC for Model 0: %0.3f' % auc)\n",
    "# compute TN, TP, FN, and FP\n",
    "predict_0.groupBy('label', 'prediction').count().show()\n",
    "# Calculate the elements of the confusion matrix\n",
    "TN = predict_0.filter('prediction = 0 AND label = prediction').count()\n",
    "TP = predict_0.filter('prediction = 1 AND label = prediction').count()\n",
    "FN = predict_0.filter('prediction = 0 AND label <> prediction').count()\n",
    "FP = predict_0.filter('prediction = 1 AND label <> prediction').count()\n",
    "# calculate accuracy, precision, recall, and F1-score\n",
    "accuracy = (TN + TP) / (TN + TP + FN + FP)\n",
    "precision = TP / (TP + FP)\n",
    "recall = TP / (TP + FN)\n",
    "F =  2 * (precision*recall) / (precision + recall)\n",
    "print('n precision: %0.3f' % precision)\n",
    "print('n recall: %0.3f' % recall)\n",
    "print('n accuracy: %0.3f' % accuracy)\n",
    "print('n F1 score: %0.3f' % F)"
   ]
  },
  {
   "cell_type": "code",
   "execution_count": null,
   "metadata": {},
   "outputs": [],
   "source": [
    "### The precision and recall is very bad in this model although the AUC and Accuracy is good"
   ]
  },
  {
   "cell_type": "markdown",
   "metadata": {},
   "source": [
    "#### Model 2 after fine tuning the threshold"
   ]
  },
  {
   "cell_type": "code",
   "execution_count": 235,
   "metadata": {},
   "outputs": [
    {
     "name": "stdout",
     "output_type": "stream",
     "text": [
      "+-----+----------+--------------------+\n",
      "|label|prediction|         probability|\n",
      "+-----+----------+--------------------+\n",
      "|    1|       1.0|[0.93891188386346...|\n",
      "|    0|       1.0|[0.30709677377136...|\n",
      "|    1|       1.0|[0.24930522741297...|\n",
      "|    0|       0.0|[0.99277878646219...|\n",
      "|    0|       0.0|[0.99707015106321...|\n",
      "|    0|       0.0|[0.99874880328847...|\n",
      "|    0|       0.0|[0.99261483862959...|\n",
      "|    0|       0.0|[0.99261483862959...|\n",
      "|    0|       0.0|[0.99921290113304...|\n",
      "|    0|       1.0|[0.89187854127329...|\n",
      "+-----+----------+--------------------+\n",
      "only showing top 10 rows\n",
      "\n"
     ]
    }
   ],
   "source": [
    "####Building Model1 with best threshold 0.043\n",
    "from pyspark.ml.classification import LogisticRegression\n",
    "lr2 = LogisticRegression(labelCol=\"label\", featuresCol=\"features\",maxIter=10,threshold=0.057)\n",
    "model1=lr2.fit(train)\n",
    "#predict_train=model.transform(train)\n",
    "predictions_1=model1.transform(test)\n",
    "predictions_1.select(\"label\",\"prediction\",\"probability\").show(10)"
   ]
  },
  {
   "cell_type": "code",
   "execution_count": 236,
   "metadata": {},
   "outputs": [
    {
     "name": "stdout",
     "output_type": "stream",
     "text": [
      "+-----+--------------------+----------+--------------------+\n",
      "|label|       rawPrediction|prediction|         probability|\n",
      "+-----+--------------------+----------+--------------------+\n",
      "|    1|[2.73240428572746...|       1.0|[0.93891188386346...|\n",
      "|    0|[-0.8137274228214...|       1.0|[0.30709677377136...|\n",
      "|    1|[-1.1023211824969...|       1.0|[0.24930522741297...|\n",
      "|    0|[4.92348484747025...|       0.0|[0.99277878646219...|\n",
      "|    0|[5.82987026534733...|       0.0|[0.99707015106321...|\n",
      "+-----+--------------------+----------+--------------------+\n",
      "only showing top 5 rows\n",
      "\n",
      "The area under ROC for train set is 0.66393222666001\n",
      "The area under ROC for test set is 0.66393222666001\n"
     ]
    }
   ],
   "source": [
    "###Model Evaluation with 0.043 threshold\n",
    "from pyspark.ml.evaluation import BinaryClassificationEvaluator\n",
    "evaluator=BinaryClassificationEvaluator(rawPredictionCol=\"rawPrediction\",labelCol=\"label\")\n",
    "predictions_1.select(\"label\",\"rawPrediction\",\"prediction\",\"probability\").show(5)\n",
    "print(\"The area under ROC for train set is {}\".format(evaluator.evaluate(predictions_1)))\n",
    "print(\"The area under ROC for test set is {}\".format(evaluator.evaluate(predictions_1)))"
   ]
  },
  {
   "cell_type": "markdown",
   "metadata": {},
   "source": [
    "### Evaluation of Model 1"
   ]
  },
  {
   "cell_type": "code",
   "execution_count": 237,
   "metadata": {},
   "outputs": [
    {
     "name": "stdout",
     "output_type": "stream",
     "text": [
      "AUC for Model 1: 0.664\n",
      "+-----+----------+-----+\n",
      "|label|prediction|count|\n",
      "+-----+----------+-----+\n",
      "|    1|       0.0|   17|\n",
      "|    0|       1.0|    8|\n",
      "|    0|       0.0| 8004|\n",
      "|    1|       1.0|    3|\n",
      "+-----+----------+-----+\n",
      "\n",
      "n precision: 0.273\n",
      "n recall: 0.150\n",
      "n accuracy: 0.997\n",
      "n F1 score: 0.194\n"
     ]
    }
   ],
   "source": [
    "# initialize the evaluator\n",
    "evaluator = BinaryClassificationEvaluator()\n",
    "# calculate AUC\n",
    "auc = evaluator.evaluate(predictions_1, {evaluator.metricName: 'areaUnderROC'})\n",
    "print('AUC for Model 1: %0.3f' % auc)\n",
    "# compute TN, TP, FN, and FP\n",
    "predictions_1.groupBy('label', 'prediction').count().show()\n",
    "# Calculate the elements of the confusion matrix\n",
    "TN = predictions_1.filter('prediction = 0 AND label = prediction').count()\n",
    "TP = predictions_1.filter('prediction = 1 AND label = prediction').count()\n",
    "FN = predictions_1.filter('prediction = 0 AND label <> prediction').count()\n",
    "FP = predictions_1.filter('prediction = 1 AND label <> prediction').count()\n",
    "# calculate accuracy, precision, recall, and F1-score\n",
    "accuracy = (TN + TP) / (TN + TP + FN + FP)\n",
    "precision = TP / (TP + FP)\n",
    "recall = TP / (TP + FN)\n",
    "F =  2 * (precision*recall) / (precision + recall)\n",
    "print('n precision: %0.3f' % precision)\n",
    "print('n recall: %0.3f' % recall)\n",
    "print('n accuracy: %0.3f' % accuracy)\n",
    "print('n F1 score: %0.3f' % F)"
   ]
  },
  {
   "cell_type": "code",
   "execution_count": null,
   "metadata": {},
   "outputs": [],
   "source": [
    "### Still we can tune the model for better performance"
   ]
  },
  {
   "cell_type": "markdown",
   "metadata": {},
   "source": [
    "#### KS Statistics"
   ]
  },
  {
   "cell_type": "code",
   "execution_count": 238,
   "metadata": {},
   "outputs": [],
   "source": [
    "import pandas as pd\n",
    "import numpy as np\n",
    "def ks(data=None,target=None, prob=None):\n",
    "  data['target0'] = 1 - data[target]\n",
    "  data['bucket'] = pd.qcut(data[prob], 10)\n",
    "  grouped = data.groupby('bucket', as_index = False)\n",
    "  kstable = pd.DataFrame()\n",
    "  kstable['min_prob'] = grouped.min()[prob]\n",
    "  kstable['max_prob'] = grouped.max()[prob]\n",
    "  kstable['events']   = grouped.sum()[target]\n",
    "  kstable['nonevents'] = grouped.sum()['target0']\n",
    "  kstable = kstable.sort_values(by=\"min_prob\",   ascending=False).reset_index(drop = True)\n",
    "  kstable['event_rate'] = (kstable.events /   data[target].sum()).apply('{0:.2%}'.format)\n",
    "  kstable['nonevent_rate'] = (kstable.nonevents /   data['target0'].sum()).apply('{0:.2%}'.format)\n",
    "  kstable['cum_eventrate']=(kstable.events /   data[target].sum()).cumsum()\n",
    "  kstable['cum_noneventrate']=(kstable.nonevents /   data['target0'].sum()).cumsum()\n",
    "  kstable['KS'] = np.round(kstable['cum_eventrate']-  kstable['cum_noneventrate'], 3) * 100\n",
    "\n",
    "  #Formating\n",
    "  kstable['cum_eventrate']=   kstable['cum_eventrate'].apply('{0:.2%}'.format)\n",
    "  kstable['cum_noneventrate']=   kstable['cum_noneventrate'].apply('{0:.2%}'.format)\n",
    "  kstable.index = range(1,11)\n",
    "  kstable.index.rename('Decile', inplace=True)\n",
    "  pd.set_option('display.max_columns', 9)\n",
    "  print(kstable)\n",
    "    \n",
    "  #Display KS\n",
    "  from colorama import Fore\n",
    "  print(Fore.RED + \"KS is \" + str(max(kstable['KS']))+\"%\"+ \" at decile \" + str((kstable.index[kstable['KS']==max(kstable['KS'])][0])))\n",
    "  return(kstable)"
   ]
  },
  {
   "cell_type": "code",
   "execution_count": 239,
   "metadata": {},
   "outputs": [],
   "source": [
    "#KS Statistics for Model 1 to find the optimal threshold\n",
    "temp_ks=predictions_1.select(\"prediction\",\"probability\",\"label\").toPandas()"
   ]
  },
  {
   "cell_type": "code",
   "execution_count": 240,
   "metadata": {},
   "outputs": [
    {
     "data": {
      "text/html": [
       "<div>\n",
       "<style scoped>\n",
       "    .dataframe tbody tr th:only-of-type {\n",
       "        vertical-align: middle;\n",
       "    }\n",
       "\n",
       "    .dataframe tbody tr th {\n",
       "        vertical-align: top;\n",
       "    }\n",
       "\n",
       "    .dataframe thead th {\n",
       "        text-align: right;\n",
       "    }\n",
       "</style>\n",
       "<table border=\"1\" class=\"dataframe\">\n",
       "  <thead>\n",
       "    <tr style=\"text-align: right;\">\n",
       "      <th></th>\n",
       "      <th>prediction</th>\n",
       "      <th>probability</th>\n",
       "      <th>label</th>\n",
       "    </tr>\n",
       "  </thead>\n",
       "  <tbody>\n",
       "    <tr>\n",
       "      <th>0</th>\n",
       "      <td>1.000</td>\n",
       "      <td>[0.938911883863466, 0.061088116136533976]</td>\n",
       "      <td>1</td>\n",
       "    </tr>\n",
       "    <tr>\n",
       "      <th>1</th>\n",
       "      <td>1.000</td>\n",
       "      <td>[0.30709677377136035, 0.6929032262286396]</td>\n",
       "      <td>0</td>\n",
       "    </tr>\n",
       "    <tr>\n",
       "      <th>2</th>\n",
       "      <td>1.000</td>\n",
       "      <td>[0.24930522741297617, 0.7506947725870239]</td>\n",
       "      <td>1</td>\n",
       "    </tr>\n",
       "  </tbody>\n",
       "</table>\n",
       "</div>"
      ],
      "text/plain": [
       "   prediction                                probability  label\n",
       "0       1.000  [0.938911883863466, 0.061088116136533976]      1\n",
       "1       1.000  [0.30709677377136035, 0.6929032262286396]      0\n",
       "2       1.000  [0.24930522741297617, 0.7506947725870239]      1"
      ]
     },
     "execution_count": 240,
     "metadata": {},
     "output_type": "execute_result"
    }
   ],
   "source": [
    "temp_ks.head(3)"
   ]
  },
  {
   "cell_type": "code",
   "execution_count": 241,
   "metadata": {},
   "outputs": [],
   "source": [
    "temp_ks['probability0']=temp_ks['probability'].apply(lambda x: x[0])\n",
    "temp_ks['probability1']=temp_ks['probability'].apply(lambda x: x[1])"
   ]
  },
  {
   "cell_type": "code",
   "execution_count": 242,
   "metadata": {},
   "outputs": [
    {
     "data": {
      "text/html": [
       "<div>\n",
       "<style scoped>\n",
       "    .dataframe tbody tr th:only-of-type {\n",
       "        vertical-align: middle;\n",
       "    }\n",
       "\n",
       "    .dataframe tbody tr th {\n",
       "        vertical-align: top;\n",
       "    }\n",
       "\n",
       "    .dataframe thead th {\n",
       "        text-align: right;\n",
       "    }\n",
       "</style>\n",
       "<table border=\"1\" class=\"dataframe\">\n",
       "  <thead>\n",
       "    <tr style=\"text-align: right;\">\n",
       "      <th></th>\n",
       "      <th>prediction</th>\n",
       "      <th>probability</th>\n",
       "      <th>label</th>\n",
       "      <th>probability0</th>\n",
       "      <th>probability1</th>\n",
       "    </tr>\n",
       "  </thead>\n",
       "  <tbody>\n",
       "    <tr>\n",
       "      <th>0</th>\n",
       "      <td>1.000</td>\n",
       "      <td>[0.938911883863466, 0.061088116136533976]</td>\n",
       "      <td>1</td>\n",
       "      <td>0.939</td>\n",
       "      <td>0.061</td>\n",
       "    </tr>\n",
       "    <tr>\n",
       "      <th>1</th>\n",
       "      <td>1.000</td>\n",
       "      <td>[0.30709677377136035, 0.6929032262286396]</td>\n",
       "      <td>0</td>\n",
       "      <td>0.307</td>\n",
       "      <td>0.693</td>\n",
       "    </tr>\n",
       "    <tr>\n",
       "      <th>2</th>\n",
       "      <td>1.000</td>\n",
       "      <td>[0.24930522741297617, 0.7506947725870239]</td>\n",
       "      <td>1</td>\n",
       "      <td>0.249</td>\n",
       "      <td>0.751</td>\n",
       "    </tr>\n",
       "  </tbody>\n",
       "</table>\n",
       "</div>"
      ],
      "text/plain": [
       "   prediction                                probability  label  probability0  \\\n",
       "0       1.000  [0.938911883863466, 0.061088116136533976]      1         0.939   \n",
       "1       1.000  [0.30709677377136035, 0.6929032262286396]      0         0.307   \n",
       "2       1.000  [0.24930522741297617, 0.7506947725870239]      1         0.249   \n",
       "\n",
       "   probability1  \n",
       "0         0.061  \n",
       "1         0.693  \n",
       "2         0.751  "
      ]
     },
     "execution_count": 242,
     "metadata": {},
     "output_type": "execute_result"
    }
   ],
   "source": [
    "temp_ks.head(3)"
   ]
  },
  {
   "cell_type": "code",
   "execution_count": 564,
   "metadata": {},
   "outputs": [
    {
     "name": "stdout",
     "output_type": "stream",
     "text": [
      "        min_prob  max_prob  events  nonevents event_rate nonevent_rate  \\\n",
      "Decile                                                                   \n",
      "1          0.005     0.616       8        785     40.00%         9.91%   \n",
      "2          0.004     0.005       2        793     10.00%        10.01%   \n",
      "3          0.003     0.004       2        791     10.00%         9.99%   \n",
      "4          0.003     0.003       2        791     10.00%         9.99%   \n",
      "5          0.002     0.003       1        793      5.00%        10.01%   \n",
      "6          0.002     0.002       2        793     10.00%        10.01%   \n",
      "7          0.001     0.002       0        792      0.00%        10.00%   \n",
      "8          0.001     0.001       3        793     15.00%        10.01%   \n",
      "9          0.001     0.001       0        794      0.00%        10.03%   \n",
      "10         0.000     0.001       0        794      0.00%        10.03%   \n",
      "\n",
      "       cum_eventrate cum_noneventrate     KS  \n",
      "Decile                                        \n",
      "1             40.00%            9.91% 30.100  \n",
      "2             50.00%           19.93% 30.100  \n",
      "3             60.00%           29.92% 30.100  \n",
      "4             70.00%           39.90% 30.100  \n",
      "5             75.00%           49.92% 25.100  \n",
      "6             85.00%           59.93% 25.100  \n",
      "7             85.00%           69.93% 15.100  \n",
      "8            100.00%           79.95% 20.100  \n",
      "9            100.00%           89.97% 10.000  \n",
      "10           100.00%          100.00%  0.000  \n",
      "\u001b[31mKS is 30.099999999999998% at decile 1\n"
     ]
    },
    {
     "data": {
      "text/html": [
       "<div>\n",
       "<style scoped>\n",
       "    .dataframe tbody tr th:only-of-type {\n",
       "        vertical-align: middle;\n",
       "    }\n",
       "\n",
       "    .dataframe tbody tr th {\n",
       "        vertical-align: top;\n",
       "    }\n",
       "\n",
       "    .dataframe thead th {\n",
       "        text-align: right;\n",
       "    }\n",
       "</style>\n",
       "<table border=\"1\" class=\"dataframe\">\n",
       "  <thead>\n",
       "    <tr style=\"text-align: right;\">\n",
       "      <th></th>\n",
       "      <th>min_prob</th>\n",
       "      <th>max_prob</th>\n",
       "      <th>events</th>\n",
       "      <th>nonevents</th>\n",
       "      <th>event_rate</th>\n",
       "      <th>nonevent_rate</th>\n",
       "      <th>cum_eventrate</th>\n",
       "      <th>cum_noneventrate</th>\n",
       "      <th>KS</th>\n",
       "    </tr>\n",
       "    <tr>\n",
       "      <th>Decile</th>\n",
       "      <th></th>\n",
       "      <th></th>\n",
       "      <th></th>\n",
       "      <th></th>\n",
       "      <th></th>\n",
       "      <th></th>\n",
       "      <th></th>\n",
       "      <th></th>\n",
       "      <th></th>\n",
       "    </tr>\n",
       "  </thead>\n",
       "  <tbody>\n",
       "    <tr>\n",
       "      <th>1</th>\n",
       "      <td>0.005</td>\n",
       "      <td>0.616</td>\n",
       "      <td>8</td>\n",
       "      <td>785</td>\n",
       "      <td>40.00%</td>\n",
       "      <td>9.91%</td>\n",
       "      <td>40.00%</td>\n",
       "      <td>9.91%</td>\n",
       "      <td>30.100</td>\n",
       "    </tr>\n",
       "    <tr>\n",
       "      <th>2</th>\n",
       "      <td>0.004</td>\n",
       "      <td>0.005</td>\n",
       "      <td>2</td>\n",
       "      <td>793</td>\n",
       "      <td>10.00%</td>\n",
       "      <td>10.01%</td>\n",
       "      <td>50.00%</td>\n",
       "      <td>19.93%</td>\n",
       "      <td>30.100</td>\n",
       "    </tr>\n",
       "    <tr>\n",
       "      <th>3</th>\n",
       "      <td>0.003</td>\n",
       "      <td>0.004</td>\n",
       "      <td>2</td>\n",
       "      <td>791</td>\n",
       "      <td>10.00%</td>\n",
       "      <td>9.99%</td>\n",
       "      <td>60.00%</td>\n",
       "      <td>29.92%</td>\n",
       "      <td>30.100</td>\n",
       "    </tr>\n",
       "    <tr>\n",
       "      <th>4</th>\n",
       "      <td>0.003</td>\n",
       "      <td>0.003</td>\n",
       "      <td>2</td>\n",
       "      <td>791</td>\n",
       "      <td>10.00%</td>\n",
       "      <td>9.99%</td>\n",
       "      <td>70.00%</td>\n",
       "      <td>39.90%</td>\n",
       "      <td>30.100</td>\n",
       "    </tr>\n",
       "    <tr>\n",
       "      <th>5</th>\n",
       "      <td>0.002</td>\n",
       "      <td>0.003</td>\n",
       "      <td>1</td>\n",
       "      <td>793</td>\n",
       "      <td>5.00%</td>\n",
       "      <td>10.01%</td>\n",
       "      <td>75.00%</td>\n",
       "      <td>49.92%</td>\n",
       "      <td>25.100</td>\n",
       "    </tr>\n",
       "    <tr>\n",
       "      <th>6</th>\n",
       "      <td>0.002</td>\n",
       "      <td>0.002</td>\n",
       "      <td>2</td>\n",
       "      <td>793</td>\n",
       "      <td>10.00%</td>\n",
       "      <td>10.01%</td>\n",
       "      <td>85.00%</td>\n",
       "      <td>59.93%</td>\n",
       "      <td>25.100</td>\n",
       "    </tr>\n",
       "    <tr>\n",
       "      <th>7</th>\n",
       "      <td>0.001</td>\n",
       "      <td>0.002</td>\n",
       "      <td>0</td>\n",
       "      <td>792</td>\n",
       "      <td>0.00%</td>\n",
       "      <td>10.00%</td>\n",
       "      <td>85.00%</td>\n",
       "      <td>69.93%</td>\n",
       "      <td>15.100</td>\n",
       "    </tr>\n",
       "    <tr>\n",
       "      <th>8</th>\n",
       "      <td>0.001</td>\n",
       "      <td>0.001</td>\n",
       "      <td>3</td>\n",
       "      <td>793</td>\n",
       "      <td>15.00%</td>\n",
       "      <td>10.01%</td>\n",
       "      <td>100.00%</td>\n",
       "      <td>79.95%</td>\n",
       "      <td>20.100</td>\n",
       "    </tr>\n",
       "    <tr>\n",
       "      <th>9</th>\n",
       "      <td>0.001</td>\n",
       "      <td>0.001</td>\n",
       "      <td>0</td>\n",
       "      <td>794</td>\n",
       "      <td>0.00%</td>\n",
       "      <td>10.03%</td>\n",
       "      <td>100.00%</td>\n",
       "      <td>89.97%</td>\n",
       "      <td>10.000</td>\n",
       "    </tr>\n",
       "    <tr>\n",
       "      <th>10</th>\n",
       "      <td>0.000</td>\n",
       "      <td>0.001</td>\n",
       "      <td>0</td>\n",
       "      <td>794</td>\n",
       "      <td>0.00%</td>\n",
       "      <td>10.03%</td>\n",
       "      <td>100.00%</td>\n",
       "      <td>100.00%</td>\n",
       "      <td>0.000</td>\n",
       "    </tr>\n",
       "  </tbody>\n",
       "</table>\n",
       "</div>"
      ],
      "text/plain": [
       "        min_prob  max_prob  events  nonevents event_rate nonevent_rate  \\\n",
       "Decile                                                                   \n",
       "1          0.005     0.616       8        785     40.00%         9.91%   \n",
       "2          0.004     0.005       2        793     10.00%        10.01%   \n",
       "3          0.003     0.004       2        791     10.00%         9.99%   \n",
       "4          0.003     0.003       2        791     10.00%         9.99%   \n",
       "5          0.002     0.003       1        793      5.00%        10.01%   \n",
       "6          0.002     0.002       2        793     10.00%        10.01%   \n",
       "7          0.001     0.002       0        792      0.00%        10.00%   \n",
       "8          0.001     0.001       3        793     15.00%        10.01%   \n",
       "9          0.001     0.001       0        794      0.00%        10.03%   \n",
       "10         0.000     0.001       0        794      0.00%        10.03%   \n",
       "\n",
       "       cum_eventrate cum_noneventrate     KS  \n",
       "Decile                                        \n",
       "1             40.00%            9.91% 30.100  \n",
       "2             50.00%           19.93% 30.100  \n",
       "3             60.00%           29.92% 30.100  \n",
       "4             70.00%           39.90% 30.100  \n",
       "5             75.00%           49.92% 25.100  \n",
       "6             85.00%           59.93% 25.100  \n",
       "7             85.00%           69.93% 15.100  \n",
       "8            100.00%           79.95% 20.100  \n",
       "9            100.00%           89.97% 10.000  \n",
       "10           100.00%          100.00%  0.000  "
      ]
     },
     "execution_count": 564,
     "metadata": {},
     "output_type": "execute_result"
    }
   ],
   "source": [
    "ks(temp_ks,'label','probability1')"
   ]
  },
  {
   "cell_type": "markdown",
   "metadata": {},
   "source": [
    "### Building Model 2 from optimal threshold from KS Statistics 0.005"
   ]
  },
  {
   "cell_type": "code",
   "execution_count": 243,
   "metadata": {},
   "outputs": [
    {
     "name": "stdout",
     "output_type": "stream",
     "text": [
      "+-----+----------+\n",
      "|label|prediction|\n",
      "+-----+----------+\n",
      "|    1|       1.0|\n",
      "|    0|       1.0|\n",
      "|    1|       1.0|\n",
      "|    0|       1.0|\n",
      "|    0|       0.0|\n",
      "|    0|       0.0|\n",
      "|    0|       1.0|\n",
      "|    0|       1.0|\n",
      "|    0|       0.0|\n",
      "|    0|       1.0|\n",
      "+-----+----------+\n",
      "only showing top 10 rows\n",
      "\n"
     ]
    }
   ],
   "source": [
    "##taking 0.005 as cutoff as it is at 30.100\n",
    "from pyspark.ml.classification import LogisticRegression\n",
    "lr3 = LogisticRegression(labelCol=\"label\", featuresCol=\"features\",maxIter=10,threshold=0.005)\n",
    "model3=lr3.fit(train)\n",
    "#pt=model2.transform(train)\n",
    "predictions_2=model3.transform(test)\n",
    "predictions_2.select(\"label\",\"prediction\").show(10)"
   ]
  },
  {
   "cell_type": "markdown",
   "metadata": {},
   "source": [
    "#### Model 3 Evaluation with cutoff 0.005"
   ]
  },
  {
   "cell_type": "code",
   "execution_count": 245,
   "metadata": {},
   "outputs": [
    {
     "name": "stdout",
     "output_type": "stream",
     "text": [
      "AUC for Model 2: 0.664\n",
      "+-----+----------+-----+\n",
      "|label|prediction|count|\n",
      "+-----+----------+-----+\n",
      "|    1|       0.0|   14|\n",
      "|    0|       1.0| 1026|\n",
      "|    0|       0.0| 6986|\n",
      "|    1|       1.0|    6|\n",
      "+-----+----------+-----+\n",
      "\n",
      "n precision: 0.006\n",
      "n recall: 0.300\n",
      "n accuracy: 0.871\n",
      "n F1 score: 0.011\n"
     ]
    }
   ],
   "source": [
    "# initialize the evaluator\n",
    "evaluator = BinaryClassificationEvaluator()\n",
    "# calculate AUC\n",
    "auc = evaluator.evaluate(predictions_2, {evaluator.metricName: 'areaUnderROC'})\n",
    "print('AUC for Model 2: %0.3f' % auc)\n",
    "# compute TN, TP, FN, and FP\n",
    "predictions_2.groupBy('label', 'prediction').count().show()\n",
    "# Calculate the elements of the confusion matrix\n",
    "TN = predictions_2.filter('prediction = 0 AND label = prediction').count()\n",
    "TP = predictions_2.filter('prediction = 1 AND label = prediction').count()\n",
    "FN = predictions_2.filter('prediction = 0 AND label <> prediction').count()\n",
    "FP = predictions_2.filter('prediction = 1 AND label <> prediction').count()\n",
    "# calculate accuracy, precision, recall, and F1-score\n",
    "accuracy = (TN + TP) / (TN + TP + FN + FP)\n",
    "precision = TP / (TP + FP)\n",
    "recall = TP / (TP + FN)\n",
    "F =  2 * (precision*recall) / (precision + recall)\n",
    "print('n precision: %0.3f' % precision)\n",
    "print('n recall: %0.3f' % recall)\n",
    "print('n accuracy: %0.3f' % accuracy)\n",
    "print('n F1 score: %0.3f' % F)"
   ]
  },
  {
   "cell_type": "code",
   "execution_count": null,
   "metadata": {},
   "outputs": [],
   "source": [
    "## After applying the KS Statistics there is drop in accuracy and AUC also dropped but recall increased and false positives is incread"
   ]
  },
  {
   "cell_type": "code",
   "execution_count": 246,
   "metadata": {},
   "outputs": [],
   "source": [
    "pd_2=model3.summary.roc.toPandas()"
   ]
  },
  {
   "cell_type": "code",
   "execution_count": 247,
   "metadata": {},
   "outputs": [
    {
     "data": {
      "text/html": [
       "<div>\n",
       "<style scoped>\n",
       "    .dataframe tbody tr th:only-of-type {\n",
       "        vertical-align: middle;\n",
       "    }\n",
       "\n",
       "    .dataframe tbody tr th {\n",
       "        vertical-align: top;\n",
       "    }\n",
       "\n",
       "    .dataframe thead th {\n",
       "        text-align: right;\n",
       "    }\n",
       "</style>\n",
       "<table border=\"1\" class=\"dataframe\">\n",
       "  <thead>\n",
       "    <tr style=\"text-align: right;\">\n",
       "      <th></th>\n",
       "      <th>FPR</th>\n",
       "      <th>TPR</th>\n",
       "    </tr>\n",
       "  </thead>\n",
       "  <tbody>\n",
       "    <tr>\n",
       "      <th>0</th>\n",
       "      <td>0.000</td>\n",
       "      <td>0.000</td>\n",
       "    </tr>\n",
       "    <tr>\n",
       "      <th>1</th>\n",
       "      <td>0.000</td>\n",
       "      <td>0.000</td>\n",
       "    </tr>\n",
       "  </tbody>\n",
       "</table>\n",
       "</div>"
      ],
      "text/plain": [
       "    FPR   TPR\n",
       "0 0.000 0.000\n",
       "1 0.000 0.000"
      ]
     },
     "execution_count": 247,
     "metadata": {},
     "output_type": "execute_result"
    }
   ],
   "source": [
    "pd_2.head(2)"
   ]
  },
  {
   "cell_type": "markdown",
   "metadata": {},
   "source": [
    "### AUC Curve"
   ]
  },
  {
   "cell_type": "code",
   "execution_count": 248,
   "metadata": {},
   "outputs": [
    {
     "name": "stderr",
     "output_type": "stream",
     "text": [
      "UsageError: Line magic function `%matplot` not found.\n"
     ]
    },
    {
     "data": {
      "image/png": "[encoded data removed]",
      "text/plain": [
       "<Figure size 842.4x595.44 with 1 Axes>"
      ]
     },
     "metadata": {},
     "output_type": "display_data"
    }
   ],
   "source": [
    "# import matplot lib \n",
    "import matplotlib.pyplot as plt\n",
    "\n",
    "# create the plot\n",
    "pd_2.plot.line(x='FPR', y=['TPR'])\n",
    "\n",
    "# display the plot\n",
    "%matplot plt"
   ]
  },
  {
   "cell_type": "markdown",
   "metadata": {},
   "source": [
    "### Confusion Matrix"
   ]
  },
  {
   "cell_type": "code",
   "execution_count": 249,
   "metadata": {},
   "outputs": [],
   "source": [
    "class_names=[1.0,0.0]\n",
    "import itertools\n",
    "from sklearn.metrics import confusion_matrix\n",
    "def plot_confusion_matrix(cm, classes,\n",
    "                          normalize=False,\n",
    "                          title='Confusion matrix',\n",
    "                          cmap=plt.cm.Blues):\n",
    "    \"\"\"\n",
    "    This function prints and plots the confusion matrix.\n",
    "    Normalization can be applied by setting `normalize=True`.\n",
    "    \"\"\"\n",
    "    if normalize:\n",
    "        cm = cm.astype('float') / cm.sum(axis=1)[:, np.newaxis]\n",
    "        print(\"Normalized confusion matrix\")\n",
    "    else:\n",
    "        print('Confusion matrix, without normalization')\n",
    "\n",
    "    print(cm)\n",
    "\n",
    "    plt.imshow(cm, interpolation='nearest', cmap=cmap)\n",
    "    plt.title(title)\n",
    "    plt.colorbar()\n",
    "    tick_marks = np.arange(len(classes))\n",
    "    plt.xticks(tick_marks, classes, rotation=45)\n",
    "    plt.yticks(tick_marks, classes)\n",
    "\n",
    "    fmt = '.2f' if normalize else 'd'\n",
    "    thresh = cm.max() / 2.\n",
    "    for i, j in itertools.product(range(cm.shape[0]), range(cm.shape[1])):\n",
    "        plt.text(j, i, format(cm[i, j], fmt),\n",
    "                 horizontalalignment=\"center\",\n",
    "                 color=\"white\" if cm[i, j] > thresh else \"black\")\n",
    "\n",
    "    plt.tight_layout()\n",
    "    plt.ylabel('True label')\n",
    "    plt.xlabel('Predicted label')"
   ]
  },
  {
   "cell_type": "code",
   "execution_count": 250,
   "metadata": {},
   "outputs": [
    {
     "name": "stdout",
     "output_type": "stream",
     "text": [
      "Confusion matrix, without normalization\n",
      "[[   6   14]\n",
      " [1026 6986]]\n"
     ]
    },
    {
     "data": {
      "image/png": "[encoded data removed]",
      "text/plain": [
       "<Figure size 842.4x595.44 with 2 Axes>"
      ]
     },
     "metadata": {},
     "output_type": "display_data"
    }
   ],
   "source": [
    "y_true = predictions_2.select(\"label\")\n",
    "y_true = y_true.toPandas()\n",
    "\n",
    "y_pred = predictions_2.select(\"prediction\")\n",
    "y_pred = y_pred.toPandas()\n",
    "\n",
    "cnf_matrix = confusion_matrix(y_true, y_pred,labels=class_names)\n",
    "#cnf_matrix\n",
    "plt.figure()\n",
    "plot_confusion_matrix(cnf_matrix, classes=class_names,\n",
    "                      title='Confusion matrix')\n",
    "plt.show()"
   ]
  },
  {
   "cell_type": "code",
   "execution_count": null,
   "metadata": {},
   "outputs": [],
   "source": [
    "### Still we can improve the model in the recall and precision"
   ]
  }
 ],
 "metadata": {
  "kernelspec": {
   "display_name": "Python 3",
   "language": "python",
   "name": "python3"
  },
  "language_info": {
   "codemirror_mode": {
    "name": "ipython",
    "version": 3
   },
   "file_extension": ".py",
   "mimetype": "text/x-python",
   "name": "python",
   "nbconvert_exporter": "python",
   "pygments_lexer": "ipython3",
   "version": "3.8.5"
  }
 },
 "nbformat": 4,
 "nbformat_minor": 4
}
