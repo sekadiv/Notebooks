{
 "cells": [
  {
   "cell_type": "markdown",
   "metadata": {},
   "source": [
    "# Fetching Tweets in Real Time using Twitter API"
   ]
  },
  {
   "cell_type": "markdown",
   "metadata": {},
   "source": [
    "Tweepy library is used to route all the Live tweets to a TCP socket server.<br> \n",
    "This server is hosted in same local machine."
   ]
  },
  {
   "cell_type": "markdown",
   "metadata": {},
   "source": [
    "**Import tweepy library**"
   ]
  },
  {
   "cell_type": "code",
   "execution_count": null,
   "metadata": {},
   "outputs": [],
   "source": [
    "! pip3 install tweepy --user"
   ]
  },
  {
   "cell_type": "code",
   "execution_count": null,
   "metadata": {},
   "outputs": [],
   "source": [
    "import tweepy"
   ]
  },
  {
   "cell_type": "markdown",
   "metadata": {},
   "source": [
    "**Import OAuthHandler**<br> Used for Authentication protocol (OAuth) of Twitter API."
   ]
  },
  {
   "cell_type": "code",
   "execution_count": null,
   "metadata": {},
   "outputs": [],
   "source": [
    "from tweepy import OAuthHandler"
   ]
  },
  {
   "cell_type": "markdown",
   "metadata": {},
   "source": [
    "**Import Stream & StreamListner**<br> Listen to streaming data getting from the socket."
   ]
  },
  {
   "cell_type": "code",
   "execution_count": null,
   "metadata": {},
   "outputs": [],
   "source": [
    "from tweepy import Stream\n",
    "from tweepy.streaming import StreamListener"
   ]
  },
  {
   "cell_type": "markdown",
   "metadata": {},
   "source": [
    "**Import socket** <br> It is used to create socket connection with Localhost i.e. local server. <br>\n",
    "**Import Json** <br>Json is used because twitter data comes in json format."
   ]
  },
  {
   "cell_type": "code",
   "execution_count": null,
   "metadata": {},
   "outputs": [],
   "source": [
    "import socket\n",
    "import json"
   ]
  },
  {
   "cell_type": "markdown",
   "metadata": {},
   "source": [
    "To connect to Twitter API, we need these 4 Keys. <br>\n",
    "It can be generated from https://apps.twitter.com/ by creating a new app."
   ]
  },
  {
   "cell_type": "code",
   "execution_count": null,
   "metadata": {},
   "outputs": [],
   "source": [
    "consumer_key = \n",
    "consumer_secret = \n",
    "access_token = \n",
    "access_secret = "
   ]
  },
  {
   "cell_type": "markdown",
   "metadata": {},
   "source": [
    "#### Class TweetsListner\n",
    "    1.listening to the stream via StreamListener. \n",
    "    2.constrctor function (init) : initializing the socket. \n",
    "    3.tweet_data contains the tweet's json coming from the stream. \n",
    "    4.In the tweet's json object 'text' field contains the actual Tweet.\n",
    "    5.The actual tweet is extracted & sent to the client socket.\n",
    "    6.on_error is used to catch & throw errors."
   ]
  },
  {
   "cell_type": "code",
   "execution_count": null,
   "metadata": {},
   "outputs": [],
   "source": [
    "class TweetsListener(StreamListener):\n",
    "  def __init__(self, csocket):\n",
    "      self.client_socket = csocket\n",
    "  def on_data(self, tweet_json):\n",
    "      try:\n",
    "          tweet_data = json.loads( tweet_json )\n",
    "          print(\"tweet_text: \", tweet_data['text'].encode('utf-8') )\n",
    "          print(\"created_at: \", tweet_data['created_at'])  \n",
    "          print(\"name: \", tweet_data['user']['name'])              \n",
    "          print(\"location: \", tweet_data['user']['location'])\n",
    "          print(\"\\n\")\n",
    "          s = tweet_data['text'] + \"\\n\"\n",
    "          print(s)\n",
    "          s = s.encode('utf-8')\n",
    "          self.client_socket.send( s )\n",
    "          return True\n",
    "      except BaseException as e:\n",
    "          print(\"Error on_data: %s\" % str(e))\n",
    "      return True\n",
    "  def on_error(self, status):\n",
    "      print(status)\n",
    "      return True"
   ]
  },
  {
   "cell_type": "markdown",
   "metadata": {},
   "source": [
    "### Function send_twitter_data():\n",
    "    1. auth is doing Authentication check using OAuthHandler. It uses 4 keys of Twitter APIs.\n",
    "    2. consumer_key & consumer_secret are like username & access_token & access_secret are like password.\n",
    "    3. twitter_stream will get the actual twitter live stream data.\n",
    "    4. It'll call Stream with auth & call the Class TweetsListner & pass c_socket info to the class.\n",
    "    5. From the stream of tweets, filter & take only tweets which contains \"corona\" word."
   ]
  },
  {
   "cell_type": "code",
   "execution_count": null,
   "metadata": {},
   "outputs": [],
   "source": [
    "def send_twitter_data(c_socket):\n",
    "  auth = OAuthHandler(consumer_key, consumer_secret)\n",
    "  auth.set_access_token(access_token, access_secret)\n",
    "  twitter_stream_data = Stream(auth, TweetsListener(c_socket))\n",
    "  twitter_stream_data.filter(track=['corona'])"
   ]
  },
  {
   "cell_type": "markdown",
   "metadata": {},
   "source": [
    "### Socket Creation:\n",
    "    1. Socket is created by using socket function.\n",
    "    2. Host is localhost, which is machine IP, where this Jupyter notebook is running.\n",
    "    3. Port is 7773 (It can be anything, unique for this service)\n",
    "    4. Now bind host & port address to the socket."
   ]
  },
  {
   "cell_type": "code",
   "execution_count": null,
   "metadata": {},
   "outputs": [],
   "source": [
    "# Create a socket object\n",
    "\n",
    "# Get local machine name\n",
    "\n",
    "# Reserve a port for your service.\n",
    "\n",
    "# Bind to the port\n",
    "\n",
    "# print\n"
   ]
  },
  {
   "cell_type": "markdown",
   "metadata": {},
   "source": [
    "socket will wait & listen for few seconds. <br>\n",
    "After that connection is made."
   ]
  },
  {
   "cell_type": "code",
   "execution_count": null,
   "metadata": {},
   "outputs": [],
   "source": [
    "# Now wait for client connection.\n"
   ]
  },
  {
   "cell_type": "code",
   "execution_count": null,
   "metadata": {},
   "outputs": [],
   "source": [
    "# Establish connection with client.\n"
   ]
  },
  {
   "cell_type": "code",
   "execution_count": null,
   "metadata": {},
   "outputs": [],
   "source": []
  },
  {
   "cell_type": "markdown",
   "metadata": {},
   "source": [
    "### Send live Tweets in real time to the Socket\n",
    "Function send_twitter_data will send all the Tweets containing word 'corona' to socket 'c' in real time.<br>\n",
    "This will be consumed in the next code of Spark Streaming to do Trend Analysis."
   ]
  },
  {
   "cell_type": "code",
   "execution_count": null,
   "metadata": {},
   "outputs": [],
   "source": []
  },
  {
   "cell_type": "code",
   "execution_count": null,
   "metadata": {},
   "outputs": [],
   "source": []
  },
  {
   "cell_type": "code",
   "execution_count": null,
   "metadata": {},
   "outputs": [],
   "source": []
  },
  {
   "cell_type": "code",
   "execution_count": null,
   "metadata": {},
   "outputs": [],
   "source": []
  }
 ],
 "metadata": {
  "kernelspec": {
   "display_name": "Python 3",
   "language": "python",
   "name": "python3"
  },
  "language_info": {
   "codemirror_mode": {
    "name": "ipython",
    "version": 3
   },
   "file_extension": ".py",
   "mimetype": "text/x-python",
   "name": "python",
   "nbconvert_exporter": "python",
   "pygments_lexer": "ipython3",
   "version": "3.7.6"
  }
 },
 "nbformat": 4,
 "nbformat_minor": 2
}
