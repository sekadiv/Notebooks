{
 "cells": [
  {
   "cell_type": "code",
   "execution_count": null,
   "metadata": {},
   "outputs": [],
   "source": [
    "import pandas as pd\n",
    "import numpy as np\n",
    "from sklearn import datasets\n",
    "from sklearn.linear_model import LinearRegression\n",
    "from sklearn.metrics import r2_score, explained_variance_score\n",
    "from sklearn.feature_selection import VarianceThreshold, f_regression, SelectKBest, RFE\n",
    "import matplotlib.pyplot as plt\n",
    "%matplotlib inline"
   ]
  },
  {
   "cell_type": "code",
   "execution_count": null,
   "metadata": {},
   "outputs": [],
   "source": [
    "boston = datasets.load_boston()\n",
    "df = pd.DataFrame(boston.data, columns=boston.feature_names)\n",
    "df['price'] = boston.target\n",
    "df.head()"
   ]
  },
  {
   "cell_type": "markdown",
   "metadata": {},
   "source": [
    "## Variance Threshold\n",
    "$$Var(X) = E[(X - \\mu)^2]$$"
   ]
  },
  {
   "cell_type": "code",
   "execution_count": null,
   "metadata": {},
   "outputs": [],
   "source": [
    "x1 = np.random.normal(0, 0.1, 1000)\n",
    "x2 = np.random.normal(0, 0.5, 1000)\n",
    "plt.hist(x1, alpha=0.5, label='Var(x) = 0.1')\n",
    "_ = plt.hist(x2, alpha=0.5, label='Var(x) = 0.5')\n",
    "plt.legend()"
   ]
  },
  {
   "cell_type": "code",
   "execution_count": null,
   "metadata": {},
   "outputs": [],
   "source": [
    "ax = df.var(0).plot(kind='bar', label='Variance')\n",
    "ax.hlines(2000, 0, 13, label='Threshold')\n",
    "plt.legend()"
   ]
  },
  {
   "cell_type": "code",
   "execution_count": null,
   "metadata": {},
   "outputs": [],
   "source": [
    "vt = VarianceThreshold(threshold=2000)\n",
    "x_reduced = vt.fit_transform(df)\n",
    "df.columns[vt.get_support()]"
   ]
  },
  {
   "cell_type": "code",
   "execution_count": null,
   "metadata": {},
   "outputs": [],
   "source": [
    "x_reduced"
   ]
  },
  {
   "cell_type": "code",
   "execution_count": null,
   "metadata": {},
   "outputs": [],
   "source": [
    "df.var(0)"
   ]
  },
  {
   "cell_type": "code",
   "execution_count": null,
   "metadata": {},
   "outputs": [],
   "source": [
    "X = boston.data\n",
    "y = boston.target\n",
    "\n",
    "thresholds = [0.01, 0.1, 10, 100, 1000]\n",
    "r2 = []\n",
    "n_cols = []\n",
    "\n",
    "for t in thresholds:\n",
    "    vt = VarianceThreshold(threshold=t)\n",
    "    x_red = vt.fit_transform(X)\n",
    "    n_cols.append(x_red.shape[1])\n",
    "    lr = LinearRegression().fit(x_red, y)\n",
    "    p = lr.predict(x_red)\n",
    "    r2.append(r2_score(y, p))\n",
    "\n",
    "fig, ax = plt.subplots(figsize=(8, 6))\n",
    "ax.plot(thresholds, r2, 'ro--', label='R2')\n",
    "ax.grid()\n",
    "ax.set_xscale('log')\n",
    "ax.set_xlabel('Threshold')\n",
    "_ = ax.legend()"
   ]
  },
  {
   "cell_type": "markdown",
   "metadata": {},
   "source": [
    "### Exercise: Perform variance thresholding on the Diabetes dataset\n",
    "### *Hint*: Look at the variances beforehand and decide the set of thresholds"
   ]
  },
  {
   "cell_type": "code",
   "execution_count": null,
   "metadata": {},
   "outputs": [],
   "source": [
    "diabetes = datasets.load_diabetes()"
   ]
  },
  {
   "cell_type": "code",
   "execution_count": null,
   "metadata": {},
   "outputs": [],
   "source": [
    "# enter code here"
   ]
  },
  {
   "cell_type": "markdown",
   "metadata": {},
   "source": [
    "## Selecting the $k$ best features"
   ]
  },
  {
   "cell_type": "code",
   "execution_count": null,
   "metadata": {},
   "outputs": [],
   "source": [
    "k = 3\n",
    "selector = SelectKBest(f_regression, k=k)\n",
    "x_red = selector.fit_transform(X, y)\n",
    "x_red.shape"
   ]
  },
  {
   "cell_type": "code",
   "execution_count": null,
   "metadata": {},
   "outputs": [],
   "source": [
    "lr.fit(x_red, y)\n",
    "lr.score(x_red, y)"
   ]
  },
  {
   "cell_type": "code",
   "execution_count": null,
   "metadata": {},
   "outputs": [],
   "source": [
    "K = list(range(1, X.shape[1] + 1))\n",
    "K"
   ]
  },
  {
   "cell_type": "code",
   "execution_count": null,
   "metadata": {},
   "outputs": [],
   "source": [
    "r2 = []\n",
    "\n",
    "for k in K:\n",
    "    selector = SelectKBest(f_regression, k=k)\n",
    "    x_red = selector.fit_transform(X, y)\n",
    "    lr = LinearRegression().fit(x_red, y)\n",
    "    r2.append(lr.score(x_red, y))\n",
    "\n",
    "fig, ax = plt.subplots(figsize=(8, 6))\n",
    "ax.plot(K, r2, 'ro--', label='R2')\n",
    "ax.grid()\n",
    "ax.set_xlabel('Number of features')\n",
    "_ = ax.legend()"
   ]
  },
  {
   "cell_type": "markdown",
   "metadata": {},
   "source": [
    "### Exercise: Find how many \"best\" features are optimal for the Diabetes dataset"
   ]
  },
  {
   "cell_type": "code",
   "execution_count": null,
   "metadata": {},
   "outputs": [],
   "source": [
    "# enter code here"
   ]
  },
  {
   "cell_type": "markdown",
   "metadata": {},
   "source": [
    "## Recursive Feature Elimination"
   ]
  },
  {
   "cell_type": "code",
   "execution_count": null,
   "metadata": {},
   "outputs": [],
   "source": [
    "columns = df.drop(['price'], axis=1).columns\n",
    "\n",
    "lr = LinearRegression()\n",
    "rfe = RFE(lr, step=1, verbose=1)\n",
    "x_red = rfe.fit_transform(X, y)\n",
    "\n",
    "lr.fit(x_red, y)\n",
    "print(lr.score(x_red, y))"
   ]
  },
  {
   "cell_type": "code",
   "execution_count": null,
   "metadata": {},
   "outputs": [],
   "source": [
    "# Which columns are kept?\n",
    "columns[rfe.get_support()]"
   ]
  },
  {
   "cell_type": "code",
   "execution_count": null,
   "metadata": {},
   "outputs": [],
   "source": [
    "rfe = RFE(lr, n_features_to_select=3, step=1, verbose=1)\n",
    "x_red = rfe.fit_transform(X, y)\n",
    "\n",
    "lr.fit(x_red, y)\n",
    "print(lr.score(x_red, y))"
   ]
  },
  {
   "cell_type": "markdown",
   "metadata": {},
   "source": [
    "## Exercise: Find the R2 score with the 3 best columns in the diabetes dataset.\n",
    "### Which are these three columns?"
   ]
  },
  {
   "cell_type": "code",
   "execution_count": null,
   "metadata": {},
   "outputs": [],
   "source": [
    "# enter code here"
   ]
  }
 ],
 "metadata": {
  "kernelspec": {
   "display_name": "Python 3",
   "language": "python",
   "name": "python3"
  },
  "language_info": {
   "codemirror_mode": {
    "name": "ipython",
    "version": 3
   },
   "file_extension": ".py",
   "mimetype": "text/x-python",
   "name": "python",
   "nbconvert_exporter": "python",
   "pygments_lexer": "ipython3",
   "version": "3.6.8"
  }
 },
 "nbformat": 4,
 "nbformat_minor": 2
}
