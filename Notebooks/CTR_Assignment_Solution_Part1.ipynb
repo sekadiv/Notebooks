{
 "cells": [
  {
   "cell_type": "code",
   "execution_count": 1,
   "metadata": {
    "scrolled": true
   },
   "outputs": [
    {
     "data": {
      "application/vnd.jupyter.widget-view+json": {
       "model_id": "ea6e37982e834825b09f4ceb0fb42bac",
       "version_major": 2,
       "version_minor": 0
      },
      "text/plain": [
       "VBox()"
      ]
     },
     "metadata": {},
     "output_type": "display_data"
    },
    {
     "name": "stdout",
     "output_type": "stream",
     "text": [
      "Starting Spark application\n"
     ]
    },
    {
     "data": {
      "text/html": [
       "<table>\n",
       "<tr><th>ID</th><th>YARN Application ID</th><th>Kind</th><th>State</th><th>Spark UI</th><th>Driver log</th><th>Current session?</th></tr><tr><td>0</td><td>application_1591773072281_0001</td><td>pyspark</td><td>idle</td><td><a target=\"_blank\" href=\"http://ip-172-31-13-101.ec2.internal:20888/proxy/application_1591773072281_0001/\">Link</a></td><td><a target=\"_blank\" href=\"http://ip-172-31-15-144.ec2.internal:8042/node/containerlogs/container_1591773072281_0001_01_000001/livy\">Link</a></td><td>✔</td></tr></table>"
      ],
      "text/plain": [
       "<IPython.core.display.HTML object>"
      ]
     },
     "metadata": {},
     "output_type": "display_data"
    },
    {
     "data": {
      "application/vnd.jupyter.widget-view+json": {
       "model_id": "8cc228341806459884ca04a4db772d36",
       "version_major": 2,
       "version_minor": 0
      },
      "text/plain": [
       "FloatProgress(value=0.0, bar_style='info', description='Progress:', layout=Layout(height='25px', width='50%'),…"
      ]
     },
     "metadata": {},
     "output_type": "display_data"
    },
    {
     "name": "stdout",
     "output_type": "stream",
     "text": [
      "SparkSession available as 'spark'.\n"
     ]
    },
    {
     "data": {
      "application/vnd.jupyter.widget-view+json": {
       "model_id": "73d8c1c7c7b1434cad1cadce33da8823",
       "version_major": 2,
       "version_minor": 0
      },
      "text/plain": [
       "FloatProgress(value=0.0, bar_style='info', description='Progress:', layout=Layout(height='25px', width='50%'),…"
      ]
     },
     "metadata": {},
     "output_type": "display_data"
    },
    {
     "name": "stdout",
     "output_type": "stream",
     "text": [
      "<pyspark.sql.session.SparkSession object at 0x7f1174845b50>"
     ]
    }
   ],
   "source": [
    "spark"
   ]
  },
  {
   "cell_type": "code",
   "execution_count": 28,
   "metadata": {},
   "outputs": [
    {
     "data": {
      "application/vnd.jupyter.widget-view+json": {
       "model_id": "82ebf31643f34027abe90b657fec9768",
       "version_major": 2,
       "version_minor": 0
      },
      "text/plain": [
       "VBox()"
      ]
     },
     "metadata": {},
     "output_type": "display_data"
    },
    {
     "data": {
      "application/vnd.jupyter.widget-view+json": {
       "model_id": "",
       "version_major": 2,
       "version_minor": 0
      },
      "text/plain": [
       "FloatProgress(value=0.0, bar_style='info', description='Progress:', layout=Layout(height='25px', width='50%'),…"
      ]
     },
     "metadata": {},
     "output_type": "display_data"
    }
   ],
   "source": [
    "# read the data \n",
    "df = sqlContext.read.csv('s3a://logistic-data/1l.csv', header=True, inferSchema=True)"
   ]
  },
  {
   "cell_type": "code",
   "execution_count": 29,
   "metadata": {},
   "outputs": [
    {
     "data": {
      "application/vnd.jupyter.widget-view+json": {
       "model_id": "28e6d2effb7d4634a2c15b3c650061f8",
       "version_major": 2,
       "version_minor": 0
      },
      "text/plain": [
       "VBox()"
      ]
     },
     "metadata": {},
     "output_type": "display_data"
    },
    {
     "data": {
      "application/vnd.jupyter.widget-view+json": {
       "model_id": "",
       "version_major": 2,
       "version_minor": 0
      },
      "text/plain": [
       "FloatProgress(value=0.0, bar_style='info', description='Progress:', layout=Layout(height='25px', width='50%'),…"
      ]
     },
     "metadata": {},
     "output_type": "display_data"
    },
    {
     "name": "stdout",
     "output_type": "stream",
     "text": [
      "root\n",
      " |-- click: boolean (nullable = true)\n",
      " |-- C1: integer (nullable = true)\n",
      " |-- banner_pos: integer (nullable = true)\n",
      " |-- site_id: string (nullable = true)\n",
      " |-- site_domain: string (nullable = true)\n",
      " |-- site_category: string (nullable = true)\n",
      " |-- app_id: string (nullable = true)\n",
      " |-- app_domain: string (nullable = true)\n",
      " |-- app_category: string (nullable = true)\n",
      " |-- device_id: string (nullable = true)\n",
      " |-- device_ip: string (nullable = true)\n",
      " |-- device_model: string (nullable = true)\n",
      " |-- device_type: integer (nullable = true)\n",
      " |-- device_conn_type: integer (nullable = true)\n",
      " |-- C14: integer (nullable = true)\n",
      " |-- C15: integer (nullable = true)\n",
      " |-- C16: integer (nullable = true)\n",
      " |-- C17: integer (nullable = true)\n",
      " |-- C18: integer (nullable = true)\n",
      " |-- C19: integer (nullable = true)\n",
      " |-- C20: integer (nullable = true)\n",
      " |-- C21: integer (nullable = true)\n",
      " |-- month: integer (nullable = true)\n",
      " |-- dayofweek: integer (nullable = true)\n",
      " |-- day: integer (nullable = true)\n",
      " |-- hour: integer (nullable = true)\n",
      " |-- y: integer (nullable = true)"
     ]
    }
   ],
   "source": [
    "df.printSchema()"
   ]
  },
  {
   "cell_type": "code",
   "execution_count": 30,
   "metadata": {},
   "outputs": [
    {
     "data": {
      "application/vnd.jupyter.widget-view+json": {
       "model_id": "57f5554039214b1ea35e5b340cffd76e",
       "version_major": 2,
       "version_minor": 0
      },
      "text/plain": [
       "VBox()"
      ]
     },
     "metadata": {},
     "output_type": "display_data"
    },
    {
     "data": {
      "application/vnd.jupyter.widget-view+json": {
       "model_id": "",
       "version_major": 2,
       "version_minor": 0
      },
      "text/plain": [
       "FloatProgress(value=0.0, bar_style='info', description='Progress:', layout=Layout(height='25px', width='50%'),…"
      ]
     },
     "metadata": {},
     "output_type": "display_data"
    },
    {
     "name": "stdout",
     "output_type": "stream",
     "text": [
      "+--------+-----------+-------------+--------+----------+------------+\n",
      "| site_id|site_domain|site_category|  app_id|app_domain|app_category|\n",
      "+--------+-----------+-------------+--------+----------+------------+\n",
      "|856e6d3f|   58a89a43|     f028772b|ecad2386|  7801e8d9|    07d7df22|\n",
      "|e151e245|   7e091613|     f028772b|ecad2386|  7801e8d9|    07d7df22|\n",
      "|e3c09f3a|   d262cf1e|     28905ebd|ecad2386|  7801e8d9|    07d7df22|\n",
      "|0da94452|   248e439f|     50e219e0|ecad2386|  7801e8d9|    07d7df22|\n",
      "|1fbe01fe|   f3845767|     28905ebd|ecad2386|  7801e8d9|    07d7df22|\n",
      "|d9750ee7|   98572c79|     f028772b|ecad2386|  7801e8d9|    07d7df22|\n",
      "|83a0ad1a|   5c9ae867|     f028772b|ecad2386|  7801e8d9|    07d7df22|\n",
      "|85f751fd|   c4e18dd6|     50e219e0|98fed791|  d9b5648e|    0f2161f8|\n",
      "|85f751fd|   c4e18dd6|     50e219e0|fc6dc16f|  5c5a694b|    0f2161f8|\n",
      "|1fbe01fe|   f3845767|     28905ebd|ecad2386|  7801e8d9|    07d7df22|\n",
      "|1fbe01fe|   f3845767|     28905ebd|ecad2386|  7801e8d9|    07d7df22|\n",
      "|57fe1b20|   5b626596|     f028772b|ecad2386|  7801e8d9|    07d7df22|\n",
      "|85f751fd|   c4e18dd6|     50e219e0|febd1138|  82e27996|    0f2161f8|\n",
      "|1fbe01fe|   f3845767|     28905ebd|ecad2386|  7801e8d9|    07d7df22|\n",
      "|5b08c53b|   7687a86e|     3e814130|ecad2386|  7801e8d9|    07d7df22|\n",
      "|ac696ed4|   c7dcd9d1|     f66779e6|ecad2386|  7801e8d9|    07d7df22|\n",
      "|b99a2c43|   cc962a1f|     f028772b|ecad2386|  7801e8d9|    07d7df22|\n",
      "|85f751fd|   c4e18dd6|     50e219e0|92f5800b|  ae637522|    0f2161f8|\n",
      "|5bcf81a2|   9d54950b|     f028772b|ecad2386|  7801e8d9|    07d7df22|\n",
      "|85f751fd|   c4e18dd6|     50e219e0|ce183bbd|  ae637522|    cef3e649|\n",
      "+--------+-----------+-------------+--------+----------+------------+\n",
      "only showing top 20 rows"
     ]
    }
   ],
   "source": [
    "# select the columns 'site_id','site_domain','site_category','app_id','app_domain','app_category' and display them, \n",
    "# so that you can analyse the values as they were shown in the segment \n",
    "\n",
    "df.select(['site_id','site_domain','site_category','app_id','app_domain','app_category']).show()"
   ]
  },
  {
   "cell_type": "code",
   "execution_count": 31,
   "metadata": {},
   "outputs": [
    {
     "data": {
      "application/vnd.jupyter.widget-view+json": {
       "model_id": "aae65fedd1204f30adf1d1af9e0b10a3",
       "version_major": 2,
       "version_minor": 0
      },
      "text/plain": [
       "VBox()"
      ]
     },
     "metadata": {},
     "output_type": "display_data"
    },
    {
     "data": {
      "application/vnd.jupyter.widget-view+json": {
       "model_id": "",
       "version_major": 2,
       "version_minor": 0
      },
      "text/plain": [
       "FloatProgress(value=0.0, bar_style='info', description='Progress:', layout=Layout(height='25px', width='50%'),…"
      ]
     },
     "metadata": {},
     "output_type": "display_data"
    }
   ],
   "source": [
    "# create 3 new columns in the datafeame named 'pub_id', 'pub_domain', 'pub_category' \n",
    "# these columns will have the data from 'site_id','site_domain','site_category'\n",
    "# Use the withColumn method \n",
    "\n",
    "df = df.withColumn('pub_id',df['site_id'])\n",
    "df = df.withColumn('pub_domain',df['site_domain'])\n",
    "df = df.withColumn('pub_category',df['site_category'])"
   ]
  },
  {
   "cell_type": "code",
   "execution_count": 32,
   "metadata": {},
   "outputs": [
    {
     "data": {
      "application/vnd.jupyter.widget-view+json": {
       "model_id": "3b6dd956c7584862ab839cc11d814056",
       "version_major": 2,
       "version_minor": 0
      },
      "text/plain": [
       "VBox()"
      ]
     },
     "metadata": {},
     "output_type": "display_data"
    },
    {
     "data": {
      "application/vnd.jupyter.widget-view+json": {
       "model_id": "",
       "version_major": 2,
       "version_minor": 0
      },
      "text/plain": [
       "FloatProgress(value=0.0, bar_style='info', description='Progress:', layout=Layout(height='25px', width='50%'),…"
      ]
     },
     "metadata": {},
     "output_type": "display_data"
    }
   ],
   "source": [
    "# replace the values in the columns 'pub_id', 'pub_domain', 'pub_category' with the values 'app_id','app_domain','app_category'\n",
    "# the replcement should only happen if the value in site_id is '85f751fd'\n",
    "# you will need withColumn and when functions\n",
    "\n",
    "from pyspark.sql.functions import when\n",
    "\n",
    "df = df.withColumn(\"pub_id\",when(df[\"pub_id\"] == '85f751fd', df['app_id']).otherwise(df[\"pub_id\"]))\n",
    "df = df.withColumn(\"pub_domain\",when(df[\"pub_id\"] == '85f751fd', df['app_domain']).otherwise(df[\"pub_domain\"]))\n",
    "df = df.withColumn(\"pub_category\",when(df[\"pub_id\"] == '85f751fd', df['app_category']).otherwise(df[\"pub_category\"]))"
   ]
  },
  {
   "cell_type": "code",
   "execution_count": 33,
   "metadata": {},
   "outputs": [
    {
     "data": {
      "application/vnd.jupyter.widget-view+json": {
       "model_id": "71a6445685d44ddfa2b50e478fc6bfb2",
       "version_major": 2,
       "version_minor": 0
      },
      "text/plain": [
       "VBox()"
      ]
     },
     "metadata": {},
     "output_type": "display_data"
    },
    {
     "data": {
      "application/vnd.jupyter.widget-view+json": {
       "model_id": "",
       "version_major": 2,
       "version_minor": 0
      },
      "text/plain": [
       "FloatProgress(value=0.0, bar_style='info', description='Progress:', layout=Layout(height='25px', width='50%'),…"
      ]
     },
     "metadata": {},
     "output_type": "display_data"
    }
   ],
   "source": [
    "# drop all the columns which are now redundunt \n",
    "\n",
    "df = df.drop('app_category','site_id','site_domain','site_category','app_id','app_domain')"
   ]
  },
  {
   "cell_type": "code",
   "execution_count": 34,
   "metadata": {},
   "outputs": [
    {
     "data": {
      "application/vnd.jupyter.widget-view+json": {
       "model_id": "bfc1af23f7b24a799689f6b440f3aecb",
       "version_major": 2,
       "version_minor": 0
      },
      "text/plain": [
       "VBox()"
      ]
     },
     "metadata": {},
     "output_type": "display_data"
    },
    {
     "data": {
      "application/vnd.jupyter.widget-view+json": {
       "model_id": "",
       "version_major": 2,
       "version_minor": 0
      },
      "text/plain": [
       "FloatProgress(value=0.0, bar_style='info', description='Progress:', layout=Layout(height='25px', width='50%'),…"
      ]
     },
     "metadata": {},
     "output_type": "display_data"
    },
    {
     "name": "stdout",
     "output_type": "stream",
     "text": [
      "['click', 'C1', 'banner_pos', 'device_id', 'device_ip', 'device_model', 'device_type', 'device_conn_type', 'C14', 'C15', 'C16', 'C17', 'C18', 'C19', 'C20', 'C21', 'month', 'dayofweek', 'day', 'hour', 'y', 'pub_id', 'pub_domain', 'pub_category']"
     ]
    }
   ],
   "source": [
    "df.columns"
   ]
  },
  {
   "cell_type": "code",
   "execution_count": 35,
   "metadata": {},
   "outputs": [
    {
     "data": {
      "application/vnd.jupyter.widget-view+json": {
       "model_id": "b4e4b480c77244debd78ef07496b6106",
       "version_major": 2,
       "version_minor": 0
      },
      "text/plain": [
       "VBox()"
      ]
     },
     "metadata": {},
     "output_type": "display_data"
    },
    {
     "data": {
      "application/vnd.jupyter.widget-view+json": {
       "model_id": "",
       "version_major": 2,
       "version_minor": 0
      },
      "text/plain": [
       "FloatProgress(value=0.0, bar_style='info', description='Progress:', layout=Layout(height='25px', width='50%'),…"
      ]
     },
     "metadata": {},
     "output_type": "display_data"
    },
    {
     "name": "stdout",
     "output_type": "stream",
     "text": [
      "+---------+-----+\n",
      "|device_id|count|\n",
      "+---------+-----+\n",
      "| a99f214a|82579|\n",
      "| c357dbff|   62|\n",
      "| 0f7c61dc|   51|\n",
      "| afeffc18|   34|\n",
      "| 936e92fb|   27|\n",
      "| cef4c8cc|   12|\n",
      "| 28dc8687|   11|\n",
      "| d857ffbb|    9|\n",
      "| 9af87478|    9|\n",
      "| 02da5312|    8|\n",
      "| 987552d1|    7|\n",
      "| b09da1c4|    7|\n",
      "| 3cdb4052|    6|\n",
      "| 03559b29|    6|\n",
      "| abab24a7|    5|\n",
      "| 1168ce02|    5|\n",
      "| adc390d0|    4|\n",
      "| 2c112522|    4|\n",
      "| bc8b6d57|    4|\n",
      "| 243bd3ab|    4|\n",
      "+---------+-----+\n",
      "only showing top 20 rows"
     ]
    }
   ],
   "source": [
    "# check the frequency of each category in device_id. did you get a similar distribution to the one shown in the segment? \n",
    "# use groupBy and count\n",
    "\n",
    "df.groupBy(\"device_id\").count().sort(desc(\"count\")).show()"
   ]
  },
  {
   "cell_type": "code",
   "execution_count": 36,
   "metadata": {},
   "outputs": [
    {
     "data": {
      "application/vnd.jupyter.widget-view+json": {
       "model_id": "498627a5a02a447cbd652bf0d31d1f80",
       "version_major": 2,
       "version_minor": 0
      },
      "text/plain": [
       "VBox()"
      ]
     },
     "metadata": {},
     "output_type": "display_data"
    },
    {
     "data": {
      "application/vnd.jupyter.widget-view+json": {
       "model_id": "",
       "version_major": 2,
       "version_minor": 0
      },
      "text/plain": [
       "FloatProgress(value=0.0, bar_style='info', description='Progress:', layout=Layout(height='25px', width='50%'),…"
      ]
     },
     "metadata": {},
     "output_type": "display_data"
    }
   ],
   "source": [
    "# combine device_id, device_ip and device_type to form a new column which can identify users. \n",
    "# name the new column 'user' with data from device_id\n",
    "\n",
    "df = df.withColumn('user',df['device_id'] )"
   ]
  },
  {
   "cell_type": "code",
   "execution_count": 37,
   "metadata": {},
   "outputs": [
    {
     "data": {
      "application/vnd.jupyter.widget-view+json": {
       "model_id": "5b0a452494a4489da885e63e617ca7f9",
       "version_major": 2,
       "version_minor": 0
      },
      "text/plain": [
       "VBox()"
      ]
     },
     "metadata": {},
     "output_type": "display_data"
    },
    {
     "data": {
      "application/vnd.jupyter.widget-view+json": {
       "model_id": "",
       "version_major": 2,
       "version_minor": 0
      },
      "text/plain": [
       "FloatProgress(value=0.0, bar_style='info', description='Progress:', layout=Layout(height='25px', width='50%'),…"
      ]
     },
     "metadata": {},
     "output_type": "display_data"
    }
   ],
   "source": [
    "# In that column whereever the device_id is missing use a combination of device_ip and device_type\n",
    "# You will have to use the withcolumn along with a when condition. \n",
    "# You will the combination of device id and device ip can be done using the following code. \n",
    "from pyspark.sql import functions as sf\n",
    "# sf.concat(sf.col('device_ip'),sf.lit('-'), sf.col('device_model'))\n",
    "\n",
    "# use this code inside a when condition\n",
    "\n",
    "df = df.withColumn('user', \n",
    "                   when(df[\"device_id\"] == 'a99f214a', sf.concat(sf.col('device_ip'),sf.lit('-'), sf.col('device_model')))\n",
    "                   .otherwise(df[\"device_id\"]))"
   ]
  },
  {
   "cell_type": "code",
   "execution_count": 38,
   "metadata": {},
   "outputs": [
    {
     "data": {
      "application/vnd.jupyter.widget-view+json": {
       "model_id": "b1a72ef2f7e04b9da3e54f68c92c8b63",
       "version_major": 2,
       "version_minor": 0
      },
      "text/plain": [
       "VBox()"
      ]
     },
     "metadata": {},
     "output_type": "display_data"
    },
    {
     "data": {
      "application/vnd.jupyter.widget-view+json": {
       "model_id": "",
       "version_major": 2,
       "version_minor": 0
      },
      "text/plain": [
       "FloatProgress(value=0.0, bar_style='info', description='Progress:', layout=Layout(height='25px', width='50%'),…"
      ]
     },
     "metadata": {},
     "output_type": "display_data"
    },
    {
     "name": "stdout",
     "output_type": "stream",
     "text": [
      "['click', 'C1', 'banner_pos', 'device_id', 'device_ip', 'device_model', 'device_type', 'device_conn_type', 'C14', 'C15', 'C16', 'C17', 'C18', 'C19', 'C20', 'C21', 'month', 'dayofweek', 'day', 'hour', 'y', 'pub_id', 'pub_domain', 'pub_category', 'user', 'user_count']"
     ]
    }
   ],
   "source": [
    "# find the frequency of each category in the user column, save this frequency in a new coulumn in the data frame\n",
    "# join this dataframe with the earlier df, make sure that when you join all the rows \n",
    "# form the original table need to be present in the final table as well.\n",
    "# use the join table command\n",
    "\n",
    "# Create a new dataframe with the counts frequency of each user. \n",
    "u_count = df.groupBy(\"user\").count().sort(desc(\"count\"))\n",
    "u_count = u_count.withColumnRenamed('user','user_d')\n",
    "u_count = u_count.withColumnRenamed('count','user_count')\n",
    "\n",
    "# Join above created data framw with the orginal dataframe \n",
    "df_j1 = df.join(u_count, df.user==u_count.user_d, \"left\").drop('user_d')\n",
    "\n",
    "# To check the transformation call the columns from df\n",
    "df_j1.columns"
   ]
  },
  {
   "cell_type": "code",
   "execution_count": 39,
   "metadata": {},
   "outputs": [
    {
     "data": {
      "application/vnd.jupyter.widget-view+json": {
       "model_id": "5f3c1daed1cd4043aeac4034548bc387",
       "version_major": 2,
       "version_minor": 0
      },
      "text/plain": [
       "VBox()"
      ]
     },
     "metadata": {},
     "output_type": "display_data"
    },
    {
     "data": {
      "application/vnd.jupyter.widget-view+json": {
       "model_id": "",
       "version_major": 2,
       "version_minor": 0
      },
      "text/plain": [
       "FloatProgress(value=0.0, bar_style='info', description='Progress:', layout=Layout(height='25px', width='50%'),…"
      ]
     },
     "metadata": {},
     "output_type": "display_data"
    },
    {
     "name": "stdout",
     "output_type": "stream",
     "text": [
      "['click', 'C1', 'banner_pos', 'device_id', 'device_ip', 'device_model', 'device_type', 'device_conn_type', 'C14', 'C15', 'C16', 'C17', 'C18', 'C19', 'C20', 'C21', 'month', 'dayofweek', 'day', 'hour', 'y', 'pub_id', 'pub_domain', 'pub_category', 'user', 'user_count', 'user_hour', 'user_hour_d', 'user_hour_count']"
     ]
    }
   ],
   "source": [
    "# combine user and hour column to make a new columns user-hour. \n",
    "df_j1 = df_j1.withColumn('user_hour', sf.concat(sf.col('user'),sf.lit('-'), sf.col('hour')))\n",
    "\n",
    "# again add a columns with the frequency of occurance each user-hour combiation\n",
    "# new data frome for frequency of user-hour combination\n",
    "u_count_h = df_j1.groupBy(\"user_hour\").count().sort(desc(\"count\"))\n",
    "u_count_h = u_count_h.withColumnRenamed('user_hour','user_hour_d')\n",
    "u_count_h = u_count_h.withColumnRenamed('count','user_hour_count')\n",
    "\n",
    "# join the new dataframe with df_j1\n",
    "df_j2= df_j1.join(u_count_h, df_j1.user_hour==u_count_h.user_hour_d, \"left\").drop('user_hour_d')\n",
    "\n",
    "# Check the columns to know that the trnaformation is done\n",
    "df_j2.columns"
   ]
  },
  {
   "cell_type": "code",
   "execution_count": 40,
   "metadata": {},
   "outputs": [
    {
     "data": {
      "application/vnd.jupyter.widget-view+json": {
       "model_id": "a04f9d84a574423a86fb1b8d159a1844",
       "version_major": 2,
       "version_minor": 0
      },
      "text/plain": [
       "VBox()"
      ]
     },
     "metadata": {},
     "output_type": "display_data"
    },
    {
     "data": {
      "application/vnd.jupyter.widget-view+json": {
       "model_id": "",
       "version_major": 2,
       "version_minor": 0
      },
      "text/plain": [
       "FloatProgress(value=0.0, bar_style='info', description='Progress:', layout=Layout(height='25px', width='50%'),…"
      ]
     },
     "metadata": {},
     "output_type": "display_data"
    }
   ],
   "source": [
    "# drop all redundent columns\n",
    "\n",
    "df=df_j2.drop( 'device_id', 'device_ip', 'device_model','user','user_hour','month')\n",
    "\n",
    "# dropping month as it has only one value it does not contribute in predictions. \n",
    "# This was demonstrated by Jaidev"
   ]
  },
  {
   "cell_type": "code",
   "execution_count": 41,
   "metadata": {},
   "outputs": [
    {
     "data": {
      "application/vnd.jupyter.widget-view+json": {
       "model_id": "a9bb937d7af6464bbf2578b1b1cee4ac",
       "version_major": 2,
       "version_minor": 0
      },
      "text/plain": [
       "VBox()"
      ]
     },
     "metadata": {},
     "output_type": "display_data"
    },
    {
     "data": {
      "application/vnd.jupyter.widget-view+json": {
       "model_id": "",
       "version_major": 2,
       "version_minor": 0
      },
      "text/plain": [
       "FloatProgress(value=0.0, bar_style='info', description='Progress:', layout=Layout(height='25px', width='50%'),…"
      ]
     },
     "metadata": {},
     "output_type": "display_data"
    },
    {
     "name": "stdout",
     "output_type": "stream",
     "text": [
      "+-----+---+----------+-----------+----------------+----+---+---+---+---+---+---+---+---------+---+----+---+------+----------+------------+----------+---------------+\n",
      "|click| C1|banner_pos|device_type|device_conn_type| C14|C15|C16|C17|C18|C19|C20|C21|dayofweek|day|hour|  y|pub_id|pub_domain|pub_category|user_count|user_hour_count|\n",
      "+-----+---+----------+-----------+----------------+----+---+---+---+---+---+---+---+---------+---+----+---+------+----------+------------+----------+---------------+\n",
      "|    2|  7|         7|          4|               4|1722|  8|  9|399|  4| 64|154| 60|        7| 10|  24|  2|  2837|      1331|          19|        45|             12|\n",
      "+-----+---+----------+-----------+----------------+----+---+---+---+---+---+---+---+---------+---+----+---+------+----------+------------+----------+---------------+"
     ]
    }
   ],
   "source": [
    "# find the number of catagories in each columns \n",
    "# use the countdistinct method\n",
    "# create a list of all columns and then loop through each column counting the distinct values in it. \n",
    "\n",
    "from pyspark.sql.functions import col, countDistinct\n",
    "\n",
    "df.agg(*(countDistinct(col(c)).alias(c) for c in df.columns)).show()\n",
    "\n",
    "# here * instructs the agg function to accept whatever number of columns are inside the brakets. "
   ]
  },
  {
   "cell_type": "code",
   "execution_count": 42,
   "metadata": {},
   "outputs": [
    {
     "data": {
      "application/vnd.jupyter.widget-view+json": {
       "model_id": "52c1bb9c9e9b470fa3966cd9e747ddb8",
       "version_major": 2,
       "version_minor": 0
      },
      "text/plain": [
       "VBox()"
      ]
     },
     "metadata": {},
     "output_type": "display_data"
    },
    {
     "data": {
      "application/vnd.jupyter.widget-view+json": {
       "model_id": "",
       "version_major": 2,
       "version_minor": 0
      },
      "text/plain": [
       "FloatProgress(value=0.0, bar_style='info', description='Progress:', layout=Layout(height='25px', width='50%'),…"
      ]
     },
     "metadata": {},
     "output_type": "display_data"
    }
   ],
   "source": [
    "# drop colums which have lot of dictinct catagories. \n",
    "\n",
    "df=df.drop('pub_id','pub_domain','C14','C17')"
   ]
  },
  {
   "cell_type": "markdown",
   "metadata": {},
   "source": [
    "# Algorithm Building\n",
    "\n",
    "Earlier in the module, Jaidev has performed model building exercise. You can refer to his notebooks for help."
   ]
  },
  {
   "cell_type": "code",
   "execution_count": 43,
   "metadata": {},
   "outputs": [
    {
     "data": {
      "application/vnd.jupyter.widget-view+json": {
       "model_id": "526d3257f1c14e128f8629ea06248d43",
       "version_major": 2,
       "version_minor": 0
      },
      "text/plain": [
       "VBox()"
      ]
     },
     "metadata": {},
     "output_type": "display_data"
    },
    {
     "data": {
      "application/vnd.jupyter.widget-view+json": {
       "model_id": "",
       "version_major": 2,
       "version_minor": 0
      },
      "text/plain": [
       "FloatProgress(value=0.0, bar_style='info', description='Progress:', layout=Layout(height='25px', width='50%'),…"
      ]
     },
     "metadata": {},
     "output_type": "display_data"
    }
   ],
   "source": [
    "# import all the necessary libraries \n",
    "\n",
    "from pyspark.sql.functions import udf\n",
    "from pyspark.sql.types import IntegerType\n",
    "from pyspark.ml.feature import StringIndexer, OneHotEncoderEstimator, VectorAssembler"
   ]
  },
  {
   "cell_type": "code",
   "execution_count": 44,
   "metadata": {},
   "outputs": [
    {
     "data": {
      "application/vnd.jupyter.widget-view+json": {
       "model_id": "c4af08d7181b40c697d11ec573082ea6",
       "version_major": 2,
       "version_minor": 0
      },
      "text/plain": [
       "VBox()"
      ]
     },
     "metadata": {},
     "output_type": "display_data"
    },
    {
     "data": {
      "application/vnd.jupyter.widget-view+json": {
       "model_id": "",
       "version_major": 2,
       "version_minor": 0
      },
      "text/plain": [
       "FloatProgress(value=0.0, bar_style='info', description='Progress:', layout=Layout(height='25px', width='50%'),…"
      ]
     },
     "metadata": {},
     "output_type": "display_data"
    }
   ],
   "source": [
    "# create a list of catagorical columns wich are represented by integers. these will not be sent through the one hot encoder\n",
    "\n",
    "cCols = ['C1', 'banner_pos', 'device_type', 'device_conn_type']\n",
    "cCols += ['C18','C19','C21','C15','C16']"
   ]
  },
  {
   "cell_type": "code",
   "execution_count": 45,
   "metadata": {},
   "outputs": [
    {
     "data": {
      "application/vnd.jupyter.widget-view+json": {
       "model_id": "4ed30e7300664c71a435813b26b35cc8",
       "version_major": 2,
       "version_minor": 0
      },
      "text/plain": [
       "VBox()"
      ]
     },
     "metadata": {},
     "output_type": "display_data"
    },
    {
     "data": {
      "application/vnd.jupyter.widget-view+json": {
       "model_id": "",
       "version_major": 2,
       "version_minor": 0
      },
      "text/plain": [
       "FloatProgress(value=0.0, bar_style='info', description='Progress:', layout=Layout(height='25px', width='50%'),…"
      ]
     },
     "metadata": {},
     "output_type": "display_data"
    }
   ],
   "source": [
    "# if you remember form the earlier model building exercise the column C20 has negative values. \n",
    "# replace the negative values with 0. you can use the same UDF made by Jaidev. \n",
    "\n",
    "from pyspark.sql.functions import udf\n",
    "from pyspark.sql.types import IntegerType\n",
    "\n",
    "posMapper = udf(lambda x: 0 if x < 0 else x)\n",
    "df = df.withColumn('C20_1', posMapper(df['C20']))\n",
    "df = df.withColumn(\"C20_1int\", df['C20_1'].cast(IntegerType()))"
   ]
  },
  {
   "cell_type": "code",
   "execution_count": 46,
   "metadata": {},
   "outputs": [
    {
     "data": {
      "application/vnd.jupyter.widget-view+json": {
       "model_id": "133e93a9304a4dd1822d3eb62f494d76",
       "version_major": 2,
       "version_minor": 0
      },
      "text/plain": [
       "VBox()"
      ]
     },
     "metadata": {},
     "output_type": "display_data"
    },
    {
     "data": {
      "application/vnd.jupyter.widget-view+json": {
       "model_id": "",
       "version_major": 2,
       "version_minor": 0
      },
      "text/plain": [
       "FloatProgress(value=0.0, bar_style='info', description='Progress:', layout=Layout(height='25px', width='50%'),…"
      ]
     },
     "metadata": {},
     "output_type": "display_data"
    }
   ],
   "source": [
    "# run the string indexer on the columns which are categorical but are represented by strings.\n",
    "# adding a string on the end of the output column to make it easy to identify\n",
    "\n",
    "stringCols = ['pub_category']\n",
    "for c in stringCols:\n",
    "    outCol = c + '_ix'\n",
    "    si = StringIndexer(inputCol=c, outputCol=outCol)\n",
    "    df = si.fit(df).transform(df)"
   ]
  },
  {
   "cell_type": "code",
   "execution_count": 47,
   "metadata": {},
   "outputs": [
    {
     "data": {
      "application/vnd.jupyter.widget-view+json": {
       "model_id": "d64fa8edee1a4b4c9a46d0abd9afc0ef",
       "version_major": 2,
       "version_minor": 0
      },
      "text/plain": [
       "VBox()"
      ]
     },
     "metadata": {},
     "output_type": "display_data"
    },
    {
     "data": {
      "application/vnd.jupyter.widget-view+json": {
       "model_id": "",
       "version_major": 2,
       "version_minor": 0
      },
      "text/plain": [
       "FloatProgress(value=0.0, bar_style='info', description='Progress:', layout=Layout(height='25px', width='50%'),…"
      ]
     },
     "metadata": {},
     "output_type": "display_data"
    },
    {
     "name": "stdout",
     "output_type": "stream",
     "text": [
      "['C1', 'banner_pos', 'device_type', 'device_conn_type', 'C18', 'C19', 'C21', 'C15', 'C16', 'pub_category_ix', 'C20_1int']"
     ]
    }
   ],
   "source": [
    "# add the resultant columns from string indexer into the catagorical columns list. \n",
    "# make sure that you have the right column name for C20 as it has beed processed separately. \n",
    "\n",
    "cCols+=['pub_category_ix','C20_1int']\n",
    "cCols"
   ]
  },
  {
   "cell_type": "code",
   "execution_count": 48,
   "metadata": {},
   "outputs": [
    {
     "data": {
      "application/vnd.jupyter.widget-view+json": {
       "model_id": "884f6f2293cf4e759618a33a870ecbcb",
       "version_major": 2,
       "version_minor": 0
      },
      "text/plain": [
       "VBox()"
      ]
     },
     "metadata": {},
     "output_type": "display_data"
    },
    {
     "data": {
      "application/vnd.jupyter.widget-view+json": {
       "model_id": "",
       "version_major": 2,
       "version_minor": 0
      },
      "text/plain": [
       "FloatProgress(value=0.0, bar_style='info', description='Progress:', layout=Layout(height='25px', width='50%'),…"
      ]
     },
     "metadata": {},
     "output_type": "display_data"
    }
   ],
   "source": [
    "# run all the categorical columns through the one hot encoder \n",
    "\n",
    "ohe = OneHotEncoderEstimator(inputCols=cCols, outputCols=[c+'Enc' for c in cCols])\n",
    "enc_model = ohe.fit(df)\n",
    "df = enc_model.transform(df)"
   ]
  },
  {
   "cell_type": "code",
   "execution_count": 50,
   "metadata": {},
   "outputs": [
    {
     "data": {
      "application/vnd.jupyter.widget-view+json": {
       "model_id": "0999f283c8704a1ab13f0ee0f632f3a8",
       "version_major": 2,
       "version_minor": 0
      },
      "text/plain": [
       "VBox()"
      ]
     },
     "metadata": {},
     "output_type": "display_data"
    },
    {
     "data": {
      "application/vnd.jupyter.widget-view+json": {
       "model_id": "",
       "version_major": 2,
       "version_minor": 0
      },
      "text/plain": [
       "FloatProgress(value=0.0, bar_style='info', description='Progress:', layout=Layout(height='25px', width='50%'),…"
      ]
     },
     "metadata": {},
     "output_type": "display_data"
    }
   ],
   "source": [
    "# use the vector assember to combine all the encoded columns and the continuous variable columns \n",
    "\n",
    "# add the neumerical columns to the list of encoded traning columns\n",
    "trainCols = [c+'Enc' for c in cCols]\n",
    "trainCols += ['hour', 'day', 'dayofweek','user_hour_count','user_count']\n",
    "\n",
    "#configure the assembler object and use it to transform df\n",
    "assembler = VectorAssembler(inputCols=trainCols, outputCol='features')\n",
    "df = assembler.transform(df)"
   ]
  },
  {
   "cell_type": "code",
   "execution_count": 51,
   "metadata": {},
   "outputs": [
    {
     "data": {
      "application/vnd.jupyter.widget-view+json": {
       "model_id": "59a5c7a7a9d4400bad19383c0222fbb6",
       "version_major": 2,
       "version_minor": 0
      },
      "text/plain": [
       "VBox()"
      ]
     },
     "metadata": {},
     "output_type": "display_data"
    },
    {
     "data": {
      "application/vnd.jupyter.widget-view+json": {
       "model_id": "",
       "version_major": 2,
       "version_minor": 0
      },
      "text/plain": [
       "FloatProgress(value=0.0, bar_style='info', description='Progress:', layout=Layout(height='25px', width='50%'),…"
      ]
     },
     "metadata": {},
     "output_type": "display_data"
    }
   ],
   "source": [
    "# split the data into training and testing data set\n",
    "\n",
    "df_train, df_test = df.randomSplit([0.7,0.3])"
   ]
  },
  {
   "cell_type": "code",
   "execution_count": 52,
   "metadata": {},
   "outputs": [
    {
     "data": {
      "application/vnd.jupyter.widget-view+json": {
       "model_id": "e566d5a5476d4c5bb07056d15caa8882",
       "version_major": 2,
       "version_minor": 0
      },
      "text/plain": [
       "VBox()"
      ]
     },
     "metadata": {},
     "output_type": "display_data"
    },
    {
     "data": {
      "application/vnd.jupyter.widget-view+json": {
       "model_id": "",
       "version_major": 2,
       "version_minor": 0
      },
      "text/plain": [
       "FloatProgress(value=0.0, bar_style='info', description='Progress:', layout=Layout(height='25px', width='50%'),…"
      ]
     },
     "metadata": {},
     "output_type": "display_data"
    }
   ],
   "source": [
    "# train model in the training dataset\n",
    "\n",
    "# import the logistic model\n",
    "from pyspark.ml.classification import LogisticRegression\n",
    "\n",
    "# create the logistic model, configure it and call fit it to the data. \n",
    "lr = LogisticRegression(featuresCol='features', labelCol='y')\n",
    "model = lr.fit(df_train)"
   ]
  },
  {
   "cell_type": "code",
   "execution_count": 54,
   "metadata": {},
   "outputs": [
    {
     "data": {
      "application/vnd.jupyter.widget-view+json": {
       "model_id": "65e0edbae4e54e81abd60e2dffb061e6",
       "version_major": 2,
       "version_minor": 0
      },
      "text/plain": [
       "VBox()"
      ]
     },
     "metadata": {},
     "output_type": "display_data"
    },
    {
     "data": {
      "application/vnd.jupyter.widget-view+json": {
       "model_id": "",
       "version_major": 2,
       "version_minor": 0
      },
      "text/plain": [
       "FloatProgress(value=0.0, bar_style='info', description='Progress:', layout=Layout(height='25px', width='50%'),…"
      ]
     },
     "metadata": {},
     "output_type": "display_data"
    },
    {
     "name": "stdout",
     "output_type": "stream",
     "text": [
      "[0.9962709009984362, 0.020283199387677]"
     ]
    }
   ],
   "source": [
    "# use the model to predict the class labels of test data. \n",
    "\n",
    "result_test = model.evaluate(df_test)\n",
    "\n",
    "result_test.recallByLabel"
   ]
  },
  {
   "cell_type": "code",
   "execution_count": 57,
   "metadata": {},
   "outputs": [
    {
     "data": {
      "application/vnd.jupyter.widget-view+json": {
       "model_id": "2a2b119cf9ec4c05827c9c60d1061008",
       "version_major": 2,
       "version_minor": 0
      },
      "text/plain": [
       "VBox()"
      ]
     },
     "metadata": {},
     "output_type": "display_data"
    },
    {
     "data": {
      "application/vnd.jupyter.widget-view+json": {
       "model_id": "",
       "version_major": 2,
       "version_minor": 0
      },
      "text/plain": [
       "FloatProgress(value=0.0, bar_style='info', description='Progress:', layout=Layout(height='25px', width='50%'),…"
      ]
     },
     "metadata": {},
     "output_type": "display_data"
    }
   ],
   "source": [
    "# Write the prediction data frame so that when you need it you can directly call that dataframe. No need to train again\n",
    "# use your AWS account to create an S3 bucket \n",
    "\n",
    "# create an S3 buket in your aws account.write the data there.\n",
    "result_test.predictions.coalesce(1).write.option(\"header\", \"true\").parquet(\"s3a://logistic-data/testresult1.parquet\")\n",
    "\n",
    "# parquet format is necessary as few columns in the dataframe are in dense vector format and you cannot save them in csv format.\n",
    "# coalesce here is used to make sure the file written a single file. If this is not set the written file will be inparts. "
   ]
  },
  {
   "cell_type": "markdown",
   "metadata": {},
   "source": [
    "At this point you can terminate the m4.xlarge cluster and start a m4.large cluster then continue further. "
   ]
  },
  {
   "cell_type": "code",
   "execution_count": null,
   "metadata": {},
   "outputs": [],
   "source": []
  }
 ],
 "metadata": {
  "kernelspec": {
   "display_name": "Python 3",
   "language": "python",
   "name": "python3"
  },
  "language_info": {
   "codemirror_mode": {
    "name": "ipython",
    "version": 3
   },
   "file_extension": ".py",
   "mimetype": "text/x-python",
   "name": "python",
   "nbconvert_exporter": "python",
   "pygments_lexer": "ipython3",
   "version": "3.7.6"
  }
 },
 "nbformat": 4,
 "nbformat_minor": 4
}
