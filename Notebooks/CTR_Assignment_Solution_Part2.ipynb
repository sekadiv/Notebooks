{
 "cells": [
  {
   "cell_type": "markdown",
   "metadata": {},
   "source": [
    "# Finding the right threshold"
   ]
  },
  {
   "cell_type": "markdown",
   "metadata": {},
   "source": [
    "Install pandas and matplotlib on the server. We are going to use these libraries to plot graph. "
   ]
  },
  {
   "cell_type": "code",
   "execution_count": 1,
   "metadata": {},
   "outputs": [
    {
     "data": {
      "application/vnd.jupyter.widget-view+json": {
       "model_id": "c8a19d6f247d4250bb72a5f6a20b87a3",
       "version_major": 2,
       "version_minor": 0
      },
      "text/plain": [
       "VBox()"
      ]
     },
     "metadata": {},
     "output_type": "display_data"
    },
    {
     "name": "stdout",
     "output_type": "stream",
     "text": [
      "Starting Spark application\n"
     ]
    },
    {
     "data": {
      "text/html": [
       "<table>\n",
       "<tr><th>ID</th><th>YARN Application ID</th><th>Kind</th><th>State</th><th>Spark UI</th><th>Driver log</th><th>Current session?</th></tr><tr><td>1</td><td>application_1592149500031_0002</td><td>pyspark</td><td>idle</td><td><a target=\"_blank\" href=\"http://ip-172-31-14-172.ec2.internal:20888/proxy/application_1592149500031_0002/\">Link</a></td><td><a target=\"_blank\" href=\"http://ip-172-31-12-44.ec2.internal:8042/node/containerlogs/container_1592149500031_0002_01_000001/livy\">Link</a></td><td>✔</td></tr></table>"
      ],
      "text/plain": [
       "<IPython.core.display.HTML object>"
      ]
     },
     "metadata": {},
     "output_type": "display_data"
    },
    {
     "data": {
      "application/vnd.jupyter.widget-view+json": {
       "model_id": "",
       "version_major": 2,
       "version_minor": 0
      },
      "text/plain": [
       "FloatProgress(value=0.0, bar_style='info', description='Progress:', layout=Layout(height='25px', width='50%'),…"
      ]
     },
     "metadata": {},
     "output_type": "display_data"
    },
    {
     "name": "stdout",
     "output_type": "stream",
     "text": [
      "SparkSession available as 'spark'.\n"
     ]
    },
    {
     "data": {
      "application/vnd.jupyter.widget-view+json": {
       "model_id": "",
       "version_major": 2,
       "version_minor": 0
      },
      "text/plain": [
       "FloatProgress(value=0.0, bar_style='info', description='Progress:', layout=Layout(height='25px', width='50%'),…"
      ]
     },
     "metadata": {},
     "output_type": "display_data"
    },
    {
     "name": "stdout",
     "output_type": "stream",
     "text": [
      "Package                    Version\n",
      "-------------------------- -------\n",
      "beautifulsoup4             4.9.0  \n",
      "boto                       2.49.0 \n",
      "jmespath                   0.9.5  \n",
      "lxml                       4.5.0  \n",
      "mysqlclient                1.4.2  \n",
      "nltk                       3.4.5  \n",
      "nose                       1.3.4  \n",
      "numpy                      1.16.5 \n",
      "pip                        9.0.1  \n",
      "py-dateutil                2.2    \n",
      "python37-sagemaker-pyspark 1.3.0  \n",
      "pytz                       2019.3 \n",
      "PyYAML                     5.3.1  \n",
      "setuptools                 28.8.0 \n",
      "six                        1.13.0 \n",
      "soupsieve                  1.9.5  \n",
      "wheel                      0.29.0 \n",
      "windmill                   1.6"
     ]
    }
   ],
   "source": [
    "# check the libraries in already installed on the cluster \n",
    "\n",
    "sc.list_packages()"
   ]
  },
  {
   "cell_type": "code",
   "execution_count": 2,
   "metadata": {},
   "outputs": [
    {
     "data": {
      "application/vnd.jupyter.widget-view+json": {
       "model_id": "e905d66137de460e9b61de9b392b8ed2",
       "version_major": 2,
       "version_minor": 0
      },
      "text/plain": [
       "VBox()"
      ]
     },
     "metadata": {},
     "output_type": "display_data"
    },
    {
     "data": {
      "application/vnd.jupyter.widget-view+json": {
       "model_id": "",
       "version_major": 2,
       "version_minor": 0
      },
      "text/plain": [
       "FloatProgress(value=0.0, bar_style='info', description='Progress:', layout=Layout(height='25px', width='50%'),…"
      ]
     },
     "metadata": {},
     "output_type": "display_data"
    },
    {
     "name": "stdout",
     "output_type": "stream",
     "text": [
      "Collecting pandas==0.25.1\n",
      "  Using cached https://files.pythonhosted.org/packages/7e/ab/ea76361f9d3e732e114adcd801d2820d5319c23d0ac5482fa3b412db217e/pandas-0.25.1-cp37-cp37m-manylinux1_x86_64.whl\n",
      "Requirement already satisfied: pytz>=2017.2 in /usr/local/lib/python3.7/site-packages (from pandas==0.25.1)\n",
      "Requirement already satisfied: numpy>=1.13.3 in /usr/local/lib64/python3.7/site-packages (from pandas==0.25.1)\n",
      "Collecting python-dateutil>=2.6.1 (from pandas==0.25.1)\n",
      "  Using cached https://files.pythonhosted.org/packages/d4/70/d60450c3dd48ef87586924207ae8907090de0b306af2bce5d134d78615cb/python_dateutil-2.8.1-py2.py3-none-any.whl\n",
      "Requirement already satisfied: six>=1.5 in /usr/local/lib/python3.7/site-packages (from python-dateutil>=2.6.1->pandas==0.25.1)\n",
      "Installing collected packages: python-dateutil, pandas\n",
      "Successfully installed pandas-0.25.1 python-dateutil-2.8.1\n",
      "\n",
      "Collecting matplotlib\n",
      "  Using cached https://files.pythonhosted.org/packages/b2/c2/71fcf957710f3ba1f09088b35776a799ba7dd95f7c2b195ec800933b276b/matplotlib-3.2.1-cp37-cp37m-manylinux1_x86_64.whl\n",
      "Requirement already satisfied: python-dateutil>=2.1 in /mnt/tmp/1592155967540-0/lib/python3.7/site-packages (from matplotlib)\n",
      "Collecting pyparsing!=2.0.4,!=2.1.2,!=2.1.6,>=2.0.1 (from matplotlib)\n",
      "  Using cached https://files.pythonhosted.org/packages/8a/bb/488841f56197b13700afd5658fc279a2025a39e22449b7cf29864669b15d/pyparsing-2.4.7-py2.py3-none-any.whl\n",
      "Collecting cycler>=0.10 (from matplotlib)\n",
      "  Using cached https://files.pythonhosted.org/packages/f7/d2/e07d3ebb2bd7af696440ce7e754c59dd546ffe1bbe732c8ab68b9c834e61/cycler-0.10.0-py2.py3-none-any.whl\n",
      "Requirement already satisfied: numpy>=1.11 in /usr/local/lib64/python3.7/site-packages (from matplotlib)\n",
      "Collecting kiwisolver>=1.0.1 (from matplotlib)\n",
      "  Using cached https://files.pythonhosted.org/packages/31/b9/6202dcae729998a0ade30e80ac00f616542ef445b088ec970d407dfd41c0/kiwisolver-1.2.0-cp37-cp37m-manylinux1_x86_64.whl\n",
      "Requirement already satisfied: six>=1.5 in /usr/local/lib/python3.7/site-packages (from python-dateutil>=2.1->matplotlib)\n",
      "Installing collected packages: pyparsing, cycler, kiwisolver, matplotlib\n",
      "Successfully installed cycler-0.10.0 kiwisolver-1.2.0 matplotlib-3.2.1 pyparsing-2.4.7"
     ]
    }
   ],
   "source": [
    "sc.install_pypi_package(\"pandas==0.25.1\") #Install pandas version 0.25.1 \n",
    "sc.install_pypi_package(\"matplotlib\", \"https://pypi.org/simple\") #Install matplotlib from given PyPI repository"
   ]
  },
  {
   "cell_type": "code",
   "execution_count": 3,
   "metadata": {},
   "outputs": [
    {
     "data": {
      "application/vnd.jupyter.widget-view+json": {
       "model_id": "41446fcacb2543b9b81436210662ccdd",
       "version_major": 2,
       "version_minor": 0
      },
      "text/plain": [
       "VBox()"
      ]
     },
     "metadata": {},
     "output_type": "display_data"
    },
    {
     "data": {
      "application/vnd.jupyter.widget-view+json": {
       "model_id": "",
       "version_major": 2,
       "version_minor": 0
      },
      "text/plain": [
       "FloatProgress(value=0.0, bar_style='info', description='Progress:', layout=Layout(height='25px', width='50%'),…"
      ]
     },
     "metadata": {},
     "output_type": "display_data"
    }
   ],
   "source": [
    "# Read the data from the result data frame you created. \n",
    "\n",
    "result_test = spark.read.parquet('s3a://logistic-data/testresult1.parquet')"
   ]
  },
  {
   "cell_type": "code",
   "execution_count": 4,
   "metadata": {},
   "outputs": [
    {
     "data": {
      "application/vnd.jupyter.widget-view+json": {
       "model_id": "7b5ab2befdf34fd6b778ee6f66c990ff",
       "version_major": 2,
       "version_minor": 0
      },
      "text/plain": [
       "VBox()"
      ]
     },
     "metadata": {},
     "output_type": "display_data"
    },
    {
     "data": {
      "application/vnd.jupyter.widget-view+json": {
       "model_id": "",
       "version_major": 2,
       "version_minor": 0
      },
      "text/plain": [
       "FloatProgress(value=0.0, bar_style='info', description='Progress:', layout=Layout(height='25px', width='50%'),…"
      ]
     },
     "metadata": {},
     "output_type": "display_data"
    },
    {
     "name": "stdout",
     "output_type": "stream",
     "text": [
      "['click', 'C1', 'banner_pos', 'device_type', 'device_conn_type', 'C15', 'C16', 'C18', 'C19', 'C20', 'C21', 'dayofweek', 'day', 'hour', 'y', 'pub_category', 'C20_1', 'C20_1int', 'pub_category_ix', 'C15Enc', 'C21Enc', 'device_conn_typeEnc', 'C19Enc', 'pub_category_ixEnc', 'device_typeEnc', 'C1Enc', 'C16Enc', 'C18Enc', 'banner_posEnc', 'C20_1intEnc', 'user_count', 'user_hour_count', 'features', 'rawPrediction', 'probability', 'prediction']"
     ]
    }
   ],
   "source": [
    "#result_test.columns"
   ]
  },
  {
   "cell_type": "code",
   "execution_count": 5,
   "metadata": {},
   "outputs": [
    {
     "data": {
      "application/vnd.jupyter.widget-view+json": {
       "model_id": "e2e97448e77f4a6ea50342ffe6e1b829",
       "version_major": 2,
       "version_minor": 0
      },
      "text/plain": [
       "VBox()"
      ]
     },
     "metadata": {},
     "output_type": "display_data"
    },
    {
     "data": {
      "application/vnd.jupyter.widget-view+json": {
       "model_id": "",
       "version_major": 2,
       "version_minor": 0
      },
      "text/plain": [
       "FloatProgress(value=0.0, bar_style='info', description='Progress:', layout=Layout(height='25px', width='50%'),…"
      ]
     },
     "metadata": {},
     "output_type": "display_data"
    }
   ],
   "source": [
    "# Create a new data frame with only the columns y and probabilities \n",
    "\n",
    "thresh = result_test.select('y','probability')"
   ]
  },
  {
   "cell_type": "code",
   "execution_count": 6,
   "metadata": {},
   "outputs": [
    {
     "data": {
      "application/vnd.jupyter.widget-view+json": {
       "model_id": "f424b8f89977427ea35c20b789e75f07",
       "version_major": 2,
       "version_minor": 0
      },
      "text/plain": [
       "VBox()"
      ]
     },
     "metadata": {},
     "output_type": "display_data"
    },
    {
     "data": {
      "application/vnd.jupyter.widget-view+json": {
       "model_id": "",
       "version_major": 2,
       "version_minor": 0
      },
      "text/plain": [
       "FloatProgress(value=0.0, bar_style='info', description='Progress:', layout=Layout(height='25px', width='50%'),…"
      ]
     },
     "metadata": {},
     "output_type": "display_data"
    },
    {
     "name": "stdout",
     "output_type": "stream",
     "text": [
      "Row(y=0, probability=DenseVector([0.8792, 0.1208]))"
     ]
    }
   ],
   "source": [
    "#thresh.collect()[0]"
   ]
  },
  {
   "cell_type": "code",
   "execution_count": 7,
   "metadata": {},
   "outputs": [
    {
     "data": {
      "application/vnd.jupyter.widget-view+json": {
       "model_id": "896b46cabc8d4875ba253aabd2155584",
       "version_major": 2,
       "version_minor": 0
      },
      "text/plain": [
       "VBox()"
      ]
     },
     "metadata": {},
     "output_type": "display_data"
    },
    {
     "data": {
      "application/vnd.jupyter.widget-view+json": {
       "model_id": "",
       "version_major": 2,
       "version_minor": 0
      },
      "text/plain": [
       "FloatProgress(value=0.0, bar_style='info', description='Progress:', layout=Layout(height='25px', width='50%'),…"
      ]
     },
     "metadata": {},
     "output_type": "display_data"
    }
   ],
   "source": [
    "# the probability is a dense vector column. \n",
    "# You will have to find a way to access the value of the probability referring to the positive class. \n",
    "# create a function to access the probability of the positive class form the 'probability' column\n",
    "\n",
    "\n",
    "from pyspark.sql.functions import udf, when\n",
    "from pyspark.sql.types import FloatType\n",
    "\n",
    "element_extrac=udf(lambda v:float(v[1]),FloatType())"
   ]
  },
  {
   "cell_type": "code",
   "execution_count": 8,
   "metadata": {},
   "outputs": [
    {
     "data": {
      "application/vnd.jupyter.widget-view+json": {
       "model_id": "3ebe20794efc472ca7fa0170c33ab8a6",
       "version_major": 2,
       "version_minor": 0
      },
      "text/plain": [
       "VBox()"
      ]
     },
     "metadata": {},
     "output_type": "display_data"
    },
    {
     "data": {
      "application/vnd.jupyter.widget-view+json": {
       "model_id": "",
       "version_major": 2,
       "version_minor": 0
      },
      "text/plain": [
       "FloatProgress(value=0.0, bar_style='info', description='Progress:', layout=Layout(height='25px', width='50%'),…"
      ]
     },
     "metadata": {},
     "output_type": "display_data"
    },
    {
     "name": "stdout",
     "output_type": "stream",
     "text": [
      "[0.1, 0.15, 0.2, 0.25, 0.3, 0.35, 0.4, 0.45, 0.5, 0.55, 0.6, 0.65, 0.7, 0.75, 0.8, 0.85]"
     ]
    }
   ],
   "source": [
    "# create a list of all the thresholds you want to check the metrics for. \n",
    "\n",
    "result_list = []       # to store the values of precision and recall\n",
    "\n",
    "\n",
    "\n",
    "threshold_list = [0.1,0.2,0.3,0.4,0.5,0.6,0.7,0.8]\n",
    "#threshold_list"
   ]
  },
  {
   "cell_type": "code",
   "execution_count": 9,
   "metadata": {},
   "outputs": [
    {
     "data": {
      "application/vnd.jupyter.widget-view+json": {
       "model_id": "007c21013c794b55b0cd00ad27a9a020",
       "version_major": 2,
       "version_minor": 0
      },
      "text/plain": [
       "VBox()"
      ]
     },
     "metadata": {},
     "output_type": "display_data"
    },
    {
     "data": {
      "application/vnd.jupyter.widget-view+json": {
       "model_id": "",
       "version_major": 2,
       "version_minor": 0
      },
      "text/plain": [
       "FloatProgress(value=0.0, bar_style='info', description='Progress:', layout=Layout(height='25px', width='50%'),…"
      ]
     },
     "metadata": {},
     "output_type": "display_data"
    }
   ],
   "source": [
    "# Now you have the probabilities, your task is to add a class column. \n",
    "# To create this column, compare the probabilities with the threshold and decide the class. \n",
    "# You can make a loop which will repeat the same action for different thresholds\n",
    "# Use the filter and count functions to find the true positives, false positives, false negatives. (inside the loop)\n",
    "# Using these values, find the precision and recall for different thresholds. (inside the loop)\n",
    "\n",
    "\n",
    "for i in threshold_list:\n",
    "    test_pred = thresh.withColumn('label_p',when(element_extrac(thresh[\"probability\"]) >= i, 1).otherwise(0))\n",
    "    TP = test_pred.filter(\"y==1 AND label_p==1\").count()\n",
    "    FP = test_pred.filter(\"y==0 AND label_p==1\").count()\n",
    "    FN = test_pred.filter(\"y==1 AND label_p==0\").count()\n",
    "    TN = test_pred.filter(\"y==0 AND label_p==0\").count()    \n",
    "    recall = (TP/(TP+FN))\n",
    "    presession = ((TP/(TP+FP)))\n",
    "    list1 = []\n",
    "    list1.append(i)\n",
    "    list1.append(presession)\n",
    "    list1.append(recall)\n",
    "    list1.append(TP)\n",
    "    list1.append(TN)\n",
    "    list1.append(FP)\n",
    "    list1.append(FN)\n",
    "    result_list.append(list1)"
   ]
  },
  {
   "cell_type": "markdown",
   "metadata": {},
   "source": [
    "#### Create a panadas datafarme for the list of the output. "
   ]
  },
  {
   "cell_type": "code",
   "execution_count": 11,
   "metadata": {},
   "outputs": [
    {
     "data": {
      "application/vnd.jupyter.widget-view+json": {
       "model_id": "82c21d8788db481ea41c7106295f81da",
       "version_major": 2,
       "version_minor": 0
      },
      "text/plain": [
       "VBox()"
      ]
     },
     "metadata": {},
     "output_type": "display_data"
    },
    {
     "data": {
      "application/vnd.jupyter.widget-view+json": {
       "model_id": "",
       "version_major": 2,
       "version_minor": 0
      },
      "text/plain": [
       "FloatProgress(value=0.0, bar_style='info', description='Progress:', layout=Layout(height='25px', width='50%'),…"
      ]
     },
     "metadata": {},
     "output_type": "display_data"
    }
   ],
   "source": [
    "# Create a panadas datafarme for the list of the output. \n",
    "\n",
    "# create a schema for the dataframes \n",
    "from pyspark.sql.types import *\n",
    "\n",
    "schema = StructType([StructField('threshold', FloatType(), True),\n",
    "                      StructField('precision', FloatType(), True),\n",
    "                      StructField('recall', FloatType(), True),\n",
    "                      StructField('TP', IntegerType(), True),\n",
    "                      StructField('TN', IntegerType(), True),\n",
    "                      StructField('FP', IntegerType(), True),\n",
    "                      StructField('FN', IntegerType(), True)])\n",
    "\n",
    "\n",
    "# create a rdd from the list\n",
    "rdd = spark.sparkContext.parallelize(result_list)\n",
    "\n",
    "\n",
    "# create a spark dataframe form rdd\n",
    "thresh_df = spark.createDataFrame(rdd,schema)\n",
    "\n",
    "# create pandas dataframe form the spark dataframe \n",
    "pandas_df = thresh_df.toPandas()"
   ]
  },
  {
   "cell_type": "code",
   "execution_count": 12,
   "metadata": {},
   "outputs": [
    {
     "data": {
      "application/vnd.jupyter.widget-view+json": {
       "model_id": "5cbe724e0bff4d4bae811fdf33f78088",
       "version_major": 2,
       "version_minor": 0
      },
      "text/plain": [
       "VBox()"
      ]
     },
     "metadata": {},
     "output_type": "display_data"
    },
    {
     "data": {
      "application/vnd.jupyter.widget-view+json": {
       "model_id": "",
       "version_major": 2,
       "version_minor": 0
      },
      "text/plain": [
       "FloatProgress(value=0.0, bar_style='info', description='Progress:', layout=Layout(height='25px', width='50%'),…"
      ]
     },
     "metadata": {},
     "output_type": "display_data"
    },
    {
     "data": {
      "image/png": "[encoded data removed]",
      "text/plain": [
       "<IPython.core.display.Image object>"
      ]
     },
     "metadata": {},
     "output_type": "display_data"
    }
   ],
   "source": [
    "# import matplot lib \n",
    "import matplotlib.pyplot as plt\n",
    "\n",
    "# create the plot\n",
    "pandas_df.plot.line(x='threshold', y=['precision','recall'])\n",
    "\n",
    "# display the plot\n",
    "%matplot plt"
   ]
  },
  {
   "cell_type": "code",
   "execution_count": 13,
   "metadata": {},
   "outputs": [
    {
     "data": {
      "application/vnd.jupyter.widget-view+json": {
       "model_id": "e53f191cd9b4467b9f1d46b1a3b7b3db",
       "version_major": 2,
       "version_minor": 0
      },
      "text/plain": [
       "VBox()"
      ]
     },
     "metadata": {},
     "output_type": "display_data"
    },
    {
     "data": {
      "application/vnd.jupyter.widget-view+json": {
       "model_id": "",
       "version_major": 2,
       "version_minor": 0
      },
      "text/plain": [
       "FloatProgress(value=0.0, bar_style='info', description='Progress:', layout=Layout(height='25px', width='50%'),…"
      ]
     },
     "metadata": {},
     "output_type": "display_data"
    }
   ],
   "source": [
    "total_number = thresh.count()                  # count the total number of readings\n",
    "positives = thresh.filter(\"y==1\").count()      # count the total number of actual positives"
   ]
  },
  {
   "cell_type": "markdown",
   "metadata": {},
   "source": [
    "#### Business relevance of threshold"
   ]
  },
  {
   "cell_type": "code",
   "execution_count": 14,
   "metadata": {},
   "outputs": [
    {
     "data": {
      "application/vnd.jupyter.widget-view+json": {
       "model_id": "fde36915b317498ea9fa1678f646a5af",
       "version_major": 2,
       "version_minor": 0
      },
      "text/plain": [
       "VBox()"
      ]
     },
     "metadata": {},
     "output_type": "display_data"
    },
    {
     "data": {
      "application/vnd.jupyter.widget-view+json": {
       "model_id": "",
       "version_major": 2,
       "version_minor": 0
      },
      "text/plain": [
       "FloatProgress(value=0.0, bar_style='info', description='Progress:', layout=Layout(height='25px', width='50%'),…"
      ]
     },
     "metadata": {},
     "output_type": "display_data"
    }
   ],
   "source": [
    "final_df = thresh_df"
   ]
  },
  {
   "cell_type": "code",
   "execution_count": 15,
   "metadata": {},
   "outputs": [
    {
     "data": {
      "application/vnd.jupyter.widget-view+json": {
       "model_id": "c18a2b4b0f534481bc208135b5dc5a7b",
       "version_major": 2,
       "version_minor": 0
      },
      "text/plain": [
       "VBox()"
      ]
     },
     "metadata": {},
     "output_type": "display_data"
    },
    {
     "data": {
      "application/vnd.jupyter.widget-view+json": {
       "model_id": "",
       "version_major": 2,
       "version_minor": 0
      },
      "text/plain": [
       "FloatProgress(value=0.0, bar_style='info', description='Progress:', layout=Layout(height='25px', width='50%'),…"
      ]
     },
     "metadata": {},
     "output_type": "display_data"
    }
   ],
   "source": [
    "from pyspark.sql.functions import lit\n",
    "\n",
    "# add columns to represent the total number of readings and total number of positives. \n",
    "final_df = final_df.withColumn('total',lit(total_number))\n",
    "final_df = final_df.withColumn('actual_positives',lit(positives))\n",
    "\n",
    "# add a column with total number pf predictions for each threshold\n",
    "final_df = final_df.withColumn('predicted_positives',final_df['TP']+final_df['FP'])\n",
    "\n",
    "# calculate the amount spend on advertising\n",
    "# assuming 25 rs per ad\n",
    "final_df = final_df.withColumn('ad_spend',final_df['predicted_positives']*25) \n",
    "\n",
    "# calculate the money spent per ad.\n",
    "final_df = final_df.withColumn('spend/conversion',final_df['ad_spend']/final_df['TP']) \n"
   ]
  },
  {
   "cell_type": "code",
   "execution_count": 16,
   "metadata": {},
   "outputs": [
    {
     "data": {
      "application/vnd.jupyter.widget-view+json": {
       "model_id": "d557ef1c606a4cf996084732c6dfe6fd",
       "version_major": 2,
       "version_minor": 0
      },
      "text/plain": [
       "VBox()"
      ]
     },
     "metadata": {},
     "output_type": "display_data"
    },
    {
     "data": {
      "application/vnd.jupyter.widget-view+json": {
       "model_id": "",
       "version_major": 2,
       "version_minor": 0
      },
      "text/plain": [
       "FloatProgress(value=0.0, bar_style='info', description='Progress:', layout=Layout(height='25px', width='50%'),…"
      ]
     },
     "metadata": {},
     "output_type": "display_data"
    },
    {
     "name": "stdout",
     "output_type": "stream",
     "text": [
      "+---------+---------+------+-----+----------------+-------------------+--------+-----------+----------------+\n",
      "|threshold|precision|recall|total|actual_positives|predicted_positives|ad_spend|conversions|spend/conversion|\n",
      "+---------+---------+------+-----+----------------+-------------------+--------+-----------+----------------+\n",
      "|      0.1|    0.204| 0.911|30075|            5098|              22796|  569900|       4642|         122.770|\n",
      "|     0.15|    0.230| 0.780|30075|            5098|              17251|  431275|       3974|         108.524|\n",
      "|      0.2|    0.278| 0.489|30075|            5098|               8981|  224525|       2494|          90.026|\n",
      "|     0.25|    0.357| 0.261|30075|            5098|               3734|   93350|       1332|          70.083|\n",
      "|      0.3|    0.418| 0.186|30075|            5098|               2275|   56875|        950|          59.868|\n",
      "|     0.35|    0.441| 0.158|30075|            5098|               1828|   45700|        806|          56.700|\n",
      "|      0.4|    0.477| 0.115|30075|            5098|               1233|   30825|        588|          52.423|\n",
      "|     0.45|    0.508| 0.082|30075|            5098|                823|   20575|        418|          49.222|\n",
      "|      0.5|    0.553| 0.029|30075|            5098|                266|    6650|        147|          45.238|\n",
      "|     0.55|    0.586| 0.013|30075|            5098|                111|    2775|         65|          42.692|\n",
      "|      0.6|    0.634| 0.005|30075|            5098|                 41|    1025|         26|          39.423|\n",
      "|     0.65|    0.739| 0.003|30075|            5098|                 23|     575|         17|          33.824|\n",
      "|      0.7|    0.833| 0.002|30075|            5098|                 12|     300|         10|          30.000|\n",
      "|     0.75|    0.833| 0.001|30075|            5098|                  6|     150|          5|          30.000|\n",
      "|      0.8|    1.000| 0.001|30075|            5098|                  5|     125|          5|          25.000|\n",
      "|     0.85|    1.000| 0.001|30075|            5098|                  4|     100|          4|          25.000|\n",
      "+---------+---------+------+-----+----------------+-------------------+--------+-----------+----------------+"
     ]
    }
   ],
   "source": [
    "from pyspark.sql.functions import format_number\n",
    "\n",
    "final_df.select(final_df['threshold'],\n",
    "                format_number(final_df['precision'],3).alias('precision'),\n",
    "                format_number(final_df['recall'],3).alias('recall'),\n",
    "                'total',\n",
    "                'actual_positives',\n",
    "                'predicted_positives',\n",
    "                'ad_spend',\n",
    "                final_df['TP'].alias('conversions'),\n",
    "                format_number(final_df['spend/conversion'],3).alias('spend/conversion')              \n",
    "               ).show()"
   ]
  },
  {
   "cell_type": "markdown",
   "metadata": {},
   "source": [
    "### interpretation \n",
    "\n",
    "Find a balance between ad_spent conversions. \n",
    "As the number of conversion increases as the spent money also increases. \n",
    "As the threshold decreases the money spent per ad also increases. \n",
    "\n",
    "###### NOTE: Ad spent is calculated by assuming 25 rs per ad. (fictitious number)\n",
    "\n",
    "#### A business decisions: \n",
    "How much money are you ready to spend per conversion?\n",
    "\n",
    "Is number of conversion more important than money spent?\n",
    "\n",
    "Does sending the ad to people who are not going to click in it cause any negative impact?"
   ]
  }
 ],
 "metadata": {
  "kernelspec": {
   "display_name": "Python 3",
   "language": "python",
   "name": "python3"
  },
  "language_info": {
   "codemirror_mode": {
    "name": "ipython",
    "version": 3
   },
   "file_extension": ".py",
   "mimetype": "text/x-python",
   "name": "python",
   "nbconvert_exporter": "python",
   "pygments_lexer": "ipython3",
   "version": "3.7.6"
  }
 },
 "nbformat": 4,
 "nbformat_minor": 4
}
