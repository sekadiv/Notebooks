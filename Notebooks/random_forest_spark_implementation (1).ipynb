{
 "cells": [
  {
   "cell_type": "markdown",
   "metadata": {},
   "source": [
    "# Spark Random Forest Implementation"
   ]
  },
  {
   "cell_type": "markdown",
   "metadata": {},
   "source": [
    "## Chicago Crime Use Case"
   ]
  },
  {
   "cell_type": "markdown",
   "metadata": {},
   "source": [
    "You are provided with the dataset that contains the crime records from Chicago. The dataset belongs to Chicago Police Department. This dataset reflects reported incidents of crime that occurred in the City of Chicago from 2012 to 2017. The data is extracted from the Chicago Police Department's CLEAR (Citizen Law Enforcement Analysis and Reporting) system."
   ]
  },
  {
   "cell_type": "markdown",
   "metadata": {},
   "source": [
    "## Dataset Understanding"
   ]
  },
  {
   "cell_type": "markdown",
   "metadata": {},
   "source": [
    "## Objective: "
   ]
  },
  {
   "cell_type": "markdown",
   "metadata": {},
   "source": [
    "Our objective is to use the information and try to come up with a system that classifies the **FBI Code** for each crime absed on the given information."
   ]
  },
  {
   "cell_type": "markdown",
   "metadata": {},
   "source": [
    " "
   ]
  },
  {
   "cell_type": "markdown",
   "metadata": {},
   "source": [
    "Columns in the Dataset:\n",
    "\n",
    "**ID** - Unique identifier for the record.\n",
    "\n",
    "**Case Number** - The Chicago Police Department RD Number (Records Division Number), which is unique to the incident.\n",
    "\n",
    "**Date** - Date when the incident occurred. this is sometimes a best estimate.\n",
    "\n",
    "**Block** - The partially redacted address where the incident occurred, placing it on the same block as the actual address.\n",
    "\n",
    "**IUCR** - The Illinois Unifrom Crime Reporting code. This is directly linked to the Primary Type and Description.\n",
    "\n",
    "**Primary Type** - The primary description of the IUCR code.\n",
    "\n",
    "**Description** - The secondary description of the IUCR code, a subcategory of the primary description.\n",
    "\n",
    "**Location Description** - Description of the location where the incident occurred.\n",
    "\n",
    "**Arrest** - Indicates whether an arrest was made.\n",
    "\n",
    "**Domestic** - Indicates whether the incident was domestic-related as defined by the Illinois Domestic Violence Act.\n",
    "\n",
    "**Beat** - Indicates the beat where the incident occurred. A beat is the smallest police geographic area – each beat has a dedicated police beat car. Three to five beats make up a police sector, and three sectors make up a police district. The Chicago Police Department has 22 police districts.\n",
    "\n",
    "**District** - Indicates the police district where the incident occurred.\n",
    "\n",
    "**Ward** - The ward (City Council district) where the incident occurred.\n",
    "\n",
    "**Community Area** - Indicates the community area where the incident occurred. Chicago has 77 community areas.\n",
    "\n",
    "**FBI Code** - Indicates the crime classification as outlined in the FBI's National Incident-Based Reporting System (NIBRS).\n",
    "\n",
    "**X Coordinate** - The x coordinate of the location where the incident occurred in State Plane Illinois East NAD 1983 projection. This location is shifted from the actual location for partial redaction but falls on the same block.\n",
    "\n",
    "**Y Coordinate** - The y coordinate of the location where the incident occurred in State Plane Illinois East NAD 1983 projection. This location is shifted from the actual location for partial redaction but falls on the same block.\n",
    "\n",
    "**Year** - Year the incident occurred.\n",
    "\n",
    "**Updated On** - Date and time the record was last updated.\n",
    "\n",
    "**Latitude** - The latitude of the location where the incident occurred. This location is shifted from the actual location for partial redaction but falls on the same block.\n",
    "\n",
    "**Longitude** - The longitude of the location where the incident occurred. This location is shifted from the actual location for partial redaction but falls on the same block.\n",
    "\n",
    "**Location** - The location where the incident occurred in a format that allows for creation of maps and other geographic operations on this data portal. This location is shifted from the actual location for partial redaction but falls on the same block."
   ]
  },
  {
   "cell_type": "markdown",
   "metadata": {},
   "source": [
    "### Initialising the Spark session"
   ]
  },
  {
   "cell_type": "code",
   "execution_count": 1,
   "metadata": {},
   "outputs": [
    {
     "data": {
      "text/html": [
       "Current session configs: <tt>{'conf': {'spark.pyspark.python': 'python3', 'spark.pyspark.virtualenv.enabled': 'true', 'spark.pyspark.virtualenv.type': 'native', 'spark.pyspark.virtualenv.bin.path': '/usr/bin/virtualenv'}, 'kind': 'pyspark'}</tt><br>"
      ],
      "text/plain": [
       "<IPython.core.display.HTML object>"
      ]
     },
     "metadata": {},
     "output_type": "display_data"
    },
    {
     "data": {
      "text/html": [
       "No active sessions."
      ],
      "text/plain": [
       "<IPython.core.display.HTML object>"
      ]
     },
     "metadata": {},
     "output_type": "display_data"
    }
   ],
   "source": [
    "%%configure -f\n",
    "{ \"conf\":{\n",
    "          \"spark.pyspark.python\": \"python3\",\n",
    "          \"spark.pyspark.virtualenv.enabled\": \"true\",\n",
    "          \"spark.pyspark.virtualenv.type\":\"native\",\n",
    "          \"spark.pyspark.virtualenv.bin.path\":\"/usr/bin/virtualenv\"\n",
    "         }\n",
    "}"
   ]
  },
  {
   "cell_type": "code",
   "execution_count": null,
   "metadata": {},
   "outputs": [],
   "source": []
  },
  {
   "cell_type": "code",
   "execution_count": null,
   "metadata": {},
   "outputs": [],
   "source": []
  },
  {
   "cell_type": "code",
   "execution_count": null,
   "metadata": {},
   "outputs": [],
   "source": []
  },
  {
   "cell_type": "code",
   "execution_count": 2,
   "metadata": {},
   "outputs": [
    {
     "data": {
      "application/vnd.jupyter.widget-view+json": {
       "model_id": "7f855d7eedfd40bfb04d8c3d788fa33c",
       "version_major": 2,
       "version_minor": 0
      },
      "text/plain": [
       "VBox()"
      ]
     },
     "metadata": {},
     "output_type": "display_data"
    },
    {
     "name": "stdout",
     "output_type": "stream",
     "text": [
      "Starting Spark application\n"
     ]
    },
    {
     "data": {
      "text/html": [
       "<table>\n",
       "<tr><th>ID</th><th>YARN Application ID</th><th>Kind</th><th>State</th><th>Spark UI</th><th>Driver log</th><th>Current session?</th></tr><tr><td>1</td><td>application_1609123214595_0002</td><td>pyspark</td><td>idle</td><td><a target=\"_blank\" href=\"http://ip-172-31-32-202.ec2.internal:20888/proxy/application_1609123214595_0002/\">Link</a></td><td><a target=\"_blank\" href=\"http://ip-172-31-41-168.ec2.internal:8042/node/containerlogs/container_1609123214595_0002_01_000001/livy\">Link</a></td><td>✔</td></tr></table>"
      ],
      "text/plain": [
       "<IPython.core.display.HTML object>"
      ]
     },
     "metadata": {},
     "output_type": "display_data"
    },
    {
     "data": {
      "application/vnd.jupyter.widget-view+json": {
       "model_id": "",
       "version_major": 2,
       "version_minor": 0
      },
      "text/plain": [
       "FloatProgress(value=0.0, bar_style='info', description='Progress:', layout=Layout(height='25px', width='50%'),…"
      ]
     },
     "metadata": {},
     "output_type": "display_data"
    },
    {
     "name": "stdout",
     "output_type": "stream",
     "text": [
      "SparkSession available as 'spark'.\n"
     ]
    },
    {
     "data": {
      "application/vnd.jupyter.widget-view+json": {
       "model_id": "",
       "version_major": 2,
       "version_minor": 0
      },
      "text/plain": [
       "FloatProgress(value=0.0, bar_style='info', description='Progress:', layout=Layout(height='25px', width='50%'),…"
      ]
     },
     "metadata": {},
     "output_type": "display_data"
    }
   ],
   "source": [
    "from pyspark import SparkContext, SparkConf"
   ]
  },
  {
   "cell_type": "code",
   "execution_count": 3,
   "metadata": {},
   "outputs": [
    {
     "data": {
      "application/vnd.jupyter.widget-view+json": {
       "model_id": "7500570479b34ca2adabac5856beb04e",
       "version_major": 2,
       "version_minor": 0
      },
      "text/plain": [
       "VBox()"
      ]
     },
     "metadata": {},
     "output_type": "display_data"
    },
    {
     "data": {
      "application/vnd.jupyter.widget-view+json": {
       "model_id": "",
       "version_major": 2,
       "version_minor": 0
      },
      "text/plain": [
       "FloatProgress(value=0.0, bar_style='info', description='Progress:', layout=Layout(height='25px', width='50%'),…"
      ]
     },
     "metadata": {},
     "output_type": "display_data"
    }
   ],
   "source": [
    "sc = SparkContext.getOrCreate();"
   ]
  },
  {
   "cell_type": "code",
   "execution_count": 4,
   "metadata": {},
   "outputs": [
    {
     "data": {
      "application/vnd.jupyter.widget-view+json": {
       "model_id": "80ad988c0d8f4c36bdd23665319b46fe",
       "version_major": 2,
       "version_minor": 0
      },
      "text/plain": [
       "VBox()"
      ]
     },
     "metadata": {},
     "output_type": "display_data"
    },
    {
     "data": {
      "application/vnd.jupyter.widget-view+json": {
       "model_id": "",
       "version_major": 2,
       "version_minor": 0
      },
      "text/plain": [
       "FloatProgress(value=0.0, bar_style='info', description='Progress:', layout=Layout(height='25px', width='50%'),…"
      ]
     },
     "metadata": {},
     "output_type": "display_data"
    },
    {
     "name": "stdout",
     "output_type": "stream",
     "text": [
      "<SparkContext master=yarn appName=livy-session-1>"
     ]
    }
   ],
   "source": [
    "sc"
   ]
  },
  {
   "cell_type": "code",
   "execution_count": null,
   "metadata": {},
   "outputs": [],
   "source": []
  },
  {
   "cell_type": "code",
   "execution_count": null,
   "metadata": {},
   "outputs": [],
   "source": []
  },
  {
   "cell_type": "code",
   "execution_count": null,
   "metadata": {},
   "outputs": [],
   "source": []
  },
  {
   "cell_type": "code",
   "execution_count": null,
   "metadata": {},
   "outputs": [],
   "source": []
  },
  {
   "cell_type": "code",
   "execution_count": null,
   "metadata": {},
   "outputs": [],
   "source": []
  },
  {
   "cell_type": "code",
   "execution_count": 5,
   "metadata": {},
   "outputs": [
    {
     "data": {
      "application/vnd.jupyter.widget-view+json": {
       "model_id": "4cc11108ee794c45a779e69216771053",
       "version_major": 2,
       "version_minor": 0
      },
      "text/plain": [
       "VBox()"
      ]
     },
     "metadata": {},
     "output_type": "display_data"
    },
    {
     "data": {
      "application/vnd.jupyter.widget-view+json": {
       "model_id": "",
       "version_major": 2,
       "version_minor": 0
      },
      "text/plain": [
       "FloatProgress(value=0.0, bar_style='info', description='Progress:', layout=Layout(height='25px', width='50%'),…"
      ]
     },
     "metadata": {},
     "output_type": "display_data"
    },
    {
     "name": "stdout",
     "output_type": "stream",
     "text": [
      "Package                    Version\n",
      "-------------------------- -------------------\n",
      "beautifulsoup4             4.8.1\n",
      "boto                       2.49.0\n",
      "jmespath                   0.9.4\n",
      "lxml                       4.4.2\n",
      "mysqlclient                1.4.6\n",
      "nltk                       3.4.5\n",
      "nose                       1.3.4\n",
      "numpy                      1.14.5\n",
      "pip                        20.3.3\n",
      "py-dateutil                2.2\n",
      "python36-sagemaker-pyspark 1.2.6\n",
      "pytz                       2019.3\n",
      "PyYAML                     3.11\n",
      "setuptools                 51.1.0.post20201221\n",
      "six                        1.13.0\n",
      "soupsieve                  1.9.5\n",
      "wheel                      0.36.2\n",
      "windmill                   1.6"
     ]
    }
   ],
   "source": [
    "sc.list_packages()"
   ]
  },
  {
   "cell_type": "code",
   "execution_count": 6,
   "metadata": {},
   "outputs": [
    {
     "data": {
      "application/vnd.jupyter.widget-view+json": {
       "model_id": "e1f437eeee464f73be3389fbb206c6f2",
       "version_major": 2,
       "version_minor": 0
      },
      "text/plain": [
       "VBox()"
      ]
     },
     "metadata": {},
     "output_type": "display_data"
    },
    {
     "data": {
      "application/vnd.jupyter.widget-view+json": {
       "model_id": "",
       "version_major": 2,
       "version_minor": 0
      },
      "text/plain": [
       "FloatProgress(value=0.0, bar_style='info', description='Progress:', layout=Layout(height='25px', width='50%'),…"
      ]
     },
     "metadata": {},
     "output_type": "display_data"
    },
    {
     "name": "stdout",
     "output_type": "stream",
     "text": [
      "Collecting pandas==0.25.1\n",
      "  Downloading pandas-0.25.1-cp36-cp36m-manylinux1_x86_64.whl (10.5 MB)\n",
      "Requirement already satisfied: numpy>=1.13.3 in /usr/local/lib64/python3.6/site-packages (from pandas==0.25.1) (1.14.5)\n",
      "Requirement already satisfied: pytz>=2017.2 in /usr/local/lib/python3.6/site-packages (from pandas==0.25.1) (2019.3)\n",
      "Collecting python-dateutil>=2.6.1\n",
      "  Downloading python_dateutil-2.8.1-py2.py3-none-any.whl (227 kB)\n",
      "Requirement already satisfied: six>=1.5 in /usr/local/lib/python3.6/site-packages (from python-dateutil>=2.6.1->pandas==0.25.1) (1.13.0)\n",
      "Installing collected packages: python-dateutil, pandas\n",
      "Successfully installed pandas-0.25.1 python-dateutil-2.8.1"
     ]
    }
   ],
   "source": [
    "sc.install_pypi_package(\"pandas==0.25.1\")"
   ]
  },
  {
   "cell_type": "code",
   "execution_count": 7,
   "metadata": {},
   "outputs": [
    {
     "data": {
      "application/vnd.jupyter.widget-view+json": {
       "model_id": "851f468b72ee438bb8931fa685d6d477",
       "version_major": 2,
       "version_minor": 0
      },
      "text/plain": [
       "VBox()"
      ]
     },
     "metadata": {},
     "output_type": "display_data"
    },
    {
     "data": {
      "application/vnd.jupyter.widget-view+json": {
       "model_id": "",
       "version_major": 2,
       "version_minor": 0
      },
      "text/plain": [
       "FloatProgress(value=0.0, bar_style='info', description='Progress:', layout=Layout(height='25px', width='50%'),…"
      ]
     },
     "metadata": {},
     "output_type": "display_data"
    },
    {
     "name": "stdout",
     "output_type": "stream",
     "text": [
      "Collecting matplotlib==3.1.1\n",
      "  Downloading matplotlib-3.1.1-cp36-cp36m-manylinux1_x86_64.whl (13.1 MB)\n",
      "Requirement already satisfied: numpy>=1.11 in /usr/local/lib64/python3.6/site-packages (from matplotlib==3.1.1) (1.14.5)\n",
      "Requirement already satisfied: python-dateutil>=2.1 in /mnt/tmp/1609123521509-0/lib/python3.6/site-packages (from matplotlib==3.1.1) (2.8.1)\n",
      "Collecting cycler>=0.10\n",
      "  Downloading cycler-0.10.0-py2.py3-none-any.whl (6.5 kB)\n",
      "Requirement already satisfied: six in /usr/local/lib/python3.6/site-packages (from cycler>=0.10->matplotlib==3.1.1) (1.13.0)\n",
      "Collecting kiwisolver>=1.0.1\n",
      "  Downloading kiwisolver-1.3.1-cp36-cp36m-manylinux1_x86_64.whl (1.1 MB)\n",
      "Collecting pyparsing!=2.0.4,!=2.1.2,!=2.1.6,>=2.0.1\n",
      "  Downloading pyparsing-2.4.7-py2.py3-none-any.whl (67 kB)\n",
      "Installing collected packages: pyparsing, kiwisolver, cycler, matplotlib\n",
      "Successfully installed cycler-0.10.0 kiwisolver-1.3.1 matplotlib-3.1.1 pyparsing-2.4.7"
     ]
    }
   ],
   "source": [
    "sc.install_pypi_package(\"matplotlib==3.1.1\", \"https://pypi.org/simple\")"
   ]
  },
  {
   "cell_type": "code",
   "execution_count": 8,
   "metadata": {},
   "outputs": [
    {
     "data": {
      "application/vnd.jupyter.widget-view+json": {
       "model_id": "28589c48a0b346e68da639e9531fb123",
       "version_major": 2,
       "version_minor": 0
      },
      "text/plain": [
       "VBox()"
      ]
     },
     "metadata": {},
     "output_type": "display_data"
    },
    {
     "data": {
      "application/vnd.jupyter.widget-view+json": {
       "model_id": "",
       "version_major": 2,
       "version_minor": 0
      },
      "text/plain": [
       "FloatProgress(value=0.0, bar_style='info', description='Progress:', layout=Layout(height='25px', width='50%'),…"
      ]
     },
     "metadata": {},
     "output_type": "display_data"
    },
    {
     "name": "stdout",
     "output_type": "stream",
     "text": [
      "Package                    Version\n",
      "-------------------------- -------------------\n",
      "beautifulsoup4             4.8.1\n",
      "boto                       2.49.0\n",
      "cycler                     0.10.0\n",
      "jmespath                   0.9.4\n",
      "kiwisolver                 1.3.1\n",
      "lxml                       4.4.2\n",
      "matplotlib                 3.1.1\n",
      "mysqlclient                1.4.6\n",
      "nltk                       3.4.5\n",
      "nose                       1.3.4\n",
      "numpy                      1.14.5\n",
      "pandas                     0.25.1\n",
      "pip                        20.3.3\n",
      "py-dateutil                2.2\n",
      "pyparsing                  2.4.7\n",
      "python-dateutil            2.8.1\n",
      "python36-sagemaker-pyspark 1.2.6\n",
      "pytz                       2019.3\n",
      "PyYAML                     3.11\n",
      "setuptools                 51.1.0.post20201221\n",
      "six                        1.13.0\n",
      "soupsieve                  1.9.5\n",
      "wheel                      0.36.2\n",
      "windmill                   1.6"
     ]
    }
   ],
   "source": [
    "sc.list_packages()"
   ]
  },
  {
   "cell_type": "code",
   "execution_count": null,
   "metadata": {},
   "outputs": [],
   "source": []
  },
  {
   "cell_type": "code",
   "execution_count": null,
   "metadata": {},
   "outputs": [],
   "source": []
  },
  {
   "cell_type": "code",
   "execution_count": null,
   "metadata": {},
   "outputs": [],
   "source": []
  },
  {
   "cell_type": "markdown",
   "metadata": {},
   "source": [
    "### Loading the dataset"
   ]
  },
  {
   "cell_type": "code",
   "execution_count": 9,
   "metadata": {},
   "outputs": [
    {
     "data": {
      "application/vnd.jupyter.widget-view+json": {
       "model_id": "4f15061e834140bfbf805bf096370705",
       "version_major": 2,
       "version_minor": 0
      },
      "text/plain": [
       "VBox()"
      ]
     },
     "metadata": {},
     "output_type": "display_data"
    },
    {
     "data": {
      "application/vnd.jupyter.widget-view+json": {
       "model_id": "",
       "version_major": 2,
       "version_minor": 0
      },
      "text/plain": [
       "FloatProgress(value=0.0, bar_style='info', description='Progress:', layout=Layout(height='25px', width='50%'),…"
      ]
     },
     "metadata": {},
     "output_type": "display_data"
    }
   ],
   "source": [
    "df = spark.read.csv('s3a://rf-dataset/Chicago_Crimes_2012_to_2017.csv', header = True, inferSchema = False)"
   ]
  },
  {
   "cell_type": "code",
   "execution_count": null,
   "metadata": {},
   "outputs": [],
   "source": []
  },
  {
   "cell_type": "code",
   "execution_count": null,
   "metadata": {},
   "outputs": [],
   "source": []
  },
  {
   "cell_type": "code",
   "execution_count": 10,
   "metadata": {},
   "outputs": [
    {
     "data": {
      "application/vnd.jupyter.widget-view+json": {
       "model_id": "eaac2fa3fbaa4ba8a90fc856b4656bb9",
       "version_major": 2,
       "version_minor": 0
      },
      "text/plain": [
       "VBox()"
      ]
     },
     "metadata": {},
     "output_type": "display_data"
    },
    {
     "data": {
      "application/vnd.jupyter.widget-view+json": {
       "model_id": "",
       "version_major": 2,
       "version_minor": 0
      },
      "text/plain": [
       "FloatProgress(value=0.0, bar_style='info', description='Progress:', layout=Layout(height='25px', width='50%'),…"
      ]
     },
     "metadata": {},
     "output_type": "display_data"
    },
    {
     "name": "stdout",
     "output_type": "stream",
     "text": [
      "[Row(_c0='3', ID='10508693', Case Number='HZ250496', Date='05/03/2016 11:40:00 PM', Block='013XX S SAWYER AVE', IUCR='0486', Primary Type='BATTERY', Description='DOMESTIC BATTERY SIMPLE', Location Description='APARTMENT', Arrest='True', Domestic='True', Beat='1022', District='10.0', Ward='24.0', Community Area='29.0', FBI Code='08B', X Coordinate='1154907.0', Y Coordinate='1893681.0', Year='2016', Updated On='05/10/2016 03:56:50 PM', Latitude='41.864073157', Longitude='-87.706818608', Location='(41.864073157, -87.706818608)')]"
     ]
    }
   ],
   "source": [
    "# Printing the first row\n",
    "df.head(1)"
   ]
  },
  {
   "cell_type": "code",
   "execution_count": null,
   "metadata": {},
   "outputs": [],
   "source": []
  },
  {
   "cell_type": "code",
   "execution_count": null,
   "metadata": {},
   "outputs": [],
   "source": []
  },
  {
   "cell_type": "code",
   "execution_count": 11,
   "metadata": {
    "scrolled": true
   },
   "outputs": [
    {
     "data": {
      "application/vnd.jupyter.widget-view+json": {
       "model_id": "246456e58be64da9b2de6e6d4b5d4504",
       "version_major": 2,
       "version_minor": 0
      },
      "text/plain": [
       "VBox()"
      ]
     },
     "metadata": {},
     "output_type": "display_data"
    },
    {
     "data": {
      "application/vnd.jupyter.widget-view+json": {
       "model_id": "",
       "version_major": 2,
       "version_minor": 0
      },
      "text/plain": [
       "FloatProgress(value=0.0, bar_style='info', description='Progress:', layout=Layout(height='25px', width='50%'),…"
      ]
     },
     "metadata": {},
     "output_type": "display_data"
    },
    {
     "name": "stdout",
     "output_type": "stream",
     "text": [
      "root\n",
      " |-- _c0: string (nullable = true)\n",
      " |-- ID: string (nullable = true)\n",
      " |-- Case Number: string (nullable = true)\n",
      " |-- Date: string (nullable = true)\n",
      " |-- Block: string (nullable = true)\n",
      " |-- IUCR: string (nullable = true)\n",
      " |-- Primary Type: string (nullable = true)\n",
      " |-- Description: string (nullable = true)\n",
      " |-- Location Description: string (nullable = true)\n",
      " |-- Arrest: string (nullable = true)\n",
      " |-- Domestic: string (nullable = true)\n",
      " |-- Beat: string (nullable = true)\n",
      " |-- District: string (nullable = true)\n",
      " |-- Ward: string (nullable = true)\n",
      " |-- Community Area: string (nullable = true)\n",
      " |-- FBI Code: string (nullable = true)\n",
      " |-- X Coordinate: string (nullable = true)\n",
      " |-- Y Coordinate: string (nullable = true)\n",
      " |-- Year: string (nullable = true)\n",
      " |-- Updated On: string (nullable = true)\n",
      " |-- Latitude: string (nullable = true)\n",
      " |-- Longitude: string (nullable = true)\n",
      " |-- Location: string (nullable = true)"
     ]
    }
   ],
   "source": [
    "# Schema of the dataset\n",
    "df.printSchema()"
   ]
  },
  {
   "cell_type": "code",
   "execution_count": null,
   "metadata": {},
   "outputs": [],
   "source": []
  },
  {
   "cell_type": "code",
   "execution_count": null,
   "metadata": {},
   "outputs": [],
   "source": []
  },
  {
   "cell_type": "code",
   "execution_count": 12,
   "metadata": {},
   "outputs": [
    {
     "data": {
      "application/vnd.jupyter.widget-view+json": {
       "model_id": "c48c8a9b95b442c3887f378ad353d8b9",
       "version_major": 2,
       "version_minor": 0
      },
      "text/plain": [
       "VBox()"
      ]
     },
     "metadata": {},
     "output_type": "display_data"
    },
    {
     "data": {
      "application/vnd.jupyter.widget-view+json": {
       "model_id": "",
       "version_major": 2,
       "version_minor": 0
      },
      "text/plain": [
       "FloatProgress(value=0.0, bar_style='info', description='Progress:', layout=Layout(height='25px', width='50%'),…"
      ]
     },
     "metadata": {},
     "output_type": "display_data"
    },
    {
     "name": "stdout",
     "output_type": "stream",
     "text": [
      "1456714"
     ]
    }
   ],
   "source": [
    "# Count total no of rows\n",
    "df.count()\n"
   ]
  },
  {
   "cell_type": "code",
   "execution_count": null,
   "metadata": {},
   "outputs": [],
   "source": []
  },
  {
   "cell_type": "code",
   "execution_count": 13,
   "metadata": {
    "scrolled": true
   },
   "outputs": [
    {
     "data": {
      "application/vnd.jupyter.widget-view+json": {
       "model_id": "5c6b739c320641d7bf12d28ed553a66b",
       "version_major": 2,
       "version_minor": 0
      },
      "text/plain": [
       "VBox()"
      ]
     },
     "metadata": {},
     "output_type": "display_data"
    },
    {
     "data": {
      "application/vnd.jupyter.widget-view+json": {
       "model_id": "",
       "version_major": 2,
       "version_minor": 0
      },
      "text/plain": [
       "FloatProgress(value=0.0, bar_style='info', description='Progress:', layout=Layout(height='25px', width='50%'),…"
      ]
     },
     "metadata": {},
     "output_type": "display_data"
    }
   ],
   "source": [
    "# print 5 rows"
   ]
  },
  {
   "cell_type": "code",
   "execution_count": 14,
   "metadata": {},
   "outputs": [
    {
     "data": {
      "application/vnd.jupyter.widget-view+json": {
       "model_id": "32baef13ecb04a428e5ec3443a1b7070",
       "version_major": 2,
       "version_minor": 0
      },
      "text/plain": [
       "VBox()"
      ]
     },
     "metadata": {},
     "output_type": "display_data"
    },
    {
     "data": {
      "application/vnd.jupyter.widget-view+json": {
       "model_id": "",
       "version_major": 2,
       "version_minor": 0
      },
      "text/plain": [
       "FloatProgress(value=0.0, bar_style='info', description='Progress:', layout=Layout(height='25px', width='50%'),…"
      ]
     },
     "metadata": {},
     "output_type": "display_data"
    },
    {
     "name": "stdout",
     "output_type": "stream",
     "text": [
      "[Row(_c0='3', ID='10508693', Case Number='HZ250496', Date='05/03/2016 11:40:00 PM', Block='013XX S SAWYER AVE', IUCR='0486', Primary Type='BATTERY', Description='DOMESTIC BATTERY SIMPLE', Location Description='APARTMENT', Arrest='True', Domestic='True', Beat='1022', District='10.0', Ward='24.0', Community Area='29.0', FBI Code='08B', X Coordinate='1154907.0', Y Coordinate='1893681.0', Year='2016', Updated On='05/10/2016 03:56:50 PM', Latitude='41.864073157', Longitude='-87.706818608', Location='(41.864073157, -87.706818608)'), Row(_c0='89', ID='10508695', Case Number='HZ250409', Date='05/03/2016 09:40:00 PM', Block='061XX S DREXEL AVE', IUCR='0486', Primary Type='BATTERY', Description='DOMESTIC BATTERY SIMPLE', Location Description='RESIDENCE', Arrest='False', Domestic='True', Beat='313', District='3.0', Ward='20.0', Community Area='42.0', FBI Code='08B', X Coordinate='1183066.0', Y Coordinate='1864330.0', Year='2016', Updated On='05/10/2016 03:56:50 PM', Latitude='41.782921527', Longitude='-87.60436317', Location='(41.782921527, -87.60436317)'), Row(_c0='197', ID='10508697', Case Number='HZ250503', Date='05/03/2016 11:31:00 PM', Block='053XX W CHICAGO AVE', IUCR='0470', Primary Type='PUBLIC PEACE VIOLATION', Description='RECKLESS CONDUCT', Location Description='STREET', Arrest='False', Domestic='False', Beat='1524', District='15.0', Ward='37.0', Community Area='25.0', FBI Code='24', X Coordinate='1140789.0', Y Coordinate='1904819.0', Year='2016', Updated On='05/10/2016 03:56:50 PM', Latitude='41.894908283', Longitude='-87.758371958', Location='(41.894908283, -87.758371958)'), Row(_c0='673', ID='10508698', Case Number='HZ250424', Date='05/03/2016 10:10:00 PM', Block='049XX W FULTON ST', IUCR='0460', Primary Type='BATTERY', Description='SIMPLE', Location Description='SIDEWALK', Arrest='False', Domestic='False', Beat='1532', District='15.0', Ward='28.0', Community Area='25.0', FBI Code='08B', X Coordinate='1143223.0', Y Coordinate='1901475.0', Year='2016', Updated On='05/10/2016 03:56:50 PM', Latitude='41.885686845', Longitude='-87.749515983', Location='(41.885686845, -87.749515983)'), Row(_c0='911', ID='10508699', Case Number='HZ250455', Date='05/03/2016 10:00:00 PM', Block='003XX N LOTUS AVE', IUCR='0820', Primary Type='THEFT', Description='$500 AND UNDER', Location Description='RESIDENCE', Arrest='False', Domestic='True', Beat='1523', District='15.0', Ward='28.0', Community Area='25.0', FBI Code='06', X Coordinate='1139890.0', Y Coordinate='1901675.0', Year='2016', Updated On='05/10/2016 03:56:50 PM', Latitude='41.886297242', Longitude='-87.761750709', Location='(41.886297242, -87.761750709)')]"
     ]
    }
   ],
   "source": [
    "df.head(5)"
   ]
  },
  {
   "cell_type": "code",
   "execution_count": null,
   "metadata": {},
   "outputs": [],
   "source": []
  },
  {
   "cell_type": "code",
   "execution_count": 15,
   "metadata": {},
   "outputs": [
    {
     "data": {
      "application/vnd.jupyter.widget-view+json": {
       "model_id": "80ec1e40f69341ff8b01fc9861d23c51",
       "version_major": 2,
       "version_minor": 0
      },
      "text/plain": [
       "VBox()"
      ]
     },
     "metadata": {},
     "output_type": "display_data"
    },
    {
     "data": {
      "application/vnd.jupyter.widget-view+json": {
       "model_id": "",
       "version_major": 2,
       "version_minor": 0
      },
      "text/plain": [
       "FloatProgress(value=0.0, bar_style='info', description='Progress:', layout=Layout(height='25px', width='50%'),…"
      ]
     },
     "metadata": {},
     "output_type": "display_data"
    },
    {
     "name": "stdout",
     "output_type": "stream",
     "text": [
      "+---+--------+-----------+--------------------+-------------------+----+--------------------+--------------------+--------------------+------+--------+----+--------+----+--------------+--------+------------+------------+----+--------------------+------------+-------------+--------------------+\n",
      "|_c0|      ID|Case Number|                Date|              Block|IUCR|        Primary Type|         Description|Location Description|Arrest|Domestic|Beat|District|Ward|Community Area|FBI Code|X Coordinate|Y Coordinate|Year|          Updated On|    Latitude|    Longitude|            Location|\n",
      "+---+--------+-----------+--------------------+-------------------+----+--------------------+--------------------+--------------------+------+--------+----+--------+----+--------------+--------+------------+------------+----+--------------------+------------+-------------+--------------------+\n",
      "|  3|10508693|   HZ250496|05/03/2016 11:40:...| 013XX S SAWYER AVE|0486|             BATTERY|DOMESTIC BATTERY ...|           APARTMENT|  True|    True|1022|    10.0|24.0|          29.0|     08B|   1154907.0|   1893681.0|2016|05/10/2016 03:56:...|41.864073157|-87.706818608|(41.864073157, -8...|\n",
      "| 89|10508695|   HZ250409|05/03/2016 09:40:...| 061XX S DREXEL AVE|0486|             BATTERY|DOMESTIC BATTERY ...|           RESIDENCE| False|    True| 313|     3.0|20.0|          42.0|     08B|   1183066.0|   1864330.0|2016|05/10/2016 03:56:...|41.782921527| -87.60436317|(41.782921527, -8...|\n",
      "|197|10508697|   HZ250503|05/03/2016 11:31:...|053XX W CHICAGO AVE|0470|PUBLIC PEACE VIOL...|    RECKLESS CONDUCT|              STREET| False|   False|1524|    15.0|37.0|          25.0|      24|   1140789.0|   1904819.0|2016|05/10/2016 03:56:...|41.894908283|-87.758371958|(41.894908283, -8...|\n",
      "|673|10508698|   HZ250424|05/03/2016 10:10:...|  049XX W FULTON ST|0460|             BATTERY|              SIMPLE|            SIDEWALK| False|   False|1532|    15.0|28.0|          25.0|     08B|   1143223.0|   1901475.0|2016|05/10/2016 03:56:...|41.885686845|-87.749515983|(41.885686845, -8...|\n",
      "|911|10508699|   HZ250455|05/03/2016 10:00:...|  003XX N LOTUS AVE|0820|               THEFT|      $500 AND UNDER|           RESIDENCE| False|    True|1523|    15.0|28.0|          25.0|      06|   1139890.0|   1901675.0|2016|05/10/2016 03:56:...|41.886297242|-87.761750709|(41.886297242, -8...|\n",
      "+---+--------+-----------+--------------------+-------------------+----+--------------------+--------------------+--------------------+------+--------+----+--------+----+--------------+--------+------------+------------+----+--------------------+------------+-------------+--------------------+\n",
      "only showing top 5 rows"
     ]
    }
   ],
   "source": [
    "# Show 5 rows in tabular format\n",
    "df.show(5)"
   ]
  },
  {
   "cell_type": "code",
   "execution_count": null,
   "metadata": {},
   "outputs": [],
   "source": []
  },
  {
   "cell_type": "code",
   "execution_count": null,
   "metadata": {},
   "outputs": [],
   "source": []
  },
  {
   "cell_type": "code",
   "execution_count": 16,
   "metadata": {},
   "outputs": [
    {
     "data": {
      "application/vnd.jupyter.widget-view+json": {
       "model_id": "4639875ff17b4e95a97e489cdb167d51",
       "version_major": 2,
       "version_minor": 0
      },
      "text/plain": [
       "VBox()"
      ]
     },
     "metadata": {},
     "output_type": "display_data"
    },
    {
     "data": {
      "application/vnd.jupyter.widget-view+json": {
       "model_id": "",
       "version_major": 2,
       "version_minor": 0
      },
      "text/plain": [
       "FloatProgress(value=0.0, bar_style='info', description='Progress:', layout=Layout(height='25px', width='50%'),…"
      ]
     },
     "metadata": {},
     "output_type": "display_data"
    },
    {
     "name": "stdout",
     "output_type": "stream",
     "text": [
      "['_c0', 'ID', 'Case Number', 'Date', 'Block', 'IUCR', 'Primary Type', 'Description', 'Location Description', 'Arrest', 'Domestic', 'Beat', 'District', 'Ward', 'Community Area', 'FBI Code', 'X Coordinate', 'Y Coordinate', 'Year', 'Updated On', 'Latitude', 'Longitude', 'Location']"
     ]
    }
   ],
   "source": [
    "# get all columns\n",
    "df.columns"
   ]
  },
  {
   "cell_type": "code",
   "execution_count": null,
   "metadata": {},
   "outputs": [],
   "source": []
  },
  {
   "cell_type": "markdown",
   "metadata": {},
   "source": [
    "### Data Exploration and Cleaning"
   ]
  },
  {
   "cell_type": "code",
   "execution_count": 17,
   "metadata": {},
   "outputs": [
    {
     "data": {
      "application/vnd.jupyter.widget-view+json": {
       "model_id": "f579ce26a23e4b9db27f20d8bb9998e5",
       "version_major": 2,
       "version_minor": 0
      },
      "text/plain": [
       "VBox()"
      ]
     },
     "metadata": {},
     "output_type": "display_data"
    },
    {
     "data": {
      "application/vnd.jupyter.widget-view+json": {
       "model_id": "",
       "version_major": 2,
       "version_minor": 0
      },
      "text/plain": [
       "FloatProgress(value=0.0, bar_style='info', description='Progress:', layout=Layout(height='25px', width='50%'),…"
      ]
     },
     "metadata": {},
     "output_type": "display_data"
    },
    {
     "name": "stdout",
     "output_type": "stream",
     "text": [
      "+----------------------+\n",
      "|Date                  |\n",
      "+----------------------+\n",
      "|05/03/2016 11:40:00 PM|\n",
      "|05/03/2016 09:40:00 PM|\n",
      "|05/03/2016 11:31:00 PM|\n",
      "|05/03/2016 10:10:00 PM|\n",
      "|05/03/2016 10:00:00 PM|\n",
      "|05/03/2016 10:35:00 PM|\n",
      "|05/03/2016 10:30:00 PM|\n",
      "|05/03/2016 09:30:00 PM|\n",
      "|05/03/2016 04:00:00 PM|\n",
      "|05/03/2016 10:30:00 PM|\n",
      "+----------------------+\n",
      "only showing top 10 rows"
     ]
    }
   ],
   "source": [
    "df.select(\"Date\").show(10, truncate = False)"
   ]
  },
  {
   "cell_type": "code",
   "execution_count": 18,
   "metadata": {},
   "outputs": [
    {
     "data": {
      "application/vnd.jupyter.widget-view+json": {
       "model_id": "a64f01df88664e4e9a98a3a21ca0df57",
       "version_major": 2,
       "version_minor": 0
      },
      "text/plain": [
       "VBox()"
      ]
     },
     "metadata": {},
     "output_type": "display_data"
    },
    {
     "data": {
      "application/vnd.jupyter.widget-view+json": {
       "model_id": "",
       "version_major": 2,
       "version_minor": 0
      },
      "text/plain": [
       "FloatProgress(value=0.0, bar_style='info', description='Progress:', layout=Layout(height='25px', width='50%'),…"
      ]
     },
     "metadata": {},
     "output_type": "display_data"
    },
    {
     "name": "stdout",
     "output_type": "stream",
     "text": [
      "[('Date', 'string')]"
     ]
    }
   ],
   "source": [
    "# Column type\n",
    "df.select(\"Date\").dtypes"
   ]
  },
  {
   "cell_type": "markdown",
   "metadata": {},
   "source": [
    "Date is string data type, convert to timestamp format"
   ]
  },
  {
   "cell_type": "code",
   "execution_count": 19,
   "metadata": {},
   "outputs": [
    {
     "data": {
      "application/vnd.jupyter.widget-view+json": {
       "model_id": "67f257fb21dd446285181fd195b2ba02",
       "version_major": 2,
       "version_minor": 0
      },
      "text/plain": [
       "VBox()"
      ]
     },
     "metadata": {},
     "output_type": "display_data"
    },
    {
     "data": {
      "application/vnd.jupyter.widget-view+json": {
       "model_id": "",
       "version_major": 2,
       "version_minor": 0
      },
      "text/plain": [
       "FloatProgress(value=0.0, bar_style='info', description='Progress:', layout=Layout(height='25px', width='50%'),…"
      ]
     },
     "metadata": {},
     "output_type": "display_data"
    }
   ],
   "source": [
    "# Changing the type of column Date to timestamp\n",
    "from pyspark.sql.functions import to_timestamp\n",
    "\n",
    "\n",
    "df = df.withColumn(\"Date_Time\",to_timestamp('Date',\"MM/dd/yyyy hh:mm:ss a\"))"
   ]
  },
  {
   "cell_type": "code",
   "execution_count": 20,
   "metadata": {},
   "outputs": [
    {
     "data": {
      "application/vnd.jupyter.widget-view+json": {
       "model_id": "ad368015397c46499fdbd8d263192498",
       "version_major": 2,
       "version_minor": 0
      },
      "text/plain": [
       "VBox()"
      ]
     },
     "metadata": {},
     "output_type": "display_data"
    },
    {
     "data": {
      "application/vnd.jupyter.widget-view+json": {
       "model_id": "",
       "version_major": 2,
       "version_minor": 0
      },
      "text/plain": [
       "FloatProgress(value=0.0, bar_style='info', description='Progress:', layout=Layout(height='25px', width='50%'),…"
      ]
     },
     "metadata": {},
     "output_type": "display_data"
    },
    {
     "name": "stdout",
     "output_type": "stream",
     "text": [
      "+-------------------+\n",
      "|Date_Time          |\n",
      "+-------------------+\n",
      "|2016-05-03 23:40:00|\n",
      "|2016-05-03 21:40:00|\n",
      "|2016-05-03 23:31:00|\n",
      "|2016-05-03 22:10:00|\n",
      "|2016-05-03 22:00:00|\n",
      "|2016-05-03 22:35:00|\n",
      "|2016-05-03 22:30:00|\n",
      "|2016-05-03 21:30:00|\n",
      "|2016-05-03 16:00:00|\n",
      "|2016-05-03 22:30:00|\n",
      "+-------------------+\n",
      "only showing top 10 rows"
     ]
    }
   ],
   "source": [
    "df.select(\"Date_Time\").show(10, truncate = False)"
   ]
  },
  {
   "cell_type": "code",
   "execution_count": 21,
   "metadata": {},
   "outputs": [
    {
     "data": {
      "application/vnd.jupyter.widget-view+json": {
       "model_id": "1981e4efdd09477a89d3d6ec1ce59752",
       "version_major": 2,
       "version_minor": 0
      },
      "text/plain": [
       "VBox()"
      ]
     },
     "metadata": {},
     "output_type": "display_data"
    },
    {
     "data": {
      "application/vnd.jupyter.widget-view+json": {
       "model_id": "",
       "version_major": 2,
       "version_minor": 0
      },
      "text/plain": [
       "FloatProgress(value=0.0, bar_style='info', description='Progress:', layout=Layout(height='25px', width='50%'),…"
      ]
     },
     "metadata": {},
     "output_type": "display_data"
    },
    {
     "name": "stdout",
     "output_type": "stream",
     "text": [
      "[('Date_Time', 'timestamp')]"
     ]
    }
   ],
   "source": [
    "df.select(\"Date_Time\").dtypes"
   ]
  },
  {
   "cell_type": "code",
   "execution_count": null,
   "metadata": {},
   "outputs": [],
   "source": []
  },
  {
   "cell_type": "code",
   "execution_count": null,
   "metadata": {},
   "outputs": [],
   "source": []
  },
  {
   "cell_type": "code",
   "execution_count": 22,
   "metadata": {},
   "outputs": [
    {
     "data": {
      "application/vnd.jupyter.widget-view+json": {
       "model_id": "5f356336eaff417587d51a0e9ab5eeb0",
       "version_major": 2,
       "version_minor": 0
      },
      "text/plain": [
       "VBox()"
      ]
     },
     "metadata": {},
     "output_type": "display_data"
    },
    {
     "data": {
      "application/vnd.jupyter.widget-view+json": {
       "model_id": "",
       "version_major": 2,
       "version_minor": 0
      },
      "text/plain": [
       "FloatProgress(value=0.0, bar_style='info', description='Progress:', layout=Layout(height='25px', width='50%'),…"
      ]
     },
     "metadata": {},
     "output_type": "display_data"
    }
   ],
   "source": [
    "# Extracting 'hour' from the dataset\n",
    "from pyspark.sql.functions import hour\n",
    "\n",
    "df = df.withColumn('hour', hour(df[\"Date_Time\"]))"
   ]
  },
  {
   "cell_type": "code",
   "execution_count": 23,
   "metadata": {},
   "outputs": [
    {
     "data": {
      "application/vnd.jupyter.widget-view+json": {
       "model_id": "c590dff831c24f71b044df104d41e507",
       "version_major": 2,
       "version_minor": 0
      },
      "text/plain": [
       "VBox()"
      ]
     },
     "metadata": {},
     "output_type": "display_data"
    },
    {
     "data": {
      "application/vnd.jupyter.widget-view+json": {
       "model_id": "",
       "version_major": 2,
       "version_minor": 0
      },
      "text/plain": [
       "FloatProgress(value=0.0, bar_style='info', description='Progress:', layout=Layout(height='25px', width='50%'),…"
      ]
     },
     "metadata": {},
     "output_type": "display_data"
    },
    {
     "name": "stdout",
     "output_type": "stream",
     "text": [
      "+----+\n",
      "|hour|\n",
      "+----+\n",
      "|  23|\n",
      "|  21|\n",
      "|  23|\n",
      "|  22|\n",
      "|  22|\n",
      "+----+\n",
      "only showing top 5 rows"
     ]
    }
   ],
   "source": [
    "df.select('hour').show(5)"
   ]
  },
  {
   "cell_type": "code",
   "execution_count": null,
   "metadata": {},
   "outputs": [],
   "source": []
  },
  {
   "cell_type": "code",
   "execution_count": null,
   "metadata": {},
   "outputs": [],
   "source": []
  },
  {
   "cell_type": "code",
   "execution_count": 24,
   "metadata": {},
   "outputs": [
    {
     "data": {
      "application/vnd.jupyter.widget-view+json": {
       "model_id": "1f93577da4864eea8133b73faf74e46f",
       "version_major": 2,
       "version_minor": 0
      },
      "text/plain": [
       "VBox()"
      ]
     },
     "metadata": {},
     "output_type": "display_data"
    },
    {
     "data": {
      "application/vnd.jupyter.widget-view+json": {
       "model_id": "",
       "version_major": 2,
       "version_minor": 0
      },
      "text/plain": [
       "FloatProgress(value=0.0, bar_style='info', description='Progress:', layout=Layout(height='25px', width='50%'),…"
      ]
     },
     "metadata": {},
     "output_type": "display_data"
    }
   ],
   "source": [
    "### Extract day of week from date in pyspark\n",
    "\n",
    "from pyspark.sql.functions import dayofweek\n",
    "\n",
    "# create a new column for dayofweek from Date_Time\n",
    "\n",
    "df = df.withColumn('day_of_week', dayofweek(df[\"Date_Time\"]))"
   ]
  },
  {
   "cell_type": "code",
   "execution_count": 25,
   "metadata": {},
   "outputs": [
    {
     "data": {
      "application/vnd.jupyter.widget-view+json": {
       "model_id": "1d9db9fb4e794fc68f1a30b5c5d9e9f2",
       "version_major": 2,
       "version_minor": 0
      },
      "text/plain": [
       "VBox()"
      ]
     },
     "metadata": {},
     "output_type": "display_data"
    },
    {
     "data": {
      "application/vnd.jupyter.widget-view+json": {
       "model_id": "",
       "version_major": 2,
       "version_minor": 0
      },
      "text/plain": [
       "FloatProgress(value=0.0, bar_style='info', description='Progress:', layout=Layout(height='25px', width='50%'),…"
      ]
     },
     "metadata": {},
     "output_type": "display_data"
    },
    {
     "name": "stdout",
     "output_type": "stream",
     "text": [
      "+-----------+\n",
      "|day_of_week|\n",
      "+-----------+\n",
      "|          3|\n",
      "|          3|\n",
      "|          3|\n",
      "|          3|\n",
      "|          3|\n",
      "+-----------+\n",
      "only showing top 5 rows"
     ]
    }
   ],
   "source": [
    "df.select('day_of_week').show(5)"
   ]
  },
  {
   "cell_type": "code",
   "execution_count": null,
   "metadata": {},
   "outputs": [],
   "source": []
  },
  {
   "cell_type": "code",
   "execution_count": 26,
   "metadata": {},
   "outputs": [
    {
     "data": {
      "application/vnd.jupyter.widget-view+json": {
       "model_id": "3a184b267404455094e258e5576c77db",
       "version_major": 2,
       "version_minor": 0
      },
      "text/plain": [
       "VBox()"
      ]
     },
     "metadata": {},
     "output_type": "display_data"
    },
    {
     "data": {
      "application/vnd.jupyter.widget-view+json": {
       "model_id": "",
       "version_major": 2,
       "version_minor": 0
      },
      "text/plain": [
       "FloatProgress(value=0.0, bar_style='info', description='Progress:', layout=Layout(height='25px', width='50%'),…"
      ]
     },
     "metadata": {},
     "output_type": "display_data"
    }
   ],
   "source": [
    "# Show 'hour' & 'day_of_week'"
   ]
  },
  {
   "cell_type": "code",
   "execution_count": 27,
   "metadata": {},
   "outputs": [
    {
     "data": {
      "application/vnd.jupyter.widget-view+json": {
       "model_id": "45dacfaefb7f4530974a5a398419587f",
       "version_major": 2,
       "version_minor": 0
      },
      "text/plain": [
       "VBox()"
      ]
     },
     "metadata": {},
     "output_type": "display_data"
    },
    {
     "data": {
      "application/vnd.jupyter.widget-view+json": {
       "model_id": "",
       "version_major": 2,
       "version_minor": 0
      },
      "text/plain": [
       "FloatProgress(value=0.0, bar_style='info', description='Progress:', layout=Layout(height='25px', width='50%'),…"
      ]
     },
     "metadata": {},
     "output_type": "display_data"
    },
    {
     "name": "stdout",
     "output_type": "stream",
     "text": [
      "+----+-----------+\n",
      "|hour|day_of_week|\n",
      "+----+-----------+\n",
      "|  23|          3|\n",
      "|  21|          3|\n",
      "|  23|          3|\n",
      "|  22|          3|\n",
      "|  22|          3|\n",
      "+----+-----------+\n",
      "only showing top 5 rows"
     ]
    }
   ],
   "source": [
    "df.select('hour','day_of_week').show(5)"
   ]
  },
  {
   "cell_type": "code",
   "execution_count": 28,
   "metadata": {},
   "outputs": [
    {
     "data": {
      "application/vnd.jupyter.widget-view+json": {
       "model_id": "4c8d3dd2031f4a3fb4abf0e967339ca5",
       "version_major": 2,
       "version_minor": 0
      },
      "text/plain": [
       "VBox()"
      ]
     },
     "metadata": {},
     "output_type": "display_data"
    },
    {
     "data": {
      "application/vnd.jupyter.widget-view+json": {
       "model_id": "",
       "version_major": 2,
       "version_minor": 0
      },
      "text/plain": [
       "FloatProgress(value=0.0, bar_style='info', description='Progress:', layout=Layout(height='25px', width='50%'),…"
      ]
     },
     "metadata": {},
     "output_type": "display_data"
    },
    {
     "name": "stdout",
     "output_type": "stream",
     "text": [
      "+---+--------+-----------+--------------------+-------------------+----+--------------------+--------------------+--------------------+------+--------+----+--------+----+--------------+--------+------------+------------+----+--------------------+------------+-------------+--------------------+-------------------+----+-----------+\n",
      "|_c0|      ID|Case Number|                Date|              Block|IUCR|        Primary Type|         Description|Location Description|Arrest|Domestic|Beat|District|Ward|Community Area|FBI Code|X Coordinate|Y Coordinate|Year|          Updated On|    Latitude|    Longitude|            Location|          Date_Time|hour|day_of_week|\n",
      "+---+--------+-----------+--------------------+-------------------+----+--------------------+--------------------+--------------------+------+--------+----+--------+----+--------------+--------+------------+------------+----+--------------------+------------+-------------+--------------------+-------------------+----+-----------+\n",
      "|  3|10508693|   HZ250496|05/03/2016 11:40:...| 013XX S SAWYER AVE|0486|             BATTERY|DOMESTIC BATTERY ...|           APARTMENT|  True|    True|1022|    10.0|24.0|          29.0|     08B|   1154907.0|   1893681.0|2016|05/10/2016 03:56:...|41.864073157|-87.706818608|(41.864073157, -8...|2016-05-03 23:40:00|  23|          3|\n",
      "| 89|10508695|   HZ250409|05/03/2016 09:40:...| 061XX S DREXEL AVE|0486|             BATTERY|DOMESTIC BATTERY ...|           RESIDENCE| False|    True| 313|     3.0|20.0|          42.0|     08B|   1183066.0|   1864330.0|2016|05/10/2016 03:56:...|41.782921527| -87.60436317|(41.782921527, -8...|2016-05-03 21:40:00|  21|          3|\n",
      "|197|10508697|   HZ250503|05/03/2016 11:31:...|053XX W CHICAGO AVE|0470|PUBLIC PEACE VIOL...|    RECKLESS CONDUCT|              STREET| False|   False|1524|    15.0|37.0|          25.0|      24|   1140789.0|   1904819.0|2016|05/10/2016 03:56:...|41.894908283|-87.758371958|(41.894908283, -8...|2016-05-03 23:31:00|  23|          3|\n",
      "|673|10508698|   HZ250424|05/03/2016 10:10:...|  049XX W FULTON ST|0460|             BATTERY|              SIMPLE|            SIDEWALK| False|   False|1532|    15.0|28.0|          25.0|     08B|   1143223.0|   1901475.0|2016|05/10/2016 03:56:...|41.885686845|-87.749515983|(41.885686845, -8...|2016-05-03 22:10:00|  22|          3|\n",
      "|911|10508699|   HZ250455|05/03/2016 10:00:...|  003XX N LOTUS AVE|0820|               THEFT|      $500 AND UNDER|           RESIDENCE| False|    True|1523|    15.0|28.0|          25.0|      06|   1139890.0|   1901675.0|2016|05/10/2016 03:56:...|41.886297242|-87.761750709|(41.886297242, -8...|2016-05-03 22:00:00|  22|          3|\n",
      "+---+--------+-----------+--------------------+-------------------+----+--------------------+--------------------+--------------------+------+--------+----+--------+----+--------------+--------+------------+------------+----+--------------------+------------+-------------+--------------------+-------------------+----+-----------+\n",
      "only showing top 5 rows"
     ]
    }
   ],
   "source": [
    "df.show(5)"
   ]
  },
  {
   "cell_type": "code",
   "execution_count": null,
   "metadata": {},
   "outputs": [],
   "source": []
  },
  {
   "cell_type": "code",
   "execution_count": 29,
   "metadata": {},
   "outputs": [
    {
     "data": {
      "application/vnd.jupyter.widget-view+json": {
       "model_id": "117f856c14c84a32a82e005b400380db",
       "version_major": 2,
       "version_minor": 0
      },
      "text/plain": [
       "VBox()"
      ]
     },
     "metadata": {},
     "output_type": "display_data"
    },
    {
     "data": {
      "application/vnd.jupyter.widget-view+json": {
       "model_id": "",
       "version_major": 2,
       "version_minor": 0
      },
      "text/plain": [
       "FloatProgress(value=0.0, bar_style='info', description='Progress:', layout=Layout(height='25px', width='50%'),…"
      ]
     },
     "metadata": {},
     "output_type": "display_data"
    }
   ],
   "source": [
    "# Dropping the columns: Date & Date_Time\n",
    "df = df.drop('Date', 'Date_Time')"
   ]
  },
  {
   "cell_type": "code",
   "execution_count": 30,
   "metadata": {},
   "outputs": [
    {
     "data": {
      "application/vnd.jupyter.widget-view+json": {
       "model_id": "7e138dd762e44c5dbdf93628ce52a705",
       "version_major": 2,
       "version_minor": 0
      },
      "text/plain": [
       "VBox()"
      ]
     },
     "metadata": {},
     "output_type": "display_data"
    },
    {
     "data": {
      "application/vnd.jupyter.widget-view+json": {
       "model_id": "",
       "version_major": 2,
       "version_minor": 0
      },
      "text/plain": [
       "FloatProgress(value=0.0, bar_style='info', description='Progress:', layout=Layout(height='25px', width='50%'),…"
      ]
     },
     "metadata": {},
     "output_type": "display_data"
    },
    {
     "name": "stdout",
     "output_type": "stream",
     "text": [
      "+---+--------+-----------+-------------------+----+--------------------+--------------------+--------------------+------+--------+----+--------+----+--------------+--------+------------+------------+----+--------------------+------------+-------------+--------------------+----+-----------+\n",
      "|_c0|      ID|Case Number|              Block|IUCR|        Primary Type|         Description|Location Description|Arrest|Domestic|Beat|District|Ward|Community Area|FBI Code|X Coordinate|Y Coordinate|Year|          Updated On|    Latitude|    Longitude|            Location|hour|day_of_week|\n",
      "+---+--------+-----------+-------------------+----+--------------------+--------------------+--------------------+------+--------+----+--------+----+--------------+--------+------------+------------+----+--------------------+------------+-------------+--------------------+----+-----------+\n",
      "|  3|10508693|   HZ250496| 013XX S SAWYER AVE|0486|             BATTERY|DOMESTIC BATTERY ...|           APARTMENT|  True|    True|1022|    10.0|24.0|          29.0|     08B|   1154907.0|   1893681.0|2016|05/10/2016 03:56:...|41.864073157|-87.706818608|(41.864073157, -8...|  23|          3|\n",
      "| 89|10508695|   HZ250409| 061XX S DREXEL AVE|0486|             BATTERY|DOMESTIC BATTERY ...|           RESIDENCE| False|    True| 313|     3.0|20.0|          42.0|     08B|   1183066.0|   1864330.0|2016|05/10/2016 03:56:...|41.782921527| -87.60436317|(41.782921527, -8...|  21|          3|\n",
      "|197|10508697|   HZ250503|053XX W CHICAGO AVE|0470|PUBLIC PEACE VIOL...|    RECKLESS CONDUCT|              STREET| False|   False|1524|    15.0|37.0|          25.0|      24|   1140789.0|   1904819.0|2016|05/10/2016 03:56:...|41.894908283|-87.758371958|(41.894908283, -8...|  23|          3|\n",
      "|673|10508698|   HZ250424|  049XX W FULTON ST|0460|             BATTERY|              SIMPLE|            SIDEWALK| False|   False|1532|    15.0|28.0|          25.0|     08B|   1143223.0|   1901475.0|2016|05/10/2016 03:56:...|41.885686845|-87.749515983|(41.885686845, -8...|  22|          3|\n",
      "|911|10508699|   HZ250455|  003XX N LOTUS AVE|0820|               THEFT|      $500 AND UNDER|           RESIDENCE| False|    True|1523|    15.0|28.0|          25.0|      06|   1139890.0|   1901675.0|2016|05/10/2016 03:56:...|41.886297242|-87.761750709|(41.886297242, -8...|  22|          3|\n",
      "+---+--------+-----------+-------------------+----+--------------------+--------------------+--------------------+------+--------+----+--------+----+--------------+--------+------------+------------+----+--------------------+------------+-------------+--------------------+----+-----------+\n",
      "only showing top 5 rows"
     ]
    }
   ],
   "source": [
    "df.show(5)"
   ]
  },
  {
   "cell_type": "code",
   "execution_count": null,
   "metadata": {},
   "outputs": [],
   "source": []
  },
  {
   "cell_type": "code",
   "execution_count": null,
   "metadata": {},
   "outputs": [],
   "source": []
  },
  {
   "cell_type": "markdown",
   "metadata": {},
   "source": [
    "### Hours- statistical analysis"
   ]
  },
  {
   "cell_type": "code",
   "execution_count": 31,
   "metadata": {},
   "outputs": [
    {
     "data": {
      "application/vnd.jupyter.widget-view+json": {
       "model_id": "05e70a15821249b98385de048ead3535",
       "version_major": 2,
       "version_minor": 0
      },
      "text/plain": [
       "VBox()"
      ]
     },
     "metadata": {},
     "output_type": "display_data"
    },
    {
     "data": {
      "application/vnd.jupyter.widget-view+json": {
       "model_id": "",
       "version_major": 2,
       "version_minor": 0
      },
      "text/plain": [
       "FloatProgress(value=0.0, bar_style='info', description='Progress:', layout=Layout(height='25px', width='50%'),…"
      ]
     },
     "metadata": {},
     "output_type": "display_data"
    },
    {
     "name": "stdout",
     "output_type": "stream",
     "text": [
      "+----+-----+\n",
      "|hour|count|\n",
      "+----+-----+\n",
      "|  12|83930|\n",
      "|  22|75824|\n",
      "|   1|43771|\n",
      "|  13|69666|\n",
      "|  16|76065|\n",
      "|   6|24609|\n",
      "|   3|31048|\n",
      "|  20|80826|\n",
      "|   5|20233|\n",
      "|  19|84193|\n",
      "+----+-----+\n",
      "only showing top 10 rows"
     ]
    }
   ],
   "source": [
    "# in each hour, how many crimes happened\n",
    "\n",
    "df.groupBy('hour').count().show(10)"
   ]
  },
  {
   "cell_type": "code",
   "execution_count": null,
   "metadata": {},
   "outputs": [],
   "source": []
  },
  {
   "cell_type": "code",
   "execution_count": null,
   "metadata": {},
   "outputs": [],
   "source": []
  },
  {
   "cell_type": "code",
   "execution_count": 32,
   "metadata": {},
   "outputs": [
    {
     "data": {
      "application/vnd.jupyter.widget-view+json": {
       "model_id": "f16aa3ec07da4e75b68eaa08c4a47123",
       "version_major": 2,
       "version_minor": 0
      },
      "text/plain": [
       "VBox()"
      ]
     },
     "metadata": {},
     "output_type": "display_data"
    },
    {
     "data": {
      "application/vnd.jupyter.widget-view+json": {
       "model_id": "",
       "version_major": 2,
       "version_minor": 0
      },
      "text/plain": [
       "FloatProgress(value=0.0, bar_style='info', description='Progress:', layout=Layout(height='25px', width='50%'),…"
      ]
     },
     "metadata": {},
     "output_type": "display_data"
    }
   ],
   "source": [
    "# Storing in a pandas dataframe for visualisation \n",
    "# store in descending order\n",
    "hour_df = df.groupBy('hour').count().orderBy('count',ascending=False).toPandas()"
   ]
  },
  {
   "cell_type": "code",
   "execution_count": null,
   "metadata": {},
   "outputs": [],
   "source": []
  },
  {
   "cell_type": "code",
   "execution_count": null,
   "metadata": {},
   "outputs": [],
   "source": []
  },
  {
   "cell_type": "code",
   "execution_count": 33,
   "metadata": {},
   "outputs": [
    {
     "data": {
      "application/vnd.jupyter.widget-view+json": {
       "model_id": "37711761e3d246568ae8477cf1dd2f43",
       "version_major": 2,
       "version_minor": 0
      },
      "text/plain": [
       "VBox()"
      ]
     },
     "metadata": {},
     "output_type": "display_data"
    },
    {
     "data": {
      "application/vnd.jupyter.widget-view+json": {
       "model_id": "",
       "version_major": 2,
       "version_minor": 0
      },
      "text/plain": [
       "FloatProgress(value=0.0, bar_style='info', description='Progress:', layout=Layout(height='25px', width='50%'),…"
      ]
     },
     "metadata": {},
     "output_type": "display_data"
    },
    {
     "name": "stdout",
     "output_type": "stream",
     "text": [
      "   hour  count\n",
      "0    19  84193\n",
      "1    12  83930\n",
      "2    18  82414\n",
      "3    20  80826\n",
      "4    15  79930\n",
      "5    21  76543\n",
      "6    16  76065\n",
      "7    22  75824\n",
      "8    17  75556\n",
      "9    14  73698"
     ]
    }
   ],
   "source": [
    "# print 10 rows\n",
    "hour_df.head(10)"
   ]
  },
  {
   "cell_type": "code",
   "execution_count": null,
   "metadata": {},
   "outputs": [],
   "source": []
  },
  {
   "cell_type": "code",
   "execution_count": null,
   "metadata": {},
   "outputs": [],
   "source": []
  },
  {
   "cell_type": "code",
   "execution_count": 34,
   "metadata": {},
   "outputs": [
    {
     "data": {
      "application/vnd.jupyter.widget-view+json": {
       "model_id": "fe5c8149e1bc4a6ba490edf275561cdf",
       "version_major": 2,
       "version_minor": 0
      },
      "text/plain": [
       "VBox()"
      ]
     },
     "metadata": {},
     "output_type": "display_data"
    },
    {
     "data": {
      "application/vnd.jupyter.widget-view+json": {
       "model_id": "",
       "version_major": 2,
       "version_minor": 0
      },
      "text/plain": [
       "FloatProgress(value=0.0, bar_style='info', description='Progress:', layout=Layout(height='25px', width='50%'),…"
      ]
     },
     "metadata": {},
     "output_type": "display_data"
    }
   ],
   "source": [
    "# import matplotlib \n",
    "import matplotlib.pyplot as plt"
   ]
  },
  {
   "cell_type": "code",
   "execution_count": null,
   "metadata": {},
   "outputs": [],
   "source": []
  },
  {
   "cell_type": "code",
   "execution_count": null,
   "metadata": {},
   "outputs": [],
   "source": []
  },
  {
   "cell_type": "markdown",
   "metadata": {},
   "source": [
    "### What time of the day are criminals the busiest?"
   ]
  },
  {
   "cell_type": "code",
   "execution_count": null,
   "metadata": {},
   "outputs": [],
   "source": [
    "\n",
    "# create the plot\n",
    "plt.figure(figsize=(14,10))\n",
    "\n",
    "# Plot Crime data for hour\n",
    "hour_df.plot(x='hour', y='count', kind='bar', color='blue')\n",
    "\n",
    "plt.title('Amount of Crimes by Hour')\n",
    "plt.ylabel('Amount of Crimes')\n",
    "plt.xlabel('Hour')\n",
    "\n",
    "\n",
    "# display the plot\n",
    "%matplot plt\n"
   ]
  },
  {
   "cell_type": "code",
   "execution_count": null,
   "metadata": {},
   "outputs": [],
   "source": []
  },
  {
   "cell_type": "markdown",
   "metadata": {},
   "source": [
    "### Day of week statistical analysis"
   ]
  },
  {
   "cell_type": "code",
   "execution_count": null,
   "metadata": {},
   "outputs": [],
   "source": [
    "df.groupBy(\"day_of_week\").count().show()\n"
   ]
  },
  {
   "cell_type": "code",
   "execution_count": null,
   "metadata": {},
   "outputs": [],
   "source": []
  },
  {
   "cell_type": "code",
   "execution_count": null,
   "metadata": {},
   "outputs": [],
   "source": [
    "dayofweek_df = df.groupBy(\"day_of_week\").count().orderBy(\"count\", ascending = False).toPandas()"
   ]
  },
  {
   "cell_type": "code",
   "execution_count": null,
   "metadata": {},
   "outputs": [],
   "source": []
  },
  {
   "cell_type": "code",
   "execution_count": null,
   "metadata": {},
   "outputs": [],
   "source": [
    "dayofweek_df.head(7)"
   ]
  },
  {
   "cell_type": "code",
   "execution_count": null,
   "metadata": {},
   "outputs": [],
   "source": []
  },
  {
   "cell_type": "markdown",
   "metadata": {},
   "source": [
    "### which day of the week ciminals are busiest?"
   ]
  },
  {
   "cell_type": "markdown",
   "metadata": {},
   "source": [
    "(1- Sunday , 2- Monday …… 7- Saturday)"
   ]
  },
  {
   "cell_type": "code",
   "execution_count": null,
   "metadata": {
    "scrolled": false
   },
   "outputs": [],
   "source": [
    "# create the plot\n",
    "plt.figure(figsize=(14,10))\n",
    "\n",
    "\n",
    "dayofweek_df.plot(x = 'day_of_week', y = 'count', kind='bar', color = \"pink\")\n",
    "\n",
    "\n",
    "plt.title('Amount of Crimes by day_of_week')\n",
    "plt.ylabel('Amount of Crimes')\n",
    "plt.xlabel('day_of_week')\n",
    "\n",
    "\n",
    "# display the plot\n",
    "%matplot plt\n"
   ]
  },
  {
   "cell_type": "code",
   "execution_count": null,
   "metadata": {},
   "outputs": [],
   "source": []
  },
  {
   "cell_type": "code",
   "execution_count": null,
   "metadata": {},
   "outputs": [],
   "source": []
  },
  {
   "cell_type": "markdown",
   "metadata": {},
   "source": [
    "### year statistical analysis"
   ]
  },
  {
   "cell_type": "code",
   "execution_count": null,
   "metadata": {
    "scrolled": true
   },
   "outputs": [],
   "source": [
    "df.groupBy(\"Year\").count().show()\n"
   ]
  },
  {
   "cell_type": "code",
   "execution_count": null,
   "metadata": {},
   "outputs": [],
   "source": []
  },
  {
   "cell_type": "code",
   "execution_count": null,
   "metadata": {},
   "outputs": [],
   "source": [
    "year_df = df.groupBy(\"year\").count().orderBy(\"count\", ascending = False).toPandas()"
   ]
  },
  {
   "cell_type": "code",
   "execution_count": null,
   "metadata": {},
   "outputs": [],
   "source": []
  },
  {
   "cell_type": "code",
   "execution_count": null,
   "metadata": {},
   "outputs": [],
   "source": [
    "year_df.head(7)"
   ]
  },
  {
   "cell_type": "code",
   "execution_count": null,
   "metadata": {},
   "outputs": [],
   "source": []
  },
  {
   "cell_type": "markdown",
   "metadata": {},
   "source": [
    "### how no of crimes are changing over the years"
   ]
  },
  {
   "cell_type": "code",
   "execution_count": null,
   "metadata": {},
   "outputs": [],
   "source": [
    "\n",
    "# create the plot\n",
    "plt.figure(figsize=(14,10))\n",
    "\n",
    "\n",
    "year_df.plot(x = 'year', y = 'count', kind='bar', color = \"red\")\n",
    "\n",
    "\n",
    "plt.title('Amount of Crimes by year')\n",
    "plt.ylabel('Amount of Crimes')\n",
    "plt.xlabel('year')\n",
    "\n",
    "\n",
    "# display the plot\n",
    "%matplot plt\n"
   ]
  },
  {
   "cell_type": "code",
   "execution_count": null,
   "metadata": {},
   "outputs": [],
   "source": []
  },
  {
   "cell_type": "code",
   "execution_count": null,
   "metadata": {},
   "outputs": [],
   "source": []
  },
  {
   "cell_type": "markdown",
   "metadata": {},
   "source": [
    "### Primary Type statistical analysis"
   ]
  },
  {
   "cell_type": "code",
   "execution_count": null,
   "metadata": {},
   "outputs": [],
   "source": [
    "df.groupBy(\"Primary Type\").count().show()"
   ]
  },
  {
   "cell_type": "code",
   "execution_count": null,
   "metadata": {},
   "outputs": [],
   "source": []
  },
  {
   "cell_type": "code",
   "execution_count": null,
   "metadata": {},
   "outputs": [],
   "source": [
    "primarytype_df = df.groupBy(\"Primary Type\").count().orderBy(\"count\", ascending = False).toPandas()"
   ]
  },
  {
   "cell_type": "code",
   "execution_count": null,
   "metadata": {},
   "outputs": [],
   "source": []
  },
  {
   "cell_type": "code",
   "execution_count": null,
   "metadata": {},
   "outputs": [],
   "source": [
    "primarytype_df.head()"
   ]
  },
  {
   "cell_type": "code",
   "execution_count": null,
   "metadata": {},
   "outputs": [],
   "source": []
  },
  {
   "cell_type": "code",
   "execution_count": null,
   "metadata": {},
   "outputs": [],
   "source": []
  },
  {
   "cell_type": "code",
   "execution_count": null,
   "metadata": {},
   "outputs": [],
   "source": []
  },
  {
   "cell_type": "markdown",
   "metadata": {},
   "source": [
    "### Primary Types of crime which is mostly reported "
   ]
  },
  {
   "cell_type": "code",
   "execution_count": null,
   "metadata": {},
   "outputs": [],
   "source": [
    "# create the plot\n",
    "\n",
    "\n",
    "primarytype_df.head(14).plot(x = 'Primary Type', y = 'count', kind='barh',figsize=(20,20), color = \"#b35900\")\n",
    "\n",
    "\n",
    "\n",
    "plt.title('Amount of Crimes by Primary Type')\n",
    "plt.ylabel('Amount of Crimes')\n",
    "plt.xlabel('Primary Type')\n",
    "\n",
    "# display the plot\n",
    "%matplot plt\n",
    "\n"
   ]
  },
  {
   "cell_type": "code",
   "execution_count": null,
   "metadata": {},
   "outputs": [],
   "source": []
  },
  {
   "cell_type": "code",
   "execution_count": null,
   "metadata": {},
   "outputs": [],
   "source": []
  },
  {
   "cell_type": "markdown",
   "metadata": {},
   "source": [
    "### Location Description statistical analysis"
   ]
  },
  {
   "cell_type": "code",
   "execution_count": null,
   "metadata": {},
   "outputs": [],
   "source": [
    "df.groupBy(\"Location Description\").count().show()\n"
   ]
  },
  {
   "cell_type": "code",
   "execution_count": null,
   "metadata": {},
   "outputs": [],
   "source": []
  },
  {
   "cell_type": "code",
   "execution_count": null,
   "metadata": {},
   "outputs": [],
   "source": [
    "location_df = df.groupBy(\"Location Description\").count().orderBy(\"count\", ascending = False).toPandas()"
   ]
  },
  {
   "cell_type": "code",
   "execution_count": null,
   "metadata": {},
   "outputs": [],
   "source": []
  },
  {
   "cell_type": "code",
   "execution_count": null,
   "metadata": {},
   "outputs": [],
   "source": [
    "location_df.head()"
   ]
  },
  {
   "cell_type": "code",
   "execution_count": null,
   "metadata": {},
   "outputs": [],
   "source": []
  },
  {
   "cell_type": "code",
   "execution_count": null,
   "metadata": {},
   "outputs": [],
   "source": []
  },
  {
   "cell_type": "markdown",
   "metadata": {},
   "source": [
    "### Top locations for most number of crime"
   ]
  },
  {
   "cell_type": "code",
   "execution_count": null,
   "metadata": {},
   "outputs": [],
   "source": [
    "%matplotlib inline"
   ]
  },
  {
   "cell_type": "code",
   "execution_count": null,
   "metadata": {},
   "outputs": [],
   "source": [
    "# create the plot\n",
    "\n",
    "\n",
    "location_df.head(20).plot(x = 'Location Description', y = 'count', kind='barh',figsize=(20,20), color = \"green\")\n",
    "\n",
    "\n",
    "plt.title('Amount of Crimes by Location Description')\n",
    "plt.ylabel('Amount of Crimes')\n",
    "plt.xlabel('Location Description')\n",
    "\n",
    "\n",
    "# display the plot\n",
    "%matplot plt\n"
   ]
  },
  {
   "cell_type": "code",
   "execution_count": null,
   "metadata": {},
   "outputs": [],
   "source": []
  },
  {
   "cell_type": "code",
   "execution_count": null,
   "metadata": {},
   "outputs": [],
   "source": []
  },
  {
   "cell_type": "code",
   "execution_count": null,
   "metadata": {},
   "outputs": [],
   "source": []
  },
  {
   "cell_type": "markdown",
   "metadata": {},
   "source": [
    "### How many arrests happened"
   ]
  },
  {
   "cell_type": "code",
   "execution_count": null,
   "metadata": {},
   "outputs": [],
   "source": [
    "df.groupBy('Arrest').count().show()"
   ]
  },
  {
   "cell_type": "code",
   "execution_count": null,
   "metadata": {},
   "outputs": [],
   "source": []
  },
  {
   "cell_type": "code",
   "execution_count": null,
   "metadata": {},
   "outputs": [],
   "source": []
  },
  {
   "cell_type": "markdown",
   "metadata": {},
   "source": [
    "### In what percentage of crime arrests happened?"
   ]
  },
  {
   "cell_type": "code",
   "execution_count": null,
   "metadata": {},
   "outputs": [],
   "source": [
    "df.filter(df[\"Arrest\"]==True).count()/df.count() * 100"
   ]
  },
  {
   "cell_type": "code",
   "execution_count": null,
   "metadata": {},
   "outputs": [],
   "source": []
  },
  {
   "cell_type": "markdown",
   "metadata": {},
   "source": [
    "### How many crimes are domestic"
   ]
  },
  {
   "cell_type": "code",
   "execution_count": null,
   "metadata": {},
   "outputs": [],
   "source": [
    "df.groupBy(\"Domestic\").count().show()"
   ]
  },
  {
   "cell_type": "code",
   "execution_count": null,
   "metadata": {},
   "outputs": [],
   "source": []
  },
  {
   "cell_type": "code",
   "execution_count": null,
   "metadata": {},
   "outputs": [],
   "source": []
  },
  {
   "cell_type": "code",
   "execution_count": null,
   "metadata": {},
   "outputs": [],
   "source": []
  },
  {
   "cell_type": "code",
   "execution_count": null,
   "metadata": {},
   "outputs": [],
   "source": []
  },
  {
   "cell_type": "markdown",
   "metadata": {},
   "source": [
    "### Calculating percentage of domestic crime"
   ]
  },
  {
   "cell_type": "code",
   "execution_count": null,
   "metadata": {},
   "outputs": [],
   "source": [
    "df.filter(df[\"Domestic\"]==True).count()/df.count() * 100"
   ]
  },
  {
   "cell_type": "code",
   "execution_count": null,
   "metadata": {},
   "outputs": [],
   "source": []
  },
  {
   "cell_type": "code",
   "execution_count": null,
   "metadata": {},
   "outputs": [],
   "source": []
  },
  {
   "cell_type": "markdown",
   "metadata": {},
   "source": [
    "### How many narcotics cases are there in the dataset?"
   ]
  },
  {
   "cell_type": "code",
   "execution_count": null,
   "metadata": {},
   "outputs": [],
   "source": [
    "df.where(df[\"Primary Type\"]==\"NARCOTICS\").count()"
   ]
  },
  {
   "cell_type": "code",
   "execution_count": null,
   "metadata": {},
   "outputs": [],
   "source": []
  },
  {
   "cell_type": "code",
   "execution_count": null,
   "metadata": {},
   "outputs": [],
   "source": []
  },
  {
   "cell_type": "markdown",
   "metadata": {},
   "source": [
    "### Calculating percentage of narcotics cases in the dataset?"
   ]
  },
  {
   "cell_type": "code",
   "execution_count": null,
   "metadata": {},
   "outputs": [],
   "source": [
    "df.where(df[\"Primary Type\"] == \"NARCOTICS\").count()/df.count() * 100"
   ]
  },
  {
   "cell_type": "code",
   "execution_count": null,
   "metadata": {},
   "outputs": [],
   "source": []
  },
  {
   "cell_type": "code",
   "execution_count": null,
   "metadata": {},
   "outputs": [],
   "source": []
  },
  {
   "cell_type": "code",
   "execution_count": null,
   "metadata": {},
   "outputs": [],
   "source": []
  },
  {
   "cell_type": "markdown",
   "metadata": {},
   "source": [
    "### How many domestic assualts there are?"
   ]
  },
  {
   "cell_type": "code",
   "execution_count": null,
   "metadata": {},
   "outputs": [],
   "source": [
    "df.filter((df[\"Primary Type\"] == \"ASSAULT\") & (df[\"Domestic\"] == \"True\")).count()\n"
   ]
  },
  {
   "cell_type": "code",
   "execution_count": null,
   "metadata": {},
   "outputs": [],
   "source": []
  },
  {
   "cell_type": "code",
   "execution_count": null,
   "metadata": {},
   "outputs": [],
   "source": []
  },
  {
   "cell_type": "markdown",
   "metadata": {},
   "source": [
    "### Calculating percentage of domestic assault cases in the dataset"
   ]
  },
  {
   "cell_type": "code",
   "execution_count": null,
   "metadata": {},
   "outputs": [],
   "source": [
    "df.filter((df[\"Primary Type\"] == \"ASSAULT\") & (df[\"Domestic\"] == \"True\")).count()/df.count() * 100"
   ]
  },
  {
   "cell_type": "code",
   "execution_count": null,
   "metadata": {},
   "outputs": [],
   "source": []
  },
  {
   "cell_type": "code",
   "execution_count": null,
   "metadata": {},
   "outputs": [],
   "source": []
  },
  {
   "cell_type": "code",
   "execution_count": null,
   "metadata": {},
   "outputs": [],
   "source": []
  },
  {
   "cell_type": "code",
   "execution_count": null,
   "metadata": {},
   "outputs": [],
   "source": []
  },
  {
   "cell_type": "markdown",
   "metadata": {},
   "source": [
    "## Drop columns which are not required for model building"
   ]
  },
  {
   "cell_type": "code",
   "execution_count": null,
   "metadata": {
    "scrolled": false
   },
   "outputs": [],
   "source": [
    "# show 5 rows\n",
    "df.show(5)"
   ]
  },
  {
   "cell_type": "code",
   "execution_count": null,
   "metadata": {},
   "outputs": [],
   "source": [
    "# get columns\n",
    "df.columns"
   ]
  },
  {
   "cell_type": "markdown",
   "metadata": {},
   "source": [
    " "
   ]
  },
  {
   "cell_type": "markdown",
   "metadata": {},
   "source": [
    "**Dropping columns which are ID or numbers which won't help in model learning:**\n"
   ]
  },
  {
   "cell_type": "markdown",
   "metadata": {},
   "source": [
    "'_c0', 'ID', 'Case Number': are IDs"
   ]
  },
  {
   "cell_type": "markdown",
   "metadata": {},
   "source": [
    "'Block', 'Description' : Lots of text like address "
   ]
  },
  {
   "cell_type": "markdown",
   "metadata": {},
   "source": [
    "'Updated On' : no need "
   ]
  },
  {
   "cell_type": "markdown",
   "metadata": {},
   "source": [
    "'Location': combination of lat, long so no need"
   ]
  },
  {
   "cell_type": "code",
   "execution_count": 35,
   "metadata": {},
   "outputs": [
    {
     "data": {
      "application/vnd.jupyter.widget-view+json": {
       "model_id": "529f3382b8ba4096901eb566ec54ef17",
       "version_major": 2,
       "version_minor": 0
      },
      "text/plain": [
       "VBox()"
      ]
     },
     "metadata": {},
     "output_type": "display_data"
    },
    {
     "data": {
      "application/vnd.jupyter.widget-view+json": {
       "model_id": "",
       "version_major": 2,
       "version_minor": 0
      },
      "text/plain": [
       "FloatProgress(value=0.0, bar_style='info', description='Progress:', layout=Layout(height='25px', width='50%'),…"
      ]
     },
     "metadata": {},
     "output_type": "display_data"
    }
   ],
   "source": [
    "df = df.drop(\"_c0\", \"ID\", \"Case Number\",'Block', 'Description', \"Updated On\", 'Location')"
   ]
  },
  {
   "cell_type": "code",
   "execution_count": 36,
   "metadata": {},
   "outputs": [
    {
     "data": {
      "application/vnd.jupyter.widget-view+json": {
       "model_id": "e756d71a206441b6a6b66c7f53efb5f6",
       "version_major": 2,
       "version_minor": 0
      },
      "text/plain": [
       "VBox()"
      ]
     },
     "metadata": {},
     "output_type": "display_data"
    },
    {
     "data": {
      "application/vnd.jupyter.widget-view+json": {
       "model_id": "",
       "version_major": 2,
       "version_minor": 0
      },
      "text/plain": [
       "FloatProgress(value=0.0, bar_style='info', description='Progress:', layout=Layout(height='25px', width='50%'),…"
      ]
     },
     "metadata": {},
     "output_type": "display_data"
    },
    {
     "name": "stdout",
     "output_type": "stream",
     "text": [
      "+----+--------------------+--------------------+------+--------+----+--------+----+--------------+--------+------------+------------+----+------------+-------------+----+-----------+\n",
      "|IUCR|        Primary Type|Location Description|Arrest|Domestic|Beat|District|Ward|Community Area|FBI Code|X Coordinate|Y Coordinate|Year|    Latitude|    Longitude|hour|day_of_week|\n",
      "+----+--------------------+--------------------+------+--------+----+--------+----+--------------+--------+------------+------------+----+------------+-------------+----+-----------+\n",
      "|0486|             BATTERY|           APARTMENT|  True|    True|1022|    10.0|24.0|          29.0|     08B|   1154907.0|   1893681.0|2016|41.864073157|-87.706818608|  23|          3|\n",
      "|0486|             BATTERY|           RESIDENCE| False|    True| 313|     3.0|20.0|          42.0|     08B|   1183066.0|   1864330.0|2016|41.782921527| -87.60436317|  21|          3|\n",
      "|0470|PUBLIC PEACE VIOL...|              STREET| False|   False|1524|    15.0|37.0|          25.0|      24|   1140789.0|   1904819.0|2016|41.894908283|-87.758371958|  23|          3|\n",
      "|0460|             BATTERY|            SIDEWALK| False|   False|1532|    15.0|28.0|          25.0|     08B|   1143223.0|   1901475.0|2016|41.885686845|-87.749515983|  22|          3|\n",
      "|0820|               THEFT|           RESIDENCE| False|    True|1523|    15.0|28.0|          25.0|      06|   1139890.0|   1901675.0|2016|41.886297242|-87.761750709|  22|          3|\n",
      "+----+--------------------+--------------------+------+--------+----+--------+----+--------------+--------+------------+------------+----+------------+-------------+----+-----------+\n",
      "only showing top 5 rows"
     ]
    }
   ],
   "source": [
    "df.show(5)"
   ]
  },
  {
   "cell_type": "code",
   "execution_count": 37,
   "metadata": {},
   "outputs": [
    {
     "data": {
      "application/vnd.jupyter.widget-view+json": {
       "model_id": "2989237b3456409193e4d22eadf0b432",
       "version_major": 2,
       "version_minor": 0
      },
      "text/plain": [
       "VBox()"
      ]
     },
     "metadata": {},
     "output_type": "display_data"
    },
    {
     "data": {
      "application/vnd.jupyter.widget-view+json": {
       "model_id": "",
       "version_major": 2,
       "version_minor": 0
      },
      "text/plain": [
       "FloatProgress(value=0.0, bar_style='info', description='Progress:', layout=Layout(height='25px', width='50%'),…"
      ]
     },
     "metadata": {},
     "output_type": "display_data"
    },
    {
     "name": "stdout",
     "output_type": "stream",
     "text": [
      "['IUCR', 'Primary Type', 'Location Description', 'Arrest', 'Domestic', 'Beat', 'District', 'Ward', 'Community Area', 'FBI Code', 'X Coordinate', 'Y Coordinate', 'Year', 'Latitude', 'Longitude', 'hour', 'day_of_week']"
     ]
    }
   ],
   "source": [
    "df.columns"
   ]
  },
  {
   "cell_type": "markdown",
   "metadata": {},
   "source": [
    " "
   ]
  },
  {
   "cell_type": "markdown",
   "metadata": {},
   "source": [
    "**Now we're left with lots of categorical columns, need to see how many distinct labels are there in each column, if the number of distinct labels are huge in a column, so during One-Hot_encoding need to create lots of new column.**"
   ]
  },
  {
   "cell_type": "code",
   "execution_count": null,
   "metadata": {},
   "outputs": [],
   "source": []
  },
  {
   "cell_type": "code",
   "execution_count": null,
   "metadata": {},
   "outputs": [],
   "source": []
  },
  {
   "cell_type": "code",
   "execution_count": null,
   "metadata": {},
   "outputs": [],
   "source": []
  },
  {
   "cell_type": "code",
   "execution_count": null,
   "metadata": {},
   "outputs": [],
   "source": []
  },
  {
   "cell_type": "code",
   "execution_count": null,
   "metadata": {},
   "outputs": [],
   "source": []
  },
  {
   "cell_type": "markdown",
   "metadata": {},
   "source": [
    "### Unique Values"
   ]
  },
  {
   "cell_type": "code",
   "execution_count": null,
   "metadata": {},
   "outputs": [],
   "source": []
  },
  {
   "cell_type": "code",
   "execution_count": 38,
   "metadata": {
    "scrolled": true
   },
   "outputs": [
    {
     "data": {
      "application/vnd.jupyter.widget-view+json": {
       "model_id": "268dd2640f0b49ef989ebb3ab7371886",
       "version_major": 2,
       "version_minor": 0
      },
      "text/plain": [
       "VBox()"
      ]
     },
     "metadata": {},
     "output_type": "display_data"
    },
    {
     "data": {
      "application/vnd.jupyter.widget-view+json": {
       "model_id": "",
       "version_major": 2,
       "version_minor": 0
      },
      "text/plain": [
       "FloatProgress(value=0.0, bar_style='info', description='Progress:', layout=Layout(height='25px', width='50%'),…"
      ]
     },
     "metadata": {},
     "output_type": "display_data"
    },
    {
     "name": "stdout",
     "output_type": "stream",
     "text": [
      "IUCR\n",
      "Primary Type\n",
      "Location Description\n",
      "Arrest\n",
      "Domestic\n",
      "Beat\n",
      "District\n",
      "Ward\n",
      "Community Area\n",
      "FBI Code\n",
      "X Coordinate\n",
      "Y Coordinate\n",
      "Year\n",
      "Latitude\n",
      "Longitude\n",
      "hour\n",
      "day_of_week"
     ]
    }
   ],
   "source": [
    "for c in df.columns:\n",
    "    print (c)"
   ]
  },
  {
   "cell_type": "code",
   "execution_count": null,
   "metadata": {},
   "outputs": [],
   "source": []
  },
  {
   "cell_type": "code",
   "execution_count": 39,
   "metadata": {},
   "outputs": [
    {
     "data": {
      "application/vnd.jupyter.widget-view+json": {
       "model_id": "8f82652688ef4ac8b132a61fca10cdf1",
       "version_major": 2,
       "version_minor": 0
      },
      "text/plain": [
       "VBox()"
      ]
     },
     "metadata": {},
     "output_type": "display_data"
    },
    {
     "data": {
      "application/vnd.jupyter.widget-view+json": {
       "model_id": "",
       "version_major": 2,
       "version_minor": 0
      },
      "text/plain": [
       "FloatProgress(value=0.0, bar_style='info', description='Progress:', layout=Layout(height='25px', width='50%'),…"
      ]
     },
     "metadata": {},
     "output_type": "display_data"
    },
    {
     "name": "stdout",
     "output_type": "stream",
     "text": [
      "+----+------------+--------------------+------+--------+----+--------+----+--------------+--------+------------+------------+----+--------+---------+----+-----------+\n",
      "|IUCR|Primary Type|Location Description|Arrest|Domestic|Beat|District|Ward|Community Area|FBI Code|X Coordinate|Y Coordinate|Year|Latitude|Longitude|hour|day_of_week|\n",
      "+----+------------+--------------------+------+--------+----+--------+----+--------------+--------+------------+------------+----+--------+---------+----+-----------+\n",
      "| 365|          33|                 142|     2|       2| 302|      24|  50|            78|      26|       67714|      111555|   6|  368076|   367942|  24|          7|\n",
      "+----+------------+--------------------+------+--------+----+--------+----+--------------+--------+------------+------------+----+--------+---------+----+-----------+"
     ]
    }
   ],
   "source": [
    "# Checking the number distinct values in each attribute\n",
    "from pyspark.sql.functions import col, countDistinct\n",
    "\n",
    "\n",
    "df.agg(*(countDistinct(col(c)).alias(c) for c in df.columns)).show()"
   ]
  },
  {
   "cell_type": "code",
   "execution_count": 40,
   "metadata": {},
   "outputs": [
    {
     "data": {
      "application/vnd.jupyter.widget-view+json": {
       "model_id": "5333e279bca6444ba2af5d033bf1139f",
       "version_major": 2,
       "version_minor": 0
      },
      "text/plain": [
       "VBox()"
      ]
     },
     "metadata": {},
     "output_type": "display_data"
    },
    {
     "data": {
      "application/vnd.jupyter.widget-view+json": {
       "model_id": "",
       "version_major": 2,
       "version_minor": 0
      },
      "text/plain": [
       "FloatProgress(value=0.0, bar_style='info', description='Progress:', layout=Layout(height='25px', width='50%'),…"
      ]
     },
     "metadata": {},
     "output_type": "display_data"
    },
    {
     "name": "stdout",
     "output_type": "stream",
     "text": [
      "['IUCR', 'Primary Type', 'Location Description', 'Arrest', 'Domestic', 'Beat', 'District', 'Ward', 'Community Area', 'FBI Code', 'X Coordinate', 'Y Coordinate', 'Year', 'Latitude', 'Longitude', 'hour', 'day_of_week']"
     ]
    }
   ],
   "source": [
    "# get columns\n",
    "df.columns"
   ]
  },
  {
   "cell_type": "markdown",
   "metadata": {},
   "source": [
    "**Based on distinct count analysis, we can clearly decide on dropping few more columns, which is having huge distinct count, that many new columns needs to be cerated if we're considering that.**"
   ]
  },
  {
   "cell_type": "markdown",
   "metadata": {},
   "source": [
    "***'IUCR', 'Beat','Ward','Community Area' : these columns can be dropped, this info can be inferred from the coordinates & lat, long columns, since they are more granular.***"
   ]
  },
  {
   "cell_type": "code",
   "execution_count": null,
   "metadata": {},
   "outputs": [],
   "source": []
  },
  {
   "cell_type": "code",
   "execution_count": null,
   "metadata": {},
   "outputs": [],
   "source": []
  },
  {
   "cell_type": "code",
   "execution_count": null,
   "metadata": {},
   "outputs": [],
   "source": []
  },
  {
   "cell_type": "code",
   "execution_count": null,
   "metadata": {},
   "outputs": [],
   "source": []
  },
  {
   "cell_type": "code",
   "execution_count": 41,
   "metadata": {},
   "outputs": [
    {
     "data": {
      "application/vnd.jupyter.widget-view+json": {
       "model_id": "fa0bfef8051b41e2853804090e4ca9b7",
       "version_major": 2,
       "version_minor": 0
      },
      "text/plain": [
       "VBox()"
      ]
     },
     "metadata": {},
     "output_type": "display_data"
    },
    {
     "data": {
      "application/vnd.jupyter.widget-view+json": {
       "model_id": "",
       "version_major": 2,
       "version_minor": 0
      },
      "text/plain": [
       "FloatProgress(value=0.0, bar_style='info', description='Progress:', layout=Layout(height='25px', width='50%'),…"
      ]
     },
     "metadata": {},
     "output_type": "display_data"
    }
   ],
   "source": [
    "df = df.drop('IUCR', 'Beat','Ward','Community Area')"
   ]
  },
  {
   "cell_type": "code",
   "execution_count": null,
   "metadata": {},
   "outputs": [],
   "source": [
    "df.show(5)"
   ]
  },
  {
   "cell_type": "code",
   "execution_count": null,
   "metadata": {},
   "outputs": [],
   "source": [
    "df.columns"
   ]
  },
  {
   "cell_type": "code",
   "execution_count": null,
   "metadata": {},
   "outputs": [],
   "source": []
  },
  {
   "cell_type": "code",
   "execution_count": null,
   "metadata": {},
   "outputs": [],
   "source": []
  },
  {
   "cell_type": "code",
   "execution_count": null,
   "metadata": {},
   "outputs": [],
   "source": []
  },
  {
   "cell_type": "code",
   "execution_count": null,
   "metadata": {},
   "outputs": [],
   "source": []
  },
  {
   "cell_type": "code",
   "execution_count": null,
   "metadata": {},
   "outputs": [],
   "source": []
  },
  {
   "cell_type": "markdown",
   "metadata": {},
   "source": [
    "#### Handling null values"
   ]
  },
  {
   "cell_type": "code",
   "execution_count": null,
   "metadata": {
    "scrolled": true
   },
   "outputs": [],
   "source": [
    "# Counting the number of null values in each column\n",
    "from pyspark.sql.functions import when, count, col, isnull\n",
    "\n",
    "\n",
    "df.select([count(when(isnull(c), c)).alias(c) for c in df.columns]).show()\n",
    "\n"
   ]
  },
  {
   "cell_type": "markdown",
   "metadata": {},
   "source": [
    "**As we can see many row is not having the coordinates & lat, long details, without this info, it'll be diffcult to predict the FBI Code. So we'll drop these rows.**"
   ]
  },
  {
   "cell_type": "code",
   "execution_count": 42,
   "metadata": {
    "scrolled": false
   },
   "outputs": [
    {
     "data": {
      "application/vnd.jupyter.widget-view+json": {
       "model_id": "91dbcfeca7b9493da38720803a3dfab9",
       "version_major": 2,
       "version_minor": 0
      },
      "text/plain": [
       "VBox()"
      ]
     },
     "metadata": {},
     "output_type": "display_data"
    },
    {
     "data": {
      "application/vnd.jupyter.widget-view+json": {
       "model_id": "",
       "version_major": 2,
       "version_minor": 0
      },
      "text/plain": [
       "FloatProgress(value=0.0, bar_style='info', description='Progress:', layout=Layout(height='25px', width='50%'),…"
      ]
     },
     "metadata": {},
     "output_type": "display_data"
    }
   ],
   "source": [
    "# Dropping the rows with null values\n",
    "df = df.na.drop()"
   ]
  },
  {
   "cell_type": "code",
   "execution_count": null,
   "metadata": {},
   "outputs": [],
   "source": [
    "# Check if the null values are dropped\n",
    "\n",
    "df.select([count(when(isnull(c), c)).alias(c) for c in df.columns]).show()"
   ]
  },
  {
   "cell_type": "code",
   "execution_count": null,
   "metadata": {},
   "outputs": [],
   "source": [
    "\n",
    "print((df.count(), len(df.columns)))"
   ]
  },
  {
   "cell_type": "code",
   "execution_count": null,
   "metadata": {},
   "outputs": [],
   "source": []
  },
  {
   "cell_type": "code",
   "execution_count": null,
   "metadata": {},
   "outputs": [],
   "source": []
  },
  {
   "cell_type": "code",
   "execution_count": null,
   "metadata": {},
   "outputs": [],
   "source": []
  },
  {
   "cell_type": "code",
   "execution_count": null,
   "metadata": {},
   "outputs": [],
   "source": []
  },
  {
   "cell_type": "markdown",
   "metadata": {},
   "source": [
    "#### Correction in column type"
   ]
  },
  {
   "cell_type": "code",
   "execution_count": null,
   "metadata": {
    "scrolled": false
   },
   "outputs": [],
   "source": [
    "# Column type\n",
    "df.dtypes"
   ]
  },
  {
   "cell_type": "code",
   "execution_count": null,
   "metadata": {},
   "outputs": [],
   "source": [
    "df.printSchema()"
   ]
  },
  {
   "cell_type": "code",
   "execution_count": null,
   "metadata": {},
   "outputs": [],
   "source": [
    "df.show(3)"
   ]
  },
  {
   "cell_type": "markdown",
   "metadata": {},
   "source": [
    "**Need to change the data type of all lat, long, coordinates, district, year from String to Float/Integer**"
   ]
  },
  {
   "cell_type": "code",
   "execution_count": 43,
   "metadata": {},
   "outputs": [
    {
     "data": {
      "application/vnd.jupyter.widget-view+json": {
       "model_id": "16d06c7dcf8f4f8ca3d5b76ad1283c41",
       "version_major": 2,
       "version_minor": 0
      },
      "text/plain": [
       "VBox()"
      ]
     },
     "metadata": {},
     "output_type": "display_data"
    },
    {
     "data": {
      "application/vnd.jupyter.widget-view+json": {
       "model_id": "",
       "version_major": 2,
       "version_minor": 0
      },
      "text/plain": [
       "FloatProgress(value=0.0, bar_style='info', description='Progress:', layout=Layout(height='25px', width='50%'),…"
      ]
     },
     "metadata": {},
     "output_type": "display_data"
    }
   ],
   "source": [
    "# Changing the required columns from string type to numerical \n",
    "from pyspark.sql.types import FloatType, IntegerType\n",
    "\n",
    "\n",
    "df = df.withColumn('District', df['District'].cast(IntegerType()))\n",
    "\n",
    "\n",
    "\n",
    "df = df.withColumn('X Coordinate', df['X Coordinate'].cast(FloatType()))\n",
    "df = df.withColumn('Y Coordinate', df['Y Coordinate'].cast(FloatType()))\n",
    "df = df.withColumn('Longitude', df['Longitude'].cast(FloatType()))\n",
    "df = df.withColumn('Latitude', df['Latitude'].cast(FloatType()))\n",
    "df = df.withColumn('Year', df['Year'].cast(IntegerType()))\n"
   ]
  },
  {
   "cell_type": "code",
   "execution_count": null,
   "metadata": {
    "scrolled": true
   },
   "outputs": [],
   "source": [
    "df.dtypes"
   ]
  },
  {
   "cell_type": "code",
   "execution_count": null,
   "metadata": {
    "scrolled": true
   },
   "outputs": [],
   "source": [
    "df.show(3)"
   ]
  },
  {
   "cell_type": "code",
   "execution_count": null,
   "metadata": {},
   "outputs": [],
   "source": []
  },
  {
   "cell_type": "code",
   "execution_count": null,
   "metadata": {},
   "outputs": [],
   "source": []
  },
  {
   "cell_type": "code",
   "execution_count": null,
   "metadata": {},
   "outputs": [],
   "source": []
  },
  {
   "cell_type": "code",
   "execution_count": null,
   "metadata": {},
   "outputs": [],
   "source": []
  },
  {
   "cell_type": "code",
   "execution_count": null,
   "metadata": {},
   "outputs": [],
   "source": []
  },
  {
   "cell_type": "code",
   "execution_count": null,
   "metadata": {},
   "outputs": [],
   "source": []
  },
  {
   "cell_type": "markdown",
   "metadata": {},
   "source": [
    "## Exploring the target variable: FBI Code"
   ]
  },
  {
   "cell_type": "code",
   "execution_count": null,
   "metadata": {},
   "outputs": [],
   "source": [
    "df.groupBy(\"FBI Code\").count().show()"
   ]
  },
  {
   "cell_type": "code",
   "execution_count": null,
   "metadata": {},
   "outputs": [],
   "source": []
  },
  {
   "cell_type": "code",
   "execution_count": null,
   "metadata": {},
   "outputs": [],
   "source": []
  },
  {
   "cell_type": "code",
   "execution_count": null,
   "metadata": {
    "scrolled": false
   },
   "outputs": [],
   "source": [
    "# Storing in a pandas dataframe for visualisation\n",
    "fbi_df = df.groupBy(\"FBI Code\").count().orderBy(\"count\", ascending = False).toPandas()"
   ]
  },
  {
   "cell_type": "code",
   "execution_count": null,
   "metadata": {},
   "outputs": [],
   "source": []
  },
  {
   "cell_type": "code",
   "execution_count": null,
   "metadata": {},
   "outputs": [],
   "source": [
    "fbi_df.head()"
   ]
  },
  {
   "cell_type": "code",
   "execution_count": null,
   "metadata": {},
   "outputs": [],
   "source": []
  },
  {
   "cell_type": "code",
   "execution_count": null,
   "metadata": {},
   "outputs": [],
   "source": []
  },
  {
   "cell_type": "code",
   "execution_count": null,
   "metadata": {},
   "outputs": [],
   "source": [
    "# create the plot\n",
    "plt.figure(figsize=(14,10))\n",
    "\n",
    "fbi_df.head(15).plot(x = 'FBI Code', y = 'count', kind='bar', color = \"violet\")\n",
    "\n",
    "plt.title('Amount of Crimes by FBI Code')\n",
    "plt.ylabel('Amount of Crimes')\n",
    "plt.xlabel('FBI Code')\n",
    "\n",
    "\n",
    "# display the plot\n",
    "%matplot plt"
   ]
  },
  {
   "cell_type": "code",
   "execution_count": null,
   "metadata": {},
   "outputs": [],
   "source": []
  },
  {
   "cell_type": "code",
   "execution_count": null,
   "metadata": {},
   "outputs": [],
   "source": []
  },
  {
   "cell_type": "code",
   "execution_count": null,
   "metadata": {},
   "outputs": [],
   "source": []
  },
  {
   "cell_type": "markdown",
   "metadata": {},
   "source": [
    "## Feature Generation & Vector Creation"
   ]
  },
  {
   "cell_type": "code",
   "execution_count": null,
   "metadata": {},
   "outputs": [],
   "source": [
    "# Identifying the catrgorical columns for indexing\n",
    "df.columns"
   ]
  },
  {
   "cell_type": "code",
   "execution_count": null,
   "metadata": {},
   "outputs": [],
   "source": [
    "len(df.columns)"
   ]
  },
  {
   "cell_type": "code",
   "execution_count": null,
   "metadata": {},
   "outputs": [],
   "source": [
    "df.show(3)"
   ]
  },
  {
   "cell_type": "code",
   "execution_count": 44,
   "metadata": {},
   "outputs": [
    {
     "data": {
      "application/vnd.jupyter.widget-view+json": {
       "model_id": "57562dc1fea34eb893dd22b7e60725cb",
       "version_major": 2,
       "version_minor": 0
      },
      "text/plain": [
       "VBox()"
      ]
     },
     "metadata": {},
     "output_type": "display_data"
    },
    {
     "data": {
      "application/vnd.jupyter.widget-view+json": {
       "model_id": "",
       "version_major": 2,
       "version_minor": 0
      },
      "text/plain": [
       "FloatProgress(value=0.0, bar_style='info', description='Progress:', layout=Layout(height='25px', width='50%'),…"
      ]
     },
     "metadata": {},
     "output_type": "display_data"
    }
   ],
   "source": [
    "# Storing the categorical and continuous columns in different lists\n",
    "\n",
    "\n",
    "categorical_features = ['Primary Type', 'Location Description', 'Arrest', 'Domestic', 'District','Year','hour','day_of_week' ]\n",
    "\n",
    "\n",
    "continuous_features = ['X Coordinate', 'Y Coordinate', 'Latitude', 'Longitude']\n",
    "\n"
   ]
  },
  {
   "cell_type": "code",
   "execution_count": null,
   "metadata": {},
   "outputs": [],
   "source": []
  },
  {
   "cell_type": "code",
   "execution_count": null,
   "metadata": {},
   "outputs": [],
   "source": []
  },
  {
   "cell_type": "code",
   "execution_count": null,
   "metadata": {},
   "outputs": [],
   "source": []
  },
  {
   "cell_type": "code",
   "execution_count": null,
   "metadata": {},
   "outputs": [],
   "source": []
  },
  {
   "cell_type": "code",
   "execution_count": null,
   "metadata": {},
   "outputs": [],
   "source": []
  },
  {
   "cell_type": "code",
   "execution_count": null,
   "metadata": {},
   "outputs": [],
   "source": []
  },
  {
   "cell_type": "markdown",
   "metadata": {},
   "source": [
    "### Spark Pipeline concept will be used here"
   ]
  },
  {
   "cell_type": "code",
   "execution_count": 45,
   "metadata": {},
   "outputs": [
    {
     "data": {
      "application/vnd.jupyter.widget-view+json": {
       "model_id": "10c0ff7775b04c4299992c74f3d2e325",
       "version_major": 2,
       "version_minor": 0
      },
      "text/plain": [
       "VBox()"
      ]
     },
     "metadata": {},
     "output_type": "display_data"
    },
    {
     "data": {
      "application/vnd.jupyter.widget-view+json": {
       "model_id": "",
       "version_major": 2,
       "version_minor": 0
      },
      "text/plain": [
       "FloatProgress(value=0.0, bar_style='info', description='Progress:', layout=Layout(height='25px', width='50%'),…"
      ]
     },
     "metadata": {},
     "output_type": "display_data"
    }
   ],
   "source": [
    "# Importing the libraries for data transormation\n",
    "from pyspark.ml.feature import OneHotEncoderEstimator, StringIndexer, VectorAssembler"
   ]
  },
  {
   "cell_type": "code",
   "execution_count": 46,
   "metadata": {},
   "outputs": [
    {
     "data": {
      "application/vnd.jupyter.widget-view+json": {
       "model_id": "fab36f72c88d442d8e099b977dd2ac39",
       "version_major": 2,
       "version_minor": 0
      },
      "text/plain": [
       "VBox()"
      ]
     },
     "metadata": {},
     "output_type": "display_data"
    },
    {
     "data": {
      "application/vnd.jupyter.widget-view+json": {
       "model_id": "",
       "version_major": 2,
       "version_minor": 0
      },
      "text/plain": [
       "FloatProgress(value=0.0, bar_style='info', description='Progress:', layout=Layout(height='25px', width='50%'),…"
      ]
     },
     "metadata": {},
     "output_type": "display_data"
    }
   ],
   "source": [
    "# Initialising the variable 'stages' to store every step for building a pipeline\n",
    "stages = []"
   ]
  },
  {
   "cell_type": "code",
   "execution_count": null,
   "metadata": {},
   "outputs": [],
   "source": []
  },
  {
   "cell_type": "code",
   "execution_count": null,
   "metadata": {},
   "outputs": [],
   "source": []
  },
  {
   "cell_type": "code",
   "execution_count": null,
   "metadata": {},
   "outputs": [],
   "source": []
  },
  {
   "cell_type": "markdown",
   "metadata": {},
   "source": [
    "### StringIndexer: Features which are in string are converted to numerical values"
   ]
  },
  {
   "cell_type": "markdown",
   "metadata": {},
   "source": [
    "### OneHotEncoderEstimator: Converts categorical variable into new columns"
   ]
  },
  {
   "cell_type": "code",
   "execution_count": null,
   "metadata": {},
   "outputs": [],
   "source": []
  },
  {
   "cell_type": "code",
   "execution_count": 47,
   "metadata": {},
   "outputs": [
    {
     "data": {
      "application/vnd.jupyter.widget-view+json": {
       "model_id": "3ee4d0adfd174b3aafa5bced2af745be",
       "version_major": 2,
       "version_minor": 0
      },
      "text/plain": [
       "VBox()"
      ]
     },
     "metadata": {},
     "output_type": "display_data"
    },
    {
     "data": {
      "application/vnd.jupyter.widget-view+json": {
       "model_id": "",
       "version_major": 2,
       "version_minor": 0
      },
      "text/plain": [
       "FloatProgress(value=0.0, bar_style='info', description='Progress:', layout=Layout(height='25px', width='50%'),…"
      ]
     },
     "metadata": {},
     "output_type": "display_data"
    },
    {
     "name": "stdout",
     "output_type": "stream",
     "text": [
      "Primary Type\n",
      "Location Description\n",
      "Arrest\n",
      "Domestic\n",
      "District\n",
      "Year\n",
      "hour\n",
      "day_of_week"
     ]
    }
   ],
   "source": [
    "# Building a function for encoding all the categorical variables\n",
    "\n",
    "\n",
    "for categoricalCol in categorical_features:\n",
    "    print(categoricalCol)\n",
    "    stringIndexer = StringIndexer(inputCol = categoricalCol, outputCol = categoricalCol + '_Index')\n",
    "    encoder = OneHotEncoderEstimator(inputCols=[stringIndexer.getOutputCol()], outputCols=[categoricalCol + \"_encoded\"])    \n",
    "    stages += [stringIndexer, encoder]"
   ]
  },
  {
   "cell_type": "code",
   "execution_count": null,
   "metadata": {},
   "outputs": [],
   "source": []
  },
  {
   "cell_type": "code",
   "execution_count": null,
   "metadata": {},
   "outputs": [],
   "source": []
  },
  {
   "cell_type": "code",
   "execution_count": 48,
   "metadata": {
    "scrolled": true
   },
   "outputs": [
    {
     "data": {
      "application/vnd.jupyter.widget-view+json": {
       "model_id": "54b0011284744ac5b553ceb08f671654",
       "version_major": 2,
       "version_minor": 0
      },
      "text/plain": [
       "VBox()"
      ]
     },
     "metadata": {},
     "output_type": "display_data"
    },
    {
     "data": {
      "application/vnd.jupyter.widget-view+json": {
       "model_id": "",
       "version_major": 2,
       "version_minor": 0
      },
      "text/plain": [
       "FloatProgress(value=0.0, bar_style='info', description='Progress:', layout=Layout(height='25px', width='50%'),…"
      ]
     },
     "metadata": {},
     "output_type": "display_data"
    }
   ],
   "source": [
    "# Encoding the target variable as label\n",
    "\n",
    "label_stringIdx = StringIndexer(inputCol = 'FBI Code', outputCol = 'label')\n",
    "\n",
    "stages += [label_stringIdx]"
   ]
  },
  {
   "cell_type": "code",
   "execution_count": null,
   "metadata": {},
   "outputs": [],
   "source": []
  },
  {
   "cell_type": "code",
   "execution_count": null,
   "metadata": {},
   "outputs": [],
   "source": []
  },
  {
   "cell_type": "code",
   "execution_count": null,
   "metadata": {},
   "outputs": [],
   "source": []
  },
  {
   "cell_type": "code",
   "execution_count": null,
   "metadata": {},
   "outputs": [],
   "source": []
  },
  {
   "cell_type": "markdown",
   "metadata": {},
   "source": [
    "### VectorAssembler: Generated vectors for all the features"
   ]
  },
  {
   "cell_type": "code",
   "execution_count": 49,
   "metadata": {},
   "outputs": [
    {
     "data": {
      "application/vnd.jupyter.widget-view+json": {
       "model_id": "ec1d8d60a8414fe291dcb9ad9a3018ab",
       "version_major": 2,
       "version_minor": 0
      },
      "text/plain": [
       "VBox()"
      ]
     },
     "metadata": {},
     "output_type": "display_data"
    },
    {
     "data": {
      "application/vnd.jupyter.widget-view+json": {
       "model_id": "",
       "version_major": 2,
       "version_minor": 0
      },
      "text/plain": [
       "FloatProgress(value=0.0, bar_style='info', description='Progress:', layout=Layout(height='25px', width='50%'),…"
      ]
     },
     "metadata": {},
     "output_type": "display_data"
    }
   ],
   "source": [
    "# Building a function for generating a vector of all features\n",
    "\n",
    "assemblerInputs = [c + \"_encoded\" for c in categorical_features] + continuous_features\n",
    "\n",
    "\n",
    "assembler = VectorAssembler(inputCols=assemblerInputs, outputCol=\"features\")\n",
    "\n",
    "\n",
    "stages += [assembler]"
   ]
  },
  {
   "cell_type": "code",
   "execution_count": null,
   "metadata": {},
   "outputs": [],
   "source": []
  },
  {
   "cell_type": "code",
   "execution_count": null,
   "metadata": {},
   "outputs": [],
   "source": []
  },
  {
   "cell_type": "markdown",
   "metadata": {},
   "source": [
    "### Pipeline stages are used to run all Steps/stages\n",
    "\n",
    "**Stages is a list of functions which is used as an input to the pipeline**"
   ]
  },
  {
   "cell_type": "code",
   "execution_count": null,
   "metadata": {},
   "outputs": [],
   "source": []
  },
  {
   "cell_type": "code",
   "execution_count": 50,
   "metadata": {},
   "outputs": [
    {
     "data": {
      "application/vnd.jupyter.widget-view+json": {
       "model_id": "b17ee406aafa470094e8f73b412711b2",
       "version_major": 2,
       "version_minor": 0
      },
      "text/plain": [
       "VBox()"
      ]
     },
     "metadata": {},
     "output_type": "display_data"
    },
    {
     "data": {
      "application/vnd.jupyter.widget-view+json": {
       "model_id": "",
       "version_major": 2,
       "version_minor": 0
      },
      "text/plain": [
       "FloatProgress(value=0.0, bar_style='info', description='Progress:', layout=Layout(height='25px', width='50%'),…"
      ]
     },
     "metadata": {},
     "output_type": "display_data"
    }
   ],
   "source": [
    "# Loading all the steps in a pipeline\n",
    "from pyspark.ml import Pipeline\n"
   ]
  },
  {
   "cell_type": "code",
   "execution_count": 51,
   "metadata": {},
   "outputs": [
    {
     "data": {
      "application/vnd.jupyter.widget-view+json": {
       "model_id": "60c7ae65ca7d400da59d8b5b97e7e147",
       "version_major": 2,
       "version_minor": 0
      },
      "text/plain": [
       "VBox()"
      ]
     },
     "metadata": {},
     "output_type": "display_data"
    },
    {
     "data": {
      "application/vnd.jupyter.widget-view+json": {
       "model_id": "",
       "version_major": 2,
       "version_minor": 0
      },
      "text/plain": [
       "FloatProgress(value=0.0, bar_style='info', description='Progress:', layout=Layout(height='25px', width='50%'),…"
      ]
     },
     "metadata": {},
     "output_type": "display_data"
    }
   ],
   "source": [
    "pipeline = Pipeline(stages = stages)"
   ]
  },
  {
   "cell_type": "code",
   "execution_count": 52,
   "metadata": {},
   "outputs": [
    {
     "data": {
      "application/vnd.jupyter.widget-view+json": {
       "model_id": "75550ad08e61435db43ee48ebec1d281",
       "version_major": 2,
       "version_minor": 0
      },
      "text/plain": [
       "VBox()"
      ]
     },
     "metadata": {},
     "output_type": "display_data"
    },
    {
     "data": {
      "application/vnd.jupyter.widget-view+json": {
       "model_id": "",
       "version_major": 2,
       "version_minor": 0
      },
      "text/plain": [
       "FloatProgress(value=0.0, bar_style='info', description='Progress:', layout=Layout(height='25px', width='50%'),…"
      ]
     },
     "metadata": {},
     "output_type": "display_data"
    },
    {
     "name": "stdout",
     "output_type": "stream",
     "text": [
      "Pipeline_9e212bafbbe1"
     ]
    }
   ],
   "source": [
    "pipeline"
   ]
  },
  {
   "cell_type": "markdown",
   "metadata": {},
   "source": [
    "### Fit & Transform DF"
   ]
  },
  {
   "cell_type": "code",
   "execution_count": 53,
   "metadata": {
    "scrolled": true
   },
   "outputs": [
    {
     "data": {
      "application/vnd.jupyter.widget-view+json": {
       "model_id": "3ac041e478024e269aa4eae1acd50e43",
       "version_major": 2,
       "version_minor": 0
      },
      "text/plain": [
       "VBox()"
      ]
     },
     "metadata": {},
     "output_type": "display_data"
    },
    {
     "data": {
      "application/vnd.jupyter.widget-view+json": {
       "model_id": "",
       "version_major": 2,
       "version_minor": 0
      },
      "text/plain": [
       "FloatProgress(value=0.0, bar_style='info', description='Progress:', layout=Layout(height='25px', width='50%'),…"
      ]
     },
     "metadata": {},
     "output_type": "display_data"
    }
   ],
   "source": [
    "# Fitting the steps on the dataFrame\n",
    "pipelineModel = pipeline.fit(df)"
   ]
  },
  {
   "cell_type": "code",
   "execution_count": 54,
   "metadata": {
    "scrolled": false
   },
   "outputs": [
    {
     "data": {
      "application/vnd.jupyter.widget-view+json": {
       "model_id": "48d107eb61b0465bb47291b278dc6cf0",
       "version_major": 2,
       "version_minor": 0
      },
      "text/plain": [
       "VBox()"
      ]
     },
     "metadata": {},
     "output_type": "display_data"
    },
    {
     "data": {
      "application/vnd.jupyter.widget-view+json": {
       "model_id": "",
       "version_major": 2,
       "version_minor": 0
      },
      "text/plain": [
       "FloatProgress(value=0.0, bar_style='info', description='Progress:', layout=Layout(height='25px', width='50%'),…"
      ]
     },
     "metadata": {},
     "output_type": "display_data"
    }
   ],
   "source": [
    "# Transforming the dataframe\n",
    "df = pipelineModel.transform(df)"
   ]
  },
  {
   "cell_type": "code",
   "execution_count": 55,
   "metadata": {},
   "outputs": [
    {
     "data": {
      "application/vnd.jupyter.widget-view+json": {
       "model_id": "d8a02202861340aa8e67c822d922edcc",
       "version_major": 2,
       "version_minor": 0
      },
      "text/plain": [
       "VBox()"
      ]
     },
     "metadata": {},
     "output_type": "display_data"
    },
    {
     "data": {
      "application/vnd.jupyter.widget-view+json": {
       "model_id": "",
       "version_major": 2,
       "version_minor": 0
      },
      "text/plain": [
       "FloatProgress(value=0.0, bar_style='info', description='Progress:', layout=Layout(height='25px', width='50%'),…"
      ]
     },
     "metadata": {},
     "output_type": "display_data"
    },
    {
     "name": "stdout",
     "output_type": "stream",
     "text": [
      "+--------------------+--------------------+------+--------+--------+--------+------------+------------+----+---------+---------+----+-----------+------------------+--------------------+--------------------------+----------------------------+------------+--------------+--------------+----------------+--------------+----------------+----------+-------------+----------+---------------+-----------------+-------------------+-----+--------------------+\n",
      "|        Primary Type|Location Description|Arrest|Domestic|District|FBI Code|X Coordinate|Y Coordinate|Year| Latitude|Longitude|hour|day_of_week|Primary Type_Index|Primary Type_encoded|Location Description_Index|Location Description_encoded|Arrest_Index|Arrest_encoded|Domestic_Index|Domestic_encoded|District_Index|District_encoded|Year_Index| Year_encoded|hour_Index|   hour_encoded|day_of_week_Index|day_of_week_encoded|label|            features|\n",
      "+--------------------+--------------------+------+--------+--------+--------+------------+------------+----+---------+---------+----+-----------+------------------+--------------------+--------------------------+----------------------------+------------+--------------+--------------+----------------+--------------+----------------+----------+-------------+----------+---------------+-----------------+-------------------+-----+--------------------+\n",
      "|             BATTERY|           APARTMENT|  True|    True|      10|     08B|   1154907.0|   1893681.0|2016|41.864075|-87.70682|  23|          3|               1.0|      (32,[1],[1.0])|                       2.0|             (139,[2],[1.0])|         1.0|     (1,[],[])|           1.0|       (1,[],[])|           9.0|  (23,[9],[1.0])|       4.0|(5,[4],[1.0])|      15.0|(23,[15],[1.0])|              5.0|      (6,[5],[1.0])|  1.0|(234,[1,34,182,20...|\n",
      "|             BATTERY|           RESIDENCE| False|    True|       3|     08B|   1183066.0|   1864330.0|2016| 41.78292|-87.60436|  21|          3|               1.0|      (32,[1],[1.0])|                       1.0|             (139,[1],[1.0])|         0.0| (1,[0],[1.0])|           1.0|       (1,[],[])|           6.0|  (23,[6],[1.0])|       4.0|(5,[4],[1.0])|       5.0| (23,[5],[1.0])|              5.0|      (6,[5],[1.0])|  1.0|(234,[1,33,171,17...|\n",
      "|PUBLIC PEACE VIOL...|              STREET| False|   False|      15|      24|   1140789.0|   1904819.0|2016| 41.89491|-87.75837|  23|          3|              12.0|     (32,[12],[1.0])|                       0.0|             (139,[0],[1.0])|         0.0| (1,[0],[1.0])|           0.0|   (1,[0],[1.0])|          12.0| (23,[12],[1.0])|       4.0|(5,[4],[1.0])|      15.0|(23,[15],[1.0])|              5.0|      (6,[5],[1.0])| 12.0|(234,[12,32,171,1...|\n",
      "|             BATTERY|            SIDEWALK| False|   False|      15|     08B|   1143223.0|   1901475.0|2016|41.885685|-87.74952|  22|          3|               1.0|      (32,[1],[1.0])|                       3.0|             (139,[3],[1.0])|         0.0| (1,[0],[1.0])|           0.0|   (1,[0],[1.0])|          12.0| (23,[12],[1.0])|       4.0|(5,[4],[1.0])|       6.0| (23,[6],[1.0])|              5.0|      (6,[5],[1.0])|  1.0|(234,[1,35,171,17...|\n",
      "|               THEFT|           RESIDENCE| False|    True|      15|      06|   1139890.0|   1901675.0|2016|  41.8863|-87.76175|  22|          3|               0.0|      (32,[0],[1.0])|                       1.0|             (139,[1],[1.0])|         0.0| (1,[0],[1.0])|           1.0|       (1,[],[])|          12.0| (23,[12],[1.0])|       4.0|(5,[4],[1.0])|       6.0| (23,[6],[1.0])|              5.0|      (6,[5],[1.0])|  0.0|(234,[0,33,171,18...|\n",
      "+--------------------+--------------------+------+--------+--------+--------+------------+------------+----+---------+---------+----+-----------+------------------+--------------------+--------------------------+----------------------------+------------+--------------+--------------+----------------+--------------+----------------+----------+-------------+----------+---------------+-----------------+-------------------+-----+--------------------+\n",
      "only showing top 5 rows"
     ]
    }
   ],
   "source": [
    "# show rows\n",
    "df.show(5)"
   ]
  },
  {
   "cell_type": "code",
   "execution_count": 56,
   "metadata": {
    "scrolled": true
   },
   "outputs": [
    {
     "data": {
      "application/vnd.jupyter.widget-view+json": {
       "model_id": "f844450b0c644ccca0ef17e01c572ba7",
       "version_major": 2,
       "version_minor": 0
      },
      "text/plain": [
       "VBox()"
      ]
     },
     "metadata": {},
     "output_type": "display_data"
    },
    {
     "data": {
      "application/vnd.jupyter.widget-view+json": {
       "model_id": "",
       "version_major": 2,
       "version_minor": 0
      },
      "text/plain": [
       "FloatProgress(value=0.0, bar_style='info', description='Progress:', layout=Layout(height='25px', width='50%'),…"
      ]
     },
     "metadata": {},
     "output_type": "display_data"
    },
    {
     "name": "stdout",
     "output_type": "stream",
     "text": [
      "root\n",
      " |-- Primary Type: string (nullable = true)\n",
      " |-- Location Description: string (nullable = true)\n",
      " |-- Arrest: string (nullable = true)\n",
      " |-- Domestic: string (nullable = true)\n",
      " |-- District: integer (nullable = true)\n",
      " |-- FBI Code: string (nullable = true)\n",
      " |-- X Coordinate: float (nullable = true)\n",
      " |-- Y Coordinate: float (nullable = true)\n",
      " |-- Year: integer (nullable = true)\n",
      " |-- Latitude: float (nullable = true)\n",
      " |-- Longitude: float (nullable = true)\n",
      " |-- hour: integer (nullable = true)\n",
      " |-- day_of_week: integer (nullable = true)\n",
      " |-- Primary Type_Index: double (nullable = false)\n",
      " |-- Primary Type_encoded: vector (nullable = true)\n",
      " |-- Location Description_Index: double (nullable = false)\n",
      " |-- Location Description_encoded: vector (nullable = true)\n",
      " |-- Arrest_Index: double (nullable = false)\n",
      " |-- Arrest_encoded: vector (nullable = true)\n",
      " |-- Domestic_Index: double (nullable = false)\n",
      " |-- Domestic_encoded: vector (nullable = true)\n",
      " |-- District_Index: double (nullable = false)\n",
      " |-- District_encoded: vector (nullable = true)\n",
      " |-- Year_Index: double (nullable = false)\n",
      " |-- Year_encoded: vector (nullable = true)\n",
      " |-- hour_Index: double (nullable = false)\n",
      " |-- hour_encoded: vector (nullable = true)\n",
      " |-- day_of_week_Index: double (nullable = false)\n",
      " |-- day_of_week_encoded: vector (nullable = true)\n",
      " |-- label: double (nullable = false)\n",
      " |-- features: vector (nullable = true)"
     ]
    }
   ],
   "source": [
    "# Checking the schema of transformed dataFrame\n",
    "df.printSchema()"
   ]
  },
  {
   "cell_type": "code",
   "execution_count": null,
   "metadata": {},
   "outputs": [],
   "source": []
  },
  {
   "cell_type": "code",
   "execution_count": 57,
   "metadata": {},
   "outputs": [
    {
     "data": {
      "application/vnd.jupyter.widget-view+json": {
       "model_id": "41588a4fe2bd4a309446319d99b7a724",
       "version_major": 2,
       "version_minor": 0
      },
      "text/plain": [
       "VBox()"
      ]
     },
     "metadata": {},
     "output_type": "display_data"
    },
    {
     "data": {
      "application/vnd.jupyter.widget-view+json": {
       "model_id": "",
       "version_major": 2,
       "version_minor": 0
      },
      "text/plain": [
       "FloatProgress(value=0.0, bar_style='info', description='Progress:', layout=Layout(height='25px', width='50%'),…"
      ]
     },
     "metadata": {},
     "output_type": "display_data"
    },
    {
     "name": "stdout",
     "output_type": "stream",
     "text": [
      "+-----+------+\n",
      "|label| count|\n",
      "+-----+------+\n",
      "|  0.0|321960|\n",
      "|  1.0|222988|\n",
      "|  2.0|152816|\n",
      "|  3.0|134437|\n",
      "|  4.0|125762|\n",
      "|  5.0| 81671|\n",
      "|  6.0| 66801|\n",
      "|  7.0| 59858|\n",
      "|  8.0| 59250|\n",
      "|  9.0| 56093|\n",
      "| 10.0| 35956|\n",
      "| 11.0| 23380|\n",
      "| 12.0| 17080|\n",
      "| 13.0| 17070|\n",
      "| 14.0|  7783|\n",
      "| 15.0|  7585|\n",
      "| 16.0|  6756|\n",
      "| 17.0|  6303|\n",
      "| 18.0|  5387|\n",
      "| 19.0|  2578|\n",
      "+-----+------+\n",
      "only showing top 20 rows"
     ]
    }
   ],
   "source": [
    "df.groupBy(\"label\").count().orderBy(\"count\", ascending = False).show()"
   ]
  },
  {
   "cell_type": "code",
   "execution_count": null,
   "metadata": {},
   "outputs": [],
   "source": []
  },
  {
   "cell_type": "code",
   "execution_count": null,
   "metadata": {},
   "outputs": [],
   "source": []
  },
  {
   "cell_type": "code",
   "execution_count": null,
   "metadata": {},
   "outputs": [],
   "source": []
  },
  {
   "cell_type": "markdown",
   "metadata": {},
   "source": [
    "### Split data into train & test"
   ]
  },
  {
   "cell_type": "code",
   "execution_count": 63,
   "metadata": {
    "scrolled": false
   },
   "outputs": [
    {
     "data": {
      "application/vnd.jupyter.widget-view+json": {
       "model_id": "9b9d598367e84f3e9517a8e393e9b97d",
       "version_major": 2,
       "version_minor": 0
      },
      "text/plain": [
       "VBox()"
      ]
     },
     "metadata": {},
     "output_type": "display_data"
    },
    {
     "data": {
      "application/vnd.jupyter.widget-view+json": {
       "model_id": "",
       "version_major": 2,
       "version_minor": 0
      },
      "text/plain": [
       "FloatProgress(value=0.0, bar_style='info', description='Progress:', layout=Layout(height='25px', width='50%'),…"
      ]
     },
     "metadata": {},
     "output_type": "display_data"
    }
   ],
   "source": [
    "# Splitting the dataFrame into training and testing set\n",
    "\n",
    "train, test = df.randomSplit([0.7, 0.3], seed = 100)"
   ]
  },
  {
   "cell_type": "code",
   "execution_count": null,
   "metadata": {},
   "outputs": [],
   "source": []
  },
  {
   "cell_type": "code",
   "execution_count": null,
   "metadata": {},
   "outputs": [],
   "source": []
  },
  {
   "cell_type": "code",
   "execution_count": 64,
   "metadata": {},
   "outputs": [
    {
     "data": {
      "application/vnd.jupyter.widget-view+json": {
       "model_id": "6187710fe7e7479a939f80de54189db0",
       "version_major": 2,
       "version_minor": 0
      },
      "text/plain": [
       "VBox()"
      ]
     },
     "metadata": {},
     "output_type": "display_data"
    },
    {
     "data": {
      "application/vnd.jupyter.widget-view+json": {
       "model_id": "",
       "version_major": 2,
       "version_minor": 0
      },
      "text/plain": [
       "FloatProgress(value=0.0, bar_style='info', description='Progress:', layout=Layout(height='25px', width='50%'),…"
      ]
     },
     "metadata": {},
     "output_type": "display_data"
    },
    {
     "name": "stdout",
     "output_type": "stream",
     "text": [
      "Training Dataset Count: 992198"
     ]
    }
   ],
   "source": [
    "print(\"Training Dataset Count: \" + str(train.count()))"
   ]
  },
  {
   "cell_type": "code",
   "execution_count": null,
   "metadata": {},
   "outputs": [],
   "source": []
  },
  {
   "cell_type": "code",
   "execution_count": null,
   "metadata": {},
   "outputs": [],
   "source": []
  },
  {
   "cell_type": "code",
   "execution_count": 65,
   "metadata": {
    "scrolled": true
   },
   "outputs": [
    {
     "data": {
      "application/vnd.jupyter.widget-view+json": {
       "model_id": "82221c5115764eafaaccd2f2493ec4bf",
       "version_major": 2,
       "version_minor": 0
      },
      "text/plain": [
       "VBox()"
      ]
     },
     "metadata": {},
     "output_type": "display_data"
    },
    {
     "data": {
      "application/vnd.jupyter.widget-view+json": {
       "model_id": "",
       "version_major": 2,
       "version_minor": 0
      },
      "text/plain": [
       "FloatProgress(value=0.0, bar_style='info', description='Progress:', layout=Layout(height='25px', width='50%'),…"
      ]
     },
     "metadata": {},
     "output_type": "display_data"
    },
    {
     "name": "stdout",
     "output_type": "stream",
     "text": [
      "Test Dataset Count: 426206"
     ]
    }
   ],
   "source": [
    "print(\"Test Dataset Count: \" + str(test.count()))"
   ]
  },
  {
   "cell_type": "code",
   "execution_count": null,
   "metadata": {},
   "outputs": [],
   "source": []
  },
  {
   "cell_type": "code",
   "execution_count": null,
   "metadata": {},
   "outputs": [],
   "source": []
  },
  {
   "cell_type": "markdown",
   "metadata": {},
   "source": [
    "## Spark Random Forest"
   ]
  },
  {
   "cell_type": "code",
   "execution_count": 66,
   "metadata": {},
   "outputs": [
    {
     "data": {
      "application/vnd.jupyter.widget-view+json": {
       "model_id": "bfb215baa02a4079abd5c676122da606",
       "version_major": 2,
       "version_minor": 0
      },
      "text/plain": [
       "VBox()"
      ]
     },
     "metadata": {},
     "output_type": "display_data"
    },
    {
     "data": {
      "application/vnd.jupyter.widget-view+json": {
       "model_id": "",
       "version_major": 2,
       "version_minor": 0
      },
      "text/plain": [
       "FloatProgress(value=0.0, bar_style='info', description='Progress:', layout=Layout(height='25px', width='50%'),…"
      ]
     },
     "metadata": {},
     "output_type": "display_data"
    }
   ],
   "source": [
    "from pyspark.ml.classification import RandomForestClassifier"
   ]
  },
  {
   "cell_type": "code",
   "execution_count": null,
   "metadata": {},
   "outputs": [],
   "source": []
  },
  {
   "cell_type": "code",
   "execution_count": null,
   "metadata": {},
   "outputs": [],
   "source": []
  },
  {
   "cell_type": "code",
   "execution_count": 67,
   "metadata": {
    "scrolled": true
   },
   "outputs": [
    {
     "data": {
      "application/vnd.jupyter.widget-view+json": {
       "model_id": "2029be8d02364c7db10950a3fc7b4dc4",
       "version_major": 2,
       "version_minor": 0
      },
      "text/plain": [
       "VBox()"
      ]
     },
     "metadata": {},
     "output_type": "display_data"
    },
    {
     "data": {
      "application/vnd.jupyter.widget-view+json": {
       "model_id": "",
       "version_major": 2,
       "version_minor": 0
      },
      "text/plain": [
       "FloatProgress(value=0.0, bar_style='info', description='Progress:', layout=Layout(height='25px', width='50%'),…"
      ]
     },
     "metadata": {},
     "output_type": "display_data"
    }
   ],
   "source": [
    "# Building the RF model\n",
    "\n",
    "rf = RandomForestClassifier(featuresCol = 'features', labelCol = 'label', \\\n",
    "                            maxDepth=5, impurity='gini', numTrees=25, seed=100)"
   ]
  },
  {
   "cell_type": "code",
   "execution_count": null,
   "metadata": {},
   "outputs": [],
   "source": []
  },
  {
   "cell_type": "code",
   "execution_count": null,
   "metadata": {},
   "outputs": [],
   "source": []
  },
  {
   "cell_type": "code",
   "execution_count": 68,
   "metadata": {
    "scrolled": false
   },
   "outputs": [
    {
     "data": {
      "application/vnd.jupyter.widget-view+json": {
       "model_id": "3b4473b3dfc044dba1839f43e1a7cf10",
       "version_major": 2,
       "version_minor": 0
      },
      "text/plain": [
       "VBox()"
      ]
     },
     "metadata": {},
     "output_type": "display_data"
    },
    {
     "data": {
      "application/vnd.jupyter.widget-view+json": {
       "model_id": "",
       "version_major": 2,
       "version_minor": 0
      },
      "text/plain": [
       "FloatProgress(value=0.0, bar_style='info', description='Progress:', layout=Layout(height='25px', width='50%'),…"
      ]
     },
     "metadata": {},
     "output_type": "display_data"
    }
   ],
   "source": [
    "# Fitting the model over the training set\n",
    "rfmodel = rf.fit(train)"
   ]
  },
  {
   "cell_type": "code",
   "execution_count": null,
   "metadata": {},
   "outputs": [],
   "source": []
  },
  {
   "cell_type": "code",
   "execution_count": null,
   "metadata": {},
   "outputs": [],
   "source": []
  },
  {
   "cell_type": "code",
   "execution_count": 69,
   "metadata": {},
   "outputs": [
    {
     "data": {
      "application/vnd.jupyter.widget-view+json": {
       "model_id": "fd8b45e9111b445f863af926df06f544",
       "version_major": 2,
       "version_minor": 0
      },
      "text/plain": [
       "VBox()"
      ]
     },
     "metadata": {},
     "output_type": "display_data"
    },
    {
     "data": {
      "application/vnd.jupyter.widget-view+json": {
       "model_id": "",
       "version_major": 2,
       "version_minor": 0
      },
      "text/plain": [
       "FloatProgress(value=0.0, bar_style='info', description='Progress:', layout=Layout(height='25px', width='50%'),…"
      ]
     },
     "metadata": {},
     "output_type": "display_data"
    },
    {
     "name": "stdout",
     "output_type": "stream",
     "text": [
      "RandomForestClassificationModel (uid=RandomForestClassifier_5b00db469a95) with 25 trees\n",
      "  Tree 0 (weight 1.0):\n",
      "    If (feature 3 in {0.0})\n",
      "     If (feature 46 in {0.0})\n",
      "      If (feature 38 in {0.0})\n",
      "       If (feature 7 in {0.0})\n",
      "        Predict: 0.0\n",
      "       Else (feature 7 not in {0.0})\n",
      "        Predict: 8.0\n",
      "      Else (feature 38 not in {0.0})\n",
      "       If (feature 12 in {0.0})\n",
      "        If (feature 15 in {0.0})\n",
      "         Predict: 9.0\n",
      "        Else (feature 15 not in {0.0})\n",
      "         Predict: 16.0\n",
      "       Else (feature 12 not in {0.0})\n",
      "        Predict: 12.0\n",
      "     Else (feature 46 not in {0.0})\n",
      "      If (feature 179 in {0.0})\n",
      "       If (feature 219 in {0.0})\n",
      "        If (feature 7 in {0.0})\n",
      "         Predict: 0.0\n",
      "        Else (feature 7 not in {0.0})\n",
      "         Predict: 8.0\n",
      "       Else (feature 219 not in {0.0})\n",
      "        If (feature 180 in {0.0})\n",
      "         Predict: 0.0\n",
      "        Else (feature 180 not in {0.0})\n",
      "         Predict: 5.0\n",
      "      Else (feature 179 not in {0.0})\n",
      "       If (feature 197 in {0.0})\n",
      "        If (feature 4 in {0.0})\n",
      "         Predict: 0.0\n",
      "        Else (feature 4 not in {0.0})\n",
      "         Predict: 6.0\n",
      "       Else (feature 197 not in {0.0})\n",
      "        If (feature 230 <= 1182457.0)\n",
      "         Predict: 3.0\n",
      "        Else (feature 230 > 1182457.0)\n",
      "         Predict: 0.0\n",
      "    Else (feature 3 not in {0.0})\n",
      "     Predict: 4.0\n",
      "  Tree 1 (weight 1.0):\n",
      "    If (feature 6 in {0.0})\n",
      "     If (feature 17 in {0.0})\n",
      "      If (feature 8 in {0.0})\n",
      "       If (feature 33 in {0.0})\n",
      "        Predict: 0.0\n",
      "       Else (feature 33 not in {0.0})\n",
      "        If (feature 171 in {0.0})\n",
      "         Predict: 1.0\n",
      "        Else (feature 171 not in {0.0})\n",
      "         Predict: 3.0\n",
      "      Else (feature 8 not in {0.0})\n",
      "       Predict: 7.0\n",
      "     Else (feature 17 not in {0.0})\n",
      "      Predict: 18.0\n",
      "    Else (feature 6 not in {0.0})\n",
      "     Predict: 5.0\n",
      "  Tree 2 (weight 1.0):\n",
      "    If (feature 172 in {0.0})\n",
      "     If (feature 13 in {0.0})\n",
      "      If (feature 10 in {0.0})\n",
      "       If (feature 7 in {0.0})\n",
      "        Predict: 1.0\n",
      "       Else (feature 7 not in {0.0})\n",
      "        Predict: 8.0\n",
      "      Else (feature 10 not in {0.0})\n",
      "       Predict: 3.0\n",
      "     Else (feature 13 not in {0.0})\n",
      "      If (feature 35 in {0.0})\n",
      "       If (feature 190 in {0.0})\n",
      "        If (feature 224 in {0.0})\n",
      "         Predict: 17.0\n",
      "        Else (feature 224 not in {0.0})\n",
      "         Predict: 3.0\n",
      "       Else (feature 190 not in {0.0})\n",
      "        Predict: 3.0\n",
      "      Else (feature 35 not in {0.0})\n",
      "       If (feature 197 in {0.0})\n",
      "        Predict: 3.0\n",
      "       Else (feature 197 not in {0.0})\n",
      "        If (feature 228 in {0.0})\n",
      "         Predict: 3.0\n",
      "        Else (feature 228 not in {0.0})\n",
      "         Predict: 17.0\n",
      "    Else (feature 172 not in {0.0})\n",
      "     If (feature 173 in {0.0})\n",
      "      If (feature 6 in {0.0})\n",
      "       If (feature 1 in {0.0})\n",
      "        If (feature 11 in {0.0})\n",
      "         Predict: 0.0\n",
      "        Else (feature 11 not in {0.0})\n",
      "         Predict: 13.0\n",
      "       Else (feature 1 not in {0.0})\n",
      "        Predict: 1.0\n",
      "      Else (feature 6 not in {0.0})\n",
      "       Predict: 5.0\n",
      "     Else (feature 173 not in {0.0})\n",
      "      If (feature 3 in {0.0})\n",
      "       If (feature 233 <= -87.73344421386719)\n",
      "        If (feature 8 in {0.0})\n",
      "         Predict: 15.0\n",
      "        Else (feature 8 not in {0.0})\n",
      "         Predict: 7.0\n",
      "       Else (feature 233 > -87.73344421386719)\n",
      "        If (feature 19 in {0.0})\n",
      "         Predict: 0.0\n",
      "        Else (feature 19 not in {0.0})\n",
      "         Predict: 20.0\n",
      "      Else (feature 3 not in {0.0})\n",
      "       Predict: 4.0\n",
      "  Tree 3 (weight 1.0):\n",
      "    If (feature 0 in {0.0})\n",
      "     If (feature 33 in {0.0})\n",
      "      If (feature 171 in {0.0})\n",
      "       If (feature 9 in {0.0})\n",
      "        If (feature 19 in {0.0})\n",
      "         Predict: 4.0\n",
      "        Else (feature 19 not in {0.0})\n",
      "         Predict: 20.0\n",
      "       Else (feature 9 not in {0.0})\n",
      "        Predict: 9.0\n",
      "      Else (feature 171 not in {0.0})\n",
      "       If (feature 4 in {0.0})\n",
      "        If (feature 2 in {0.0})\n",
      "         Predict: 1.0\n",
      "        Else (feature 2 not in {0.0})\n",
      "         Predict: 2.0\n",
      "       Else (feature 4 not in {0.0})\n",
      "        Predict: 6.0\n",
      "     Else (feature 33 not in {0.0})\n",
      "      If (feature 3 in {0.0})\n",
      "       If (feature 15 in {0.0})\n",
      "        If (feature 10 in {0.0})\n",
      "         Predict: 1.0\n",
      "        Else (feature 10 not in {0.0})\n",
      "         Predict: 3.0\n",
      "       Else (feature 15 not in {0.0})\n",
      "        Predict: 16.0\n",
      "      Else (feature 3 not in {0.0})\n",
      "       If (feature 176 in {0.0})\n",
      "        Predict: 4.0\n",
      "       Else (feature 176 not in {0.0})\n",
      "        If (feature 230 <= 1184900.5)\n",
      "         Predict: 3.0\n",
      "        Else (feature 230 > 1184900.5)\n",
      "         Predict: 4.0\n",
      "    Else (feature 0 not in {0.0})\n",
      "     Predict: 0.0\n",
      "  Tree 4 (weight 1.0):\n",
      "    If (feature 0 in {0.0})\n",
      "     If (feature 1 in {0.0})\n",
      "      If (feature 9 in {0.0})\n",
      "       If (feature 11 in {0.0})\n",
      "        If (feature 3 in {0.0})\n",
      "         Predict: 2.0\n",
      "        Else (feature 3 not in {0.0})\n",
      "         Predict: 4.0\n",
      "       Else (feature 11 not in {0.0})\n",
      "        Predict: 13.0\n",
      "      Else (feature 9 not in {0.0})\n",
      "       Predict: 9.0\n",
      "     Else (feature 1 not in {0.0})\n",
      "      Predict: 1.0\n",
      "    Else (feature 0 not in {0.0})\n",
      "     Predict: 0.0\n",
      "  Tree 5 (weight 1.0):\n",
      "    If (feature 33 in {0.0})\n",
      "     If (feature 9 in {0.0})\n",
      "      If (feature 16 in {0.0})\n",
      "       If (feature 7 in {0.0})\n",
      "        If (feature 0 in {0.0})\n",
      "         Predict: 1.0\n",
      "        Else (feature 0 not in {0.0})\n",
      "         Predict: 0.0\n",
      "       Else (feature 7 not in {0.0})\n",
      "        Predict: 8.0\n",
      "      Else (feature 16 not in {0.0})\n",
      "       If (feature 71 in {0.0})\n",
      "        Predict: 12.0\n",
      "       Else (feature 71 not in {0.0})\n",
      "        If (feature 200 in {0.0})\n",
      "         Predict: 3.0\n",
      "        Else (feature 200 not in {0.0})\n",
      "         Predict: 12.0\n",
      "     Else (feature 9 not in {0.0})\n",
      "      Predict: 9.0\n",
      "    Else (feature 33 not in {0.0})\n",
      "     If (feature 17 in {0.0})\n",
      "      If (feature 6 in {0.0})\n",
      "       If (feature 214 in {0.0})\n",
      "        If (feature 4 in {0.0})\n",
      "         Predict: 1.0\n",
      "        Else (feature 4 not in {0.0})\n",
      "         Predict: 6.0\n",
      "       Else (feature 214 not in {0.0})\n",
      "        If (feature 5 in {0.0})\n",
      "         Predict: 0.0\n",
      "        Else (feature 5 not in {0.0})\n",
      "         Predict: 3.0\n",
      "      Else (feature 6 not in {0.0})\n",
      "       Predict: 5.0\n",
      "     Else (feature 17 not in {0.0})\n",
      "      Predict: 18.0\n",
      "  Tree 6 (weight 1.0):\n",
      "    If (feature 3 in {0.0})\n",
      "     If (feature 6 in {0.0})\n",
      "      If (feature 0 in {0.0})\n",
      "       If (feature 33 in {0.0})\n",
      "        If (feature 12 in {0.0})\n",
      "         Predict: 1.0\n",
      "        Else (feature 12 not in {0.0})\n",
      "         Predict: 12.0\n",
      "       Else (feature 33 not in {0.0})\n",
      "        Predict: 1.0\n",
      "      Else (feature 0 not in {0.0})\n",
      "       Predict: 0.0\n",
      "     Else (feature 6 not in {0.0})\n",
      "      Predict: 5.0\n",
      "    Else (feature 3 not in {0.0})\n",
      "     If (feature 233 <= -87.7776107788086)\n",
      "      If (feature 214 in {0.0})\n",
      "       If (feature 35 in {0.0})\n",
      "        If (feature 61 in {0.0})\n",
      "         Predict: 4.0\n",
      "        Else (feature 61 not in {0.0})\n",
      "         Predict: 3.0\n",
      "       Else (feature 35 not in {0.0})\n",
      "        Predict: 4.0\n",
      "      Else (feature 214 not in {0.0})\n",
      "       If (feature 198 in {0.0})\n",
      "        If (feature 171 in {0.0})\n",
      "         Predict: 4.0\n",
      "        Else (feature 171 not in {0.0})\n",
      "         Predict: 3.0\n",
      "       Else (feature 198 not in {0.0})\n",
      "        Predict: 4.0\n",
      "     Else (feature 233 > -87.7776107788086)\n",
      "      If (feature 187 in {0.0})\n",
      "       If (feature 231 <= 1894607.5)\n",
      "        If (feature 76 in {0.0})\n",
      "         Predict: 4.0\n",
      "        Else (feature 76 not in {0.0})\n",
      "         Predict: 3.0\n",
      "       Else (feature 231 > 1894607.5)\n",
      "        Predict: 4.0\n",
      "      Else (feature 187 not in {0.0})\n",
      "       If (feature 64 in {0.0})\n",
      "        Predict: 4.0\n",
      "       Else (feature 64 not in {0.0})\n",
      "        If (feature 197 in {0.0})\n",
      "         Predict: 4.0\n",
      "        Else (feature 197 not in {0.0})\n",
      "         Predict: 3.0\n",
      "  Tree 7 (weight 1.0):\n",
      "    If (feature 35 in {0.0})\n",
      "     If (feature 59 in {0.0})\n",
      "      If (feature 6 in {0.0})\n",
      "       If (feature 16 in {0.0})\n",
      "        Predict: 0.0\n",
      "       Else (feature 16 not in {0.0})\n",
      "        Predict: 12.0\n",
      "      Else (feature 6 not in {0.0})\n",
      "       Predict: 5.0\n",
      "     Else (feature 59 not in {0.0})\n",
      "      If (feature 10 in {0.0})\n",
      "       If (feature 4 in {0.0})\n",
      "        If (feature 12 in {0.0})\n",
      "         Predict: 0.0\n",
      "        Else (feature 12 not in {0.0})\n",
      "         Predict: 3.0\n",
      "       Else (feature 4 not in {0.0})\n",
      "        If (feature 202 in {0.0})\n",
      "         Predict: 6.0\n",
      "        Else (feature 202 not in {0.0})\n",
      "         Predict: 11.0\n",
      "      Else (feature 10 not in {0.0})\n",
      "       Predict: 3.0\n",
      "    Else (feature 35 not in {0.0})\n",
      "     If (feature 24 in {0.0})\n",
      "      If (feature 185 in {0.0})\n",
      "       If (feature 7 in {0.0})\n",
      "        If (feature 233 <= -87.70471572875977)\n",
      "         Predict: 4.0\n",
      "        Else (feature 233 > -87.70471572875977)\n",
      "         Predict: 1.0\n",
      "       Else (feature 7 not in {0.0})\n",
      "        Predict: 8.0\n",
      "      Else (feature 185 not in {0.0})\n",
      "       If (feature 3 in {0.0})\n",
      "        Predict: 1.0\n",
      "       Else (feature 3 not in {0.0})\n",
      "        Predict: 4.0\n",
      "     Else (feature 24 not in {0.0})\n",
      "      Predict: 3.0\n",
      "  Tree 8 (weight 1.0):\n",
      "    If (feature 2 in {0.0})\n",
      "     If (feature 34 in {0.0})\n",
      "      If (feature 232 <= 41.87922286987305)\n",
      "       If (feature 8 in {0.0})\n",
      "        If (feature 19 in {0.0})\n",
      "         Predict: 0.0\n",
      "        Else (feature 19 not in {0.0})\n",
      "         Predict: 20.0\n",
      "       Else (feature 8 not in {0.0})\n",
      "        Predict: 7.0\n",
      "      Else (feature 232 > 41.87922286987305)\n",
      "       If (feature 7 in {0.0})\n",
      "        If (feature 4 in {0.0})\n",
      "         Predict: 0.0\n",
      "        Else (feature 4 not in {0.0})\n",
      "         Predict: 6.0\n",
      "       Else (feature 7 not in {0.0})\n",
      "        Predict: 8.0\n",
      "     Else (feature 34 not in {0.0})\n",
      "      If (feature 9 in {0.0})\n",
      "       If (feature 7 in {0.0})\n",
      "        If (feature 6 in {0.0})\n",
      "         Predict: 1.0\n",
      "        Else (feature 6 not in {0.0})\n",
      "         Predict: 5.0\n",
      "       Else (feature 7 not in {0.0})\n",
      "        Predict: 8.0\n",
      "      Else (feature 9 not in {0.0})\n",
      "       Predict: 9.0\n",
      "    Else (feature 2 not in {0.0})\n",
      "     Predict: 2.0\n",
      "  Tree 9 (weight 1.0):\n",
      "    If (feature 6 in {0.0})\n",
      "     If (feature 9 in {0.0})\n",
      "      If (feature 11 in {0.0})\n",
      "       If (feature 10 in {0.0})\n",
      "        If (feature 42 in {0.0})\n",
      "         Predict: 0.0\n",
      "        Else (feature 42 not in {0.0})\n",
      "         Predict: 2.0\n",
      "       Else (feature 10 not in {0.0})\n",
      "        Predict: 3.0\n",
      "      Else (feature 11 not in {0.0})\n",
      "       Predict: 13.0\n",
      "     Else (feature 9 not in {0.0})\n",
      "      Predict: 9.0\n",
      "    Else (feature 6 not in {0.0})\n",
      "     Predict: 5.0\n",
      "  Tree 10 (weight 1.0):\n",
      "    If (feature 32 in {0.0})\n",
      "     If (feature 172 in {0.0})\n",
      "      If (feature 4 in {0.0})\n",
      "       If (feature 216 in {0.0})\n",
      "        If (feature 15 in {0.0})\n",
      "         Predict: 1.0\n",
      "        Else (feature 15 not in {0.0})\n",
      "         Predict: 16.0\n",
      "       Else (feature 216 not in {0.0})\n",
      "        If (feature 5 in {0.0})\n",
      "         Predict: 1.0\n",
      "        Else (feature 5 not in {0.0})\n",
      "         Predict: 3.0\n",
      "      Else (feature 4 not in {0.0})\n",
      "       Predict: 6.0\n",
      "     Else (feature 172 not in {0.0})\n",
      "      If (feature 42 in {0.0})\n",
      "       If (feature 171 in {0.0})\n",
      "        If (feature 47 in {0.0})\n",
      "         Predict: 4.0\n",
      "        Else (feature 47 not in {0.0})\n",
      "         Predict: 0.0\n",
      "       Else (feature 171 not in {0.0})\n",
      "        If (feature 34 in {0.0})\n",
      "         Predict: 0.0\n",
      "        Else (feature 34 not in {0.0})\n",
      "         Predict: 5.0\n",
      "      Else (feature 42 not in {0.0})\n",
      "       If (feature 9 in {0.0})\n",
      "        If (feature 8 in {0.0})\n",
      "         Predict: 5.0\n",
      "        Else (feature 8 not in {0.0})\n",
      "         Predict: 7.0\n",
      "       Else (feature 9 not in {0.0})\n",
      "        Predict: 9.0\n",
      "    Else (feature 32 not in {0.0})\n",
      "     If (feature 12 in {0.0})\n",
      "      If (feature 18 in {0.0})\n",
      "       If (feature 232 <= 41.90403366088867)\n",
      "        If (feature 233 <= -87.69887924194336)\n",
      "         Predict: 4.0\n",
      "        Else (feature 233 > -87.69887924194336)\n",
      "         Predict: 0.0\n",
      "       Else (feature 232 > 41.90403366088867)\n",
      "        If (feature 5 in {0.0})\n",
      "         Predict: 0.0\n",
      "        Else (feature 5 not in {0.0})\n",
      "         Predict: 3.0\n",
      "      Else (feature 18 not in {0.0})\n",
      "       Predict: 19.0\n",
      "     Else (feature 12 not in {0.0})\n",
      "      Predict: 12.0\n",
      "  Tree 11 (weight 1.0):\n",
      "    If (feature 8 in {0.0})\n",
      "     If (feature 47 in {0.0})\n",
      "      If (feature 1 in {0.0})\n",
      "       If (feature 182 in {0.0})\n",
      "        If (feature 17 in {0.0})\n",
      "         Predict: 0.0\n",
      "        Else (feature 17 not in {0.0})\n",
      "         Predict: 18.0\n",
      "       Else (feature 182 not in {0.0})\n",
      "        If (feature 23 in {0.0})\n",
      "         Predict: 0.0\n",
      "        Else (feature 23 not in {0.0})\n",
      "         Predict: 6.0\n",
      "      Else (feature 1 not in {0.0})\n",
      "       Predict: 1.0\n",
      "     Else (feature 47 not in {0.0})\n",
      "      If (feature 1 in {0.0})\n",
      "       If (feature 171 in {0.0})\n",
      "        Predict: 0.0\n",
      "       Else (feature 171 not in {0.0})\n",
      "        If (feature 2 in {0.0})\n",
      "         Predict: 0.0\n",
      "        Else (feature 2 not in {0.0})\n",
      "         Predict: 2.0\n",
      "      Else (feature 1 not in {0.0})\n",
      "       If (feature 221 in {0.0})\n",
      "        Predict: 1.0\n",
      "       Else (feature 221 not in {0.0})\n",
      "        If (feature 197 in {0.0})\n",
      "         Predict: 10.0\n",
      "        Else (feature 197 not in {0.0})\n",
      "         Predict: 1.0\n",
      "    Else (feature 8 not in {0.0})\n",
      "     Predict: 7.0\n",
      "  Tree 12 (weight 1.0):\n",
      "    If (feature 4 in {0.0})\n",
      "     If (feature 32 in {0.0})\n",
      "      If (feature 42 in {0.0})\n",
      "       If (feature 18 in {0.0})\n",
      "        If (feature 11 in {0.0})\n",
      "         Predict: 0.0\n",
      "        Else (feature 11 not in {0.0})\n",
      "         Predict: 13.0\n",
      "       Else (feature 18 not in {0.0})\n",
      "        Predict: 19.0\n",
      "      Else (feature 42 not in {0.0})\n",
      "       If (feature 230 <= 1157136.0)\n",
      "        If (feature 1 in {0.0})\n",
      "         Predict: 5.0\n",
      "        Else (feature 1 not in {0.0})\n",
      "         Predict: 1.0\n",
      "       Else (feature 230 > 1157136.0)\n",
      "        If (feature 0 in {0.0})\n",
      "         Predict: 5.0\n",
      "        Else (feature 0 not in {0.0})\n",
      "         Predict: 0.0\n",
      "     Else (feature 32 not in {0.0})\n",
      "      If (feature 18 in {0.0})\n",
      "       If (feature 223 in {0.0})\n",
      "        If (feature 14 in {0.0})\n",
      "         Predict: 0.0\n",
      "        Else (feature 14 not in {0.0})\n",
      "         Predict: 15.0\n",
      "       Else (feature 223 not in {0.0})\n",
      "        If (feature 232 <= 41.748517990112305)\n",
      "         Predict: 0.0\n",
      "        Else (feature 232 > 41.748517990112305)\n",
      "         Predict: 2.0\n",
      "      Else (feature 18 not in {0.0})\n",
      "       Predict: 19.0\n",
      "    Else (feature 4 not in {0.0})\n",
      "     If (feature 231 <= 1921756.5)\n",
      "      If (feature 32 in {0.0})\n",
      "       Predict: 6.0\n",
      "      Else (feature 32 not in {0.0})\n",
      "       If (feature 218 in {0.0})\n",
      "        Predict: 6.0\n",
      "       Else (feature 218 not in {0.0})\n",
      "        If (feature 200 in {0.0})\n",
      "         Predict: 6.0\n",
      "        Else (feature 200 not in {0.0})\n",
      "         Predict: 11.0\n",
      "     Else (feature 231 > 1921756.5)\n",
      "      Predict: 6.0\n",
      "  Tree 13 (weight 1.0):\n",
      "    If (feature 172 in {0.0})\n",
      "     If (feature 12 in {0.0})\n",
      "      If (feature 2 in {0.0})\n",
      "       If (feature 33 in {0.0})\n",
      "        If (feature 15 in {0.0})\n",
      "         Predict: 1.0\n",
      "        Else (feature 15 not in {0.0})\n",
      "         Predict: 16.0\n",
      "       Else (feature 33 not in {0.0})\n",
      "        If (feature 4 in {0.0})\n",
      "         Predict: 1.0\n",
      "        Else (feature 4 not in {0.0})\n",
      "         Predict: 6.0\n",
      "      Else (feature 2 not in {0.0})\n",
      "       Predict: 2.0\n",
      "     Else (feature 12 not in {0.0})\n",
      "      If (feature 35 in {0.0})\n",
      "       If (feature 171 in {0.0})\n",
      "        Predict: 12.0\n",
      "       Else (feature 171 not in {0.0})\n",
      "        Predict: 3.0\n",
      "      Else (feature 35 not in {0.0})\n",
      "       If (feature 230 <= 1135429.0)\n",
      "        Predict: 3.0\n",
      "       Else (feature 230 > 1135429.0)\n",
      "        Predict: 12.0\n",
      "    Else (feature 172 not in {0.0})\n",
      "     If (feature 34 in {0.0})\n",
      "      If (feature 14 in {0.0})\n",
      "       If (feature 35 in {0.0})\n",
      "        If (feature 3 in {0.0})\n",
      "         Predict: 0.0\n",
      "        Else (feature 3 not in {0.0})\n",
      "         Predict: 4.0\n",
      "       Else (feature 35 not in {0.0})\n",
      "        If (feature 9 in {0.0})\n",
      "         Predict: 4.0\n",
      "        Else (feature 9 not in {0.0})\n",
      "         Predict: 9.0\n",
      "      Else (feature 14 not in {0.0})\n",
      "       Predict: 15.0\n",
      "     Else (feature 34 not in {0.0})\n",
      "      If (feature 220 in {0.0})\n",
      "       If (feature 13 in {0.0})\n",
      "        If (feature 0 in {0.0})\n",
      "         Predict: 5.0\n",
      "        Else (feature 0 not in {0.0})\n",
      "         Predict: 0.0\n",
      "       Else (feature 13 not in {0.0})\n",
      "        Predict: 17.0\n",
      "      Else (feature 220 not in {0.0})\n",
      "       If (feature 224 in {0.0})\n",
      "        If (feature 13 in {0.0})\n",
      "         Predict: 5.0\n",
      "        Else (feature 13 not in {0.0})\n",
      "         Predict: 17.0\n",
      "       Else (feature 224 not in {0.0})\n",
      "        If (feature 3 in {0.0})\n",
      "         Predict: 5.0\n",
      "        Else (feature 3 not in {0.0})\n",
      "         Predict: 4.0\n",
      "  Tree 14 (weight 1.0):\n",
      "    If (feature 1 in {0.0})\n",
      "     If (feature 42 in {0.0})\n",
      "      If (feature 35 in {0.0})\n",
      "       If (feature 171 in {0.0})\n",
      "        If (feature 0 in {0.0})\n",
      "         Predict: 4.0\n",
      "        Else (feature 0 not in {0.0})\n",
      "         Predict: 0.0\n",
      "       Else (feature 171 not in {0.0})\n",
      "        If (feature 7 in {0.0})\n",
      "         Predict: 0.0\n",
      "        Else (feature 7 not in {0.0})\n",
      "         Predict: 8.0\n",
      "      Else (feature 35 not in {0.0})\n",
      "       If (feature 12 in {0.0})\n",
      "        If (feature 3 in {0.0})\n",
      "         Predict: 9.0\n",
      "        Else (feature 3 not in {0.0})\n",
      "         Predict: 4.0\n",
      "       Else (feature 12 not in {0.0})\n",
      "        Predict: 12.0\n",
      "     Else (feature 42 not in {0.0})\n",
      "      If (feature 5 in {0.0})\n",
      "       If (feature 187 in {0.0})\n",
      "        If (feature 0 in {0.0})\n",
      "         Predict: 5.0\n",
      "        Else (feature 0 not in {0.0})\n",
      "         Predict: 0.0\n",
      "       Else (feature 187 not in {0.0})\n",
      "        If (feature 0 in {0.0})\n",
      "         Predict: 2.0\n",
      "        Else (feature 0 not in {0.0})\n",
      "         Predict: 0.0\n",
      "      Else (feature 5 not in {0.0})\n",
      "       Predict: 3.0\n",
      "    Else (feature 1 not in {0.0})\n",
      "     Predict: 1.0\n",
      "  Tree 15 (weight 1.0):\n",
      "    If (feature 171 in {0.0})\n",
      "     If (feature 2 in {0.0})\n",
      "      If (feature 9 in {0.0})\n",
      "       If (feature 4 in {0.0})\n",
      "        If (feature 14 in {0.0})\n",
      "         Predict: 4.0\n",
      "        Else (feature 14 not in {0.0})\n",
      "         Predict: 15.0\n",
      "       Else (feature 4 not in {0.0})\n",
      "        Predict: 6.0\n",
      "      Else (feature 9 not in {0.0})\n",
      "       Predict: 9.0\n",
      "     Else (feature 2 not in {0.0})\n",
      "      Predict: 2.0\n",
      "    Else (feature 171 not in {0.0})\n",
      "     If (feature 32 in {0.0})\n",
      "      If (feature 4 in {0.0})\n",
      "       If (feature 35 in {0.0})\n",
      "        Predict: 0.0\n",
      "       Else (feature 35 not in {0.0})\n",
      "        If (feature 172 in {0.0})\n",
      "         Predict: 1.0\n",
      "        Else (feature 172 not in {0.0})\n",
      "         Predict: 9.0\n",
      "      Else (feature 4 not in {0.0})\n",
      "       Predict: 6.0\n",
      "     Else (feature 32 not in {0.0})\n",
      "      If (feature 4 in {0.0})\n",
      "       If (feature 15 in {0.0})\n",
      "        If (feature 2 in {0.0})\n",
      "         Predict: 0.0\n",
      "        Else (feature 2 not in {0.0})\n",
      "         Predict: 2.0\n",
      "       Else (feature 15 not in {0.0})\n",
      "        Predict: 16.0\n",
      "      Else (feature 4 not in {0.0})\n",
      "       If (feature 200 in {0.0})\n",
      "        If (feature 216 in {0.0})\n",
      "         Predict: 6.0\n",
      "        Else (feature 216 not in {0.0})\n",
      "         Predict: 11.0\n",
      "       Else (feature 200 not in {0.0})\n",
      "        If (feature 233 <= -87.64350128173828)\n",
      "         Predict: 11.0\n",
      "        Else (feature 233 > -87.64350128173828)\n",
      "         Predict: 6.0\n",
      "  Tree 16 (weight 1.0):\n",
      "    If (feature 14 in {0.0})\n",
      "     If (feature 5 in {0.0})\n",
      "      If (feature 1 in {0.0})\n",
      "       If (feature 33 in {0.0})\n",
      "        If (feature 9 in {0.0})\n",
      "         Predict: 0.0\n",
      "        Else (feature 9 not in {0.0})\n",
      "         Predict: 9.0\n",
      "       Else (feature 33 not in {0.0})\n",
      "        Predict: 0.0\n",
      "      Else (feature 1 not in {0.0})\n",
      "       Predict: 1.0\n",
      "     Else (feature 5 not in {0.0})\n",
      "      Predict: 3.0\n",
      "    Else (feature 14 not in {0.0})\n",
      "     Predict: 15.0\n",
      "  Tree 17 (weight 1.0):\n",
      "    If (feature 233 <= -87.69161987304688)\n",
      "     If (feature 13 in {0.0})\n",
      "      If (feature 33 in {0.0})\n",
      "       If (feature 2 in {0.0})\n",
      "        If (feature 171 in {0.0})\n",
      "         Predict: 4.0\n",
      "        Else (feature 171 not in {0.0})\n",
      "         Predict: 0.0\n",
      "       Else (feature 2 not in {0.0})\n",
      "        Predict: 2.0\n",
      "      Else (feature 33 not in {0.0})\n",
      "       If (feature 232 <= 41.93155860900879)\n",
      "        Predict: 1.0\n",
      "       Else (feature 232 > 41.93155860900879)\n",
      "        If (feature 4 in {0.0})\n",
      "         Predict: 3.0\n",
      "        Else (feature 4 not in {0.0})\n",
      "         Predict: 6.0\n",
      "     Else (feature 13 not in {0.0})\n",
      "      If (feature 200 in {0.0})\n",
      "       If (feature 228 in {0.0})\n",
      "        If (feature 229 in {0.0})\n",
      "         Predict: 3.0\n",
      "        Else (feature 229 not in {0.0})\n",
      "         Predict: 17.0\n",
      "       Else (feature 228 not in {0.0})\n",
      "        If (feature 202 in {0.0})\n",
      "         Predict: 17.0\n",
      "        Else (feature 202 not in {0.0})\n",
      "         Predict: 3.0\n",
      "      Else (feature 200 not in {0.0})\n",
      "       Predict: 17.0\n",
      "    Else (feature 233 > -87.69161987304688)\n",
      "     If (feature 231 <= 1890739.0)\n",
      "      If (feature 2 in {0.0})\n",
      "       If (feature 9 in {0.0})\n",
      "        Predict: 0.0\n",
      "       Else (feature 9 not in {0.0})\n",
      "        Predict: 9.0\n",
      "      Else (feature 2 not in {0.0})\n",
      "       Predict: 2.0\n",
      "     Else (feature 231 > 1890739.0)\n",
      "      If (feature 1 in {0.0})\n",
      "       If (feature 230 <= 1173903.0)\n",
      "        If (feature 8 in {0.0})\n",
      "         Predict: 0.0\n",
      "        Else (feature 8 not in {0.0})\n",
      "         Predict: 7.0\n",
      "       Else (feature 230 > 1173903.0)\n",
      "        If (feature 5 in {0.0})\n",
      "         Predict: 0.0\n",
      "        Else (feature 5 not in {0.0})\n",
      "         Predict: 3.0\n",
      "      Else (feature 1 not in {0.0})\n",
      "       Predict: 1.0\n",
      "  Tree 18 (weight 1.0):\n",
      "    If (feature 43 in {0.0})\n",
      "     If (feature 11 in {0.0})\n",
      "      If (feature 233 <= -87.69161987304688)\n",
      "       If (feature 8 in {0.0})\n",
      "        If (feature 231 <= 1908326.0)\n",
      "         Predict: 4.0\n",
      "        Else (feature 231 > 1908326.0)\n",
      "         Predict: 0.0\n",
      "       Else (feature 8 not in {0.0})\n",
      "        Predict: 7.0\n",
      "      Else (feature 233 > -87.69161987304688)\n",
      "       If (feature 14 in {0.0})\n",
      "        Predict: 0.0\n",
      "       Else (feature 14 not in {0.0})\n",
      "        Predict: 15.0\n",
      "     Else (feature 11 not in {0.0})\n",
      "      Predict: 13.0\n",
      "    Else (feature 43 not in {0.0})\n",
      "     If (feature 0 in {0.0})\n",
      "      If (feature 197 in {0.0})\n",
      "       If (feature 220 in {0.0})\n",
      "        If (feature 10 in {0.0})\n",
      "         Predict: 8.0\n",
      "        Else (feature 10 not in {0.0})\n",
      "         Predict: 3.0\n",
      "       Else (feature 220 not in {0.0})\n",
      "        If (feature 177 in {0.0})\n",
      "         Predict: 3.0\n",
      "        Else (feature 177 not in {0.0})\n",
      "         Predict: 2.0\n",
      "      Else (feature 197 not in {0.0})\n",
      "       If (feature 7 in {0.0})\n",
      "        If (feature 6 in {0.0})\n",
      "         Predict: 3.0\n",
      "        Else (feature 6 not in {0.0})\n",
      "         Predict: 5.0\n",
      "       Else (feature 7 not in {0.0})\n",
      "        Predict: 8.0\n",
      "     Else (feature 0 not in {0.0})\n",
      "      Predict: 0.0\n",
      "  Tree 19 (weight 1.0):\n",
      "    If (feature 35 in {0.0})\n",
      "     If (feature 171 in {0.0})\n",
      "      If (feature 0 in {0.0})\n",
      "       If (feature 21 in {0.0})\n",
      "        If (feature 16 in {0.0})\n",
      "         Predict: 4.0\n",
      "        Else (feature 16 not in {0.0})\n",
      "         Predict: 12.0\n",
      "       Else (feature 21 not in {0.0})\n",
      "        Predict: 22.0\n",
      "      Else (feature 0 not in {0.0})\n",
      "       Predict: 0.0\n",
      "     Else (feature 171 not in {0.0})\n",
      "      If (feature 1 in {0.0})\n",
      "       If (feature 183 in {0.0})\n",
      "        If (feature 7 in {0.0})\n",
      "         Predict: 0.0\n",
      "        Else (feature 7 not in {0.0})\n",
      "         Predict: 8.0\n",
      "       Else (feature 183 not in {0.0})\n",
      "        If (feature 17 in {0.0})\n",
      "         Predict: 0.0\n",
      "        Else (feature 17 not in {0.0})\n",
      "         Predict: 18.0\n",
      "      Else (feature 1 not in {0.0})\n",
      "       Predict: 1.0\n",
      "    Else (feature 35 not in {0.0})\n",
      "     If (feature 231 <= 1910676.0)\n",
      "      If (feature 9 in {0.0})\n",
      "       If (feature 3 in {0.0})\n",
      "        If (feature 1 in {0.0})\n",
      "         Predict: 0.0\n",
      "        Else (feature 1 not in {0.0})\n",
      "         Predict: 1.0\n",
      "       Else (feature 3 not in {0.0})\n",
      "        Predict: 4.0\n",
      "      Else (feature 9 not in {0.0})\n",
      "       Predict: 9.0\n",
      "     Else (feature 231 > 1910676.0)\n",
      "      If (feature 186 in {0.0})\n",
      "       If (feature 211 in {0.0})\n",
      "        If (feature 171 in {0.0})\n",
      "         Predict: 4.0\n",
      "        Else (feature 171 not in {0.0})\n",
      "         Predict: 1.0\n",
      "       Else (feature 211 not in {0.0})\n",
      "        If (feature 178 in {0.0})\n",
      "         Predict: 4.0\n",
      "        Else (feature 178 not in {0.0})\n",
      "         Predict: 1.0\n",
      "      Else (feature 186 not in {0.0})\n",
      "       If (feature 233 <= -87.63753890991211)\n",
      "        Predict: 0.0\n",
      "       Else (feature 233 > -87.63753890991211)\n",
      "        If (feature 219 in {0.0})\n",
      "         Predict: 0.0\n",
      "        Else (feature 219 not in {0.0})\n",
      "         Predict: 8.0\n",
      "  Tree 20 (weight 1.0):\n",
      "    If (feature 40 in {0.0})\n",
      "     If (feature 171 in {0.0})\n",
      "      If (feature 8 in {0.0})\n",
      "       If (feature 6 in {0.0})\n",
      "        If (feature 5 in {0.0})\n",
      "         Predict: 4.0\n",
      "        Else (feature 5 not in {0.0})\n",
      "         Predict: 3.0\n",
      "       Else (feature 6 not in {0.0})\n",
      "        Predict: 5.0\n",
      "      Else (feature 8 not in {0.0})\n",
      "       Predict: 7.0\n",
      "     Else (feature 171 not in {0.0})\n",
      "      If (feature 34 in {0.0})\n",
      "       If (feature 10 in {0.0})\n",
      "        If (feature 8 in {0.0})\n",
      "         Predict: 0.0\n",
      "        Else (feature 8 not in {0.0})\n",
      "         Predict: 7.0\n",
      "       Else (feature 10 not in {0.0})\n",
      "        Predict: 3.0\n",
      "      Else (feature 34 not in {0.0})\n",
      "       If (feature 223 in {0.0})\n",
      "        If (feature 172 in {0.0})\n",
      "         Predict: 1.0\n",
      "        Else (feature 172 not in {0.0})\n",
      "         Predict: 5.0\n",
      "       Else (feature 223 not in {0.0})\n",
      "        If (feature 6 in {0.0})\n",
      "         Predict: 1.0\n",
      "        Else (feature 6 not in {0.0})\n",
      "         Predict: 5.0\n",
      "    Else (feature 40 not in {0.0})\n",
      "     If (feature 211 in {0.0})\n",
      "      If (feature 0 in {0.0})\n",
      "       If (feature 9 in {0.0})\n",
      "        If (feature 7 in {0.0})\n",
      "         Predict: 3.0\n",
      "        Else (feature 7 not in {0.0})\n",
      "         Predict: 8.0\n",
      "       Else (feature 9 not in {0.0})\n",
      "        Predict: 9.0\n",
      "      Else (feature 0 not in {0.0})\n",
      "       Predict: 0.0\n",
      "     Else (feature 211 not in {0.0})\n",
      "      If (feature 172 in {0.0})\n",
      "       If (feature 4 in {0.0})\n",
      "        Predict: 1.0\n",
      "       Else (feature 4 not in {0.0})\n",
      "        Predict: 6.0\n",
      "      Else (feature 172 not in {0.0})\n",
      "       If (feature 6 in {0.0})\n",
      "        Predict: 0.0\n",
      "       Else (feature 6 not in {0.0})\n",
      "        Predict: 5.0\n",
      "  Tree 21 (weight 1.0):\n",
      "    If (feature 5 in {0.0})\n",
      "     If (feature 32 in {0.0})\n",
      "      If (feature 7 in {0.0})\n",
      "       If (feature 0 in {0.0})\n",
      "        If (feature 171 in {0.0})\n",
      "         Predict: 4.0\n",
      "        Else (feature 171 not in {0.0})\n",
      "         Predict: 1.0\n",
      "       Else (feature 0 not in {0.0})\n",
      "        Predict: 0.0\n",
      "      Else (feature 7 not in {0.0})\n",
      "       If (feature 35 in {0.0})\n",
      "        Predict: 8.0\n",
      "       Else (feature 35 not in {0.0})\n",
      "        If (feature 180 in {0.0})\n",
      "         Predict: 8.0\n",
      "        Else (feature 180 not in {0.0})\n",
      "         Predict: 14.0\n",
      "     Else (feature 32 not in {0.0})\n",
      "      If (feature 172 in {0.0})\n",
      "       If (feature 23 in {0.0})\n",
      "        If (feature 4 in {0.0})\n",
      "         Predict: 1.0\n",
      "        Else (feature 4 not in {0.0})\n",
      "         Predict: 6.0\n",
      "       Else (feature 23 not in {0.0})\n",
      "        If (feature 222 in {0.0})\n",
      "         Predict: 6.0\n",
      "        Else (feature 222 not in {0.0})\n",
      "         Predict: 3.0\n",
      "      Else (feature 172 not in {0.0})\n",
      "       If (feature 8 in {0.0})\n",
      "        If (feature 7 in {0.0})\n",
      "         Predict: 0.0\n",
      "        Else (feature 7 not in {0.0})\n",
      "         Predict: 8.0\n",
      "       Else (feature 8 not in {0.0})\n",
      "        Predict: 7.0\n",
      "    Else (feature 5 not in {0.0})\n",
      "     Predict: 3.0\n",
      "  Tree 22 (weight 1.0):\n",
      "    If (feature 6 in {0.0})\n",
      "     If (feature 42 in {0.0})\n",
      "      If (feature 2 in {0.0})\n",
      "       If (feature 1 in {0.0})\n",
      "        If (feature 8 in {0.0})\n",
      "         Predict: 0.0\n",
      "        Else (feature 8 not in {0.0})\n",
      "         Predict: 7.0\n",
      "       Else (feature 1 not in {0.0})\n",
      "        Predict: 1.0\n",
      "      Else (feature 2 not in {0.0})\n",
      "       Predict: 2.0\n",
      "     Else (feature 42 not in {0.0})\n",
      "      If (feature 12 in {0.0})\n",
      "       If (feature 207 in {0.0})\n",
      "        If (feature 2 in {0.0})\n",
      "         Predict: 0.0\n",
      "        Else (feature 2 not in {0.0})\n",
      "         Predict: 2.0\n",
      "       Else (feature 207 not in {0.0})\n",
      "        Predict: 2.0\n",
      "      Else (feature 12 not in {0.0})\n",
      "       If (feature 230 <= 1182457.0)\n",
      "        Predict: 12.0\n",
      "       Else (feature 230 > 1182457.0)\n",
      "        Predict: 3.0\n",
      "    Else (feature 6 not in {0.0})\n",
      "     Predict: 5.0\n",
      "  Tree 23 (weight 1.0):\n",
      "    If (feature 11 in {0.0})\n",
      "     If (feature 2 in {0.0})\n",
      "      If (feature 32 in {0.0})\n",
      "       If (feature 47 in {0.0})\n",
      "        If (feature 172 in {0.0})\n",
      "         Predict: 1.0\n",
      "        Else (feature 172 not in {0.0})\n",
      "         Predict: 0.0\n",
      "       Else (feature 47 not in {0.0})\n",
      "        Predict: 0.0\n",
      "      Else (feature 32 not in {0.0})\n",
      "       If (feature 233 <= -87.69887924194336)\n",
      "        If (feature 14 in {0.0})\n",
      "         Predict: 0.0\n",
      "        Else (feature 14 not in {0.0})\n",
      "         Predict: 15.0\n",
      "       Else (feature 233 > -87.69887924194336)\n",
      "        If (feature 3 in {0.0})\n",
      "         Predict: 0.0\n",
      "        Else (feature 3 not in {0.0})\n",
      "         Predict: 4.0\n",
      "     Else (feature 2 not in {0.0})\n",
      "      Predict: 2.0\n",
      "    Else (feature 11 not in {0.0})\n",
      "     Predict: 13.0\n",
      "  Tree 24 (weight 1.0):\n",
      "    If (feature 46 in {0.0})\n",
      "     If (feature 230 <= 1159052.5)\n",
      "      If (feature 15 in {0.0})\n",
      "       If (feature 34 in {0.0})\n",
      "        If (feature 17 in {0.0})\n",
      "         Predict: 0.0\n",
      "        Else (feature 17 not in {0.0})\n",
      "         Predict: 18.0\n",
      "       Else (feature 34 not in {0.0})\n",
      "        Predict: 1.0\n",
      "      Else (feature 15 not in {0.0})\n",
      "       Predict: 16.0\n",
      "     Else (feature 230 > 1159052.5)\n",
      "      If (feature 4 in {0.0})\n",
      "       If (feature 3 in {0.0})\n",
      "        If (feature 75 in {0.0})\n",
      "         Predict: 0.0\n",
      "        Else (feature 75 not in {0.0})\n",
      "         Predict: 8.0\n",
      "       Else (feature 3 not in {0.0})\n",
      "        Predict: 4.0\n",
      "      Else (feature 4 not in {0.0})\n",
      "       Predict: 6.0\n",
      "    Else (feature 46 not in {0.0})\n",
      "     If (feature 7 in {0.0})\n",
      "      If (feature 171 in {0.0})\n",
      "       If (feature 0 in {0.0})\n",
      "        If (feature 6 in {0.0})\n",
      "         Predict: 3.0\n",
      "        Else (feature 6 not in {0.0})\n",
      "         Predict: 5.0\n",
      "       Else (feature 0 not in {0.0})\n",
      "        Predict: 0.0\n",
      "      Else (feature 171 not in {0.0})\n",
      "       If (feature 5 in {0.0})\n",
      "        If (feature 0 in {0.0})\n",
      "         Predict: 1.0\n",
      "        Else (feature 0 not in {0.0})\n",
      "         Predict: 0.0\n",
      "       Else (feature 5 not in {0.0})\n",
      "        Predict: 3.0\n",
      "     Else (feature 7 not in {0.0})\n",
      "      If (feature 217 in {0.0})\n",
      "       If (feature 208 in {0.0})\n",
      "        If (feature 194 in {0.0})\n",
      "         Predict: 8.0\n",
      "        Else (feature 194 not in {0.0})\n",
      "         Predict: 14.0\n",
      "       Else (feature 208 not in {0.0})\n",
      "        Predict: 8.0\n",
      "      Else (feature 217 not in {0.0})\n",
      "       Predict: 8.0"
     ]
    }
   ],
   "source": [
    "# Printing the forest obtained from the model\n",
    "print(rfmodel.toDebugString)"
   ]
  },
  {
   "cell_type": "code",
   "execution_count": null,
   "metadata": {},
   "outputs": [],
   "source": []
  },
  {
   "cell_type": "code",
   "execution_count": null,
   "metadata": {},
   "outputs": [],
   "source": []
  },
  {
   "cell_type": "markdown",
   "metadata": {},
   "source": [
    "### Model Prediction"
   ]
  },
  {
   "cell_type": "code",
   "execution_count": 70,
   "metadata": {
    "scrolled": true
   },
   "outputs": [
    {
     "data": {
      "application/vnd.jupyter.widget-view+json": {
       "model_id": "17646a08f1f64185b9cdca49f0344c45",
       "version_major": 2,
       "version_minor": 0
      },
      "text/plain": [
       "VBox()"
      ]
     },
     "metadata": {},
     "output_type": "display_data"
    },
    {
     "data": {
      "application/vnd.jupyter.widget-view+json": {
       "model_id": "",
       "version_major": 2,
       "version_minor": 0
      },
      "text/plain": [
       "FloatProgress(value=0.0, bar_style='info', description='Progress:', layout=Layout(height='25px', width='50%'),…"
      ]
     },
     "metadata": {},
     "output_type": "display_data"
    }
   ],
   "source": [
    "# Applying the model on test set\n",
    "predictions = rfmodel.transform(test)"
   ]
  },
  {
   "cell_type": "code",
   "execution_count": null,
   "metadata": {},
   "outputs": [],
   "source": []
  },
  {
   "cell_type": "code",
   "execution_count": 71,
   "metadata": {},
   "outputs": [
    {
     "data": {
      "application/vnd.jupyter.widget-view+json": {
       "model_id": "86cca10a260a4791a323f93814fa044b",
       "version_major": 2,
       "version_minor": 0
      },
      "text/plain": [
       "VBox()"
      ]
     },
     "metadata": {},
     "output_type": "display_data"
    },
    {
     "data": {
      "application/vnd.jupyter.widget-view+json": {
       "model_id": "",
       "version_major": 2,
       "version_minor": 0
      },
      "text/plain": [
       "FloatProgress(value=0.0, bar_style='info', description='Progress:', layout=Layout(height='25px', width='50%'),…"
      ]
     },
     "metadata": {},
     "output_type": "display_data"
    },
    {
     "name": "stdout",
     "output_type": "stream",
     "text": [
      "DataFrame[Primary Type: string, Location Description: string, Arrest: string, Domestic: string, District: int, FBI Code: string, X Coordinate: float, Y Coordinate: float, Year: int, Latitude: float, Longitude: float, hour: int, day_of_week: int, Primary Type_Index: double, Primary Type_encoded: vector, Location Description_Index: double, Location Description_encoded: vector, Arrest_Index: double, Arrest_encoded: vector, Domestic_Index: double, Domestic_encoded: vector, District_Index: double, District_encoded: vector, Year_Index: double, Year_encoded: vector, hour_Index: double, hour_encoded: vector, day_of_week_Index: double, day_of_week_encoded: vector, label: double, features: vector, rawPrediction: vector, probability: vector, prediction: double]"
     ]
    }
   ],
   "source": [
    "predictions"
   ]
  },
  {
   "cell_type": "code",
   "execution_count": 72,
   "metadata": {},
   "outputs": [
    {
     "data": {
      "application/vnd.jupyter.widget-view+json": {
       "model_id": "030650d10fe54bcaa6ac519ba937b47d",
       "version_major": 2,
       "version_minor": 0
      },
      "text/plain": [
       "VBox()"
      ]
     },
     "metadata": {},
     "output_type": "display_data"
    },
    {
     "data": {
      "application/vnd.jupyter.widget-view+json": {
       "model_id": "",
       "version_major": 2,
       "version_minor": 0
      },
      "text/plain": [
       "FloatProgress(value=0.0, bar_style='info', description='Progress:', layout=Layout(height='25px', width='50%'),…"
      ]
     },
     "metadata": {},
     "output_type": "display_data"
    },
    {
     "name": "stdout",
     "output_type": "stream",
     "text": [
      "+------------+--------------------+------+--------+--------+--------+------------+------------+----+---------+----------+----+-----------+------------------+--------------------+--------------------------+----------------------------+------------+--------------+--------------+----------------+--------------+----------------+----------+-------------+----------+---------------+-----------------+-------------------+-----+--------------------+--------------------+--------------------+----------+\n",
      "|Primary Type|Location Description|Arrest|Domestic|District|FBI Code|X Coordinate|Y Coordinate|Year| Latitude| Longitude|hour|day_of_week|Primary Type_Index|Primary Type_encoded|Location Description_Index|Location Description_encoded|Arrest_Index|Arrest_encoded|Domestic_Index|Domestic_encoded|District_Index|District_encoded|Year_Index| Year_encoded|hour_Index|   hour_encoded|day_of_week_Index|day_of_week_encoded|label|            features|       rawPrediction|         probability|prediction|\n",
      "+------------+--------------------+------+--------+--------+--------+------------+------------+----+---------+----------+----+-----------+------------------+--------------------+--------------------------+----------------------------+------------+--------------+--------------+----------------+--------------+----------------+----------+-------------+----------+---------------+-----------------+-------------------+-----+--------------------+--------------------+--------------------+----------+\n",
      "|       ARSON|  ABANDONED BUILDING| False|   False|       5|      09|   1179529.0|   1832281.0|2013|41.695057| -87.61831|   9|          2|              20.0|     (32,[20],[1.0])|                      33.0|            (139,[33],[1.0])|         0.0| (1,[0],[1.0])|           0.0|   (1,[0],[1.0])|          11.0| (23,[11],[1.0])|       1.0|(5,[1],[1.0])|      13.0|(23,[13],[1.0])|              4.0|      (6,[4],[1.0])| 21.0|(234,[20,65,171,1...|[5.90314750459841...|[0.23612590018393...|       0.0|\n",
      "|       ARSON|  ABANDONED BUILDING| False|   False|       7|      09|   1166120.0|   1861405.0|2016|41.775272| -87.66657|   5|          6|              20.0|     (32,[20],[1.0])|                      33.0|            (139,[33],[1.0])|         0.0| (1,[0],[1.0])|           0.0|   (1,[0],[1.0])|           4.0|  (23,[4],[1.0])|       4.0|(5,[4],[1.0])|      23.0|     (23,[],[])|              0.0|      (6,[0],[1.0])| 21.0|(234,[20,65,171,1...|[5.90314750459841...|[0.23612590018393...|       0.0|\n",
      "|       ARSON|  ABANDONED BUILDING| False|   False|       7|      09|   1167460.0|   1861412.0|2012|41.775265| -87.66167|   4|          2|              20.0|     (32,[20],[1.0])|                      33.0|            (139,[33],[1.0])|         0.0| (1,[0],[1.0])|           0.0|   (1,[0],[1.0])|           4.0|  (23,[4],[1.0])|       0.0|(5,[0],[1.0])|      22.0|(23,[22],[1.0])|              4.0|      (6,[4],[1.0])| 21.0|(234,[20,65,171,1...|[5.90314750459841...|[0.23612590018393...|       0.0|\n",
      "|       ARSON|  ABANDONED BUILDING| False|   False|       7|      09|   1168819.0|   1857687.0|2013| 41.76501| -87.65679|  16|          5|              20.0|     (32,[20],[1.0])|                      33.0|            (139,[33],[1.0])|         0.0| (1,[0],[1.0])|           0.0|   (1,[0],[1.0])|           4.0|  (23,[4],[1.0])|       1.0|(5,[1],[1.0])|       7.0| (23,[7],[1.0])|              3.0|      (6,[3],[1.0])| 21.0|(234,[20,65,171,1...|[5.90314750459841...|[0.23612590018393...|       0.0|\n",
      "|       ARSON|  ABANDONED BUILDING| False|   False|       8|      09|   1162118.0|   1863815.0|2016| 41.78197| -87.68118|   9|          3|              20.0|     (32,[20],[1.0])|                      33.0|            (139,[33],[1.0])|         0.0| (1,[0],[1.0])|           0.0|   (1,[0],[1.0])|           1.0|  (23,[1],[1.0])|       4.0|(5,[4],[1.0])|      13.0|(23,[13],[1.0])|              5.0|      (6,[5],[1.0])| 21.0|(234,[20,65,171,1...|[5.90314750459841...|[0.23612590018393...|       0.0|\n",
      "|       ARSON|  ABANDONED BUILDING|  True|   False|       4|      09|   1196911.0|   1851553.0|2013|41.747528| -87.55403|   5|          2|              20.0|     (32,[20],[1.0])|                      33.0|            (139,[33],[1.0])|         1.0|     (1,[],[])|           0.0|   (1,[0],[1.0])|           3.0|  (23,[3],[1.0])|       1.0|(5,[1],[1.0])|      23.0|     (23,[],[])|              4.0|      (6,[4],[1.0])| 21.0|(234,[20,65,172,1...|[4.54629889653536...|[0.18185195586141...|       0.0|\n",
      "|       ARSON|  ABANDONED BUILDING|  True|   False|       5|      09|   1177652.0|   1828227.0|2012|41.683975|  -87.6253|  10|          5|              20.0|     (32,[20],[1.0])|                      33.0|            (139,[33],[1.0])|         1.0|     (1,[],[])|           0.0|   (1,[0],[1.0])|          11.0| (23,[11],[1.0])|       0.0|(5,[0],[1.0])|      14.0|(23,[14],[1.0])|              3.0|      (6,[3],[1.0])| 21.0|(234,[20,65,172,1...|[4.54629889653536...|[0.18185195586141...|       0.0|\n",
      "|       ARSON|               ALLEY| False|   False|       4|      09|   1187075.0|   1852893.0|2015|41.751442| -87.59003|   2|          4|              20.0|     (32,[20],[1.0])|                       6.0|             (139,[6],[1.0])|         0.0| (1,[0],[1.0])|           0.0|   (1,[0],[1.0])|           3.0|  (23,[3],[1.0])|       3.0|(5,[3],[1.0])|      18.0|(23,[18],[1.0])|              2.0|      (6,[2],[1.0])| 21.0|(234,[20,38,171,1...|[5.77726835296736...|[0.23109073411869...|       0.0|\n",
      "|       ARSON|               ALLEY| False|   False|       8|      09|   1149571.0|   1847603.0|2012|41.737732|  -87.7276|   2|          5|              20.0|     (32,[20],[1.0])|                       6.0|             (139,[6],[1.0])|         0.0| (1,[0],[1.0])|           0.0|   (1,[0],[1.0])|           1.0|  (23,[1],[1.0])|       0.0|(5,[0],[1.0])|      18.0|(23,[18],[1.0])|              3.0|      (6,[3],[1.0])| 21.0|(234,[20,38,171,1...|[5.66200951273795...|[0.22648038050951...|       0.0|\n",
      "|       ARSON|               ALLEY| False|   False|       9|      09|   1154015.0|   1878527.0|2012|41.822506|-87.710495|  20|          7|              20.0|     (32,[20],[1.0])|                       6.0|             (139,[6],[1.0])|         0.0| (1,[0],[1.0])|           0.0|   (1,[0],[1.0])|           7.0|  (23,[7],[1.0])|       0.0|(5,[0],[1.0])|       3.0| (23,[3],[1.0])|              1.0|      (6,[1],[1.0])| 21.0|(234,[20,38,171,1...|[5.66200951273795...|[0.22648038050951...|       0.0|\n",
      "|       ARSON|               ALLEY| False|   False|      14|      09|   1160130.0|   1910141.0|2016|41.909134| -87.68719|   5|          7|              20.0|     (32,[20],[1.0])|                       6.0|             (139,[6],[1.0])|         0.0| (1,[0],[1.0])|           0.0|   (1,[0],[1.0])|          16.0| (23,[16],[1.0])|       4.0|(5,[4],[1.0])|      23.0|     (23,[],[])|              1.0|      (6,[1],[1.0])| 21.0|(234,[20,38,171,1...|[6.13626439709002...|[0.24545057588360...|       0.0|\n",
      "|       ARSON|               ALLEY| False|   False|      15|      09|   1143323.0|   1897786.0|2012| 41.87556|-87.749245|  20|          1|              20.0|     (32,[20],[1.0])|                       6.0|             (139,[6],[1.0])|         0.0| (1,[0],[1.0])|           0.0|   (1,[0],[1.0])|          12.0| (23,[12],[1.0])|       0.0|(5,[0],[1.0])|       3.0| (23,[3],[1.0])|              6.0|          (6,[],[])| 21.0|(234,[20,38,171,1...|[5.66200951273795...|[0.22648038050951...|       0.0|\n",
      "|       ARSON|               ALLEY| False|   False|      16|      09|   1129848.0|   1936371.0|2012|41.981686| -87.79783|   3|          7|              20.0|     (32,[20],[1.0])|                       6.0|             (139,[6],[1.0])|         0.0| (1,[0],[1.0])|           0.0|   (1,[0],[1.0])|          17.0| (23,[17],[1.0])|       0.0|(5,[0],[1.0])|      20.0|(23,[20],[1.0])|              1.0|      (6,[1],[1.0])| 21.0|(234,[20,38,171,1...|[5.89951072005886...|[0.23598042880235...|       0.0|\n",
      "|       ARSON|               ALLEY| False|   False|      19|      09|   1163224.0|   1924594.0|2013| 41.94873|-87.675415|   0|          5|              20.0|     (32,[20],[1.0])|                       6.0|             (139,[6],[1.0])|         0.0| (1,[0],[1.0])|           0.0|   (1,[0],[1.0])|          10.0| (23,[10],[1.0])|       1.0|(5,[1],[1.0])|      11.0|(23,[11],[1.0])|              3.0|      (6,[3],[1.0])| 21.0|(234,[20,38,171,1...|[6.23364769263686...|[0.24934590770547...|       0.0|\n",
      "|       ARSON|               ALLEY| False|   False|      19|      09|   1167095.0|   1916066.0|2012|41.925247| -87.66143|   0|          1|              20.0|     (32,[20],[1.0])|                       6.0|             (139,[6],[1.0])|         0.0| (1,[0],[1.0])|           0.0|   (1,[0],[1.0])|          10.0| (23,[10],[1.0])|       0.0|(5,[0],[1.0])|      11.0|(23,[11],[1.0])|              6.0|          (6,[],[])| 21.0|(234,[20,38,171,1...|[6.23364769263686...|[0.24934590770547...|       0.0|\n",
      "|       ARSON|               ALLEY| False|   False|      25|      09|   1142996.0|   1912348.0|2012|41.915527| -87.75008|   1|          1|              20.0|     (32,[20],[1.0])|                       6.0|             (139,[6],[1.0])|         0.0| (1,[0],[1.0])|           0.0|   (1,[0],[1.0])|           5.0|  (23,[5],[1.0])|       0.0|(5,[0],[1.0])|      17.0|(23,[17],[1.0])|              6.0|          (6,[],[])| 21.0|(234,[20,38,171,1...|[5.89951072005886...|[0.23598042880235...|       0.0|\n",
      "|       ARSON|               ALLEY|  True|   False|      24|      09|   1161712.0|   1945340.0|2012| 42.00569|  -87.6804|   0|          1|              20.0|     (32,[20],[1.0])|                       6.0|             (139,[6],[1.0])|         1.0|     (1,[],[])|           0.0|   (1,[0],[1.0])|          20.0| (23,[20],[1.0])|       0.0|(5,[0],[1.0])|      11.0|(23,[11],[1.0])|              6.0|          (6,[],[])| 21.0|(234,[20,38,172,1...|[4.77941578902698...|[0.19117663156107...|       0.0|\n",
      "|       ARSON|           APARTMENT| False|   False|       3|      09|   1180013.0|   1862902.0|2012| 41.77907|  -87.6156|   0|          2|              20.0|     (32,[20],[1.0])|                       2.0|             (139,[2],[1.0])|         0.0| (1,[0],[1.0])|           0.0|   (1,[0],[1.0])|           6.0|  (23,[6],[1.0])|       0.0|(5,[0],[1.0])|      11.0|(23,[11],[1.0])|              4.0|      (6,[4],[1.0])| 21.0|(234,[20,34,171,1...|[5.19205080336440...|[0.20768203213457...|       0.0|\n",
      "|       ARSON|           APARTMENT| False|   False|       3|      09|   1184846.0|   1863874.0|2012|41.781628|-87.597855|  15|          5|              20.0|     (32,[20],[1.0])|                       2.0|             (139,[2],[1.0])|         0.0| (1,[0],[1.0])|           0.0|   (1,[0],[1.0])|           6.0|  (23,[6],[1.0])|       0.0|(5,[0],[1.0])|       4.0| (23,[4],[1.0])|              3.0|      (6,[3],[1.0])| 21.0|(234,[20,34,171,1...|[5.19205080336440...|[0.20768203213457...|       0.0|\n",
      "|       ARSON|           APARTMENT| False|   False|       3|      09|   1193932.0|   1856250.0|2012| 41.76049| -87.56479|   0|          2|              20.0|     (32,[20],[1.0])|                       2.0|             (139,[2],[1.0])|         0.0| (1,[0],[1.0])|           0.0|   (1,[0],[1.0])|           6.0|  (23,[6],[1.0])|       0.0|(5,[0],[1.0])|      11.0|(23,[11],[1.0])|              4.0|      (6,[4],[1.0])| 21.0|(234,[20,34,171,1...|[5.19205080336440...|[0.20768203213457...|       0.0|\n",
      "+------------+--------------------+------+--------+--------+--------+------------+------------+----+---------+----------+----+-----------+------------------+--------------------+--------------------------+----------------------------+------------+--------------+--------------+----------------+--------------+----------------+----------+-------------+----------+---------------+-----------------+-------------------+-----+--------------------+--------------------+--------------------+----------+\n",
      "only showing top 20 rows"
     ]
    }
   ],
   "source": [
    "predictions.show()"
   ]
  },
  {
   "cell_type": "code",
   "execution_count": 73,
   "metadata": {
    "scrolled": true
   },
   "outputs": [
    {
     "data": {
      "application/vnd.jupyter.widget-view+json": {
       "model_id": "e64f24c4420a470eaee621de6c99920a",
       "version_major": 2,
       "version_minor": 0
      },
      "text/plain": [
       "VBox()"
      ]
     },
     "metadata": {},
     "output_type": "display_data"
    },
    {
     "data": {
      "application/vnd.jupyter.widget-view+json": {
       "model_id": "",
       "version_major": 2,
       "version_minor": 0
      },
      "text/plain": [
       "FloatProgress(value=0.0, bar_style='info', description='Progress:', layout=Layout(height='25px', width='50%'),…"
      ]
     },
     "metadata": {},
     "output_type": "display_data"
    },
    {
     "name": "stdout",
     "output_type": "stream",
     "text": [
      "+-----+--------------------+----------+--------------------+\n",
      "|label|       rawPrediction|prediction|         probability|\n",
      "+-----+--------------------+----------+--------------------+\n",
      "| 21.0|[5.90314750459841...|       0.0|[0.23612590018393...|\n",
      "| 21.0|[5.90314750459841...|       0.0|[0.23612590018393...|\n",
      "| 21.0|[5.90314750459841...|       0.0|[0.23612590018393...|\n",
      "| 21.0|[5.90314750459841...|       0.0|[0.23612590018393...|\n",
      "| 21.0|[5.90314750459841...|       0.0|[0.23612590018393...|\n",
      "| 21.0|[4.54629889653536...|       0.0|[0.18185195586141...|\n",
      "| 21.0|[4.54629889653536...|       0.0|[0.18185195586141...|\n",
      "| 21.0|[5.77726835296736...|       0.0|[0.23109073411869...|\n",
      "| 21.0|[5.66200951273795...|       0.0|[0.22648038050951...|\n",
      "| 21.0|[5.66200951273795...|       0.0|[0.22648038050951...|\n",
      "+-----+--------------------+----------+--------------------+\n",
      "only showing top 10 rows"
     ]
    }
   ],
   "source": [
    "# Printing the required columns\n",
    "predictions.select('label', 'rawPrediction', 'prediction', 'probability').show(10)"
   ]
  },
  {
   "cell_type": "code",
   "execution_count": null,
   "metadata": {},
   "outputs": [],
   "source": []
  },
  {
   "cell_type": "code",
   "execution_count": null,
   "metadata": {},
   "outputs": [],
   "source": []
  },
  {
   "cell_type": "markdown",
   "metadata": {},
   "source": [
    "### Model Evaluation"
   ]
  },
  {
   "cell_type": "code",
   "execution_count": 74,
   "metadata": {},
   "outputs": [
    {
     "data": {
      "application/vnd.jupyter.widget-view+json": {
       "model_id": "65fc8317e56b473790cc3c05b35aeeff",
       "version_major": 2,
       "version_minor": 0
      },
      "text/plain": [
       "VBox()"
      ]
     },
     "metadata": {},
     "output_type": "display_data"
    },
    {
     "data": {
      "application/vnd.jupyter.widget-view+json": {
       "model_id": "",
       "version_major": 2,
       "version_minor": 0
      },
      "text/plain": [
       "FloatProgress(value=0.0, bar_style='info', description='Progress:', layout=Layout(height='25px', width='50%'),…"
      ]
     },
     "metadata": {},
     "output_type": "display_data"
    }
   ],
   "source": [
    "# Model evaluation\n",
    "from pyspark.ml.evaluation import MulticlassClassificationEvaluator\n",
    "\n",
    "\n",
    "evaluator = MulticlassClassificationEvaluator(labelCol=\"label\", predictionCol=\"prediction\", metricName=\"accuracy\")\n",
    "\n"
   ]
  },
  {
   "cell_type": "code",
   "execution_count": null,
   "metadata": {},
   "outputs": [],
   "source": []
  },
  {
   "cell_type": "code",
   "execution_count": 75,
   "metadata": {},
   "outputs": [
    {
     "data": {
      "application/vnd.jupyter.widget-view+json": {
       "model_id": "e43e8aa75e614b51afc821af7fb6ec89",
       "version_major": 2,
       "version_minor": 0
      },
      "text/plain": [
       "VBox()"
      ]
     },
     "metadata": {},
     "output_type": "display_data"
    },
    {
     "data": {
      "application/vnd.jupyter.widget-view+json": {
       "model_id": "",
       "version_major": 2,
       "version_minor": 0
      },
      "text/plain": [
       "FloatProgress(value=0.0, bar_style='info', description='Progress:', layout=Layout(height='25px', width='50%'),…"
      ]
     },
     "metadata": {},
     "output_type": "display_data"
    }
   ],
   "source": [
    "\n",
    "accuracy = evaluator.evaluate(predictions)"
   ]
  },
  {
   "cell_type": "code",
   "execution_count": 78,
   "metadata": {
    "scrolled": true
   },
   "outputs": [
    {
     "data": {
      "application/vnd.jupyter.widget-view+json": {
       "model_id": "069c4d72397f44d7ba5ffd1d0f6b7d08",
       "version_major": 2,
       "version_minor": 0
      },
      "text/plain": [
       "VBox()"
      ]
     },
     "metadata": {},
     "output_type": "display_data"
    },
    {
     "data": {
      "application/vnd.jupyter.widget-view+json": {
       "model_id": "",
       "version_major": 2,
       "version_minor": 0
      },
      "text/plain": [
       "FloatProgress(value=0.0, bar_style='info', description='Progress:', layout=Layout(height='25px', width='50%'),…"
      ]
     },
     "metadata": {},
     "output_type": "display_data"
    },
    {
     "name": "stdout",
     "output_type": "stream",
     "text": [
      "0.8108726195474472"
     ]
    }
   ],
   "source": [
    "# Model Accuracy\n",
    "print(accuracy)"
   ]
  },
  {
   "cell_type": "code",
   "execution_count": null,
   "metadata": {},
   "outputs": [],
   "source": []
  },
  {
   "cell_type": "code",
   "execution_count": null,
   "metadata": {},
   "outputs": [],
   "source": []
  },
  {
   "cell_type": "code",
   "execution_count": 79,
   "metadata": {},
   "outputs": [
    {
     "data": {
      "application/vnd.jupyter.widget-view+json": {
       "model_id": "8c8105b748e141b8a97ea05a19a3999d",
       "version_major": 2,
       "version_minor": 0
      },
      "text/plain": [
       "VBox()"
      ]
     },
     "metadata": {},
     "output_type": "display_data"
    },
    {
     "data": {
      "application/vnd.jupyter.widget-view+json": {
       "model_id": "",
       "version_major": 2,
       "version_minor": 0
      },
      "text/plain": [
       "FloatProgress(value=0.0, bar_style='info', description='Progress:', layout=Layout(height='25px', width='50%'),…"
      ]
     },
     "metadata": {},
     "output_type": "display_data"
    },
    {
     "name": "stdout",
     "output_type": "stream",
     "text": [
      "Test Error = 0.189127"
     ]
    }
   ],
   "source": [
    "# Test Error\n",
    "print(\"Test Error = %g\" % (1.0 - accuracy))"
   ]
  },
  {
   "cell_type": "code",
   "execution_count": null,
   "metadata": {
    "scrolled": true
   },
   "outputs": [],
   "source": []
  },
  {
   "cell_type": "markdown",
   "metadata": {},
   "source": [
    "### Feature Importance"
   ]
  },
  {
   "cell_type": "code",
   "execution_count": 80,
   "metadata": {},
   "outputs": [
    {
     "data": {
      "application/vnd.jupyter.widget-view+json": {
       "model_id": "4ff861b1362144bdbf267ebd49bb2152",
       "version_major": 2,
       "version_minor": 0
      },
      "text/plain": [
       "VBox()"
      ]
     },
     "metadata": {},
     "output_type": "display_data"
    },
    {
     "data": {
      "application/vnd.jupyter.widget-view+json": {
       "model_id": "",
       "version_major": 2,
       "version_minor": 0
      },
      "text/plain": [
       "FloatProgress(value=0.0, bar_style='info', description='Progress:', layout=Layout(height='25px', width='50%'),…"
      ]
     },
     "metadata": {},
     "output_type": "display_data"
    },
    {
     "name": "stdout",
     "output_type": "stream",
     "text": [
      "SparseVector(234, {0: 0.1229, 1: 0.1334, 2: 0.0996, 3: 0.0897, 4: 0.0622, 5: 0.0228, 6: 0.1022, 7: 0.0398, 8: 0.0733, 9: 0.0412, 10: 0.0101, 11: 0.0269, 12: 0.0026, 13: 0.001, 14: 0.0091, 15: 0.0015, 16: 0.0029, 17: 0.0025, 18: 0.0016, 19: 0.0005, 21: 0.0002, 23: 0.0, 24: 0.0, 32: 0.0129, 33: 0.0051, 34: 0.0086, 35: 0.0137, 38: 0.0002, 40: 0.001, 42: 0.0054, 43: 0.0008, 46: 0.0043, 47: 0.0025, 59: 0.0004, 61: 0.0, 64: 0.0, 71: 0.0, 75: 0.0004, 76: 0.0, 171: 0.0475, 172: 0.0405, 173: 0.0009, 176: 0.0, 177: 0.0, 178: 0.0, 179: 0.0, 180: 0.0, 182: 0.0001, 183: 0.0001, 185: 0.0002, 186: 0.0, 187: 0.0, 190: 0.0, 194: 0.0, 197: 0.0, 198: 0.0, 200: 0.0001, 202: 0.0, 207: 0.0, 208: 0.0, 211: 0.0, 214: 0.0001, 216: 0.0, 217: 0.0, 218: 0.0, 219: 0.0, 220: 0.0001, 221: 0.0, 222: 0.0, 223: 0.0001, 224: 0.0, 228: 0.0, 229: 0.0, 230: 0.0014, 231: 0.0037, 232: 0.001, 233: 0.0031})"
     ]
    }
   ],
   "source": [
    "# Feature Importance\n",
    "rfmodel.featureImportances"
   ]
  },
  {
   "cell_type": "code",
   "execution_count": null,
   "metadata": {},
   "outputs": [],
   "source": []
  },
  {
   "cell_type": "code",
   "execution_count": 81,
   "metadata": {},
   "outputs": [
    {
     "data": {
      "application/vnd.jupyter.widget-view+json": {
       "model_id": "6f4b9ea8c9ab4a3885fee48a93ee19e9",
       "version_major": 2,
       "version_minor": 0
      },
      "text/plain": [
       "VBox()"
      ]
     },
     "metadata": {},
     "output_type": "display_data"
    },
    {
     "data": {
      "application/vnd.jupyter.widget-view+json": {
       "model_id": "",
       "version_major": 2,
       "version_minor": 0
      },
      "text/plain": [
       "FloatProgress(value=0.0, bar_style='info', description='Progress:', layout=Layout(height='25px', width='50%'),…"
      ]
     },
     "metadata": {},
     "output_type": "display_data"
    }
   ],
   "source": [
    "# Defining a function to extract features along with the feature importance score\n",
    "import pandas as pd\n",
    "def ExtractFeatureImp(featureImp, dataset, featuresCol):\n",
    "    list_extract = []\n",
    "    for i in dataset.schema[featuresCol].metadata[\"ml_attr\"][\"attrs\"]:\n",
    "        list_extract = list_extract + dataset.schema[featuresCol].metadata[\"ml_attr\"][\"attrs\"][i]\n",
    "    varlist = pd.DataFrame(list_extract)\n",
    "    varlist['score'] = varlist['idx'].apply(lambda x: featureImp[x])\n",
    "    return(varlist.sort_values('score', ascending = False))"
   ]
  },
  {
   "cell_type": "code",
   "execution_count": null,
   "metadata": {},
   "outputs": [],
   "source": []
  },
  {
   "cell_type": "code",
   "execution_count": 82,
   "metadata": {},
   "outputs": [
    {
     "data": {
      "application/vnd.jupyter.widget-view+json": {
       "model_id": "08e4e654988f40979ee63f7aea677269",
       "version_major": 2,
       "version_minor": 0
      },
      "text/plain": [
       "VBox()"
      ]
     },
     "metadata": {},
     "output_type": "display_data"
    },
    {
     "data": {
      "application/vnd.jupyter.widget-view+json": {
       "model_id": "",
       "version_major": 2,
       "version_minor": 0
      },
      "text/plain": [
       "FloatProgress(value=0.0, bar_style='info', description='Progress:', layout=Layout(height='25px', width='50%'),…"
      ]
     },
     "metadata": {},
     "output_type": "display_data"
    },
    {
     "name": "stdout",
     "output_type": "stream",
     "text": [
      "     idx                                      name     score\n",
      "5      1              Primary Type_encoded_BATTERY  0.133352\n",
      "4      0                Primary Type_encoded_THEFT  0.122880\n",
      "10     6             Primary Type_encoded_BURGLARY  0.102159\n",
      "6      2      Primary Type_encoded_CRIMINAL DAMAGE  0.099569\n",
      "7      3            Primary Type_encoded_NARCOTICS  0.089723\n",
      "12     8  Primary Type_encoded_MOTOR VEHICLE THEFT  0.073267\n",
      "8      4              Primary Type_encoded_ASSAULT  0.062191\n",
      "175  171                      Arrest_encoded_False  0.047516\n",
      "13     9              Primary Type_encoded_ROBBERY  0.041180\n",
      "176  172                    Domestic_encoded_False  0.040514"
     ]
    }
   ],
   "source": [
    "# Printing the feature importance scores\n",
    "ExtractFeatureImp(rfmodel.featureImportances, predictions, \"features\").head(10)"
   ]
  },
  {
   "cell_type": "code",
   "execution_count": null,
   "metadata": {},
   "outputs": [],
   "source": []
  },
  {
   "cell_type": "code",
   "execution_count": null,
   "metadata": {},
   "outputs": [],
   "source": []
  },
  {
   "cell_type": "code",
   "execution_count": null,
   "metadata": {},
   "outputs": [],
   "source": []
  }
 ],
 "metadata": {
  "kernelspec": {
   "display_name": "PySpark",
   "language": "",
   "name": "pysparkkernel"
  },
  "language_info": {
   "codemirror_mode": {
    "name": "python",
    "version": 2
   },
   "mimetype": "text/x-python",
   "name": "pyspark",
   "pygments_lexer": "python2"
  }
 },
 "nbformat": 4,
 "nbformat_minor": 4
}
